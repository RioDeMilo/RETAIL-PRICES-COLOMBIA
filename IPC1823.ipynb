{
  "cells": [
    {
      "cell_type": "markdown",
      "metadata": {
        "id": "view-in-github",
        "colab_type": "text"
      },
      "source": [
        "<a href=\"https://colab.research.google.com/github/RioDeMilo/RETAIL-PRICES-COLOMBIA/blob/main/IPC1823.ipynb\" target=\"_parent\"><img src=\"https://colab.research.google.com/assets/colab-badge.svg\" alt=\"Open In Colab\"/></a>"
      ]
    },
    {
      "cell_type": "code",
      "execution_count": null,
      "metadata": {
        "id": "MDVyyn1qbkAk"
      },
      "outputs": [],
      "source": [
        "# Here it is all the libraries that i need in order to manage the data and to plot it `\n",
        "import scipy as sci\n",
        "import numpy as np\n",
        "import pandas as pd\n",
        "import matplotlib.pyplot as plt\n",
        "import seaborn as sns\n",
        "from scipy import stats\n",
        "from scipy.stats import linregress\n",
        "import matplotlib.dates as mdates"
      ]
    },
    {
      "cell_type": "code",
      "execution_count": null,
      "metadata": {
        "id": "yZZH-lABb_n6"
      },
      "outputs": [],
      "source": [
        "# for this project i previously modified all the data from each year of analysis to a sngle sheet page in excel. \n",
        "df = pd.read_excel('/content/Gropu19-22.xlsx')"
      ]
    },
    {
      "cell_type": "code",
      "execution_count": null,
      "metadata": {
        "id": "_z_ML2YjgHVp"
      },
      "outputs": [],
      "source": [
        "# This will get you the specified sheet page for further use.\n",
        "# but for this case i used a excel file ith only one page so it is not necessary and you need to ad the datafrme and a dicttionary ith the name of the pages like\n",
        "# sheet_name=['Hoja1']\n",
        "#df = df.get('Hoja1')\n"
      ]
    },
    {
      "cell_type": "markdown",
      "source": [
        "# Data preparing\n",
        "### Now we want to specify wheter we want to plot a spicified type of product \n",
        "but we should be able to see what type of products are available for comparison\n",
        "\n",
        "```\n",
        "# Tiene formato de código\n",
        "```\n",
        "\n"
      ],
      "metadata": {
        "id": "uQAZ4lrc6J16"
      }
    },
    {
      "cell_type": "code",
      "execution_count": null,
      "metadata": {
        "id": "gFuIqz_ogZBY",
        "colab": {
          "base_uri": "https://localhost:8080/",
          "height": 424
        },
        "outputId": "624c2563-94ef-45cf-a187-b321a4660235"
      },
      "outputs": [
        {
          "output_type": "stream",
          "name": "stdout",
          "text": [
            "<class 'pandas.core.frame.DataFrame'>\n",
            "RangeIndex: 220517 entries, 0 to 220516\n",
            "Data columns (total 5 columns):\n",
            " #   Column                  Non-Null Count   Dtype         \n",
            "---  ------                  --------------   -----         \n",
            " 0   Fecha                   220517 non-null  datetime64[ns]\n",
            " 1   Grupo                   220517 non-null  object        \n",
            " 2   Producto                220517 non-null  object        \n",
            " 3   Fuente                  220517 non-null  object        \n",
            " 4   Precio  por kilogramo*  220517 non-null  float64       \n",
            "dtypes: datetime64[ns](1), float64(1), object(3)\n",
            "memory usage: 8.4+ MB\n"
          ]
        },
        {
          "output_type": "execute_result",
          "data": {
            "text/plain": [
              "       Fecha                  Grupo Producto                        Fuente  \\\n",
              "0 2019-01-01  VERDURAS Y HORTALIZAS   Acelga               Armenia, Mercar   \n",
              "1 2019-01-01  VERDURAS Y HORTALIZAS   Acelga  Barranquilla, Barranquillita   \n",
              "2 2019-01-01  VERDURAS Y HORTALIZAS   Acelga      Bogotá, D.C., Corabastos   \n",
              "3 2019-01-01  VERDURAS Y HORTALIZAS   Acelga    Bucaramanga, Centroabastos   \n",
              "4 2019-01-01  VERDURAS Y HORTALIZAS   Acelga         Chiquinquirá (Boyacá)   \n",
              "\n",
              "   Precio  por kilogramo*  \n",
              "0                  1065.0  \n",
              "1                  3000.0  \n",
              "2                   764.0  \n",
              "3                  1556.0  \n",
              "4                  1058.0  "
            ],
            "text/html": [
              "\n",
              "  <div id=\"df-f2a2f615-76eb-407d-ae18-d3eed9df14d6\">\n",
              "    <div class=\"colab-df-container\">\n",
              "      <div>\n",
              "<style scoped>\n",
              "    .dataframe tbody tr th:only-of-type {\n",
              "        vertical-align: middle;\n",
              "    }\n",
              "\n",
              "    .dataframe tbody tr th {\n",
              "        vertical-align: top;\n",
              "    }\n",
              "\n",
              "    .dataframe thead th {\n",
              "        text-align: right;\n",
              "    }\n",
              "</style>\n",
              "<table border=\"1\" class=\"dataframe\">\n",
              "  <thead>\n",
              "    <tr style=\"text-align: right;\">\n",
              "      <th></th>\n",
              "      <th>Fecha</th>\n",
              "      <th>Grupo</th>\n",
              "      <th>Producto</th>\n",
              "      <th>Fuente</th>\n",
              "      <th>Precio  por kilogramo*</th>\n",
              "    </tr>\n",
              "  </thead>\n",
              "  <tbody>\n",
              "    <tr>\n",
              "      <th>0</th>\n",
              "      <td>2019-01-01</td>\n",
              "      <td>VERDURAS Y HORTALIZAS</td>\n",
              "      <td>Acelga</td>\n",
              "      <td>Armenia, Mercar</td>\n",
              "      <td>1065.0</td>\n",
              "    </tr>\n",
              "    <tr>\n",
              "      <th>1</th>\n",
              "      <td>2019-01-01</td>\n",
              "      <td>VERDURAS Y HORTALIZAS</td>\n",
              "      <td>Acelga</td>\n",
              "      <td>Barranquilla, Barranquillita</td>\n",
              "      <td>3000.0</td>\n",
              "    </tr>\n",
              "    <tr>\n",
              "      <th>2</th>\n",
              "      <td>2019-01-01</td>\n",
              "      <td>VERDURAS Y HORTALIZAS</td>\n",
              "      <td>Acelga</td>\n",
              "      <td>Bogotá, D.C., Corabastos</td>\n",
              "      <td>764.0</td>\n",
              "    </tr>\n",
              "    <tr>\n",
              "      <th>3</th>\n",
              "      <td>2019-01-01</td>\n",
              "      <td>VERDURAS Y HORTALIZAS</td>\n",
              "      <td>Acelga</td>\n",
              "      <td>Bucaramanga, Centroabastos</td>\n",
              "      <td>1556.0</td>\n",
              "    </tr>\n",
              "    <tr>\n",
              "      <th>4</th>\n",
              "      <td>2019-01-01</td>\n",
              "      <td>VERDURAS Y HORTALIZAS</td>\n",
              "      <td>Acelga</td>\n",
              "      <td>Chiquinquirá (Boyacá)</td>\n",
              "      <td>1058.0</td>\n",
              "    </tr>\n",
              "  </tbody>\n",
              "</table>\n",
              "</div>\n",
              "      <button class=\"colab-df-convert\" onclick=\"convertToInteractive('df-f2a2f615-76eb-407d-ae18-d3eed9df14d6')\"\n",
              "              title=\"Convert this dataframe to an interactive table.\"\n",
              "              style=\"display:none;\">\n",
              "        \n",
              "  <svg xmlns=\"http://www.w3.org/2000/svg\" height=\"24px\"viewBox=\"0 0 24 24\"\n",
              "       width=\"24px\">\n",
              "    <path d=\"M0 0h24v24H0V0z\" fill=\"none\"/>\n",
              "    <path d=\"M18.56 5.44l.94 2.06.94-2.06 2.06-.94-2.06-.94-.94-2.06-.94 2.06-2.06.94zm-11 1L8.5 8.5l.94-2.06 2.06-.94-2.06-.94L8.5 2.5l-.94 2.06-2.06.94zm10 10l.94 2.06.94-2.06 2.06-.94-2.06-.94-.94-2.06-.94 2.06-2.06.94z\"/><path d=\"M17.41 7.96l-1.37-1.37c-.4-.4-.92-.59-1.43-.59-.52 0-1.04.2-1.43.59L10.3 9.45l-7.72 7.72c-.78.78-.78 2.05 0 2.83L4 21.41c.39.39.9.59 1.41.59.51 0 1.02-.2 1.41-.59l7.78-7.78 2.81-2.81c.8-.78.8-2.07 0-2.86zM5.41 20L4 18.59l7.72-7.72 1.47 1.35L5.41 20z\"/>\n",
              "  </svg>\n",
              "      </button>\n",
              "      \n",
              "  <style>\n",
              "    .colab-df-container {\n",
              "      display:flex;\n",
              "      flex-wrap:wrap;\n",
              "      gap: 12px;\n",
              "    }\n",
              "\n",
              "    .colab-df-convert {\n",
              "      background-color: #E8F0FE;\n",
              "      border: none;\n",
              "      border-radius: 50%;\n",
              "      cursor: pointer;\n",
              "      display: none;\n",
              "      fill: #1967D2;\n",
              "      height: 32px;\n",
              "      padding: 0 0 0 0;\n",
              "      width: 32px;\n",
              "    }\n",
              "\n",
              "    .colab-df-convert:hover {\n",
              "      background-color: #E2EBFA;\n",
              "      box-shadow: 0px 1px 2px rgba(60, 64, 67, 0.3), 0px 1px 3px 1px rgba(60, 64, 67, 0.15);\n",
              "      fill: #174EA6;\n",
              "    }\n",
              "\n",
              "    [theme=dark] .colab-df-convert {\n",
              "      background-color: #3B4455;\n",
              "      fill: #D2E3FC;\n",
              "    }\n",
              "\n",
              "    [theme=dark] .colab-df-convert:hover {\n",
              "      background-color: #434B5C;\n",
              "      box-shadow: 0px 1px 3px 1px rgba(0, 0, 0, 0.15);\n",
              "      filter: drop-shadow(0px 1px 2px rgba(0, 0, 0, 0.3));\n",
              "      fill: #FFFFFF;\n",
              "    }\n",
              "  </style>\n",
              "\n",
              "      <script>\n",
              "        const buttonEl =\n",
              "          document.querySelector('#df-f2a2f615-76eb-407d-ae18-d3eed9df14d6 button.colab-df-convert');\n",
              "        buttonEl.style.display =\n",
              "          google.colab.kernel.accessAllowed ? 'block' : 'none';\n",
              "\n",
              "        async function convertToInteractive(key) {\n",
              "          const element = document.querySelector('#df-f2a2f615-76eb-407d-ae18-d3eed9df14d6');\n",
              "          const dataTable =\n",
              "            await google.colab.kernel.invokeFunction('convertToInteractive',\n",
              "                                                     [key], {});\n",
              "          if (!dataTable) return;\n",
              "\n",
              "          const docLinkHtml = 'Like what you see? Visit the ' +\n",
              "            '<a target=\"_blank\" href=https://colab.research.google.com/notebooks/data_table.ipynb>data table notebook</a>'\n",
              "            + ' to learn more about interactive tables.';\n",
              "          element.innerHTML = '';\n",
              "          dataTable['output_type'] = 'display_data';\n",
              "          await google.colab.output.renderOutput(dataTable, element);\n",
              "          const docLink = document.createElement('div');\n",
              "          docLink.innerHTML = docLinkHtml;\n",
              "          element.appendChild(docLink);\n",
              "        }\n",
              "      </script>\n",
              "    </div>\n",
              "  </div>\n",
              "  "
            ]
          },
          "metadata": {},
          "execution_count": 5
        }
      ],
      "source": [
        "# typical use of .info() to get a general idea of what is the shape  of the data base look like\n",
        "# .head() will let you see a more friendly view in a excel way \n",
        "df.info()\n",
        "df.head()"
      ]
    },
    {
      "cell_type": "code",
      "source": [
        "df.rename(columns={\"Precio  por kilogramo*\": \"Precio KG\"}, inplace=True)"
      ],
      "metadata": {
        "id": "kpfXzoa6UTcf"
      },
      "execution_count": null,
      "outputs": []
    },
    {
      "cell_type": "code",
      "execution_count": null,
      "metadata": {
        "colab": {
          "base_uri": "https://localhost:8080/",
          "height": 237
        },
        "id": "OGepqBYps9Oa",
        "outputId": "6b7dc5ec-b789-4a8e-9266-aa22275053bf"
      },
      "outputs": [
        {
          "output_type": "execute_result",
          "data": {
            "text/plain": [
              "                            Grupo Producto                        Fuente  \\\n",
              "Fecha                                                                      \n",
              "2019-01-01  VERDURAS Y HORTALIZAS   Acelga               Armenia, Mercar   \n",
              "2019-01-01  VERDURAS Y HORTALIZAS   Acelga  Barranquilla, Barranquillita   \n",
              "2019-01-01  VERDURAS Y HORTALIZAS   Acelga      Bogotá, D.C., Corabastos   \n",
              "2019-01-01  VERDURAS Y HORTALIZAS   Acelga    Bucaramanga, Centroabastos   \n",
              "2019-01-01  VERDURAS Y HORTALIZAS   Acelga         Chiquinquirá (Boyacá)   \n",
              "\n",
              "            Precio KG  \n",
              "Fecha                  \n",
              "2019-01-01     1065.0  \n",
              "2019-01-01     3000.0  \n",
              "2019-01-01      764.0  \n",
              "2019-01-01     1556.0  \n",
              "2019-01-01     1058.0  "
            ],
            "text/html": [
              "\n",
              "  <div id=\"df-00db04d5-b83c-4727-9d6f-90dbf20e4e79\">\n",
              "    <div class=\"colab-df-container\">\n",
              "      <div>\n",
              "<style scoped>\n",
              "    .dataframe tbody tr th:only-of-type {\n",
              "        vertical-align: middle;\n",
              "    }\n",
              "\n",
              "    .dataframe tbody tr th {\n",
              "        vertical-align: top;\n",
              "    }\n",
              "\n",
              "    .dataframe thead th {\n",
              "        text-align: right;\n",
              "    }\n",
              "</style>\n",
              "<table border=\"1\" class=\"dataframe\">\n",
              "  <thead>\n",
              "    <tr style=\"text-align: right;\">\n",
              "      <th></th>\n",
              "      <th>Grupo</th>\n",
              "      <th>Producto</th>\n",
              "      <th>Fuente</th>\n",
              "      <th>Precio KG</th>\n",
              "    </tr>\n",
              "    <tr>\n",
              "      <th>Fecha</th>\n",
              "      <th></th>\n",
              "      <th></th>\n",
              "      <th></th>\n",
              "      <th></th>\n",
              "    </tr>\n",
              "  </thead>\n",
              "  <tbody>\n",
              "    <tr>\n",
              "      <th>2019-01-01</th>\n",
              "      <td>VERDURAS Y HORTALIZAS</td>\n",
              "      <td>Acelga</td>\n",
              "      <td>Armenia, Mercar</td>\n",
              "      <td>1065.0</td>\n",
              "    </tr>\n",
              "    <tr>\n",
              "      <th>2019-01-01</th>\n",
              "      <td>VERDURAS Y HORTALIZAS</td>\n",
              "      <td>Acelga</td>\n",
              "      <td>Barranquilla, Barranquillita</td>\n",
              "      <td>3000.0</td>\n",
              "    </tr>\n",
              "    <tr>\n",
              "      <th>2019-01-01</th>\n",
              "      <td>VERDURAS Y HORTALIZAS</td>\n",
              "      <td>Acelga</td>\n",
              "      <td>Bogotá, D.C., Corabastos</td>\n",
              "      <td>764.0</td>\n",
              "    </tr>\n",
              "    <tr>\n",
              "      <th>2019-01-01</th>\n",
              "      <td>VERDURAS Y HORTALIZAS</td>\n",
              "      <td>Acelga</td>\n",
              "      <td>Bucaramanga, Centroabastos</td>\n",
              "      <td>1556.0</td>\n",
              "    </tr>\n",
              "    <tr>\n",
              "      <th>2019-01-01</th>\n",
              "      <td>VERDURAS Y HORTALIZAS</td>\n",
              "      <td>Acelga</td>\n",
              "      <td>Chiquinquirá (Boyacá)</td>\n",
              "      <td>1058.0</td>\n",
              "    </tr>\n",
              "  </tbody>\n",
              "</table>\n",
              "</div>\n",
              "      <button class=\"colab-df-convert\" onclick=\"convertToInteractive('df-00db04d5-b83c-4727-9d6f-90dbf20e4e79')\"\n",
              "              title=\"Convert this dataframe to an interactive table.\"\n",
              "              style=\"display:none;\">\n",
              "        \n",
              "  <svg xmlns=\"http://www.w3.org/2000/svg\" height=\"24px\"viewBox=\"0 0 24 24\"\n",
              "       width=\"24px\">\n",
              "    <path d=\"M0 0h24v24H0V0z\" fill=\"none\"/>\n",
              "    <path d=\"M18.56 5.44l.94 2.06.94-2.06 2.06-.94-2.06-.94-.94-2.06-.94 2.06-2.06.94zm-11 1L8.5 8.5l.94-2.06 2.06-.94-2.06-.94L8.5 2.5l-.94 2.06-2.06.94zm10 10l.94 2.06.94-2.06 2.06-.94-2.06-.94-.94-2.06-.94 2.06-2.06.94z\"/><path d=\"M17.41 7.96l-1.37-1.37c-.4-.4-.92-.59-1.43-.59-.52 0-1.04.2-1.43.59L10.3 9.45l-7.72 7.72c-.78.78-.78 2.05 0 2.83L4 21.41c.39.39.9.59 1.41.59.51 0 1.02-.2 1.41-.59l7.78-7.78 2.81-2.81c.8-.78.8-2.07 0-2.86zM5.41 20L4 18.59l7.72-7.72 1.47 1.35L5.41 20z\"/>\n",
              "  </svg>\n",
              "      </button>\n",
              "      \n",
              "  <style>\n",
              "    .colab-df-container {\n",
              "      display:flex;\n",
              "      flex-wrap:wrap;\n",
              "      gap: 12px;\n",
              "    }\n",
              "\n",
              "    .colab-df-convert {\n",
              "      background-color: #E8F0FE;\n",
              "      border: none;\n",
              "      border-radius: 50%;\n",
              "      cursor: pointer;\n",
              "      display: none;\n",
              "      fill: #1967D2;\n",
              "      height: 32px;\n",
              "      padding: 0 0 0 0;\n",
              "      width: 32px;\n",
              "    }\n",
              "\n",
              "    .colab-df-convert:hover {\n",
              "      background-color: #E2EBFA;\n",
              "      box-shadow: 0px 1px 2px rgba(60, 64, 67, 0.3), 0px 1px 3px 1px rgba(60, 64, 67, 0.15);\n",
              "      fill: #174EA6;\n",
              "    }\n",
              "\n",
              "    [theme=dark] .colab-df-convert {\n",
              "      background-color: #3B4455;\n",
              "      fill: #D2E3FC;\n",
              "    }\n",
              "\n",
              "    [theme=dark] .colab-df-convert:hover {\n",
              "      background-color: #434B5C;\n",
              "      box-shadow: 0px 1px 3px 1px rgba(0, 0, 0, 0.15);\n",
              "      filter: drop-shadow(0px 1px 2px rgba(0, 0, 0, 0.3));\n",
              "      fill: #FFFFFF;\n",
              "    }\n",
              "  </style>\n",
              "\n",
              "      <script>\n",
              "        const buttonEl =\n",
              "          document.querySelector('#df-00db04d5-b83c-4727-9d6f-90dbf20e4e79 button.colab-df-convert');\n",
              "        buttonEl.style.display =\n",
              "          google.colab.kernel.accessAllowed ? 'block' : 'none';\n",
              "\n",
              "        async function convertToInteractive(key) {\n",
              "          const element = document.querySelector('#df-00db04d5-b83c-4727-9d6f-90dbf20e4e79');\n",
              "          const dataTable =\n",
              "            await google.colab.kernel.invokeFunction('convertToInteractive',\n",
              "                                                     [key], {});\n",
              "          if (!dataTable) return;\n",
              "\n",
              "          const docLinkHtml = 'Like what you see? Visit the ' +\n",
              "            '<a target=\"_blank\" href=https://colab.research.google.com/notebooks/data_table.ipynb>data table notebook</a>'\n",
              "            + ' to learn more about interactive tables.';\n",
              "          element.innerHTML = '';\n",
              "          dataTable['output_type'] = 'display_data';\n",
              "          await google.colab.output.renderOutput(dataTable, element);\n",
              "          const docLink = document.createElement('div');\n",
              "          docLink.innerHTML = docLinkHtml;\n",
              "          element.appendChild(docLink);\n",
              "        }\n",
              "      </script>\n",
              "    </div>\n",
              "  </div>\n",
              "  "
            ]
          },
          "metadata": {},
          "execution_count": 7
        }
      ],
      "source": [
        "# this is to set the 'Fecha' as the new index of the dataframe as it will mostly be a timeline analysis\n",
        "# the inplace=True will set this ne index as the definitive index changing it in the database\n",
        "df.set_index('Fecha', inplace=True)\n",
        "df.head()"
      ]
    },
    {
      "cell_type": "code",
      "execution_count": null,
      "metadata": {
        "colab": {
          "base_uri": "https://localhost:8080/"
        },
        "id": "GjtLQzc59BAB",
        "outputId": "87dcba6b-da2b-43f6-d9ca-2c32c132999c"
      },
      "outputs": [
        {
          "output_type": "execute_result",
          "data": {
            "text/plain": [
              "Grupo        0\n",
              "Producto     0\n",
              "Fuente       0\n",
              "Precio KG    0\n",
              "dtype: int64"
            ]
          },
          "metadata": {},
          "execution_count": 8
        }
      ],
      "source": [
        "# Here we can see that there are not null values in any of the columns\n",
        "# if there were any null values we should take them into consideration because it can affect later anaylsis an graphing\n",
        "pd.isnull(df).sum()"
      ]
    },
    {
      "cell_type": "code",
      "execution_count": null,
      "metadata": {
        "colab": {
          "base_uri": "https://localhost:8080/"
        },
        "id": "_An0_OMngnF4",
        "outputId": "1146d7f0-cf6c-44ea-b054-ac42e710c5a1"
      },
      "outputs": [
        {
          "output_type": "execute_result",
          "data": {
            "text/plain": [
              "Medellín, Central Mayorista de Antioquia       10154\n",
              "Bogotá, D.C., Corabastos                        8070\n",
              "Cúcuta, Cenabastos                              6865\n",
              "Villavicencio, CAV                              6383\n",
              "Ibagué, Plaza La 21                             6214\n",
              "                                               ...  \n",
              "Malambo, Atlantico                                46\n",
              "Malambo (Atlántico), Carnes y Carnes              23\n",
              "Ipiales (Nariño), Centro de Acopio                18\n",
              "San Gil (Santander), Panela                        4\n",
              "San Sebastián de Mariquita (Tolima), panela        3\n",
              "Name: Fuente, Length: 91, dtype: int64"
            ]
          },
          "metadata": {},
          "execution_count": 9
        }
      ],
      "source": [
        "# Here i'm seeing that the city is contained in the same column as the WHOLESALE center \n",
        "# we need to solve this after starting to gragh and do an analysis\n",
        "df['Fuente'].value_counts()"
      ]
    },
    {
      "cell_type": "code",
      "execution_count": null,
      "metadata": {
        "id": "mCi2MZgyqAg2"
      },
      "outputs": [],
      "source": [
        "# the process of split the values that have both the city and the WHOLESALE market need to be in a independet column\n",
        "# but here you can see that there are values in the data base that have more than one comma that is dividing the values \n",
        "# bogota dc, corabastos should not have two commas only the comma that is differentiating it from a city and a market in the city\n",
        "# we want then to get only two columns and not three\n",
        "# i first used str.split but it split the string everytime that it find a comma\n",
        "# it's best to use str.rsplit as it will start from the end to find a delimeter\n",
        "df[['Ciudad','Plaza']] = df.Fuente.str.rsplit(',',n=1, expand = True)"
      ]
    },
    {
      "cell_type": "code",
      "execution_count": null,
      "metadata": {
        "colab": {
          "base_uri": "https://localhost:8080/",
          "height": 237
        },
        "id": "lIID0qjlVrdq",
        "outputId": "e90c89e3-37bb-4b2f-821e-7c6a183f0ce3"
      },
      "outputs": [
        {
          "output_type": "execute_result",
          "data": {
            "text/plain": [
              "                            Grupo Producto                        Fuente  \\\n",
              "Fecha                                                                      \n",
              "2019-01-01  VERDURAS Y HORTALIZAS   Acelga               Armenia, Mercar   \n",
              "2019-01-01  VERDURAS Y HORTALIZAS   Acelga  Barranquilla, Barranquillita   \n",
              "2019-01-01  VERDURAS Y HORTALIZAS   Acelga      Bogotá, D.C., Corabastos   \n",
              "2019-01-01  VERDURAS Y HORTALIZAS   Acelga    Bucaramanga, Centroabastos   \n",
              "2019-01-01  VERDURAS Y HORTALIZAS   Acelga         Chiquinquirá (Boyacá)   \n",
              "\n",
              "            Precio KG                 Ciudad            Plaza  \n",
              "Fecha                                                          \n",
              "2019-01-01     1065.0                Armenia           Mercar  \n",
              "2019-01-01     3000.0           Barranquilla   Barranquillita  \n",
              "2019-01-01      764.0           Bogotá, D.C.       Corabastos  \n",
              "2019-01-01     1556.0            Bucaramanga    Centroabastos  \n",
              "2019-01-01     1058.0  Chiquinquirá (Boyacá)             None  "
            ],
            "text/html": [
              "\n",
              "  <div id=\"df-ecba747b-e694-4d2f-a9ea-ea6df5930e2d\">\n",
              "    <div class=\"colab-df-container\">\n",
              "      <div>\n",
              "<style scoped>\n",
              "    .dataframe tbody tr th:only-of-type {\n",
              "        vertical-align: middle;\n",
              "    }\n",
              "\n",
              "    .dataframe tbody tr th {\n",
              "        vertical-align: top;\n",
              "    }\n",
              "\n",
              "    .dataframe thead th {\n",
              "        text-align: right;\n",
              "    }\n",
              "</style>\n",
              "<table border=\"1\" class=\"dataframe\">\n",
              "  <thead>\n",
              "    <tr style=\"text-align: right;\">\n",
              "      <th></th>\n",
              "      <th>Grupo</th>\n",
              "      <th>Producto</th>\n",
              "      <th>Fuente</th>\n",
              "      <th>Precio KG</th>\n",
              "      <th>Ciudad</th>\n",
              "      <th>Plaza</th>\n",
              "    </tr>\n",
              "    <tr>\n",
              "      <th>Fecha</th>\n",
              "      <th></th>\n",
              "      <th></th>\n",
              "      <th></th>\n",
              "      <th></th>\n",
              "      <th></th>\n",
              "      <th></th>\n",
              "    </tr>\n",
              "  </thead>\n",
              "  <tbody>\n",
              "    <tr>\n",
              "      <th>2019-01-01</th>\n",
              "      <td>VERDURAS Y HORTALIZAS</td>\n",
              "      <td>Acelga</td>\n",
              "      <td>Armenia, Mercar</td>\n",
              "      <td>1065.0</td>\n",
              "      <td>Armenia</td>\n",
              "      <td>Mercar</td>\n",
              "    </tr>\n",
              "    <tr>\n",
              "      <th>2019-01-01</th>\n",
              "      <td>VERDURAS Y HORTALIZAS</td>\n",
              "      <td>Acelga</td>\n",
              "      <td>Barranquilla, Barranquillita</td>\n",
              "      <td>3000.0</td>\n",
              "      <td>Barranquilla</td>\n",
              "      <td>Barranquillita</td>\n",
              "    </tr>\n",
              "    <tr>\n",
              "      <th>2019-01-01</th>\n",
              "      <td>VERDURAS Y HORTALIZAS</td>\n",
              "      <td>Acelga</td>\n",
              "      <td>Bogotá, D.C., Corabastos</td>\n",
              "      <td>764.0</td>\n",
              "      <td>Bogotá, D.C.</td>\n",
              "      <td>Corabastos</td>\n",
              "    </tr>\n",
              "    <tr>\n",
              "      <th>2019-01-01</th>\n",
              "      <td>VERDURAS Y HORTALIZAS</td>\n",
              "      <td>Acelga</td>\n",
              "      <td>Bucaramanga, Centroabastos</td>\n",
              "      <td>1556.0</td>\n",
              "      <td>Bucaramanga</td>\n",
              "      <td>Centroabastos</td>\n",
              "    </tr>\n",
              "    <tr>\n",
              "      <th>2019-01-01</th>\n",
              "      <td>VERDURAS Y HORTALIZAS</td>\n",
              "      <td>Acelga</td>\n",
              "      <td>Chiquinquirá (Boyacá)</td>\n",
              "      <td>1058.0</td>\n",
              "      <td>Chiquinquirá (Boyacá)</td>\n",
              "      <td>None</td>\n",
              "    </tr>\n",
              "  </tbody>\n",
              "</table>\n",
              "</div>\n",
              "      <button class=\"colab-df-convert\" onclick=\"convertToInteractive('df-ecba747b-e694-4d2f-a9ea-ea6df5930e2d')\"\n",
              "              title=\"Convert this dataframe to an interactive table.\"\n",
              "              style=\"display:none;\">\n",
              "        \n",
              "  <svg xmlns=\"http://www.w3.org/2000/svg\" height=\"24px\"viewBox=\"0 0 24 24\"\n",
              "       width=\"24px\">\n",
              "    <path d=\"M0 0h24v24H0V0z\" fill=\"none\"/>\n",
              "    <path d=\"M18.56 5.44l.94 2.06.94-2.06 2.06-.94-2.06-.94-.94-2.06-.94 2.06-2.06.94zm-11 1L8.5 8.5l.94-2.06 2.06-.94-2.06-.94L8.5 2.5l-.94 2.06-2.06.94zm10 10l.94 2.06.94-2.06 2.06-.94-2.06-.94-.94-2.06-.94 2.06-2.06.94z\"/><path d=\"M17.41 7.96l-1.37-1.37c-.4-.4-.92-.59-1.43-.59-.52 0-1.04.2-1.43.59L10.3 9.45l-7.72 7.72c-.78.78-.78 2.05 0 2.83L4 21.41c.39.39.9.59 1.41.59.51 0 1.02-.2 1.41-.59l7.78-7.78 2.81-2.81c.8-.78.8-2.07 0-2.86zM5.41 20L4 18.59l7.72-7.72 1.47 1.35L5.41 20z\"/>\n",
              "  </svg>\n",
              "      </button>\n",
              "      \n",
              "  <style>\n",
              "    .colab-df-container {\n",
              "      display:flex;\n",
              "      flex-wrap:wrap;\n",
              "      gap: 12px;\n",
              "    }\n",
              "\n",
              "    .colab-df-convert {\n",
              "      background-color: #E8F0FE;\n",
              "      border: none;\n",
              "      border-radius: 50%;\n",
              "      cursor: pointer;\n",
              "      display: none;\n",
              "      fill: #1967D2;\n",
              "      height: 32px;\n",
              "      padding: 0 0 0 0;\n",
              "      width: 32px;\n",
              "    }\n",
              "\n",
              "    .colab-df-convert:hover {\n",
              "      background-color: #E2EBFA;\n",
              "      box-shadow: 0px 1px 2px rgba(60, 64, 67, 0.3), 0px 1px 3px 1px rgba(60, 64, 67, 0.15);\n",
              "      fill: #174EA6;\n",
              "    }\n",
              "\n",
              "    [theme=dark] .colab-df-convert {\n",
              "      background-color: #3B4455;\n",
              "      fill: #D2E3FC;\n",
              "    }\n",
              "\n",
              "    [theme=dark] .colab-df-convert:hover {\n",
              "      background-color: #434B5C;\n",
              "      box-shadow: 0px 1px 3px 1px rgba(0, 0, 0, 0.15);\n",
              "      filter: drop-shadow(0px 1px 2px rgba(0, 0, 0, 0.3));\n",
              "      fill: #FFFFFF;\n",
              "    }\n",
              "  </style>\n",
              "\n",
              "      <script>\n",
              "        const buttonEl =\n",
              "          document.querySelector('#df-ecba747b-e694-4d2f-a9ea-ea6df5930e2d button.colab-df-convert');\n",
              "        buttonEl.style.display =\n",
              "          google.colab.kernel.accessAllowed ? 'block' : 'none';\n",
              "\n",
              "        async function convertToInteractive(key) {\n",
              "          const element = document.querySelector('#df-ecba747b-e694-4d2f-a9ea-ea6df5930e2d');\n",
              "          const dataTable =\n",
              "            await google.colab.kernel.invokeFunction('convertToInteractive',\n",
              "                                                     [key], {});\n",
              "          if (!dataTable) return;\n",
              "\n",
              "          const docLinkHtml = 'Like what you see? Visit the ' +\n",
              "            '<a target=\"_blank\" href=https://colab.research.google.com/notebooks/data_table.ipynb>data table notebook</a>'\n",
              "            + ' to learn more about interactive tables.';\n",
              "          element.innerHTML = '';\n",
              "          dataTable['output_type'] = 'display_data';\n",
              "          await google.colab.output.renderOutput(dataTable, element);\n",
              "          const docLink = document.createElement('div');\n",
              "          docLink.innerHTML = docLinkHtml;\n",
              "          element.appendChild(docLink);\n",
              "        }\n",
              "      </script>\n",
              "    </div>\n",
              "  </div>\n",
              "  "
            ]
          },
          "metadata": {},
          "execution_count": 11
        }
      ],
      "source": [
        "# in the star of the dataframe we can see that there are valuess that include the city but not the marketplace \n",
        "# it is important to take this into consideration\n",
        "df.head()\n"
      ]
    },
    {
      "cell_type": "code",
      "execution_count": null,
      "metadata": {
        "colab": {
          "base_uri": "https://localhost:8080/"
        },
        "id": "qbPjCeThWBLp",
        "outputId": "19050385-36a2-41fc-dd9e-9aca3e16f261"
      },
      "outputs": [
        {
          "output_type": "execute_result",
          "data": {
            "text/plain": [
              "Bogotá, D.C.                        18734\n",
              "Medellín                            15561\n",
              "Cali                                14576\n",
              "Barranquilla                         9971\n",
              "Cúcuta                               9715\n",
              "Pereira                              8878\n",
              "Bucaramanga                          8756\n",
              "Villavicencio                        6383\n",
              "Ibagué                               6214\n",
              "Valledupar                           5986\n",
              "Montería                             5959\n",
              "Armenia                              5921\n",
              "Popayán                              5647\n",
              "Palmira (Valle del Cauca)            5523\n",
              "Manizales                            5514\n",
              "Neiva                                5476\n",
              "Tuluá (Valle del Cauca)              5420\n",
              "Cartagena                            5350\n",
              "Sincelejo                            5249\n",
              "Pasto                                4864\n",
              "Tunja                                4837\n",
              "Cartago (Valle del Cauca)            4716\n",
              "Buenaventura (Valle del Cauca)       4320\n",
              "Pamplona (Norte de Santander)        4150\n",
              "Santa Marta (Magdalena)              3473\n",
              "Florencia (Caquetá)                  3226\n",
              "San Gil (Santander)                  2841\n",
              "Chiquinquirá (Boyacá)                2792\n",
              "Duitama (Boyacá)                     2764\n",
              "Yopal (Casanare)                     2730\n",
              "Arauca (Arauca)                      2684\n",
              "Ipiales (Nariño)                     2568\n",
              "Rionegro (Antioquia)                 2142\n",
              "Socorro (Santander)                  1923\n",
              "Sogamoso (Boyacá)                    1805\n",
              "Tibasosa (Boyacá)                    1619\n",
              "La Unión (Nariño)                    1389\n",
              "La Ceja (Antioquia)                  1256\n",
              "Túquerres (Nariño)                   1251\n",
              "Sonsón (Antioquia)                   1157\n",
              "Malambo (Atlántico)                  1067\n",
              "Marinilla (Antioquia)                1049\n",
              "Ubaté (Cundinamarca)                  856\n",
              "Santa Bárbara (Antioquia)             714\n",
              "Peñol (Antioquia)                     649\n",
              "San Vicente (Antioquia)               584\n",
              "El Santuario (Antioquia)              480\n",
              "El Carmen de Viboral (Antioquia)      380\n",
              "La Unión (Antioquia)                  192\n",
              "Caparrapí (Cundinamarca)              144\n",
              "Name: Ciudad, dtype: int64"
            ]
          },
          "metadata": {},
          "execution_count": 12
        }
      ],
      "source": [
        "# here we count every vale from 0 to 50 to see whether there is a city misspelled\n",
        "\n",
        "df.Ciudad.value_counts()[0:50]"
      ]
    },
    {
      "cell_type": "code",
      "source": [
        "# i droped the Fuente value as it will not give me any value since \n",
        "# you will need the city and maybe a specific WHOLESALE market called \"Plaza\"\n",
        "df = df.drop(['Fuente'],axis=1)\n",
        "# here you can confirm that the data base is still the same only without the \"Fuente\" Column\n",
        "df.head()"
      ],
      "metadata": {
        "colab": {
          "base_uri": "https://localhost:8080/",
          "height": 237
        },
        "id": "-WYc_HYI3SJT",
        "outputId": "8553b079-3131-476e-cc55-3db2f8bea835"
      },
      "execution_count": null,
      "outputs": [
        {
          "output_type": "execute_result",
          "data": {
            "text/plain": [
              "                            Grupo Producto  Precio KG                 Ciudad  \\\n",
              "Fecha                                                                          \n",
              "2019-01-01  VERDURAS Y HORTALIZAS   Acelga     1065.0                Armenia   \n",
              "2019-01-01  VERDURAS Y HORTALIZAS   Acelga     3000.0           Barranquilla   \n",
              "2019-01-01  VERDURAS Y HORTALIZAS   Acelga      764.0           Bogotá, D.C.   \n",
              "2019-01-01  VERDURAS Y HORTALIZAS   Acelga     1556.0            Bucaramanga   \n",
              "2019-01-01  VERDURAS Y HORTALIZAS   Acelga     1058.0  Chiquinquirá (Boyacá)   \n",
              "\n",
              "                      Plaza  \n",
              "Fecha                        \n",
              "2019-01-01           Mercar  \n",
              "2019-01-01   Barranquillita  \n",
              "2019-01-01       Corabastos  \n",
              "2019-01-01    Centroabastos  \n",
              "2019-01-01             None  "
            ],
            "text/html": [
              "\n",
              "  <div id=\"df-d7421313-049e-41be-80ec-8fcaa14683d2\">\n",
              "    <div class=\"colab-df-container\">\n",
              "      <div>\n",
              "<style scoped>\n",
              "    .dataframe tbody tr th:only-of-type {\n",
              "        vertical-align: middle;\n",
              "    }\n",
              "\n",
              "    .dataframe tbody tr th {\n",
              "        vertical-align: top;\n",
              "    }\n",
              "\n",
              "    .dataframe thead th {\n",
              "        text-align: right;\n",
              "    }\n",
              "</style>\n",
              "<table border=\"1\" class=\"dataframe\">\n",
              "  <thead>\n",
              "    <tr style=\"text-align: right;\">\n",
              "      <th></th>\n",
              "      <th>Grupo</th>\n",
              "      <th>Producto</th>\n",
              "      <th>Precio KG</th>\n",
              "      <th>Ciudad</th>\n",
              "      <th>Plaza</th>\n",
              "    </tr>\n",
              "    <tr>\n",
              "      <th>Fecha</th>\n",
              "      <th></th>\n",
              "      <th></th>\n",
              "      <th></th>\n",
              "      <th></th>\n",
              "      <th></th>\n",
              "    </tr>\n",
              "  </thead>\n",
              "  <tbody>\n",
              "    <tr>\n",
              "      <th>2019-01-01</th>\n",
              "      <td>VERDURAS Y HORTALIZAS</td>\n",
              "      <td>Acelga</td>\n",
              "      <td>1065.0</td>\n",
              "      <td>Armenia</td>\n",
              "      <td>Mercar</td>\n",
              "    </tr>\n",
              "    <tr>\n",
              "      <th>2019-01-01</th>\n",
              "      <td>VERDURAS Y HORTALIZAS</td>\n",
              "      <td>Acelga</td>\n",
              "      <td>3000.0</td>\n",
              "      <td>Barranquilla</td>\n",
              "      <td>Barranquillita</td>\n",
              "    </tr>\n",
              "    <tr>\n",
              "      <th>2019-01-01</th>\n",
              "      <td>VERDURAS Y HORTALIZAS</td>\n",
              "      <td>Acelga</td>\n",
              "      <td>764.0</td>\n",
              "      <td>Bogotá, D.C.</td>\n",
              "      <td>Corabastos</td>\n",
              "    </tr>\n",
              "    <tr>\n",
              "      <th>2019-01-01</th>\n",
              "      <td>VERDURAS Y HORTALIZAS</td>\n",
              "      <td>Acelga</td>\n",
              "      <td>1556.0</td>\n",
              "      <td>Bucaramanga</td>\n",
              "      <td>Centroabastos</td>\n",
              "    </tr>\n",
              "    <tr>\n",
              "      <th>2019-01-01</th>\n",
              "      <td>VERDURAS Y HORTALIZAS</td>\n",
              "      <td>Acelga</td>\n",
              "      <td>1058.0</td>\n",
              "      <td>Chiquinquirá (Boyacá)</td>\n",
              "      <td>None</td>\n",
              "    </tr>\n",
              "  </tbody>\n",
              "</table>\n",
              "</div>\n",
              "      <button class=\"colab-df-convert\" onclick=\"convertToInteractive('df-d7421313-049e-41be-80ec-8fcaa14683d2')\"\n",
              "              title=\"Convert this dataframe to an interactive table.\"\n",
              "              style=\"display:none;\">\n",
              "        \n",
              "  <svg xmlns=\"http://www.w3.org/2000/svg\" height=\"24px\"viewBox=\"0 0 24 24\"\n",
              "       width=\"24px\">\n",
              "    <path d=\"M0 0h24v24H0V0z\" fill=\"none\"/>\n",
              "    <path d=\"M18.56 5.44l.94 2.06.94-2.06 2.06-.94-2.06-.94-.94-2.06-.94 2.06-2.06.94zm-11 1L8.5 8.5l.94-2.06 2.06-.94-2.06-.94L8.5 2.5l-.94 2.06-2.06.94zm10 10l.94 2.06.94-2.06 2.06-.94-2.06-.94-.94-2.06-.94 2.06-2.06.94z\"/><path d=\"M17.41 7.96l-1.37-1.37c-.4-.4-.92-.59-1.43-.59-.52 0-1.04.2-1.43.59L10.3 9.45l-7.72 7.72c-.78.78-.78 2.05 0 2.83L4 21.41c.39.39.9.59 1.41.59.51 0 1.02-.2 1.41-.59l7.78-7.78 2.81-2.81c.8-.78.8-2.07 0-2.86zM5.41 20L4 18.59l7.72-7.72 1.47 1.35L5.41 20z\"/>\n",
              "  </svg>\n",
              "      </button>\n",
              "      \n",
              "  <style>\n",
              "    .colab-df-container {\n",
              "      display:flex;\n",
              "      flex-wrap:wrap;\n",
              "      gap: 12px;\n",
              "    }\n",
              "\n",
              "    .colab-df-convert {\n",
              "      background-color: #E8F0FE;\n",
              "      border: none;\n",
              "      border-radius: 50%;\n",
              "      cursor: pointer;\n",
              "      display: none;\n",
              "      fill: #1967D2;\n",
              "      height: 32px;\n",
              "      padding: 0 0 0 0;\n",
              "      width: 32px;\n",
              "    }\n",
              "\n",
              "    .colab-df-convert:hover {\n",
              "      background-color: #E2EBFA;\n",
              "      box-shadow: 0px 1px 2px rgba(60, 64, 67, 0.3), 0px 1px 3px 1px rgba(60, 64, 67, 0.15);\n",
              "      fill: #174EA6;\n",
              "    }\n",
              "\n",
              "    [theme=dark] .colab-df-convert {\n",
              "      background-color: #3B4455;\n",
              "      fill: #D2E3FC;\n",
              "    }\n",
              "\n",
              "    [theme=dark] .colab-df-convert:hover {\n",
              "      background-color: #434B5C;\n",
              "      box-shadow: 0px 1px 3px 1px rgba(0, 0, 0, 0.15);\n",
              "      filter: drop-shadow(0px 1px 2px rgba(0, 0, 0, 0.3));\n",
              "      fill: #FFFFFF;\n",
              "    }\n",
              "  </style>\n",
              "\n",
              "      <script>\n",
              "        const buttonEl =\n",
              "          document.querySelector('#df-d7421313-049e-41be-80ec-8fcaa14683d2 button.colab-df-convert');\n",
              "        buttonEl.style.display =\n",
              "          google.colab.kernel.accessAllowed ? 'block' : 'none';\n",
              "\n",
              "        async function convertToInteractive(key) {\n",
              "          const element = document.querySelector('#df-d7421313-049e-41be-80ec-8fcaa14683d2');\n",
              "          const dataTable =\n",
              "            await google.colab.kernel.invokeFunction('convertToInteractive',\n",
              "                                                     [key], {});\n",
              "          if (!dataTable) return;\n",
              "\n",
              "          const docLinkHtml = 'Like what you see? Visit the ' +\n",
              "            '<a target=\"_blank\" href=https://colab.research.google.com/notebooks/data_table.ipynb>data table notebook</a>'\n",
              "            + ' to learn more about interactive tables.';\n",
              "          element.innerHTML = '';\n",
              "          dataTable['output_type'] = 'display_data';\n",
              "          await google.colab.output.renderOutput(dataTable, element);\n",
              "          const docLink = document.createElement('div');\n",
              "          docLink.innerHTML = docLinkHtml;\n",
              "          element.appendChild(docLink);\n",
              "        }\n",
              "      </script>\n",
              "    </div>\n",
              "  </div>\n",
              "  "
            ]
          },
          "metadata": {},
          "execution_count": 13
        }
      ]
    },
    {
      "cell_type": "code",
      "execution_count": null,
      "metadata": {
        "colab": {
          "base_uri": "https://localhost:8080/"
        },
        "id": "PghdOeyRv-fN",
        "outputId": "53cf1b32-ccd7-4a50-c1e6-3bb20f5db65c"
      },
      "outputs": [
        {
          "output_type": "execute_result",
          "data": {
            "text/plain": [
              "FRUTAS                           53015\n",
              "VERDURAS Y HORTALIZAS            43664\n",
              "CARNES                           32565\n",
              "PROCESADOS                       32080\n",
              "TUBERCULOS, RAICES Y PLATANOS    16948\n",
              "GRANOS Y CEREALES                13366\n",
              "PESCADOS                         10352\n",
              "LACTEOS Y HUEVOS                  9418\n",
              "Frutas                            2261\n",
              "Verduras y Hortalizas             1893\n",
              "Carnes                            1429\n",
              "Procesados                        1387\n",
              "Tubérculos, Raíces y Plátanos      704\n",
              "Granos y Cereales                  578\n",
              "Pescados                           448\n",
              "Lácteos y Huevos                   409\n",
              "Name: Grupo, dtype: int64"
            ]
          },
          "metadata": {},
          "execution_count": 14
        }
      ],
      "source": [
        "# this is another part of the data cleaning and filtering \n",
        "#we see duplicates with differences in the upper letters\n",
        "df['Grupo'].value_counts()\n"
      ]
    },
    {
      "cell_type": "code",
      "source": [
        "# as you can see the str.lower will change all the \n",
        "# upper letters for lower case\n",
        "df['Grupo'] = df['Grupo'].str.lower()\n",
        "\n",
        "df['Grupo'].value_counts()"
      ],
      "metadata": {
        "id": "g8vrV1LG5DHW",
        "colab": {
          "base_uri": "https://localhost:8080/"
        },
        "outputId": "46bf8f3e-0b16-4fdd-e664-677437e4dd7d"
      },
      "execution_count": null,
      "outputs": [
        {
          "output_type": "execute_result",
          "data": {
            "text/plain": [
              "frutas                           55276\n",
              "verduras y hortalizas            45557\n",
              "carnes                           33994\n",
              "procesados                       33467\n",
              "tuberculos, raices y platanos    16948\n",
              "granos y cereales                13944\n",
              "pescados                         10800\n",
              "lacteos y huevos                  9418\n",
              "tubérculos, raíces y plátanos      704\n",
              "lácteos y huevos                   409\n",
              "Name: Grupo, dtype: int64"
            ]
          },
          "metadata": {},
          "execution_count": 15
        }
      ]
    },
    {
      "cell_type": "code",
      "source": [
        "# you can se the dict of values that i'm going to replce with the .replace function\n",
        "dic = {'é': 'e', 'í': 'i','á':'a'}"
      ],
      "metadata": {
        "id": "ZlpN9kfkc2Nw"
      },
      "execution_count": null,
      "outputs": []
    },
    {
      "cell_type": "code",
      "source": [
        "df.replace(dic, regex=True, inplace=True)"
      ],
      "metadata": {
        "id": "9NEYYOf6fVd6"
      },
      "execution_count": null,
      "outputs": []
    },
    {
      "cell_type": "code",
      "source": [
        "df['Grupo'].value_counts()"
      ],
      "metadata": {
        "colab": {
          "base_uri": "https://localhost:8080/"
        },
        "id": "BOcV8jCoeSUr",
        "outputId": "f0ef0e72-376a-4fc9-8b5b-3ebd573e2c94"
      },
      "execution_count": null,
      "outputs": [
        {
          "output_type": "execute_result",
          "data": {
            "text/plain": [
              "frutas                           55276\n",
              "verduras y hortalizas            45557\n",
              "carnes                           33994\n",
              "procesados                       33467\n",
              "tuberculos, raices y platanos    17652\n",
              "granos y cereales                13944\n",
              "pescados                         10800\n",
              "lacteos y huevos                  9827\n",
              "Name: Grupo, dtype: int64"
            ]
          },
          "metadata": {},
          "execution_count": 18
        }
      ]
    },
    {
      "cell_type": "code",
      "source": [
        "# now we need to see wheter there may be other values such as ó or ú \n",
        "# for this we need to analyse the other types of products from each category \n",
        "# but instead we will find this values and if it exists in the data base\n",
        "# if those values exists we will addd them to the dictionary to then replace them and get an homogeneus list\n"
      ],
      "metadata": {
        "id": "e9SfYgpIfhyB"
      },
      "execution_count": null,
      "outputs": []
    },
    {
      "cell_type": "code",
      "source": [
        "# Thiss code reveal that there are no ó or ú in the data base that need to be replaced\n",
        "# Then the code above of .replace wwill work just fine\n",
        "### remember to add a list for ú and ó too\n",
        "df['Grupo'].str.count('ú').sum()\n"
      ],
      "metadata": {
        "colab": {
          "base_uri": "https://localhost:8080/"
        },
        "id": "IiS3-0AQ-E_Z",
        "outputId": "0b13c557-0548-45b5-929f-b12123f6ccb3"
      },
      "execution_count": null,
      "outputs": [
        {
          "output_type": "execute_result",
          "data": {
            "text/plain": [
              "0"
            ]
          },
          "metadata": {},
          "execution_count": 20
        }
      ]
    },
    {
      "cell_type": "code",
      "source": [
        "df['Ciudad'].value_counts()[0:50]"
      ],
      "metadata": {
        "colab": {
          "base_uri": "https://localhost:8080/"
        },
        "id": "zB4d2UjvSsiT",
        "outputId": "b2215fcc-fd11-482c-b667-c6ff7c56e83a"
      },
      "execution_count": null,
      "outputs": [
        {
          "output_type": "execute_result",
          "data": {
            "text/plain": [
              "Bogota, D.C.                        18734\n",
              "Medellin                            15561\n",
              "Cali                                14576\n",
              "Barranquilla                         9971\n",
              "Cúcuta                               9715\n",
              "Pereira                              8878\n",
              "Bucaramanga                          8756\n",
              "Villavicencio                        6383\n",
              "Ibague                               6214\n",
              "Valledupar                           5986\n",
              "Monteria                             5959\n",
              "Armenia                              5921\n",
              "Popayan                              5647\n",
              "Palmira (Valle del Cauca)            5523\n",
              "Manizales                            5514\n",
              "Neiva                                5476\n",
              "Tulua (Valle del Cauca)              5420\n",
              "Cartagena                            5350\n",
              "Sincelejo                            5249\n",
              "Pasto                                4864\n",
              "Tunja                                4837\n",
              "Cartago (Valle del Cauca)            4716\n",
              "Buenaventura (Valle del Cauca)       4320\n",
              "Pamplona (Norte de Santander)        4150\n",
              "Santa Marta (Magdalena)              3473\n",
              "Florencia (Caqueta)                  3226\n",
              "San Gil (Santander)                  2841\n",
              "Chiquinquira (Boyaca)                2792\n",
              "Duitama (Boyaca)                     2764\n",
              "Yopal (Casanare)                     2730\n",
              "Arauca (Arauca)                      2684\n",
              "Ipiales (Nariño)                     2568\n",
              "Rionegro (Antioquia)                 2142\n",
              "Socorro (Santander)                  1923\n",
              "Sogamoso (Boyaca)                    1805\n",
              "Tibasosa (Boyaca)                    1619\n",
              "La Unión (Nariño)                    1389\n",
              "La Ceja (Antioquia)                  1256\n",
              "Túquerres (Nariño)                   1251\n",
              "Sonsón (Antioquia)                   1157\n",
              "Malambo (Atlantico)                  1067\n",
              "Marinilla (Antioquia)                1049\n",
              "Ubate (Cundinamarca)                  856\n",
              "Santa Barbara (Antioquia)             714\n",
              "Peñol (Antioquia)                     649\n",
              "San Vicente (Antioquia)               584\n",
              "El Santuario (Antioquia)              480\n",
              "El Carmen de Viboral (Antioquia)      380\n",
              "La Unión (Antioquia)                  192\n",
              "Caparrapi (Cundinamarca)              144\n",
              "Name: Ciudad, dtype: int64"
            ]
          },
          "metadata": {},
          "execution_count": 21
        }
      ]
    },
    {
      "cell_type": "code",
      "source": [
        "# here you can write the dicttionary if you would like to select multiple cities \n",
        "C = ['Ibague']\n",
        "df2 = df[df['Grupo'].isin(C)]\n"
      ],
      "metadata": {
        "id": "e50gjgdYTwA2"
      },
      "execution_count": null,
      "outputs": []
    },
    {
      "cell_type": "code",
      "source": [
        "# here i replace the tring with a value o it is more easy to get values and analyze them witouth touching the principal code\n",
        "# here noww e dont acll the list inide the iin function\n",
        "# instead i used a vaariable to store a list that caaan containt all the types of groups of goods\n",
        "G = ['carnes']\n",
        "df2 = df[df['Grupo'].isin(G)]\n",
        "df2['Producto'].value_counts()[0:30]"
      ],
      "metadata": {
        "colab": {
          "base_uri": "https://localhost:8080/"
        },
        "id": "nswbtL0SQddR",
        "outputId": "18f690de-d7a0-4115-d629-e5ed3d746ab0"
      },
      "execution_count": null,
      "outputs": [
        {
          "output_type": "execute_result",
          "data": {
            "text/plain": [
              "Pechuga de pollo                       1439\n",
              "Carne de res, sobrebarriga             1338\n",
              "Carne de res, bola de pierna           1309\n",
              "Carne de cerdo, lomo sin hueso         1247\n",
              "Carne de cerdo, costilla               1245\n",
              "Pierna pernil con rabadilla            1244\n",
              "Carne de res, punta de anca            1243\n",
              "Carne de res, muchacho                 1234\n",
              "Carne de res, cadera                   1197\n",
              "Carne de res, lomo fino                1163\n",
              "Carne de res, chatas                   1150\n",
              "Carne de cerdo, pernil sin hueso       1064\n",
              "Carne de res, costilla                 1057\n",
              "Carne de res, falda                    1008\n",
              "Carne de cerdo, brazo sin hueso         998\n",
              "Carne de res, bola de brazo             983\n",
              "Carne de res, centro de pierna          959\n",
              "Alas de pollo con costillar             935\n",
              "Carne de res, morrillo                  918\n",
              "Carne de res, pecho                     904\n",
              "Carne de res, bota                      856\n",
              "Piernas de pollo                        851\n",
              "Carne de cerdo, espinazo                685\n",
              "Carne de cerdo, pernil con hueso        666\n",
              "Pollo entero fresco sin visceras        633\n",
              "Carne de cerdo, tocino papada           624\n",
              "Carne de res, murillo                   616\n",
              "Carne de cerdo, tocino barriga          606\n",
              "Pollo entero congelado sin visceras     556\n",
              "Carne de res, paletero                  529\n",
              "Name: Producto, dtype: int64"
            ]
          },
          "metadata": {},
          "execution_count": 23
        }
      ]
    },
    {
      "cell_type": "code",
      "source": [
        "P = ['Pechuga de pollo']\n",
        "dfp = df2[df2[\"Producto\"].isin(P)]\n",
        "dfpc = df2[(df2[\"Producto\"].isin(P)) & (df2['Ciudad'].isin(C))]"
      ],
      "metadata": {
        "id": "qMRMxCZYLTE8"
      },
      "execution_count": null,
      "outputs": []
    },
    {
      "cell_type": "code",
      "source": [
        "dfpc"
      ],
      "metadata": {
        "colab": {
          "base_uri": "https://localhost:8080/",
          "height": 1000
        },
        "id": "VQvdbKwNXNue",
        "outputId": "508d4e18-0ac9-4345-d42a-bb1a191422bc"
      },
      "execution_count": null,
      "outputs": [
        {
          "output_type": "execute_result",
          "data": {
            "text/plain": [
              "             Grupo          Producto  Precio KG  Ciudad         Plaza\n",
              "Fecha                                                                \n",
              "2019-01-01  carnes  Pechuga de pollo     7927.0  Ibague   Plaza La 21\n",
              "2019-02-01  carnes  Pechuga de pollo     7817.0  Ibague   Plaza La 21\n",
              "2019-03-01  carnes  Pechuga de pollo     7821.0  Ibague   Plaza La 21\n",
              "2019-04-01  carnes  Pechuga de pollo     7827.0  Ibague   Plaza La 21\n",
              "2019-05-01  carnes  Pechuga de pollo     7767.0  Ibague   Plaza La 21\n",
              "2019-06-01  carnes  Pechuga de pollo     7733.0  Ibague   Plaza La 21\n",
              "2019-07-01  carnes  Pechuga de pollo     7693.0  Ibague   Plaza La 21\n",
              "2019-08-01  carnes  Pechuga de pollo     7800.0  Ibague   Plaza La 21\n",
              "2019-09-01  carnes  Pechuga de pollo     7967.0  Ibague   Plaza La 21\n",
              "2019-10-01  carnes  Pechuga de pollo     8053.0  Ibague   Plaza La 21\n",
              "2019-11-01  carnes  Pechuga de pollo     8094.0  Ibague   Plaza La 21\n",
              "2019-12-01  carnes  Pechuga de pollo     8350.0  Ibague   Plaza La 21\n",
              "2020-01-01  carnes  Pechuga de pollo     8167.0  Ibague   Plaza La 21\n",
              "2020-02-01  carnes  Pechuga de pollo     8267.0  Ibague   Plaza La 21\n",
              "2020-03-01  carnes  Pechuga de pollo     8220.0  Ibague   Plaza La 21\n",
              "2020-04-01  carnes  Pechuga de pollo     7792.0  Ibague   Plaza La 21\n",
              "2020-05-01  carnes  Pechuga de pollo     7488.0  Ibague   Plaza La 21\n",
              "2020-06-01  carnes  Pechuga de pollo     8404.0  Ibague   Plaza La 21\n",
              "2020-07-01  carnes  Pechuga de pollo     9027.0  Ibague   Plaza La 21\n",
              "2020-08-01  carnes  Pechuga de pollo     9117.0  Ibague   Plaza La 21\n",
              "2020-09-01  carnes  Pechuga de pollo     8113.0  Ibague   Plaza La 21\n",
              "2020-10-01  carnes  Pechuga de pollo     7823.0  Ibague   Plaza La 21\n",
              "2020-11-01  carnes  Pechuga de pollo     7800.0  Ibague   Plaza La 21\n",
              "2020-12-01  carnes  Pechuga de pollo     8720.0  Ibague   Plaza La 21\n",
              "2021-01-01  carnes  Pechuga de pollo     9346.0  Ibague   Plaza La 21\n",
              "2021-02-01  carnes  Pechuga de pollo     9263.0  Ibague   Plaza La 21\n",
              "2021-03-01  carnes  Pechuga de pollo     9433.0  Ibague   Plaza La 21\n",
              "2021-04-01  carnes  Pechuga de pollo     9725.0  Ibague   Plaza La 21\n",
              "2021-05-01  carnes  Pechuga de pollo    10733.0  Ibague   Plaza La 21\n",
              "2021-06-01  carnes  Pechuga de pollo    12142.0  Ibague   Plaza La 21\n",
              "2021-07-01  carnes  Pechuga de pollo    12000.0  Ibague   Plaza La 21\n",
              "2021-08-01  carnes  Pechuga de pollo    11600.0  Ibague   Plaza La 21\n",
              "2021-09-01  carnes  Pechuga de pollo    11617.0  Ibague   Plaza La 21\n",
              "2021-10-01  carnes  Pechuga de pollo    11379.0  Ibague   Plaza La 21\n",
              "2021-11-01  carnes  Pechuga de pollo    11440.0  Ibague   Plaza La 21\n",
              "2021-12-01  carnes  Pechuga de pollo    12083.0  Ibague   Plaza La 21\n",
              "2022-01-01  carnes  Pechuga de pollo    12933.0  Ibague   Plaza La 21\n",
              "2022-02-01  carnes  Pechuga de pollo    11100.0  Ibague   Plaza La 21\n",
              "2022-03-01  carnes  Pechuga de pollo    11727.0  Ibague   Plaza La 21\n",
              "2022-04-01  carnes  Pechuga de pollo    11933.0  Ibague   Plaza La 21\n",
              "2022-05-01  carnes  Pechuga de pollo    11967.0  Ibague   Plaza La 21\n",
              "2022-06-01  carnes  Pechuga de pollo    12750.0  Ibague   Plaza La 21\n",
              "2022-07-01  carnes  Pechuga de pollo    12287.0  Ibague   Plaza La 21\n",
              "2022-08-01  carnes  Pechuga de pollo    12067.0  Ibague   Plaza La 21\n",
              "2022-09-01  carnes  Pechuga de pollo    12140.0  Ibague   Plaza La 21\n",
              "2022-10-01  carnes  Pechuga de pollo    12300.0  Ibague   Plaza La 21\n",
              "2022-11-01  carnes  Pechuga de pollo    12407.0  Ibague   Plaza La 21\n",
              "2022-12-01  carnes  Pechuga de pollo    12413.0  Ibague   Plaza La 21"
            ],
            "text/html": [
              "\n",
              "  <div id=\"df-7ecf5bbc-e35d-47ea-8eb0-9672a5cabd98\">\n",
              "    <div class=\"colab-df-container\">\n",
              "      <div>\n",
              "<style scoped>\n",
              "    .dataframe tbody tr th:only-of-type {\n",
              "        vertical-align: middle;\n",
              "    }\n",
              "\n",
              "    .dataframe tbody tr th {\n",
              "        vertical-align: top;\n",
              "    }\n",
              "\n",
              "    .dataframe thead th {\n",
              "        text-align: right;\n",
              "    }\n",
              "</style>\n",
              "<table border=\"1\" class=\"dataframe\">\n",
              "  <thead>\n",
              "    <tr style=\"text-align: right;\">\n",
              "      <th></th>\n",
              "      <th>Grupo</th>\n",
              "      <th>Producto</th>\n",
              "      <th>Precio KG</th>\n",
              "      <th>Ciudad</th>\n",
              "      <th>Plaza</th>\n",
              "    </tr>\n",
              "    <tr>\n",
              "      <th>Fecha</th>\n",
              "      <th></th>\n",
              "      <th></th>\n",
              "      <th></th>\n",
              "      <th></th>\n",
              "      <th></th>\n",
              "    </tr>\n",
              "  </thead>\n",
              "  <tbody>\n",
              "    <tr>\n",
              "      <th>2019-01-01</th>\n",
              "      <td>carnes</td>\n",
              "      <td>Pechuga de pollo</td>\n",
              "      <td>7927.0</td>\n",
              "      <td>Ibague</td>\n",
              "      <td>Plaza La 21</td>\n",
              "    </tr>\n",
              "    <tr>\n",
              "      <th>2019-02-01</th>\n",
              "      <td>carnes</td>\n",
              "      <td>Pechuga de pollo</td>\n",
              "      <td>7817.0</td>\n",
              "      <td>Ibague</td>\n",
              "      <td>Plaza La 21</td>\n",
              "    </tr>\n",
              "    <tr>\n",
              "      <th>2019-03-01</th>\n",
              "      <td>carnes</td>\n",
              "      <td>Pechuga de pollo</td>\n",
              "      <td>7821.0</td>\n",
              "      <td>Ibague</td>\n",
              "      <td>Plaza La 21</td>\n",
              "    </tr>\n",
              "    <tr>\n",
              "      <th>2019-04-01</th>\n",
              "      <td>carnes</td>\n",
              "      <td>Pechuga de pollo</td>\n",
              "      <td>7827.0</td>\n",
              "      <td>Ibague</td>\n",
              "      <td>Plaza La 21</td>\n",
              "    </tr>\n",
              "    <tr>\n",
              "      <th>2019-05-01</th>\n",
              "      <td>carnes</td>\n",
              "      <td>Pechuga de pollo</td>\n",
              "      <td>7767.0</td>\n",
              "      <td>Ibague</td>\n",
              "      <td>Plaza La 21</td>\n",
              "    </tr>\n",
              "    <tr>\n",
              "      <th>2019-06-01</th>\n",
              "      <td>carnes</td>\n",
              "      <td>Pechuga de pollo</td>\n",
              "      <td>7733.0</td>\n",
              "      <td>Ibague</td>\n",
              "      <td>Plaza La 21</td>\n",
              "    </tr>\n",
              "    <tr>\n",
              "      <th>2019-07-01</th>\n",
              "      <td>carnes</td>\n",
              "      <td>Pechuga de pollo</td>\n",
              "      <td>7693.0</td>\n",
              "      <td>Ibague</td>\n",
              "      <td>Plaza La 21</td>\n",
              "    </tr>\n",
              "    <tr>\n",
              "      <th>2019-08-01</th>\n",
              "      <td>carnes</td>\n",
              "      <td>Pechuga de pollo</td>\n",
              "      <td>7800.0</td>\n",
              "      <td>Ibague</td>\n",
              "      <td>Plaza La 21</td>\n",
              "    </tr>\n",
              "    <tr>\n",
              "      <th>2019-09-01</th>\n",
              "      <td>carnes</td>\n",
              "      <td>Pechuga de pollo</td>\n",
              "      <td>7967.0</td>\n",
              "      <td>Ibague</td>\n",
              "      <td>Plaza La 21</td>\n",
              "    </tr>\n",
              "    <tr>\n",
              "      <th>2019-10-01</th>\n",
              "      <td>carnes</td>\n",
              "      <td>Pechuga de pollo</td>\n",
              "      <td>8053.0</td>\n",
              "      <td>Ibague</td>\n",
              "      <td>Plaza La 21</td>\n",
              "    </tr>\n",
              "    <tr>\n",
              "      <th>2019-11-01</th>\n",
              "      <td>carnes</td>\n",
              "      <td>Pechuga de pollo</td>\n",
              "      <td>8094.0</td>\n",
              "      <td>Ibague</td>\n",
              "      <td>Plaza La 21</td>\n",
              "    </tr>\n",
              "    <tr>\n",
              "      <th>2019-12-01</th>\n",
              "      <td>carnes</td>\n",
              "      <td>Pechuga de pollo</td>\n",
              "      <td>8350.0</td>\n",
              "      <td>Ibague</td>\n",
              "      <td>Plaza La 21</td>\n",
              "    </tr>\n",
              "    <tr>\n",
              "      <th>2020-01-01</th>\n",
              "      <td>carnes</td>\n",
              "      <td>Pechuga de pollo</td>\n",
              "      <td>8167.0</td>\n",
              "      <td>Ibague</td>\n",
              "      <td>Plaza La 21</td>\n",
              "    </tr>\n",
              "    <tr>\n",
              "      <th>2020-02-01</th>\n",
              "      <td>carnes</td>\n",
              "      <td>Pechuga de pollo</td>\n",
              "      <td>8267.0</td>\n",
              "      <td>Ibague</td>\n",
              "      <td>Plaza La 21</td>\n",
              "    </tr>\n",
              "    <tr>\n",
              "      <th>2020-03-01</th>\n",
              "      <td>carnes</td>\n",
              "      <td>Pechuga de pollo</td>\n",
              "      <td>8220.0</td>\n",
              "      <td>Ibague</td>\n",
              "      <td>Plaza La 21</td>\n",
              "    </tr>\n",
              "    <tr>\n",
              "      <th>2020-04-01</th>\n",
              "      <td>carnes</td>\n",
              "      <td>Pechuga de pollo</td>\n",
              "      <td>7792.0</td>\n",
              "      <td>Ibague</td>\n",
              "      <td>Plaza La 21</td>\n",
              "    </tr>\n",
              "    <tr>\n",
              "      <th>2020-05-01</th>\n",
              "      <td>carnes</td>\n",
              "      <td>Pechuga de pollo</td>\n",
              "      <td>7488.0</td>\n",
              "      <td>Ibague</td>\n",
              "      <td>Plaza La 21</td>\n",
              "    </tr>\n",
              "    <tr>\n",
              "      <th>2020-06-01</th>\n",
              "      <td>carnes</td>\n",
              "      <td>Pechuga de pollo</td>\n",
              "      <td>8404.0</td>\n",
              "      <td>Ibague</td>\n",
              "      <td>Plaza La 21</td>\n",
              "    </tr>\n",
              "    <tr>\n",
              "      <th>2020-07-01</th>\n",
              "      <td>carnes</td>\n",
              "      <td>Pechuga de pollo</td>\n",
              "      <td>9027.0</td>\n",
              "      <td>Ibague</td>\n",
              "      <td>Plaza La 21</td>\n",
              "    </tr>\n",
              "    <tr>\n",
              "      <th>2020-08-01</th>\n",
              "      <td>carnes</td>\n",
              "      <td>Pechuga de pollo</td>\n",
              "      <td>9117.0</td>\n",
              "      <td>Ibague</td>\n",
              "      <td>Plaza La 21</td>\n",
              "    </tr>\n",
              "    <tr>\n",
              "      <th>2020-09-01</th>\n",
              "      <td>carnes</td>\n",
              "      <td>Pechuga de pollo</td>\n",
              "      <td>8113.0</td>\n",
              "      <td>Ibague</td>\n",
              "      <td>Plaza La 21</td>\n",
              "    </tr>\n",
              "    <tr>\n",
              "      <th>2020-10-01</th>\n",
              "      <td>carnes</td>\n",
              "      <td>Pechuga de pollo</td>\n",
              "      <td>7823.0</td>\n",
              "      <td>Ibague</td>\n",
              "      <td>Plaza La 21</td>\n",
              "    </tr>\n",
              "    <tr>\n",
              "      <th>2020-11-01</th>\n",
              "      <td>carnes</td>\n",
              "      <td>Pechuga de pollo</td>\n",
              "      <td>7800.0</td>\n",
              "      <td>Ibague</td>\n",
              "      <td>Plaza La 21</td>\n",
              "    </tr>\n",
              "    <tr>\n",
              "      <th>2020-12-01</th>\n",
              "      <td>carnes</td>\n",
              "      <td>Pechuga de pollo</td>\n",
              "      <td>8720.0</td>\n",
              "      <td>Ibague</td>\n",
              "      <td>Plaza La 21</td>\n",
              "    </tr>\n",
              "    <tr>\n",
              "      <th>2021-01-01</th>\n",
              "      <td>carnes</td>\n",
              "      <td>Pechuga de pollo</td>\n",
              "      <td>9346.0</td>\n",
              "      <td>Ibague</td>\n",
              "      <td>Plaza La 21</td>\n",
              "    </tr>\n",
              "    <tr>\n",
              "      <th>2021-02-01</th>\n",
              "      <td>carnes</td>\n",
              "      <td>Pechuga de pollo</td>\n",
              "      <td>9263.0</td>\n",
              "      <td>Ibague</td>\n",
              "      <td>Plaza La 21</td>\n",
              "    </tr>\n",
              "    <tr>\n",
              "      <th>2021-03-01</th>\n",
              "      <td>carnes</td>\n",
              "      <td>Pechuga de pollo</td>\n",
              "      <td>9433.0</td>\n",
              "      <td>Ibague</td>\n",
              "      <td>Plaza La 21</td>\n",
              "    </tr>\n",
              "    <tr>\n",
              "      <th>2021-04-01</th>\n",
              "      <td>carnes</td>\n",
              "      <td>Pechuga de pollo</td>\n",
              "      <td>9725.0</td>\n",
              "      <td>Ibague</td>\n",
              "      <td>Plaza La 21</td>\n",
              "    </tr>\n",
              "    <tr>\n",
              "      <th>2021-05-01</th>\n",
              "      <td>carnes</td>\n",
              "      <td>Pechuga de pollo</td>\n",
              "      <td>10733.0</td>\n",
              "      <td>Ibague</td>\n",
              "      <td>Plaza La 21</td>\n",
              "    </tr>\n",
              "    <tr>\n",
              "      <th>2021-06-01</th>\n",
              "      <td>carnes</td>\n",
              "      <td>Pechuga de pollo</td>\n",
              "      <td>12142.0</td>\n",
              "      <td>Ibague</td>\n",
              "      <td>Plaza La 21</td>\n",
              "    </tr>\n",
              "    <tr>\n",
              "      <th>2021-07-01</th>\n",
              "      <td>carnes</td>\n",
              "      <td>Pechuga de pollo</td>\n",
              "      <td>12000.0</td>\n",
              "      <td>Ibague</td>\n",
              "      <td>Plaza La 21</td>\n",
              "    </tr>\n",
              "    <tr>\n",
              "      <th>2021-08-01</th>\n",
              "      <td>carnes</td>\n",
              "      <td>Pechuga de pollo</td>\n",
              "      <td>11600.0</td>\n",
              "      <td>Ibague</td>\n",
              "      <td>Plaza La 21</td>\n",
              "    </tr>\n",
              "    <tr>\n",
              "      <th>2021-09-01</th>\n",
              "      <td>carnes</td>\n",
              "      <td>Pechuga de pollo</td>\n",
              "      <td>11617.0</td>\n",
              "      <td>Ibague</td>\n",
              "      <td>Plaza La 21</td>\n",
              "    </tr>\n",
              "    <tr>\n",
              "      <th>2021-10-01</th>\n",
              "      <td>carnes</td>\n",
              "      <td>Pechuga de pollo</td>\n",
              "      <td>11379.0</td>\n",
              "      <td>Ibague</td>\n",
              "      <td>Plaza La 21</td>\n",
              "    </tr>\n",
              "    <tr>\n",
              "      <th>2021-11-01</th>\n",
              "      <td>carnes</td>\n",
              "      <td>Pechuga de pollo</td>\n",
              "      <td>11440.0</td>\n",
              "      <td>Ibague</td>\n",
              "      <td>Plaza La 21</td>\n",
              "    </tr>\n",
              "    <tr>\n",
              "      <th>2021-12-01</th>\n",
              "      <td>carnes</td>\n",
              "      <td>Pechuga de pollo</td>\n",
              "      <td>12083.0</td>\n",
              "      <td>Ibague</td>\n",
              "      <td>Plaza La 21</td>\n",
              "    </tr>\n",
              "    <tr>\n",
              "      <th>2022-01-01</th>\n",
              "      <td>carnes</td>\n",
              "      <td>Pechuga de pollo</td>\n",
              "      <td>12933.0</td>\n",
              "      <td>Ibague</td>\n",
              "      <td>Plaza La 21</td>\n",
              "    </tr>\n",
              "    <tr>\n",
              "      <th>2022-02-01</th>\n",
              "      <td>carnes</td>\n",
              "      <td>Pechuga de pollo</td>\n",
              "      <td>11100.0</td>\n",
              "      <td>Ibague</td>\n",
              "      <td>Plaza La 21</td>\n",
              "    </tr>\n",
              "    <tr>\n",
              "      <th>2022-03-01</th>\n",
              "      <td>carnes</td>\n",
              "      <td>Pechuga de pollo</td>\n",
              "      <td>11727.0</td>\n",
              "      <td>Ibague</td>\n",
              "      <td>Plaza La 21</td>\n",
              "    </tr>\n",
              "    <tr>\n",
              "      <th>2022-04-01</th>\n",
              "      <td>carnes</td>\n",
              "      <td>Pechuga de pollo</td>\n",
              "      <td>11933.0</td>\n",
              "      <td>Ibague</td>\n",
              "      <td>Plaza La 21</td>\n",
              "    </tr>\n",
              "    <tr>\n",
              "      <th>2022-05-01</th>\n",
              "      <td>carnes</td>\n",
              "      <td>Pechuga de pollo</td>\n",
              "      <td>11967.0</td>\n",
              "      <td>Ibague</td>\n",
              "      <td>Plaza La 21</td>\n",
              "    </tr>\n",
              "    <tr>\n",
              "      <th>2022-06-01</th>\n",
              "      <td>carnes</td>\n",
              "      <td>Pechuga de pollo</td>\n",
              "      <td>12750.0</td>\n",
              "      <td>Ibague</td>\n",
              "      <td>Plaza La 21</td>\n",
              "    </tr>\n",
              "    <tr>\n",
              "      <th>2022-07-01</th>\n",
              "      <td>carnes</td>\n",
              "      <td>Pechuga de pollo</td>\n",
              "      <td>12287.0</td>\n",
              "      <td>Ibague</td>\n",
              "      <td>Plaza La 21</td>\n",
              "    </tr>\n",
              "    <tr>\n",
              "      <th>2022-08-01</th>\n",
              "      <td>carnes</td>\n",
              "      <td>Pechuga de pollo</td>\n",
              "      <td>12067.0</td>\n",
              "      <td>Ibague</td>\n",
              "      <td>Plaza La 21</td>\n",
              "    </tr>\n",
              "    <tr>\n",
              "      <th>2022-09-01</th>\n",
              "      <td>carnes</td>\n",
              "      <td>Pechuga de pollo</td>\n",
              "      <td>12140.0</td>\n",
              "      <td>Ibague</td>\n",
              "      <td>Plaza La 21</td>\n",
              "    </tr>\n",
              "    <tr>\n",
              "      <th>2022-10-01</th>\n",
              "      <td>carnes</td>\n",
              "      <td>Pechuga de pollo</td>\n",
              "      <td>12300.0</td>\n",
              "      <td>Ibague</td>\n",
              "      <td>Plaza La 21</td>\n",
              "    </tr>\n",
              "    <tr>\n",
              "      <th>2022-11-01</th>\n",
              "      <td>carnes</td>\n",
              "      <td>Pechuga de pollo</td>\n",
              "      <td>12407.0</td>\n",
              "      <td>Ibague</td>\n",
              "      <td>Plaza La 21</td>\n",
              "    </tr>\n",
              "    <tr>\n",
              "      <th>2022-12-01</th>\n",
              "      <td>carnes</td>\n",
              "      <td>Pechuga de pollo</td>\n",
              "      <td>12413.0</td>\n",
              "      <td>Ibague</td>\n",
              "      <td>Plaza La 21</td>\n",
              "    </tr>\n",
              "  </tbody>\n",
              "</table>\n",
              "</div>\n",
              "      <button class=\"colab-df-convert\" onclick=\"convertToInteractive('df-7ecf5bbc-e35d-47ea-8eb0-9672a5cabd98')\"\n",
              "              title=\"Convert this dataframe to an interactive table.\"\n",
              "              style=\"display:none;\">\n",
              "        \n",
              "  <svg xmlns=\"http://www.w3.org/2000/svg\" height=\"24px\"viewBox=\"0 0 24 24\"\n",
              "       width=\"24px\">\n",
              "    <path d=\"M0 0h24v24H0V0z\" fill=\"none\"/>\n",
              "    <path d=\"M18.56 5.44l.94 2.06.94-2.06 2.06-.94-2.06-.94-.94-2.06-.94 2.06-2.06.94zm-11 1L8.5 8.5l.94-2.06 2.06-.94-2.06-.94L8.5 2.5l-.94 2.06-2.06.94zm10 10l.94 2.06.94-2.06 2.06-.94-2.06-.94-.94-2.06-.94 2.06-2.06.94z\"/><path d=\"M17.41 7.96l-1.37-1.37c-.4-.4-.92-.59-1.43-.59-.52 0-1.04.2-1.43.59L10.3 9.45l-7.72 7.72c-.78.78-.78 2.05 0 2.83L4 21.41c.39.39.9.59 1.41.59.51 0 1.02-.2 1.41-.59l7.78-7.78 2.81-2.81c.8-.78.8-2.07 0-2.86zM5.41 20L4 18.59l7.72-7.72 1.47 1.35L5.41 20z\"/>\n",
              "  </svg>\n",
              "      </button>\n",
              "      \n",
              "  <style>\n",
              "    .colab-df-container {\n",
              "      display:flex;\n",
              "      flex-wrap:wrap;\n",
              "      gap: 12px;\n",
              "    }\n",
              "\n",
              "    .colab-df-convert {\n",
              "      background-color: #E8F0FE;\n",
              "      border: none;\n",
              "      border-radius: 50%;\n",
              "      cursor: pointer;\n",
              "      display: none;\n",
              "      fill: #1967D2;\n",
              "      height: 32px;\n",
              "      padding: 0 0 0 0;\n",
              "      width: 32px;\n",
              "    }\n",
              "\n",
              "    .colab-df-convert:hover {\n",
              "      background-color: #E2EBFA;\n",
              "      box-shadow: 0px 1px 2px rgba(60, 64, 67, 0.3), 0px 1px 3px 1px rgba(60, 64, 67, 0.15);\n",
              "      fill: #174EA6;\n",
              "    }\n",
              "\n",
              "    [theme=dark] .colab-df-convert {\n",
              "      background-color: #3B4455;\n",
              "      fill: #D2E3FC;\n",
              "    }\n",
              "\n",
              "    [theme=dark] .colab-df-convert:hover {\n",
              "      background-color: #434B5C;\n",
              "      box-shadow: 0px 1px 3px 1px rgba(0, 0, 0, 0.15);\n",
              "      filter: drop-shadow(0px 1px 2px rgba(0, 0, 0, 0.3));\n",
              "      fill: #FFFFFF;\n",
              "    }\n",
              "  </style>\n",
              "\n",
              "      <script>\n",
              "        const buttonEl =\n",
              "          document.querySelector('#df-7ecf5bbc-e35d-47ea-8eb0-9672a5cabd98 button.colab-df-convert');\n",
              "        buttonEl.style.display =\n",
              "          google.colab.kernel.accessAllowed ? 'block' : 'none';\n",
              "\n",
              "        async function convertToInteractive(key) {\n",
              "          const element = document.querySelector('#df-7ecf5bbc-e35d-47ea-8eb0-9672a5cabd98');\n",
              "          const dataTable =\n",
              "            await google.colab.kernel.invokeFunction('convertToInteractive',\n",
              "                                                     [key], {});\n",
              "          if (!dataTable) return;\n",
              "\n",
              "          const docLinkHtml = 'Like what you see? Visit the ' +\n",
              "            '<a target=\"_blank\" href=https://colab.research.google.com/notebooks/data_table.ipynb>data table notebook</a>'\n",
              "            + ' to learn more about interactive tables.';\n",
              "          element.innerHTML = '';\n",
              "          dataTable['output_type'] = 'display_data';\n",
              "          await google.colab.output.renderOutput(dataTable, element);\n",
              "          const docLink = document.createElement('div');\n",
              "          docLink.innerHTML = docLinkHtml;\n",
              "          element.appendChild(docLink);\n",
              "        }\n",
              "      </script>\n",
              "    </div>\n",
              "  </div>\n",
              "  "
            ]
          },
          "metadata": {},
          "execution_count": 25
        }
      ]
    },
    {
      "cell_type": "markdown",
      "source": [
        "##Idea\n",
        "### create a function where if you dont choose a city you get a dataframe with all the countries and only the products given if not then return a dataframe with the product and city given"
      ],
      "metadata": {
        "id": "wdzWCTbJZw_O"
      }
    },
    {
      "cell_type": "code",
      "source": [
        "# the join function map wil give us utomticlly the title of the entire grapichs that we are making\n",
        "t = 'Precio KG de '+(' '.join(map(str, P)))+' en '+(' '.join(map(str, C)))\n"
      ],
      "metadata": {
        "id": "ZXodDhOsqJB_"
      },
      "execution_count": null,
      "outputs": []
    },
    {
      "cell_type": "code",
      "source": [
        "# why are we seeing a strange graph?\n",
        "# There are different value for the cities all raound the country we need to configure the data to bether understaand this\n",
        "fig, ax = plt.subplots(figsize=(16, 6)) # thiss saves the fig  in the ax \n",
        "ax = sns.lineplot(data=dfpc, x=\"Fecha\", y=\"Precio KG\")# the ax value i the plotting of the cart\n",
        "ax.set(\n",
        "xlabel=\"Fecha\",\n",
        "ylabel=\"Precio KG\",\n",
        ")\n",
        "ax.set_title(t)"
      ],
      "metadata": {
        "colab": {
          "base_uri": "https://localhost:8080/",
          "height": 582
        },
        "id": "N7rEBWpBNS_n",
        "outputId": "6776969e-87af-401a-fc36-da189c1b6133"
      },
      "execution_count": null,
      "outputs": [
        {
          "output_type": "execute_result",
          "data": {
            "text/plain": [
              "Text(0.5, 1.0, 'Precio KG de Pechuga de pollo en Ibague')"
            ]
          },
          "metadata": {},
          "execution_count": 27
        },
        {
          "output_type": "display_data",
          "data": {
            "text/plain": [
              "<Figure size 1600x600 with 1 Axes>"
            ],
            "image/png": "[encoded data removed]"
          },
          "metadata": {}
        }
      ]
    },
    {
      "cell_type": "code",
      "source": [
        "dfpc.describe()"
      ],
      "metadata": {
        "colab": {
          "base_uri": "https://localhost:8080/",
          "height": 300
        },
        "id": "TmFVUvNau7HI",
        "outputId": "28534ae9-c374-4a72-dfb0-ed6fa44dffd9"
      },
      "execution_count": null,
      "outputs": [
        {
          "output_type": "execute_result",
          "data": {
            "text/plain": [
              "          Precio KG\n",
              "count     48.000000\n",
              "mean    9803.583333\n",
              "std     1923.821516\n",
              "min     7488.000000\n",
              "25%     7957.000000\n",
              "50%     9190.000000\n",
              "75%    11941.500000\n",
              "max    12933.000000"
            ],
            "text/html": [
              "\n",
              "  <div id=\"df-c042219c-926a-4e1e-9815-0283ab685e10\">\n",
              "    <div class=\"colab-df-container\">\n",
              "      <div>\n",
              "<style scoped>\n",
              "    .dataframe tbody tr th:only-of-type {\n",
              "        vertical-align: middle;\n",
              "    }\n",
              "\n",
              "    .dataframe tbody tr th {\n",
              "        vertical-align: top;\n",
              "    }\n",
              "\n",
              "    .dataframe thead th {\n",
              "        text-align: right;\n",
              "    }\n",
              "</style>\n",
              "<table border=\"1\" class=\"dataframe\">\n",
              "  <thead>\n",
              "    <tr style=\"text-align: right;\">\n",
              "      <th></th>\n",
              "      <th>Precio KG</th>\n",
              "    </tr>\n",
              "  </thead>\n",
              "  <tbody>\n",
              "    <tr>\n",
              "      <th>count</th>\n",
              "      <td>48.000000</td>\n",
              "    </tr>\n",
              "    <tr>\n",
              "      <th>mean</th>\n",
              "      <td>9803.583333</td>\n",
              "    </tr>\n",
              "    <tr>\n",
              "      <th>std</th>\n",
              "      <td>1923.821516</td>\n",
              "    </tr>\n",
              "    <tr>\n",
              "      <th>min</th>\n",
              "      <td>7488.000000</td>\n",
              "    </tr>\n",
              "    <tr>\n",
              "      <th>25%</th>\n",
              "      <td>7957.000000</td>\n",
              "    </tr>\n",
              "    <tr>\n",
              "      <th>50%</th>\n",
              "      <td>9190.000000</td>\n",
              "    </tr>\n",
              "    <tr>\n",
              "      <th>75%</th>\n",
              "      <td>11941.500000</td>\n",
              "    </tr>\n",
              "    <tr>\n",
              "      <th>max</th>\n",
              "      <td>12933.000000</td>\n",
              "    </tr>\n",
              "  </tbody>\n",
              "</table>\n",
              "</div>\n",
              "      <button class=\"colab-df-convert\" onclick=\"convertToInteractive('df-c042219c-926a-4e1e-9815-0283ab685e10')\"\n",
              "              title=\"Convert this dataframe to an interactive table.\"\n",
              "              style=\"display:none;\">\n",
              "        \n",
              "  <svg xmlns=\"http://www.w3.org/2000/svg\" height=\"24px\"viewBox=\"0 0 24 24\"\n",
              "       width=\"24px\">\n",
              "    <path d=\"M0 0h24v24H0V0z\" fill=\"none\"/>\n",
              "    <path d=\"M18.56 5.44l.94 2.06.94-2.06 2.06-.94-2.06-.94-.94-2.06-.94 2.06-2.06.94zm-11 1L8.5 8.5l.94-2.06 2.06-.94-2.06-.94L8.5 2.5l-.94 2.06-2.06.94zm10 10l.94 2.06.94-2.06 2.06-.94-2.06-.94-.94-2.06-.94 2.06-2.06.94z\"/><path d=\"M17.41 7.96l-1.37-1.37c-.4-.4-.92-.59-1.43-.59-.52 0-1.04.2-1.43.59L10.3 9.45l-7.72 7.72c-.78.78-.78 2.05 0 2.83L4 21.41c.39.39.9.59 1.41.59.51 0 1.02-.2 1.41-.59l7.78-7.78 2.81-2.81c.8-.78.8-2.07 0-2.86zM5.41 20L4 18.59l7.72-7.72 1.47 1.35L5.41 20z\"/>\n",
              "  </svg>\n",
              "      </button>\n",
              "      \n",
              "  <style>\n",
              "    .colab-df-container {\n",
              "      display:flex;\n",
              "      flex-wrap:wrap;\n",
              "      gap: 12px;\n",
              "    }\n",
              "\n",
              "    .colab-df-convert {\n",
              "      background-color: #E8F0FE;\n",
              "      border: none;\n",
              "      border-radius: 50%;\n",
              "      cursor: pointer;\n",
              "      display: none;\n",
              "      fill: #1967D2;\n",
              "      height: 32px;\n",
              "      padding: 0 0 0 0;\n",
              "      width: 32px;\n",
              "    }\n",
              "\n",
              "    .colab-df-convert:hover {\n",
              "      background-color: #E2EBFA;\n",
              "      box-shadow: 0px 1px 2px rgba(60, 64, 67, 0.3), 0px 1px 3px 1px rgba(60, 64, 67, 0.15);\n",
              "      fill: #174EA6;\n",
              "    }\n",
              "\n",
              "    [theme=dark] .colab-df-convert {\n",
              "      background-color: #3B4455;\n",
              "      fill: #D2E3FC;\n",
              "    }\n",
              "\n",
              "    [theme=dark] .colab-df-convert:hover {\n",
              "      background-color: #434B5C;\n",
              "      box-shadow: 0px 1px 3px 1px rgba(0, 0, 0, 0.15);\n",
              "      filter: drop-shadow(0px 1px 2px rgba(0, 0, 0, 0.3));\n",
              "      fill: #FFFFFF;\n",
              "    }\n",
              "  </style>\n",
              "\n",
              "      <script>\n",
              "        const buttonEl =\n",
              "          document.querySelector('#df-c042219c-926a-4e1e-9815-0283ab685e10 button.colab-df-convert');\n",
              "        buttonEl.style.display =\n",
              "          google.colab.kernel.accessAllowed ? 'block' : 'none';\n",
              "\n",
              "        async function convertToInteractive(key) {\n",
              "          const element = document.querySelector('#df-c042219c-926a-4e1e-9815-0283ab685e10');\n",
              "          const dataTable =\n",
              "            await google.colab.kernel.invokeFunction('convertToInteractive',\n",
              "                                                     [key], {});\n",
              "          if (!dataTable) return;\n",
              "\n",
              "          const docLinkHtml = 'Like what you see? Visit the ' +\n",
              "            '<a target=\"_blank\" href=https://colab.research.google.com/notebooks/data_table.ipynb>data table notebook</a>'\n",
              "            + ' to learn more about interactive tables.';\n",
              "          element.innerHTML = '';\n",
              "          dataTable['output_type'] = 'display_data';\n",
              "          await google.colab.output.renderOutput(dataTable, element);\n",
              "          const docLink = document.createElement('div');\n",
              "          docLink.innerHTML = docLinkHtml;\n",
              "          element.appendChild(docLink);\n",
              "        }\n",
              "      </script>\n",
              "    </div>\n",
              "  </div>\n",
              "  "
            ]
          },
          "metadata": {},
          "execution_count": 28
        }
      ]
    },
    {
      "cell_type": "code",
      "source": [
        "# instead of having a list we could also see it in the graph to get a better understanding of the min a max values\n",
        "# this is a new datafrme called point\n",
        "point = (dfpc['Precio KG'].min()) + (dfpc['Precio KG'].max())\n",
        "point"
      ],
      "metadata": {
        "id": "t9NnyBhEyD5g",
        "colab": {
          "base_uri": "https://localhost:8080/"
        },
        "outputId": "adb03644-78f9-4014-9ca7-4be2d20f1ca8"
      },
      "execution_count": null,
      "outputs": [
        {
          "output_type": "execute_result",
          "data": {
            "text/plain": [
              "20421.0"
            ]
          },
          "metadata": {},
          "execution_count": 29
        }
      ]
    },
    {
      "cell_type": "code",
      "source": [
        "# this is the y axis list that will have the mean value over the entire len of the dataframe\n",
        "y=dfpc['Precio KG']\n",
        "x=dfpc.index\n",
        "y_avg = [np.mean(y)] * len(x)\n",
        "# now we need a new line but with the mean value of the year 2022 but that crosses the entire year\n",
        "y_22 = dfpc.loc[\"2022\":\"2023\",\"Precio KG\"]\n",
        "y_avg22=[np.mean(y_22)]* len(x)"
      ],
      "metadata": {
        "id": "XJ50lrnnUzye"
      },
      "execution_count": null,
      "outputs": []
    },
    {
      "cell_type": "code",
      "source": [
        "# this proof that this linnne of code will change be a range of values that are all the same average and has a lenght of a specified array\n",
        "[np.mean(y_avg22)]* len(x)"
      ],
      "metadata": {
        "id": "43RrSEXw3SrG",
        "colab": {
          "base_uri": "https://localhost:8080/"
        },
        "outputId": "da7e2f40-4350-4e58-f707-ee2c0b7b65b3"
      },
      "execution_count": null,
      "outputs": [
        {
          "output_type": "execute_result",
          "data": {
            "text/plain": [
              "[12168.666666666666,\n",
              " 12168.666666666666,\n",
              " 12168.666666666666,\n",
              " 12168.666666666666,\n",
              " 12168.666666666666,\n",
              " 12168.666666666666,\n",
              " 12168.666666666666,\n",
              " 12168.666666666666,\n",
              " 12168.666666666666,\n",
              " 12168.666666666666,\n",
              " 12168.666666666666,\n",
              " 12168.666666666666,\n",
              " 12168.666666666666,\n",
              " 12168.666666666666,\n",
              " 12168.666666666666,\n",
              " 12168.666666666666,\n",
              " 12168.666666666666,\n",
              " 12168.666666666666,\n",
              " 12168.666666666666,\n",
              " 12168.666666666666,\n",
              " 12168.666666666666,\n",
              " 12168.666666666666,\n",
              " 12168.666666666666,\n",
              " 12168.666666666666,\n",
              " 12168.666666666666,\n",
              " 12168.666666666666,\n",
              " 12168.666666666666,\n",
              " 12168.666666666666,\n",
              " 12168.666666666666,\n",
              " 12168.666666666666,\n",
              " 12168.666666666666,\n",
              " 12168.666666666666,\n",
              " 12168.666666666666,\n",
              " 12168.666666666666,\n",
              " 12168.666666666666,\n",
              " 12168.666666666666,\n",
              " 12168.666666666666,\n",
              " 12168.666666666666,\n",
              " 12168.666666666666,\n",
              " 12168.666666666666,\n",
              " 12168.666666666666,\n",
              " 12168.666666666666,\n",
              " 12168.666666666666,\n",
              " 12168.666666666666,\n",
              " 12168.666666666666,\n",
              " 12168.666666666666,\n",
              " 12168.666666666666,\n",
              " 12168.666666666666]"
            ]
          },
          "metadata": {},
          "execution_count": 31
        }
      ]
    },
    {
      "cell_type": "code",
      "source": [
        "y_avg22 = dfpc.loc[\"2022\":\"2023\",\"Precio KG\"]"
      ],
      "metadata": {
        "id": "iKqH96Yr3Srm"
      },
      "execution_count": null,
      "outputs": []
    },
    {
      "cell_type": "code",
      "source": [
        "# here i noted that is is first necessary to call the size of the figure general atrubites like the x annd y labels \n",
        "# and then set every plot that we wanted\n",
        "x = dfpc.index\n",
        "y = dfpc['Precio KG']\n",
        "y_avg = [np.mean(y)] * len(x)\n",
        "y_22 = dfpc.loc[\"2022\":\"2023\",\"Precio KG\"]\n",
        "y_avg22=[np.mean(y_22)]* len(x)\n",
        "plt.figure(figsize=(8,4))\n",
        "plt.title(t)\n",
        "plt.xlabel('Fecha')\n",
        "plt.ylabel('Precio KG')\n",
        "plt.plot(x, y)\n",
        "plt.plot(x, y_avg, color='red', ls='--')\n",
        "plt.plot(x,y_avg22, color=\"green\",ls=\"--\")\n",
        "plt.show()"
      ],
      "metadata": {
        "colab": {
          "base_uri": "https://localhost:8080/",
          "height": 410
        },
        "outputId": "8df209ed-59e5-498d-9bc9-93be2c9d6d1b",
        "id": "MKBoOi3OafEQ"
      },
      "execution_count": null,
      "outputs": [
        {
          "output_type": "display_data",
          "data": {
            "text/plain": [
              "<Figure size 800x400 with 1 Axes>"
            ],
            "image/png": "[encoded data removed]"
          },
          "metadata": {}
        }
      ]
    },
    {
      "cell_type": "code",
      "source": [
        "# here i noted that is is first necessary to call the size of the figure general atrubites like the x annd y labels \n",
        "# and then set every plot that we wanted\n",
        "x = dfpc.index\n",
        "y = dfpc['Precio KG']\n",
        "y_avg = [np.mean(y)] * len(x)\n",
        "y_22 = dfpc.loc[\"2022\":\"2023\",\"Precio KG\"]\n",
        "y_avg22=[np.mean(y_22)]* len(x)\n",
        "plt.figure(figsize=(16,6))\n",
        "plt.title(t)\n",
        "plt.xlabel('Fecha')\n",
        "plt.ylabel('Precio KG')\n",
        "sns.lineplot(data =dfpc,x='Fecha',y='Precio KG',label ='PRICE')\n",
        "plt.plot(x, y_avg, color='red', ls='--',label ='avg 2019-2022')\n",
        "plt.plot(x,y_avg22, color=\"green\",ls=\"--\",label='avg 2022')\n",
        "plt.legend(loc=\"upper left\")\n",
        "plt.show()\n",
        "\n",
        "# now you can see that thiss line of seaborn .plotline is a better fit for our data \n",
        "# as the blue line representes the mean of all the valuess and \n",
        "# the gradient blue will represent data that represent each mean of the day calculated "
      ],
      "metadata": {
        "colab": {
          "base_uri": "https://localhost:8080/",
          "height": 564
        },
        "outputId": "bb9ae008-0630-4400-ad6a-5144d86d4ad9",
        "id": "FzE7lWceEbS5"
      },
      "execution_count": null,
      "outputs": [
        {
          "output_type": "display_data",
          "data": {
            "text/plain": [
              "<Figure size 1600x600 with 1 Axes>"
            ],
            "image/png": "[encoded data removed]"
          },
          "metadata": {}
        }
      ]
    },
    {
      "cell_type": "code",
      "source": [
        "# here we can see that for a single day of the month we get various values thanks to the different WHOLESALE markets\n",
        "# that is why we get a timelinen gragh that does'nt look normal \n",
        "# maybe we should use other type of grapgh to better represent the differrent prices that you can see in a normal day \n",
        "dfpc.head()\n",
        "'how to make a candle timeline in matplotlib'"
      ],
      "metadata": {
        "colab": {
          "base_uri": "https://localhost:8080/",
          "height": 36
        },
        "id": "OzOIEdhi9uVG",
        "outputId": "9276a2d6-ecbf-45bd-db17-3bf85637ba16"
      },
      "execution_count": null,
      "outputs": [
        {
          "output_type": "execute_result",
          "data": {
            "text/plain": [
              "'how to make a candle timeline in matplotlib'"
            ],
            "application/vnd.google.colaboratory.intrinsic+json": {
              "type": "string"
            }
          },
          "metadata": {},
          "execution_count": 35
        }
      ]
    },
    {
      "cell_type": "code",
      "source": [
        "sns.lineplot(data=dfpc, x=\"Fecha\", y=\"Precio KG\")"
      ],
      "metadata": {
        "colab": {
          "base_uri": "https://localhost:8080/",
          "height": 467
        },
        "id": "7p1bahy9D73V",
        "outputId": "481b8c2b-24c6-4acd-c6ec-80ac75f36cb6"
      },
      "execution_count": null,
      "outputs": [
        {
          "output_type": "execute_result",
          "data": {
            "text/plain": [
              "<Axes: xlabel='Fecha', ylabel='Precio KG'>"
            ]
          },
          "metadata": {},
          "execution_count": 36
        },
        {
          "output_type": "display_data",
          "data": {
            "text/plain": [
              "<Figure size 640x480 with 1 Axes>"
            ],
            "image/png": "[encoded data removed]"
          },
          "metadata": {}
        }
      ]
    },
    {
      "cell_type": "code",
      "source": [
        "# here you will find the prices with less and more variationa across the cities \n",
        "print(dfpc.describe().round())\n",
        "print(t)\n",
        "print(dfp.describe().round())"
      ],
      "metadata": {
        "id": "nZ0u2Cvwchac",
        "colab": {
          "base_uri": "https://localhost:8080/"
        },
        "outputId": "e1519619-9f57-4c43-ab41-3f043d2e48f5"
      },
      "execution_count": null,
      "outputs": [
        {
          "output_type": "stream",
          "name": "stdout",
          "text": [
            "       Precio KG\n",
            "count       48.0\n",
            "mean      9804.0\n",
            "std       1924.0\n",
            "min       7488.0\n",
            "25%       7957.0\n",
            "50%       9190.0\n",
            "75%      11942.0\n",
            "max      12933.0\n",
            "Precio KG de Pechuga de pollo en Ibague\n",
            "       Precio KG\n",
            "count     1439.0\n",
            "mean      9987.0\n",
            "std       2519.0\n",
            "min       5156.0\n",
            "25%       7819.0\n",
            "50%       9227.0\n",
            "75%      12125.0\n",
            "max      18100.0\n"
          ]
        }
      ]
    },
    {
      "cell_type": "code",
      "source": [
        "# here we are seeing the product and its standart deviaation by citie \n",
        "# so we can see where are the products with less variation in its prices\n",
        "# it is correct the clarify that less variation in the prices \n",
        "# doesn't necessarly meaan lower prices\n",
        "std=dfp.groupby('Ciudad')['Precio KG'].std().round()\n",
        "mis = std.nlargest(5)\n",
        "mas = std.nsmallest(5)\n",
        "print(mis)\n",
        "print(mas)"
      ],
      "metadata": {
        "id": "z1M-O_HymbaH",
        "colab": {
          "base_uri": "https://localhost:8080/"
        },
        "outputId": "65e4d1ca-9cc0-4271-958e-3111ccd53fde"
      },
      "execution_count": null,
      "outputs": [
        {
          "output_type": "stream",
          "name": "stdout",
          "text": [
            "Ciudad\n",
            "Pasto                  3311.0\n",
            "Florencia (Caqueta)    2599.0\n",
            "Manizales              2474.0\n",
            "Popayan                2464.0\n",
            "Cartagena              2435.0\n",
            "Name: Precio KG, dtype: float64\n",
            "Ciudad\n",
            "Ibague                     1924.0\n",
            "Santa Marta (Magdalena)    2007.0\n",
            "Villavicencio              2067.0\n",
            "Neiva                      2117.0\n",
            "Arauca (Arauca)            2137.0\n",
            "Name: Precio KG, dtype: float64\n"
          ]
        }
      ]
    },
    {
      "cell_type": "code",
      "source": [
        "# here you can see that we use the same function to call the max a min values of the dataframe \n",
        "# maaybe we can use a function to save lines of code\n",
        "M= dfp.groupby('Ciudad')['Precio KG'].mean()\n",
        "mi = M.nlargest(5)\n",
        "ma = M.nsmallest(5)\n",
        "print(mi)\n",
        "print(ma)"
      ],
      "metadata": {
        "id": "I6OYw9__uOaN",
        "colab": {
          "base_uri": "https://localhost:8080/"
        },
        "outputId": "7b47c25c-06c4-4fd4-9a01-65e9312f0b68"
      },
      "execution_count": null,
      "outputs": [
        {
          "output_type": "stream",
          "name": "stdout",
          "text": [
            "Ciudad\n",
            "Pasto                        13043.145833\n",
            "Tulua (Valle del Cauca)      11370.937500\n",
            "Bucaramanga                  11311.645833\n",
            "Palmira (Valle del Cauca)    10687.437500\n",
            "Popayan                      10391.937500\n",
            "Name: Precio KG, dtype: float64\n",
            "Ciudad\n",
            "Arauca (Arauca)            8280.729167\n",
            "Valledupar                 8465.291667\n",
            "Barranquilla               8959.364583\n",
            "Cúcuta                     9224.187500\n",
            "Santa Marta (Magdalena)    9316.625000\n",
            "Name: Precio KG, dtype: float64\n"
          ]
        }
      ]
    },
    {
      "cell_type": "code",
      "source": [
        "dfpc.loc['2019':'2019-12']"
      ],
      "metadata": {
        "colab": {
          "base_uri": "https://localhost:8080/",
          "height": 457
        },
        "id": "loFZIU2mWFTh",
        "outputId": "f9b4d8b5-2c57-4d38-c6a5-6949382442ed"
      },
      "execution_count": null,
      "outputs": [
        {
          "output_type": "execute_result",
          "data": {
            "text/plain": [
              "             Grupo          Producto  Precio KG  Ciudad         Plaza\n",
              "Fecha                                                                \n",
              "2019-01-01  carnes  Pechuga de pollo     7927.0  Ibague   Plaza La 21\n",
              "2019-02-01  carnes  Pechuga de pollo     7817.0  Ibague   Plaza La 21\n",
              "2019-03-01  carnes  Pechuga de pollo     7821.0  Ibague   Plaza La 21\n",
              "2019-04-01  carnes  Pechuga de pollo     7827.0  Ibague   Plaza La 21\n",
              "2019-05-01  carnes  Pechuga de pollo     7767.0  Ibague   Plaza La 21\n",
              "2019-06-01  carnes  Pechuga de pollo     7733.0  Ibague   Plaza La 21\n",
              "2019-07-01  carnes  Pechuga de pollo     7693.0  Ibague   Plaza La 21\n",
              "2019-08-01  carnes  Pechuga de pollo     7800.0  Ibague   Plaza La 21\n",
              "2019-09-01  carnes  Pechuga de pollo     7967.0  Ibague   Plaza La 21\n",
              "2019-10-01  carnes  Pechuga de pollo     8053.0  Ibague   Plaza La 21\n",
              "2019-11-01  carnes  Pechuga de pollo     8094.0  Ibague   Plaza La 21\n",
              "2019-12-01  carnes  Pechuga de pollo     8350.0  Ibague   Plaza La 21"
            ],
            "text/html": [
              "\n",
              "  <div id=\"df-105a5b7e-0b88-44b3-a91c-365b4a05e703\">\n",
              "    <div class=\"colab-df-container\">\n",
              "      <div>\n",
              "<style scoped>\n",
              "    .dataframe tbody tr th:only-of-type {\n",
              "        vertical-align: middle;\n",
              "    }\n",
              "\n",
              "    .dataframe tbody tr th {\n",
              "        vertical-align: top;\n",
              "    }\n",
              "\n",
              "    .dataframe thead th {\n",
              "        text-align: right;\n",
              "    }\n",
              "</style>\n",
              "<table border=\"1\" class=\"dataframe\">\n",
              "  <thead>\n",
              "    <tr style=\"text-align: right;\">\n",
              "      <th></th>\n",
              "      <th>Grupo</th>\n",
              "      <th>Producto</th>\n",
              "      <th>Precio KG</th>\n",
              "      <th>Ciudad</th>\n",
              "      <th>Plaza</th>\n",
              "    </tr>\n",
              "    <tr>\n",
              "      <th>Fecha</th>\n",
              "      <th></th>\n",
              "      <th></th>\n",
              "      <th></th>\n",
              "      <th></th>\n",
              "      <th></th>\n",
              "    </tr>\n",
              "  </thead>\n",
              "  <tbody>\n",
              "    <tr>\n",
              "      <th>2019-01-01</th>\n",
              "      <td>carnes</td>\n",
              "      <td>Pechuga de pollo</td>\n",
              "      <td>7927.0</td>\n",
              "      <td>Ibague</td>\n",
              "      <td>Plaza La 21</td>\n",
              "    </tr>\n",
              "    <tr>\n",
              "      <th>2019-02-01</th>\n",
              "      <td>carnes</td>\n",
              "      <td>Pechuga de pollo</td>\n",
              "      <td>7817.0</td>\n",
              "      <td>Ibague</td>\n",
              "      <td>Plaza La 21</td>\n",
              "    </tr>\n",
              "    <tr>\n",
              "      <th>2019-03-01</th>\n",
              "      <td>carnes</td>\n",
              "      <td>Pechuga de pollo</td>\n",
              "      <td>7821.0</td>\n",
              "      <td>Ibague</td>\n",
              "      <td>Plaza La 21</td>\n",
              "    </tr>\n",
              "    <tr>\n",
              "      <th>2019-04-01</th>\n",
              "      <td>carnes</td>\n",
              "      <td>Pechuga de pollo</td>\n",
              "      <td>7827.0</td>\n",
              "      <td>Ibague</td>\n",
              "      <td>Plaza La 21</td>\n",
              "    </tr>\n",
              "    <tr>\n",
              "      <th>2019-05-01</th>\n",
              "      <td>carnes</td>\n",
              "      <td>Pechuga de pollo</td>\n",
              "      <td>7767.0</td>\n",
              "      <td>Ibague</td>\n",
              "      <td>Plaza La 21</td>\n",
              "    </tr>\n",
              "    <tr>\n",
              "      <th>2019-06-01</th>\n",
              "      <td>carnes</td>\n",
              "      <td>Pechuga de pollo</td>\n",
              "      <td>7733.0</td>\n",
              "      <td>Ibague</td>\n",
              "      <td>Plaza La 21</td>\n",
              "    </tr>\n",
              "    <tr>\n",
              "      <th>2019-07-01</th>\n",
              "      <td>carnes</td>\n",
              "      <td>Pechuga de pollo</td>\n",
              "      <td>7693.0</td>\n",
              "      <td>Ibague</td>\n",
              "      <td>Plaza La 21</td>\n",
              "    </tr>\n",
              "    <tr>\n",
              "      <th>2019-08-01</th>\n",
              "      <td>carnes</td>\n",
              "      <td>Pechuga de pollo</td>\n",
              "      <td>7800.0</td>\n",
              "      <td>Ibague</td>\n",
              "      <td>Plaza La 21</td>\n",
              "    </tr>\n",
              "    <tr>\n",
              "      <th>2019-09-01</th>\n",
              "      <td>carnes</td>\n",
              "      <td>Pechuga de pollo</td>\n",
              "      <td>7967.0</td>\n",
              "      <td>Ibague</td>\n",
              "      <td>Plaza La 21</td>\n",
              "    </tr>\n",
              "    <tr>\n",
              "      <th>2019-10-01</th>\n",
              "      <td>carnes</td>\n",
              "      <td>Pechuga de pollo</td>\n",
              "      <td>8053.0</td>\n",
              "      <td>Ibague</td>\n",
              "      <td>Plaza La 21</td>\n",
              "    </tr>\n",
              "    <tr>\n",
              "      <th>2019-11-01</th>\n",
              "      <td>carnes</td>\n",
              "      <td>Pechuga de pollo</td>\n",
              "      <td>8094.0</td>\n",
              "      <td>Ibague</td>\n",
              "      <td>Plaza La 21</td>\n",
              "    </tr>\n",
              "    <tr>\n",
              "      <th>2019-12-01</th>\n",
              "      <td>carnes</td>\n",
              "      <td>Pechuga de pollo</td>\n",
              "      <td>8350.0</td>\n",
              "      <td>Ibague</td>\n",
              "      <td>Plaza La 21</td>\n",
              "    </tr>\n",
              "  </tbody>\n",
              "</table>\n",
              "</div>\n",
              "      <button class=\"colab-df-convert\" onclick=\"convertToInteractive('df-105a5b7e-0b88-44b3-a91c-365b4a05e703')\"\n",
              "              title=\"Convert this dataframe to an interactive table.\"\n",
              "              style=\"display:none;\">\n",
              "        \n",
              "  <svg xmlns=\"http://www.w3.org/2000/svg\" height=\"24px\"viewBox=\"0 0 24 24\"\n",
              "       width=\"24px\">\n",
              "    <path d=\"M0 0h24v24H0V0z\" fill=\"none\"/>\n",
              "    <path d=\"M18.56 5.44l.94 2.06.94-2.06 2.06-.94-2.06-.94-.94-2.06-.94 2.06-2.06.94zm-11 1L8.5 8.5l.94-2.06 2.06-.94-2.06-.94L8.5 2.5l-.94 2.06-2.06.94zm10 10l.94 2.06.94-2.06 2.06-.94-2.06-.94-.94-2.06-.94 2.06-2.06.94z\"/><path d=\"M17.41 7.96l-1.37-1.37c-.4-.4-.92-.59-1.43-.59-.52 0-1.04.2-1.43.59L10.3 9.45l-7.72 7.72c-.78.78-.78 2.05 0 2.83L4 21.41c.39.39.9.59 1.41.59.51 0 1.02-.2 1.41-.59l7.78-7.78 2.81-2.81c.8-.78.8-2.07 0-2.86zM5.41 20L4 18.59l7.72-7.72 1.47 1.35L5.41 20z\"/>\n",
              "  </svg>\n",
              "      </button>\n",
              "      \n",
              "  <style>\n",
              "    .colab-df-container {\n",
              "      display:flex;\n",
              "      flex-wrap:wrap;\n",
              "      gap: 12px;\n",
              "    }\n",
              "\n",
              "    .colab-df-convert {\n",
              "      background-color: #E8F0FE;\n",
              "      border: none;\n",
              "      border-radius: 50%;\n",
              "      cursor: pointer;\n",
              "      display: none;\n",
              "      fill: #1967D2;\n",
              "      height: 32px;\n",
              "      padding: 0 0 0 0;\n",
              "      width: 32px;\n",
              "    }\n",
              "\n",
              "    .colab-df-convert:hover {\n",
              "      background-color: #E2EBFA;\n",
              "      box-shadow: 0px 1px 2px rgba(60, 64, 67, 0.3), 0px 1px 3px 1px rgba(60, 64, 67, 0.15);\n",
              "      fill: #174EA6;\n",
              "    }\n",
              "\n",
              "    [theme=dark] .colab-df-convert {\n",
              "      background-color: #3B4455;\n",
              "      fill: #D2E3FC;\n",
              "    }\n",
              "\n",
              "    [theme=dark] .colab-df-convert:hover {\n",
              "      background-color: #434B5C;\n",
              "      box-shadow: 0px 1px 3px 1px rgba(0, 0, 0, 0.15);\n",
              "      filter: drop-shadow(0px 1px 2px rgba(0, 0, 0, 0.3));\n",
              "      fill: #FFFFFF;\n",
              "    }\n",
              "  </style>\n",
              "\n",
              "      <script>\n",
              "        const buttonEl =\n",
              "          document.querySelector('#df-105a5b7e-0b88-44b3-a91c-365b4a05e703 button.colab-df-convert');\n",
              "        buttonEl.style.display =\n",
              "          google.colab.kernel.accessAllowed ? 'block' : 'none';\n",
              "\n",
              "        async function convertToInteractive(key) {\n",
              "          const element = document.querySelector('#df-105a5b7e-0b88-44b3-a91c-365b4a05e703');\n",
              "          const dataTable =\n",
              "            await google.colab.kernel.invokeFunction('convertToInteractive',\n",
              "                                                     [key], {});\n",
              "          if (!dataTable) return;\n",
              "\n",
              "          const docLinkHtml = 'Like what you see? Visit the ' +\n",
              "            '<a target=\"_blank\" href=https://colab.research.google.com/notebooks/data_table.ipynb>data table notebook</a>'\n",
              "            + ' to learn more about interactive tables.';\n",
              "          element.innerHTML = '';\n",
              "          dataTable['output_type'] = 'display_data';\n",
              "          await google.colab.output.renderOutput(dataTable, element);\n",
              "          const docLink = document.createElement('div');\n",
              "          docLink.innerHTML = docLinkHtml;\n",
              "          element.appendChild(docLink);\n",
              "        }\n",
              "      </script>\n",
              "    </div>\n",
              "  </div>\n",
              "  "
            ]
          },
          "metadata": {},
          "execution_count": 40
        }
      ]
    },
    {
      "cell_type": "code",
      "source": [
        "# i reset the index from date to the a normal index to then plot it is it results in a lot of problem using a \n",
        "# timestamp and trying to plot a scatterplot there is a incompatibility problem between matplotlib and seaborn and pandas timestamp\n"
      ],
      "metadata": {
        "id": "BQMoYrKVY3Oy"
      },
      "execution_count": null,
      "outputs": []
    },
    {
      "cell_type": "code",
      "source": [
        "# dflin as dataframe linear analysis\n",
        "dflin = dfpc.reset_index()"
      ],
      "metadata": {
        "id": "FQhwhlUPV_uT"
      },
      "execution_count": null,
      "outputs": []
    },
    {
      "cell_type": "code",
      "source": [
        "# HERE YOU CAN FIND THE mean of every year for posterrior analysis and graphics\n",
        "# then i convert the series into a pandas dataframe to plot it more easily\n",
        "\n",
        "n = dflin.groupby(dflin.Fecha.dt.year)['Precio KG'].mean()\n",
        "# here we use a grioupby function to get the mean of every year selecting the grouping as .year and then plotting the price and the mean of it\n",
        "# with this to_frame we convert this series into a pandas dataframe\n",
        "Year_mean = n.to_frame(name=\"Precio Promedio\")\n",
        "# here i change the column name to better practices\n",
        "Year_mean.columns =['Precio KG']"
      ],
      "metadata": {
        "id": "Ix8BKNybqkgg"
      },
      "execution_count": 117,
      "outputs": []
    },
    {
      "cell_type": "code",
      "source": [
        "# here i should create a new column in the data frame with the length of the line that i want to plot "
      ],
      "metadata": {
        "id": "loT1GdxXjJ0E"
      },
      "execution_count": null,
      "outputs": []
    },
    {
      "cell_type": "code",
      "source": [
        "n = dfpc.groupby(dfpc.index.year)['Precio KG'].mean()\n",
        "Year_mean = n.to_frame(name=\"Precio Promedio\")\n",
        "n.columns =['Precio KG']"
      ],
      "metadata": {
        "id": "vTQLeZc1t4Fj"
      },
      "execution_count": 109,
      "outputs": []
    },
    {
      "cell_type": "code",
      "source": [
        "n.columns = 'Precio KG'"
      ],
      "metadata": {
        "id": "oJB6yK-JunmY"
      },
      "execution_count": 116,
      "outputs": []
    },
    {
      "cell_type": "code",
      "source": [
        "dfpc['Promedio'] = dfpc.index.year"
      ],
      "metadata": {
        "id": "5IomspP8twrb"
      },
      "execution_count": null,
      "outputs": []
    },
    {
      "cell_type": "code",
      "source": [
        "n"
      ],
      "metadata": {
        "id": "fVMwouoF2fX-",
        "outputId": "ac395ddb-eb33-4fbd-a749-ab25944d2182",
        "colab": {
          "base_uri": "https://localhost:8080/"
        }
      },
      "execution_count": 118,
      "outputs": [
        {
          "output_type": "execute_result",
          "data": {
            "text/plain": [
              "Fecha\n",
              "2019     7904.083333\n",
              "2020     8244.833333\n",
              "2021    10896.750000\n",
              "2022    12168.666667\n",
              "Name: Precio KG, dtype: float64"
            ]
          },
          "metadata": {},
          "execution_count": 118
        }
      ]
    },
    {
      "cell_type": "code",
      "source": [
        "# here we confirm that all done its right\n",
        "n.index"
      ],
      "metadata": {
        "colab": {
          "base_uri": "https://localhost:8080/"
        },
        "id": "_MeHgna4t_Ax",
        "outputId": "43e4109b-1565-48e0-8d59-a234dd46c4a5"
      },
      "execution_count": null,
      "outputs": [
        {
          "output_type": "execute_result",
          "data": {
            "text/plain": [
              "Int64Index([2019, 2020, 2021, 2022], dtype='int64', name='Fecha')"
            ]
          },
          "metadata": {},
          "execution_count": 88
        }
      ]
    },
    {
      "cell_type": "code",
      "source": [
        "Year_mean_x = Year_mean.index\n",
        "Year_mean_y = Year_mean['Precio KG']\n",
        "plt.plot(Year_mean_x,Year_mean_y,label='avg 2022',marker=\"o\")"
      ],
      "metadata": {
        "colab": {
          "base_uri": "https://localhost:8080/",
          "height": 447
        },
        "id": "0PQTyjHtcviG",
        "outputId": "89391dd1-9994-480e-bb3f-5c83d0ec06a2"
      },
      "execution_count": 119,
      "outputs": [
        {
          "output_type": "execute_result",
          "data": {
            "text/plain": [
              "[<matplotlib.lines.Line2D at 0x7f5261814f40>]"
            ]
          },
          "metadata": {},
          "execution_count": 119
        },
        {
          "output_type": "display_data",
          "data": {
            "text/plain": [
              "<Figure size 640x480 with 1 Axes>"
            ],
            "image/png": "[encoded data removed]"
          },
          "metadata": {}
        }
      ]
    },
    {
      "cell_type": "code",
      "source": [
        "sns.pointplot(data=Year_mean, x=Year_mean_x, y=Year_mean_y)"
      ],
      "metadata": {
        "colab": {
          "base_uri": "https://localhost:8080/",
          "height": 467
        },
        "id": "OvHoYmoXxAtm",
        "outputId": "1a151d06-bb69-4089-a120-de90beacd39c"
      },
      "execution_count": null,
      "outputs": [
        {
          "output_type": "execute_result",
          "data": {
            "text/plain": [
              "<Axes: xlabel='Fecha', ylabel='Precio KG'>"
            ]
          },
          "metadata": {},
          "execution_count": 58
        },
        {
          "output_type": "display_data",
          "data": {
            "text/plain": [
              "<Figure size 640x480 with 1 Axes>"
            ],
            "image/png": "[encoded data removed]"
          },
          "metadata": {}
        }
      ]
    },
    {
      "cell_type": "code",
      "source": [
        "\n",
        "x = dfpc.index\n",
        "y = dfpc['Precio KG']\n",
        "y_avg = [np.mean(y)] * len(x)\n",
        "y_22 = dfpc.loc[\"2022\":\"2023\",\"Precio KG\"]\n",
        "y_avg22=[np.mean(y_22)]* len(x)\n",
        "Year_mean_x = Year_mean.index\n",
        "Year_mean_y = Year_mean['Precio KG']\n",
        "plt.figure(figsize=(16,8))\n",
        "plt.title(t)\n",
        "plt.xlabel('Fecha')\n",
        "plt.ylabel('Precio KG')\n",
        "sns.lineplot(data =dfpc,x='Fecha',y='Precio KG',label ='Datos')\n",
        "plt.plot(x, y_avg, color='red', ls='--',label ='avg 2019-2022')\n",
        "plt.plot(x,y_avg22, color=\"green\",ls=\"--\",label='avg 2022')\n",
        "plt.legend(loc=\"upper left\")\n",
        "plt.show()\n",
        "\n"
      ],
      "metadata": {
        "colab": {
          "base_uri": "https://localhost:8080/",
          "height": 718
        },
        "id": "0nQWI78zSl_f",
        "outputId": "edea7811-6ebc-474c-b907-47872f76670f"
      },
      "execution_count": 127,
      "outputs": [
        {
          "output_type": "display_data",
          "data": {
            "text/plain": [
              "<Figure size 1600x800 with 1 Axes>"
            ],
            "image/png": "[encoded data removed]"
          },
          "metadata": {}
        }
      ]
    },
    {
      "cell_type": "code",
      "source": [
        "# here now i need to use a dict to plot the year insstead of the number of every index \n",
        "sns.regplot(x=dflin.index, y=dflin['Precio KG'])\n"
      ],
      "metadata": {
        "colab": {
          "base_uri": "https://localhost:8080/",
          "height": 447
        },
        "id": "hC-aulHEeOmO",
        "outputId": "556d5255-4386-40a8-9933-a56485646d68"
      },
      "execution_count": 125,
      "outputs": [
        {
          "output_type": "execute_result",
          "data": {
            "text/plain": [
              "<Axes: ylabel='Precio KG'>"
            ]
          },
          "metadata": {},
          "execution_count": 125
        },
        {
          "output_type": "display_data",
          "data": {
            "text/plain": [
              "<Figure size 640x480 with 1 Axes>"
            ],
            "image/png": "[encoded data removed]"
          },
          "metadata": {}
        }
      ]
    },
    {
      "cell_type": "code",
      "source": [
        "dfpc.head()"
      ],
      "metadata": {
        "colab": {
          "base_uri": "https://localhost:8080/",
          "height": 237
        },
        "id": "p0xNFjrPRnkE",
        "outputId": "1210edf4-dbc4-48f8-dd82-a56380fc6c62"
      },
      "execution_count": null,
      "outputs": [
        {
          "output_type": "execute_result",
          "data": {
            "text/plain": [
              "             Grupo          Producto  Precio KG  Ciudad         Plaza\n",
              "Fecha                                                                \n",
              "2019-01-01  carnes  Pechuga de pollo     7927.0  Ibague   Plaza La 21\n",
              "2019-02-01  carnes  Pechuga de pollo     7817.0  Ibague   Plaza La 21\n",
              "2019-03-01  carnes  Pechuga de pollo     7821.0  Ibague   Plaza La 21\n",
              "2019-04-01  carnes  Pechuga de pollo     7827.0  Ibague   Plaza La 21\n",
              "2019-05-01  carnes  Pechuga de pollo     7767.0  Ibague   Plaza La 21"
            ],
            "text/html": [
              "\n",
              "  <div id=\"df-f48eaa30-973a-4146-a113-e33e8a976d2d\">\n",
              "    <div class=\"colab-df-container\">\n",
              "      <div>\n",
              "<style scoped>\n",
              "    .dataframe tbody tr th:only-of-type {\n",
              "        vertical-align: middle;\n",
              "    }\n",
              "\n",
              "    .dataframe tbody tr th {\n",
              "        vertical-align: top;\n",
              "    }\n",
              "\n",
              "    .dataframe thead th {\n",
              "        text-align: right;\n",
              "    }\n",
              "</style>\n",
              "<table border=\"1\" class=\"dataframe\">\n",
              "  <thead>\n",
              "    <tr style=\"text-align: right;\">\n",
              "      <th></th>\n",
              "      <th>Grupo</th>\n",
              "      <th>Producto</th>\n",
              "      <th>Precio KG</th>\n",
              "      <th>Ciudad</th>\n",
              "      <th>Plaza</th>\n",
              "    </tr>\n",
              "    <tr>\n",
              "      <th>Fecha</th>\n",
              "      <th></th>\n",
              "      <th></th>\n",
              "      <th></th>\n",
              "      <th></th>\n",
              "      <th></th>\n",
              "    </tr>\n",
              "  </thead>\n",
              "  <tbody>\n",
              "    <tr>\n",
              "      <th>2019-01-01</th>\n",
              "      <td>carnes</td>\n",
              "      <td>Pechuga de pollo</td>\n",
              "      <td>7927.0</td>\n",
              "      <td>Ibague</td>\n",
              "      <td>Plaza La 21</td>\n",
              "    </tr>\n",
              "    <tr>\n",
              "      <th>2019-02-01</th>\n",
              "      <td>carnes</td>\n",
              "      <td>Pechuga de pollo</td>\n",
              "      <td>7817.0</td>\n",
              "      <td>Ibague</td>\n",
              "      <td>Plaza La 21</td>\n",
              "    </tr>\n",
              "    <tr>\n",
              "      <th>2019-03-01</th>\n",
              "      <td>carnes</td>\n",
              "      <td>Pechuga de pollo</td>\n",
              "      <td>7821.0</td>\n",
              "      <td>Ibague</td>\n",
              "      <td>Plaza La 21</td>\n",
              "    </tr>\n",
              "    <tr>\n",
              "      <th>2019-04-01</th>\n",
              "      <td>carnes</td>\n",
              "      <td>Pechuga de pollo</td>\n",
              "      <td>7827.0</td>\n",
              "      <td>Ibague</td>\n",
              "      <td>Plaza La 21</td>\n",
              "    </tr>\n",
              "    <tr>\n",
              "      <th>2019-05-01</th>\n",
              "      <td>carnes</td>\n",
              "      <td>Pechuga de pollo</td>\n",
              "      <td>7767.0</td>\n",
              "      <td>Ibague</td>\n",
              "      <td>Plaza La 21</td>\n",
              "    </tr>\n",
              "  </tbody>\n",
              "</table>\n",
              "</div>\n",
              "      <button class=\"colab-df-convert\" onclick=\"convertToInteractive('df-f48eaa30-973a-4146-a113-e33e8a976d2d')\"\n",
              "              title=\"Convert this dataframe to an interactive table.\"\n",
              "              style=\"display:none;\">\n",
              "        \n",
              "  <svg xmlns=\"http://www.w3.org/2000/svg\" height=\"24px\"viewBox=\"0 0 24 24\"\n",
              "       width=\"24px\">\n",
              "    <path d=\"M0 0h24v24H0V0z\" fill=\"none\"/>\n",
              "    <path d=\"M18.56 5.44l.94 2.06.94-2.06 2.06-.94-2.06-.94-.94-2.06-.94 2.06-2.06.94zm-11 1L8.5 8.5l.94-2.06 2.06-.94-2.06-.94L8.5 2.5l-.94 2.06-2.06.94zm10 10l.94 2.06.94-2.06 2.06-.94-2.06-.94-.94-2.06-.94 2.06-2.06.94z\"/><path d=\"M17.41 7.96l-1.37-1.37c-.4-.4-.92-.59-1.43-.59-.52 0-1.04.2-1.43.59L10.3 9.45l-7.72 7.72c-.78.78-.78 2.05 0 2.83L4 21.41c.39.39.9.59 1.41.59.51 0 1.02-.2 1.41-.59l7.78-7.78 2.81-2.81c.8-.78.8-2.07 0-2.86zM5.41 20L4 18.59l7.72-7.72 1.47 1.35L5.41 20z\"/>\n",
              "  </svg>\n",
              "      </button>\n",
              "      \n",
              "  <style>\n",
              "    .colab-df-container {\n",
              "      display:flex;\n",
              "      flex-wrap:wrap;\n",
              "      gap: 12px;\n",
              "    }\n",
              "\n",
              "    .colab-df-convert {\n",
              "      background-color: #E8F0FE;\n",
              "      border: none;\n",
              "      border-radius: 50%;\n",
              "      cursor: pointer;\n",
              "      display: none;\n",
              "      fill: #1967D2;\n",
              "      height: 32px;\n",
              "      padding: 0 0 0 0;\n",
              "      width: 32px;\n",
              "    }\n",
              "\n",
              "    .colab-df-convert:hover {\n",
              "      background-color: #E2EBFA;\n",
              "      box-shadow: 0px 1px 2px rgba(60, 64, 67, 0.3), 0px 1px 3px 1px rgba(60, 64, 67, 0.15);\n",
              "      fill: #174EA6;\n",
              "    }\n",
              "\n",
              "    [theme=dark] .colab-df-convert {\n",
              "      background-color: #3B4455;\n",
              "      fill: #D2E3FC;\n",
              "    }\n",
              "\n",
              "    [theme=dark] .colab-df-convert:hover {\n",
              "      background-color: #434B5C;\n",
              "      box-shadow: 0px 1px 3px 1px rgba(0, 0, 0, 0.15);\n",
              "      filter: drop-shadow(0px 1px 2px rgba(0, 0, 0, 0.3));\n",
              "      fill: #FFFFFF;\n",
              "    }\n",
              "  </style>\n",
              "\n",
              "      <script>\n",
              "        const buttonEl =\n",
              "          document.querySelector('#df-f48eaa30-973a-4146-a113-e33e8a976d2d button.colab-df-convert');\n",
              "        buttonEl.style.display =\n",
              "          google.colab.kernel.accessAllowed ? 'block' : 'none';\n",
              "\n",
              "        async function convertToInteractive(key) {\n",
              "          const element = document.querySelector('#df-f48eaa30-973a-4146-a113-e33e8a976d2d');\n",
              "          const dataTable =\n",
              "            await google.colab.kernel.invokeFunction('convertToInteractive',\n",
              "                                                     [key], {});\n",
              "          if (!dataTable) return;\n",
              "\n",
              "          const docLinkHtml = 'Like what you see? Visit the ' +\n",
              "            '<a target=\"_blank\" href=https://colab.research.google.com/notebooks/data_table.ipynb>data table notebook</a>'\n",
              "            + ' to learn more about interactive tables.';\n",
              "          element.innerHTML = '';\n",
              "          dataTable['output_type'] = 'display_data';\n",
              "          await google.colab.output.renderOutput(dataTable, element);\n",
              "          const docLink = document.createElement('div');\n",
              "          docLink.innerHTML = docLinkHtml;\n",
              "          element.appendChild(docLink);\n",
              "        }\n",
              "      </script>\n",
              "    </div>\n",
              "  </div>\n",
              "  "
            ]
          },
          "metadata": {},
          "execution_count": 53
        }
      ]
    },
    {
      "cell_type": "code",
      "source": [
        "dflin.head()"
      ],
      "metadata": {
        "colab": {
          "base_uri": "https://localhost:8080/",
          "height": 206
        },
        "id": "EJhhDc2vNz1b",
        "outputId": "b0d03cbe-14d6-4d69-c91b-a083656f7073"
      },
      "execution_count": 132,
      "outputs": [
        {
          "output_type": "execute_result",
          "data": {
            "text/plain": [
              "       Fecha   Grupo          Producto  Precio KG  Ciudad         Plaza\n",
              "0 2019-01-01  carnes  Pechuga de pollo     7927.0  Ibague   Plaza La 21\n",
              "1 2019-02-01  carnes  Pechuga de pollo     7817.0  Ibague   Plaza La 21\n",
              "2 2019-03-01  carnes  Pechuga de pollo     7821.0  Ibague   Plaza La 21\n",
              "3 2019-04-01  carnes  Pechuga de pollo     7827.0  Ibague   Plaza La 21\n",
              "4 2019-05-01  carnes  Pechuga de pollo     7767.0  Ibague   Plaza La 21"
            ],
            "text/html": [
              "\n",
              "  <div id=\"df-73db9ee2-9d92-4bf3-bcfd-f5f379ebaa3f\">\n",
              "    <div class=\"colab-df-container\">\n",
              "      <div>\n",
              "<style scoped>\n",
              "    .dataframe tbody tr th:only-of-type {\n",
              "        vertical-align: middle;\n",
              "    }\n",
              "\n",
              "    .dataframe tbody tr th {\n",
              "        vertical-align: top;\n",
              "    }\n",
              "\n",
              "    .dataframe thead th {\n",
              "        text-align: right;\n",
              "    }\n",
              "</style>\n",
              "<table border=\"1\" class=\"dataframe\">\n",
              "  <thead>\n",
              "    <tr style=\"text-align: right;\">\n",
              "      <th></th>\n",
              "      <th>Fecha</th>\n",
              "      <th>Grupo</th>\n",
              "      <th>Producto</th>\n",
              "      <th>Precio KG</th>\n",
              "      <th>Ciudad</th>\n",
              "      <th>Plaza</th>\n",
              "    </tr>\n",
              "  </thead>\n",
              "  <tbody>\n",
              "    <tr>\n",
              "      <th>0</th>\n",
              "      <td>2019-01-01</td>\n",
              "      <td>carnes</td>\n",
              "      <td>Pechuga de pollo</td>\n",
              "      <td>7927.0</td>\n",
              "      <td>Ibague</td>\n",
              "      <td>Plaza La 21</td>\n",
              "    </tr>\n",
              "    <tr>\n",
              "      <th>1</th>\n",
              "      <td>2019-02-01</td>\n",
              "      <td>carnes</td>\n",
              "      <td>Pechuga de pollo</td>\n",
              "      <td>7817.0</td>\n",
              "      <td>Ibague</td>\n",
              "      <td>Plaza La 21</td>\n",
              "    </tr>\n",
              "    <tr>\n",
              "      <th>2</th>\n",
              "      <td>2019-03-01</td>\n",
              "      <td>carnes</td>\n",
              "      <td>Pechuga de pollo</td>\n",
              "      <td>7821.0</td>\n",
              "      <td>Ibague</td>\n",
              "      <td>Plaza La 21</td>\n",
              "    </tr>\n",
              "    <tr>\n",
              "      <th>3</th>\n",
              "      <td>2019-04-01</td>\n",
              "      <td>carnes</td>\n",
              "      <td>Pechuga de pollo</td>\n",
              "      <td>7827.0</td>\n",
              "      <td>Ibague</td>\n",
              "      <td>Plaza La 21</td>\n",
              "    </tr>\n",
              "    <tr>\n",
              "      <th>4</th>\n",
              "      <td>2019-05-01</td>\n",
              "      <td>carnes</td>\n",
              "      <td>Pechuga de pollo</td>\n",
              "      <td>7767.0</td>\n",
              "      <td>Ibague</td>\n",
              "      <td>Plaza La 21</td>\n",
              "    </tr>\n",
              "  </tbody>\n",
              "</table>\n",
              "</div>\n",
              "      <button class=\"colab-df-convert\" onclick=\"convertToInteractive('df-73db9ee2-9d92-4bf3-bcfd-f5f379ebaa3f')\"\n",
              "              title=\"Convert this dataframe to an interactive table.\"\n",
              "              style=\"display:none;\">\n",
              "        \n",
              "  <svg xmlns=\"http://www.w3.org/2000/svg\" height=\"24px\"viewBox=\"0 0 24 24\"\n",
              "       width=\"24px\">\n",
              "    <path d=\"M0 0h24v24H0V0z\" fill=\"none\"/>\n",
              "    <path d=\"M18.56 5.44l.94 2.06.94-2.06 2.06-.94-2.06-.94-.94-2.06-.94 2.06-2.06.94zm-11 1L8.5 8.5l.94-2.06 2.06-.94-2.06-.94L8.5 2.5l-.94 2.06-2.06.94zm10 10l.94 2.06.94-2.06 2.06-.94-2.06-.94-.94-2.06-.94 2.06-2.06.94z\"/><path d=\"M17.41 7.96l-1.37-1.37c-.4-.4-.92-.59-1.43-.59-.52 0-1.04.2-1.43.59L10.3 9.45l-7.72 7.72c-.78.78-.78 2.05 0 2.83L4 21.41c.39.39.9.59 1.41.59.51 0 1.02-.2 1.41-.59l7.78-7.78 2.81-2.81c.8-.78.8-2.07 0-2.86zM5.41 20L4 18.59l7.72-7.72 1.47 1.35L5.41 20z\"/>\n",
              "  </svg>\n",
              "      </button>\n",
              "      \n",
              "  <style>\n",
              "    .colab-df-container {\n",
              "      display:flex;\n",
              "      flex-wrap:wrap;\n",
              "      gap: 12px;\n",
              "    }\n",
              "\n",
              "    .colab-df-convert {\n",
              "      background-color: #E8F0FE;\n",
              "      border: none;\n",
              "      border-radius: 50%;\n",
              "      cursor: pointer;\n",
              "      display: none;\n",
              "      fill: #1967D2;\n",
              "      height: 32px;\n",
              "      padding: 0 0 0 0;\n",
              "      width: 32px;\n",
              "    }\n",
              "\n",
              "    .colab-df-convert:hover {\n",
              "      background-color: #E2EBFA;\n",
              "      box-shadow: 0px 1px 2px rgba(60, 64, 67, 0.3), 0px 1px 3px 1px rgba(60, 64, 67, 0.15);\n",
              "      fill: #174EA6;\n",
              "    }\n",
              "\n",
              "    [theme=dark] .colab-df-convert {\n",
              "      background-color: #3B4455;\n",
              "      fill: #D2E3FC;\n",
              "    }\n",
              "\n",
              "    [theme=dark] .colab-df-convert:hover {\n",
              "      background-color: #434B5C;\n",
              "      box-shadow: 0px 1px 3px 1px rgba(0, 0, 0, 0.15);\n",
              "      filter: drop-shadow(0px 1px 2px rgba(0, 0, 0, 0.3));\n",
              "      fill: #FFFFFF;\n",
              "    }\n",
              "  </style>\n",
              "\n",
              "      <script>\n",
              "        const buttonEl =\n",
              "          document.querySelector('#df-73db9ee2-9d92-4bf3-bcfd-f5f379ebaa3f button.colab-df-convert');\n",
              "        buttonEl.style.display =\n",
              "          google.colab.kernel.accessAllowed ? 'block' : 'none';\n",
              "\n",
              "        async function convertToInteractive(key) {\n",
              "          const element = document.querySelector('#df-73db9ee2-9d92-4bf3-bcfd-f5f379ebaa3f');\n",
              "          const dataTable =\n",
              "            await google.colab.kernel.invokeFunction('convertToInteractive',\n",
              "                                                     [key], {});\n",
              "          if (!dataTable) return;\n",
              "\n",
              "          const docLinkHtml = 'Like what you see? Visit the ' +\n",
              "            '<a target=\"_blank\" href=https://colab.research.google.com/notebooks/data_table.ipynb>data table notebook</a>'\n",
              "            + ' to learn more about interactive tables.';\n",
              "          element.innerHTML = '';\n",
              "          dataTable['output_type'] = 'display_data';\n",
              "          await google.colab.output.renderOutput(dataTable, element);\n",
              "          const docLink = document.createElement('div');\n",
              "          docLink.innerHTML = docLinkHtml;\n",
              "          element.appendChild(docLink);\n",
              "        }\n",
              "      </script>\n",
              "    </div>\n",
              "  </div>\n",
              "  "
            ]
          },
          "metadata": {},
          "execution_count": 132
        }
      ]
    },
    {
      "cell_type": "code",
      "source": [
        "# here with the index using the last 12 values of the month but this will work only with a unique value \n",
        "# if you have more cities or wholase centers you will not have the data of a year but only\n",
        "# the last 12 values of the data frame\n",
        "dflin.iloc[-12:,:]"
      ],
      "metadata": {
        "colab": {
          "base_uri": "https://localhost:8080/",
          "height": 425
        },
        "id": "sxlZiHRnM4P1",
        "outputId": "abb06630-d8c4-450e-cd37-777dd6028745"
      },
      "execution_count": 159,
      "outputs": [
        {
          "output_type": "execute_result",
          "data": {
            "text/plain": [
              "        Fecha   Grupo          Producto  Precio KG  Ciudad         Plaza\n",
              "36 2022-01-01  carnes  Pechuga de pollo    12933.0  Ibague   Plaza La 21\n",
              "37 2022-02-01  carnes  Pechuga de pollo    11100.0  Ibague   Plaza La 21\n",
              "38 2022-03-01  carnes  Pechuga de pollo    11727.0  Ibague   Plaza La 21\n",
              "39 2022-04-01  carnes  Pechuga de pollo    11933.0  Ibague   Plaza La 21\n",
              "40 2022-05-01  carnes  Pechuga de pollo    11967.0  Ibague   Plaza La 21\n",
              "41 2022-06-01  carnes  Pechuga de pollo    12750.0  Ibague   Plaza La 21\n",
              "42 2022-07-01  carnes  Pechuga de pollo    12287.0  Ibague   Plaza La 21\n",
              "43 2022-08-01  carnes  Pechuga de pollo    12067.0  Ibague   Plaza La 21\n",
              "44 2022-09-01  carnes  Pechuga de pollo    12140.0  Ibague   Plaza La 21\n",
              "45 2022-10-01  carnes  Pechuga de pollo    12300.0  Ibague   Plaza La 21\n",
              "46 2022-11-01  carnes  Pechuga de pollo    12407.0  Ibague   Plaza La 21\n",
              "47 2022-12-01  carnes  Pechuga de pollo    12413.0  Ibague   Plaza La 21"
            ],
            "text/html": [
              "\n",
              "  <div id=\"df-34dd37b2-5275-4fb6-aa67-d4ff575b3ce6\">\n",
              "    <div class=\"colab-df-container\">\n",
              "      <div>\n",
              "<style scoped>\n",
              "    .dataframe tbody tr th:only-of-type {\n",
              "        vertical-align: middle;\n",
              "    }\n",
              "\n",
              "    .dataframe tbody tr th {\n",
              "        vertical-align: top;\n",
              "    }\n",
              "\n",
              "    .dataframe thead th {\n",
              "        text-align: right;\n",
              "    }\n",
              "</style>\n",
              "<table border=\"1\" class=\"dataframe\">\n",
              "  <thead>\n",
              "    <tr style=\"text-align: right;\">\n",
              "      <th></th>\n",
              "      <th>Fecha</th>\n",
              "      <th>Grupo</th>\n",
              "      <th>Producto</th>\n",
              "      <th>Precio KG</th>\n",
              "      <th>Ciudad</th>\n",
              "      <th>Plaza</th>\n",
              "    </tr>\n",
              "  </thead>\n",
              "  <tbody>\n",
              "    <tr>\n",
              "      <th>36</th>\n",
              "      <td>2022-01-01</td>\n",
              "      <td>carnes</td>\n",
              "      <td>Pechuga de pollo</td>\n",
              "      <td>12933.0</td>\n",
              "      <td>Ibague</td>\n",
              "      <td>Plaza La 21</td>\n",
              "    </tr>\n",
              "    <tr>\n",
              "      <th>37</th>\n",
              "      <td>2022-02-01</td>\n",
              "      <td>carnes</td>\n",
              "      <td>Pechuga de pollo</td>\n",
              "      <td>11100.0</td>\n",
              "      <td>Ibague</td>\n",
              "      <td>Plaza La 21</td>\n",
              "    </tr>\n",
              "    <tr>\n",
              "      <th>38</th>\n",
              "      <td>2022-03-01</td>\n",
              "      <td>carnes</td>\n",
              "      <td>Pechuga de pollo</td>\n",
              "      <td>11727.0</td>\n",
              "      <td>Ibague</td>\n",
              "      <td>Plaza La 21</td>\n",
              "    </tr>\n",
              "    <tr>\n",
              "      <th>39</th>\n",
              "      <td>2022-04-01</td>\n",
              "      <td>carnes</td>\n",
              "      <td>Pechuga de pollo</td>\n",
              "      <td>11933.0</td>\n",
              "      <td>Ibague</td>\n",
              "      <td>Plaza La 21</td>\n",
              "    </tr>\n",
              "    <tr>\n",
              "      <th>40</th>\n",
              "      <td>2022-05-01</td>\n",
              "      <td>carnes</td>\n",
              "      <td>Pechuga de pollo</td>\n",
              "      <td>11967.0</td>\n",
              "      <td>Ibague</td>\n",
              "      <td>Plaza La 21</td>\n",
              "    </tr>\n",
              "    <tr>\n",
              "      <th>41</th>\n",
              "      <td>2022-06-01</td>\n",
              "      <td>carnes</td>\n",
              "      <td>Pechuga de pollo</td>\n",
              "      <td>12750.0</td>\n",
              "      <td>Ibague</td>\n",
              "      <td>Plaza La 21</td>\n",
              "    </tr>\n",
              "    <tr>\n",
              "      <th>42</th>\n",
              "      <td>2022-07-01</td>\n",
              "      <td>carnes</td>\n",
              "      <td>Pechuga de pollo</td>\n",
              "      <td>12287.0</td>\n",
              "      <td>Ibague</td>\n",
              "      <td>Plaza La 21</td>\n",
              "    </tr>\n",
              "    <tr>\n",
              "      <th>43</th>\n",
              "      <td>2022-08-01</td>\n",
              "      <td>carnes</td>\n",
              "      <td>Pechuga de pollo</td>\n",
              "      <td>12067.0</td>\n",
              "      <td>Ibague</td>\n",
              "      <td>Plaza La 21</td>\n",
              "    </tr>\n",
              "    <tr>\n",
              "      <th>44</th>\n",
              "      <td>2022-09-01</td>\n",
              "      <td>carnes</td>\n",
              "      <td>Pechuga de pollo</td>\n",
              "      <td>12140.0</td>\n",
              "      <td>Ibague</td>\n",
              "      <td>Plaza La 21</td>\n",
              "    </tr>\n",
              "    <tr>\n",
              "      <th>45</th>\n",
              "      <td>2022-10-01</td>\n",
              "      <td>carnes</td>\n",
              "      <td>Pechuga de pollo</td>\n",
              "      <td>12300.0</td>\n",
              "      <td>Ibague</td>\n",
              "      <td>Plaza La 21</td>\n",
              "    </tr>\n",
              "    <tr>\n",
              "      <th>46</th>\n",
              "      <td>2022-11-01</td>\n",
              "      <td>carnes</td>\n",
              "      <td>Pechuga de pollo</td>\n",
              "      <td>12407.0</td>\n",
              "      <td>Ibague</td>\n",
              "      <td>Plaza La 21</td>\n",
              "    </tr>\n",
              "    <tr>\n",
              "      <th>47</th>\n",
              "      <td>2022-12-01</td>\n",
              "      <td>carnes</td>\n",
              "      <td>Pechuga de pollo</td>\n",
              "      <td>12413.0</td>\n",
              "      <td>Ibague</td>\n",
              "      <td>Plaza La 21</td>\n",
              "    </tr>\n",
              "  </tbody>\n",
              "</table>\n",
              "</div>\n",
              "      <button class=\"colab-df-convert\" onclick=\"convertToInteractive('df-34dd37b2-5275-4fb6-aa67-d4ff575b3ce6')\"\n",
              "              title=\"Convert this dataframe to an interactive table.\"\n",
              "              style=\"display:none;\">\n",
              "        \n",
              "  <svg xmlns=\"http://www.w3.org/2000/svg\" height=\"24px\"viewBox=\"0 0 24 24\"\n",
              "       width=\"24px\">\n",
              "    <path d=\"M0 0h24v24H0V0z\" fill=\"none\"/>\n",
              "    <path d=\"M18.56 5.44l.94 2.06.94-2.06 2.06-.94-2.06-.94-.94-2.06-.94 2.06-2.06.94zm-11 1L8.5 8.5l.94-2.06 2.06-.94-2.06-.94L8.5 2.5l-.94 2.06-2.06.94zm10 10l.94 2.06.94-2.06 2.06-.94-2.06-.94-.94-2.06-.94 2.06-2.06.94z\"/><path d=\"M17.41 7.96l-1.37-1.37c-.4-.4-.92-.59-1.43-.59-.52 0-1.04.2-1.43.59L10.3 9.45l-7.72 7.72c-.78.78-.78 2.05 0 2.83L4 21.41c.39.39.9.59 1.41.59.51 0 1.02-.2 1.41-.59l7.78-7.78 2.81-2.81c.8-.78.8-2.07 0-2.86zM5.41 20L4 18.59l7.72-7.72 1.47 1.35L5.41 20z\"/>\n",
              "  </svg>\n",
              "      </button>\n",
              "      \n",
              "  <style>\n",
              "    .colab-df-container {\n",
              "      display:flex;\n",
              "      flex-wrap:wrap;\n",
              "      gap: 12px;\n",
              "    }\n",
              "\n",
              "    .colab-df-convert {\n",
              "      background-color: #E8F0FE;\n",
              "      border: none;\n",
              "      border-radius: 50%;\n",
              "      cursor: pointer;\n",
              "      display: none;\n",
              "      fill: #1967D2;\n",
              "      height: 32px;\n",
              "      padding: 0 0 0 0;\n",
              "      width: 32px;\n",
              "    }\n",
              "\n",
              "    .colab-df-convert:hover {\n",
              "      background-color: #E2EBFA;\n",
              "      box-shadow: 0px 1px 2px rgba(60, 64, 67, 0.3), 0px 1px 3px 1px rgba(60, 64, 67, 0.15);\n",
              "      fill: #174EA6;\n",
              "    }\n",
              "\n",
              "    [theme=dark] .colab-df-convert {\n",
              "      background-color: #3B4455;\n",
              "      fill: #D2E3FC;\n",
              "    }\n",
              "\n",
              "    [theme=dark] .colab-df-convert:hover {\n",
              "      background-color: #434B5C;\n",
              "      box-shadow: 0px 1px 3px 1px rgba(0, 0, 0, 0.15);\n",
              "      filter: drop-shadow(0px 1px 2px rgba(0, 0, 0, 0.3));\n",
              "      fill: #FFFFFF;\n",
              "    }\n",
              "  </style>\n",
              "\n",
              "      <script>\n",
              "        const buttonEl =\n",
              "          document.querySelector('#df-34dd37b2-5275-4fb6-aa67-d4ff575b3ce6 button.colab-df-convert');\n",
              "        buttonEl.style.display =\n",
              "          google.colab.kernel.accessAllowed ? 'block' : 'none';\n",
              "\n",
              "        async function convertToInteractive(key) {\n",
              "          const element = document.querySelector('#df-34dd37b2-5275-4fb6-aa67-d4ff575b3ce6');\n",
              "          const dataTable =\n",
              "            await google.colab.kernel.invokeFunction('convertToInteractive',\n",
              "                                                     [key], {});\n",
              "          if (!dataTable) return;\n",
              "\n",
              "          const docLinkHtml = 'Like what you see? Visit the ' +\n",
              "            '<a target=\"_blank\" href=https://colab.research.google.com/notebooks/data_table.ipynb>data table notebook</a>'\n",
              "            + ' to learn more about interactive tables.';\n",
              "          element.innerHTML = '';\n",
              "          dataTable['output_type'] = 'display_data';\n",
              "          await google.colab.output.renderOutput(dataTable, element);\n",
              "          const docLink = document.createElement('div');\n",
              "          docLink.innerHTML = docLinkHtml;\n",
              "          element.appendChild(docLink);\n",
              "        }\n",
              "      </script>\n",
              "    </div>\n",
              "  </div>\n",
              "  "
            ]
          },
          "metadata": {},
          "execution_count": 159
        }
      ]
    },
    {
      "cell_type": "code",
      "source": [
        "prueba = dfpc\n",
        "prueba.head()"
      ],
      "metadata": {
        "colab": {
          "base_uri": "https://localhost:8080/",
          "height": 237
        },
        "id": "P3Y1SYhnSI1V",
        "outputId": "10f777d7-6aad-454a-f94d-9b8f1f2542ba"
      },
      "execution_count": 167,
      "outputs": [
        {
          "output_type": "execute_result",
          "data": {
            "text/plain": [
              "             Grupo          Producto  Precio KG  Ciudad         Plaza\n",
              "Fecha                                                                \n",
              "2019-01-01  carnes  Pechuga de pollo     7927.0  Ibague   Plaza La 21\n",
              "2019-02-01  carnes  Pechuga de pollo     7817.0  Ibague   Plaza La 21\n",
              "2019-03-01  carnes  Pechuga de pollo     7821.0  Ibague   Plaza La 21\n",
              "2019-04-01  carnes  Pechuga de pollo     7827.0  Ibague   Plaza La 21\n",
              "2019-05-01  carnes  Pechuga de pollo     7767.0  Ibague   Plaza La 21"
            ],
            "text/html": [
              "\n",
              "  <div id=\"df-96416c5c-b8e8-4326-a566-47dd5539e411\">\n",
              "    <div class=\"colab-df-container\">\n",
              "      <div>\n",
              "<style scoped>\n",
              "    .dataframe tbody tr th:only-of-type {\n",
              "        vertical-align: middle;\n",
              "    }\n",
              "\n",
              "    .dataframe tbody tr th {\n",
              "        vertical-align: top;\n",
              "    }\n",
              "\n",
              "    .dataframe thead th {\n",
              "        text-align: right;\n",
              "    }\n",
              "</style>\n",
              "<table border=\"1\" class=\"dataframe\">\n",
              "  <thead>\n",
              "    <tr style=\"text-align: right;\">\n",
              "      <th></th>\n",
              "      <th>Grupo</th>\n",
              "      <th>Producto</th>\n",
              "      <th>Precio KG</th>\n",
              "      <th>Ciudad</th>\n",
              "      <th>Plaza</th>\n",
              "    </tr>\n",
              "    <tr>\n",
              "      <th>Fecha</th>\n",
              "      <th></th>\n",
              "      <th></th>\n",
              "      <th></th>\n",
              "      <th></th>\n",
              "      <th></th>\n",
              "    </tr>\n",
              "  </thead>\n",
              "  <tbody>\n",
              "    <tr>\n",
              "      <th>2019-01-01</th>\n",
              "      <td>carnes</td>\n",
              "      <td>Pechuga de pollo</td>\n",
              "      <td>7927.0</td>\n",
              "      <td>Ibague</td>\n",
              "      <td>Plaza La 21</td>\n",
              "    </tr>\n",
              "    <tr>\n",
              "      <th>2019-02-01</th>\n",
              "      <td>carnes</td>\n",
              "      <td>Pechuga de pollo</td>\n",
              "      <td>7817.0</td>\n",
              "      <td>Ibague</td>\n",
              "      <td>Plaza La 21</td>\n",
              "    </tr>\n",
              "    <tr>\n",
              "      <th>2019-03-01</th>\n",
              "      <td>carnes</td>\n",
              "      <td>Pechuga de pollo</td>\n",
              "      <td>7821.0</td>\n",
              "      <td>Ibague</td>\n",
              "      <td>Plaza La 21</td>\n",
              "    </tr>\n",
              "    <tr>\n",
              "      <th>2019-04-01</th>\n",
              "      <td>carnes</td>\n",
              "      <td>Pechuga de pollo</td>\n",
              "      <td>7827.0</td>\n",
              "      <td>Ibague</td>\n",
              "      <td>Plaza La 21</td>\n",
              "    </tr>\n",
              "    <tr>\n",
              "      <th>2019-05-01</th>\n",
              "      <td>carnes</td>\n",
              "      <td>Pechuga de pollo</td>\n",
              "      <td>7767.0</td>\n",
              "      <td>Ibague</td>\n",
              "      <td>Plaza La 21</td>\n",
              "    </tr>\n",
              "  </tbody>\n",
              "</table>\n",
              "</div>\n",
              "      <button class=\"colab-df-convert\" onclick=\"convertToInteractive('df-96416c5c-b8e8-4326-a566-47dd5539e411')\"\n",
              "              title=\"Convert this dataframe to an interactive table.\"\n",
              "              style=\"display:none;\">\n",
              "        \n",
              "  <svg xmlns=\"http://www.w3.org/2000/svg\" height=\"24px\"viewBox=\"0 0 24 24\"\n",
              "       width=\"24px\">\n",
              "    <path d=\"M0 0h24v24H0V0z\" fill=\"none\"/>\n",
              "    <path d=\"M18.56 5.44l.94 2.06.94-2.06 2.06-.94-2.06-.94-.94-2.06-.94 2.06-2.06.94zm-11 1L8.5 8.5l.94-2.06 2.06-.94-2.06-.94L8.5 2.5l-.94 2.06-2.06.94zm10 10l.94 2.06.94-2.06 2.06-.94-2.06-.94-.94-2.06-.94 2.06-2.06.94z\"/><path d=\"M17.41 7.96l-1.37-1.37c-.4-.4-.92-.59-1.43-.59-.52 0-1.04.2-1.43.59L10.3 9.45l-7.72 7.72c-.78.78-.78 2.05 0 2.83L4 21.41c.39.39.9.59 1.41.59.51 0 1.02-.2 1.41-.59l7.78-7.78 2.81-2.81c.8-.78.8-2.07 0-2.86zM5.41 20L4 18.59l7.72-7.72 1.47 1.35L5.41 20z\"/>\n",
              "  </svg>\n",
              "      </button>\n",
              "      \n",
              "  <style>\n",
              "    .colab-df-container {\n",
              "      display:flex;\n",
              "      flex-wrap:wrap;\n",
              "      gap: 12px;\n",
              "    }\n",
              "\n",
              "    .colab-df-convert {\n",
              "      background-color: #E8F0FE;\n",
              "      border: none;\n",
              "      border-radius: 50%;\n",
              "      cursor: pointer;\n",
              "      display: none;\n",
              "      fill: #1967D2;\n",
              "      height: 32px;\n",
              "      padding: 0 0 0 0;\n",
              "      width: 32px;\n",
              "    }\n",
              "\n",
              "    .colab-df-convert:hover {\n",
              "      background-color: #E2EBFA;\n",
              "      box-shadow: 0px 1px 2px rgba(60, 64, 67, 0.3), 0px 1px 3px 1px rgba(60, 64, 67, 0.15);\n",
              "      fill: #174EA6;\n",
              "    }\n",
              "\n",
              "    [theme=dark] .colab-df-convert {\n",
              "      background-color: #3B4455;\n",
              "      fill: #D2E3FC;\n",
              "    }\n",
              "\n",
              "    [theme=dark] .colab-df-convert:hover {\n",
              "      background-color: #434B5C;\n",
              "      box-shadow: 0px 1px 3px 1px rgba(0, 0, 0, 0.15);\n",
              "      filter: drop-shadow(0px 1px 2px rgba(0, 0, 0, 0.3));\n",
              "      fill: #FFFFFF;\n",
              "    }\n",
              "  </style>\n",
              "\n",
              "      <script>\n",
              "        const buttonEl =\n",
              "          document.querySelector('#df-96416c5c-b8e8-4326-a566-47dd5539e411 button.colab-df-convert');\n",
              "        buttonEl.style.display =\n",
              "          google.colab.kernel.accessAllowed ? 'block' : 'none';\n",
              "\n",
              "        async function convertToInteractive(key) {\n",
              "          const element = document.querySelector('#df-96416c5c-b8e8-4326-a566-47dd5539e411');\n",
              "          const dataTable =\n",
              "            await google.colab.kernel.invokeFunction('convertToInteractive',\n",
              "                                                     [key], {});\n",
              "          if (!dataTable) return;\n",
              "\n",
              "          const docLinkHtml = 'Like what you see? Visit the ' +\n",
              "            '<a target=\"_blank\" href=https://colab.research.google.com/notebooks/data_table.ipynb>data table notebook</a>'\n",
              "            + ' to learn more about interactive tables.';\n",
              "          element.innerHTML = '';\n",
              "          dataTable['output_type'] = 'display_data';\n",
              "          await google.colab.output.renderOutput(dataTable, element);\n",
              "          const docLink = document.createElement('div');\n",
              "          docLink.innerHTML = docLinkHtml;\n",
              "          element.appendChild(docLink);\n",
              "        }\n",
              "      </script>\n",
              "    </div>\n",
              "  </div>\n",
              "  "
            ]
          },
          "metadata": {},
          "execution_count": 167
        }
      ]
    },
    {
      "cell_type": "code",
      "source": [
        "# here we are using the index and convert it to a string \n",
        "prueba.index = (prueba.index.strftime(\"%m/%d/%Y\"))"
      ],
      "metadata": {
        "id": "nc4JFGKzRTpU"
      },
      "execution_count": 180,
      "outputs": []
    },
    {
      "cell_type": "code",
      "source": [],
      "metadata": {
        "id": "E-niDXBGU_CX"
      },
      "execution_count": null,
      "outputs": []
    },
    {
      "cell_type": "code",
      "source": [
        "# there is a problem in the conversion between matplotlib and csipy you could usse \n",
        "# then i change the index to a normal array instead of using the Date Time\n",
        "dfs = prueba.iloc[-12:,:]\n",
        "xs = dfs.index\n",
        "ys = dfs['Precio KG']\n",
        "lin_ress = linregress(xs,ys)"
      ],
      "metadata": {
        "id": "ASvz3N6pjOb9",
        "colab": {
          "base_uri": "https://localhost:8080/",
          "height": 345
        },
        "outputId": "c23c3203-13ae-4ee7-fd5d-517d153fbc16"
      },
      "execution_count": 187,
      "outputs": [
        {
          "output_type": "error",
          "ename": "TypeError",
          "evalue": "ignored",
          "traceback": [
            "\u001b[0;31m---------------------------------------------------------------------------\u001b[0m",
            "\u001b[0;31mTypeError\u001b[0m                                 Traceback (most recent call last)",
            "\u001b[0;32m<ipython-input-187-7fed211d6590>\u001b[0m in \u001b[0;36m<cell line: 6>\u001b[0;34m()\u001b[0m\n\u001b[1;32m      4\u001b[0m \u001b[0mxs\u001b[0m \u001b[0;34m=\u001b[0m \u001b[0mdfs\u001b[0m\u001b[0;34m.\u001b[0m\u001b[0mindex\u001b[0m\u001b[0;34m\u001b[0m\u001b[0;34m\u001b[0m\u001b[0m\n\u001b[1;32m      5\u001b[0m \u001b[0mys\u001b[0m \u001b[0;34m=\u001b[0m \u001b[0mdfs\u001b[0m\u001b[0;34m[\u001b[0m\u001b[0;34m'Precio KG'\u001b[0m\u001b[0;34m]\u001b[0m\u001b[0;34m\u001b[0m\u001b[0;34m\u001b[0m\u001b[0m\n\u001b[0;32m----> 6\u001b[0;31m \u001b[0mlin_ress\u001b[0m \u001b[0;34m=\u001b[0m \u001b[0mlinregress\u001b[0m\u001b[0;34m(\u001b[0m\u001b[0mxs\u001b[0m\u001b[0;34m,\u001b[0m\u001b[0mys\u001b[0m\u001b[0;34m)\u001b[0m\u001b[0;34m\u001b[0m\u001b[0;34m\u001b[0m\u001b[0m\n\u001b[0m",
            "\u001b[0;32m/usr/local/lib/python3.9/dist-packages/scipy/stats/_stats_mstats_common.py\u001b[0m in \u001b[0;36mlinregress\u001b[0;34m(x, y, alternative)\u001b[0m\n\u001b[1;32m    159\u001b[0m \u001b[0;34m\u001b[0m\u001b[0m\n\u001b[1;32m    160\u001b[0m     \u001b[0mn\u001b[0m \u001b[0;34m=\u001b[0m \u001b[0mlen\u001b[0m\u001b[0;34m(\u001b[0m\u001b[0mx\u001b[0m\u001b[0;34m)\u001b[0m\u001b[0;34m\u001b[0m\u001b[0;34m\u001b[0m\u001b[0m\n\u001b[0;32m--> 161\u001b[0;31m     \u001b[0mxmean\u001b[0m \u001b[0;34m=\u001b[0m \u001b[0mnp\u001b[0m\u001b[0;34m.\u001b[0m\u001b[0mmean\u001b[0m\u001b[0;34m(\u001b[0m\u001b[0mx\u001b[0m\u001b[0;34m,\u001b[0m \u001b[0;32mNone\u001b[0m\u001b[0;34m)\u001b[0m\u001b[0;34m\u001b[0m\u001b[0;34m\u001b[0m\u001b[0m\n\u001b[0m\u001b[1;32m    162\u001b[0m     \u001b[0mymean\u001b[0m \u001b[0;34m=\u001b[0m \u001b[0mnp\u001b[0m\u001b[0;34m.\u001b[0m\u001b[0mmean\u001b[0m\u001b[0;34m(\u001b[0m\u001b[0my\u001b[0m\u001b[0;34m,\u001b[0m \u001b[0;32mNone\u001b[0m\u001b[0;34m)\u001b[0m\u001b[0;34m\u001b[0m\u001b[0;34m\u001b[0m\u001b[0m\n\u001b[1;32m    163\u001b[0m \u001b[0;34m\u001b[0m\u001b[0m\n",
            "\u001b[0;32m/usr/local/lib/python3.9/dist-packages/numpy/core/overrides.py\u001b[0m in \u001b[0;36mmean\u001b[0;34m(*args, **kwargs)\u001b[0m\n",
            "\u001b[0;32m/usr/local/lib/python3.9/dist-packages/numpy/core/fromnumeric.py\u001b[0m in \u001b[0;36mmean\u001b[0;34m(a, axis, dtype, out, keepdims, where)\u001b[0m\n\u001b[1;32m   3472\u001b[0m             \u001b[0;32mreturn\u001b[0m \u001b[0mmean\u001b[0m\u001b[0;34m(\u001b[0m\u001b[0maxis\u001b[0m\u001b[0;34m=\u001b[0m\u001b[0maxis\u001b[0m\u001b[0;34m,\u001b[0m \u001b[0mdtype\u001b[0m\u001b[0;34m=\u001b[0m\u001b[0mdtype\u001b[0m\u001b[0;34m,\u001b[0m \u001b[0mout\u001b[0m\u001b[0;34m=\u001b[0m\u001b[0mout\u001b[0m\u001b[0;34m,\u001b[0m \u001b[0;34m**\u001b[0m\u001b[0mkwargs\u001b[0m\u001b[0;34m)\u001b[0m\u001b[0;34m\u001b[0m\u001b[0;34m\u001b[0m\u001b[0m\n\u001b[1;32m   3473\u001b[0m \u001b[0;34m\u001b[0m\u001b[0m\n\u001b[0;32m-> 3474\u001b[0;31m     return _methods._mean(a, axis=axis, dtype=dtype,\n\u001b[0m\u001b[1;32m   3475\u001b[0m                           out=out, **kwargs)\n\u001b[1;32m   3476\u001b[0m \u001b[0;34m\u001b[0m\u001b[0m\n",
            "\u001b[0;32m/usr/local/lib/python3.9/dist-packages/numpy/core/_methods.py\u001b[0m in \u001b[0;36m_mean\u001b[0;34m(a, axis, dtype, out, keepdims, where)\u001b[0m\n\u001b[1;32m    189\u001b[0m             \u001b[0mret\u001b[0m \u001b[0;34m=\u001b[0m \u001b[0mret\u001b[0m\u001b[0;34m.\u001b[0m\u001b[0mdtype\u001b[0m\u001b[0;34m.\u001b[0m\u001b[0mtype\u001b[0m\u001b[0;34m(\u001b[0m\u001b[0mret\u001b[0m \u001b[0;34m/\u001b[0m \u001b[0mrcount\u001b[0m\u001b[0;34m)\u001b[0m\u001b[0;34m\u001b[0m\u001b[0;34m\u001b[0m\u001b[0m\n\u001b[1;32m    190\u001b[0m     \u001b[0;32melse\u001b[0m\u001b[0;34m:\u001b[0m\u001b[0;34m\u001b[0m\u001b[0;34m\u001b[0m\u001b[0m\n\u001b[0;32m--> 191\u001b[0;31m         \u001b[0mret\u001b[0m \u001b[0;34m=\u001b[0m \u001b[0mret\u001b[0m \u001b[0;34m/\u001b[0m \u001b[0mrcount\u001b[0m\u001b[0;34m\u001b[0m\u001b[0;34m\u001b[0m\u001b[0m\n\u001b[0m\u001b[1;32m    192\u001b[0m \u001b[0;34m\u001b[0m\u001b[0m\n\u001b[1;32m    193\u001b[0m     \u001b[0;32mreturn\u001b[0m \u001b[0mret\u001b[0m\u001b[0;34m\u001b[0m\u001b[0;34m\u001b[0m\u001b[0m\n",
            "\u001b[0;31mTypeError\u001b[0m: ufunc 'true_divide' not supported for the input types, and the inputs could not be safely coerced to any supported types according to the casting rule ''safe''"
          ]
        }
      ]
    },
    {
      "cell_type": "code",
      "source": [
        "dfs.index"
      ],
      "metadata": {
        "id": "HVM-VmFwaNdm",
        "colab": {
          "base_uri": "https://localhost:8080/"
        },
        "outputId": "d5da6174-9193-42ea-a37d-0877d8f2165c"
      },
      "execution_count": 186,
      "outputs": [
        {
          "output_type": "execute_result",
          "data": {
            "text/plain": [
              "Index(['01/01/2022', '02/01/2022', '03/01/2022', '04/01/2022', '05/01/2022',\n",
              "       '06/01/2022', '07/01/2022', '08/01/2022', '09/01/2022', '10/01/2022',\n",
              "       '11/01/2022', '12/01/2022'],\n",
              "      dtype='object', name='Fecha')"
            ]
          },
          "metadata": {},
          "execution_count": 186
        }
      ]
    },
    {
      "cell_type": "code",
      "source": [
        "sns.regplot(x=xs ,y = ys ,data=dfs)"
      ],
      "metadata": {
        "id": "n-wt-uZ_mClm"
      },
      "execution_count": null,
      "outputs": []
    },
    {
      "cell_type": "code",
      "source": [
        "dfs"
      ],
      "metadata": {
        "id": "qvEev-Gzku58"
      },
      "execution_count": null,
      "outputs": []
    },
    {
      "cell_type": "code",
      "source": [
        "x=dfpc.index\n",
        "y=dfpc['Precio KG']\n",
        "plt.title(t)\n",
        "plt.xlabel('Fecha')\n",
        "plt.ylabel('Precio KG')\n",
        "plt.scatter(x,y)\n",
        "plt.show"
      ],
      "metadata": {
        "id": "eL74Pqe5gVmp"
      },
      "execution_count": null,
      "outputs": []
    },
    {
      "cell_type": "code",
      "source": [],
      "metadata": {
        "id": "uVA2FwyFUQWI"
      },
      "execution_count": null,
      "outputs": []
    }
  ],
  "metadata": {
    "colab": {
      "provenance": [],
      "authorship_tag": "ABX9TyMynLpKBSAbguVUi+VpP6Yo",
      "include_colab_link": true
    },
    "kernelspec": {
      "display_name": "Python 3",
      "name": "python3"
    },
    "language_info": {
      "name": "python"
    }
  },
  "nbformat": 4,
  "nbformat_minor": 0
}