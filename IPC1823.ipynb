{
  "cells": [
    {
      "cell_type": "markdown",
      "metadata": {
        "id": "view-in-github",
        "colab_type": "text"
      },
      "source": [
        "<a href=\"https://colab.research.google.com/github/RioDeMilo/RETAIL-PRICES-COLOMBIA/blob/main/IPC1823.ipynb\" target=\"_parent\"><img src=\"https://colab.research.google.com/assets/colab-badge.svg\" alt=\"Open In Colab\"/></a>"
      ]
    },
    {
      "cell_type": "code",
      "execution_count": 1,
      "metadata": {
        "id": "MDVyyn1qbkAk"
      },
      "outputs": [],
      "source": [
        "# Here it is all the libraries that i need in order to manage the data and to plot it `\n",
        "import scipy as sci\n",
        "import numpy as np\n",
        "import pandas as pd\n",
        "import matplotlib.pyplot as plt\n",
        "import seaborn as sns\n",
        "from scipy import stats\n",
        "from scipy.stats import linregress\n",
        "import matplotlib.dates as mdates"
      ]
    },
    {
      "cell_type": "code",
      "execution_count": 2,
      "metadata": {
        "id": "yZZH-lABb_n6"
      },
      "outputs": [],
      "source": [
        "# for this project i previously modified all the data from each year of analysis to a sngle sheet page in excel.\n",
        "\n",
        "df = pd.read_excel('Gropu19-22.xlsx')"
      ]
    },
    {
      "cell_type": "code",
      "execution_count": 4,
      "metadata": {
        "id": "_z_ML2YjgHVp"
      },
      "outputs": [],
      "source": [
        "# This will get you the specified sheet page for further use.\n",
        "# but for this case i used a excel file ith only one page so it is not necessary and you need to ad the datafrme and a dicttionary ith the name of the pages like\n",
        "# sheet_name=['Hoja1']\n",
        "#df = df.get('Hoja1')\n"
      ]
    },
    {
      "cell_type": "markdown",
      "source": [
        "# Data preparing\n",
        "### Now we want to specify wheter we want to plot a spicified type of product\n",
        "but we should be able to see what type of products are available for comparison\n",
        "\n",
        "```\n",
        "# Tiene formato de código\n",
        "```\n",
        "\n"
      ],
      "metadata": {
        "id": "uQAZ4lrc6J16"
      }
    },
    {
      "cell_type": "code",
      "execution_count": 5,
      "metadata": {
        "id": "gFuIqz_ogZBY",
        "colab": {
          "base_uri": "https://localhost:8080/",
          "height": 414
        },
        "outputId": "606c70f5-81a1-482c-e508-90617bb8672b"
      },
      "outputs": [
        {
          "output_type": "stream",
          "name": "stdout",
          "text": [
            "<class 'pandas.core.frame.DataFrame'>\n",
            "RangeIndex: 220517 entries, 0 to 220516\n",
            "Data columns (total 5 columns):\n",
            " #   Column                  Non-Null Count   Dtype         \n",
            "---  ------                  --------------   -----         \n",
            " 0   Fecha                   220517 non-null  datetime64[ns]\n",
            " 1   Grupo                   220517 non-null  object        \n",
            " 2   Producto                220517 non-null  object        \n",
            " 3   Fuente                  220517 non-null  object        \n",
            " 4   Precio  por kilogramo*  220517 non-null  float64       \n",
            "dtypes: datetime64[ns](1), float64(1), object(3)\n",
            "memory usage: 8.4+ MB\n"
          ]
        },
        {
          "output_type": "execute_result",
          "data": {
            "text/plain": [
              "       Fecha                  Grupo Producto                        Fuente  \\\n",
              "0 2019-01-01  VERDURAS Y HORTALIZAS   Acelga               Armenia, Mercar   \n",
              "1 2019-01-01  VERDURAS Y HORTALIZAS   Acelga  Barranquilla, Barranquillita   \n",
              "2 2019-01-01  VERDURAS Y HORTALIZAS   Acelga      Bogotá, D.C., Corabastos   \n",
              "3 2019-01-01  VERDURAS Y HORTALIZAS   Acelga    Bucaramanga, Centroabastos   \n",
              "4 2019-01-01  VERDURAS Y HORTALIZAS   Acelga         Chiquinquirá (Boyacá)   \n",
              "\n",
              "   Precio  por kilogramo*  \n",
              "0                  1065.0  \n",
              "1                  3000.0  \n",
              "2                   764.0  \n",
              "3                  1556.0  \n",
              "4                  1058.0  "
            ],
            "text/html": [
              "<div>\n",
              "<style scoped>\n",
              "    .dataframe tbody tr th:only-of-type {\n",
              "        vertical-align: middle;\n",
              "    }\n",
              "\n",
              "    .dataframe tbody tr th {\n",
              "        vertical-align: top;\n",
              "    }\n",
              "\n",
              "    .dataframe thead th {\n",
              "        text-align: right;\n",
              "    }\n",
              "</style>\n",
              "<table border=\"1\" class=\"dataframe\">\n",
              "  <thead>\n",
              "    <tr style=\"text-align: right;\">\n",
              "      <th></th>\n",
              "      <th>Fecha</th>\n",
              "      <th>Grupo</th>\n",
              "      <th>Producto</th>\n",
              "      <th>Fuente</th>\n",
              "      <th>Precio  por kilogramo*</th>\n",
              "    </tr>\n",
              "  </thead>\n",
              "  <tbody>\n",
              "    <tr>\n",
              "      <th>0</th>\n",
              "      <td>2019-01-01</td>\n",
              "      <td>VERDURAS Y HORTALIZAS</td>\n",
              "      <td>Acelga</td>\n",
              "      <td>Armenia, Mercar</td>\n",
              "      <td>1065.0</td>\n",
              "    </tr>\n",
              "    <tr>\n",
              "      <th>1</th>\n",
              "      <td>2019-01-01</td>\n",
              "      <td>VERDURAS Y HORTALIZAS</td>\n",
              "      <td>Acelga</td>\n",
              "      <td>Barranquilla, Barranquillita</td>\n",
              "      <td>3000.0</td>\n",
              "    </tr>\n",
              "    <tr>\n",
              "      <th>2</th>\n",
              "      <td>2019-01-01</td>\n",
              "      <td>VERDURAS Y HORTALIZAS</td>\n",
              "      <td>Acelga</td>\n",
              "      <td>Bogotá, D.C., Corabastos</td>\n",
              "      <td>764.0</td>\n",
              "    </tr>\n",
              "    <tr>\n",
              "      <th>3</th>\n",
              "      <td>2019-01-01</td>\n",
              "      <td>VERDURAS Y HORTALIZAS</td>\n",
              "      <td>Acelga</td>\n",
              "      <td>Bucaramanga, Centroabastos</td>\n",
              "      <td>1556.0</td>\n",
              "    </tr>\n",
              "    <tr>\n",
              "      <th>4</th>\n",
              "      <td>2019-01-01</td>\n",
              "      <td>VERDURAS Y HORTALIZAS</td>\n",
              "      <td>Acelga</td>\n",
              "      <td>Chiquinquirá (Boyacá)</td>\n",
              "      <td>1058.0</td>\n",
              "    </tr>\n",
              "  </tbody>\n",
              "</table>\n",
              "</div>"
            ]
          },
          "metadata": {},
          "execution_count": 5
        }
      ],
      "source": [
        "\n",
        "# typical use of .info() to get a general idea of what is the shape  of the data base look like\n",
        "# .head() will let you see a more friendly view in a excel way\n",
        "df.info()\n",
        "df.head()"
      ]
    },
    {
      "cell_type": "code",
      "source": [
        "df.rename(columns={\"Precio  por kilogramo*\": \"Precio KG\"}, inplace=True)"
      ],
      "metadata": {
        "id": "kpfXzoa6UTcf"
      },
      "execution_count": 6,
      "outputs": []
    },
    {
      "cell_type": "code",
      "execution_count": 7,
      "metadata": {
        "colab": {
          "base_uri": "https://localhost:8080/",
          "height": 237
        },
        "id": "OGepqBYps9Oa",
        "outputId": "b0aa2309-06f0-477a-f93a-c555ce06666d"
      },
      "outputs": [
        {
          "output_type": "execute_result",
          "data": {
            "text/plain": [
              "                            Grupo Producto                        Fuente  \\\n",
              "Fecha                                                                      \n",
              "2019-01-01  VERDURAS Y HORTALIZAS   Acelga               Armenia, Mercar   \n",
              "2019-01-01  VERDURAS Y HORTALIZAS   Acelga  Barranquilla, Barranquillita   \n",
              "2019-01-01  VERDURAS Y HORTALIZAS   Acelga      Bogotá, D.C., Corabastos   \n",
              "2019-01-01  VERDURAS Y HORTALIZAS   Acelga    Bucaramanga, Centroabastos   \n",
              "2019-01-01  VERDURAS Y HORTALIZAS   Acelga         Chiquinquirá (Boyacá)   \n",
              "\n",
              "            Precio KG  \n",
              "Fecha                  \n",
              "2019-01-01     1065.0  \n",
              "2019-01-01     3000.0  \n",
              "2019-01-01      764.0  \n",
              "2019-01-01     1556.0  \n",
              "2019-01-01     1058.0  "
            ],
            "text/html": [
              "<div>\n",
              "<style scoped>\n",
              "    .dataframe tbody tr th:only-of-type {\n",
              "        vertical-align: middle;\n",
              "    }\n",
              "\n",
              "    .dataframe tbody tr th {\n",
              "        vertical-align: top;\n",
              "    }\n",
              "\n",
              "    .dataframe thead th {\n",
              "        text-align: right;\n",
              "    }\n",
              "</style>\n",
              "<table border=\"1\" class=\"dataframe\">\n",
              "  <thead>\n",
              "    <tr style=\"text-align: right;\">\n",
              "      <th></th>\n",
              "      <th>Grupo</th>\n",
              "      <th>Producto</th>\n",
              "      <th>Fuente</th>\n",
              "      <th>Precio KG</th>\n",
              "    </tr>\n",
              "    <tr>\n",
              "      <th>Fecha</th>\n",
              "      <th></th>\n",
              "      <th></th>\n",
              "      <th></th>\n",
              "      <th></th>\n",
              "    </tr>\n",
              "  </thead>\n",
              "  <tbody>\n",
              "    <tr>\n",
              "      <th>2019-01-01</th>\n",
              "      <td>VERDURAS Y HORTALIZAS</td>\n",
              "      <td>Acelga</td>\n",
              "      <td>Armenia, Mercar</td>\n",
              "      <td>1065.0</td>\n",
              "    </tr>\n",
              "    <tr>\n",
              "      <th>2019-01-01</th>\n",
              "      <td>VERDURAS Y HORTALIZAS</td>\n",
              "      <td>Acelga</td>\n",
              "      <td>Barranquilla, Barranquillita</td>\n",
              "      <td>3000.0</td>\n",
              "    </tr>\n",
              "    <tr>\n",
              "      <th>2019-01-01</th>\n",
              "      <td>VERDURAS Y HORTALIZAS</td>\n",
              "      <td>Acelga</td>\n",
              "      <td>Bogotá, D.C., Corabastos</td>\n",
              "      <td>764.0</td>\n",
              "    </tr>\n",
              "    <tr>\n",
              "      <th>2019-01-01</th>\n",
              "      <td>VERDURAS Y HORTALIZAS</td>\n",
              "      <td>Acelga</td>\n",
              "      <td>Bucaramanga, Centroabastos</td>\n",
              "      <td>1556.0</td>\n",
              "    </tr>\n",
              "    <tr>\n",
              "      <th>2019-01-01</th>\n",
              "      <td>VERDURAS Y HORTALIZAS</td>\n",
              "      <td>Acelga</td>\n",
              "      <td>Chiquinquirá (Boyacá)</td>\n",
              "      <td>1058.0</td>\n",
              "    </tr>\n",
              "  </tbody>\n",
              "</table>\n",
              "</div>"
            ]
          },
          "metadata": {},
          "execution_count": 7
        }
      ],
      "source": [
        "# this is to set the 'Fecha' as the new index of the dataframe as it will mostly be a timeline analysis\n",
        "# the inplace=True will set this ne index as the definitive index changing it in the database\n",
        "df.set_index('Fecha', inplace=True)\n",
        "df.head()"
      ]
    },
    {
      "cell_type": "code",
      "execution_count": 8,
      "metadata": {
        "colab": {
          "base_uri": "https://localhost:8080/"
        },
        "id": "GjtLQzc59BAB",
        "outputId": "659142fe-717f-4542-897e-0fd380434e73"
      },
      "outputs": [
        {
          "output_type": "execute_result",
          "data": {
            "text/plain": [
              "Grupo        0\n",
              "Producto     0\n",
              "Fuente       0\n",
              "Precio KG    0\n",
              "dtype: int64"
            ]
          },
          "metadata": {},
          "execution_count": 8
        }
      ],
      "source": [
        "# Here we can see that there are not null values in any of the columns\n",
        "# if there were any null values we should take them into consideration because it can affect later anaylsis an graphing\n",
        "pd.isnull(df).sum()"
      ]
    },
    {
      "cell_type": "code",
      "execution_count": 9,
      "metadata": {
        "colab": {
          "base_uri": "https://localhost:8080/"
        },
        "id": "_An0_OMngnF4",
        "outputId": "5e91597b-5b61-4937-ff01-bbc678fad003"
      },
      "outputs": [
        {
          "output_type": "execute_result",
          "data": {
            "text/plain": [
              "Medellín, Central Mayorista de Antioquia       10154\n",
              "Bogotá, D.C., Corabastos                        8070\n",
              "Cúcuta, Cenabastos                              6865\n",
              "Villavicencio, CAV                              6383\n",
              "Ibagué, Plaza La 21                             6214\n",
              "                                               ...  \n",
              "Malambo, Atlantico                                46\n",
              "Malambo (Atlántico), Carnes y Carnes              23\n",
              "Ipiales (Nariño), Centro de Acopio                18\n",
              "San Gil (Santander), Panela                        4\n",
              "San Sebastián de Mariquita (Tolima), panela        3\n",
              "Name: Fuente, Length: 91, dtype: int64"
            ]
          },
          "metadata": {},
          "execution_count": 9
        }
      ],
      "source": [
        "# Here i'm seeing that the city is contained in the same column as the WHOLESALE center\n",
        "# we need to solve this after starting to gragh and do an analysis\n",
        "df['Fuente'].value_counts()"
      ]
    },
    {
      "cell_type": "code",
      "execution_count": 10,
      "metadata": {
        "id": "mCi2MZgyqAg2"
      },
      "outputs": [],
      "source": [
        "# the process of split the values that have both the city and the WHOLESALE market need to be in a independet column\n",
        "# but here you can see that there are values in the data base that have more than one comma that is dividing the values\n",
        "# bogota dc, corabastos should not have two commas only the comma that is differentiating it from a city and a market in the city\n",
        "# we want then to get only two columns and not three\n",
        "# i first used str.split but it split the string everytime that it find a comma\n",
        "# it's best to use str.rsplit as it will start from the end to find a delimeter\n",
        "df[['Ciudad','Plaza']] = df.Fuente.str.rsplit(',',n=1, expand = True)"
      ]
    },
    {
      "cell_type": "code",
      "execution_count": 11,
      "metadata": {
        "colab": {
          "base_uri": "https://localhost:8080/",
          "height": 237
        },
        "id": "lIID0qjlVrdq",
        "outputId": "140c1988-da7b-4575-d3ed-6b88e282a09b"
      },
      "outputs": [
        {
          "output_type": "execute_result",
          "data": {
            "text/plain": [
              "                            Grupo Producto                        Fuente  \\\n",
              "Fecha                                                                      \n",
              "2019-01-01  VERDURAS Y HORTALIZAS   Acelga               Armenia, Mercar   \n",
              "2019-01-01  VERDURAS Y HORTALIZAS   Acelga  Barranquilla, Barranquillita   \n",
              "2019-01-01  VERDURAS Y HORTALIZAS   Acelga      Bogotá, D.C., Corabastos   \n",
              "2019-01-01  VERDURAS Y HORTALIZAS   Acelga    Bucaramanga, Centroabastos   \n",
              "2019-01-01  VERDURAS Y HORTALIZAS   Acelga         Chiquinquirá (Boyacá)   \n",
              "\n",
              "            Precio KG                 Ciudad            Plaza  \n",
              "Fecha                                                          \n",
              "2019-01-01     1065.0                Armenia           Mercar  \n",
              "2019-01-01     3000.0           Barranquilla   Barranquillita  \n",
              "2019-01-01      764.0           Bogotá, D.C.       Corabastos  \n",
              "2019-01-01     1556.0            Bucaramanga    Centroabastos  \n",
              "2019-01-01     1058.0  Chiquinquirá (Boyacá)             None  "
            ],
            "text/html": [
              "<div>\n",
              "<style scoped>\n",
              "    .dataframe tbody tr th:only-of-type {\n",
              "        vertical-align: middle;\n",
              "    }\n",
              "\n",
              "    .dataframe tbody tr th {\n",
              "        vertical-align: top;\n",
              "    }\n",
              "\n",
              "    .dataframe thead th {\n",
              "        text-align: right;\n",
              "    }\n",
              "</style>\n",
              "<table border=\"1\" class=\"dataframe\">\n",
              "  <thead>\n",
              "    <tr style=\"text-align: right;\">\n",
              "      <th></th>\n",
              "      <th>Grupo</th>\n",
              "      <th>Producto</th>\n",
              "      <th>Fuente</th>\n",
              "      <th>Precio KG</th>\n",
              "      <th>Ciudad</th>\n",
              "      <th>Plaza</th>\n",
              "    </tr>\n",
              "    <tr>\n",
              "      <th>Fecha</th>\n",
              "      <th></th>\n",
              "      <th></th>\n",
              "      <th></th>\n",
              "      <th></th>\n",
              "      <th></th>\n",
              "      <th></th>\n",
              "    </tr>\n",
              "  </thead>\n",
              "  <tbody>\n",
              "    <tr>\n",
              "      <th>2019-01-01</th>\n",
              "      <td>VERDURAS Y HORTALIZAS</td>\n",
              "      <td>Acelga</td>\n",
              "      <td>Armenia, Mercar</td>\n",
              "      <td>1065.0</td>\n",
              "      <td>Armenia</td>\n",
              "      <td>Mercar</td>\n",
              "    </tr>\n",
              "    <tr>\n",
              "      <th>2019-01-01</th>\n",
              "      <td>VERDURAS Y HORTALIZAS</td>\n",
              "      <td>Acelga</td>\n",
              "      <td>Barranquilla, Barranquillita</td>\n",
              "      <td>3000.0</td>\n",
              "      <td>Barranquilla</td>\n",
              "      <td>Barranquillita</td>\n",
              "    </tr>\n",
              "    <tr>\n",
              "      <th>2019-01-01</th>\n",
              "      <td>VERDURAS Y HORTALIZAS</td>\n",
              "      <td>Acelga</td>\n",
              "      <td>Bogotá, D.C., Corabastos</td>\n",
              "      <td>764.0</td>\n",
              "      <td>Bogotá, D.C.</td>\n",
              "      <td>Corabastos</td>\n",
              "    </tr>\n",
              "    <tr>\n",
              "      <th>2019-01-01</th>\n",
              "      <td>VERDURAS Y HORTALIZAS</td>\n",
              "      <td>Acelga</td>\n",
              "      <td>Bucaramanga, Centroabastos</td>\n",
              "      <td>1556.0</td>\n",
              "      <td>Bucaramanga</td>\n",
              "      <td>Centroabastos</td>\n",
              "    </tr>\n",
              "    <tr>\n",
              "      <th>2019-01-01</th>\n",
              "      <td>VERDURAS Y HORTALIZAS</td>\n",
              "      <td>Acelga</td>\n",
              "      <td>Chiquinquirá (Boyacá)</td>\n",
              "      <td>1058.0</td>\n",
              "      <td>Chiquinquirá (Boyacá)</td>\n",
              "      <td>None</td>\n",
              "    </tr>\n",
              "  </tbody>\n",
              "</table>\n",
              "</div>"
            ]
          },
          "metadata": {},
          "execution_count": 11
        }
      ],
      "source": [
        "# in the star of the dataframe we can see that there are valuess that include the city but not the marketplace\n",
        "# it is important to take this into consideration\n",
        "df.head()\n"
      ]
    },
    {
      "cell_type": "code",
      "execution_count": 12,
      "metadata": {
        "colab": {
          "base_uri": "https://localhost:8080/"
        },
        "id": "qbPjCeThWBLp",
        "outputId": "eecf3aaf-660e-45af-ba08-76fd3afd38bc"
      },
      "outputs": [
        {
          "output_type": "execute_result",
          "data": {
            "text/plain": [
              "Bogotá, D.C.                        18734\n",
              "Medellín                            15561\n",
              "Cali                                14576\n",
              "Barranquilla                         9971\n",
              "Cúcuta                               9715\n",
              "Pereira                              8878\n",
              "Bucaramanga                          8756\n",
              "Villavicencio                        6383\n",
              "Ibagué                               6214\n",
              "Valledupar                           5986\n",
              "Montería                             5959\n",
              "Armenia                              5921\n",
              "Popayán                              5647\n",
              "Palmira (Valle del Cauca)            5523\n",
              "Manizales                            5514\n",
              "Neiva                                5476\n",
              "Tuluá (Valle del Cauca)              5420\n",
              "Cartagena                            5350\n",
              "Sincelejo                            5249\n",
              "Pasto                                4864\n",
              "Tunja                                4837\n",
              "Cartago (Valle del Cauca)            4716\n",
              "Buenaventura (Valle del Cauca)       4320\n",
              "Pamplona (Norte de Santander)        4150\n",
              "Santa Marta (Magdalena)              3473\n",
              "Florencia (Caquetá)                  3226\n",
              "San Gil (Santander)                  2841\n",
              "Chiquinquirá (Boyacá)                2792\n",
              "Duitama (Boyacá)                     2764\n",
              "Yopal (Casanare)                     2730\n",
              "Arauca (Arauca)                      2684\n",
              "Ipiales (Nariño)                     2568\n",
              "Rionegro (Antioquia)                 2142\n",
              "Socorro (Santander)                  1923\n",
              "Sogamoso (Boyacá)                    1805\n",
              "Tibasosa (Boyacá)                    1619\n",
              "La Unión (Nariño)                    1389\n",
              "La Ceja (Antioquia)                  1256\n",
              "Túquerres (Nariño)                   1251\n",
              "Sonsón (Antioquia)                   1157\n",
              "Malambo (Atlántico)                  1067\n",
              "Marinilla (Antioquia)                1049\n",
              "Ubaté (Cundinamarca)                  856\n",
              "Santa Bárbara (Antioquia)             714\n",
              "Peñol (Antioquia)                     649\n",
              "San Vicente (Antioquia)               584\n",
              "El Santuario (Antioquia)              480\n",
              "El Carmen de Viboral (Antioquia)      380\n",
              "La Unión (Antioquia)                  192\n",
              "Caparrapí (Cundinamarca)              144\n",
              "Name: Ciudad, dtype: int64"
            ]
          },
          "metadata": {},
          "execution_count": 12
        }
      ],
      "source": [
        "# here we count every vale from 0 to 50 to see whether there is a city misspelled\n",
        "\n",
        "df.Ciudad.value_counts()[0:50]"
      ]
    },
    {
      "cell_type": "code",
      "source": [
        "# i droped the Fuente value as it will not give me any value since\n",
        "# you will need the city and maybe a specific WHOLESALE market called \"Plaza\"\n",
        "df = df.drop(['Fuente'],axis=1)\n",
        "# here you can confirm that the data base is still the same only without the \"Fuente\" Column\n",
        "df.head()"
      ],
      "metadata": {
        "colab": {
          "base_uri": "https://localhost:8080/",
          "height": 237
        },
        "id": "-WYc_HYI3SJT",
        "outputId": "6cbaceb0-6a03-416e-efb3-0d0d3037e91d"
      },
      "execution_count": 13,
      "outputs": [
        {
          "output_type": "execute_result",
          "data": {
            "text/plain": [
              "                            Grupo Producto  Precio KG                 Ciudad  \\\n",
              "Fecha                                                                          \n",
              "2019-01-01  VERDURAS Y HORTALIZAS   Acelga     1065.0                Armenia   \n",
              "2019-01-01  VERDURAS Y HORTALIZAS   Acelga     3000.0           Barranquilla   \n",
              "2019-01-01  VERDURAS Y HORTALIZAS   Acelga      764.0           Bogotá, D.C.   \n",
              "2019-01-01  VERDURAS Y HORTALIZAS   Acelga     1556.0            Bucaramanga   \n",
              "2019-01-01  VERDURAS Y HORTALIZAS   Acelga     1058.0  Chiquinquirá (Boyacá)   \n",
              "\n",
              "                      Plaza  \n",
              "Fecha                        \n",
              "2019-01-01           Mercar  \n",
              "2019-01-01   Barranquillita  \n",
              "2019-01-01       Corabastos  \n",
              "2019-01-01    Centroabastos  \n",
              "2019-01-01             None  "
            ],
            "text/html": [
              "<div>\n",
              "<style scoped>\n",
              "    .dataframe tbody tr th:only-of-type {\n",
              "        vertical-align: middle;\n",
              "    }\n",
              "\n",
              "    .dataframe tbody tr th {\n",
              "        vertical-align: top;\n",
              "    }\n",
              "\n",
              "    .dataframe thead th {\n",
              "        text-align: right;\n",
              "    }\n",
              "</style>\n",
              "<table border=\"1\" class=\"dataframe\">\n",
              "  <thead>\n",
              "    <tr style=\"text-align: right;\">\n",
              "      <th></th>\n",
              "      <th>Grupo</th>\n",
              "      <th>Producto</th>\n",
              "      <th>Precio KG</th>\n",
              "      <th>Ciudad</th>\n",
              "      <th>Plaza</th>\n",
              "    </tr>\n",
              "    <tr>\n",
              "      <th>Fecha</th>\n",
              "      <th></th>\n",
              "      <th></th>\n",
              "      <th></th>\n",
              "      <th></th>\n",
              "      <th></th>\n",
              "    </tr>\n",
              "  </thead>\n",
              "  <tbody>\n",
              "    <tr>\n",
              "      <th>2019-01-01</th>\n",
              "      <td>VERDURAS Y HORTALIZAS</td>\n",
              "      <td>Acelga</td>\n",
              "      <td>1065.0</td>\n",
              "      <td>Armenia</td>\n",
              "      <td>Mercar</td>\n",
              "    </tr>\n",
              "    <tr>\n",
              "      <th>2019-01-01</th>\n",
              "      <td>VERDURAS Y HORTALIZAS</td>\n",
              "      <td>Acelga</td>\n",
              "      <td>3000.0</td>\n",
              "      <td>Barranquilla</td>\n",
              "      <td>Barranquillita</td>\n",
              "    </tr>\n",
              "    <tr>\n",
              "      <th>2019-01-01</th>\n",
              "      <td>VERDURAS Y HORTALIZAS</td>\n",
              "      <td>Acelga</td>\n",
              "      <td>764.0</td>\n",
              "      <td>Bogotá, D.C.</td>\n",
              "      <td>Corabastos</td>\n",
              "    </tr>\n",
              "    <tr>\n",
              "      <th>2019-01-01</th>\n",
              "      <td>VERDURAS Y HORTALIZAS</td>\n",
              "      <td>Acelga</td>\n",
              "      <td>1556.0</td>\n",
              "      <td>Bucaramanga</td>\n",
              "      <td>Centroabastos</td>\n",
              "    </tr>\n",
              "    <tr>\n",
              "      <th>2019-01-01</th>\n",
              "      <td>VERDURAS Y HORTALIZAS</td>\n",
              "      <td>Acelga</td>\n",
              "      <td>1058.0</td>\n",
              "      <td>Chiquinquirá (Boyacá)</td>\n",
              "      <td>None</td>\n",
              "    </tr>\n",
              "  </tbody>\n",
              "</table>\n",
              "</div>"
            ]
          },
          "metadata": {},
          "execution_count": 13
        }
      ]
    },
    {
      "cell_type": "code",
      "execution_count": 14,
      "metadata": {
        "colab": {
          "base_uri": "https://localhost:8080/"
        },
        "id": "PghdOeyRv-fN",
        "outputId": "46dffa03-c14c-40de-b60a-6665b5bc105f"
      },
      "outputs": [
        {
          "output_type": "execute_result",
          "data": {
            "text/plain": [
              "FRUTAS                           53015\n",
              "VERDURAS Y HORTALIZAS            43664\n",
              "CARNES                           32565\n",
              "PROCESADOS                       32080\n",
              "TUBERCULOS, RAICES Y PLATANOS    16948\n",
              "GRANOS Y CEREALES                13366\n",
              "PESCADOS                         10352\n",
              "LACTEOS Y HUEVOS                  9418\n",
              "Frutas                            2261\n",
              "Verduras y Hortalizas             1893\n",
              "Carnes                            1429\n",
              "Procesados                        1387\n",
              "Tubérculos, Raíces y Plátanos      704\n",
              "Granos y Cereales                  578\n",
              "Pescados                           448\n",
              "Lácteos y Huevos                   409\n",
              "Name: Grupo, dtype: int64"
            ]
          },
          "metadata": {},
          "execution_count": 14
        }
      ],
      "source": [
        "# this is another part of the data cleaning and filtering\n",
        "#we see duplicates with differences in the upper letters\n",
        "df['Grupo'].value_counts()\n"
      ]
    },
    {
      "cell_type": "code",
      "source": [
        "# as you can see the str.lower will change all the\n",
        "# upper letters for lower case\n",
        "df['Grupo'] = df['Grupo'].str.lower()\n",
        "\n",
        "df['Grupo'].value_counts()"
      ],
      "metadata": {
        "id": "g8vrV1LG5DHW",
        "colab": {
          "base_uri": "https://localhost:8080/"
        },
        "outputId": "4a586d42-d750-48f3-9125-f546ca37af74"
      },
      "execution_count": 15,
      "outputs": [
        {
          "output_type": "execute_result",
          "data": {
            "text/plain": [
              "frutas                           55276\n",
              "verduras y hortalizas            45557\n",
              "carnes                           33994\n",
              "procesados                       33467\n",
              "tuberculos, raices y platanos    16948\n",
              "granos y cereales                13944\n",
              "pescados                         10800\n",
              "lacteos y huevos                  9418\n",
              "tubérculos, raíces y plátanos      704\n",
              "lácteos y huevos                   409\n",
              "Name: Grupo, dtype: int64"
            ]
          },
          "metadata": {},
          "execution_count": 15
        }
      ]
    },
    {
      "cell_type": "code",
      "source": [
        "# you can se the dict of values that i'm going to replce with the .replace function\n",
        "dic = {'é': 'e', 'í': 'i','á':'a'}"
      ],
      "metadata": {
        "id": "ZlpN9kfkc2Nw"
      },
      "execution_count": 16,
      "outputs": []
    },
    {
      "cell_type": "code",
      "source": [
        "df.replace(dic, regex=True, inplace=True)"
      ],
      "metadata": {
        "id": "9NEYYOf6fVd6"
      },
      "execution_count": 17,
      "outputs": []
    },
    {
      "cell_type": "code",
      "source": [
        "df['Grupo'].value_counts()"
      ],
      "metadata": {
        "colab": {
          "base_uri": "https://localhost:8080/"
        },
        "id": "BOcV8jCoeSUr",
        "outputId": "91f93537-e936-4ee2-fa44-63e8b055383c"
      },
      "execution_count": 18,
      "outputs": [
        {
          "output_type": "execute_result",
          "data": {
            "text/plain": [
              "frutas                           55276\n",
              "verduras y hortalizas            45557\n",
              "carnes                           33994\n",
              "procesados                       33467\n",
              "tuberculos, raices y platanos    17652\n",
              "granos y cereales                13944\n",
              "pescados                         10800\n",
              "lacteos y huevos                  9827\n",
              "Name: Grupo, dtype: int64"
            ]
          },
          "metadata": {},
          "execution_count": 18
        }
      ]
    },
    {
      "cell_type": "code",
      "source": [
        "# now we need to see wheter there may be other values such as ó or ú\n",
        "# for this we need to analyse the other types of products from each category\n",
        "# but instead we will find this values and if it exists in the data base\n",
        "# if those values exists we will addd them to the dictionary to then replace them and get an homogeneus list\n"
      ],
      "metadata": {
        "id": "e9SfYgpIfhyB"
      },
      "execution_count": 19,
      "outputs": []
    },
    {
      "cell_type": "code",
      "source": [
        "# Thiss code reveal that there are no ó or ú in the data base that need to be replaced\n",
        "# Then the code above of .replace wwill work just fine\n",
        "### remember to add a list for ú and ó too\n",
        "df['Grupo'].str.count('ú').sum()\n"
      ],
      "metadata": {
        "id": "IiS3-0AQ-E_Z",
        "colab": {
          "base_uri": "https://localhost:8080/"
        },
        "outputId": "c4431e02-f0d4-4a87-d55f-fdfa735ab000"
      },
      "execution_count": 20,
      "outputs": [
        {
          "output_type": "execute_result",
          "data": {
            "text/plain": [
              "0"
            ]
          },
          "metadata": {},
          "execution_count": 20
        }
      ]
    },
    {
      "cell_type": "code",
      "source": [
        "df['Ciudad'].value_counts()[0:50]"
      ],
      "metadata": {
        "id": "zB4d2UjvSsiT",
        "colab": {
          "base_uri": "https://localhost:8080/"
        },
        "outputId": "679c6eda-3b93-4762-85b4-caad5ddb17df"
      },
      "execution_count": 21,
      "outputs": [
        {
          "output_type": "execute_result",
          "data": {
            "text/plain": [
              "Bogota, D.C.                        18734\n",
              "Medellin                            15561\n",
              "Cali                                14576\n",
              "Barranquilla                         9971\n",
              "Cúcuta                               9715\n",
              "Pereira                              8878\n",
              "Bucaramanga                          8756\n",
              "Villavicencio                        6383\n",
              "Ibague                               6214\n",
              "Valledupar                           5986\n",
              "Monteria                             5959\n",
              "Armenia                              5921\n",
              "Popayan                              5647\n",
              "Palmira (Valle del Cauca)            5523\n",
              "Manizales                            5514\n",
              "Neiva                                5476\n",
              "Tulua (Valle del Cauca)              5420\n",
              "Cartagena                            5350\n",
              "Sincelejo                            5249\n",
              "Pasto                                4864\n",
              "Tunja                                4837\n",
              "Cartago (Valle del Cauca)            4716\n",
              "Buenaventura (Valle del Cauca)       4320\n",
              "Pamplona (Norte de Santander)        4150\n",
              "Santa Marta (Magdalena)              3473\n",
              "Florencia (Caqueta)                  3226\n",
              "San Gil (Santander)                  2841\n",
              "Chiquinquira (Boyaca)                2792\n",
              "Duitama (Boyaca)                     2764\n",
              "Yopal (Casanare)                     2730\n",
              "Arauca (Arauca)                      2684\n",
              "Ipiales (Nariño)                     2568\n",
              "Rionegro (Antioquia)                 2142\n",
              "Socorro (Santander)                  1923\n",
              "Sogamoso (Boyaca)                    1805\n",
              "Tibasosa (Boyaca)                    1619\n",
              "La Unión (Nariño)                    1389\n",
              "La Ceja (Antioquia)                  1256\n",
              "Túquerres (Nariño)                   1251\n",
              "Sonsón (Antioquia)                   1157\n",
              "Malambo (Atlantico)                  1067\n",
              "Marinilla (Antioquia)                1049\n",
              "Ubate (Cundinamarca)                  856\n",
              "Santa Barbara (Antioquia)             714\n",
              "Peñol (Antioquia)                     649\n",
              "San Vicente (Antioquia)               584\n",
              "El Santuario (Antioquia)              480\n",
              "El Carmen de Viboral (Antioquia)      380\n",
              "La Unión (Antioquia)                  192\n",
              "Caparrapi (Cundinamarca)              144\n",
              "Name: Ciudad, dtype: int64"
            ]
          },
          "metadata": {},
          "execution_count": 21
        }
      ]
    },
    {
      "cell_type": "code",
      "source": [
        "# here you can write the dicttionary if you would like to select multiple cities\n",
        "C = ['Bogota, D.C.']\n",
        "df2 = df[df['Grupo'].isin(C)]\n"
      ],
      "metadata": {
        "id": "e50gjgdYTwA2"
      },
      "execution_count": 22,
      "outputs": []
    },
    {
      "cell_type": "code",
      "source": [
        "# here i replace the tring with a value o it is more easy to get values and analyze them witouth touching the principal code\n",
        "# here noww e dont acll the list inide the iin function\n",
        "# instead i used a vaariable to store a list that caaan containt all the types of groups of goods\n",
        "G = ['frutas']\n",
        "df2 = df[df['Grupo'].isin(G)]\n",
        "df2['Producto'].value_counts()[0:30]"
      ],
      "metadata": {
        "id": "nswbtL0SQddR",
        "colab": {
          "base_uri": "https://localhost:8080/"
        },
        "outputId": "265c0dcb-f919-4f8e-e70f-1fb7c9049782"
      },
      "execution_count": 23,
      "outputs": [
        {
          "output_type": "execute_result",
          "data": {
            "text/plain": [
              "Tomate de arbol                 2262\n",
              "Manzana verde importada         1848\n",
              "Lulo                            1830\n",
              "Mora de Castilla                1806\n",
              "Manzana roja importada          1760\n",
              "Guayaba pera                    1721\n",
              "Banano criollo                  1709\n",
              "Pera importada                  1606\n",
              "Papaya Maradol                  1597\n",
              "Manzana royal gala importada    1565\n",
              "Maracuya                        1546\n",
              "Aguacate papelillo              1533\n",
              "Mango Tommy                     1521\n",
              "Limón Tahiti                    1444\n",
              "Limón común                     1404\n",
              "Granadilla                      1347\n",
              "Uva Isabela                     1328\n",
              "Piña gold                       1309\n",
              "Melón Cantalup                  1254\n",
              "Naranja Valencia                1231\n",
              "Patilla                         1188\n",
              "Guanabana                       1183\n",
              "Fresa                           1172\n",
              "Curuba                          1101\n",
              "Kiwi                            1067\n",
              "Uva red globe nacional           880\n",
              "Piña perolera                    832\n",
              "Mandarina Arrayana               798\n",
              "Mandarina común                  759\n",
              "Coco                             707\n",
              "Name: Producto, dtype: int64"
            ]
          },
          "metadata": {},
          "execution_count": 23
        }
      ]
    },
    {
      "cell_type": "code",
      "source": [
        "P = ['Coco']\n",
        "dfp = df2[df2[\"Producto\"].isin(P)]\n",
        "dfpc = df2[(df2[\"Producto\"].isin(P)) & (df2['Ciudad'].isin(C))]"
      ],
      "metadata": {
        "id": "qMRMxCZYLTE8"
      },
      "execution_count": 24,
      "outputs": []
    },
    {
      "cell_type": "code",
      "source": [
        "dfpc"
      ],
      "metadata": {
        "id": "VQvdbKwNXNue",
        "colab": {
          "base_uri": "https://localhost:8080/",
          "height": 1000
        },
        "outputId": "f7b5fa74-89a2-4e8c-85f6-34384b106cd0"
      },
      "execution_count": 25,
      "outputs": [
        {
          "output_type": "execute_result",
          "data": {
            "text/plain": [
              "             Grupo Producto  Precio KG        Ciudad        Plaza\n",
              "Fecha                                                            \n",
              "2019-01-01  frutas     Coco     3012.0  Bogota, D.C.   Corabastos\n",
              "2019-02-01  frutas     Coco     3303.0  Bogota, D.C.   Corabastos\n",
              "2019-03-01  frutas     Coco     3314.0  Bogota, D.C.   Corabastos\n",
              "2019-04-01  frutas     Coco     3327.0  Bogota, D.C.   Corabastos\n",
              "2019-05-01  frutas     Coco     3621.0  Bogota, D.C.   Corabastos\n",
              "2019-06-01  frutas     Coco     3748.0  Bogota, D.C.   Corabastos\n",
              "2019-07-01  frutas     Coco     3743.0  Bogota, D.C.   Corabastos\n",
              "2019-08-01  frutas     Coco     3743.0  Bogota, D.C.   Corabastos\n",
              "2019-09-01  frutas     Coco     3732.0  Bogota, D.C.   Corabastos\n",
              "2019-10-01  frutas     Coco     3727.0  Bogota, D.C.   Corabastos\n",
              "2019-11-01  frutas     Coco     3730.0  Bogota, D.C.   Corabastos\n",
              "2019-12-01  frutas     Coco     3737.0  Bogota, D.C.   Corabastos\n",
              "2020-01-01  frutas     Coco     3727.0  Bogota, D.C.   Corabastos\n",
              "2020-02-01  frutas     Coco     3721.0  Bogota, D.C.   Corabastos\n",
              "2020-03-01  frutas     Coco     3729.0  Bogota, D.C.   Corabastos\n",
              "2020-04-01  frutas     Coco     3727.0  Bogota, D.C.   Corabastos\n",
              "2020-05-01  frutas     Coco     3721.0  Bogota, D.C.   Corabastos\n",
              "2020-06-01  frutas     Coco     3728.0  Bogota, D.C.   Corabastos\n",
              "2020-07-01  frutas     Coco     3729.0  Bogota, D.C.   Corabastos\n",
              "2020-08-01  frutas     Coco     3726.0  Bogota, D.C.   Corabastos\n",
              "2020-09-01  frutas     Coco     4001.0  Bogota, D.C.   Corabastos\n",
              "2020-10-01  frutas     Coco     4334.0  Bogota, D.C.   Corabastos\n",
              "2020-11-01  frutas     Coco     4163.0  Bogota, D.C.   Corabastos\n",
              "2020-12-01  frutas     Coco     4097.0  Bogota, D.C.   Corabastos\n",
              "2021-01-01  frutas     Coco     3934.0  Bogota, D.C.   Corabastos\n",
              "2021-02-01  frutas     Coco     3874.0  Bogota, D.C.   Corabastos\n",
              "2021-03-01  frutas     Coco     3838.0  Bogota, D.C.   Corabastos\n",
              "2021-04-01  frutas     Coco     3826.0  Bogota, D.C.   Corabastos\n",
              "2021-05-01  frutas     Coco     3866.0  Bogota, D.C.   Corabastos\n",
              "2021-06-01  frutas     Coco     3913.0  Bogota, D.C.   Corabastos\n",
              "2021-07-01  frutas     Coco     3858.0  Bogota, D.C.   Corabastos\n",
              "2021-08-01  frutas     Coco     3800.0  Bogota, D.C.   Corabastos\n",
              "2021-09-01  frutas     Coco     3782.0  Bogota, D.C.   Corabastos\n",
              "2021-10-01  frutas     Coco     3791.0  Bogota, D.C.   Corabastos\n",
              "2021-11-01  frutas     Coco     3920.0  Bogota, D.C.   Corabastos\n",
              "2021-12-01  frutas     Coco     3927.0  Bogota, D.C.   Corabastos\n",
              "2022-01-01  frutas     Coco     3890.0  Bogota, D.C.   Corabastos\n",
              "2022-02-01  frutas     Coco     3882.0  Bogota, D.C.   Corabastos\n",
              "2022-03-01  frutas     Coco     3880.0  Bogota, D.C.   Corabastos\n",
              "2022-04-01  frutas     Coco     3851.0  Bogota, D.C.   Corabastos\n",
              "2022-05-01  frutas     Coco     3875.0  Bogota, D.C.   Corabastos\n",
              "2022-06-01  frutas     Coco     3856.0  Bogota, D.C.   Corabastos\n",
              "2022-07-01  frutas     Coco     3858.0  Bogota, D.C.   Corabastos\n",
              "2022-08-01  frutas     Coco     3820.0  Bogota, D.C.   Corabastos\n",
              "2022-09-01  frutas     Coco     3829.0  Bogota, D.C.   Corabastos\n",
              "2022-10-01  frutas     Coco     3850.0  Bogota, D.C.   Corabastos\n",
              "2022-11-01  frutas     Coco     3893.0  Bogota, D.C.   Corabastos\n",
              "2022-12-01  frutas     Coco     3851.0  Bogota, D.C.   Corabastos"
            ],
            "text/html": [
              "<div>\n",
              "<style scoped>\n",
              "    .dataframe tbody tr th:only-of-type {\n",
              "        vertical-align: middle;\n",
              "    }\n",
              "\n",
              "    .dataframe tbody tr th {\n",
              "        vertical-align: top;\n",
              "    }\n",
              "\n",
              "    .dataframe thead th {\n",
              "        text-align: right;\n",
              "    }\n",
              "</style>\n",
              "<table border=\"1\" class=\"dataframe\">\n",
              "  <thead>\n",
              "    <tr style=\"text-align: right;\">\n",
              "      <th></th>\n",
              "      <th>Grupo</th>\n",
              "      <th>Producto</th>\n",
              "      <th>Precio KG</th>\n",
              "      <th>Ciudad</th>\n",
              "      <th>Plaza</th>\n",
              "    </tr>\n",
              "    <tr>\n",
              "      <th>Fecha</th>\n",
              "      <th></th>\n",
              "      <th></th>\n",
              "      <th></th>\n",
              "      <th></th>\n",
              "      <th></th>\n",
              "    </tr>\n",
              "  </thead>\n",
              "  <tbody>\n",
              "    <tr>\n",
              "      <th>2019-01-01</th>\n",
              "      <td>frutas</td>\n",
              "      <td>Coco</td>\n",
              "      <td>3012.0</td>\n",
              "      <td>Bogota, D.C.</td>\n",
              "      <td>Corabastos</td>\n",
              "    </tr>\n",
              "    <tr>\n",
              "      <th>2019-02-01</th>\n",
              "      <td>frutas</td>\n",
              "      <td>Coco</td>\n",
              "      <td>3303.0</td>\n",
              "      <td>Bogota, D.C.</td>\n",
              "      <td>Corabastos</td>\n",
              "    </tr>\n",
              "    <tr>\n",
              "      <th>2019-03-01</th>\n",
              "      <td>frutas</td>\n",
              "      <td>Coco</td>\n",
              "      <td>3314.0</td>\n",
              "      <td>Bogota, D.C.</td>\n",
              "      <td>Corabastos</td>\n",
              "    </tr>\n",
              "    <tr>\n",
              "      <th>2019-04-01</th>\n",
              "      <td>frutas</td>\n",
              "      <td>Coco</td>\n",
              "      <td>3327.0</td>\n",
              "      <td>Bogota, D.C.</td>\n",
              "      <td>Corabastos</td>\n",
              "    </tr>\n",
              "    <tr>\n",
              "      <th>2019-05-01</th>\n",
              "      <td>frutas</td>\n",
              "      <td>Coco</td>\n",
              "      <td>3621.0</td>\n",
              "      <td>Bogota, D.C.</td>\n",
              "      <td>Corabastos</td>\n",
              "    </tr>\n",
              "    <tr>\n",
              "      <th>2019-06-01</th>\n",
              "      <td>frutas</td>\n",
              "      <td>Coco</td>\n",
              "      <td>3748.0</td>\n",
              "      <td>Bogota, D.C.</td>\n",
              "      <td>Corabastos</td>\n",
              "    </tr>\n",
              "    <tr>\n",
              "      <th>2019-07-01</th>\n",
              "      <td>frutas</td>\n",
              "      <td>Coco</td>\n",
              "      <td>3743.0</td>\n",
              "      <td>Bogota, D.C.</td>\n",
              "      <td>Corabastos</td>\n",
              "    </tr>\n",
              "    <tr>\n",
              "      <th>2019-08-01</th>\n",
              "      <td>frutas</td>\n",
              "      <td>Coco</td>\n",
              "      <td>3743.0</td>\n",
              "      <td>Bogota, D.C.</td>\n",
              "      <td>Corabastos</td>\n",
              "    </tr>\n",
              "    <tr>\n",
              "      <th>2019-09-01</th>\n",
              "      <td>frutas</td>\n",
              "      <td>Coco</td>\n",
              "      <td>3732.0</td>\n",
              "      <td>Bogota, D.C.</td>\n",
              "      <td>Corabastos</td>\n",
              "    </tr>\n",
              "    <tr>\n",
              "      <th>2019-10-01</th>\n",
              "      <td>frutas</td>\n",
              "      <td>Coco</td>\n",
              "      <td>3727.0</td>\n",
              "      <td>Bogota, D.C.</td>\n",
              "      <td>Corabastos</td>\n",
              "    </tr>\n",
              "    <tr>\n",
              "      <th>2019-11-01</th>\n",
              "      <td>frutas</td>\n",
              "      <td>Coco</td>\n",
              "      <td>3730.0</td>\n",
              "      <td>Bogota, D.C.</td>\n",
              "      <td>Corabastos</td>\n",
              "    </tr>\n",
              "    <tr>\n",
              "      <th>2019-12-01</th>\n",
              "      <td>frutas</td>\n",
              "      <td>Coco</td>\n",
              "      <td>3737.0</td>\n",
              "      <td>Bogota, D.C.</td>\n",
              "      <td>Corabastos</td>\n",
              "    </tr>\n",
              "    <tr>\n",
              "      <th>2020-01-01</th>\n",
              "      <td>frutas</td>\n",
              "      <td>Coco</td>\n",
              "      <td>3727.0</td>\n",
              "      <td>Bogota, D.C.</td>\n",
              "      <td>Corabastos</td>\n",
              "    </tr>\n",
              "    <tr>\n",
              "      <th>2020-02-01</th>\n",
              "      <td>frutas</td>\n",
              "      <td>Coco</td>\n",
              "      <td>3721.0</td>\n",
              "      <td>Bogota, D.C.</td>\n",
              "      <td>Corabastos</td>\n",
              "    </tr>\n",
              "    <tr>\n",
              "      <th>2020-03-01</th>\n",
              "      <td>frutas</td>\n",
              "      <td>Coco</td>\n",
              "      <td>3729.0</td>\n",
              "      <td>Bogota, D.C.</td>\n",
              "      <td>Corabastos</td>\n",
              "    </tr>\n",
              "    <tr>\n",
              "      <th>2020-04-01</th>\n",
              "      <td>frutas</td>\n",
              "      <td>Coco</td>\n",
              "      <td>3727.0</td>\n",
              "      <td>Bogota, D.C.</td>\n",
              "      <td>Corabastos</td>\n",
              "    </tr>\n",
              "    <tr>\n",
              "      <th>2020-05-01</th>\n",
              "      <td>frutas</td>\n",
              "      <td>Coco</td>\n",
              "      <td>3721.0</td>\n",
              "      <td>Bogota, D.C.</td>\n",
              "      <td>Corabastos</td>\n",
              "    </tr>\n",
              "    <tr>\n",
              "      <th>2020-06-01</th>\n",
              "      <td>frutas</td>\n",
              "      <td>Coco</td>\n",
              "      <td>3728.0</td>\n",
              "      <td>Bogota, D.C.</td>\n",
              "      <td>Corabastos</td>\n",
              "    </tr>\n",
              "    <tr>\n",
              "      <th>2020-07-01</th>\n",
              "      <td>frutas</td>\n",
              "      <td>Coco</td>\n",
              "      <td>3729.0</td>\n",
              "      <td>Bogota, D.C.</td>\n",
              "      <td>Corabastos</td>\n",
              "    </tr>\n",
              "    <tr>\n",
              "      <th>2020-08-01</th>\n",
              "      <td>frutas</td>\n",
              "      <td>Coco</td>\n",
              "      <td>3726.0</td>\n",
              "      <td>Bogota, D.C.</td>\n",
              "      <td>Corabastos</td>\n",
              "    </tr>\n",
              "    <tr>\n",
              "      <th>2020-09-01</th>\n",
              "      <td>frutas</td>\n",
              "      <td>Coco</td>\n",
              "      <td>4001.0</td>\n",
              "      <td>Bogota, D.C.</td>\n",
              "      <td>Corabastos</td>\n",
              "    </tr>\n",
              "    <tr>\n",
              "      <th>2020-10-01</th>\n",
              "      <td>frutas</td>\n",
              "      <td>Coco</td>\n",
              "      <td>4334.0</td>\n",
              "      <td>Bogota, D.C.</td>\n",
              "      <td>Corabastos</td>\n",
              "    </tr>\n",
              "    <tr>\n",
              "      <th>2020-11-01</th>\n",
              "      <td>frutas</td>\n",
              "      <td>Coco</td>\n",
              "      <td>4163.0</td>\n",
              "      <td>Bogota, D.C.</td>\n",
              "      <td>Corabastos</td>\n",
              "    </tr>\n",
              "    <tr>\n",
              "      <th>2020-12-01</th>\n",
              "      <td>frutas</td>\n",
              "      <td>Coco</td>\n",
              "      <td>4097.0</td>\n",
              "      <td>Bogota, D.C.</td>\n",
              "      <td>Corabastos</td>\n",
              "    </tr>\n",
              "    <tr>\n",
              "      <th>2021-01-01</th>\n",
              "      <td>frutas</td>\n",
              "      <td>Coco</td>\n",
              "      <td>3934.0</td>\n",
              "      <td>Bogota, D.C.</td>\n",
              "      <td>Corabastos</td>\n",
              "    </tr>\n",
              "    <tr>\n",
              "      <th>2021-02-01</th>\n",
              "      <td>frutas</td>\n",
              "      <td>Coco</td>\n",
              "      <td>3874.0</td>\n",
              "      <td>Bogota, D.C.</td>\n",
              "      <td>Corabastos</td>\n",
              "    </tr>\n",
              "    <tr>\n",
              "      <th>2021-03-01</th>\n",
              "      <td>frutas</td>\n",
              "      <td>Coco</td>\n",
              "      <td>3838.0</td>\n",
              "      <td>Bogota, D.C.</td>\n",
              "      <td>Corabastos</td>\n",
              "    </tr>\n",
              "    <tr>\n",
              "      <th>2021-04-01</th>\n",
              "      <td>frutas</td>\n",
              "      <td>Coco</td>\n",
              "      <td>3826.0</td>\n",
              "      <td>Bogota, D.C.</td>\n",
              "      <td>Corabastos</td>\n",
              "    </tr>\n",
              "    <tr>\n",
              "      <th>2021-05-01</th>\n",
              "      <td>frutas</td>\n",
              "      <td>Coco</td>\n",
              "      <td>3866.0</td>\n",
              "      <td>Bogota, D.C.</td>\n",
              "      <td>Corabastos</td>\n",
              "    </tr>\n",
              "    <tr>\n",
              "      <th>2021-06-01</th>\n",
              "      <td>frutas</td>\n",
              "      <td>Coco</td>\n",
              "      <td>3913.0</td>\n",
              "      <td>Bogota, D.C.</td>\n",
              "      <td>Corabastos</td>\n",
              "    </tr>\n",
              "    <tr>\n",
              "      <th>2021-07-01</th>\n",
              "      <td>frutas</td>\n",
              "      <td>Coco</td>\n",
              "      <td>3858.0</td>\n",
              "      <td>Bogota, D.C.</td>\n",
              "      <td>Corabastos</td>\n",
              "    </tr>\n",
              "    <tr>\n",
              "      <th>2021-08-01</th>\n",
              "      <td>frutas</td>\n",
              "      <td>Coco</td>\n",
              "      <td>3800.0</td>\n",
              "      <td>Bogota, D.C.</td>\n",
              "      <td>Corabastos</td>\n",
              "    </tr>\n",
              "    <tr>\n",
              "      <th>2021-09-01</th>\n",
              "      <td>frutas</td>\n",
              "      <td>Coco</td>\n",
              "      <td>3782.0</td>\n",
              "      <td>Bogota, D.C.</td>\n",
              "      <td>Corabastos</td>\n",
              "    </tr>\n",
              "    <tr>\n",
              "      <th>2021-10-01</th>\n",
              "      <td>frutas</td>\n",
              "      <td>Coco</td>\n",
              "      <td>3791.0</td>\n",
              "      <td>Bogota, D.C.</td>\n",
              "      <td>Corabastos</td>\n",
              "    </tr>\n",
              "    <tr>\n",
              "      <th>2021-11-01</th>\n",
              "      <td>frutas</td>\n",
              "      <td>Coco</td>\n",
              "      <td>3920.0</td>\n",
              "      <td>Bogota, D.C.</td>\n",
              "      <td>Corabastos</td>\n",
              "    </tr>\n",
              "    <tr>\n",
              "      <th>2021-12-01</th>\n",
              "      <td>frutas</td>\n",
              "      <td>Coco</td>\n",
              "      <td>3927.0</td>\n",
              "      <td>Bogota, D.C.</td>\n",
              "      <td>Corabastos</td>\n",
              "    </tr>\n",
              "    <tr>\n",
              "      <th>2022-01-01</th>\n",
              "      <td>frutas</td>\n",
              "      <td>Coco</td>\n",
              "      <td>3890.0</td>\n",
              "      <td>Bogota, D.C.</td>\n",
              "      <td>Corabastos</td>\n",
              "    </tr>\n",
              "    <tr>\n",
              "      <th>2022-02-01</th>\n",
              "      <td>frutas</td>\n",
              "      <td>Coco</td>\n",
              "      <td>3882.0</td>\n",
              "      <td>Bogota, D.C.</td>\n",
              "      <td>Corabastos</td>\n",
              "    </tr>\n",
              "    <tr>\n",
              "      <th>2022-03-01</th>\n",
              "      <td>frutas</td>\n",
              "      <td>Coco</td>\n",
              "      <td>3880.0</td>\n",
              "      <td>Bogota, D.C.</td>\n",
              "      <td>Corabastos</td>\n",
              "    </tr>\n",
              "    <tr>\n",
              "      <th>2022-04-01</th>\n",
              "      <td>frutas</td>\n",
              "      <td>Coco</td>\n",
              "      <td>3851.0</td>\n",
              "      <td>Bogota, D.C.</td>\n",
              "      <td>Corabastos</td>\n",
              "    </tr>\n",
              "    <tr>\n",
              "      <th>2022-05-01</th>\n",
              "      <td>frutas</td>\n",
              "      <td>Coco</td>\n",
              "      <td>3875.0</td>\n",
              "      <td>Bogota, D.C.</td>\n",
              "      <td>Corabastos</td>\n",
              "    </tr>\n",
              "    <tr>\n",
              "      <th>2022-06-01</th>\n",
              "      <td>frutas</td>\n",
              "      <td>Coco</td>\n",
              "      <td>3856.0</td>\n",
              "      <td>Bogota, D.C.</td>\n",
              "      <td>Corabastos</td>\n",
              "    </tr>\n",
              "    <tr>\n",
              "      <th>2022-07-01</th>\n",
              "      <td>frutas</td>\n",
              "      <td>Coco</td>\n",
              "      <td>3858.0</td>\n",
              "      <td>Bogota, D.C.</td>\n",
              "      <td>Corabastos</td>\n",
              "    </tr>\n",
              "    <tr>\n",
              "      <th>2022-08-01</th>\n",
              "      <td>frutas</td>\n",
              "      <td>Coco</td>\n",
              "      <td>3820.0</td>\n",
              "      <td>Bogota, D.C.</td>\n",
              "      <td>Corabastos</td>\n",
              "    </tr>\n",
              "    <tr>\n",
              "      <th>2022-09-01</th>\n",
              "      <td>frutas</td>\n",
              "      <td>Coco</td>\n",
              "      <td>3829.0</td>\n",
              "      <td>Bogota, D.C.</td>\n",
              "      <td>Corabastos</td>\n",
              "    </tr>\n",
              "    <tr>\n",
              "      <th>2022-10-01</th>\n",
              "      <td>frutas</td>\n",
              "      <td>Coco</td>\n",
              "      <td>3850.0</td>\n",
              "      <td>Bogota, D.C.</td>\n",
              "      <td>Corabastos</td>\n",
              "    </tr>\n",
              "    <tr>\n",
              "      <th>2022-11-01</th>\n",
              "      <td>frutas</td>\n",
              "      <td>Coco</td>\n",
              "      <td>3893.0</td>\n",
              "      <td>Bogota, D.C.</td>\n",
              "      <td>Corabastos</td>\n",
              "    </tr>\n",
              "    <tr>\n",
              "      <th>2022-12-01</th>\n",
              "      <td>frutas</td>\n",
              "      <td>Coco</td>\n",
              "      <td>3851.0</td>\n",
              "      <td>Bogota, D.C.</td>\n",
              "      <td>Corabastos</td>\n",
              "    </tr>\n",
              "  </tbody>\n",
              "</table>\n",
              "</div>"
            ]
          },
          "metadata": {},
          "execution_count": 25
        }
      ]
    },
    {
      "cell_type": "markdown",
      "source": [
        "##Idea\n",
        "### create a function where if you dont choose a city you get a dataframe with all the countries and only the products given if not then return a dataframe with the product and city given"
      ],
      "metadata": {
        "id": "wdzWCTbJZw_O"
      }
    },
    {
      "cell_type": "code",
      "source": [
        "# the join function map wil give us utomticlly the title of the entire grapichs that we are making\n",
        "t = 'Precio KG de '+(' '.join(map(str, P)))+' en '+(' '.join(map(str, C)))\n"
      ],
      "metadata": {
        "id": "ZXodDhOsqJB_"
      },
      "execution_count": 26,
      "outputs": []
    },
    {
      "cell_type": "code",
      "source": [
        "# why are we seeing a strange graph?\n",
        "# There are different value for the cities all raound the country we need to configure the data to bether understaand this\n",
        "fig, ax = plt.subplots(figsize=(16, 6)) # thiss saves the fig  in the ax\n",
        "ax = sns.lineplot(data=dfpc, x=\"Fecha\", y=\"Precio KG\")# the ax value i the plotting of the cart\n",
        "ax.set(\n",
        "xlabel=\"Fecha\",\n",
        "ylabel=\"Precio KG\",\n",
        ")\n",
        "ax.set_title(t)"
      ],
      "metadata": {
        "id": "N7rEBWpBNS_n",
        "colab": {
          "base_uri": "https://localhost:8080/",
          "height": 579
        },
        "outputId": "351b4d69-1c47-45ae-b725-36d2d11a89cc"
      },
      "execution_count": 27,
      "outputs": [
        {
          "output_type": "execute_result",
          "data": {
            "text/plain": [
              "Text(0.5, 1.0, 'Precio KG de Coco en Bogota, D.C.')"
            ]
          },
          "metadata": {},
          "execution_count": 27
        },
        {
          "output_type": "display_data",
          "data": {
            "text/plain": [
              "<Figure size 1600x600 with 1 Axes>"
            ],
            "image/png": "[encoded data removed]"
          },
          "metadata": {}
        }
      ]
    },
    {
      "cell_type": "code",
      "source": [
        "dfpc.describe()"
      ],
      "metadata": {
        "id": "TmFVUvNau7HI",
        "colab": {
          "base_uri": "https://localhost:8080/",
          "height": 300
        },
        "outputId": "09bc99c4-86ae-44b0-9223-b61342075c55"
      },
      "execution_count": 28,
      "outputs": [
        {
          "output_type": "execute_result",
          "data": {
            "text/plain": [
              "         Precio KG\n",
              "count    48.000000\n",
              "mean   3787.583333\n",
              "std     211.271514\n",
              "min    3012.000000\n",
              "25%    3728.750000\n",
              "50%    3823.000000\n",
              "75%    3876.250000\n",
              "max    4334.000000"
            ],
            "text/html": [
              "<div>\n",
              "<style scoped>\n",
              "    .dataframe tbody tr th:only-of-type {\n",
              "        vertical-align: middle;\n",
              "    }\n",
              "\n",
              "    .dataframe tbody tr th {\n",
              "        vertical-align: top;\n",
              "    }\n",
              "\n",
              "    .dataframe thead th {\n",
              "        text-align: right;\n",
              "    }\n",
              "</style>\n",
              "<table border=\"1\" class=\"dataframe\">\n",
              "  <thead>\n",
              "    <tr style=\"text-align: right;\">\n",
              "      <th></th>\n",
              "      <th>Precio KG</th>\n",
              "    </tr>\n",
              "  </thead>\n",
              "  <tbody>\n",
              "    <tr>\n",
              "      <th>count</th>\n",
              "      <td>48.000000</td>\n",
              "    </tr>\n",
              "    <tr>\n",
              "      <th>mean</th>\n",
              "      <td>3787.583333</td>\n",
              "    </tr>\n",
              "    <tr>\n",
              "      <th>std</th>\n",
              "      <td>211.271514</td>\n",
              "    </tr>\n",
              "    <tr>\n",
              "      <th>min</th>\n",
              "      <td>3012.000000</td>\n",
              "    </tr>\n",
              "    <tr>\n",
              "      <th>25%</th>\n",
              "      <td>3728.750000</td>\n",
              "    </tr>\n",
              "    <tr>\n",
              "      <th>50%</th>\n",
              "      <td>3823.000000</td>\n",
              "    </tr>\n",
              "    <tr>\n",
              "      <th>75%</th>\n",
              "      <td>3876.250000</td>\n",
              "    </tr>\n",
              "    <tr>\n",
              "      <th>max</th>\n",
              "      <td>4334.000000</td>\n",
              "    </tr>\n",
              "  </tbody>\n",
              "</table>\n",
              "</div>"
            ]
          },
          "metadata": {},
          "execution_count": 28
        }
      ]
    },
    {
      "cell_type": "code",
      "source": [
        "# instead of having a list we could also see it in the graph to get a better understanding of the min a max values\n",
        "# this is a new datafrme called point\n",
        "point = (dfpc['Precio KG'].min()) + (dfpc['Precio KG'].max())\n",
        "point"
      ],
      "metadata": {
        "id": "t9NnyBhEyD5g",
        "colab": {
          "base_uri": "https://localhost:8080/"
        },
        "outputId": "a2231fd5-76f3-4cc3-c006-394de148f2d3"
      },
      "execution_count": 29,
      "outputs": [
        {
          "output_type": "execute_result",
          "data": {
            "text/plain": [
              "7346.0"
            ]
          },
          "metadata": {},
          "execution_count": 29
        }
      ]
    },
    {
      "cell_type": "code",
      "source": [
        "# this is the y axis list that will have the mean value over the entire len of the dataframe\n",
        "y=dfpc['Precio KG']\n",
        "x=dfpc.index\n",
        "y_avg = [np.mean(y)] * len(x)\n",
        "# now we need a new line but with the mean value of the year 2022 but that crosses the entire year\n",
        "y_22 = dfpc.loc[\"2022\":\"2023\",\"Precio KG\"]\n",
        "y_avg22=[np.mean(y_22)]* len(x)"
      ],
      "metadata": {
        "id": "XJ50lrnnUzye"
      },
      "execution_count": 30,
      "outputs": []
    },
    {
      "cell_type": "code",
      "source": [
        "# this proof that this linnne of code will change be a range of values that are all the same average and has a lenght of a specified array\n",
        "[np.mean(y_avg22)]* len(x)"
      ],
      "metadata": {
        "id": "43RrSEXw3SrG",
        "colab": {
          "base_uri": "https://localhost:8080/"
        },
        "outputId": "d542e821-63dd-41d5-e243-5bd56506c34c"
      },
      "execution_count": 31,
      "outputs": [
        {
          "output_type": "execute_result",
          "data": {
            "text/plain": [
              "[3861.25,\n",
              " 3861.25,\n",
              " 3861.25,\n",
              " 3861.25,\n",
              " 3861.25,\n",
              " 3861.25,\n",
              " 3861.25,\n",
              " 3861.25,\n",
              " 3861.25,\n",
              " 3861.25,\n",
              " 3861.25,\n",
              " 3861.25,\n",
              " 3861.25,\n",
              " 3861.25,\n",
              " 3861.25,\n",
              " 3861.25,\n",
              " 3861.25,\n",
              " 3861.25,\n",
              " 3861.25,\n",
              " 3861.25,\n",
              " 3861.25,\n",
              " 3861.25,\n",
              " 3861.25,\n",
              " 3861.25,\n",
              " 3861.25,\n",
              " 3861.25,\n",
              " 3861.25,\n",
              " 3861.25,\n",
              " 3861.25,\n",
              " 3861.25,\n",
              " 3861.25,\n",
              " 3861.25,\n",
              " 3861.25,\n",
              " 3861.25,\n",
              " 3861.25,\n",
              " 3861.25,\n",
              " 3861.25,\n",
              " 3861.25,\n",
              " 3861.25,\n",
              " 3861.25,\n",
              " 3861.25,\n",
              " 3861.25,\n",
              " 3861.25,\n",
              " 3861.25,\n",
              " 3861.25,\n",
              " 3861.25,\n",
              " 3861.25,\n",
              " 3861.25]"
            ]
          },
          "metadata": {},
          "execution_count": 31
        }
      ]
    },
    {
      "cell_type": "code",
      "source": [
        "y_avg22 = dfpc.loc[\"2022\":\"2023\",\"Precio KG\"]"
      ],
      "metadata": {
        "id": "iKqH96Yr3Srm"
      },
      "execution_count": 32,
      "outputs": []
    },
    {
      "cell_type": "code",
      "source": [
        "# here i noted that is is first necessary to call the size of the figure general atrubites like the x annd y labels\n",
        "# and then set every plot that we wanted\n",
        "x = dfpc.index\n",
        "y = dfpc['Precio KG']\n",
        "y_avg = [np.mean(y)] * len(x)\n",
        "y_22 = dfpc.loc[\"2022\":\"2023\",\"Precio KG\"]\n",
        "y_avg22=[np.mean(y_22)]* len(x)\n",
        "plt.figure(figsize=(8,4))\n",
        "plt.title(t)\n",
        "plt.xlabel('Fecha')\n",
        "plt.ylabel('Precio KG')\n",
        "plt.plot(x, y)\n",
        "plt.plot(x, y_avg, color='red', ls='--')\n",
        "plt.plot(x,y_avg22, color=\"green\",ls=\"--\")\n",
        "plt.show()"
      ],
      "metadata": {
        "id": "MKBoOi3OafEQ",
        "colab": {
          "base_uri": "https://localhost:8080/",
          "height": 408
        },
        "outputId": "62364ebd-b5dc-4994-bac4-ef7bb90184fe"
      },
      "execution_count": 33,
      "outputs": [
        {
          "output_type": "display_data",
          "data": {
            "text/plain": [
              "<Figure size 800x400 with 1 Axes>"
            ],
            "image/png": "[encoded data removed]"
          },
          "metadata": {}
        }
      ]
    },
    {
      "cell_type": "code",
      "source": [
        "# here i noted that is is first necessary to call the size of the figure general atrubites like the x annd y labels\n",
        "# and then set every plot that we wanted\n",
        "x = dfpc.index\n",
        "y = dfpc['Precio KG']\n",
        "y_avg = [np.mean(y)] * len(x)\n",
        "y_22 = dfpc.loc[\"2022\":\"2023\",\"Precio KG\"]\n",
        "y_avg22=[np.mean(y_22)]* len(x)\n",
        "plt.figure(figsize=(16,6))\n",
        "plt.title(t)\n",
        "plt.xlabel('Fecha')\n",
        "plt.ylabel('Precio KG')\n",
        "sns.lineplot(data =dfpc,x='Fecha',y='Precio KG',label ='PRICE')\n",
        "plt.plot(x, y_avg, color='red', ls='--',label ='avg 2019-2022')\n",
        "plt.plot(x,y_avg22, color=\"green\",ls=\"--\",label='avg 2022')\n",
        "plt.legend(loc=\"upper left\")\n",
        "plt.show()\n",
        "\n",
        "# now you can see that thiss line of seaborn .plotline is a better fit for our data\n",
        "# as the blue line representes the mean of all the valuess and\n",
        "# the gradient blue will represent data that represent each mean of the day calculated"
      ],
      "metadata": {
        "id": "FzE7lWceEbS5",
        "colab": {
          "base_uri": "https://localhost:8080/",
          "height": 562
        },
        "outputId": "8116c600-f0b1-4c6e-91c9-221f12cb6d75"
      },
      "execution_count": 34,
      "outputs": [
        {
          "output_type": "display_data",
          "data": {
            "text/plain": [
              "<Figure size 1600x600 with 1 Axes>"
            ],
            "image/png": "[encoded data removed]"
          },
          "metadata": {}
        }
      ]
    },
    {
      "cell_type": "code",
      "source": [
        "# here we can see that for a single day of the month we get various values thanks to the different WHOLESALE markets\n",
        "# that is why we get a timelinen gragh that does'nt look normal\n",
        "# maybe we should use other type of grapgh to better represent the differrent prices that you can see in a normal day\n",
        "dfpc.head()\n",
        "'how to make a candle timeline in matplotlib'"
      ],
      "metadata": {
        "id": "OzOIEdhi9uVG",
        "colab": {
          "base_uri": "https://localhost:8080/"
        },
        "outputId": "52c6ac40-4a47-470f-fbbc-912df008a56d"
      },
      "execution_count": 35,
      "outputs": [
        {
          "output_type": "execute_result",
          "data": {
            "text/plain": [
              "'how to make a candle timeline in matplotlib'"
            ]
          },
          "metadata": {},
          "execution_count": 35
        }
      ]
    },
    {
      "cell_type": "code",
      "source": [
        "sns.lineplot(data=dfpc, x=\"Fecha\", y=\"Precio KG\")"
      ],
      "metadata": {
        "id": "7p1bahy9D73V",
        "colab": {
          "base_uri": "https://localhost:8080/",
          "height": 472
        },
        "outputId": "4dd630e5-41fe-420e-dc6f-d52e2f639486"
      },
      "execution_count": 36,
      "outputs": [
        {
          "output_type": "execute_result",
          "data": {
            "text/plain": [
              "<Axes: xlabel='Fecha', ylabel='Precio KG'>"
            ]
          },
          "metadata": {},
          "execution_count": 36
        },
        {
          "output_type": "display_data",
          "data": {
            "text/plain": [
              "<Figure size 640x480 with 1 Axes>"
            ],
            "image/png": "[encoded data removed]"
          },
          "metadata": {}
        }
      ]
    },
    {
      "cell_type": "code",
      "source": [
        "# here you will find the prices with less and more variationa across the cities\n",
        "print(dfpc.describe().round())\n",
        "print(t)\n",
        "print(dfp.describe().round())"
      ],
      "metadata": {
        "id": "nZ0u2Cvwchac",
        "colab": {
          "base_uri": "https://localhost:8080/"
        },
        "outputId": "da7c2971-a672-4975-ffe4-fd9cb77d16c9"
      },
      "execution_count": 37,
      "outputs": [
        {
          "output_type": "stream",
          "name": "stdout",
          "text": [
            "       Precio KG\n",
            "count       48.0\n",
            "mean      3788.0\n",
            "std        211.0\n",
            "min       3012.0\n",
            "25%       3729.0\n",
            "50%       3823.0\n",
            "75%       3876.0\n",
            "max       4334.0\n",
            "Precio KG de Coco en Bogota, D.C.\n",
            "       Precio KG\n",
            "count      707.0\n",
            "mean      3246.0\n",
            "std       1091.0\n",
            "min       1375.0\n",
            "25%       2422.0\n",
            "50%       3113.0\n",
            "75%       3850.0\n",
            "max       8165.0\n"
          ]
        }
      ]
    },
    {
      "cell_type": "code",
      "source": [
        "# here we are seeing the product and its standart deviaation by citie\n",
        "# so we can see where are the products with less variation in its prices\n",
        "# it is correct the clarify that less variation in the prices\n",
        "# doesn't necessarly meaan lower prices\n",
        "std=dfp.groupby('Ciudad')['Precio KG'].std().round()\n",
        "mis = std.nlargest(5)\n",
        "mas = std.nsmallest(5)\n",
        "print(mis)\n",
        "print(mas)"
      ],
      "metadata": {
        "id": "z1M-O_HymbaH",
        "colab": {
          "base_uri": "https://localhost:8080/"
        },
        "outputId": "9fc43bba-7067-472e-b2bf-495da04b67fa"
      },
      "execution_count": 38,
      "outputs": [
        {
          "output_type": "stream",
          "name": "stdout",
          "text": [
            "Ciudad\n",
            "Medellin             793.0\n",
            "Monteria             774.0\n",
            "Cartagena            681.0\n",
            "Sincelejo            506.0\n",
            "La Unión (Nariño)    496.0\n",
            "Name: Precio KG, dtype: float64\n",
            "Ciudad\n",
            "Cúcuta                       158.0\n",
            "Bogota, D.C.                 211.0\n",
            "Palmira (Valle del Cauca)    261.0\n",
            "Manizales                    313.0\n",
            "Cartago (Valle del Cauca)    315.0\n",
            "Name: Precio KG, dtype: float64\n"
          ]
        }
      ]
    },
    {
      "cell_type": "code",
      "source": [
        "# here you can see that we use the same function to call the max a min values of the dataframe\n",
        "# maaybe we can use a function to save lines of code\n",
        "M= dfp.groupby('Ciudad')['Precio KG'].mean()\n",
        "mi = M.nlargest(5)\n",
        "ma = M.nsmallest(5)\n",
        "print(mi)\n",
        "print(ma)"
      ],
      "metadata": {
        "id": "I6OYw9__uOaN",
        "colab": {
          "base_uri": "https://localhost:8080/"
        },
        "outputId": "5d7a3de2-f1d7-427a-e674-1013cb4de4f6"
      },
      "execution_count": 39,
      "outputs": [
        {
          "output_type": "stream",
          "name": "stdout",
          "text": [
            "Ciudad\n",
            "Medellin       5884.333333\n",
            "Bucaramanga    4333.000000\n",
            "Monteria       4121.851064\n",
            "Cartagena      4036.541667\n",
            "Valledupar     3878.846154\n",
            "Name: Precio KG, dtype: float64\n",
            "Ciudad\n",
            "Cúcuta                       1832.166667\n",
            "Palmira (Valle del Cauca)    2207.804348\n",
            "Cali                         2240.510417\n",
            "La Unión (Nariño)            2252.333333\n",
            "Cartago (Valle del Cauca)    2572.765957\n",
            "Name: Precio KG, dtype: float64\n"
          ]
        }
      ]
    },
    {
      "cell_type": "code",
      "source": [
        "dfpc.loc['2019':'2019-12']"
      ],
      "metadata": {
        "id": "loFZIU2mWFTh",
        "colab": {
          "base_uri": "https://localhost:8080/",
          "height": 457
        },
        "outputId": "11ae2164-6b66-44c8-b776-5660d10be25d"
      },
      "execution_count": 40,
      "outputs": [
        {
          "output_type": "execute_result",
          "data": {
            "text/plain": [
              "             Grupo Producto  Precio KG        Ciudad        Plaza\n",
              "Fecha                                                            \n",
              "2019-01-01  frutas     Coco     3012.0  Bogota, D.C.   Corabastos\n",
              "2019-02-01  frutas     Coco     3303.0  Bogota, D.C.   Corabastos\n",
              "2019-03-01  frutas     Coco     3314.0  Bogota, D.C.   Corabastos\n",
              "2019-04-01  frutas     Coco     3327.0  Bogota, D.C.   Corabastos\n",
              "2019-05-01  frutas     Coco     3621.0  Bogota, D.C.   Corabastos\n",
              "2019-06-01  frutas     Coco     3748.0  Bogota, D.C.   Corabastos\n",
              "2019-07-01  frutas     Coco     3743.0  Bogota, D.C.   Corabastos\n",
              "2019-08-01  frutas     Coco     3743.0  Bogota, D.C.   Corabastos\n",
              "2019-09-01  frutas     Coco     3732.0  Bogota, D.C.   Corabastos\n",
              "2019-10-01  frutas     Coco     3727.0  Bogota, D.C.   Corabastos\n",
              "2019-11-01  frutas     Coco     3730.0  Bogota, D.C.   Corabastos\n",
              "2019-12-01  frutas     Coco     3737.0  Bogota, D.C.   Corabastos"
            ],
            "text/html": [
              "<div>\n",
              "<style scoped>\n",
              "    .dataframe tbody tr th:only-of-type {\n",
              "        vertical-align: middle;\n",
              "    }\n",
              "\n",
              "    .dataframe tbody tr th {\n",
              "        vertical-align: top;\n",
              "    }\n",
              "\n",
              "    .dataframe thead th {\n",
              "        text-align: right;\n",
              "    }\n",
              "</style>\n",
              "<table border=\"1\" class=\"dataframe\">\n",
              "  <thead>\n",
              "    <tr style=\"text-align: right;\">\n",
              "      <th></th>\n",
              "      <th>Grupo</th>\n",
              "      <th>Producto</th>\n",
              "      <th>Precio KG</th>\n",
              "      <th>Ciudad</th>\n",
              "      <th>Plaza</th>\n",
              "    </tr>\n",
              "    <tr>\n",
              "      <th>Fecha</th>\n",
              "      <th></th>\n",
              "      <th></th>\n",
              "      <th></th>\n",
              "      <th></th>\n",
              "      <th></th>\n",
              "    </tr>\n",
              "  </thead>\n",
              "  <tbody>\n",
              "    <tr>\n",
              "      <th>2019-01-01</th>\n",
              "      <td>frutas</td>\n",
              "      <td>Coco</td>\n",
              "      <td>3012.0</td>\n",
              "      <td>Bogota, D.C.</td>\n",
              "      <td>Corabastos</td>\n",
              "    </tr>\n",
              "    <tr>\n",
              "      <th>2019-02-01</th>\n",
              "      <td>frutas</td>\n",
              "      <td>Coco</td>\n",
              "      <td>3303.0</td>\n",
              "      <td>Bogota, D.C.</td>\n",
              "      <td>Corabastos</td>\n",
              "    </tr>\n",
              "    <tr>\n",
              "      <th>2019-03-01</th>\n",
              "      <td>frutas</td>\n",
              "      <td>Coco</td>\n",
              "      <td>3314.0</td>\n",
              "      <td>Bogota, D.C.</td>\n",
              "      <td>Corabastos</td>\n",
              "    </tr>\n",
              "    <tr>\n",
              "      <th>2019-04-01</th>\n",
              "      <td>frutas</td>\n",
              "      <td>Coco</td>\n",
              "      <td>3327.0</td>\n",
              "      <td>Bogota, D.C.</td>\n",
              "      <td>Corabastos</td>\n",
              "    </tr>\n",
              "    <tr>\n",
              "      <th>2019-05-01</th>\n",
              "      <td>frutas</td>\n",
              "      <td>Coco</td>\n",
              "      <td>3621.0</td>\n",
              "      <td>Bogota, D.C.</td>\n",
              "      <td>Corabastos</td>\n",
              "    </tr>\n",
              "    <tr>\n",
              "      <th>2019-06-01</th>\n",
              "      <td>frutas</td>\n",
              "      <td>Coco</td>\n",
              "      <td>3748.0</td>\n",
              "      <td>Bogota, D.C.</td>\n",
              "      <td>Corabastos</td>\n",
              "    </tr>\n",
              "    <tr>\n",
              "      <th>2019-07-01</th>\n",
              "      <td>frutas</td>\n",
              "      <td>Coco</td>\n",
              "      <td>3743.0</td>\n",
              "      <td>Bogota, D.C.</td>\n",
              "      <td>Corabastos</td>\n",
              "    </tr>\n",
              "    <tr>\n",
              "      <th>2019-08-01</th>\n",
              "      <td>frutas</td>\n",
              "      <td>Coco</td>\n",
              "      <td>3743.0</td>\n",
              "      <td>Bogota, D.C.</td>\n",
              "      <td>Corabastos</td>\n",
              "    </tr>\n",
              "    <tr>\n",
              "      <th>2019-09-01</th>\n",
              "      <td>frutas</td>\n",
              "      <td>Coco</td>\n",
              "      <td>3732.0</td>\n",
              "      <td>Bogota, D.C.</td>\n",
              "      <td>Corabastos</td>\n",
              "    </tr>\n",
              "    <tr>\n",
              "      <th>2019-10-01</th>\n",
              "      <td>frutas</td>\n",
              "      <td>Coco</td>\n",
              "      <td>3727.0</td>\n",
              "      <td>Bogota, D.C.</td>\n",
              "      <td>Corabastos</td>\n",
              "    </tr>\n",
              "    <tr>\n",
              "      <th>2019-11-01</th>\n",
              "      <td>frutas</td>\n",
              "      <td>Coco</td>\n",
              "      <td>3730.0</td>\n",
              "      <td>Bogota, D.C.</td>\n",
              "      <td>Corabastos</td>\n",
              "    </tr>\n",
              "    <tr>\n",
              "      <th>2019-12-01</th>\n",
              "      <td>frutas</td>\n",
              "      <td>Coco</td>\n",
              "      <td>3737.0</td>\n",
              "      <td>Bogota, D.C.</td>\n",
              "      <td>Corabastos</td>\n",
              "    </tr>\n",
              "  </tbody>\n",
              "</table>\n",
              "</div>"
            ]
          },
          "metadata": {},
          "execution_count": 40
        }
      ]
    },
    {
      "cell_type": "code",
      "source": [
        "# i reset the index from date to the a normal index to then plot it is it results in a lot of problem using a\n",
        "# timestamp and trying to plot a scatterplot there is a incompatibility problem between matplotlib and seaborn and pandas timestamp\n"
      ],
      "metadata": {
        "id": "BQMoYrKVY3Oy"
      },
      "execution_count": 41,
      "outputs": []
    },
    {
      "cell_type": "code",
      "source": [
        "# dflin as dataframe linear analysis\n",
        "dflin = dfpc.reset_index()"
      ],
      "metadata": {
        "id": "FQhwhlUPV_uT"
      },
      "execution_count": 42,
      "outputs": []
    },
    {
      "cell_type": "code",
      "source": [
        "# HERE YOU CAN FIND THE mean of every year for posterrior analysis and graphics\n",
        "# then i convert the series into a pandas dataframe to plot it more easily\n",
        "n = dflin.groupby(dflin.Fecha.dt.year)['Precio KG'].mean()\n",
        "# here we use a grioupby function to get the mean of every year selecting the grouping as .year and then plotting the price and the mean of it\n",
        "# with this to_frame we convert this series into a pandas dataframe\n",
        "Year_mean = n.to_frame(name=\"Precio Promedio\")\n",
        "# here i change the column name to better practices\n",
        "Year_mean.columns =['Precio KG']"
      ],
      "metadata": {
        "id": "Ix8BKNybqkgg"
      },
      "execution_count": 43,
      "outputs": []
    },
    {
      "cell_type": "code",
      "source": [
        "# here i should create a new column in the data frame with the length of the line that i want to plot"
      ],
      "metadata": {
        "id": "loT1GdxXjJ0E"
      },
      "execution_count": 44,
      "outputs": []
    },
    {
      "cell_type": "code",
      "source": [
        "n = dfpc.groupby(dfpc.index.year)['Precio KG'].mean()\n",
        "\n",
        "Year_mean = n.to_frame(name=\"Precio Promedio\")\n"
      ],
      "metadata": {
        "id": "vTQLeZc1t4Fj"
      },
      "execution_count": 45,
      "outputs": []
    },
    {
      "cell_type": "code",
      "source": [
        "dfpc['Promedio'] = dfpc.index.year"
      ],
      "metadata": {
        "id": "5IomspP8twrb",
        "colab": {
          "base_uri": "https://localhost:8080/"
        },
        "outputId": "e008d450-8aa7-4b9f-bfa7-e918fc2ea9fc"
      },
      "execution_count": 46,
      "outputs": [
        {
          "output_type": "stream",
          "name": "stderr",
          "text": [
            "C:\\Users\\user\\AppData\\Local\\Temp\\ipykernel_1492\\3811353291.py:1: SettingWithCopyWarning: \n",
            "A value is trying to be set on a copy of a slice from a DataFrame.\n",
            "Try using .loc[row_indexer,col_indexer] = value instead\n",
            "\n",
            "See the caveats in the documentation: https://pandas.pydata.org/pandas-docs/stable/user_guide/indexing.html#returning-a-view-versus-a-copy\n",
            "  dfpc['Promedio'] = dfpc.index.year\n"
          ]
        }
      ]
    },
    {
      "cell_type": "code",
      "source": [
        "Year_mean.head()"
      ],
      "metadata": {
        "id": "fVMwouoF2fX-",
        "outputId": "983e90d3-6fd6-4d79-d312-a585a0f7ffcc",
        "colab": {
          "base_uri": "https://localhost:8080/",
          "height": 206
        }
      },
      "execution_count": 47,
      "outputs": [
        {
          "output_type": "execute_result",
          "data": {
            "text/plain": [
              "       Precio Promedio\n",
              "Fecha                 \n",
              "2019       3561.416667\n",
              "2020       3866.916667\n",
              "2021       3860.750000\n",
              "2022       3861.250000"
            ],
            "text/html": [
              "<div>\n",
              "<style scoped>\n",
              "    .dataframe tbody tr th:only-of-type {\n",
              "        vertical-align: middle;\n",
              "    }\n",
              "\n",
              "    .dataframe tbody tr th {\n",
              "        vertical-align: top;\n",
              "    }\n",
              "\n",
              "    .dataframe thead th {\n",
              "        text-align: right;\n",
              "    }\n",
              "</style>\n",
              "<table border=\"1\" class=\"dataframe\">\n",
              "  <thead>\n",
              "    <tr style=\"text-align: right;\">\n",
              "      <th></th>\n",
              "      <th>Precio Promedio</th>\n",
              "    </tr>\n",
              "    <tr>\n",
              "      <th>Fecha</th>\n",
              "      <th></th>\n",
              "    </tr>\n",
              "  </thead>\n",
              "  <tbody>\n",
              "    <tr>\n",
              "      <th>2019</th>\n",
              "      <td>3561.416667</td>\n",
              "    </tr>\n",
              "    <tr>\n",
              "      <th>2020</th>\n",
              "      <td>3866.916667</td>\n",
              "    </tr>\n",
              "    <tr>\n",
              "      <th>2021</th>\n",
              "      <td>3860.750000</td>\n",
              "    </tr>\n",
              "    <tr>\n",
              "      <th>2022</th>\n",
              "      <td>3861.250000</td>\n",
              "    </tr>\n",
              "  </tbody>\n",
              "</table>\n",
              "</div>"
            ]
          },
          "metadata": {},
          "execution_count": 47
        }
      ]
    },
    {
      "cell_type": "code",
      "source": [
        "# here we confirm that all done its right\n",
        "n.index"
      ],
      "metadata": {
        "colab": {
          "base_uri": "https://localhost:8080/"
        },
        "id": "_MeHgna4t_Ax",
        "outputId": "e38097cf-4500-446a-ce2e-d56697c2abea"
      },
      "execution_count": 48,
      "outputs": [
        {
          "output_type": "execute_result",
          "data": {
            "text/plain": [
              "Int64Index([2019, 2020, 2021, 2022], dtype='int64', name='Fecha')"
            ]
          },
          "metadata": {},
          "execution_count": 48
        }
      ]
    },
    {
      "cell_type": "code",
      "source": [
        "# here we plotted the variation of the mean price by year\n",
        "Year_mean_x = Year_mean.index\n",
        "Year_mean_y = Year_mean['Precio Promedio']\n",
        "plt.plot(Year_mean_x,Year_mean_y,label='avg 2022',marker=\"o\")"
      ],
      "metadata": {
        "colab": {
          "base_uri": "https://localhost:8080/",
          "height": 447
        },
        "id": "0PQTyjHtcviG",
        "outputId": "299c1cd1-03fc-4484-824a-74a258fd4c12"
      },
      "execution_count": 49,
      "outputs": [
        {
          "output_type": "execute_result",
          "data": {
            "text/plain": [
              "[<matplotlib.lines.Line2D at 0x22e3a3d8490>]"
            ]
          },
          "metadata": {},
          "execution_count": 49
        },
        {
          "output_type": "display_data",
          "data": {
            "text/plain": [
              "<Figure size 640x480 with 1 Axes>"
            ],
            "image/png": "[encoded data removed]"
          },
          "metadata": {}
        }
      ]
    },
    {
      "cell_type": "code",
      "source": [
        "sns.pointplot(data=Year_mean, x=Year_mean_x, y=Year_mean_y)"
      ],
      "metadata": {
        "colab": {
          "base_uri": "https://localhost:8080/",
          "height": 466
        },
        "id": "OvHoYmoXxAtm",
        "outputId": "75d412c2-46ca-4626-f3ec-3079ce9a493c"
      },
      "execution_count": 50,
      "outputs": [
        {
          "output_type": "execute_result",
          "data": {
            "text/plain": [
              "<Axes: xlabel='Fecha', ylabel='Precio Promedio'>"
            ]
          },
          "metadata": {},
          "execution_count": 50
        },
        {
          "output_type": "display_data",
          "data": {
            "text/plain": [
              "<Figure size 640x480 with 1 Axes>"
            ],
            "image/png": "[encoded data removed]"
          },
          "metadata": {}
        }
      ]
    },
    {
      "cell_type": "code",
      "source": [
        "x = dfpc.index\n",
        "y = dfpc['Precio KG']\n",
        "y_avg = [np.mean(y)] * len(x)\n",
        "y_22 = dfpc.loc[\"2022\":\"2023\",\"Precio KG\"]\n",
        "y_avg22=[np.mean(y_22)]* len(x)\n",
        "Year_mean_x = Year_mean.index\n",
        "Year_mean_y = Year_mean['Precio Promedio']\n",
        "plt.figure(figsize=(16,8))\n",
        "plt.title(t)\n",
        "plt.xlabel('Fecha')\n",
        "plt.ylabel('Precio KG')\n",
        "sns.lineplot(data =dfpc,x='Fecha',y='Precio KG',label ='Datos')\n",
        "plt.plot(x, y_avg, color='red', ls='--',label ='avg 2019-2022')\n",
        "plt.plot(x,y_avg22, color=\"green\",ls=\"--\",label='avg 2022')\n",
        "plt.legend(loc=\"upper left\")\n",
        "plt.show()\n",
        "\n"
      ],
      "metadata": {
        "colab": {
          "base_uri": "https://localhost:8080/",
          "height": 716
        },
        "id": "0nQWI78zSl_f",
        "outputId": "b56c7a50-0c94-4ff1-a714-42b33186de03"
      },
      "execution_count": 51,
      "outputs": [
        {
          "output_type": "display_data",
          "data": {
            "text/plain": [
              "<Figure size 1600x800 with 1 Axes>"
            ],
            "image/png": "[encoded data removed]"
          },
          "metadata": {}
        }
      ]
    },
    {
      "cell_type": "markdown",
      "source": [
        "#Linear regression analysis for product and city\n"
      ],
      "metadata": {
        "id": "1xQ8RAC7VZD3"
      }
    },
    {
      "cell_type": "code",
      "source": [
        "# here now i need to use a dict to plot the year insstead of the number of every index\n",
        "dflin = dfpc.reset_index() # we reset the index to avoid the problem plotting a dataframe time\n",
        "sns.regplot(x=dflin.index, y=dflin['Precio KG'])\n"
      ],
      "metadata": {
        "colab": {
          "base_uri": "https://localhost:8080/",
          "height": 452
        },
        "id": "hC-aulHEeOmO",
        "outputId": "63a83414-51d8-443c-8421-53f281938c0d"
      },
      "execution_count": null,
      "outputs": [
        {
          "output_type": "execute_result",
          "data": {
            "text/plain": [
              "<Axes: ylabel='Precio KG'>"
            ]
          },
          "metadata": {},
          "execution_count": 53
        },
        {
          "output_type": "display_data",
          "data": {
            "text/plain": [
              "<Figure size 640x480 with 1 Axes>"
            ],
            "image/png": "[encoded data removed]"
          },
          "metadata": {}
        }
      ]
    },
    {
      "cell_type": "code",
      "source": [
        "dflin['Promedio'].value_counts()"
      ],
      "metadata": {
        "colab": {
          "base_uri": "https://localhost:8080/"
        },
        "id": "Kb67Jlgz2ZT_",
        "outputId": "64481962-d75a-4383-9a2b-d367481513b8"
      },
      "execution_count": null,
      "outputs": [
        {
          "output_type": "execute_result",
          "data": {
            "text/plain": [
              "2019    12\n",
              "2020    12\n",
              "2021    12\n",
              "2022    12\n",
              "Name: Promedio, dtype: int64"
            ]
          },
          "metadata": {},
          "execution_count": 54
        }
      ]
    },
    {
      "cell_type": "code",
      "source": [
        "\n",
        "# if you have more cities or wholase centers you will not have the data of a year but only\n",
        "# the last 12 values of the data frame\n",
        "max_year = dflin['Promedio'].max()\n",
        "max_year_bolean = dflin['Promedio'] == max_year\n",
        "max_year_df = dflin[max_year_bolean] # this will give you the dataframe where you'll find the max year\n",
        "# with this we can plot a linear regresion line for the last year\n",
        "max_year_df"
      ],
      "metadata": {
        "colab": {
          "base_uri": "https://localhost:8080/",
          "height": 425
        },
        "id": "sxlZiHRnM4P1",
        "outputId": "80f2cded-9204-4646-d642-a6e4b20f1e77"
      },
      "execution_count": null,
      "outputs": [
        {
          "output_type": "execute_result",
          "data": {
            "text/plain": [
              "        Fecha   Grupo Producto  Precio KG        Ciudad        Plaza  Promedio\n",
              "36 2022-01-01  frutas     Coco     3890.0  Bogota, D.C.   Corabastos      2022\n",
              "37 2022-02-01  frutas     Coco     3882.0  Bogota, D.C.   Corabastos      2022\n",
              "38 2022-03-01  frutas     Coco     3880.0  Bogota, D.C.   Corabastos      2022\n",
              "39 2022-04-01  frutas     Coco     3851.0  Bogota, D.C.   Corabastos      2022\n",
              "40 2022-05-01  frutas     Coco     3875.0  Bogota, D.C.   Corabastos      2022\n",
              "41 2022-06-01  frutas     Coco     3856.0  Bogota, D.C.   Corabastos      2022\n",
              "42 2022-07-01  frutas     Coco     3858.0  Bogota, D.C.   Corabastos      2022\n",
              "43 2022-08-01  frutas     Coco     3820.0  Bogota, D.C.   Corabastos      2022\n",
              "44 2022-09-01  frutas     Coco     3829.0  Bogota, D.C.   Corabastos      2022\n",
              "45 2022-10-01  frutas     Coco     3850.0  Bogota, D.C.   Corabastos      2022\n",
              "46 2022-11-01  frutas     Coco     3893.0  Bogota, D.C.   Corabastos      2022\n",
              "47 2022-12-01  frutas     Coco     3851.0  Bogota, D.C.   Corabastos      2022"
            ],
            "text/html": [
              "<div>\n",
              "<style scoped>\n",
              "    .dataframe tbody tr th:only-of-type {\n",
              "        vertical-align: middle;\n",
              "    }\n",
              "\n",
              "    .dataframe tbody tr th {\n",
              "        vertical-align: top;\n",
              "    }\n",
              "\n",
              "    .dataframe thead th {\n",
              "        text-align: right;\n",
              "    }\n",
              "</style>\n",
              "<table border=\"1\" class=\"dataframe\">\n",
              "  <thead>\n",
              "    <tr style=\"text-align: right;\">\n",
              "      <th></th>\n",
              "      <th>Fecha</th>\n",
              "      <th>Grupo</th>\n",
              "      <th>Producto</th>\n",
              "      <th>Precio KG</th>\n",
              "      <th>Ciudad</th>\n",
              "      <th>Plaza</th>\n",
              "      <th>Promedio</th>\n",
              "    </tr>\n",
              "  </thead>\n",
              "  <tbody>\n",
              "    <tr>\n",
              "      <th>36</th>\n",
              "      <td>2022-01-01</td>\n",
              "      <td>frutas</td>\n",
              "      <td>Coco</td>\n",
              "      <td>3890.0</td>\n",
              "      <td>Bogota, D.C.</td>\n",
              "      <td>Corabastos</td>\n",
              "      <td>2022</td>\n",
              "    </tr>\n",
              "    <tr>\n",
              "      <th>37</th>\n",
              "      <td>2022-02-01</td>\n",
              "      <td>frutas</td>\n",
              "      <td>Coco</td>\n",
              "      <td>3882.0</td>\n",
              "      <td>Bogota, D.C.</td>\n",
              "      <td>Corabastos</td>\n",
              "      <td>2022</td>\n",
              "    </tr>\n",
              "    <tr>\n",
              "      <th>38</th>\n",
              "      <td>2022-03-01</td>\n",
              "      <td>frutas</td>\n",
              "      <td>Coco</td>\n",
              "      <td>3880.0</td>\n",
              "      <td>Bogota, D.C.</td>\n",
              "      <td>Corabastos</td>\n",
              "      <td>2022</td>\n",
              "    </tr>\n",
              "    <tr>\n",
              "      <th>39</th>\n",
              "      <td>2022-04-01</td>\n",
              "      <td>frutas</td>\n",
              "      <td>Coco</td>\n",
              "      <td>3851.0</td>\n",
              "      <td>Bogota, D.C.</td>\n",
              "      <td>Corabastos</td>\n",
              "      <td>2022</td>\n",
              "    </tr>\n",
              "    <tr>\n",
              "      <th>40</th>\n",
              "      <td>2022-05-01</td>\n",
              "      <td>frutas</td>\n",
              "      <td>Coco</td>\n",
              "      <td>3875.0</td>\n",
              "      <td>Bogota, D.C.</td>\n",
              "      <td>Corabastos</td>\n",
              "      <td>2022</td>\n",
              "    </tr>\n",
              "    <tr>\n",
              "      <th>41</th>\n",
              "      <td>2022-06-01</td>\n",
              "      <td>frutas</td>\n",
              "      <td>Coco</td>\n",
              "      <td>3856.0</td>\n",
              "      <td>Bogota, D.C.</td>\n",
              "      <td>Corabastos</td>\n",
              "      <td>2022</td>\n",
              "    </tr>\n",
              "    <tr>\n",
              "      <th>42</th>\n",
              "      <td>2022-07-01</td>\n",
              "      <td>frutas</td>\n",
              "      <td>Coco</td>\n",
              "      <td>3858.0</td>\n",
              "      <td>Bogota, D.C.</td>\n",
              "      <td>Corabastos</td>\n",
              "      <td>2022</td>\n",
              "    </tr>\n",
              "    <tr>\n",
              "      <th>43</th>\n",
              "      <td>2022-08-01</td>\n",
              "      <td>frutas</td>\n",
              "      <td>Coco</td>\n",
              "      <td>3820.0</td>\n",
              "      <td>Bogota, D.C.</td>\n",
              "      <td>Corabastos</td>\n",
              "      <td>2022</td>\n",
              "    </tr>\n",
              "    <tr>\n",
              "      <th>44</th>\n",
              "      <td>2022-09-01</td>\n",
              "      <td>frutas</td>\n",
              "      <td>Coco</td>\n",
              "      <td>3829.0</td>\n",
              "      <td>Bogota, D.C.</td>\n",
              "      <td>Corabastos</td>\n",
              "      <td>2022</td>\n",
              "    </tr>\n",
              "    <tr>\n",
              "      <th>45</th>\n",
              "      <td>2022-10-01</td>\n",
              "      <td>frutas</td>\n",
              "      <td>Coco</td>\n",
              "      <td>3850.0</td>\n",
              "      <td>Bogota, D.C.</td>\n",
              "      <td>Corabastos</td>\n",
              "      <td>2022</td>\n",
              "    </tr>\n",
              "    <tr>\n",
              "      <th>46</th>\n",
              "      <td>2022-11-01</td>\n",
              "      <td>frutas</td>\n",
              "      <td>Coco</td>\n",
              "      <td>3893.0</td>\n",
              "      <td>Bogota, D.C.</td>\n",
              "      <td>Corabastos</td>\n",
              "      <td>2022</td>\n",
              "    </tr>\n",
              "    <tr>\n",
              "      <th>47</th>\n",
              "      <td>2022-12-01</td>\n",
              "      <td>frutas</td>\n",
              "      <td>Coco</td>\n",
              "      <td>3851.0</td>\n",
              "      <td>Bogota, D.C.</td>\n",
              "      <td>Corabastos</td>\n",
              "      <td>2022</td>\n",
              "    </tr>\n",
              "  </tbody>\n",
              "</table>\n",
              "</div>"
            ]
          },
          "metadata": {},
          "execution_count": 55
        }
      ]
    },
    {
      "cell_type": "code",
      "source": [
        "max_year = dflin['Promedio'].max()\n",
        "max_year"
      ],
      "metadata": {
        "colab": {
          "base_uri": "https://localhost:8080/"
        },
        "id": "_cnxXNti5_Qn",
        "outputId": "c0964607-221b-4137-9be4-fafad5328253"
      },
      "execution_count": null,
      "outputs": [
        {
          "output_type": "execute_result",
          "data": {
            "text/plain": [
              "2022"
            ]
          },
          "metadata": {},
          "execution_count": 56
        }
      ]
    },
    {
      "cell_type": "code",
      "source": [
        "x = (dflin['Promedio'].nlargest(1))\n",
        "x"
      ],
      "metadata": {
        "colab": {
          "base_uri": "https://localhost:8080/"
        },
        "id": "URErZ9af3IXx",
        "outputId": "660683eb-ff3b-4b70-aa15-e9b3e4b46082"
      },
      "execution_count": null,
      "outputs": [
        {
          "output_type": "execute_result",
          "data": {
            "text/plain": [
              "36    2022\n",
              "Name: Promedio, dtype: int64"
            ]
          },
          "metadata": {},
          "execution_count": 57
        }
      ]
    },
    {
      "cell_type": "code",
      "source": [
        "prueba = dfpc\n",
        "prueba.head()"
      ],
      "metadata": {
        "colab": {
          "base_uri": "https://localhost:8080/",
          "height": 237
        },
        "id": "P3Y1SYhnSI1V",
        "outputId": "17f1b073-0d57-4e8e-ac15-c5cfb39f785c"
      },
      "execution_count": null,
      "outputs": [
        {
          "output_type": "execute_result",
          "data": {
            "text/plain": [
              "             Grupo Producto  Precio KG        Ciudad        Plaza  Promedio\n",
              "Fecha                                                                      \n",
              "2019-01-01  frutas     Coco     3012.0  Bogota, D.C.   Corabastos      2019\n",
              "2019-02-01  frutas     Coco     3303.0  Bogota, D.C.   Corabastos      2019\n",
              "2019-03-01  frutas     Coco     3314.0  Bogota, D.C.   Corabastos      2019\n",
              "2019-04-01  frutas     Coco     3327.0  Bogota, D.C.   Corabastos      2019\n",
              "2019-05-01  frutas     Coco     3621.0  Bogota, D.C.   Corabastos      2019"
            ],
            "text/html": [
              "<div>\n",
              "<style scoped>\n",
              "    .dataframe tbody tr th:only-of-type {\n",
              "        vertical-align: middle;\n",
              "    }\n",
              "\n",
              "    .dataframe tbody tr th {\n",
              "        vertical-align: top;\n",
              "    }\n",
              "\n",
              "    .dataframe thead th {\n",
              "        text-align: right;\n",
              "    }\n",
              "</style>\n",
              "<table border=\"1\" class=\"dataframe\">\n",
              "  <thead>\n",
              "    <tr style=\"text-align: right;\">\n",
              "      <th></th>\n",
              "      <th>Grupo</th>\n",
              "      <th>Producto</th>\n",
              "      <th>Precio KG</th>\n",
              "      <th>Ciudad</th>\n",
              "      <th>Plaza</th>\n",
              "      <th>Promedio</th>\n",
              "    </tr>\n",
              "    <tr>\n",
              "      <th>Fecha</th>\n",
              "      <th></th>\n",
              "      <th></th>\n",
              "      <th></th>\n",
              "      <th></th>\n",
              "      <th></th>\n",
              "      <th></th>\n",
              "    </tr>\n",
              "  </thead>\n",
              "  <tbody>\n",
              "    <tr>\n",
              "      <th>2019-01-01</th>\n",
              "      <td>frutas</td>\n",
              "      <td>Coco</td>\n",
              "      <td>3012.0</td>\n",
              "      <td>Bogota, D.C.</td>\n",
              "      <td>Corabastos</td>\n",
              "      <td>2019</td>\n",
              "    </tr>\n",
              "    <tr>\n",
              "      <th>2019-02-01</th>\n",
              "      <td>frutas</td>\n",
              "      <td>Coco</td>\n",
              "      <td>3303.0</td>\n",
              "      <td>Bogota, D.C.</td>\n",
              "      <td>Corabastos</td>\n",
              "      <td>2019</td>\n",
              "    </tr>\n",
              "    <tr>\n",
              "      <th>2019-03-01</th>\n",
              "      <td>frutas</td>\n",
              "      <td>Coco</td>\n",
              "      <td>3314.0</td>\n",
              "      <td>Bogota, D.C.</td>\n",
              "      <td>Corabastos</td>\n",
              "      <td>2019</td>\n",
              "    </tr>\n",
              "    <tr>\n",
              "      <th>2019-04-01</th>\n",
              "      <td>frutas</td>\n",
              "      <td>Coco</td>\n",
              "      <td>3327.0</td>\n",
              "      <td>Bogota, D.C.</td>\n",
              "      <td>Corabastos</td>\n",
              "      <td>2019</td>\n",
              "    </tr>\n",
              "    <tr>\n",
              "      <th>2019-05-01</th>\n",
              "      <td>frutas</td>\n",
              "      <td>Coco</td>\n",
              "      <td>3621.0</td>\n",
              "      <td>Bogota, D.C.</td>\n",
              "      <td>Corabastos</td>\n",
              "      <td>2019</td>\n",
              "    </tr>\n",
              "  </tbody>\n",
              "</table>\n",
              "</div>"
            ]
          },
          "metadata": {},
          "execution_count": 58
        }
      ]
    },
    {
      "cell_type": "code",
      "source": [
        "# here we are using the index and convert it to a string\n",
        "prueba.index = (prueba.index.strftime(\"%m/%d/%Y\"))"
      ],
      "metadata": {
        "id": "nc4JFGKzRTpU"
      },
      "execution_count": null,
      "outputs": []
    },
    {
      "cell_type": "code",
      "source": [
        "# there is a problem in the conversion between matplotlib and csipy you could usse\n",
        "# then i change the index to a normal array instead of using the Date Time\n",
        "dfs = prueba.iloc[-12:,:]\n",
        "xs = dfs.index\n",
        "ys = dfs['Precio KG']\n",
        "lin_ress = linregress(xs,ys)"
      ],
      "metadata": {
        "id": "ASvz3N6pjOb9",
        "colab": {
          "base_uri": "https://localhost:8080/",
          "height": 616
        },
        "outputId": "fa3a310e-1c23-4584-c29f-e9a6ae72dc12"
      },
      "execution_count": null,
      "outputs": [
        {
          "output_type": "error",
          "ename": "TypeError",
          "evalue": "ignored",
          "traceback": [
            "\u001b[1;31m---------------------------------------------------------------------------\u001b[0m",
            "\u001b[1;31mTypeError\u001b[0m                                 Traceback (most recent call last)",
            "Cell \u001b[1;32mIn[60], line 6\u001b[0m\n\u001b[0;32m      4\u001b[0m xs \u001b[38;5;241m=\u001b[39m dfs\u001b[38;5;241m.\u001b[39mindex\n\u001b[0;32m      5\u001b[0m ys \u001b[38;5;241m=\u001b[39m dfs[\u001b[38;5;124m'\u001b[39m\u001b[38;5;124mPrecio KG\u001b[39m\u001b[38;5;124m'\u001b[39m]\n\u001b[1;32m----> 6\u001b[0m lin_ress \u001b[38;5;241m=\u001b[39m linregress(xs,ys)\n",
            "File \u001b[1;32m~\\anaconda3\\Lib\\site-packages\\scipy\\stats\\_stats_mstats_common.py:161\u001b[0m, in \u001b[0;36mlinregress\u001b[1;34m(x, y, alternative)\u001b[0m\n\u001b[0;32m    157\u001b[0m     \u001b[38;5;28;01mraise\u001b[39;00m \u001b[38;5;167;01mValueError\u001b[39;00m(\u001b[38;5;124m\"\u001b[39m\u001b[38;5;124mCannot calculate a linear regression \u001b[39m\u001b[38;5;124m\"\u001b[39m\n\u001b[0;32m    158\u001b[0m                      \u001b[38;5;124m\"\u001b[39m\u001b[38;5;124mif all x values are identical\u001b[39m\u001b[38;5;124m\"\u001b[39m)\n\u001b[0;32m    160\u001b[0m n \u001b[38;5;241m=\u001b[39m \u001b[38;5;28mlen\u001b[39m(x)\n\u001b[1;32m--> 161\u001b[0m xmean \u001b[38;5;241m=\u001b[39m np\u001b[38;5;241m.\u001b[39mmean(x, \u001b[38;5;28;01mNone\u001b[39;00m)\n\u001b[0;32m    162\u001b[0m ymean \u001b[38;5;241m=\u001b[39m np\u001b[38;5;241m.\u001b[39mmean(y, \u001b[38;5;28;01mNone\u001b[39;00m)\n\u001b[0;32m    164\u001b[0m \u001b[38;5;66;03m# Average sums of square differences from the mean\u001b[39;00m\n\u001b[0;32m    165\u001b[0m \u001b[38;5;66;03m#   ssxm = mean( (x-mean(x))^2 )\u001b[39;00m\n\u001b[0;32m    166\u001b[0m \u001b[38;5;66;03m#   ssxym = mean( (x-mean(x)) * (y-mean(y)) )\u001b[39;00m\n",
            "File \u001b[1;32m<__array_function__ internals>:200\u001b[0m, in \u001b[0;36mmean\u001b[1;34m(*args, **kwargs)\u001b[0m\n",
            "File \u001b[1;32m~\\anaconda3\\Lib\\site-packages\\numpy\\core\\fromnumeric.py:3464\u001b[0m, in \u001b[0;36mmean\u001b[1;34m(a, axis, dtype, out, keepdims, where)\u001b[0m\n\u001b[0;32m   3461\u001b[0m     \u001b[38;5;28;01melse\u001b[39;00m:\n\u001b[0;32m   3462\u001b[0m         \u001b[38;5;28;01mreturn\u001b[39;00m mean(axis\u001b[38;5;241m=\u001b[39maxis, dtype\u001b[38;5;241m=\u001b[39mdtype, out\u001b[38;5;241m=\u001b[39mout, \u001b[38;5;241m*\u001b[39m\u001b[38;5;241m*\u001b[39mkwargs)\n\u001b[1;32m-> 3464\u001b[0m \u001b[38;5;28;01mreturn\u001b[39;00m _methods\u001b[38;5;241m.\u001b[39m_mean(a, axis\u001b[38;5;241m=\u001b[39maxis, dtype\u001b[38;5;241m=\u001b[39mdtype,\n\u001b[0;32m   3465\u001b[0m                       out\u001b[38;5;241m=\u001b[39mout, \u001b[38;5;241m*\u001b[39m\u001b[38;5;241m*\u001b[39mkwargs)\n",
            "File \u001b[1;32m~\\anaconda3\\Lib\\site-packages\\numpy\\core\\_methods.py:194\u001b[0m, in \u001b[0;36m_mean\u001b[1;34m(a, axis, dtype, out, keepdims, where)\u001b[0m\n\u001b[0;32m    192\u001b[0m         ret \u001b[38;5;241m=\u001b[39m ret\u001b[38;5;241m.\u001b[39mdtype\u001b[38;5;241m.\u001b[39mtype(ret \u001b[38;5;241m/\u001b[39m rcount)\n\u001b[0;32m    193\u001b[0m \u001b[38;5;28;01melse\u001b[39;00m:\n\u001b[1;32m--> 194\u001b[0m     ret \u001b[38;5;241m=\u001b[39m ret \u001b[38;5;241m/\u001b[39m rcount\n\u001b[0;32m    196\u001b[0m \u001b[38;5;28;01mreturn\u001b[39;00m ret\n",
            "\u001b[1;31mTypeError\u001b[0m: ufunc 'divide' not supported for the input types, and the inputs could not be safely coerced to any supported types according to the casting rule ''safe''"
          ]
        }
      ]
    },
    {
      "cell_type": "code",
      "source": [
        "dfs.index"
      ],
      "metadata": {
        "id": "HVM-VmFwaNdm",
        "colab": {
          "base_uri": "https://localhost:8080/"
        },
        "outputId": "ba4a079e-b95c-467e-df21-9f14c2bbb296"
      },
      "execution_count": null,
      "outputs": [
        {
          "output_type": "execute_result",
          "data": {
            "text/plain": [
              "Index(['01/01/2022', '02/01/2022', '03/01/2022', '04/01/2022', '05/01/2022',\n",
              "       '06/01/2022', '07/01/2022', '08/01/2022', '09/01/2022', '10/01/2022',\n",
              "       '11/01/2022', '12/01/2022'],\n",
              "      dtype='object', name='Fecha')"
            ]
          },
          "metadata": {},
          "execution_count": 61
        }
      ]
    },
    {
      "cell_type": "code",
      "source": [
        "sns.regplot(x=xs ,y = ys ,data=dfs)"
      ],
      "metadata": {
        "id": "n-wt-uZ_mClm",
        "colab": {
          "base_uri": "https://localhost:8080/",
          "height": 1000
        },
        "outputId": "3aa8a81e-6258-4c1f-c09f-4ea7f6daafcc"
      },
      "execution_count": null,
      "outputs": [
        {
          "output_type": "error",
          "ename": "UFuncTypeError",
          "evalue": "ignored",
          "traceback": [
            "\u001b[1;31m---------------------------------------------------------------------------\u001b[0m",
            "\u001b[1;31mUFuncTypeError\u001b[0m                            Traceback (most recent call last)",
            "\u001b[1;32m~\\AppData\\Local\\Temp\\ipykernel_3680\\1556488382.py\u001b[0m in \u001b[0;36m<module>\u001b[1;34m\u001b[0m\n\u001b[1;32m----> 1\u001b[1;33m \u001b[0msns\u001b[0m\u001b[1;33m.\u001b[0m\u001b[0mregplot\u001b[0m\u001b[1;33m(\u001b[0m\u001b[0mx\u001b[0m\u001b[1;33m=\u001b[0m\u001b[0mxs\u001b[0m \u001b[1;33m,\u001b[0m\u001b[0my\u001b[0m \u001b[1;33m=\u001b[0m \u001b[0mys\u001b[0m \u001b[1;33m,\u001b[0m\u001b[0mdata\u001b[0m\u001b[1;33m=\u001b[0m\u001b[0mdfs\u001b[0m\u001b[1;33m)\u001b[0m\u001b[1;33m\u001b[0m\u001b[1;33m\u001b[0m\u001b[0m\n\u001b[0m",
            "\u001b[1;32mC:\\ProgramData\\Anaconda3\\lib\\site-packages\\seaborn\\_decorators.py\u001b[0m in \u001b[0;36minner_f\u001b[1;34m(*args, **kwargs)\u001b[0m\n\u001b[0;32m     44\u001b[0m             )\n\u001b[0;32m     45\u001b[0m         \u001b[0mkwargs\u001b[0m\u001b[1;33m.\u001b[0m\u001b[0mupdate\u001b[0m\u001b[1;33m(\u001b[0m\u001b[1;33m{\u001b[0m\u001b[0mk\u001b[0m\u001b[1;33m:\u001b[0m \u001b[0marg\u001b[0m \u001b[1;32mfor\u001b[0m \u001b[0mk\u001b[0m\u001b[1;33m,\u001b[0m \u001b[0marg\u001b[0m \u001b[1;32min\u001b[0m \u001b[0mzip\u001b[0m\u001b[1;33m(\u001b[0m\u001b[0msig\u001b[0m\u001b[1;33m.\u001b[0m\u001b[0mparameters\u001b[0m\u001b[1;33m,\u001b[0m \u001b[0margs\u001b[0m\u001b[1;33m)\u001b[0m\u001b[1;33m}\u001b[0m\u001b[1;33m)\u001b[0m\u001b[1;33m\u001b[0m\u001b[1;33m\u001b[0m\u001b[0m\n\u001b[1;32m---> 46\u001b[1;33m         \u001b[1;32mreturn\u001b[0m \u001b[0mf\u001b[0m\u001b[1;33m(\u001b[0m\u001b[1;33m**\u001b[0m\u001b[0mkwargs\u001b[0m\u001b[1;33m)\u001b[0m\u001b[1;33m\u001b[0m\u001b[1;33m\u001b[0m\u001b[0m\n\u001b[0m\u001b[0;32m     47\u001b[0m     \u001b[1;32mreturn\u001b[0m \u001b[0minner_f\u001b[0m\u001b[1;33m\u001b[0m\u001b[1;33m\u001b[0m\u001b[0m\n\u001b[0;32m     48\u001b[0m \u001b[1;33m\u001b[0m\u001b[0m\n",
            "\u001b[1;32mC:\\ProgramData\\Anaconda3\\lib\\site-packages\\seaborn\\regression.py\u001b[0m in \u001b[0;36mregplot\u001b[1;34m(x, y, data, x_estimator, x_bins, x_ci, scatter, fit_reg, ci, n_boot, units, seed, order, logistic, lowess, robust, logx, x_partial, y_partial, truncate, dropna, x_jitter, y_jitter, label, color, marker, scatter_kws, line_kws, ax)\u001b[0m\n\u001b[0;32m    861\u001b[0m     \u001b[0mscatter_kws\u001b[0m\u001b[1;33m[\u001b[0m\u001b[1;34m\"marker\"\u001b[0m\u001b[1;33m]\u001b[0m \u001b[1;33m=\u001b[0m \u001b[0mmarker\u001b[0m\u001b[1;33m\u001b[0m\u001b[1;33m\u001b[0m\u001b[0m\n\u001b[0;32m    862\u001b[0m     \u001b[0mline_kws\u001b[0m \u001b[1;33m=\u001b[0m \u001b[1;33m{\u001b[0m\u001b[1;33m}\u001b[0m \u001b[1;32mif\u001b[0m \u001b[0mline_kws\u001b[0m \u001b[1;32mis\u001b[0m \u001b[1;32mNone\u001b[0m \u001b[1;32melse\u001b[0m \u001b[0mcopy\u001b[0m\u001b[1;33m.\u001b[0m\u001b[0mcopy\u001b[0m\u001b[1;33m(\u001b[0m\u001b[0mline_kws\u001b[0m\u001b[1;33m)\u001b[0m\u001b[1;33m\u001b[0m\u001b[1;33m\u001b[0m\u001b[0m\n\u001b[1;32m--> 863\u001b[1;33m     \u001b[0mplotter\u001b[0m\u001b[1;33m.\u001b[0m\u001b[0mplot\u001b[0m\u001b[1;33m(\u001b[0m\u001b[0max\u001b[0m\u001b[1;33m,\u001b[0m \u001b[0mscatter_kws\u001b[0m\u001b[1;33m,\u001b[0m \u001b[0mline_kws\u001b[0m\u001b[1;33m)\u001b[0m\u001b[1;33m\u001b[0m\u001b[1;33m\u001b[0m\u001b[0m\n\u001b[0m\u001b[0;32m    864\u001b[0m     \u001b[1;32mreturn\u001b[0m \u001b[0max\u001b[0m\u001b[1;33m\u001b[0m\u001b[1;33m\u001b[0m\u001b[0m\n\u001b[0;32m    865\u001b[0m \u001b[1;33m\u001b[0m\u001b[0m\n",
            "\u001b[1;32mC:\\ProgramData\\Anaconda3\\lib\\site-packages\\seaborn\\regression.py\u001b[0m in \u001b[0;36mplot\u001b[1;34m(self, ax, scatter_kws, line_kws)\u001b[0m\n\u001b[0;32m    368\u001b[0m \u001b[1;33m\u001b[0m\u001b[0m\n\u001b[0;32m    369\u001b[0m         \u001b[1;32mif\u001b[0m \u001b[0mself\u001b[0m\u001b[1;33m.\u001b[0m\u001b[0mfit_reg\u001b[0m\u001b[1;33m:\u001b[0m\u001b[1;33m\u001b[0m\u001b[1;33m\u001b[0m\u001b[0m\n\u001b[1;32m--> 370\u001b[1;33m             \u001b[0mself\u001b[0m\u001b[1;33m.\u001b[0m\u001b[0mlineplot\u001b[0m\u001b[1;33m(\u001b[0m\u001b[0max\u001b[0m\u001b[1;33m,\u001b[0m \u001b[0mline_kws\u001b[0m\u001b[1;33m)\u001b[0m\u001b[1;33m\u001b[0m\u001b[1;33m\u001b[0m\u001b[0m\n\u001b[0m\u001b[0;32m    371\u001b[0m \u001b[1;33m\u001b[0m\u001b[0m\n\u001b[0;32m    372\u001b[0m         \u001b[1;31m# Label the axes\u001b[0m\u001b[1;33m\u001b[0m\u001b[1;33m\u001b[0m\u001b[0m\n",
            "\u001b[1;32mC:\\ProgramData\\Anaconda3\\lib\\site-packages\\seaborn\\regression.py\u001b[0m in \u001b[0;36mlineplot\u001b[1;34m(self, ax, kws)\u001b[0m\n\u001b[0;32m    411\u001b[0m         \u001b[1;34m\"\"\"Draw the model.\"\"\"\u001b[0m\u001b[1;33m\u001b[0m\u001b[1;33m\u001b[0m\u001b[0m\n\u001b[0;32m    412\u001b[0m         \u001b[1;31m# Fit the regression model\u001b[0m\u001b[1;33m\u001b[0m\u001b[1;33m\u001b[0m\u001b[0m\n\u001b[1;32m--> 413\u001b[1;33m         \u001b[0mgrid\u001b[0m\u001b[1;33m,\u001b[0m \u001b[0myhat\u001b[0m\u001b[1;33m,\u001b[0m \u001b[0merr_bands\u001b[0m \u001b[1;33m=\u001b[0m \u001b[0mself\u001b[0m\u001b[1;33m.\u001b[0m\u001b[0mfit_regression\u001b[0m\u001b[1;33m(\u001b[0m\u001b[0max\u001b[0m\u001b[1;33m)\u001b[0m\u001b[1;33m\u001b[0m\u001b[1;33m\u001b[0m\u001b[0m\n\u001b[0m\u001b[0;32m    414\u001b[0m         \u001b[0medges\u001b[0m \u001b[1;33m=\u001b[0m \u001b[0mgrid\u001b[0m\u001b[1;33m[\u001b[0m\u001b[1;36m0\u001b[0m\u001b[1;33m]\u001b[0m\u001b[1;33m,\u001b[0m \u001b[0mgrid\u001b[0m\u001b[1;33m[\u001b[0m\u001b[1;33m-\u001b[0m\u001b[1;36m1\u001b[0m\u001b[1;33m]\u001b[0m\u001b[1;33m\u001b[0m\u001b[1;33m\u001b[0m\u001b[0m\n\u001b[0;32m    415\u001b[0m \u001b[1;33m\u001b[0m\u001b[0m\n",
            "\u001b[1;32mC:\\ProgramData\\Anaconda3\\lib\\site-packages\\seaborn\\regression.py\u001b[0m in \u001b[0;36mfit_regression\u001b[1;34m(self, ax, x_range, grid)\u001b[0m\n\u001b[0;32m    199\u001b[0m                 \u001b[1;32melse\u001b[0m\u001b[1;33m:\u001b[0m\u001b[1;33m\u001b[0m\u001b[1;33m\u001b[0m\u001b[0m\n\u001b[0;32m    200\u001b[0m                     \u001b[0mx_min\u001b[0m\u001b[1;33m,\u001b[0m \u001b[0mx_max\u001b[0m \u001b[1;33m=\u001b[0m \u001b[0max\u001b[0m\u001b[1;33m.\u001b[0m\u001b[0mget_xlim\u001b[0m\u001b[1;33m(\u001b[0m\u001b[1;33m)\u001b[0m\u001b[1;33m\u001b[0m\u001b[1;33m\u001b[0m\u001b[0m\n\u001b[1;32m--> 201\u001b[1;33m             \u001b[0mgrid\u001b[0m \u001b[1;33m=\u001b[0m \u001b[0mnp\u001b[0m\u001b[1;33m.\u001b[0m\u001b[0mlinspace\u001b[0m\u001b[1;33m(\u001b[0m\u001b[0mx_min\u001b[0m\u001b[1;33m,\u001b[0m \u001b[0mx_max\u001b[0m\u001b[1;33m,\u001b[0m \u001b[1;36m100\u001b[0m\u001b[1;33m)\u001b[0m\u001b[1;33m\u001b[0m\u001b[1;33m\u001b[0m\u001b[0m\n\u001b[0m\u001b[0;32m    202\u001b[0m         \u001b[0mci\u001b[0m \u001b[1;33m=\u001b[0m \u001b[0mself\u001b[0m\u001b[1;33m.\u001b[0m\u001b[0mci\u001b[0m\u001b[1;33m\u001b[0m\u001b[1;33m\u001b[0m\u001b[0m\n\u001b[0;32m    203\u001b[0m \u001b[1;33m\u001b[0m\u001b[0m\n",
            "\u001b[1;32m<__array_function__ internals>\u001b[0m in \u001b[0;36mlinspace\u001b[1;34m(*args, **kwargs)\u001b[0m\n",
            "\u001b[1;32mC:\\ProgramData\\Anaconda3\\lib\\site-packages\\numpy\\core\\function_base.py\u001b[0m in \u001b[0;36mlinspace\u001b[1;34m(start, stop, num, endpoint, retstep, dtype, axis)\u001b[0m\n\u001b[0;32m    125\u001b[0m     \u001b[1;31m# Convert float/complex array scalars to float, gh-3504\u001b[0m\u001b[1;33m\u001b[0m\u001b[1;33m\u001b[0m\u001b[0m\n\u001b[0;32m    126\u001b[0m     \u001b[1;31m# and make sure one can use variables that have an __array_interface__, gh-6634\u001b[0m\u001b[1;33m\u001b[0m\u001b[1;33m\u001b[0m\u001b[0m\n\u001b[1;32m--> 127\u001b[1;33m     \u001b[0mstart\u001b[0m \u001b[1;33m=\u001b[0m \u001b[0masanyarray\u001b[0m\u001b[1;33m(\u001b[0m\u001b[0mstart\u001b[0m\u001b[1;33m)\u001b[0m \u001b[1;33m*\u001b[0m \u001b[1;36m1.0\u001b[0m\u001b[1;33m\u001b[0m\u001b[1;33m\u001b[0m\u001b[0m\n\u001b[0m\u001b[0;32m    128\u001b[0m     \u001b[0mstop\u001b[0m  \u001b[1;33m=\u001b[0m \u001b[0masanyarray\u001b[0m\u001b[1;33m(\u001b[0m\u001b[0mstop\u001b[0m\u001b[1;33m)\u001b[0m  \u001b[1;33m*\u001b[0m \u001b[1;36m1.0\u001b[0m\u001b[1;33m\u001b[0m\u001b[1;33m\u001b[0m\u001b[0m\n\u001b[0;32m    129\u001b[0m \u001b[1;33m\u001b[0m\u001b[0m\n",
            "\u001b[1;31mUFuncTypeError\u001b[0m: ufunc 'multiply' did not contain a loop with signature matching types (dtype('<U10'), dtype('float64')) -> None"
          ]
        },
        {
          "output_type": "display_data",
          "data": {
            "text/plain": [
              "<Figure size 640x480 with 1 Axes>"
            ],
            "image/png": "[encoded data removed]"
          },
          "metadata": {}
        }
      ]
    },
    {
      "cell_type": "code",
      "source": [
        "dfpc.info()"
      ],
      "metadata": {
        "id": "qvEev-Gzku58",
        "colab": {
          "base_uri": "https://localhost:8080/"
        },
        "outputId": "f518cb87-9ab1-4221-b619-b2a5c94e1766"
      },
      "execution_count": null,
      "outputs": [
        {
          "output_type": "stream",
          "name": "stdout",
          "text": [
            "<class 'pandas.core.frame.DataFrame'>\n",
            "Index: 48 entries, 01/01/2019 to 12/01/2022\n",
            "Data columns (total 6 columns):\n",
            " #   Column     Non-Null Count  Dtype  \n",
            "---  ------     --------------  -----  \n",
            " 0   Grupo      48 non-null     object \n",
            " 1   Producto   48 non-null     object \n",
            " 2   Precio KG  48 non-null     float64\n",
            " 3   Ciudad     48 non-null     object \n",
            " 4   Plaza      48 non-null     object \n",
            " 5   Promedio   48 non-null     int64  \n",
            "dtypes: float64(1), int64(1), object(4)\n",
            "memory usage: 2.6+ KB\n"
          ]
        }
      ]
    },
    {
      "cell_type": "code",
      "source": [
        "x=dfpc.index\n",
        "y=dfpc['Precio KG']\n",
        "plt.title(t)\n",
        "plt.xlabel('Fecha')\n",
        "plt.ylabel('Precio KG')\n",
        "plt.scatter(x,y)\n",
        "plt.show"
      ],
      "metadata": {
        "id": "eL74Pqe5gVmp",
        "colab": {
          "base_uri": "https://localhost:8080/",
          "height": 487
        },
        "outputId": "11aa3672-71bc-48db-8ced-69a2013555e2"
      },
      "execution_count": null,
      "outputs": [
        {
          "output_type": "execute_result",
          "data": {
            "text/plain": [
              "<function matplotlib.pyplot.show(close=None, block=None)>"
            ]
          },
          "metadata": {},
          "execution_count": 64
        },
        {
          "output_type": "display_data",
          "data": {
            "text/plain": [
              "<Figure size 640x480 with 1 Axes>"
            ],
            "image/png": "[encoded data removed]"
          },
          "metadata": {}
        }
      ]
    },
    {
      "cell_type": "markdown",
      "source": [
        "#General Analysis\n"
      ],
      "metadata": {
        "id": "8J0Rc7XEVsms"
      }
    },
    {
      "cell_type": "code",
      "source": [
        "# here dfgc means dataframe group and city\n",
        "dfgc = df2[df2['Ciudad'].isin(C)]\n",
        "dfgc.head()"
      ],
      "metadata": {
        "colab": {
          "base_uri": "https://localhost:8080/",
          "height": 237
        },
        "id": "QISMQne6nfaV",
        "outputId": "3aa49440-7026-4c7d-b8f9-d52b7fd23563"
      },
      "execution_count": 53,
      "outputs": [
        {
          "output_type": "execute_result",
          "data": {
            "text/plain": [
              "             Grupo            Producto  Precio KG        Ciudad        Plaza\n",
              "Fecha                                                                       \n",
              "2019-01-01  frutas       Aguacate Hass     3972.0  Bogota, D.C.   Corabastos\n",
              "2019-01-01  frutas  Aguacate papelillo     4379.0  Bogota, D.C.   Corabastos\n",
              "2019-01-01  frutas      Banano criollo     1158.0  Bogota, D.C.   Corabastos\n",
              "2019-01-01  frutas        Banano Uraba     1079.0  Bogota, D.C.   Corabastos\n",
              "2019-01-01  frutas              Borojó     3107.0  Bogota, D.C.   Corabastos"
            ],
            "text/html": [
              "<div>\n",
              "<style scoped>\n",
              "    .dataframe tbody tr th:only-of-type {\n",
              "        vertical-align: middle;\n",
              "    }\n",
              "\n",
              "    .dataframe tbody tr th {\n",
              "        vertical-align: top;\n",
              "    }\n",
              "\n",
              "    .dataframe thead th {\n",
              "        text-align: right;\n",
              "    }\n",
              "</style>\n",
              "<table border=\"1\" class=\"dataframe\">\n",
              "  <thead>\n",
              "    <tr style=\"text-align: right;\">\n",
              "      <th></th>\n",
              "      <th>Grupo</th>\n",
              "      <th>Producto</th>\n",
              "      <th>Precio KG</th>\n",
              "      <th>Ciudad</th>\n",
              "      <th>Plaza</th>\n",
              "    </tr>\n",
              "    <tr>\n",
              "      <th>Fecha</th>\n",
              "      <th></th>\n",
              "      <th></th>\n",
              "      <th></th>\n",
              "      <th></th>\n",
              "      <th></th>\n",
              "    </tr>\n",
              "  </thead>\n",
              "  <tbody>\n",
              "    <tr>\n",
              "      <th>2019-01-01</th>\n",
              "      <td>frutas</td>\n",
              "      <td>Aguacate Hass</td>\n",
              "      <td>3972.0</td>\n",
              "      <td>Bogota, D.C.</td>\n",
              "      <td>Corabastos</td>\n",
              "    </tr>\n",
              "    <tr>\n",
              "      <th>2019-01-01</th>\n",
              "      <td>frutas</td>\n",
              "      <td>Aguacate papelillo</td>\n",
              "      <td>4379.0</td>\n",
              "      <td>Bogota, D.C.</td>\n",
              "      <td>Corabastos</td>\n",
              "    </tr>\n",
              "    <tr>\n",
              "      <th>2019-01-01</th>\n",
              "      <td>frutas</td>\n",
              "      <td>Banano criollo</td>\n",
              "      <td>1158.0</td>\n",
              "      <td>Bogota, D.C.</td>\n",
              "      <td>Corabastos</td>\n",
              "    </tr>\n",
              "    <tr>\n",
              "      <th>2019-01-01</th>\n",
              "      <td>frutas</td>\n",
              "      <td>Banano Uraba</td>\n",
              "      <td>1079.0</td>\n",
              "      <td>Bogota, D.C.</td>\n",
              "      <td>Corabastos</td>\n",
              "    </tr>\n",
              "    <tr>\n",
              "      <th>2019-01-01</th>\n",
              "      <td>frutas</td>\n",
              "      <td>Borojó</td>\n",
              "      <td>3107.0</td>\n",
              "      <td>Bogota, D.C.</td>\n",
              "      <td>Corabastos</td>\n",
              "    </tr>\n",
              "  </tbody>\n",
              "</table>\n",
              "</div>"
            ]
          },
          "metadata": {},
          "execution_count": 53
        }
      ]
    },
    {
      "cell_type": "code",
      "source": [
        "dfgc.index"
      ],
      "metadata": {
        "colab": {
          "base_uri": "https://localhost:8080/"
        },
        "id": "FRBz2hzAQrRx",
        "outputId": "61d3874b-c4bc-4883-8129-802b3b88d77c"
      },
      "execution_count": 54,
      "outputs": [
        {
          "output_type": "execute_result",
          "data": {
            "text/plain": [
              "DatetimeIndex(['2019-01-01', '2019-01-01', '2019-01-01', '2019-01-01',\n",
              "               '2019-01-01', '2019-01-01', '2019-01-01', '2019-01-01',\n",
              "               '2019-01-01', '2019-01-01',\n",
              "               ...\n",
              "               '2022-12-01', '2022-12-01', '2022-12-01', '2022-12-01',\n",
              "               '2022-12-01', '2022-12-01', '2022-12-01', '2022-12-01',\n",
              "               '2022-12-01', '2022-12-01'],\n",
              "              dtype='datetime64[ns]', name='Fecha', length=2424, freq=None)"
            ]
          },
          "metadata": {},
          "execution_count": 54
        }
      ]
    },
    {
      "cell_type": "code",
      "source": [
        "dfgc[\"Precio KG\"].nsmallest(15)"
      ],
      "metadata": {
        "colab": {
          "base_uri": "https://localhost:8080/"
        },
        "id": "HFc9qpqx3cJg",
        "outputId": "2c767d84-7f25-4687-bd97-fb9d5e11cfcb"
      },
      "execution_count": 55,
      "outputs": [
        {
          "output_type": "execute_result",
          "data": {
            "text/plain": [
              "Fecha\n",
              "2019-03-01    788.0\n",
              "2019-01-01    804.0\n",
              "2021-03-01    813.0\n",
              "2020-12-01    816.0\n",
              "2020-09-01    822.0\n",
              "2019-02-01    827.0\n",
              "2020-05-01    831.0\n",
              "2020-05-01    838.0\n",
              "2020-08-01    853.0\n",
              "2021-07-01    860.0\n",
              "2020-04-01    863.0\n",
              "2021-06-01    872.0\n",
              "2021-04-01    881.0\n",
              "2019-04-01    885.0\n",
              "2021-09-01    885.0\n",
              "Name: Precio KG, dtype: float64"
            ]
          },
          "metadata": {},
          "execution_count": 55
        }
      ]
    },
    {
      "cell_type": "code",
      "source": [
        "# here we find some of the min values across all the months\n",
        "equis = dfgc[\"Precio KG\"] == 885\n",
        "dfgc[equis]"
      ],
      "metadata": {
        "colab": {
          "base_uri": "https://localhost:8080/",
          "height": 143
        },
        "id": "zb3ZhtTj32vZ",
        "outputId": "3e8aa6b1-0fbe-4e9e-f6ae-78ef07e7c768"
      },
      "execution_count": 56,
      "outputs": [
        {
          "output_type": "execute_result",
          "data": {
            "text/plain": [
              "             Grupo       Producto  Precio KG        Ciudad        Plaza\n",
              "Fecha                                                                  \n",
              "2019-04-01  frutas        Patilla      885.0  Bogota, D.C.   Corabastos\n",
              "2021-09-01  frutas  Piña perolera      885.0  Bogota, D.C.   Corabastos"
            ],
            "text/html": [
              "<div>\n",
              "<style scoped>\n",
              "    .dataframe tbody tr th:only-of-type {\n",
              "        vertical-align: middle;\n",
              "    }\n",
              "\n",
              "    .dataframe tbody tr th {\n",
              "        vertical-align: top;\n",
              "    }\n",
              "\n",
              "    .dataframe thead th {\n",
              "        text-align: right;\n",
              "    }\n",
              "</style>\n",
              "<table border=\"1\" class=\"dataframe\">\n",
              "  <thead>\n",
              "    <tr style=\"text-align: right;\">\n",
              "      <th></th>\n",
              "      <th>Grupo</th>\n",
              "      <th>Producto</th>\n",
              "      <th>Precio KG</th>\n",
              "      <th>Ciudad</th>\n",
              "      <th>Plaza</th>\n",
              "    </tr>\n",
              "    <tr>\n",
              "      <th>Fecha</th>\n",
              "      <th></th>\n",
              "      <th></th>\n",
              "      <th></th>\n",
              "      <th></th>\n",
              "      <th></th>\n",
              "    </tr>\n",
              "  </thead>\n",
              "  <tbody>\n",
              "    <tr>\n",
              "      <th>2019-04-01</th>\n",
              "      <td>frutas</td>\n",
              "      <td>Patilla</td>\n",
              "      <td>885.0</td>\n",
              "      <td>Bogota, D.C.</td>\n",
              "      <td>Corabastos</td>\n",
              "    </tr>\n",
              "    <tr>\n",
              "      <th>2021-09-01</th>\n",
              "      <td>frutas</td>\n",
              "      <td>Piña perolera</td>\n",
              "      <td>885.0</td>\n",
              "      <td>Bogota, D.C.</td>\n",
              "      <td>Corabastos</td>\n",
              "    </tr>\n",
              "  </tbody>\n",
              "</table>\n",
              "</div>"
            ]
          },
          "metadata": {},
          "execution_count": 56
        }
      ]
    },
    {
      "cell_type": "code",
      "source": [
        "# that shows this result isn't correct\n",
        "#\n",
        "dfgc = df2[df2['Ciudad'].isin(C)]\n",
        "prueba_2 = dfgc.groupby([dfgc.index.month,\"Producto\"])['Precio KG'].mean()\n",
        "prueba_2 = prueba_2.to_frame() # to convert the series into a dataframe\n",
        "prueba_2.reset_index(inplace = True) #reseting the index\n",
        "prueba_2['Precio KG'].nsmallest() # this get you the min value out of Precio KG\n",
        "prueba_2.groupby(['Fecha'])[\"Precio KG\",\"Producto\"].min() # groupinh by month but getting the min\n",
        "\n"
      ],
      "metadata": {
        "id": "CQh37CNkzuaJ",
        "colab": {
          "base_uri": "https://localhost:8080/",
          "height": 511
        },
        "outputId": "a399c015-3a96-49d2-ac0d-bcf4afb3743b"
      },
      "execution_count": 57,
      "outputs": [
        {
          "output_type": "stream",
          "name": "stderr",
          "text": [
            "C:\\Users\\user\\AppData\\Local\\Temp\\ipykernel_1492\\3943261279.py:8: FutureWarning: Indexing with multiple keys (implicitly converted to a tuple of keys) will be deprecated, use a list instead.\n",
            "  prueba_2.groupby(['Fecha'])[\"Precio KG\",\"Producto\"].min() # groupinh by month but getting the min\n"
          ]
        },
        {
          "output_type": "execute_result",
          "data": {
            "text/plain": [
              "       Precio KG       Producto\n",
              "Fecha                          \n",
              "1        1138.00  Aguacate Hass\n",
              "2        1092.50  Aguacate Hass\n",
              "3        1025.50  Aguacate Hass\n",
              "4         980.00  Aguacate Hass\n",
              "5        1149.00  Aguacate Hass\n",
              "6        1090.25  Aguacate Hass\n",
              "7        1021.50  Aguacate Hass\n",
              "8        1018.50  Aguacate Hass\n",
              "9        1141.25  Aguacate Hass\n",
              "10       1209.50  Aguacate Hass\n",
              "11       1188.25  Aguacate Hass\n",
              "12       1156.50  Aguacate Hass"
            ],
            "text/html": [
              "<div>\n",
              "<style scoped>\n",
              "    .dataframe tbody tr th:only-of-type {\n",
              "        vertical-align: middle;\n",
              "    }\n",
              "\n",
              "    .dataframe tbody tr th {\n",
              "        vertical-align: top;\n",
              "    }\n",
              "\n",
              "    .dataframe thead th {\n",
              "        text-align: right;\n",
              "    }\n",
              "</style>\n",
              "<table border=\"1\" class=\"dataframe\">\n",
              "  <thead>\n",
              "    <tr style=\"text-align: right;\">\n",
              "      <th></th>\n",
              "      <th>Precio KG</th>\n",
              "      <th>Producto</th>\n",
              "    </tr>\n",
              "    <tr>\n",
              "      <th>Fecha</th>\n",
              "      <th></th>\n",
              "      <th></th>\n",
              "    </tr>\n",
              "  </thead>\n",
              "  <tbody>\n",
              "    <tr>\n",
              "      <th>1</th>\n",
              "      <td>1138.00</td>\n",
              "      <td>Aguacate Hass</td>\n",
              "    </tr>\n",
              "    <tr>\n",
              "      <th>2</th>\n",
              "      <td>1092.50</td>\n",
              "      <td>Aguacate Hass</td>\n",
              "    </tr>\n",
              "    <tr>\n",
              "      <th>3</th>\n",
              "      <td>1025.50</td>\n",
              "      <td>Aguacate Hass</td>\n",
              "    </tr>\n",
              "    <tr>\n",
              "      <th>4</th>\n",
              "      <td>980.00</td>\n",
              "      <td>Aguacate Hass</td>\n",
              "    </tr>\n",
              "    <tr>\n",
              "      <th>5</th>\n",
              "      <td>1149.00</td>\n",
              "      <td>Aguacate Hass</td>\n",
              "    </tr>\n",
              "    <tr>\n",
              "      <th>6</th>\n",
              "      <td>1090.25</td>\n",
              "      <td>Aguacate Hass</td>\n",
              "    </tr>\n",
              "    <tr>\n",
              "      <th>7</th>\n",
              "      <td>1021.50</td>\n",
              "      <td>Aguacate Hass</td>\n",
              "    </tr>\n",
              "    <tr>\n",
              "      <th>8</th>\n",
              "      <td>1018.50</td>\n",
              "      <td>Aguacate Hass</td>\n",
              "    </tr>\n",
              "    <tr>\n",
              "      <th>9</th>\n",
              "      <td>1141.25</td>\n",
              "      <td>Aguacate Hass</td>\n",
              "    </tr>\n",
              "    <tr>\n",
              "      <th>10</th>\n",
              "      <td>1209.50</td>\n",
              "      <td>Aguacate Hass</td>\n",
              "    </tr>\n",
              "    <tr>\n",
              "      <th>11</th>\n",
              "      <td>1188.25</td>\n",
              "      <td>Aguacate Hass</td>\n",
              "    </tr>\n",
              "    <tr>\n",
              "      <th>12</th>\n",
              "      <td>1156.50</td>\n",
              "      <td>Aguacate Hass</td>\n",
              "    </tr>\n",
              "  </tbody>\n",
              "</table>\n",
              "</div>"
            ]
          },
          "metadata": {},
          "execution_count": 57
        }
      ]
    },
    {
      "cell_type": "code",
      "source": [
        "#we grouped the prices by product in month and get the mean of the product around all the same januaries for example\n",
        "prueba_2 = dfgc.groupby([dfgc.index.month,\"Producto\"])['Precio KG'].mean()# this gives us the mean of the price by product grouped in month\n",
        "prueba_2 = prueba_2.to_frame() # to convert the dataframe\n",
        "prueba_2.reset_index(inplace = True) # to change to multi index to a normal one\n",
        "prueba_2['Fecha'] # to then see if the fecha is a new column to use it as the month to group"
      ],
      "metadata": {
        "colab": {
          "base_uri": "https://localhost:8080/"
        },
        "id": "q9k6ai6vVFHk",
        "outputId": "29d40971-90a7-4cda-ed01-94a825f05fbf"
      },
      "execution_count": 58,
      "outputs": [
        {
          "output_type": "execute_result",
          "data": {
            "text/plain": [
              "0       1\n",
              "1       1\n",
              "2       1\n",
              "3       1\n",
              "4       1\n",
              "       ..\n",
              "642    12\n",
              "643    12\n",
              "644    12\n",
              "645    12\n",
              "646    12\n",
              "Name: Fecha, Length: 647, dtype: int64"
            ]
          },
          "metadata": {},
          "execution_count": 58
        }
      ]
    },
    {
      "cell_type": "code",
      "source": [
        "# a test to find the min value for a month in the dataframe\n",
        "m =1 # this represent te #1 month in this case january\n",
        "month_price = prueba_2['Fecha'] == m # this boolean can check for a variable that is the number of the month\n",
        "lista = prueba_2[month_price] # here we translate the bool into a dataframe\n",
        "min_index = lista['Precio KG'].idxmin() # this will give you the index number of the minimun price value\n",
        "lista.loc[min_index] # we use the variable to then call the product\n"
      ],
      "metadata": {
        "colab": {
          "base_uri": "https://localhost:8080/"
        },
        "id": "jrSPHwhcWqzQ",
        "outputId": "1c386485-8551-4617-e1f9-7511ec703622"
      },
      "execution_count": 59,
      "outputs": [
        {
          "output_type": "execute_result",
          "data": {
            "text/plain": [
              "Fecha              1\n",
              "Producto     Patilla\n",
              "Precio KG     1138.0\n",
              "Name: 38, dtype: object"
            ]
          },
          "metadata": {},
          "execution_count": 59
        }
      ]
    },
    {
      "cell_type": "code",
      "source": [
        "# now we can pass this into the loop to do it for every month\n",
        "# a for loop to get the min value of every month\n",
        "for month in range(12):\n",
        "  month +=1\n",
        "  month_price = prueba_2['Fecha'] == month\n",
        "  lista = prueba_2[month_price]\n",
        "  min_index = lista['Precio KG'].idxmin()\n",
        "  min_price_month = lista.loc[min_index]\n",
        "  print(min_price_month)"
      ],
      "metadata": {
        "colab": {
          "base_uri": "https://localhost:8080/"
        },
        "id": "a5EqLt8VP7uW",
        "outputId": "8b466283-f2a5-48bd-adcc-db52b3ad27d0"
      },
      "execution_count": 60,
      "outputs": [
        {
          "output_type": "stream",
          "name": "stdout",
          "text": [
            "Fecha              1\n",
            "Producto     Patilla\n",
            "Precio KG     1138.0\n",
            "Name: 38, dtype: object\n",
            "Fecha              2\n",
            "Producto     Patilla\n",
            "Precio KG     1092.5\n",
            "Name: 92, dtype: object\n",
            "Fecha              3\n",
            "Producto     Patilla\n",
            "Precio KG     1025.5\n",
            "Name: 146, dtype: object\n",
            "Fecha                    4\n",
            "Producto     Piña perolera\n",
            "Precio KG            980.0\n",
            "Name: 206, dtype: object\n",
            "Fecha                    5\n",
            "Producto     Piña perolera\n",
            "Precio KG           1149.0\n",
            "Name: 259, dtype: object\n",
            "Fecha                   6\n",
            "Producto     Limón Tahiti\n",
            "Precio KG         1090.25\n",
            "Name: 287, dtype: object\n",
            "Fecha                    7\n",
            "Producto     Piña perolera\n",
            "Precio KG           1021.5\n",
            "Name: 367, dtype: object\n",
            "Fecha                    8\n",
            "Producto     Piña perolera\n",
            "Precio KG           1018.5\n",
            "Name: 421, dtype: object\n",
            "Fecha                    9\n",
            "Producto     Piña perolera\n",
            "Precio KG          1141.25\n",
            "Name: 475, dtype: object\n",
            "Fecha                   10\n",
            "Producto     Piña perolera\n",
            "Precio KG           1209.5\n",
            "Name: 529, dtype: object\n",
            "Fecha                   11\n",
            "Producto     Piña perolera\n",
            "Precio KG          1188.25\n",
            "Name: 584, dtype: object\n",
            "Fecha             12\n",
            "Producto     Patilla\n",
            "Precio KG     1156.5\n",
            "Name: 633, dtype: object\n"
          ]
        }
      ]
    },
    {
      "cell_type": "code",
      "source": [
        "# Now we would like to get more min values out of this loop"
      ],
      "metadata": {
        "id": "YDJonI_YNONJ"
      },
      "execution_count": 61,
      "outputs": []
    },
    {
      "cell_type": "code",
      "source": [
        "m = 1\n",
        "ene = 5\n",
        "month_price = prueba_2['Fecha'] == m # this boolean can check for a variable that is the number of the month\n",
        "lista = prueba_2[month_price] # here we translate the bool into a dataframe\n",
        "min_index = lista.nsmallest(ene,['Precio KG']) # i learned that using nsmallest is easy to get all the values and not selecting prior the column\n",
        "print(min_index)"
      ],
      "metadata": {
        "colab": {
          "base_uri": "https://localhost:8080/"
        },
        "id": "h_8vtzjaXJM5",
        "outputId": "49d4cdd4-6852-4662-9541-3562b94d6d27"
      },
      "execution_count": 62,
      "outputs": [
        {
          "output_type": "stream",
          "name": "stdout",
          "text": [
            "    Fecha          Producto  Precio KG\n",
            "38      1           Patilla    1138.00\n",
            "44      1     Piña perolera    1183.25\n",
            "34      1     Naranja Sweet    1359.25\n",
            "35      1  Naranja Valencia    1359.50\n",
            "2       1      Banano Uraba    1360.25\n"
          ]
        }
      ]
    },
    {
      "cell_type": "code",
      "source": [
        "min_index.info()\n"
      ],
      "metadata": {
        "colab": {
          "base_uri": "https://localhost:8080/"
        },
        "id": "CDq2tb9pdZRQ",
        "outputId": "94d5a1d3-fd12-4ede-fcc5-6defaea90ef3"
      },
      "execution_count": 63,
      "outputs": [
        {
          "output_type": "stream",
          "name": "stdout",
          "text": [
            "<class 'pandas.core.frame.DataFrame'>\n",
            "Int64Index: 5 entries, 38 to 2\n",
            "Data columns (total 3 columns):\n",
            " #   Column     Non-Null Count  Dtype  \n",
            "---  ------     --------------  -----  \n",
            " 0   Fecha      5 non-null      int64  \n",
            " 1   Producto   5 non-null      object \n",
            " 2   Precio KG  5 non-null      float64\n",
            "dtypes: float64(1), int64(1), object(1)\n",
            "memory usage: 160.0+ bytes\n"
          ]
        }
      ]
    },
    {
      "cell_type": "code",
      "source": [
        "#New bolean including n min values\n",
        "display_n_prices = 8 # select how many min prices you will like to know for every month\n",
        "for month in range(12):\n",
        "  month +=1 # the range stars at 0 so instead we first sum 1 to change the values to the correspondin month\n",
        "  month_price = prueba_2['Fecha'] == month\n",
        "  lista = prueba_2[month_price]\n",
        "  min_price_month = lista.nsmallest(display_n_prices,['Precio KG']) # I learned that using nsmallest you can display all\n",
        "  print(min_price_month)"
      ],
      "metadata": {
        "colab": {
          "base_uri": "https://localhost:8080/"
        },
        "id": "vFBc5inybWHv",
        "outputId": "ef6bebee-3fb8-4492-b464-977d670d870e"
      },
      "execution_count": 64,
      "outputs": [
        {
          "output_type": "stream",
          "name": "stdout",
          "text": [
            "    Fecha          Producto  Precio KG\n",
            "38      1           Patilla    1138.00\n",
            "44      1     Piña perolera    1183.25\n",
            "34      1     Naranja Sweet    1359.25\n",
            "35      1  Naranja Valencia    1359.50\n",
            "2       1      Banano Uraba    1360.25\n",
            "17      1            Gulupa    1432.25\n",
            "21      1       Limón común    1502.50\n",
            "4       1    Banano criollo    1529.25\n",
            "    Fecha          Producto  Precio KG\n",
            "92      2           Patilla    1092.50\n",
            "98      2     Piña perolera    1141.75\n",
            "87      2     Naranja Sweet    1326.50\n",
            "88      2  Naranja Valencia    1326.50\n",
            "54      2      Banano Uraba    1411.75\n",
            "56      2    Banano criollo    1642.75\n",
            "97      2         Piña gold    1749.00\n",
            "85      2    Melón Cantalup    1784.50\n",
            "     Fecha          Producto    Precio KG\n",
            "146      3           Patilla  1025.500000\n",
            "152      3     Piña perolera  1108.750000\n",
            "108      3      Banano Uraba  1329.250000\n",
            "142      3  Naranja Valencia  1369.750000\n",
            "141      3     Naranja Sweet  1370.000000\n",
            "144      3    Papaya Paulina  1407.000000\n",
            "143      3    Papaya Maradol  1577.333333\n",
            "151      3         Piña gold  1750.000000\n",
            "     Fecha          Producto    Precio KG\n",
            "206      4     Piña perolera   980.000000\n",
            "200      4           Patilla  1023.750000\n",
            "203      4     Pera nacional  1255.750000\n",
            "162      4      Banano Uraba  1273.750000\n",
            "198      4    Papaya Paulina  1274.000000\n",
            "197      4    Papaya Maradol  1327.666667\n",
            "196      4  Naranja Valencia  1363.750000\n",
            "195      4     Naranja Sweet  1364.250000\n",
            "     Fecha          Producto  Precio KG\n",
            "259      5     Piña perolera    1149.00\n",
            "253      5           Patilla    1164.25\n",
            "256      5     Pera nacional    1365.00\n",
            "216      5      Banano Uraba    1373.75\n",
            "249      5  Naranja Valencia    1440.50\n",
            "248      5     Naranja Sweet    1442.00\n",
            "223      5            Curuba    1615.25\n",
            "258      5         Piña gold    1641.25\n",
            "     Fecha          Producto  Precio KG\n",
            "287      6      Limón Tahiti    1090.25\n",
            "313      6     Piña perolera    1154.50\n",
            "288      6       Limón común    1225.25\n",
            "269      6      Banano Uraba    1331.25\n",
            "307      6           Patilla    1370.75\n",
            "293      6       Mango común    1395.00\n",
            "302      6     Naranja Sweet    1431.50\n",
            "303      6  Naranja Valencia    1432.00\n",
            "     Fecha          Producto  Precio KG\n",
            "367      7     Piña perolera    1021.50\n",
            "341      7      Limón Tahiti    1123.50\n",
            "342      7       Limón común    1243.00\n",
            "356      7     Naranja Sweet    1401.25\n",
            "357      7  Naranja Valencia    1404.25\n",
            "361      7           Patilla    1429.00\n",
            "359      7    Papaya Paulina    1494.00\n",
            "323      7      Banano Uraba    1530.25\n",
            "     Fecha          Producto  Precio KG\n",
            "421      8     Piña perolera    1018.50\n",
            "410      8     Naranja Sweet    1331.75\n",
            "411      8  Naranja Valencia    1332.00\n",
            "391      8      Guayaba pera    1402.00\n",
            "415      8           Patilla    1411.25\n",
            "377      8      Banano Uraba    1477.00\n",
            "413      8    Papaya Paulina    1673.00\n",
            "412      8    Papaya Maradol    1683.50\n",
            "     Fecha          Producto    Precio KG\n",
            "475      9     Piña perolera  1141.250000\n",
            "465      9  Naranja Valencia  1283.500000\n",
            "464      9     Naranja Sweet  1284.000000\n",
            "431      9      Banano Uraba  1390.250000\n",
            "469      9           Patilla  1451.750000\n",
            "445      9      Guayaba pera  1507.000000\n",
            "466      9    Papaya Maradol  1648.000000\n",
            "450      9       Limón común  1733.333333\n",
            "     Fecha          Producto  Precio KG\n",
            "529     10     Piña perolera    1209.50\n",
            "519     10  Naranja Valencia    1250.25\n",
            "518     10     Naranja Sweet    1251.25\n",
            "485     10      Banano Uraba    1321.25\n",
            "523     10           Patilla    1367.00\n",
            "520     10    Papaya Maradol    1572.50\n",
            "499     10      Guayaba pera    1629.50\n",
            "490     10      Ciruela roja    1659.00\n",
            "     Fecha          Producto  Precio KG\n",
            "584     11     Piña perolera    1188.25\n",
            "578     11           Patilla    1217.75\n",
            "574     11  Naranja Valencia    1260.50\n",
            "573     11     Naranja Sweet    1260.75\n",
            "575     11    Papaya Maradol    1441.50\n",
            "539     11      Banano Uraba    1445.00\n",
            "544     11      Ciruela roja    1673.50\n",
            "579     11      Patilla baby    1724.50\n",
            "     Fecha            Producto    Precio KG\n",
            "633     12             Patilla  1156.500000\n",
            "639     12       Piña perolera  1223.750000\n",
            "629     12    Naranja Valencia  1337.750000\n",
            "628     12       Naranja Sweet  1339.500000\n",
            "630     12      Papaya Maradol  1431.500000\n",
            "601     12              Curuba  1484.000000\n",
            "615     12  Mandarina Arrayana  1517.333333\n",
            "619     12         Mango común  1536.750000\n"
          ]
        }
      ]
    },
    {
      "cell_type": "code",
      "source": [
        "# Now im creating a function\n",
        "def minimun_prices_month(num,data): # num is the number of prices that will be display.\n",
        "  for month in range(12):\n",
        "    month +=1 # the range stars at 0 so instead we first sum 1 to change the values to the correspondin month\n",
        "    month_price = data['Fecha'] == month\n",
        "    lista = prueba_2[month_price]\n",
        "    min_price_month = lista.nsmallest(num,['Precio KG']) # I learned that using nsmallest you can display all\n",
        "    print(min_price_month)"
      ],
      "metadata": {
        "id": "xACiNICqLBKO"
      },
      "execution_count": 65,
      "outputs": []
    },
    {
      "cell_type": "code",
      "source": [
        "minimun_prices_month(8,prueba_2) # this function  return the min given values for every month of a data frame\n",
        "## now i want to get a data frame to use this information"
      ],
      "metadata": {
        "id": "to_SX8GEcdRO",
        "colab": {
          "base_uri": "https://localhost:8080/"
        },
        "outputId": "b695bd4e-f57b-42ca-bbd7-9b0ecedfd270"
      },
      "execution_count": 66,
      "outputs": [
        {
          "output_type": "stream",
          "name": "stdout",
          "text": [
            "    Fecha          Producto  Precio KG\n",
            "38      1           Patilla    1138.00\n",
            "44      1     Piña perolera    1183.25\n",
            "34      1     Naranja Sweet    1359.25\n",
            "35      1  Naranja Valencia    1359.50\n",
            "2       1      Banano Uraba    1360.25\n",
            "17      1            Gulupa    1432.25\n",
            "21      1       Limón común    1502.50\n",
            "4       1    Banano criollo    1529.25\n",
            "    Fecha          Producto  Precio KG\n",
            "92      2           Patilla    1092.50\n",
            "98      2     Piña perolera    1141.75\n",
            "87      2     Naranja Sweet    1326.50\n",
            "88      2  Naranja Valencia    1326.50\n",
            "54      2      Banano Uraba    1411.75\n",
            "56      2    Banano criollo    1642.75\n",
            "97      2         Piña gold    1749.00\n",
            "85      2    Melón Cantalup    1784.50\n",
            "     Fecha          Producto    Precio KG\n",
            "146      3           Patilla  1025.500000\n",
            "152      3     Piña perolera  1108.750000\n",
            "108      3      Banano Uraba  1329.250000\n",
            "142      3  Naranja Valencia  1369.750000\n",
            "141      3     Naranja Sweet  1370.000000\n",
            "144      3    Papaya Paulina  1407.000000\n",
            "143      3    Papaya Maradol  1577.333333\n",
            "151      3         Piña gold  1750.000000\n",
            "     Fecha          Producto    Precio KG\n",
            "206      4     Piña perolera   980.000000\n",
            "200      4           Patilla  1023.750000\n",
            "203      4     Pera nacional  1255.750000\n",
            "162      4      Banano Uraba  1273.750000\n",
            "198      4    Papaya Paulina  1274.000000\n",
            "197      4    Papaya Maradol  1327.666667\n",
            "196      4  Naranja Valencia  1363.750000\n",
            "195      4     Naranja Sweet  1364.250000\n",
            "     Fecha          Producto  Precio KG\n",
            "259      5     Piña perolera    1149.00\n",
            "253      5           Patilla    1164.25\n",
            "256      5     Pera nacional    1365.00\n",
            "216      5      Banano Uraba    1373.75\n",
            "249      5  Naranja Valencia    1440.50\n",
            "248      5     Naranja Sweet    1442.00\n",
            "223      5            Curuba    1615.25\n",
            "258      5         Piña gold    1641.25\n",
            "     Fecha          Producto  Precio KG\n",
            "287      6      Limón Tahiti    1090.25\n",
            "313      6     Piña perolera    1154.50\n",
            "288      6       Limón común    1225.25\n",
            "269      6      Banano Uraba    1331.25\n",
            "307      6           Patilla    1370.75\n",
            "293      6       Mango común    1395.00\n",
            "302      6     Naranja Sweet    1431.50\n",
            "303      6  Naranja Valencia    1432.00\n",
            "     Fecha          Producto  Precio KG\n",
            "367      7     Piña perolera    1021.50\n",
            "341      7      Limón Tahiti    1123.50\n",
            "342      7       Limón común    1243.00\n",
            "356      7     Naranja Sweet    1401.25\n",
            "357      7  Naranja Valencia    1404.25\n",
            "361      7           Patilla    1429.00\n",
            "359      7    Papaya Paulina    1494.00\n",
            "323      7      Banano Uraba    1530.25\n",
            "     Fecha          Producto  Precio KG\n",
            "421      8     Piña perolera    1018.50\n",
            "410      8     Naranja Sweet    1331.75\n",
            "411      8  Naranja Valencia    1332.00\n",
            "391      8      Guayaba pera    1402.00\n",
            "415      8           Patilla    1411.25\n",
            "377      8      Banano Uraba    1477.00\n",
            "413      8    Papaya Paulina    1673.00\n",
            "412      8    Papaya Maradol    1683.50\n",
            "     Fecha          Producto    Precio KG\n",
            "475      9     Piña perolera  1141.250000\n",
            "465      9  Naranja Valencia  1283.500000\n",
            "464      9     Naranja Sweet  1284.000000\n",
            "431      9      Banano Uraba  1390.250000\n",
            "469      9           Patilla  1451.750000\n",
            "445      9      Guayaba pera  1507.000000\n",
            "466      9    Papaya Maradol  1648.000000\n",
            "450      9       Limón común  1733.333333\n",
            "     Fecha          Producto  Precio KG\n",
            "529     10     Piña perolera    1209.50\n",
            "519     10  Naranja Valencia    1250.25\n",
            "518     10     Naranja Sweet    1251.25\n",
            "485     10      Banano Uraba    1321.25\n",
            "523     10           Patilla    1367.00\n",
            "520     10    Papaya Maradol    1572.50\n",
            "499     10      Guayaba pera    1629.50\n",
            "490     10      Ciruela roja    1659.00\n",
            "     Fecha          Producto  Precio KG\n",
            "584     11     Piña perolera    1188.25\n",
            "578     11           Patilla    1217.75\n",
            "574     11  Naranja Valencia    1260.50\n",
            "573     11     Naranja Sweet    1260.75\n",
            "575     11    Papaya Maradol    1441.50\n",
            "539     11      Banano Uraba    1445.00\n",
            "544     11      Ciruela roja    1673.50\n",
            "579     11      Patilla baby    1724.50\n",
            "     Fecha            Producto    Precio KG\n",
            "633     12             Patilla  1156.500000\n",
            "639     12       Piña perolera  1223.750000\n",
            "629     12    Naranja Valencia  1337.750000\n",
            "628     12       Naranja Sweet  1339.500000\n",
            "630     12      Papaya Maradol  1431.500000\n",
            "601     12              Curuba  1484.000000\n",
            "615     12  Mandarina Arrayana  1517.333333\n",
            "619     12         Mango común  1536.750000\n"
          ]
        }
      ]
    },
    {
      "cell_type": "code",
      "source": [
        "finaldata = pd.DataFrame()\n",
        "\n",
        "m = 1\n",
        "ene = 5\n",
        "month_price = prueba_2['Fecha'] == m # this boolean can check for a variable that is the number of the month\n",
        "lista = prueba_2[month_price] # here we translate the bool into a dataframe\n",
        "min_index = lista.nsmallest(ene,['Precio KG']) # i learned that using nsmallest is easy to get all the values and not selecting prior the column\n",
        "finaldata = pd.concat([finaldata, min_index], ignore_index=True)\n",
        "m = 2\n",
        "ene = 5\n",
        "month_price = prueba_2['Fecha'] == m # this boolean can check for a variable that is the number of the month\n",
        "lista = prueba_2[month_price] # here we translate the bool into a dataframe\n",
        "min_index = lista.nsmallest(ene,['Precio KG'])\n",
        "finaldata = pd.concat([finaldata, min_index], ignore_index=True)\n",
        "finaldata\n",
        "\n",
        "#this is a test to provide a dataframe using the loop to get a new data frame\n"
      ],
      "metadata": {
        "id": "rb8yGSLFdOtp",
        "colab": {
          "base_uri": "https://localhost:8080/",
          "height": 363
        },
        "outputId": "f2878f05-08f7-436d-fa79-84432fbef68b"
      },
      "execution_count": 67,
      "outputs": [
        {
          "output_type": "execute_result",
          "data": {
            "text/plain": [
              "   Fecha          Producto  Precio KG\n",
              "0      1           Patilla    1138.00\n",
              "1      1     Piña perolera    1183.25\n",
              "2      1     Naranja Sweet    1359.25\n",
              "3      1  Naranja Valencia    1359.50\n",
              "4      1      Banano Uraba    1360.25\n",
              "5      2           Patilla    1092.50\n",
              "6      2     Piña perolera    1141.75\n",
              "7      2     Naranja Sweet    1326.50\n",
              "8      2  Naranja Valencia    1326.50\n",
              "9      2      Banano Uraba    1411.75"
            ],
            "text/html": [
              "<div>\n",
              "<style scoped>\n",
              "    .dataframe tbody tr th:only-of-type {\n",
              "        vertical-align: middle;\n",
              "    }\n",
              "\n",
              "    .dataframe tbody tr th {\n",
              "        vertical-align: top;\n",
              "    }\n",
              "\n",
              "    .dataframe thead th {\n",
              "        text-align: right;\n",
              "    }\n",
              "</style>\n",
              "<table border=\"1\" class=\"dataframe\">\n",
              "  <thead>\n",
              "    <tr style=\"text-align: right;\">\n",
              "      <th></th>\n",
              "      <th>Fecha</th>\n",
              "      <th>Producto</th>\n",
              "      <th>Precio KG</th>\n",
              "    </tr>\n",
              "  </thead>\n",
              "  <tbody>\n",
              "    <tr>\n",
              "      <th>0</th>\n",
              "      <td>1</td>\n",
              "      <td>Patilla</td>\n",
              "      <td>1138.00</td>\n",
              "    </tr>\n",
              "    <tr>\n",
              "      <th>1</th>\n",
              "      <td>1</td>\n",
              "      <td>Piña perolera</td>\n",
              "      <td>1183.25</td>\n",
              "    </tr>\n",
              "    <tr>\n",
              "      <th>2</th>\n",
              "      <td>1</td>\n",
              "      <td>Naranja Sweet</td>\n",
              "      <td>1359.25</td>\n",
              "    </tr>\n",
              "    <tr>\n",
              "      <th>3</th>\n",
              "      <td>1</td>\n",
              "      <td>Naranja Valencia</td>\n",
              "      <td>1359.50</td>\n",
              "    </tr>\n",
              "    <tr>\n",
              "      <th>4</th>\n",
              "      <td>1</td>\n",
              "      <td>Banano Uraba</td>\n",
              "      <td>1360.25</td>\n",
              "    </tr>\n",
              "    <tr>\n",
              "      <th>5</th>\n",
              "      <td>2</td>\n",
              "      <td>Patilla</td>\n",
              "      <td>1092.50</td>\n",
              "    </tr>\n",
              "    <tr>\n",
              "      <th>6</th>\n",
              "      <td>2</td>\n",
              "      <td>Piña perolera</td>\n",
              "      <td>1141.75</td>\n",
              "    </tr>\n",
              "    <tr>\n",
              "      <th>7</th>\n",
              "      <td>2</td>\n",
              "      <td>Naranja Sweet</td>\n",
              "      <td>1326.50</td>\n",
              "    </tr>\n",
              "    <tr>\n",
              "      <th>8</th>\n",
              "      <td>2</td>\n",
              "      <td>Naranja Valencia</td>\n",
              "      <td>1326.50</td>\n",
              "    </tr>\n",
              "    <tr>\n",
              "      <th>9</th>\n",
              "      <td>2</td>\n",
              "      <td>Banano Uraba</td>\n",
              "      <td>1411.75</td>\n",
              "    </tr>\n",
              "  </tbody>\n",
              "</table>\n",
              "</div>"
            ]
          },
          "metadata": {},
          "execution_count": 67
        }
      ]
    },
    {
      "cell_type": "code",
      "source": [
        "# the New function looks like this\n",
        "\n",
        "def minimun_prices_month(num,data): # num is the number of prices that will be display.\n",
        "  finaldata = pd.DataFrame() # our empty data frame that will be concated to add every new dataframe\n",
        "  for month in range(12):\n",
        "    month +=1 # the range stars at 0 so instead we first sum 1 to change the values to the correspondin month\n",
        "    month_price = data['Fecha'] == month\n",
        "    lista = prueba_2[month_price]\n",
        "    min_price_month = lista.nsmallest(num,['Precio KG']) # I learned that using nsmallest you can display all\n",
        "    finaldata = pd.concat([finaldata, min_price_month], ignore_index=True) #This is the function that adds the new dataframe\n",
        "  return finaldata\n"
      ],
      "metadata": {
        "id": "9pTlfwi4oovo"
      },
      "execution_count": 68,
      "outputs": []
    },
    {
      "cell_type": "code",
      "source": [
        "x = minimun_prices_month(4,prueba_2)\n",
        "x # Here we see that the fucntion works properly and it is a dataframe that can be converted into an excel or be plot\n"
      ],
      "metadata": {
        "colab": {
          "base_uri": "https://localhost:8080/",
          "height": 1000
        },
        "id": "JrhkPHxFpNRK",
        "outputId": "78a8637b-8640-4d56-f547-4e4c7e6c3551"
      },
      "execution_count": 77,
      "outputs": [
        {
          "output_type": "execute_result",
          "data": {
            "text/plain": [
              "    Fecha          Producto  Precio KG\n",
              "0       1           Patilla    1138.00\n",
              "1       1     Piña perolera    1183.25\n",
              "2       1     Naranja Sweet    1359.25\n",
              "3       1  Naranja Valencia    1359.50\n",
              "4       2           Patilla    1092.50\n",
              "5       2     Piña perolera    1141.75\n",
              "6       2     Naranja Sweet    1326.50\n",
              "7       2  Naranja Valencia    1326.50\n",
              "8       3           Patilla    1025.50\n",
              "9       3     Piña perolera    1108.75\n",
              "10      3      Banano Uraba    1329.25\n",
              "11      3  Naranja Valencia    1369.75\n",
              "12      4     Piña perolera     980.00\n",
              "13      4           Patilla    1023.75\n",
              "14      4     Pera nacional    1255.75\n",
              "15      4      Banano Uraba    1273.75\n",
              "16      5     Piña perolera    1149.00\n",
              "17      5           Patilla    1164.25\n",
              "18      5     Pera nacional    1365.00\n",
              "19      5      Banano Uraba    1373.75\n",
              "20      6      Limón Tahiti    1090.25\n",
              "21      6     Piña perolera    1154.50\n",
              "22      6       Limón común    1225.25\n",
              "23      6      Banano Uraba    1331.25\n",
              "24      7     Piña perolera    1021.50\n",
              "25      7      Limón Tahiti    1123.50\n",
              "26      7       Limón común    1243.00\n",
              "27      7     Naranja Sweet    1401.25\n",
              "28      8     Piña perolera    1018.50\n",
              "29      8     Naranja Sweet    1331.75\n",
              "30      8  Naranja Valencia    1332.00\n",
              "31      8      Guayaba pera    1402.00\n",
              "32      9     Piña perolera    1141.25\n",
              "33      9  Naranja Valencia    1283.50\n",
              "34      9     Naranja Sweet    1284.00\n",
              "35      9      Banano Uraba    1390.25\n",
              "36     10     Piña perolera    1209.50\n",
              "37     10  Naranja Valencia    1250.25\n",
              "38     10     Naranja Sweet    1251.25\n",
              "39     10      Banano Uraba    1321.25\n",
              "40     11     Piña perolera    1188.25\n",
              "41     11           Patilla    1217.75\n",
              "42     11  Naranja Valencia    1260.50\n",
              "43     11     Naranja Sweet    1260.75\n",
              "44     12           Patilla    1156.50\n",
              "45     12     Piña perolera    1223.75\n",
              "46     12  Naranja Valencia    1337.75\n",
              "47     12     Naranja Sweet    1339.50"
            ],
            "text/html": [
              "<div>\n",
              "<style scoped>\n",
              "    .dataframe tbody tr th:only-of-type {\n",
              "        vertical-align: middle;\n",
              "    }\n",
              "\n",
              "    .dataframe tbody tr th {\n",
              "        vertical-align: top;\n",
              "    }\n",
              "\n",
              "    .dataframe thead th {\n",
              "        text-align: right;\n",
              "    }\n",
              "</style>\n",
              "<table border=\"1\" class=\"dataframe\">\n",
              "  <thead>\n",
              "    <tr style=\"text-align: right;\">\n",
              "      <th></th>\n",
              "      <th>Fecha</th>\n",
              "      <th>Producto</th>\n",
              "      <th>Precio KG</th>\n",
              "    </tr>\n",
              "  </thead>\n",
              "  <tbody>\n",
              "    <tr>\n",
              "      <th>0</th>\n",
              "      <td>1</td>\n",
              "      <td>Patilla</td>\n",
              "      <td>1138.00</td>\n",
              "    </tr>\n",
              "    <tr>\n",
              "      <th>1</th>\n",
              "      <td>1</td>\n",
              "      <td>Piña perolera</td>\n",
              "      <td>1183.25</td>\n",
              "    </tr>\n",
              "    <tr>\n",
              "      <th>2</th>\n",
              "      <td>1</td>\n",
              "      <td>Naranja Sweet</td>\n",
              "      <td>1359.25</td>\n",
              "    </tr>\n",
              "    <tr>\n",
              "      <th>3</th>\n",
              "      <td>1</td>\n",
              "      <td>Naranja Valencia</td>\n",
              "      <td>1359.50</td>\n",
              "    </tr>\n",
              "    <tr>\n",
              "      <th>4</th>\n",
              "      <td>2</td>\n",
              "      <td>Patilla</td>\n",
              "      <td>1092.50</td>\n",
              "    </tr>\n",
              "    <tr>\n",
              "      <th>5</th>\n",
              "      <td>2</td>\n",
              "      <td>Piña perolera</td>\n",
              "      <td>1141.75</td>\n",
              "    </tr>\n",
              "    <tr>\n",
              "      <th>6</th>\n",
              "      <td>2</td>\n",
              "      <td>Naranja Sweet</td>\n",
              "      <td>1326.50</td>\n",
              "    </tr>\n",
              "    <tr>\n",
              "      <th>7</th>\n",
              "      <td>2</td>\n",
              "      <td>Naranja Valencia</td>\n",
              "      <td>1326.50</td>\n",
              "    </tr>\n",
              "    <tr>\n",
              "      <th>8</th>\n",
              "      <td>3</td>\n",
              "      <td>Patilla</td>\n",
              "      <td>1025.50</td>\n",
              "    </tr>\n",
              "    <tr>\n",
              "      <th>9</th>\n",
              "      <td>3</td>\n",
              "      <td>Piña perolera</td>\n",
              "      <td>1108.75</td>\n",
              "    </tr>\n",
              "    <tr>\n",
              "      <th>10</th>\n",
              "      <td>3</td>\n",
              "      <td>Banano Uraba</td>\n",
              "      <td>1329.25</td>\n",
              "    </tr>\n",
              "    <tr>\n",
              "      <th>11</th>\n",
              "      <td>3</td>\n",
              "      <td>Naranja Valencia</td>\n",
              "      <td>1369.75</td>\n",
              "    </tr>\n",
              "    <tr>\n",
              "      <th>12</th>\n",
              "      <td>4</td>\n",
              "      <td>Piña perolera</td>\n",
              "      <td>980.00</td>\n",
              "    </tr>\n",
              "    <tr>\n",
              "      <th>13</th>\n",
              "      <td>4</td>\n",
              "      <td>Patilla</td>\n",
              "      <td>1023.75</td>\n",
              "    </tr>\n",
              "    <tr>\n",
              "      <th>14</th>\n",
              "      <td>4</td>\n",
              "      <td>Pera nacional</td>\n",
              "      <td>1255.75</td>\n",
              "    </tr>\n",
              "    <tr>\n",
              "      <th>15</th>\n",
              "      <td>4</td>\n",
              "      <td>Banano Uraba</td>\n",
              "      <td>1273.75</td>\n",
              "    </tr>\n",
              "    <tr>\n",
              "      <th>16</th>\n",
              "      <td>5</td>\n",
              "      <td>Piña perolera</td>\n",
              "      <td>1149.00</td>\n",
              "    </tr>\n",
              "    <tr>\n",
              "      <th>17</th>\n",
              "      <td>5</td>\n",
              "      <td>Patilla</td>\n",
              "      <td>1164.25</td>\n",
              "    </tr>\n",
              "    <tr>\n",
              "      <th>18</th>\n",
              "      <td>5</td>\n",
              "      <td>Pera nacional</td>\n",
              "      <td>1365.00</td>\n",
              "    </tr>\n",
              "    <tr>\n",
              "      <th>19</th>\n",
              "      <td>5</td>\n",
              "      <td>Banano Uraba</td>\n",
              "      <td>1373.75</td>\n",
              "    </tr>\n",
              "    <tr>\n",
              "      <th>20</th>\n",
              "      <td>6</td>\n",
              "      <td>Limón Tahiti</td>\n",
              "      <td>1090.25</td>\n",
              "    </tr>\n",
              "    <tr>\n",
              "      <th>21</th>\n",
              "      <td>6</td>\n",
              "      <td>Piña perolera</td>\n",
              "      <td>1154.50</td>\n",
              "    </tr>\n",
              "    <tr>\n",
              "      <th>22</th>\n",
              "      <td>6</td>\n",
              "      <td>Limón común</td>\n",
              "      <td>1225.25</td>\n",
              "    </tr>\n",
              "    <tr>\n",
              "      <th>23</th>\n",
              "      <td>6</td>\n",
              "      <td>Banano Uraba</td>\n",
              "      <td>1331.25</td>\n",
              "    </tr>\n",
              "    <tr>\n",
              "      <th>24</th>\n",
              "      <td>7</td>\n",
              "      <td>Piña perolera</td>\n",
              "      <td>1021.50</td>\n",
              "    </tr>\n",
              "    <tr>\n",
              "      <th>25</th>\n",
              "      <td>7</td>\n",
              "      <td>Limón Tahiti</td>\n",
              "      <td>1123.50</td>\n",
              "    </tr>\n",
              "    <tr>\n",
              "      <th>26</th>\n",
              "      <td>7</td>\n",
              "      <td>Limón común</td>\n",
              "      <td>1243.00</td>\n",
              "    </tr>\n",
              "    <tr>\n",
              "      <th>27</th>\n",
              "      <td>7</td>\n",
              "      <td>Naranja Sweet</td>\n",
              "      <td>1401.25</td>\n",
              "    </tr>\n",
              "    <tr>\n",
              "      <th>28</th>\n",
              "      <td>8</td>\n",
              "      <td>Piña perolera</td>\n",
              "      <td>1018.50</td>\n",
              "    </tr>\n",
              "    <tr>\n",
              "      <th>29</th>\n",
              "      <td>8</td>\n",
              "      <td>Naranja Sweet</td>\n",
              "      <td>1331.75</td>\n",
              "    </tr>\n",
              "    <tr>\n",
              "      <th>30</th>\n",
              "      <td>8</td>\n",
              "      <td>Naranja Valencia</td>\n",
              "      <td>1332.00</td>\n",
              "    </tr>\n",
              "    <tr>\n",
              "      <th>31</th>\n",
              "      <td>8</td>\n",
              "      <td>Guayaba pera</td>\n",
              "      <td>1402.00</td>\n",
              "    </tr>\n",
              "    <tr>\n",
              "      <th>32</th>\n",
              "      <td>9</td>\n",
              "      <td>Piña perolera</td>\n",
              "      <td>1141.25</td>\n",
              "    </tr>\n",
              "    <tr>\n",
              "      <th>33</th>\n",
              "      <td>9</td>\n",
              "      <td>Naranja Valencia</td>\n",
              "      <td>1283.50</td>\n",
              "    </tr>\n",
              "    <tr>\n",
              "      <th>34</th>\n",
              "      <td>9</td>\n",
              "      <td>Naranja Sweet</td>\n",
              "      <td>1284.00</td>\n",
              "    </tr>\n",
              "    <tr>\n",
              "      <th>35</th>\n",
              "      <td>9</td>\n",
              "      <td>Banano Uraba</td>\n",
              "      <td>1390.25</td>\n",
              "    </tr>\n",
              "    <tr>\n",
              "      <th>36</th>\n",
              "      <td>10</td>\n",
              "      <td>Piña perolera</td>\n",
              "      <td>1209.50</td>\n",
              "    </tr>\n",
              "    <tr>\n",
              "      <th>37</th>\n",
              "      <td>10</td>\n",
              "      <td>Naranja Valencia</td>\n",
              "      <td>1250.25</td>\n",
              "    </tr>\n",
              "    <tr>\n",
              "      <th>38</th>\n",
              "      <td>10</td>\n",
              "      <td>Naranja Sweet</td>\n",
              "      <td>1251.25</td>\n",
              "    </tr>\n",
              "    <tr>\n",
              "      <th>39</th>\n",
              "      <td>10</td>\n",
              "      <td>Banano Uraba</td>\n",
              "      <td>1321.25</td>\n",
              "    </tr>\n",
              "    <tr>\n",
              "      <th>40</th>\n",
              "      <td>11</td>\n",
              "      <td>Piña perolera</td>\n",
              "      <td>1188.25</td>\n",
              "    </tr>\n",
              "    <tr>\n",
              "      <th>41</th>\n",
              "      <td>11</td>\n",
              "      <td>Patilla</td>\n",
              "      <td>1217.75</td>\n",
              "    </tr>\n",
              "    <tr>\n",
              "      <th>42</th>\n",
              "      <td>11</td>\n",
              "      <td>Naranja Valencia</td>\n",
              "      <td>1260.50</td>\n",
              "    </tr>\n",
              "    <tr>\n",
              "      <th>43</th>\n",
              "      <td>11</td>\n",
              "      <td>Naranja Sweet</td>\n",
              "      <td>1260.75</td>\n",
              "    </tr>\n",
              "    <tr>\n",
              "      <th>44</th>\n",
              "      <td>12</td>\n",
              "      <td>Patilla</td>\n",
              "      <td>1156.50</td>\n",
              "    </tr>\n",
              "    <tr>\n",
              "      <th>45</th>\n",
              "      <td>12</td>\n",
              "      <td>Piña perolera</td>\n",
              "      <td>1223.75</td>\n",
              "    </tr>\n",
              "    <tr>\n",
              "      <th>46</th>\n",
              "      <td>12</td>\n",
              "      <td>Naranja Valencia</td>\n",
              "      <td>1337.75</td>\n",
              "    </tr>\n",
              "    <tr>\n",
              "      <th>47</th>\n",
              "      <td>12</td>\n",
              "      <td>Naranja Sweet</td>\n",
              "      <td>1339.50</td>\n",
              "    </tr>\n",
              "  </tbody>\n",
              "</table>\n",
              "</div>"
            ]
          },
          "metadata": {},
          "execution_count": 77
        }
      ]
    },
    {
      "cell_type": "code",
      "source": [
        "# Here we can\n",
        "sns.barplot(data=x, x=\"Fecha\", y=\"Precio KG\",hue=\"Producto\")"
      ],
      "metadata": {
        "id": "YDafMuv7orv3",
        "colab": {
          "base_uri": "https://localhost:8080/",
          "height": 466
        },
        "outputId": "be8fe351-79f7-45ac-86b2-92041d8673cb"
      },
      "execution_count": 78,
      "outputs": [
        {
          "output_type": "execute_result",
          "data": {
            "text/plain": [
              "<Axes: xlabel='Fecha', ylabel='Precio KG'>"
            ]
          },
          "metadata": {},
          "execution_count": 78
        },
        {
          "output_type": "display_data",
          "data": {
            "text/plain": [
              "<Figure size 640x480 with 1 Axes>"
            ],
            "image/png": "[encoded data removed]"
          },
          "metadata": {}
        }
      ]
    },
    {
      "cell_type": "code",
      "source": [
        "g = sns.catplot(data=x, kind=\"bar\",x=\"Fecha\", y=\"Precio KG\", hue=\"Producto\")\n"
      ],
      "metadata": {
        "id": "MR4zpZ3O-clZ"
      },
      "execution_count": null,
      "outputs": []
    },
    {
      "cell_type": "code",
      "source": [
        "g = sns.FacetGrid(x, col=\"Fecha\",col_wrap=4)\n",
        "g.map(sns.barplot,\"Producto\",\"Precio KG\")\n",
        "g.add_legend()\n",
        "g.set_xlabels(None)\n"
      ],
      "metadata": {
        "colab": {
          "base_uri": "https://localhost:8080/",
          "height": 959
        },
        "id": "DvLrU9DUu3mH",
        "outputId": "420ac80e-ff95-4a76-daaf-637514aeb700"
      },
      "execution_count": 140,
      "outputs": [
        {
          "output_type": "stream",
          "name": "stderr",
          "text": [
            "C:\\Users\\user\\anaconda3\\Lib\\site-packages\\seaborn\\axisgrid.py:712: UserWarning: Using the barplot function without specifying `order` is likely to produce an incorrect plot.\n",
            "  warnings.warn(warning)\n"
          ]
        },
        {
          "output_type": "execute_result",
          "data": {
            "text/plain": [
              "<seaborn.axisgrid.FacetGrid at 0x22e76e81ad0>"
            ]
          },
          "metadata": {},
          "execution_count": 140
        },
        {
          "output_type": "display_data",
          "data": {
            "text/plain": [
              "<Figure size 1211.11x900 with 12 Axes>"
            ],
            "image/png": "[encoded data removed]"
          },
          "metadata": {}
        }
      ]
    }
  ],
  "metadata": {
    "colab": {
      "provenance": [],
      "authorship_tag": "ABX9TyNA+OIMTM0u3DPx/9f0ToxR",
      "include_colab_link": true
    },
    "kernelspec": {
      "display_name": "Python 3",
      "name": "python3"
    },
    "language_info": {
      "name": "python"
    }
  },
  "nbformat": 4,
  "nbformat_minor": 0
}