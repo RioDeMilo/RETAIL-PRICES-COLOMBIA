{
  "cells": [
    {
      "cell_type": "markdown",
      "metadata": {
        "id": "view-in-github",
        "colab_type": "text"
      },
      "source": [
        "<a href=\"https://colab.research.google.com/github/RioDeMilo/RETAIL-PRICES-COLOMBIA/blob/main/IPC1823.ipynb\" target=\"_parent\"><img src=\"https://colab.research.google.com/assets/colab-badge.svg\" alt=\"Open In Colab\"/></a>"
      ]
    },
    {
      "cell_type": "code",
      "execution_count": 1,
      "metadata": {
        "id": "MDVyyn1qbkAk"
      },
      "outputs": [],
      "source": [
        "# Here it is all the libraries that i need in order to manage the data and to plot it `\n",
        "import scipy as sci\n",
        "import numpy as np\n",
        "import pandas as pd\n",
        "import matplotlib.pyplot as plt\n",
        "import seaborn as sns\n",
        "from scipy import stats\n",
        "from scipy.stats import linregress\n",
        "import matplotlib.dates as mdates"
      ]
    },
    {
      "cell_type": "code",
      "execution_count": 3,
      "metadata": {
        "id": "yZZH-lABb_n6"
      },
      "outputs": [],
      "source": [
        "# for this project i previously modified all the data from each year of analysis to a sngle sheet page in excel. \n",
        "df = pd.read_excel('Gropu19-22.xlsx')"
      ]
    },
    {
      "cell_type": "code",
      "execution_count": 4,
      "metadata": {
        "id": "_z_ML2YjgHVp"
      },
      "outputs": [],
      "source": [
        "# This will get you the specified sheet page for further use.\n",
        "# but for this case i used a excel file ith only one page so it is not necessary and you need to ad the datafrme and a dicttionary ith the name of the pages like\n",
        "# sheet_name=['Hoja1']\n",
        "#df = df.get('Hoja1')\n"
      ]
    },
    {
      "cell_type": "markdown",
      "source": [
        "# Data preparing\n",
        "### Now we want to specify wheter we want to plot a spicified type of product \n",
        "but we should be able to see what type of products are available for comparison\n",
        "\n",
        "```\n",
        "# Tiene formato de código\n",
        "```\n",
        "\n"
      ],
      "metadata": {
        "id": "uQAZ4lrc6J16"
      }
    },
    {
      "cell_type": "code",
      "execution_count": 5,
      "metadata": {
        "id": "gFuIqz_ogZBY",
        "colab": {
          "base_uri": "https://localhost:8080/",
          "height": 424
        },
        "outputId": "412a9282-bac2-4041-da58-b23728b4b473"
      },
      "outputs": [
        {
          "output_type": "stream",
          "name": "stdout",
          "text": [
            "<class 'pandas.core.frame.DataFrame'>\n",
            "RangeIndex: 220517 entries, 0 to 220516\n",
            "Data columns (total 5 columns):\n",
            " #   Column                  Non-Null Count   Dtype         \n",
            "---  ------                  --------------   -----         \n",
            " 0   Fecha                   220517 non-null  datetime64[ns]\n",
            " 1   Grupo                   220517 non-null  object        \n",
            " 2   Producto                220517 non-null  object        \n",
            " 3   Fuente                  220517 non-null  object        \n",
            " 4   Precio  por kilogramo*  220517 non-null  float64       \n",
            "dtypes: datetime64[ns](1), float64(1), object(3)\n",
            "memory usage: 8.4+ MB\n"
          ]
        },
        {
          "output_type": "execute_result",
          "data": {
            "text/plain": [
              "       Fecha                  Grupo Producto                        Fuente  \\\n",
              "0 2019-01-01  VERDURAS Y HORTALIZAS   Acelga               Armenia, Mercar   \n",
              "1 2019-01-01  VERDURAS Y HORTALIZAS   Acelga  Barranquilla, Barranquillita   \n",
              "2 2019-01-01  VERDURAS Y HORTALIZAS   Acelga      Bogotá, D.C., Corabastos   \n",
              "3 2019-01-01  VERDURAS Y HORTALIZAS   Acelga    Bucaramanga, Centroabastos   \n",
              "4 2019-01-01  VERDURAS Y HORTALIZAS   Acelga         Chiquinquirá (Boyacá)   \n",
              "\n",
              "   Precio  por kilogramo*  \n",
              "0                  1065.0  \n",
              "1                  3000.0  \n",
              "2                   764.0  \n",
              "3                  1556.0  \n",
              "4                  1058.0  "
            ],
            "text/html": [
              "<div>\n",
              "<style scoped>\n",
              "    .dataframe tbody tr th:only-of-type {\n",
              "        vertical-align: middle;\n",
              "    }\n",
              "\n",
              "    .dataframe tbody tr th {\n",
              "        vertical-align: top;\n",
              "    }\n",
              "\n",
              "    .dataframe thead th {\n",
              "        text-align: right;\n",
              "    }\n",
              "</style>\n",
              "<table border=\"1\" class=\"dataframe\">\n",
              "  <thead>\n",
              "    <tr style=\"text-align: right;\">\n",
              "      <th></th>\n",
              "      <th>Fecha</th>\n",
              "      <th>Grupo</th>\n",
              "      <th>Producto</th>\n",
              "      <th>Fuente</th>\n",
              "      <th>Precio  por kilogramo*</th>\n",
              "    </tr>\n",
              "  </thead>\n",
              "  <tbody>\n",
              "    <tr>\n",
              "      <th>0</th>\n",
              "      <td>2019-01-01</td>\n",
              "      <td>VERDURAS Y HORTALIZAS</td>\n",
              "      <td>Acelga</td>\n",
              "      <td>Armenia, Mercar</td>\n",
              "      <td>1065.0</td>\n",
              "    </tr>\n",
              "    <tr>\n",
              "      <th>1</th>\n",
              "      <td>2019-01-01</td>\n",
              "      <td>VERDURAS Y HORTALIZAS</td>\n",
              "      <td>Acelga</td>\n",
              "      <td>Barranquilla, Barranquillita</td>\n",
              "      <td>3000.0</td>\n",
              "    </tr>\n",
              "    <tr>\n",
              "      <th>2</th>\n",
              "      <td>2019-01-01</td>\n",
              "      <td>VERDURAS Y HORTALIZAS</td>\n",
              "      <td>Acelga</td>\n",
              "      <td>Bogotá, D.C., Corabastos</td>\n",
              "      <td>764.0</td>\n",
              "    </tr>\n",
              "    <tr>\n",
              "      <th>3</th>\n",
              "      <td>2019-01-01</td>\n",
              "      <td>VERDURAS Y HORTALIZAS</td>\n",
              "      <td>Acelga</td>\n",
              "      <td>Bucaramanga, Centroabastos</td>\n",
              "      <td>1556.0</td>\n",
              "    </tr>\n",
              "    <tr>\n",
              "      <th>4</th>\n",
              "      <td>2019-01-01</td>\n",
              "      <td>VERDURAS Y HORTALIZAS</td>\n",
              "      <td>Acelga</td>\n",
              "      <td>Chiquinquirá (Boyacá)</td>\n",
              "      <td>1058.0</td>\n",
              "    </tr>\n",
              "  </tbody>\n",
              "</table>\n",
              "</div>"
            ]
          },
          "metadata": {},
          "execution_count": 5
        }
      ],
      "source": [
        "\n",
        "# typical use of .info() to get a general idea of what is the shape  of the data base look like\n",
        "# .head() will let you see a more friendly view in a excel way \n",
        "df.info()\n",
        "df.head()"
      ]
    },
    {
      "cell_type": "code",
      "source": [
        "df.rename(columns={\"Precio  por kilogramo*\": \"Precio KG\"}, inplace=True)"
      ],
      "metadata": {
        "id": "kpfXzoa6UTcf"
      },
      "execution_count": 6,
      "outputs": []
    },
    {
      "cell_type": "code",
      "execution_count": 7,
      "metadata": {
        "colab": {
          "base_uri": "https://localhost:8080/",
          "height": 237
        },
        "id": "OGepqBYps9Oa",
        "outputId": "511182d9-6845-41ee-866f-985847045229"
      },
      "outputs": [
        {
          "output_type": "execute_result",
          "data": {
            "text/plain": [
              "                            Grupo Producto                        Fuente  \\\n",
              "Fecha                                                                      \n",
              "2019-01-01  VERDURAS Y HORTALIZAS   Acelga               Armenia, Mercar   \n",
              "2019-01-01  VERDURAS Y HORTALIZAS   Acelga  Barranquilla, Barranquillita   \n",
              "2019-01-01  VERDURAS Y HORTALIZAS   Acelga      Bogotá, D.C., Corabastos   \n",
              "2019-01-01  VERDURAS Y HORTALIZAS   Acelga    Bucaramanga, Centroabastos   \n",
              "2019-01-01  VERDURAS Y HORTALIZAS   Acelga         Chiquinquirá (Boyacá)   \n",
              "\n",
              "            Precio KG  \n",
              "Fecha                  \n",
              "2019-01-01     1065.0  \n",
              "2019-01-01     3000.0  \n",
              "2019-01-01      764.0  \n",
              "2019-01-01     1556.0  \n",
              "2019-01-01     1058.0  "
            ],
            "text/html": [
              "<div>\n",
              "<style scoped>\n",
              "    .dataframe tbody tr th:only-of-type {\n",
              "        vertical-align: middle;\n",
              "    }\n",
              "\n",
              "    .dataframe tbody tr th {\n",
              "        vertical-align: top;\n",
              "    }\n",
              "\n",
              "    .dataframe thead th {\n",
              "        text-align: right;\n",
              "    }\n",
              "</style>\n",
              "<table border=\"1\" class=\"dataframe\">\n",
              "  <thead>\n",
              "    <tr style=\"text-align: right;\">\n",
              "      <th></th>\n",
              "      <th>Grupo</th>\n",
              "      <th>Producto</th>\n",
              "      <th>Fuente</th>\n",
              "      <th>Precio KG</th>\n",
              "    </tr>\n",
              "    <tr>\n",
              "      <th>Fecha</th>\n",
              "      <th></th>\n",
              "      <th></th>\n",
              "      <th></th>\n",
              "      <th></th>\n",
              "    </tr>\n",
              "  </thead>\n",
              "  <tbody>\n",
              "    <tr>\n",
              "      <th>2019-01-01</th>\n",
              "      <td>VERDURAS Y HORTALIZAS</td>\n",
              "      <td>Acelga</td>\n",
              "      <td>Armenia, Mercar</td>\n",
              "      <td>1065.0</td>\n",
              "    </tr>\n",
              "    <tr>\n",
              "      <th>2019-01-01</th>\n",
              "      <td>VERDURAS Y HORTALIZAS</td>\n",
              "      <td>Acelga</td>\n",
              "      <td>Barranquilla, Barranquillita</td>\n",
              "      <td>3000.0</td>\n",
              "    </tr>\n",
              "    <tr>\n",
              "      <th>2019-01-01</th>\n",
              "      <td>VERDURAS Y HORTALIZAS</td>\n",
              "      <td>Acelga</td>\n",
              "      <td>Bogotá, D.C., Corabastos</td>\n",
              "      <td>764.0</td>\n",
              "    </tr>\n",
              "    <tr>\n",
              "      <th>2019-01-01</th>\n",
              "      <td>VERDURAS Y HORTALIZAS</td>\n",
              "      <td>Acelga</td>\n",
              "      <td>Bucaramanga, Centroabastos</td>\n",
              "      <td>1556.0</td>\n",
              "    </tr>\n",
              "    <tr>\n",
              "      <th>2019-01-01</th>\n",
              "      <td>VERDURAS Y HORTALIZAS</td>\n",
              "      <td>Acelga</td>\n",
              "      <td>Chiquinquirá (Boyacá)</td>\n",
              "      <td>1058.0</td>\n",
              "    </tr>\n",
              "  </tbody>\n",
              "</table>\n",
              "</div>"
            ]
          },
          "metadata": {},
          "execution_count": 7
        }
      ],
      "source": [
        "# this is to set the 'Fecha' as the new index of the dataframe as it will mostly be a timeline analysis\n",
        "# the inplace=True will set this ne index as the definitive index changing it in the database\n",
        "df.set_index('Fecha', inplace=True)\n",
        "df.head()"
      ]
    },
    {
      "cell_type": "code",
      "execution_count": 8,
      "metadata": {
        "colab": {
          "base_uri": "https://localhost:8080/"
        },
        "id": "GjtLQzc59BAB",
        "outputId": "3644e206-cef0-4e80-e6b8-baaf9b99cf9e"
      },
      "outputs": [
        {
          "output_type": "execute_result",
          "data": {
            "text/plain": [
              "Grupo        0\n",
              "Producto     0\n",
              "Fuente       0\n",
              "Precio KG    0\n",
              "dtype: int64"
            ]
          },
          "metadata": {},
          "execution_count": 8
        }
      ],
      "source": [
        "# Here we can see that there are not null values in any of the columns\n",
        "# if there were any null values we should take them into consideration because it can affect later anaylsis an graphing\n",
        "pd.isnull(df).sum()"
      ]
    },
    {
      "cell_type": "code",
      "execution_count": 9,
      "metadata": {
        "colab": {
          "base_uri": "https://localhost:8080/"
        },
        "id": "_An0_OMngnF4",
        "outputId": "66097fe8-6c9f-4003-a669-f4a5f8c312ab"
      },
      "outputs": [
        {
          "output_type": "execute_result",
          "data": {
            "text/plain": [
              "Medellín, Central Mayorista de Antioquia       10154\n",
              "Bogotá, D.C., Corabastos                        8070\n",
              "Cúcuta, Cenabastos                              6865\n",
              "Villavicencio, CAV                              6383\n",
              "Ibagué, Plaza La 21                             6214\n",
              "                                               ...  \n",
              "Malambo, Atlantico                                46\n",
              "Malambo (Atlántico), Carnes y Carnes              23\n",
              "Ipiales (Nariño), Centro de Acopio                18\n",
              "San Gil (Santander), Panela                        4\n",
              "San Sebastián de Mariquita (Tolima), panela        3\n",
              "Name: Fuente, Length: 91, dtype: int64"
            ]
          },
          "metadata": {},
          "execution_count": 9
        }
      ],
      "source": [
        "# Here i'm seeing that the city is contained in the same column as the WHOLESALE center \n",
        "# we need to solve this after starting to gragh and do an analysis\n",
        "df['Fuente'].value_counts()"
      ]
    },
    {
      "cell_type": "code",
      "execution_count": 10,
      "metadata": {
        "id": "mCi2MZgyqAg2"
      },
      "outputs": [],
      "source": [
        "# the process of split the values that have both the city and the WHOLESALE market need to be in a independet column\n",
        "# but here you can see that there are values in the data base that have more than one comma that is dividing the values \n",
        "# bogota dc, corabastos should not have two commas only the comma that is differentiating it from a city and a market in the city\n",
        "# we want then to get only two columns and not three\n",
        "# i first used str.split but it split the string everytime that it find a comma\n",
        "# it's best to use str.rsplit as it will start from the end to find a delimeter\n",
        "df[['Ciudad','Plaza']] = df.Fuente.str.rsplit(',',n=1, expand = True)"
      ]
    },
    {
      "cell_type": "code",
      "execution_count": 11,
      "metadata": {
        "colab": {
          "base_uri": "https://localhost:8080/",
          "height": 237
        },
        "id": "lIID0qjlVrdq",
        "outputId": "b9ab453c-98fb-4492-f639-fdc9cab3ff24"
      },
      "outputs": [
        {
          "output_type": "execute_result",
          "data": {
            "text/plain": [
              "                            Grupo Producto                        Fuente  \\\n",
              "Fecha                                                                      \n",
              "2019-01-01  VERDURAS Y HORTALIZAS   Acelga               Armenia, Mercar   \n",
              "2019-01-01  VERDURAS Y HORTALIZAS   Acelga  Barranquilla, Barranquillita   \n",
              "2019-01-01  VERDURAS Y HORTALIZAS   Acelga      Bogotá, D.C., Corabastos   \n",
              "2019-01-01  VERDURAS Y HORTALIZAS   Acelga    Bucaramanga, Centroabastos   \n",
              "2019-01-01  VERDURAS Y HORTALIZAS   Acelga         Chiquinquirá (Boyacá)   \n",
              "\n",
              "            Precio KG                 Ciudad            Plaza  \n",
              "Fecha                                                          \n",
              "2019-01-01     1065.0                Armenia           Mercar  \n",
              "2019-01-01     3000.0           Barranquilla   Barranquillita  \n",
              "2019-01-01      764.0           Bogotá, D.C.       Corabastos  \n",
              "2019-01-01     1556.0            Bucaramanga    Centroabastos  \n",
              "2019-01-01     1058.0  Chiquinquirá (Boyacá)             None  "
            ],
            "text/html": [
              "<div>\n",
              "<style scoped>\n",
              "    .dataframe tbody tr th:only-of-type {\n",
              "        vertical-align: middle;\n",
              "    }\n",
              "\n",
              "    .dataframe tbody tr th {\n",
              "        vertical-align: top;\n",
              "    }\n",
              "\n",
              "    .dataframe thead th {\n",
              "        text-align: right;\n",
              "    }\n",
              "</style>\n",
              "<table border=\"1\" class=\"dataframe\">\n",
              "  <thead>\n",
              "    <tr style=\"text-align: right;\">\n",
              "      <th></th>\n",
              "      <th>Grupo</th>\n",
              "      <th>Producto</th>\n",
              "      <th>Fuente</th>\n",
              "      <th>Precio KG</th>\n",
              "      <th>Ciudad</th>\n",
              "      <th>Plaza</th>\n",
              "    </tr>\n",
              "    <tr>\n",
              "      <th>Fecha</th>\n",
              "      <th></th>\n",
              "      <th></th>\n",
              "      <th></th>\n",
              "      <th></th>\n",
              "      <th></th>\n",
              "      <th></th>\n",
              "    </tr>\n",
              "  </thead>\n",
              "  <tbody>\n",
              "    <tr>\n",
              "      <th>2019-01-01</th>\n",
              "      <td>VERDURAS Y HORTALIZAS</td>\n",
              "      <td>Acelga</td>\n",
              "      <td>Armenia, Mercar</td>\n",
              "      <td>1065.0</td>\n",
              "      <td>Armenia</td>\n",
              "      <td>Mercar</td>\n",
              "    </tr>\n",
              "    <tr>\n",
              "      <th>2019-01-01</th>\n",
              "      <td>VERDURAS Y HORTALIZAS</td>\n",
              "      <td>Acelga</td>\n",
              "      <td>Barranquilla, Barranquillita</td>\n",
              "      <td>3000.0</td>\n",
              "      <td>Barranquilla</td>\n",
              "      <td>Barranquillita</td>\n",
              "    </tr>\n",
              "    <tr>\n",
              "      <th>2019-01-01</th>\n",
              "      <td>VERDURAS Y HORTALIZAS</td>\n",
              "      <td>Acelga</td>\n",
              "      <td>Bogotá, D.C., Corabastos</td>\n",
              "      <td>764.0</td>\n",
              "      <td>Bogotá, D.C.</td>\n",
              "      <td>Corabastos</td>\n",
              "    </tr>\n",
              "    <tr>\n",
              "      <th>2019-01-01</th>\n",
              "      <td>VERDURAS Y HORTALIZAS</td>\n",
              "      <td>Acelga</td>\n",
              "      <td>Bucaramanga, Centroabastos</td>\n",
              "      <td>1556.0</td>\n",
              "      <td>Bucaramanga</td>\n",
              "      <td>Centroabastos</td>\n",
              "    </tr>\n",
              "    <tr>\n",
              "      <th>2019-01-01</th>\n",
              "      <td>VERDURAS Y HORTALIZAS</td>\n",
              "      <td>Acelga</td>\n",
              "      <td>Chiquinquirá (Boyacá)</td>\n",
              "      <td>1058.0</td>\n",
              "      <td>Chiquinquirá (Boyacá)</td>\n",
              "      <td>None</td>\n",
              "    </tr>\n",
              "  </tbody>\n",
              "</table>\n",
              "</div>"
            ]
          },
          "metadata": {},
          "execution_count": 11
        }
      ],
      "source": [
        "# in the star of the dataframe we can see that there are valuess that include the city but not the marketplace \n",
        "# it is important to take this into consideration\n",
        "df.head()\n"
      ]
    },
    {
      "cell_type": "code",
      "execution_count": 12,
      "metadata": {
        "colab": {
          "base_uri": "https://localhost:8080/"
        },
        "id": "qbPjCeThWBLp",
        "outputId": "c2c83911-47ab-4a81-cac4-408beab000a2"
      },
      "outputs": [
        {
          "output_type": "execute_result",
          "data": {
            "text/plain": [
              "Bogotá, D.C.                        18734\n",
              "Medellín                            15561\n",
              "Cali                                14576\n",
              "Barranquilla                         9971\n",
              "Cúcuta                               9715\n",
              "Pereira                              8878\n",
              "Bucaramanga                          8756\n",
              "Villavicencio                        6383\n",
              "Ibagué                               6214\n",
              "Valledupar                           5986\n",
              "Montería                             5959\n",
              "Armenia                              5921\n",
              "Popayán                              5647\n",
              "Palmira (Valle del Cauca)            5523\n",
              "Manizales                            5514\n",
              "Neiva                                5476\n",
              "Tuluá (Valle del Cauca)              5420\n",
              "Cartagena                            5350\n",
              "Sincelejo                            5249\n",
              "Pasto                                4864\n",
              "Tunja                                4837\n",
              "Cartago (Valle del Cauca)            4716\n",
              "Buenaventura (Valle del Cauca)       4320\n",
              "Pamplona (Norte de Santander)        4150\n",
              "Santa Marta (Magdalena)              3473\n",
              "Florencia (Caquetá)                  3226\n",
              "San Gil (Santander)                  2841\n",
              "Chiquinquirá (Boyacá)                2792\n",
              "Duitama (Boyacá)                     2764\n",
              "Yopal (Casanare)                     2730\n",
              "Arauca (Arauca)                      2684\n",
              "Ipiales (Nariño)                     2568\n",
              "Rionegro (Antioquia)                 2142\n",
              "Socorro (Santander)                  1923\n",
              "Sogamoso (Boyacá)                    1805\n",
              "Tibasosa (Boyacá)                    1619\n",
              "La Unión (Nariño)                    1389\n",
              "La Ceja (Antioquia)                  1256\n",
              "Túquerres (Nariño)                   1251\n",
              "Sonsón (Antioquia)                   1157\n",
              "Malambo (Atlántico)                  1067\n",
              "Marinilla (Antioquia)                1049\n",
              "Ubaté (Cundinamarca)                  856\n",
              "Santa Bárbara (Antioquia)             714\n",
              "Peñol (Antioquia)                     649\n",
              "San Vicente (Antioquia)               584\n",
              "El Santuario (Antioquia)              480\n",
              "El Carmen de Viboral (Antioquia)      380\n",
              "La Unión (Antioquia)                  192\n",
              "Caparrapí (Cundinamarca)              144\n",
              "Name: Ciudad, dtype: int64"
            ]
          },
          "metadata": {},
          "execution_count": 12
        }
      ],
      "source": [
        "# here we count every vale from 0 to 50 to see whether there is a city misspelled\n",
        "\n",
        "df.Ciudad.value_counts()[0:50]"
      ]
    },
    {
      "cell_type": "code",
      "source": [
        "# i droped the Fuente value as it will not give me any value since \n",
        "# you will need the city and maybe a specific WHOLESALE market called \"Plaza\"\n",
        "df = df.drop(['Fuente'],axis=1)\n",
        "# here you can confirm that the data base is still the same only without the \"Fuente\" Column\n",
        "df.head()"
      ],
      "metadata": {
        "colab": {
          "base_uri": "https://localhost:8080/",
          "height": 237
        },
        "id": "-WYc_HYI3SJT",
        "outputId": "9c7c5548-4c90-4503-8f7a-dc226ea33db7"
      },
      "execution_count": 13,
      "outputs": [
        {
          "output_type": "execute_result",
          "data": {
            "text/plain": [
              "                            Grupo Producto  Precio KG                 Ciudad  \\\n",
              "Fecha                                                                          \n",
              "2019-01-01  VERDURAS Y HORTALIZAS   Acelga     1065.0                Armenia   \n",
              "2019-01-01  VERDURAS Y HORTALIZAS   Acelga     3000.0           Barranquilla   \n",
              "2019-01-01  VERDURAS Y HORTALIZAS   Acelga      764.0           Bogotá, D.C.   \n",
              "2019-01-01  VERDURAS Y HORTALIZAS   Acelga     1556.0            Bucaramanga   \n",
              "2019-01-01  VERDURAS Y HORTALIZAS   Acelga     1058.0  Chiquinquirá (Boyacá)   \n",
              "\n",
              "                      Plaza  \n",
              "Fecha                        \n",
              "2019-01-01           Mercar  \n",
              "2019-01-01   Barranquillita  \n",
              "2019-01-01       Corabastos  \n",
              "2019-01-01    Centroabastos  \n",
              "2019-01-01             None  "
            ],
            "text/html": [
              "<div>\n",
              "<style scoped>\n",
              "    .dataframe tbody tr th:only-of-type {\n",
              "        vertical-align: middle;\n",
              "    }\n",
              "\n",
              "    .dataframe tbody tr th {\n",
              "        vertical-align: top;\n",
              "    }\n",
              "\n",
              "    .dataframe thead th {\n",
              "        text-align: right;\n",
              "    }\n",
              "</style>\n",
              "<table border=\"1\" class=\"dataframe\">\n",
              "  <thead>\n",
              "    <tr style=\"text-align: right;\">\n",
              "      <th></th>\n",
              "      <th>Grupo</th>\n",
              "      <th>Producto</th>\n",
              "      <th>Precio KG</th>\n",
              "      <th>Ciudad</th>\n",
              "      <th>Plaza</th>\n",
              "    </tr>\n",
              "    <tr>\n",
              "      <th>Fecha</th>\n",
              "      <th></th>\n",
              "      <th></th>\n",
              "      <th></th>\n",
              "      <th></th>\n",
              "      <th></th>\n",
              "    </tr>\n",
              "  </thead>\n",
              "  <tbody>\n",
              "    <tr>\n",
              "      <th>2019-01-01</th>\n",
              "      <td>VERDURAS Y HORTALIZAS</td>\n",
              "      <td>Acelga</td>\n",
              "      <td>1065.0</td>\n",
              "      <td>Armenia</td>\n",
              "      <td>Mercar</td>\n",
              "    </tr>\n",
              "    <tr>\n",
              "      <th>2019-01-01</th>\n",
              "      <td>VERDURAS Y HORTALIZAS</td>\n",
              "      <td>Acelga</td>\n",
              "      <td>3000.0</td>\n",
              "      <td>Barranquilla</td>\n",
              "      <td>Barranquillita</td>\n",
              "    </tr>\n",
              "    <tr>\n",
              "      <th>2019-01-01</th>\n",
              "      <td>VERDURAS Y HORTALIZAS</td>\n",
              "      <td>Acelga</td>\n",
              "      <td>764.0</td>\n",
              "      <td>Bogotá, D.C.</td>\n",
              "      <td>Corabastos</td>\n",
              "    </tr>\n",
              "    <tr>\n",
              "      <th>2019-01-01</th>\n",
              "      <td>VERDURAS Y HORTALIZAS</td>\n",
              "      <td>Acelga</td>\n",
              "      <td>1556.0</td>\n",
              "      <td>Bucaramanga</td>\n",
              "      <td>Centroabastos</td>\n",
              "    </tr>\n",
              "    <tr>\n",
              "      <th>2019-01-01</th>\n",
              "      <td>VERDURAS Y HORTALIZAS</td>\n",
              "      <td>Acelga</td>\n",
              "      <td>1058.0</td>\n",
              "      <td>Chiquinquirá (Boyacá)</td>\n",
              "      <td>None</td>\n",
              "    </tr>\n",
              "  </tbody>\n",
              "</table>\n",
              "</div>"
            ]
          },
          "metadata": {},
          "execution_count": 13
        }
      ]
    },
    {
      "cell_type": "code",
      "execution_count": 14,
      "metadata": {
        "colab": {
          "base_uri": "https://localhost:8080/"
        },
        "id": "PghdOeyRv-fN",
        "outputId": "76f19f6d-f6be-417a-8826-92bd69c8f597"
      },
      "outputs": [
        {
          "output_type": "execute_result",
          "data": {
            "text/plain": [
              "FRUTAS                           53015\n",
              "VERDURAS Y HORTALIZAS            43664\n",
              "CARNES                           32565\n",
              "PROCESADOS                       32080\n",
              "TUBERCULOS, RAICES Y PLATANOS    16948\n",
              "GRANOS Y CEREALES                13366\n",
              "PESCADOS                         10352\n",
              "LACTEOS Y HUEVOS                  9418\n",
              "Frutas                            2261\n",
              "Verduras y Hortalizas             1893\n",
              "Carnes                            1429\n",
              "Procesados                        1387\n",
              "Tubérculos, Raíces y Plátanos      704\n",
              "Granos y Cereales                  578\n",
              "Pescados                           448\n",
              "Lácteos y Huevos                   409\n",
              "Name: Grupo, dtype: int64"
            ]
          },
          "metadata": {},
          "execution_count": 14
        }
      ],
      "source": [
        "# this is another part of the data cleaning and filtering \n",
        "#we see duplicates with differences in the upper letters\n",
        "df['Grupo'].value_counts()\n"
      ]
    },
    {
      "cell_type": "code",
      "source": [
        "# as you can see the str.lower will change all the \n",
        "# upper letters for lower case\n",
        "df['Grupo'] = df['Grupo'].str.lower()\n",
        "\n",
        "df['Grupo'].value_counts()"
      ],
      "metadata": {
        "id": "g8vrV1LG5DHW",
        "colab": {
          "base_uri": "https://localhost:8080/"
        },
        "outputId": "954ed4e0-29cb-4cb8-d761-e012c12bfdd8"
      },
      "execution_count": 15,
      "outputs": [
        {
          "output_type": "execute_result",
          "data": {
            "text/plain": [
              "frutas                           55276\n",
              "verduras y hortalizas            45557\n",
              "carnes                           33994\n",
              "procesados                       33467\n",
              "tuberculos, raices y platanos    16948\n",
              "granos y cereales                13944\n",
              "pescados                         10800\n",
              "lacteos y huevos                  9418\n",
              "tubérculos, raíces y plátanos      704\n",
              "lácteos y huevos                   409\n",
              "Name: Grupo, dtype: int64"
            ]
          },
          "metadata": {},
          "execution_count": 15
        }
      ]
    },
    {
      "cell_type": "code",
      "source": [
        "# you can se the dict of values that i'm going to replce with the .replace function\n",
        "dic = {'é': 'e', 'í': 'i','á':'a'}"
      ],
      "metadata": {
        "id": "ZlpN9kfkc2Nw"
      },
      "execution_count": 16,
      "outputs": []
    },
    {
      "cell_type": "code",
      "source": [
        "df.replace(dic, regex=True, inplace=True)"
      ],
      "metadata": {
        "id": "9NEYYOf6fVd6"
      },
      "execution_count": 17,
      "outputs": []
    },
    {
      "cell_type": "code",
      "source": [
        "df['Grupo'].value_counts()"
      ],
      "metadata": {
        "colab": {
          "base_uri": "https://localhost:8080/"
        },
        "id": "BOcV8jCoeSUr",
        "outputId": "02a542b2-3e16-4111-f3ab-09a24c9d7057"
      },
      "execution_count": 18,
      "outputs": [
        {
          "output_type": "execute_result",
          "data": {
            "text/plain": [
              "frutas                           55276\n",
              "verduras y hortalizas            45557\n",
              "carnes                           33994\n",
              "procesados                       33467\n",
              "tuberculos, raices y platanos    17652\n",
              "granos y cereales                13944\n",
              "pescados                         10800\n",
              "lacteos y huevos                  9827\n",
              "Name: Grupo, dtype: int64"
            ]
          },
          "metadata": {},
          "execution_count": 18
        }
      ]
    },
    {
      "cell_type": "code",
      "source": [
        "# now we need to see wheter there may be other values such as ó or ú \n",
        "# for this we need to analyse the other types of products from each category \n",
        "# but instead we will find this values and if it exists in the data base\n",
        "# if those values exists we will addd them to the dictionary to then replace them and get an homogeneus list\n"
      ],
      "metadata": {
        "id": "e9SfYgpIfhyB"
      },
      "execution_count": 19,
      "outputs": []
    },
    {
      "cell_type": "code",
      "source": [
        "# Thiss code reveal that there are no ó or ú in the data base that need to be replaced\n",
        "# Then the code above of .replace wwill work just fine\n",
        "### remember to add a list for ú and ó too\n",
        "df['Grupo'].str.count('ú').sum()\n"
      ],
      "metadata": {
        "colab": {
          "base_uri": "https://localhost:8080/"
        },
        "id": "IiS3-0AQ-E_Z",
        "outputId": "7efdb8a1-e80d-4eb1-bf86-9daad3ffcc23"
      },
      "execution_count": 20,
      "outputs": [
        {
          "output_type": "execute_result",
          "data": {
            "text/plain": [
              "0"
            ]
          },
          "metadata": {},
          "execution_count": 20
        }
      ]
    },
    {
      "cell_type": "code",
      "source": [
        "df['Ciudad'].value_counts()[0:50]"
      ],
      "metadata": {
        "colab": {
          "base_uri": "https://localhost:8080/"
        },
        "id": "zB4d2UjvSsiT",
        "outputId": "fc907f31-b5e4-4fa4-9e45-b1ca51a47ea4"
      },
      "execution_count": 21,
      "outputs": [
        {
          "output_type": "execute_result",
          "data": {
            "text/plain": [
              "Bogota, D.C.                        18734\n",
              "Medellin                            15561\n",
              "Cali                                14576\n",
              "Barranquilla                         9971\n",
              "Cúcuta                               9715\n",
              "Pereira                              8878\n",
              "Bucaramanga                          8756\n",
              "Villavicencio                        6383\n",
              "Ibague                               6214\n",
              "Valledupar                           5986\n",
              "Monteria                             5959\n",
              "Armenia                              5921\n",
              "Popayan                              5647\n",
              "Palmira (Valle del Cauca)            5523\n",
              "Manizales                            5514\n",
              "Neiva                                5476\n",
              "Tulua (Valle del Cauca)              5420\n",
              "Cartagena                            5350\n",
              "Sincelejo                            5249\n",
              "Pasto                                4864\n",
              "Tunja                                4837\n",
              "Cartago (Valle del Cauca)            4716\n",
              "Buenaventura (Valle del Cauca)       4320\n",
              "Pamplona (Norte de Santander)        4150\n",
              "Santa Marta (Magdalena)              3473\n",
              "Florencia (Caqueta)                  3226\n",
              "San Gil (Santander)                  2841\n",
              "Chiquinquira (Boyaca)                2792\n",
              "Duitama (Boyaca)                     2764\n",
              "Yopal (Casanare)                     2730\n",
              "Arauca (Arauca)                      2684\n",
              "Ipiales (Nariño)                     2568\n",
              "Rionegro (Antioquia)                 2142\n",
              "Socorro (Santander)                  1923\n",
              "Sogamoso (Boyaca)                    1805\n",
              "Tibasosa (Boyaca)                    1619\n",
              "La Unión (Nariño)                    1389\n",
              "La Ceja (Antioquia)                  1256\n",
              "Túquerres (Nariño)                   1251\n",
              "Sonsón (Antioquia)                   1157\n",
              "Malambo (Atlantico)                  1067\n",
              "Marinilla (Antioquia)                1049\n",
              "Ubate (Cundinamarca)                  856\n",
              "Santa Barbara (Antioquia)             714\n",
              "Peñol (Antioquia)                     649\n",
              "San Vicente (Antioquia)               584\n",
              "El Santuario (Antioquia)              480\n",
              "El Carmen de Viboral (Antioquia)      380\n",
              "La Unión (Antioquia)                  192\n",
              "Caparrapi (Cundinamarca)              144\n",
              "Name: Ciudad, dtype: int64"
            ]
          },
          "metadata": {},
          "execution_count": 21
        }
      ]
    },
    {
      "cell_type": "code",
      "source": [
        "# here you can write the dicttionary if you would like to select multiple cities \n",
        "C = ['Bogota, D.C.']\n",
        "df2 = df[df['Grupo'].isin(C)]\n"
      ],
      "metadata": {
        "id": "e50gjgdYTwA2"
      },
      "execution_count": 22,
      "outputs": []
    },
    {
      "cell_type": "code",
      "source": [
        "# here i replace the tring with a value o it is more easy to get values and analyze them witouth touching the principal code\n",
        "# here noww e dont acll the list inide the iin function\n",
        "# instead i used a vaariable to store a list that caaan containt all the types of groups of goods\n",
        "G = ['frutas']\n",
        "df2 = df[df['Grupo'].isin(G)]\n",
        "df2['Producto'].value_counts()[0:30]"
      ],
      "metadata": {
        "colab": {
          "base_uri": "https://localhost:8080/"
        },
        "id": "nswbtL0SQddR",
        "outputId": "46e20fe5-09c4-46cb-98af-aa7de94e5dd9"
      },
      "execution_count": 23,
      "outputs": [
        {
          "output_type": "execute_result",
          "data": {
            "text/plain": [
              "Tomate de arbol                 2262\n",
              "Manzana verde importada         1848\n",
              "Lulo                            1830\n",
              "Mora de Castilla                1806\n",
              "Manzana roja importada          1760\n",
              "Guayaba pera                    1721\n",
              "Banano criollo                  1709\n",
              "Pera importada                  1606\n",
              "Papaya Maradol                  1597\n",
              "Manzana royal gala importada    1565\n",
              "Maracuya                        1546\n",
              "Aguacate papelillo              1533\n",
              "Mango Tommy                     1521\n",
              "Limón Tahiti                    1444\n",
              "Limón común                     1404\n",
              "Granadilla                      1347\n",
              "Uva Isabela                     1328\n",
              "Piña gold                       1309\n",
              "Melón Cantalup                  1254\n",
              "Naranja Valencia                1231\n",
              "Patilla                         1188\n",
              "Guanabana                       1183\n",
              "Fresa                           1172\n",
              "Curuba                          1101\n",
              "Kiwi                            1067\n",
              "Uva red globe nacional           880\n",
              "Piña perolera                    832\n",
              "Mandarina Arrayana               798\n",
              "Mandarina común                  759\n",
              "Coco                             707\n",
              "Name: Producto, dtype: int64"
            ]
          },
          "metadata": {},
          "execution_count": 23
        }
      ]
    },
    {
      "cell_type": "code",
      "source": [
        "P = ['Coco']\n",
        "dfp = df2[df2[\"Producto\"].isin(P)]\n",
        "dfpc = df2[(df2[\"Producto\"].isin(P)) & (df2['Ciudad'].isin(C))]"
      ],
      "metadata": {
        "id": "qMRMxCZYLTE8"
      },
      "execution_count": 24,
      "outputs": []
    },
    {
      "cell_type": "code",
      "source": [
        "dfpc"
      ],
      "metadata": {
        "colab": {
          "base_uri": "https://localhost:8080/",
          "height": 1000
        },
        "id": "VQvdbKwNXNue",
        "outputId": "ad47aac6-9749-4247-a5fd-c5623b074ad6"
      },
      "execution_count": 25,
      "outputs": [
        {
          "output_type": "execute_result",
          "data": {
            "text/plain": [
              "             Grupo Producto  Precio KG        Ciudad        Plaza\n",
              "Fecha                                                            \n",
              "2019-01-01  frutas     Coco     3012.0  Bogota, D.C.   Corabastos\n",
              "2019-02-01  frutas     Coco     3303.0  Bogota, D.C.   Corabastos\n",
              "2019-03-01  frutas     Coco     3314.0  Bogota, D.C.   Corabastos\n",
              "2019-04-01  frutas     Coco     3327.0  Bogota, D.C.   Corabastos\n",
              "2019-05-01  frutas     Coco     3621.0  Bogota, D.C.   Corabastos\n",
              "2019-06-01  frutas     Coco     3748.0  Bogota, D.C.   Corabastos\n",
              "2019-07-01  frutas     Coco     3743.0  Bogota, D.C.   Corabastos\n",
              "2019-08-01  frutas     Coco     3743.0  Bogota, D.C.   Corabastos\n",
              "2019-09-01  frutas     Coco     3732.0  Bogota, D.C.   Corabastos\n",
              "2019-10-01  frutas     Coco     3727.0  Bogota, D.C.   Corabastos\n",
              "2019-11-01  frutas     Coco     3730.0  Bogota, D.C.   Corabastos\n",
              "2019-12-01  frutas     Coco     3737.0  Bogota, D.C.   Corabastos\n",
              "2020-01-01  frutas     Coco     3727.0  Bogota, D.C.   Corabastos\n",
              "2020-02-01  frutas     Coco     3721.0  Bogota, D.C.   Corabastos\n",
              "2020-03-01  frutas     Coco     3729.0  Bogota, D.C.   Corabastos\n",
              "2020-04-01  frutas     Coco     3727.0  Bogota, D.C.   Corabastos\n",
              "2020-05-01  frutas     Coco     3721.0  Bogota, D.C.   Corabastos\n",
              "2020-06-01  frutas     Coco     3728.0  Bogota, D.C.   Corabastos\n",
              "2020-07-01  frutas     Coco     3729.0  Bogota, D.C.   Corabastos\n",
              "2020-08-01  frutas     Coco     3726.0  Bogota, D.C.   Corabastos\n",
              "2020-09-01  frutas     Coco     4001.0  Bogota, D.C.   Corabastos\n",
              "2020-10-01  frutas     Coco     4334.0  Bogota, D.C.   Corabastos\n",
              "2020-11-01  frutas     Coco     4163.0  Bogota, D.C.   Corabastos\n",
              "2020-12-01  frutas     Coco     4097.0  Bogota, D.C.   Corabastos\n",
              "2021-01-01  frutas     Coco     3934.0  Bogota, D.C.   Corabastos\n",
              "2021-02-01  frutas     Coco     3874.0  Bogota, D.C.   Corabastos\n",
              "2021-03-01  frutas     Coco     3838.0  Bogota, D.C.   Corabastos\n",
              "2021-04-01  frutas     Coco     3826.0  Bogota, D.C.   Corabastos\n",
              "2021-05-01  frutas     Coco     3866.0  Bogota, D.C.   Corabastos\n",
              "2021-06-01  frutas     Coco     3913.0  Bogota, D.C.   Corabastos\n",
              "2021-07-01  frutas     Coco     3858.0  Bogota, D.C.   Corabastos\n",
              "2021-08-01  frutas     Coco     3800.0  Bogota, D.C.   Corabastos\n",
              "2021-09-01  frutas     Coco     3782.0  Bogota, D.C.   Corabastos\n",
              "2021-10-01  frutas     Coco     3791.0  Bogota, D.C.   Corabastos\n",
              "2021-11-01  frutas     Coco     3920.0  Bogota, D.C.   Corabastos\n",
              "2021-12-01  frutas     Coco     3927.0  Bogota, D.C.   Corabastos\n",
              "2022-01-01  frutas     Coco     3890.0  Bogota, D.C.   Corabastos\n",
              "2022-02-01  frutas     Coco     3882.0  Bogota, D.C.   Corabastos\n",
              "2022-03-01  frutas     Coco     3880.0  Bogota, D.C.   Corabastos\n",
              "2022-04-01  frutas     Coco     3851.0  Bogota, D.C.   Corabastos\n",
              "2022-05-01  frutas     Coco     3875.0  Bogota, D.C.   Corabastos\n",
              "2022-06-01  frutas     Coco     3856.0  Bogota, D.C.   Corabastos\n",
              "2022-07-01  frutas     Coco     3858.0  Bogota, D.C.   Corabastos\n",
              "2022-08-01  frutas     Coco     3820.0  Bogota, D.C.   Corabastos\n",
              "2022-09-01  frutas     Coco     3829.0  Bogota, D.C.   Corabastos\n",
              "2022-10-01  frutas     Coco     3850.0  Bogota, D.C.   Corabastos\n",
              "2022-11-01  frutas     Coco     3893.0  Bogota, D.C.   Corabastos\n",
              "2022-12-01  frutas     Coco     3851.0  Bogota, D.C.   Corabastos"
            ],
            "text/html": [
              "<div>\n",
              "<style scoped>\n",
              "    .dataframe tbody tr th:only-of-type {\n",
              "        vertical-align: middle;\n",
              "    }\n",
              "\n",
              "    .dataframe tbody tr th {\n",
              "        vertical-align: top;\n",
              "    }\n",
              "\n",
              "    .dataframe thead th {\n",
              "        text-align: right;\n",
              "    }\n",
              "</style>\n",
              "<table border=\"1\" class=\"dataframe\">\n",
              "  <thead>\n",
              "    <tr style=\"text-align: right;\">\n",
              "      <th></th>\n",
              "      <th>Grupo</th>\n",
              "      <th>Producto</th>\n",
              "      <th>Precio KG</th>\n",
              "      <th>Ciudad</th>\n",
              "      <th>Plaza</th>\n",
              "    </tr>\n",
              "    <tr>\n",
              "      <th>Fecha</th>\n",
              "      <th></th>\n",
              "      <th></th>\n",
              "      <th></th>\n",
              "      <th></th>\n",
              "      <th></th>\n",
              "    </tr>\n",
              "  </thead>\n",
              "  <tbody>\n",
              "    <tr>\n",
              "      <th>2019-01-01</th>\n",
              "      <td>frutas</td>\n",
              "      <td>Coco</td>\n",
              "      <td>3012.0</td>\n",
              "      <td>Bogota, D.C.</td>\n",
              "      <td>Corabastos</td>\n",
              "    </tr>\n",
              "    <tr>\n",
              "      <th>2019-02-01</th>\n",
              "      <td>frutas</td>\n",
              "      <td>Coco</td>\n",
              "      <td>3303.0</td>\n",
              "      <td>Bogota, D.C.</td>\n",
              "      <td>Corabastos</td>\n",
              "    </tr>\n",
              "    <tr>\n",
              "      <th>2019-03-01</th>\n",
              "      <td>frutas</td>\n",
              "      <td>Coco</td>\n",
              "      <td>3314.0</td>\n",
              "      <td>Bogota, D.C.</td>\n",
              "      <td>Corabastos</td>\n",
              "    </tr>\n",
              "    <tr>\n",
              "      <th>2019-04-01</th>\n",
              "      <td>frutas</td>\n",
              "      <td>Coco</td>\n",
              "      <td>3327.0</td>\n",
              "      <td>Bogota, D.C.</td>\n",
              "      <td>Corabastos</td>\n",
              "    </tr>\n",
              "    <tr>\n",
              "      <th>2019-05-01</th>\n",
              "      <td>frutas</td>\n",
              "      <td>Coco</td>\n",
              "      <td>3621.0</td>\n",
              "      <td>Bogota, D.C.</td>\n",
              "      <td>Corabastos</td>\n",
              "    </tr>\n",
              "    <tr>\n",
              "      <th>2019-06-01</th>\n",
              "      <td>frutas</td>\n",
              "      <td>Coco</td>\n",
              "      <td>3748.0</td>\n",
              "      <td>Bogota, D.C.</td>\n",
              "      <td>Corabastos</td>\n",
              "    </tr>\n",
              "    <tr>\n",
              "      <th>2019-07-01</th>\n",
              "      <td>frutas</td>\n",
              "      <td>Coco</td>\n",
              "      <td>3743.0</td>\n",
              "      <td>Bogota, D.C.</td>\n",
              "      <td>Corabastos</td>\n",
              "    </tr>\n",
              "    <tr>\n",
              "      <th>2019-08-01</th>\n",
              "      <td>frutas</td>\n",
              "      <td>Coco</td>\n",
              "      <td>3743.0</td>\n",
              "      <td>Bogota, D.C.</td>\n",
              "      <td>Corabastos</td>\n",
              "    </tr>\n",
              "    <tr>\n",
              "      <th>2019-09-01</th>\n",
              "      <td>frutas</td>\n",
              "      <td>Coco</td>\n",
              "      <td>3732.0</td>\n",
              "      <td>Bogota, D.C.</td>\n",
              "      <td>Corabastos</td>\n",
              "    </tr>\n",
              "    <tr>\n",
              "      <th>2019-10-01</th>\n",
              "      <td>frutas</td>\n",
              "      <td>Coco</td>\n",
              "      <td>3727.0</td>\n",
              "      <td>Bogota, D.C.</td>\n",
              "      <td>Corabastos</td>\n",
              "    </tr>\n",
              "    <tr>\n",
              "      <th>2019-11-01</th>\n",
              "      <td>frutas</td>\n",
              "      <td>Coco</td>\n",
              "      <td>3730.0</td>\n",
              "      <td>Bogota, D.C.</td>\n",
              "      <td>Corabastos</td>\n",
              "    </tr>\n",
              "    <tr>\n",
              "      <th>2019-12-01</th>\n",
              "      <td>frutas</td>\n",
              "      <td>Coco</td>\n",
              "      <td>3737.0</td>\n",
              "      <td>Bogota, D.C.</td>\n",
              "      <td>Corabastos</td>\n",
              "    </tr>\n",
              "    <tr>\n",
              "      <th>2020-01-01</th>\n",
              "      <td>frutas</td>\n",
              "      <td>Coco</td>\n",
              "      <td>3727.0</td>\n",
              "      <td>Bogota, D.C.</td>\n",
              "      <td>Corabastos</td>\n",
              "    </tr>\n",
              "    <tr>\n",
              "      <th>2020-02-01</th>\n",
              "      <td>frutas</td>\n",
              "      <td>Coco</td>\n",
              "      <td>3721.0</td>\n",
              "      <td>Bogota, D.C.</td>\n",
              "      <td>Corabastos</td>\n",
              "    </tr>\n",
              "    <tr>\n",
              "      <th>2020-03-01</th>\n",
              "      <td>frutas</td>\n",
              "      <td>Coco</td>\n",
              "      <td>3729.0</td>\n",
              "      <td>Bogota, D.C.</td>\n",
              "      <td>Corabastos</td>\n",
              "    </tr>\n",
              "    <tr>\n",
              "      <th>2020-04-01</th>\n",
              "      <td>frutas</td>\n",
              "      <td>Coco</td>\n",
              "      <td>3727.0</td>\n",
              "      <td>Bogota, D.C.</td>\n",
              "      <td>Corabastos</td>\n",
              "    </tr>\n",
              "    <tr>\n",
              "      <th>2020-05-01</th>\n",
              "      <td>frutas</td>\n",
              "      <td>Coco</td>\n",
              "      <td>3721.0</td>\n",
              "      <td>Bogota, D.C.</td>\n",
              "      <td>Corabastos</td>\n",
              "    </tr>\n",
              "    <tr>\n",
              "      <th>2020-06-01</th>\n",
              "      <td>frutas</td>\n",
              "      <td>Coco</td>\n",
              "      <td>3728.0</td>\n",
              "      <td>Bogota, D.C.</td>\n",
              "      <td>Corabastos</td>\n",
              "    </tr>\n",
              "    <tr>\n",
              "      <th>2020-07-01</th>\n",
              "      <td>frutas</td>\n",
              "      <td>Coco</td>\n",
              "      <td>3729.0</td>\n",
              "      <td>Bogota, D.C.</td>\n",
              "      <td>Corabastos</td>\n",
              "    </tr>\n",
              "    <tr>\n",
              "      <th>2020-08-01</th>\n",
              "      <td>frutas</td>\n",
              "      <td>Coco</td>\n",
              "      <td>3726.0</td>\n",
              "      <td>Bogota, D.C.</td>\n",
              "      <td>Corabastos</td>\n",
              "    </tr>\n",
              "    <tr>\n",
              "      <th>2020-09-01</th>\n",
              "      <td>frutas</td>\n",
              "      <td>Coco</td>\n",
              "      <td>4001.0</td>\n",
              "      <td>Bogota, D.C.</td>\n",
              "      <td>Corabastos</td>\n",
              "    </tr>\n",
              "    <tr>\n",
              "      <th>2020-10-01</th>\n",
              "      <td>frutas</td>\n",
              "      <td>Coco</td>\n",
              "      <td>4334.0</td>\n",
              "      <td>Bogota, D.C.</td>\n",
              "      <td>Corabastos</td>\n",
              "    </tr>\n",
              "    <tr>\n",
              "      <th>2020-11-01</th>\n",
              "      <td>frutas</td>\n",
              "      <td>Coco</td>\n",
              "      <td>4163.0</td>\n",
              "      <td>Bogota, D.C.</td>\n",
              "      <td>Corabastos</td>\n",
              "    </tr>\n",
              "    <tr>\n",
              "      <th>2020-12-01</th>\n",
              "      <td>frutas</td>\n",
              "      <td>Coco</td>\n",
              "      <td>4097.0</td>\n",
              "      <td>Bogota, D.C.</td>\n",
              "      <td>Corabastos</td>\n",
              "    </tr>\n",
              "    <tr>\n",
              "      <th>2021-01-01</th>\n",
              "      <td>frutas</td>\n",
              "      <td>Coco</td>\n",
              "      <td>3934.0</td>\n",
              "      <td>Bogota, D.C.</td>\n",
              "      <td>Corabastos</td>\n",
              "    </tr>\n",
              "    <tr>\n",
              "      <th>2021-02-01</th>\n",
              "      <td>frutas</td>\n",
              "      <td>Coco</td>\n",
              "      <td>3874.0</td>\n",
              "      <td>Bogota, D.C.</td>\n",
              "      <td>Corabastos</td>\n",
              "    </tr>\n",
              "    <tr>\n",
              "      <th>2021-03-01</th>\n",
              "      <td>frutas</td>\n",
              "      <td>Coco</td>\n",
              "      <td>3838.0</td>\n",
              "      <td>Bogota, D.C.</td>\n",
              "      <td>Corabastos</td>\n",
              "    </tr>\n",
              "    <tr>\n",
              "      <th>2021-04-01</th>\n",
              "      <td>frutas</td>\n",
              "      <td>Coco</td>\n",
              "      <td>3826.0</td>\n",
              "      <td>Bogota, D.C.</td>\n",
              "      <td>Corabastos</td>\n",
              "    </tr>\n",
              "    <tr>\n",
              "      <th>2021-05-01</th>\n",
              "      <td>frutas</td>\n",
              "      <td>Coco</td>\n",
              "      <td>3866.0</td>\n",
              "      <td>Bogota, D.C.</td>\n",
              "      <td>Corabastos</td>\n",
              "    </tr>\n",
              "    <tr>\n",
              "      <th>2021-06-01</th>\n",
              "      <td>frutas</td>\n",
              "      <td>Coco</td>\n",
              "      <td>3913.0</td>\n",
              "      <td>Bogota, D.C.</td>\n",
              "      <td>Corabastos</td>\n",
              "    </tr>\n",
              "    <tr>\n",
              "      <th>2021-07-01</th>\n",
              "      <td>frutas</td>\n",
              "      <td>Coco</td>\n",
              "      <td>3858.0</td>\n",
              "      <td>Bogota, D.C.</td>\n",
              "      <td>Corabastos</td>\n",
              "    </tr>\n",
              "    <tr>\n",
              "      <th>2021-08-01</th>\n",
              "      <td>frutas</td>\n",
              "      <td>Coco</td>\n",
              "      <td>3800.0</td>\n",
              "      <td>Bogota, D.C.</td>\n",
              "      <td>Corabastos</td>\n",
              "    </tr>\n",
              "    <tr>\n",
              "      <th>2021-09-01</th>\n",
              "      <td>frutas</td>\n",
              "      <td>Coco</td>\n",
              "      <td>3782.0</td>\n",
              "      <td>Bogota, D.C.</td>\n",
              "      <td>Corabastos</td>\n",
              "    </tr>\n",
              "    <tr>\n",
              "      <th>2021-10-01</th>\n",
              "      <td>frutas</td>\n",
              "      <td>Coco</td>\n",
              "      <td>3791.0</td>\n",
              "      <td>Bogota, D.C.</td>\n",
              "      <td>Corabastos</td>\n",
              "    </tr>\n",
              "    <tr>\n",
              "      <th>2021-11-01</th>\n",
              "      <td>frutas</td>\n",
              "      <td>Coco</td>\n",
              "      <td>3920.0</td>\n",
              "      <td>Bogota, D.C.</td>\n",
              "      <td>Corabastos</td>\n",
              "    </tr>\n",
              "    <tr>\n",
              "      <th>2021-12-01</th>\n",
              "      <td>frutas</td>\n",
              "      <td>Coco</td>\n",
              "      <td>3927.0</td>\n",
              "      <td>Bogota, D.C.</td>\n",
              "      <td>Corabastos</td>\n",
              "    </tr>\n",
              "    <tr>\n",
              "      <th>2022-01-01</th>\n",
              "      <td>frutas</td>\n",
              "      <td>Coco</td>\n",
              "      <td>3890.0</td>\n",
              "      <td>Bogota, D.C.</td>\n",
              "      <td>Corabastos</td>\n",
              "    </tr>\n",
              "    <tr>\n",
              "      <th>2022-02-01</th>\n",
              "      <td>frutas</td>\n",
              "      <td>Coco</td>\n",
              "      <td>3882.0</td>\n",
              "      <td>Bogota, D.C.</td>\n",
              "      <td>Corabastos</td>\n",
              "    </tr>\n",
              "    <tr>\n",
              "      <th>2022-03-01</th>\n",
              "      <td>frutas</td>\n",
              "      <td>Coco</td>\n",
              "      <td>3880.0</td>\n",
              "      <td>Bogota, D.C.</td>\n",
              "      <td>Corabastos</td>\n",
              "    </tr>\n",
              "    <tr>\n",
              "      <th>2022-04-01</th>\n",
              "      <td>frutas</td>\n",
              "      <td>Coco</td>\n",
              "      <td>3851.0</td>\n",
              "      <td>Bogota, D.C.</td>\n",
              "      <td>Corabastos</td>\n",
              "    </tr>\n",
              "    <tr>\n",
              "      <th>2022-05-01</th>\n",
              "      <td>frutas</td>\n",
              "      <td>Coco</td>\n",
              "      <td>3875.0</td>\n",
              "      <td>Bogota, D.C.</td>\n",
              "      <td>Corabastos</td>\n",
              "    </tr>\n",
              "    <tr>\n",
              "      <th>2022-06-01</th>\n",
              "      <td>frutas</td>\n",
              "      <td>Coco</td>\n",
              "      <td>3856.0</td>\n",
              "      <td>Bogota, D.C.</td>\n",
              "      <td>Corabastos</td>\n",
              "    </tr>\n",
              "    <tr>\n",
              "      <th>2022-07-01</th>\n",
              "      <td>frutas</td>\n",
              "      <td>Coco</td>\n",
              "      <td>3858.0</td>\n",
              "      <td>Bogota, D.C.</td>\n",
              "      <td>Corabastos</td>\n",
              "    </tr>\n",
              "    <tr>\n",
              "      <th>2022-08-01</th>\n",
              "      <td>frutas</td>\n",
              "      <td>Coco</td>\n",
              "      <td>3820.0</td>\n",
              "      <td>Bogota, D.C.</td>\n",
              "      <td>Corabastos</td>\n",
              "    </tr>\n",
              "    <tr>\n",
              "      <th>2022-09-01</th>\n",
              "      <td>frutas</td>\n",
              "      <td>Coco</td>\n",
              "      <td>3829.0</td>\n",
              "      <td>Bogota, D.C.</td>\n",
              "      <td>Corabastos</td>\n",
              "    </tr>\n",
              "    <tr>\n",
              "      <th>2022-10-01</th>\n",
              "      <td>frutas</td>\n",
              "      <td>Coco</td>\n",
              "      <td>3850.0</td>\n",
              "      <td>Bogota, D.C.</td>\n",
              "      <td>Corabastos</td>\n",
              "    </tr>\n",
              "    <tr>\n",
              "      <th>2022-11-01</th>\n",
              "      <td>frutas</td>\n",
              "      <td>Coco</td>\n",
              "      <td>3893.0</td>\n",
              "      <td>Bogota, D.C.</td>\n",
              "      <td>Corabastos</td>\n",
              "    </tr>\n",
              "    <tr>\n",
              "      <th>2022-12-01</th>\n",
              "      <td>frutas</td>\n",
              "      <td>Coco</td>\n",
              "      <td>3851.0</td>\n",
              "      <td>Bogota, D.C.</td>\n",
              "      <td>Corabastos</td>\n",
              "    </tr>\n",
              "  </tbody>\n",
              "</table>\n",
              "</div>"
            ]
          },
          "metadata": {},
          "execution_count": 25
        }
      ]
    },
    {
      "cell_type": "markdown",
      "source": [
        "##Idea\n",
        "### create a function where if you dont choose a city you get a dataframe with all the countries and only the products given if not then return a dataframe with the product and city given"
      ],
      "metadata": {
        "id": "wdzWCTbJZw_O"
      }
    },
    {
      "cell_type": "code",
      "source": [
        "# the join function map wil give us utomticlly the title of the entire grapichs that we are making\n",
        "t = 'Precio KG de '+(' '.join(map(str, P)))+' en '+(' '.join(map(str, C)))\n"
      ],
      "metadata": {
        "id": "ZXodDhOsqJB_"
      },
      "execution_count": 26,
      "outputs": []
    },
    {
      "cell_type": "code",
      "source": [
        "# why are we seeing a strange graph?\n",
        "# There are different value for the cities all raound the country we need to configure the data to bether understaand this\n",
        "fig, ax = plt.subplots(figsize=(16, 6)) # thiss saves the fig  in the ax \n",
        "ax = sns.lineplot(data=dfpc, x=\"Fecha\", y=\"Precio KG\")# the ax value i the plotting of the cart\n",
        "ax.set(\n",
        "xlabel=\"Fecha\",\n",
        "ylabel=\"Precio KG\",\n",
        ")\n",
        "ax.set_title(t)"
      ],
      "metadata": {
        "colab": {
          "base_uri": "https://localhost:8080/",
          "height": 580
        },
        "id": "N7rEBWpBNS_n",
        "outputId": "38ea24fb-0191-4f79-9ca6-7b0dc0b0812b"
      },
      "execution_count": 27,
      "outputs": [
        {
          "output_type": "execute_result",
          "data": {
            "text/plain": [
              "Text(0.5, 1.0, 'Precio KG de Coco en Bogota, D.C.')"
            ]
          },
          "metadata": {},
          "execution_count": 27
        },
        {
          "output_type": "display_data",
          "data": {
            "text/plain": [
              "<Figure size 1600x600 with 1 Axes>"
            ],
            "image/png": "[encoded data removed]"
          },
          "metadata": {}
        }
      ]
    },
    {
      "cell_type": "code",
      "source": [
        "dfpc.describe()"
      ],
      "metadata": {
        "colab": {
          "base_uri": "https://localhost:8080/",
          "height": 300
        },
        "id": "TmFVUvNau7HI",
        "outputId": "72b93006-8be8-48be-87ae-3c81aa831f41"
      },
      "execution_count": 28,
      "outputs": [
        {
          "output_type": "execute_result",
          "data": {
            "text/plain": [
              "         Precio KG\n",
              "count    48.000000\n",
              "mean   3787.583333\n",
              "std     211.271514\n",
              "min    3012.000000\n",
              "25%    3728.750000\n",
              "50%    3823.000000\n",
              "75%    3876.250000\n",
              "max    4334.000000"
            ],
            "text/html": [
              "<div>\n",
              "<style scoped>\n",
              "    .dataframe tbody tr th:only-of-type {\n",
              "        vertical-align: middle;\n",
              "    }\n",
              "\n",
              "    .dataframe tbody tr th {\n",
              "        vertical-align: top;\n",
              "    }\n",
              "\n",
              "    .dataframe thead th {\n",
              "        text-align: right;\n",
              "    }\n",
              "</style>\n",
              "<table border=\"1\" class=\"dataframe\">\n",
              "  <thead>\n",
              "    <tr style=\"text-align: right;\">\n",
              "      <th></th>\n",
              "      <th>Precio KG</th>\n",
              "    </tr>\n",
              "  </thead>\n",
              "  <tbody>\n",
              "    <tr>\n",
              "      <th>count</th>\n",
              "      <td>48.000000</td>\n",
              "    </tr>\n",
              "    <tr>\n",
              "      <th>mean</th>\n",
              "      <td>3787.583333</td>\n",
              "    </tr>\n",
              "    <tr>\n",
              "      <th>std</th>\n",
              "      <td>211.271514</td>\n",
              "    </tr>\n",
              "    <tr>\n",
              "      <th>min</th>\n",
              "      <td>3012.000000</td>\n",
              "    </tr>\n",
              "    <tr>\n",
              "      <th>25%</th>\n",
              "      <td>3728.750000</td>\n",
              "    </tr>\n",
              "    <tr>\n",
              "      <th>50%</th>\n",
              "      <td>3823.000000</td>\n",
              "    </tr>\n",
              "    <tr>\n",
              "      <th>75%</th>\n",
              "      <td>3876.250000</td>\n",
              "    </tr>\n",
              "    <tr>\n",
              "      <th>max</th>\n",
              "      <td>4334.000000</td>\n",
              "    </tr>\n",
              "  </tbody>\n",
              "</table>\n",
              "</div>"
            ]
          },
          "metadata": {},
          "execution_count": 28
        }
      ]
    },
    {
      "cell_type": "code",
      "source": [
        "# instead of having a list we could also see it in the graph to get a better understanding of the min a max values\n",
        "# this is a new datafrme called point\n",
        "point = (dfpc['Precio KG'].min()) + (dfpc['Precio KG'].max())\n",
        "point"
      ],
      "metadata": {
        "id": "t9NnyBhEyD5g",
        "colab": {
          "base_uri": "https://localhost:8080/"
        },
        "outputId": "a5d65f3c-dca9-42ea-d6c2-738ca1ae3caf"
      },
      "execution_count": 29,
      "outputs": [
        {
          "output_type": "execute_result",
          "data": {
            "text/plain": [
              "7346.0"
            ]
          },
          "metadata": {},
          "execution_count": 29
        }
      ]
    },
    {
      "cell_type": "code",
      "source": [
        "# this is the y axis list that will have the mean value over the entire len of the dataframe\n",
        "y=dfpc['Precio KG']\n",
        "x=dfpc.index\n",
        "y_avg = [np.mean(y)] * len(x)\n",
        "# now we need a new line but with the mean value of the year 2022 but that crosses the entire year\n",
        "y_22 = dfpc.loc[\"2022\":\"2023\",\"Precio KG\"]\n",
        "y_avg22=[np.mean(y_22)]* len(x)"
      ],
      "metadata": {
        "id": "XJ50lrnnUzye"
      },
      "execution_count": 30,
      "outputs": []
    },
    {
      "cell_type": "code",
      "source": [
        "# this proof that this linnne of code will change be a range of values that are all the same average and has a lenght of a specified array\n",
        "[np.mean(y_avg22)]* len(x)"
      ],
      "metadata": {
        "id": "43RrSEXw3SrG",
        "colab": {
          "base_uri": "https://localhost:8080/"
        },
        "outputId": "e44ab626-8d10-4db2-a554-a0eb05fbbf73"
      },
      "execution_count": 31,
      "outputs": [
        {
          "output_type": "execute_result",
          "data": {
            "text/plain": [
              "[3861.25,\n",
              " 3861.25,\n",
              " 3861.25,\n",
              " 3861.25,\n",
              " 3861.25,\n",
              " 3861.25,\n",
              " 3861.25,\n",
              " 3861.25,\n",
              " 3861.25,\n",
              " 3861.25,\n",
              " 3861.25,\n",
              " 3861.25,\n",
              " 3861.25,\n",
              " 3861.25,\n",
              " 3861.25,\n",
              " 3861.25,\n",
              " 3861.25,\n",
              " 3861.25,\n",
              " 3861.25,\n",
              " 3861.25,\n",
              " 3861.25,\n",
              " 3861.25,\n",
              " 3861.25,\n",
              " 3861.25,\n",
              " 3861.25,\n",
              " 3861.25,\n",
              " 3861.25,\n",
              " 3861.25,\n",
              " 3861.25,\n",
              " 3861.25,\n",
              " 3861.25,\n",
              " 3861.25,\n",
              " 3861.25,\n",
              " 3861.25,\n",
              " 3861.25,\n",
              " 3861.25,\n",
              " 3861.25,\n",
              " 3861.25,\n",
              " 3861.25,\n",
              " 3861.25,\n",
              " 3861.25,\n",
              " 3861.25,\n",
              " 3861.25,\n",
              " 3861.25,\n",
              " 3861.25,\n",
              " 3861.25,\n",
              " 3861.25,\n",
              " 3861.25]"
            ]
          },
          "metadata": {},
          "execution_count": 31
        }
      ]
    },
    {
      "cell_type": "code",
      "source": [
        "y_avg22 = dfpc.loc[\"2022\":\"2023\",\"Precio KG\"]"
      ],
      "metadata": {
        "id": "iKqH96Yr3Srm"
      },
      "execution_count": 32,
      "outputs": []
    },
    {
      "cell_type": "code",
      "source": [
        "# here i noted that is is first necessary to call the size of the figure general atrubites like the x annd y labels \n",
        "# and then set every plot that we wanted\n",
        "x = dfpc.index\n",
        "y = dfpc['Precio KG']\n",
        "y_avg = [np.mean(y)] * len(x)\n",
        "y_22 = dfpc.loc[\"2022\":\"2023\",\"Precio KG\"]\n",
        "y_avg22=[np.mean(y_22)]* len(x)\n",
        "plt.figure(figsize=(8,4))\n",
        "plt.title(t)\n",
        "plt.xlabel('Fecha')\n",
        "plt.ylabel('Precio KG')\n",
        "plt.plot(x, y)\n",
        "plt.plot(x, y_avg, color='red', ls='--')\n",
        "plt.plot(x,y_avg22, color=\"green\",ls=\"--\")\n",
        "plt.show()"
      ],
      "metadata": {
        "colab": {
          "base_uri": "https://localhost:8080/",
          "height": 408
        },
        "outputId": "b412096b-e37b-4cb1-dc19-03647b8f3dd3",
        "id": "MKBoOi3OafEQ"
      },
      "execution_count": 33,
      "outputs": [
        {
          "output_type": "display_data",
          "data": {
            "text/plain": [
              "<Figure size 800x400 with 1 Axes>"
            ],
            "image/png": "[encoded data removed]"
          },
          "metadata": {}
        }
      ]
    },
    {
      "cell_type": "code",
      "source": [
        "# here i noted that is is first necessary to call the size of the figure general atrubites like the x annd y labels \n",
        "# and then set every plot that we wanted\n",
        "x = dfpc.index\n",
        "y = dfpc['Precio KG']\n",
        "y_avg = [np.mean(y)] * len(x)\n",
        "y_22 = dfpc.loc[\"2022\":\"2023\",\"Precio KG\"]\n",
        "y_avg22=[np.mean(y_22)]* len(x)\n",
        "plt.figure(figsize=(16,6))\n",
        "plt.title(t)\n",
        "plt.xlabel('Fecha')\n",
        "plt.ylabel('Precio KG')\n",
        "sns.lineplot(data =dfpc,x='Fecha',y='Precio KG',label ='PRICE')\n",
        "plt.plot(x, y_avg, color='red', ls='--',label ='avg 2019-2022')\n",
        "plt.plot(x,y_avg22, color=\"green\",ls=\"--\",label='avg 2022')\n",
        "plt.legend(loc=\"upper left\")\n",
        "plt.show()\n",
        "\n",
        "# now you can see that thiss line of seaborn .plotline is a better fit for our data \n",
        "# as the blue line representes the mean of all the valuess and \n",
        "# the gradient blue will represent data that represent each mean of the day calculated "
      ],
      "metadata": {
        "colab": {
          "base_uri": "https://localhost:8080/",
          "height": 562
        },
        "outputId": "0672110d-29bc-46d1-932e-c1ef366a8579",
        "id": "FzE7lWceEbS5"
      },
      "execution_count": 34,
      "outputs": [
        {
          "output_type": "display_data",
          "data": {
            "text/plain": [
              "<Figure size 1600x600 with 1 Axes>"
            ],
            "image/png": "[encoded data removed]"
          },
          "metadata": {}
        }
      ]
    },
    {
      "cell_type": "code",
      "source": [
        "# here we can see that for a single day of the month we get various values thanks to the different WHOLESALE markets\n",
        "# that is why we get a timelinen gragh that does'nt look normal \n",
        "# maybe we should use other type of grapgh to better represent the differrent prices that you can see in a normal day \n",
        "dfpc.head()\n",
        "'how to make a candle timeline in matplotlib'"
      ],
      "metadata": {
        "colab": {
          "base_uri": "https://localhost:8080/"
        },
        "id": "OzOIEdhi9uVG",
        "outputId": "f89d3d5f-8a09-450a-f438-d85173a52be8"
      },
      "execution_count": 35,
      "outputs": [
        {
          "output_type": "execute_result",
          "data": {
            "text/plain": [
              "'how to make a candle timeline in matplotlib'"
            ]
          },
          "metadata": {},
          "execution_count": 35
        }
      ]
    },
    {
      "cell_type": "code",
      "source": [
        "sns.lineplot(data=dfpc, x=\"Fecha\", y=\"Precio KG\")"
      ],
      "metadata": {
        "colab": {
          "base_uri": "https://localhost:8080/",
          "height": 473
        },
        "id": "7p1bahy9D73V",
        "outputId": "0540acca-bad9-4d61-e827-be100c6c1be5"
      },
      "execution_count": 36,
      "outputs": [
        {
          "output_type": "execute_result",
          "data": {
            "text/plain": [
              "<AxesSubplot:xlabel='Fecha', ylabel='Precio KG'>"
            ]
          },
          "metadata": {},
          "execution_count": 36
        },
        {
          "output_type": "display_data",
          "data": {
            "text/plain": [
              "<Figure size 640x480 with 1 Axes>"
            ],
            "image/png": "[encoded data removed]"
          },
          "metadata": {}
        }
      ]
    },
    {
      "cell_type": "code",
      "source": [
        "# here you will find the prices with less and more variationa across the cities \n",
        "print(dfpc.describe().round())\n",
        "print(t)\n",
        "print(dfp.describe().round())"
      ],
      "metadata": {
        "id": "nZ0u2Cvwchac",
        "colab": {
          "base_uri": "https://localhost:8080/"
        },
        "outputId": "0b933652-b96a-40ed-8d5c-6da46e3f876b"
      },
      "execution_count": 37,
      "outputs": [
        {
          "output_type": "stream",
          "name": "stdout",
          "text": [
            "       Precio KG\n",
            "count       48.0\n",
            "mean      3788.0\n",
            "std        211.0\n",
            "min       3012.0\n",
            "25%       3729.0\n",
            "50%       3823.0\n",
            "75%       3876.0\n",
            "max       4334.0\n",
            "Precio KG de Coco en Bogota, D.C.\n",
            "       Precio KG\n",
            "count      707.0\n",
            "mean      3246.0\n",
            "std       1091.0\n",
            "min       1375.0\n",
            "25%       2422.0\n",
            "50%       3113.0\n",
            "75%       3850.0\n",
            "max       8165.0\n"
          ]
        }
      ]
    },
    {
      "cell_type": "code",
      "source": [
        "# here we are seeing the product and its standart deviaation by citie \n",
        "# so we can see where are the products with less variation in its prices\n",
        "# it is correct the clarify that less variation in the prices \n",
        "# doesn't necessarly meaan lower prices\n",
        "std=dfp.groupby('Ciudad')['Precio KG'].std().round()\n",
        "mis = std.nlargest(5)\n",
        "mas = std.nsmallest(5)\n",
        "print(mis)\n",
        "print(mas)"
      ],
      "metadata": {
        "id": "z1M-O_HymbaH",
        "colab": {
          "base_uri": "https://localhost:8080/"
        },
        "outputId": "e8f65bfc-a28b-4519-c55f-504af1f6900b"
      },
      "execution_count": 38,
      "outputs": [
        {
          "output_type": "stream",
          "name": "stdout",
          "text": [
            "Ciudad\n",
            "Medellin             793.0\n",
            "Monteria             774.0\n",
            "Cartagena            681.0\n",
            "Sincelejo            506.0\n",
            "La Unión (Nariño)    496.0\n",
            "Name: Precio KG, dtype: float64\n",
            "Ciudad\n",
            "Cúcuta                       158.0\n",
            "Bogota, D.C.                 211.0\n",
            "Palmira (Valle del Cauca)    261.0\n",
            "Manizales                    313.0\n",
            "Cartago (Valle del Cauca)    315.0\n",
            "Name: Precio KG, dtype: float64\n"
          ]
        }
      ]
    },
    {
      "cell_type": "code",
      "source": [
        "# here you can see that we use the same function to call the max a min values of the dataframe \n",
        "# maaybe we can use a function to save lines of code\n",
        "M= dfp.groupby('Ciudad')['Precio KG'].mean()\n",
        "mi = M.nlargest(5)\n",
        "ma = M.nsmallest(5)\n",
        "print(mi)\n",
        "print(ma)"
      ],
      "metadata": {
        "id": "I6OYw9__uOaN",
        "colab": {
          "base_uri": "https://localhost:8080/"
        },
        "outputId": "3f7cd2eb-dafa-479f-8bfb-249967e2dd29"
      },
      "execution_count": 39,
      "outputs": [
        {
          "output_type": "stream",
          "name": "stdout",
          "text": [
            "Ciudad\n",
            "Medellin       5884.333333\n",
            "Bucaramanga    4333.000000\n",
            "Monteria       4121.851064\n",
            "Cartagena      4036.541667\n",
            "Valledupar     3878.846154\n",
            "Name: Precio KG, dtype: float64\n",
            "Ciudad\n",
            "Cúcuta                       1832.166667\n",
            "Palmira (Valle del Cauca)    2207.804348\n",
            "Cali                         2240.510417\n",
            "La Unión (Nariño)            2252.333333\n",
            "Cartago (Valle del Cauca)    2572.765957\n",
            "Name: Precio KG, dtype: float64\n"
          ]
        }
      ]
    },
    {
      "cell_type": "code",
      "source": [
        "dfpc.loc['2019':'2019-12']"
      ],
      "metadata": {
        "colab": {
          "base_uri": "https://localhost:8080/",
          "height": 457
        },
        "id": "loFZIU2mWFTh",
        "outputId": "8c606156-faba-41e2-c2ea-81fce968f8d2"
      },
      "execution_count": 40,
      "outputs": [
        {
          "output_type": "execute_result",
          "data": {
            "text/plain": [
              "             Grupo Producto  Precio KG        Ciudad        Plaza\n",
              "Fecha                                                            \n",
              "2019-01-01  frutas     Coco     3012.0  Bogota, D.C.   Corabastos\n",
              "2019-02-01  frutas     Coco     3303.0  Bogota, D.C.   Corabastos\n",
              "2019-03-01  frutas     Coco     3314.0  Bogota, D.C.   Corabastos\n",
              "2019-04-01  frutas     Coco     3327.0  Bogota, D.C.   Corabastos\n",
              "2019-05-01  frutas     Coco     3621.0  Bogota, D.C.   Corabastos\n",
              "2019-06-01  frutas     Coco     3748.0  Bogota, D.C.   Corabastos\n",
              "2019-07-01  frutas     Coco     3743.0  Bogota, D.C.   Corabastos\n",
              "2019-08-01  frutas     Coco     3743.0  Bogota, D.C.   Corabastos\n",
              "2019-09-01  frutas     Coco     3732.0  Bogota, D.C.   Corabastos\n",
              "2019-10-01  frutas     Coco     3727.0  Bogota, D.C.   Corabastos\n",
              "2019-11-01  frutas     Coco     3730.0  Bogota, D.C.   Corabastos\n",
              "2019-12-01  frutas     Coco     3737.0  Bogota, D.C.   Corabastos"
            ],
            "text/html": [
              "<div>\n",
              "<style scoped>\n",
              "    .dataframe tbody tr th:only-of-type {\n",
              "        vertical-align: middle;\n",
              "    }\n",
              "\n",
              "    .dataframe tbody tr th {\n",
              "        vertical-align: top;\n",
              "    }\n",
              "\n",
              "    .dataframe thead th {\n",
              "        text-align: right;\n",
              "    }\n",
              "</style>\n",
              "<table border=\"1\" class=\"dataframe\">\n",
              "  <thead>\n",
              "    <tr style=\"text-align: right;\">\n",
              "      <th></th>\n",
              "      <th>Grupo</th>\n",
              "      <th>Producto</th>\n",
              "      <th>Precio KG</th>\n",
              "      <th>Ciudad</th>\n",
              "      <th>Plaza</th>\n",
              "    </tr>\n",
              "    <tr>\n",
              "      <th>Fecha</th>\n",
              "      <th></th>\n",
              "      <th></th>\n",
              "      <th></th>\n",
              "      <th></th>\n",
              "      <th></th>\n",
              "    </tr>\n",
              "  </thead>\n",
              "  <tbody>\n",
              "    <tr>\n",
              "      <th>2019-01-01</th>\n",
              "      <td>frutas</td>\n",
              "      <td>Coco</td>\n",
              "      <td>3012.0</td>\n",
              "      <td>Bogota, D.C.</td>\n",
              "      <td>Corabastos</td>\n",
              "    </tr>\n",
              "    <tr>\n",
              "      <th>2019-02-01</th>\n",
              "      <td>frutas</td>\n",
              "      <td>Coco</td>\n",
              "      <td>3303.0</td>\n",
              "      <td>Bogota, D.C.</td>\n",
              "      <td>Corabastos</td>\n",
              "    </tr>\n",
              "    <tr>\n",
              "      <th>2019-03-01</th>\n",
              "      <td>frutas</td>\n",
              "      <td>Coco</td>\n",
              "      <td>3314.0</td>\n",
              "      <td>Bogota, D.C.</td>\n",
              "      <td>Corabastos</td>\n",
              "    </tr>\n",
              "    <tr>\n",
              "      <th>2019-04-01</th>\n",
              "      <td>frutas</td>\n",
              "      <td>Coco</td>\n",
              "      <td>3327.0</td>\n",
              "      <td>Bogota, D.C.</td>\n",
              "      <td>Corabastos</td>\n",
              "    </tr>\n",
              "    <tr>\n",
              "      <th>2019-05-01</th>\n",
              "      <td>frutas</td>\n",
              "      <td>Coco</td>\n",
              "      <td>3621.0</td>\n",
              "      <td>Bogota, D.C.</td>\n",
              "      <td>Corabastos</td>\n",
              "    </tr>\n",
              "    <tr>\n",
              "      <th>2019-06-01</th>\n",
              "      <td>frutas</td>\n",
              "      <td>Coco</td>\n",
              "      <td>3748.0</td>\n",
              "      <td>Bogota, D.C.</td>\n",
              "      <td>Corabastos</td>\n",
              "    </tr>\n",
              "    <tr>\n",
              "      <th>2019-07-01</th>\n",
              "      <td>frutas</td>\n",
              "      <td>Coco</td>\n",
              "      <td>3743.0</td>\n",
              "      <td>Bogota, D.C.</td>\n",
              "      <td>Corabastos</td>\n",
              "    </tr>\n",
              "    <tr>\n",
              "      <th>2019-08-01</th>\n",
              "      <td>frutas</td>\n",
              "      <td>Coco</td>\n",
              "      <td>3743.0</td>\n",
              "      <td>Bogota, D.C.</td>\n",
              "      <td>Corabastos</td>\n",
              "    </tr>\n",
              "    <tr>\n",
              "      <th>2019-09-01</th>\n",
              "      <td>frutas</td>\n",
              "      <td>Coco</td>\n",
              "      <td>3732.0</td>\n",
              "      <td>Bogota, D.C.</td>\n",
              "      <td>Corabastos</td>\n",
              "    </tr>\n",
              "    <tr>\n",
              "      <th>2019-10-01</th>\n",
              "      <td>frutas</td>\n",
              "      <td>Coco</td>\n",
              "      <td>3727.0</td>\n",
              "      <td>Bogota, D.C.</td>\n",
              "      <td>Corabastos</td>\n",
              "    </tr>\n",
              "    <tr>\n",
              "      <th>2019-11-01</th>\n",
              "      <td>frutas</td>\n",
              "      <td>Coco</td>\n",
              "      <td>3730.0</td>\n",
              "      <td>Bogota, D.C.</td>\n",
              "      <td>Corabastos</td>\n",
              "    </tr>\n",
              "    <tr>\n",
              "      <th>2019-12-01</th>\n",
              "      <td>frutas</td>\n",
              "      <td>Coco</td>\n",
              "      <td>3737.0</td>\n",
              "      <td>Bogota, D.C.</td>\n",
              "      <td>Corabastos</td>\n",
              "    </tr>\n",
              "  </tbody>\n",
              "</table>\n",
              "</div>"
            ]
          },
          "metadata": {},
          "execution_count": 40
        }
      ]
    },
    {
      "cell_type": "code",
      "source": [
        "# i reset the index from date to the a normal index to then plot it is it results in a lot of problem using a \n",
        "# timestamp and trying to plot a scatterplot there is a incompatibility problem between matplotlib and seaborn and pandas timestamp\n"
      ],
      "metadata": {
        "id": "BQMoYrKVY3Oy"
      },
      "execution_count": 41,
      "outputs": []
    },
    {
      "cell_type": "code",
      "source": [
        "# dflin as dataframe linear analysis\n",
        "dflin = dfpc.reset_index()"
      ],
      "metadata": {
        "id": "FQhwhlUPV_uT"
      },
      "execution_count": 42,
      "outputs": []
    },
    {
      "cell_type": "code",
      "source": [
        "# HERE YOU CAN FIND THE mean of every year for posterrior analysis and graphics\n",
        "# then i convert the series into a pandas dataframe to plot it more easily\n",
        "n = dflin.groupby(dflin.Fecha.dt.year)['Precio KG'].mean()\n",
        "# here we use a grioupby function to get the mean of every year selecting the grouping as .year and then plotting the price and the mean of it\n",
        "# with this to_frame we convert this series into a pandas dataframe\n",
        "Year_mean = n.to_frame(name=\"Precio Promedio\")\n",
        "# here i change the column name to better practices\n",
        "Year_mean.columns =['Precio KG']"
      ],
      "metadata": {
        "id": "Ix8BKNybqkgg"
      },
      "execution_count": 43,
      "outputs": []
    },
    {
      "cell_type": "code",
      "source": [
        "# here i should create a new column in the data frame with the length of the line that i want to plot "
      ],
      "metadata": {
        "id": "loT1GdxXjJ0E"
      },
      "execution_count": 44,
      "outputs": []
    },
    {
      "cell_type": "code",
      "source": [
        "n = dfpc.groupby(dfpc.index.year)['Precio KG'].mean()\n",
        "\n",
        "Year_mean = n.to_frame(name=\"Precio Promedio\")\n"
      ],
      "metadata": {
        "id": "vTQLeZc1t4Fj"
      },
      "execution_count": 45,
      "outputs": []
    },
    {
      "cell_type": "code",
      "source": [
        "dfpc['Promedio'] = dfpc.index.year"
      ],
      "metadata": {
        "id": "5IomspP8twrb",
        "colab": {
          "base_uri": "https://localhost:8080/"
        },
        "outputId": "deaa8dec-5cc6-4cb6-b58a-eb1e6698a159"
      },
      "execution_count": 46,
      "outputs": [
        {
          "output_type": "stream",
          "name": "stderr",
          "text": [
            "C:\\Users\\Camilo De Los Rios\\AppData\\Local\\Temp\\ipykernel_5976\\3811353291.py:1: SettingWithCopyWarning: \n",
            "A value is trying to be set on a copy of a slice from a DataFrame.\n",
            "Try using .loc[row_indexer,col_indexer] = value instead\n",
            "\n",
            "See the caveats in the documentation: https://pandas.pydata.org/pandas-docs/stable/user_guide/indexing.html#returning-a-view-versus-a-copy\n",
            "  dfpc['Promedio'] = dfpc.index.year\n"
          ]
        }
      ]
    },
    {
      "cell_type": "code",
      "source": [
        "Year_mean.head()"
      ],
      "metadata": {
        "id": "fVMwouoF2fX-",
        "outputId": "5544113c-d309-4104-aa0b-a96279a8ae12",
        "colab": {
          "base_uri": "https://localhost:8080/",
          "height": 206
        }
      },
      "execution_count": 47,
      "outputs": [
        {
          "output_type": "execute_result",
          "data": {
            "text/plain": [
              "       Precio Promedio\n",
              "Fecha                 \n",
              "2019       3561.416667\n",
              "2020       3866.916667\n",
              "2021       3860.750000\n",
              "2022       3861.250000"
            ],
            "text/html": [
              "<div>\n",
              "<style scoped>\n",
              "    .dataframe tbody tr th:only-of-type {\n",
              "        vertical-align: middle;\n",
              "    }\n",
              "\n",
              "    .dataframe tbody tr th {\n",
              "        vertical-align: top;\n",
              "    }\n",
              "\n",
              "    .dataframe thead th {\n",
              "        text-align: right;\n",
              "    }\n",
              "</style>\n",
              "<table border=\"1\" class=\"dataframe\">\n",
              "  <thead>\n",
              "    <tr style=\"text-align: right;\">\n",
              "      <th></th>\n",
              "      <th>Precio Promedio</th>\n",
              "    </tr>\n",
              "    <tr>\n",
              "      <th>Fecha</th>\n",
              "      <th></th>\n",
              "    </tr>\n",
              "  </thead>\n",
              "  <tbody>\n",
              "    <tr>\n",
              "      <th>2019</th>\n",
              "      <td>3561.416667</td>\n",
              "    </tr>\n",
              "    <tr>\n",
              "      <th>2020</th>\n",
              "      <td>3866.916667</td>\n",
              "    </tr>\n",
              "    <tr>\n",
              "      <th>2021</th>\n",
              "      <td>3860.750000</td>\n",
              "    </tr>\n",
              "    <tr>\n",
              "      <th>2022</th>\n",
              "      <td>3861.250000</td>\n",
              "    </tr>\n",
              "  </tbody>\n",
              "</table>\n",
              "</div>"
            ]
          },
          "metadata": {},
          "execution_count": 47
        }
      ]
    },
    {
      "cell_type": "code",
      "source": [
        "# here we confirm that all done its right\n",
        "n.index"
      ],
      "metadata": {
        "colab": {
          "base_uri": "https://localhost:8080/"
        },
        "id": "_MeHgna4t_Ax",
        "outputId": "a11930b3-cd39-4192-c977-f87f7bc27d58"
      },
      "execution_count": 48,
      "outputs": [
        {
          "output_type": "execute_result",
          "data": {
            "text/plain": [
              "Int64Index([2019, 2020, 2021, 2022], dtype='int64', name='Fecha')"
            ]
          },
          "metadata": {},
          "execution_count": 48
        }
      ]
    },
    {
      "cell_type": "code",
      "source": [
        "# here we plotted the variation of the mean price by year\n",
        "Year_mean_x = Year_mean.index\n",
        "Year_mean_y = Year_mean['Precio Promedio']\n",
        "plt.plot(Year_mean_x,Year_mean_y,label='avg 2022',marker=\"o\")"
      ],
      "metadata": {
        "colab": {
          "base_uri": "https://localhost:8080/",
          "height": 448
        },
        "id": "0PQTyjHtcviG",
        "outputId": "a2819189-74d7-44d9-daf5-845aebcc7809"
      },
      "execution_count": 49,
      "outputs": [
        {
          "output_type": "execute_result",
          "data": {
            "text/plain": [
              "[<matplotlib.lines.Line2D at 0x1faa057e220>]"
            ]
          },
          "metadata": {},
          "execution_count": 49
        },
        {
          "output_type": "display_data",
          "data": {
            "text/plain": [
              "<Figure size 640x480 with 1 Axes>"
            ],
            "image/png": "[encoded data removed]"
          },
          "metadata": {}
        }
      ]
    },
    {
      "cell_type": "code",
      "source": [
        "sns.pointplot(data=Year_mean, x=Year_mean_x, y=Year_mean_y)"
      ],
      "metadata": {
        "colab": {
          "base_uri": "https://localhost:8080/",
          "height": 467
        },
        "id": "OvHoYmoXxAtm",
        "outputId": "c920b4ff-efaa-437c-c3d1-1411997895b6"
      },
      "execution_count": 50,
      "outputs": [
        {
          "output_type": "execute_result",
          "data": {
            "text/plain": [
              "<AxesSubplot:xlabel='Fecha', ylabel='Precio Promedio'>"
            ]
          },
          "metadata": {},
          "execution_count": 50
        },
        {
          "output_type": "display_data",
          "data": {
            "text/plain": [
              "<Figure size 640x480 with 1 Axes>"
            ],
            "image/png": "[encoded data removed]"
          },
          "metadata": {}
        }
      ]
    },
    {
      "cell_type": "code",
      "source": [
        "x = dfpc.index\n",
        "y = dfpc['Precio KG']\n",
        "y_avg = [np.mean(y)] * len(x)\n",
        "y_22 = dfpc.loc[\"2022\":\"2023\",\"Precio KG\"]\n",
        "y_avg22=[np.mean(y_22)]* len(x)\n",
        "Year_mean_x = Year_mean.index\n",
        "Year_mean_y = Year_mean['Precio Promedio']\n",
        "plt.figure(figsize=(16,8))\n",
        "plt.title(t)\n",
        "plt.xlabel('Fecha')\n",
        "plt.ylabel('Precio KG')\n",
        "sns.lineplot(data =dfpc,x='Fecha',y='Precio KG',label ='Datos')\n",
        "plt.plot(x, y_avg, color='red', ls='--',label ='avg 2019-2022')\n",
        "plt.plot(x,y_avg22, color=\"green\",ls=\"--\",label='avg 2022')\n",
        "plt.legend(loc=\"upper left\")\n",
        "plt.show()\n",
        "\n"
      ],
      "metadata": {
        "colab": {
          "base_uri": "https://localhost:8080/",
          "height": 716
        },
        "id": "0nQWI78zSl_f",
        "outputId": "5dc2d9b1-a090-459a-cdfc-42ce31ad6ee2"
      },
      "execution_count": 51,
      "outputs": [
        {
          "output_type": "display_data",
          "data": {
            "text/plain": [
              "<Figure size 1600x800 with 1 Axes>"
            ],
            "image/png": "[encoded data removed]"
          },
          "metadata": {}
        }
      ]
    },
    {
      "cell_type": "markdown",
      "source": [
        "#Linear regression analysis for product and city\n"
      ],
      "metadata": {
        "id": "1xQ8RAC7VZD3"
      }
    },
    {
      "cell_type": "code",
      "source": [
        "# here now i need to use a dict to plot the year insstead of the number of every index \n",
        "sns.regplot(x=dflin.index, y=dflin['Precio KG'])\n"
      ],
      "metadata": {
        "colab": {
          "base_uri": "https://localhost:8080/",
          "height": 453
        },
        "id": "hC-aulHEeOmO",
        "outputId": "80c34914-8721-40bc-bde8-80f4bb214933"
      },
      "execution_count": 52,
      "outputs": [
        {
          "output_type": "execute_result",
          "data": {
            "text/plain": [
              "<AxesSubplot:ylabel='Precio KG'>"
            ]
          },
          "metadata": {},
          "execution_count": 52
        },
        {
          "output_type": "display_data",
          "data": {
            "text/plain": [
              "<Figure size 640x480 with 1 Axes>"
            ],
            "image/png": "[encoded data removed]"
          },
          "metadata": {}
        }
      ]
    },
    {
      "cell_type": "code",
      "source": [
        "dfpc.head()"
      ],
      "metadata": {
        "colab": {
          "base_uri": "https://localhost:8080/",
          "height": 237
        },
        "id": "p0xNFjrPRnkE",
        "outputId": "cf8493d1-bafe-4ecd-bce7-6eae7bc4d0f9"
      },
      "execution_count": 53,
      "outputs": [
        {
          "output_type": "execute_result",
          "data": {
            "text/plain": [
              "             Grupo Producto  Precio KG        Ciudad        Plaza  Promedio\n",
              "Fecha                                                                      \n",
              "2019-01-01  frutas     Coco     3012.0  Bogota, D.C.   Corabastos      2019\n",
              "2019-02-01  frutas     Coco     3303.0  Bogota, D.C.   Corabastos      2019\n",
              "2019-03-01  frutas     Coco     3314.0  Bogota, D.C.   Corabastos      2019\n",
              "2019-04-01  frutas     Coco     3327.0  Bogota, D.C.   Corabastos      2019\n",
              "2019-05-01  frutas     Coco     3621.0  Bogota, D.C.   Corabastos      2019"
            ],
            "text/html": [
              "<div>\n",
              "<style scoped>\n",
              "    .dataframe tbody tr th:only-of-type {\n",
              "        vertical-align: middle;\n",
              "    }\n",
              "\n",
              "    .dataframe tbody tr th {\n",
              "        vertical-align: top;\n",
              "    }\n",
              "\n",
              "    .dataframe thead th {\n",
              "        text-align: right;\n",
              "    }\n",
              "</style>\n",
              "<table border=\"1\" class=\"dataframe\">\n",
              "  <thead>\n",
              "    <tr style=\"text-align: right;\">\n",
              "      <th></th>\n",
              "      <th>Grupo</th>\n",
              "      <th>Producto</th>\n",
              "      <th>Precio KG</th>\n",
              "      <th>Ciudad</th>\n",
              "      <th>Plaza</th>\n",
              "      <th>Promedio</th>\n",
              "    </tr>\n",
              "    <tr>\n",
              "      <th>Fecha</th>\n",
              "      <th></th>\n",
              "      <th></th>\n",
              "      <th></th>\n",
              "      <th></th>\n",
              "      <th></th>\n",
              "      <th></th>\n",
              "    </tr>\n",
              "  </thead>\n",
              "  <tbody>\n",
              "    <tr>\n",
              "      <th>2019-01-01</th>\n",
              "      <td>frutas</td>\n",
              "      <td>Coco</td>\n",
              "      <td>3012.0</td>\n",
              "      <td>Bogota, D.C.</td>\n",
              "      <td>Corabastos</td>\n",
              "      <td>2019</td>\n",
              "    </tr>\n",
              "    <tr>\n",
              "      <th>2019-02-01</th>\n",
              "      <td>frutas</td>\n",
              "      <td>Coco</td>\n",
              "      <td>3303.0</td>\n",
              "      <td>Bogota, D.C.</td>\n",
              "      <td>Corabastos</td>\n",
              "      <td>2019</td>\n",
              "    </tr>\n",
              "    <tr>\n",
              "      <th>2019-03-01</th>\n",
              "      <td>frutas</td>\n",
              "      <td>Coco</td>\n",
              "      <td>3314.0</td>\n",
              "      <td>Bogota, D.C.</td>\n",
              "      <td>Corabastos</td>\n",
              "      <td>2019</td>\n",
              "    </tr>\n",
              "    <tr>\n",
              "      <th>2019-04-01</th>\n",
              "      <td>frutas</td>\n",
              "      <td>Coco</td>\n",
              "      <td>3327.0</td>\n",
              "      <td>Bogota, D.C.</td>\n",
              "      <td>Corabastos</td>\n",
              "      <td>2019</td>\n",
              "    </tr>\n",
              "    <tr>\n",
              "      <th>2019-05-01</th>\n",
              "      <td>frutas</td>\n",
              "      <td>Coco</td>\n",
              "      <td>3621.0</td>\n",
              "      <td>Bogota, D.C.</td>\n",
              "      <td>Corabastos</td>\n",
              "      <td>2019</td>\n",
              "    </tr>\n",
              "  </tbody>\n",
              "</table>\n",
              "</div>"
            ]
          },
          "metadata": {},
          "execution_count": 53
        }
      ]
    },
    {
      "cell_type": "code",
      "source": [
        "dflin.head()"
      ],
      "metadata": {
        "colab": {
          "base_uri": "https://localhost:8080/",
          "height": 206
        },
        "id": "EJhhDc2vNz1b",
        "outputId": "2c5b4269-b74c-41c6-d9d1-d1da53eb2082"
      },
      "execution_count": 54,
      "outputs": [
        {
          "output_type": "execute_result",
          "data": {
            "text/plain": [
              "       Fecha   Grupo Producto  Precio KG        Ciudad        Plaza\n",
              "0 2019-01-01  frutas     Coco     3012.0  Bogota, D.C.   Corabastos\n",
              "1 2019-02-01  frutas     Coco     3303.0  Bogota, D.C.   Corabastos\n",
              "2 2019-03-01  frutas     Coco     3314.0  Bogota, D.C.   Corabastos\n",
              "3 2019-04-01  frutas     Coco     3327.0  Bogota, D.C.   Corabastos\n",
              "4 2019-05-01  frutas     Coco     3621.0  Bogota, D.C.   Corabastos"
            ],
            "text/html": [
              "<div>\n",
              "<style scoped>\n",
              "    .dataframe tbody tr th:only-of-type {\n",
              "        vertical-align: middle;\n",
              "    }\n",
              "\n",
              "    .dataframe tbody tr th {\n",
              "        vertical-align: top;\n",
              "    }\n",
              "\n",
              "    .dataframe thead th {\n",
              "        text-align: right;\n",
              "    }\n",
              "</style>\n",
              "<table border=\"1\" class=\"dataframe\">\n",
              "  <thead>\n",
              "    <tr style=\"text-align: right;\">\n",
              "      <th></th>\n",
              "      <th>Fecha</th>\n",
              "      <th>Grupo</th>\n",
              "      <th>Producto</th>\n",
              "      <th>Precio KG</th>\n",
              "      <th>Ciudad</th>\n",
              "      <th>Plaza</th>\n",
              "    </tr>\n",
              "  </thead>\n",
              "  <tbody>\n",
              "    <tr>\n",
              "      <th>0</th>\n",
              "      <td>2019-01-01</td>\n",
              "      <td>frutas</td>\n",
              "      <td>Coco</td>\n",
              "      <td>3012.0</td>\n",
              "      <td>Bogota, D.C.</td>\n",
              "      <td>Corabastos</td>\n",
              "    </tr>\n",
              "    <tr>\n",
              "      <th>1</th>\n",
              "      <td>2019-02-01</td>\n",
              "      <td>frutas</td>\n",
              "      <td>Coco</td>\n",
              "      <td>3303.0</td>\n",
              "      <td>Bogota, D.C.</td>\n",
              "      <td>Corabastos</td>\n",
              "    </tr>\n",
              "    <tr>\n",
              "      <th>2</th>\n",
              "      <td>2019-03-01</td>\n",
              "      <td>frutas</td>\n",
              "      <td>Coco</td>\n",
              "      <td>3314.0</td>\n",
              "      <td>Bogota, D.C.</td>\n",
              "      <td>Corabastos</td>\n",
              "    </tr>\n",
              "    <tr>\n",
              "      <th>3</th>\n",
              "      <td>2019-04-01</td>\n",
              "      <td>frutas</td>\n",
              "      <td>Coco</td>\n",
              "      <td>3327.0</td>\n",
              "      <td>Bogota, D.C.</td>\n",
              "      <td>Corabastos</td>\n",
              "    </tr>\n",
              "    <tr>\n",
              "      <th>4</th>\n",
              "      <td>2019-05-01</td>\n",
              "      <td>frutas</td>\n",
              "      <td>Coco</td>\n",
              "      <td>3621.0</td>\n",
              "      <td>Bogota, D.C.</td>\n",
              "      <td>Corabastos</td>\n",
              "    </tr>\n",
              "  </tbody>\n",
              "</table>\n",
              "</div>"
            ]
          },
          "metadata": {},
          "execution_count": 54
        }
      ]
    },
    {
      "cell_type": "code",
      "source": [
        "# here with the index using the last 12 values of the month but this will work only with a unique value \n",
        "# if you have more cities or wholase centers you will not have the data of a year but only\n",
        "# the last 12 values of the data frame\n",
        "dflin.iloc[-12:,:]"
      ],
      "metadata": {
        "colab": {
          "base_uri": "https://localhost:8080/",
          "height": 425
        },
        "id": "sxlZiHRnM4P1",
        "outputId": "bd43ee76-eda2-4484-c87a-48563377886a"
      },
      "execution_count": 55,
      "outputs": [
        {
          "output_type": "execute_result",
          "data": {
            "text/plain": [
              "        Fecha   Grupo Producto  Precio KG        Ciudad        Plaza\n",
              "36 2022-01-01  frutas     Coco     3890.0  Bogota, D.C.   Corabastos\n",
              "37 2022-02-01  frutas     Coco     3882.0  Bogota, D.C.   Corabastos\n",
              "38 2022-03-01  frutas     Coco     3880.0  Bogota, D.C.   Corabastos\n",
              "39 2022-04-01  frutas     Coco     3851.0  Bogota, D.C.   Corabastos\n",
              "40 2022-05-01  frutas     Coco     3875.0  Bogota, D.C.   Corabastos\n",
              "41 2022-06-01  frutas     Coco     3856.0  Bogota, D.C.   Corabastos\n",
              "42 2022-07-01  frutas     Coco     3858.0  Bogota, D.C.   Corabastos\n",
              "43 2022-08-01  frutas     Coco     3820.0  Bogota, D.C.   Corabastos\n",
              "44 2022-09-01  frutas     Coco     3829.0  Bogota, D.C.   Corabastos\n",
              "45 2022-10-01  frutas     Coco     3850.0  Bogota, D.C.   Corabastos\n",
              "46 2022-11-01  frutas     Coco     3893.0  Bogota, D.C.   Corabastos\n",
              "47 2022-12-01  frutas     Coco     3851.0  Bogota, D.C.   Corabastos"
            ],
            "text/html": [
              "<div>\n",
              "<style scoped>\n",
              "    .dataframe tbody tr th:only-of-type {\n",
              "        vertical-align: middle;\n",
              "    }\n",
              "\n",
              "    .dataframe tbody tr th {\n",
              "        vertical-align: top;\n",
              "    }\n",
              "\n",
              "    .dataframe thead th {\n",
              "        text-align: right;\n",
              "    }\n",
              "</style>\n",
              "<table border=\"1\" class=\"dataframe\">\n",
              "  <thead>\n",
              "    <tr style=\"text-align: right;\">\n",
              "      <th></th>\n",
              "      <th>Fecha</th>\n",
              "      <th>Grupo</th>\n",
              "      <th>Producto</th>\n",
              "      <th>Precio KG</th>\n",
              "      <th>Ciudad</th>\n",
              "      <th>Plaza</th>\n",
              "    </tr>\n",
              "  </thead>\n",
              "  <tbody>\n",
              "    <tr>\n",
              "      <th>36</th>\n",
              "      <td>2022-01-01</td>\n",
              "      <td>frutas</td>\n",
              "      <td>Coco</td>\n",
              "      <td>3890.0</td>\n",
              "      <td>Bogota, D.C.</td>\n",
              "      <td>Corabastos</td>\n",
              "    </tr>\n",
              "    <tr>\n",
              "      <th>37</th>\n",
              "      <td>2022-02-01</td>\n",
              "      <td>frutas</td>\n",
              "      <td>Coco</td>\n",
              "      <td>3882.0</td>\n",
              "      <td>Bogota, D.C.</td>\n",
              "      <td>Corabastos</td>\n",
              "    </tr>\n",
              "    <tr>\n",
              "      <th>38</th>\n",
              "      <td>2022-03-01</td>\n",
              "      <td>frutas</td>\n",
              "      <td>Coco</td>\n",
              "      <td>3880.0</td>\n",
              "      <td>Bogota, D.C.</td>\n",
              "      <td>Corabastos</td>\n",
              "    </tr>\n",
              "    <tr>\n",
              "      <th>39</th>\n",
              "      <td>2022-04-01</td>\n",
              "      <td>frutas</td>\n",
              "      <td>Coco</td>\n",
              "      <td>3851.0</td>\n",
              "      <td>Bogota, D.C.</td>\n",
              "      <td>Corabastos</td>\n",
              "    </tr>\n",
              "    <tr>\n",
              "      <th>40</th>\n",
              "      <td>2022-05-01</td>\n",
              "      <td>frutas</td>\n",
              "      <td>Coco</td>\n",
              "      <td>3875.0</td>\n",
              "      <td>Bogota, D.C.</td>\n",
              "      <td>Corabastos</td>\n",
              "    </tr>\n",
              "    <tr>\n",
              "      <th>41</th>\n",
              "      <td>2022-06-01</td>\n",
              "      <td>frutas</td>\n",
              "      <td>Coco</td>\n",
              "      <td>3856.0</td>\n",
              "      <td>Bogota, D.C.</td>\n",
              "      <td>Corabastos</td>\n",
              "    </tr>\n",
              "    <tr>\n",
              "      <th>42</th>\n",
              "      <td>2022-07-01</td>\n",
              "      <td>frutas</td>\n",
              "      <td>Coco</td>\n",
              "      <td>3858.0</td>\n",
              "      <td>Bogota, D.C.</td>\n",
              "      <td>Corabastos</td>\n",
              "    </tr>\n",
              "    <tr>\n",
              "      <th>43</th>\n",
              "      <td>2022-08-01</td>\n",
              "      <td>frutas</td>\n",
              "      <td>Coco</td>\n",
              "      <td>3820.0</td>\n",
              "      <td>Bogota, D.C.</td>\n",
              "      <td>Corabastos</td>\n",
              "    </tr>\n",
              "    <tr>\n",
              "      <th>44</th>\n",
              "      <td>2022-09-01</td>\n",
              "      <td>frutas</td>\n",
              "      <td>Coco</td>\n",
              "      <td>3829.0</td>\n",
              "      <td>Bogota, D.C.</td>\n",
              "      <td>Corabastos</td>\n",
              "    </tr>\n",
              "    <tr>\n",
              "      <th>45</th>\n",
              "      <td>2022-10-01</td>\n",
              "      <td>frutas</td>\n",
              "      <td>Coco</td>\n",
              "      <td>3850.0</td>\n",
              "      <td>Bogota, D.C.</td>\n",
              "      <td>Corabastos</td>\n",
              "    </tr>\n",
              "    <tr>\n",
              "      <th>46</th>\n",
              "      <td>2022-11-01</td>\n",
              "      <td>frutas</td>\n",
              "      <td>Coco</td>\n",
              "      <td>3893.0</td>\n",
              "      <td>Bogota, D.C.</td>\n",
              "      <td>Corabastos</td>\n",
              "    </tr>\n",
              "    <tr>\n",
              "      <th>47</th>\n",
              "      <td>2022-12-01</td>\n",
              "      <td>frutas</td>\n",
              "      <td>Coco</td>\n",
              "      <td>3851.0</td>\n",
              "      <td>Bogota, D.C.</td>\n",
              "      <td>Corabastos</td>\n",
              "    </tr>\n",
              "  </tbody>\n",
              "</table>\n",
              "</div>"
            ]
          },
          "metadata": {},
          "execution_count": 55
        }
      ]
    },
    {
      "cell_type": "code",
      "source": [
        "prueba = dfpc\n",
        "prueba.head()"
      ],
      "metadata": {
        "colab": {
          "base_uri": "https://localhost:8080/",
          "height": 237
        },
        "id": "P3Y1SYhnSI1V",
        "outputId": "f422b09d-49ac-44bb-a4f9-8cc2db1818e6"
      },
      "execution_count": 56,
      "outputs": [
        {
          "output_type": "execute_result",
          "data": {
            "text/plain": [
              "             Grupo Producto  Precio KG        Ciudad        Plaza  Promedio\n",
              "Fecha                                                                      \n",
              "2019-01-01  frutas     Coco     3012.0  Bogota, D.C.   Corabastos      2019\n",
              "2019-02-01  frutas     Coco     3303.0  Bogota, D.C.   Corabastos      2019\n",
              "2019-03-01  frutas     Coco     3314.0  Bogota, D.C.   Corabastos      2019\n",
              "2019-04-01  frutas     Coco     3327.0  Bogota, D.C.   Corabastos      2019\n",
              "2019-05-01  frutas     Coco     3621.0  Bogota, D.C.   Corabastos      2019"
            ],
            "text/html": [
              "<div>\n",
              "<style scoped>\n",
              "    .dataframe tbody tr th:only-of-type {\n",
              "        vertical-align: middle;\n",
              "    }\n",
              "\n",
              "    .dataframe tbody tr th {\n",
              "        vertical-align: top;\n",
              "    }\n",
              "\n",
              "    .dataframe thead th {\n",
              "        text-align: right;\n",
              "    }\n",
              "</style>\n",
              "<table border=\"1\" class=\"dataframe\">\n",
              "  <thead>\n",
              "    <tr style=\"text-align: right;\">\n",
              "      <th></th>\n",
              "      <th>Grupo</th>\n",
              "      <th>Producto</th>\n",
              "      <th>Precio KG</th>\n",
              "      <th>Ciudad</th>\n",
              "      <th>Plaza</th>\n",
              "      <th>Promedio</th>\n",
              "    </tr>\n",
              "    <tr>\n",
              "      <th>Fecha</th>\n",
              "      <th></th>\n",
              "      <th></th>\n",
              "      <th></th>\n",
              "      <th></th>\n",
              "      <th></th>\n",
              "      <th></th>\n",
              "    </tr>\n",
              "  </thead>\n",
              "  <tbody>\n",
              "    <tr>\n",
              "      <th>2019-01-01</th>\n",
              "      <td>frutas</td>\n",
              "      <td>Coco</td>\n",
              "      <td>3012.0</td>\n",
              "      <td>Bogota, D.C.</td>\n",
              "      <td>Corabastos</td>\n",
              "      <td>2019</td>\n",
              "    </tr>\n",
              "    <tr>\n",
              "      <th>2019-02-01</th>\n",
              "      <td>frutas</td>\n",
              "      <td>Coco</td>\n",
              "      <td>3303.0</td>\n",
              "      <td>Bogota, D.C.</td>\n",
              "      <td>Corabastos</td>\n",
              "      <td>2019</td>\n",
              "    </tr>\n",
              "    <tr>\n",
              "      <th>2019-03-01</th>\n",
              "      <td>frutas</td>\n",
              "      <td>Coco</td>\n",
              "      <td>3314.0</td>\n",
              "      <td>Bogota, D.C.</td>\n",
              "      <td>Corabastos</td>\n",
              "      <td>2019</td>\n",
              "    </tr>\n",
              "    <tr>\n",
              "      <th>2019-04-01</th>\n",
              "      <td>frutas</td>\n",
              "      <td>Coco</td>\n",
              "      <td>3327.0</td>\n",
              "      <td>Bogota, D.C.</td>\n",
              "      <td>Corabastos</td>\n",
              "      <td>2019</td>\n",
              "    </tr>\n",
              "    <tr>\n",
              "      <th>2019-05-01</th>\n",
              "      <td>frutas</td>\n",
              "      <td>Coco</td>\n",
              "      <td>3621.0</td>\n",
              "      <td>Bogota, D.C.</td>\n",
              "      <td>Corabastos</td>\n",
              "      <td>2019</td>\n",
              "    </tr>\n",
              "  </tbody>\n",
              "</table>\n",
              "</div>"
            ]
          },
          "metadata": {},
          "execution_count": 56
        }
      ]
    },
    {
      "cell_type": "code",
      "source": [
        "# here we are using the index and convert it to a string \n",
        "prueba.index = (prueba.index.strftime(\"%m/%d/%Y\"))"
      ],
      "metadata": {
        "id": "nc4JFGKzRTpU"
      },
      "execution_count": 57,
      "outputs": []
    },
    {
      "cell_type": "code",
      "source": [
        "# there is a problem in the conversion between matplotlib and csipy you could usse \n",
        "# then i change the index to a normal array instead of using the Date Time\n",
        "dfs = prueba.iloc[-12:,:]\n",
        "xs = dfs.index\n",
        "ys = dfs['Precio KG']\n",
        "lin_ress = linregress(xs,ys)"
      ],
      "metadata": {
        "id": "ASvz3N6pjOb9",
        "colab": {
          "base_uri": "https://localhost:8080/",
          "height": 624
        },
        "outputId": "56067316-b68f-4d63-bc42-4a410f6b5517"
      },
      "execution_count": 58,
      "outputs": [
        {
          "output_type": "error",
          "ename": "TypeError",
          "evalue": "ignored",
          "traceback": [
            "\u001b[1;31m---------------------------------------------------------------------------\u001b[0m",
            "\u001b[1;31mTypeError\u001b[0m                                 Traceback (most recent call last)",
            "\u001b[1;32m~\\AppData\\Local\\Temp\\ipykernel_5976\\25626090.py\u001b[0m in \u001b[0;36m<module>\u001b[1;34m\u001b[0m\n\u001b[0;32m      4\u001b[0m \u001b[0mxs\u001b[0m \u001b[1;33m=\u001b[0m \u001b[0mdfs\u001b[0m\u001b[1;33m.\u001b[0m\u001b[0mindex\u001b[0m\u001b[1;33m\u001b[0m\u001b[1;33m\u001b[0m\u001b[0m\n\u001b[0;32m      5\u001b[0m \u001b[0mys\u001b[0m \u001b[1;33m=\u001b[0m \u001b[0mdfs\u001b[0m\u001b[1;33m[\u001b[0m\u001b[1;34m'Precio KG'\u001b[0m\u001b[1;33m]\u001b[0m\u001b[1;33m\u001b[0m\u001b[1;33m\u001b[0m\u001b[0m\n\u001b[1;32m----> 6\u001b[1;33m \u001b[0mlin_ress\u001b[0m \u001b[1;33m=\u001b[0m \u001b[0mlinregress\u001b[0m\u001b[1;33m(\u001b[0m\u001b[0mxs\u001b[0m\u001b[1;33m,\u001b[0m\u001b[0mys\u001b[0m\u001b[1;33m)\u001b[0m\u001b[1;33m\u001b[0m\u001b[1;33m\u001b[0m\u001b[0m\n\u001b[0m",
            "\u001b[1;32mC:\\ProgramData\\Anaconda3\\lib\\site-packages\\scipy\\stats\\_stats_mstats_common.py\u001b[0m in \u001b[0;36mlinregress\u001b[1;34m(x, y, alternative)\u001b[0m\n\u001b[0;32m    158\u001b[0m \u001b[1;33m\u001b[0m\u001b[0m\n\u001b[0;32m    159\u001b[0m     \u001b[0mn\u001b[0m \u001b[1;33m=\u001b[0m \u001b[0mlen\u001b[0m\u001b[1;33m(\u001b[0m\u001b[0mx\u001b[0m\u001b[1;33m)\u001b[0m\u001b[1;33m\u001b[0m\u001b[1;33m\u001b[0m\u001b[0m\n\u001b[1;32m--> 160\u001b[1;33m     \u001b[0mxmean\u001b[0m \u001b[1;33m=\u001b[0m \u001b[0mnp\u001b[0m\u001b[1;33m.\u001b[0m\u001b[0mmean\u001b[0m\u001b[1;33m(\u001b[0m\u001b[0mx\u001b[0m\u001b[1;33m,\u001b[0m \u001b[1;32mNone\u001b[0m\u001b[1;33m)\u001b[0m\u001b[1;33m\u001b[0m\u001b[1;33m\u001b[0m\u001b[0m\n\u001b[0m\u001b[0;32m    161\u001b[0m     \u001b[0mymean\u001b[0m \u001b[1;33m=\u001b[0m \u001b[0mnp\u001b[0m\u001b[1;33m.\u001b[0m\u001b[0mmean\u001b[0m\u001b[1;33m(\u001b[0m\u001b[0my\u001b[0m\u001b[1;33m,\u001b[0m \u001b[1;32mNone\u001b[0m\u001b[1;33m)\u001b[0m\u001b[1;33m\u001b[0m\u001b[1;33m\u001b[0m\u001b[0m\n\u001b[0;32m    162\u001b[0m \u001b[1;33m\u001b[0m\u001b[0m\n",
            "\u001b[1;32m<__array_function__ internals>\u001b[0m in \u001b[0;36mmean\u001b[1;34m(*args, **kwargs)\u001b[0m\n",
            "\u001b[1;32mC:\\ProgramData\\Anaconda3\\lib\\site-packages\\numpy\\core\\fromnumeric.py\u001b[0m in \u001b[0;36mmean\u001b[1;34m(a, axis, dtype, out, keepdims, where)\u001b[0m\n\u001b[0;32m   3438\u001b[0m             \u001b[1;32mreturn\u001b[0m \u001b[0mmean\u001b[0m\u001b[1;33m(\u001b[0m\u001b[0maxis\u001b[0m\u001b[1;33m=\u001b[0m\u001b[0maxis\u001b[0m\u001b[1;33m,\u001b[0m \u001b[0mdtype\u001b[0m\u001b[1;33m=\u001b[0m\u001b[0mdtype\u001b[0m\u001b[1;33m,\u001b[0m \u001b[0mout\u001b[0m\u001b[1;33m=\u001b[0m\u001b[0mout\u001b[0m\u001b[1;33m,\u001b[0m \u001b[1;33m**\u001b[0m\u001b[0mkwargs\u001b[0m\u001b[1;33m)\u001b[0m\u001b[1;33m\u001b[0m\u001b[1;33m\u001b[0m\u001b[0m\n\u001b[0;32m   3439\u001b[0m \u001b[1;33m\u001b[0m\u001b[0m\n\u001b[1;32m-> 3440\u001b[1;33m     return _methods._mean(a, axis=axis, dtype=dtype,\n\u001b[0m\u001b[0;32m   3441\u001b[0m                           out=out, **kwargs)\n\u001b[0;32m   3442\u001b[0m \u001b[1;33m\u001b[0m\u001b[0m\n",
            "\u001b[1;32mC:\\ProgramData\\Anaconda3\\lib\\site-packages\\numpy\\core\\_methods.py\u001b[0m in \u001b[0;36m_mean\u001b[1;34m(a, axis, dtype, out, keepdims, where)\u001b[0m\n\u001b[0;32m    189\u001b[0m             \u001b[0mret\u001b[0m \u001b[1;33m=\u001b[0m \u001b[0mret\u001b[0m\u001b[1;33m.\u001b[0m\u001b[0mdtype\u001b[0m\u001b[1;33m.\u001b[0m\u001b[0mtype\u001b[0m\u001b[1;33m(\u001b[0m\u001b[0mret\u001b[0m \u001b[1;33m/\u001b[0m \u001b[0mrcount\u001b[0m\u001b[1;33m)\u001b[0m\u001b[1;33m\u001b[0m\u001b[1;33m\u001b[0m\u001b[0m\n\u001b[0;32m    190\u001b[0m     \u001b[1;32melse\u001b[0m\u001b[1;33m:\u001b[0m\u001b[1;33m\u001b[0m\u001b[1;33m\u001b[0m\u001b[0m\n\u001b[1;32m--> 191\u001b[1;33m         \u001b[0mret\u001b[0m \u001b[1;33m=\u001b[0m \u001b[0mret\u001b[0m \u001b[1;33m/\u001b[0m \u001b[0mrcount\u001b[0m\u001b[1;33m\u001b[0m\u001b[1;33m\u001b[0m\u001b[0m\n\u001b[0m\u001b[0;32m    192\u001b[0m \u001b[1;33m\u001b[0m\u001b[0m\n\u001b[0;32m    193\u001b[0m     \u001b[1;32mreturn\u001b[0m \u001b[0mret\u001b[0m\u001b[1;33m\u001b[0m\u001b[1;33m\u001b[0m\u001b[0m\n",
            "\u001b[1;31mTypeError\u001b[0m: ufunc 'true_divide' not supported for the input types, and the inputs could not be safely coerced to any supported types according to the casting rule ''safe''"
          ]
        }
      ]
    },
    {
      "cell_type": "code",
      "source": [
        "dfs.index"
      ],
      "metadata": {
        "id": "HVM-VmFwaNdm"
      },
      "execution_count": null,
      "outputs": []
    },
    {
      "cell_type": "code",
      "source": [
        "sns.regplot(x=xs ,y = ys ,data=dfs)"
      ],
      "metadata": {
        "id": "n-wt-uZ_mClm"
      },
      "execution_count": null,
      "outputs": []
    },
    {
      "cell_type": "code",
      "source": [
        "dfpc.info()"
      ],
      "metadata": {
        "id": "qvEev-Gzku58"
      },
      "execution_count": null,
      "outputs": []
    },
    {
      "cell_type": "code",
      "source": [
        "x=dfpc.index\n",
        "y=dfpc['Precio KG']\n",
        "plt.title(t)\n",
        "plt.xlabel('Fecha')\n",
        "plt.ylabel('Precio KG')\n",
        "plt.scatter(x,y)\n",
        "plt.show"
      ],
      "metadata": {
        "id": "eL74Pqe5gVmp"
      },
      "execution_count": null,
      "outputs": []
    },
    {
      "cell_type": "markdown",
      "source": [
        "#General Analysis \n"
      ],
      "metadata": {
        "id": "8J0Rc7XEVsms"
      }
    },
    {
      "cell_type": "code",
      "source": [
        "# here dfgc means dataframe group and city\n",
        "dfgc = df2[df2['Ciudad'].isin(C)]\n",
        "dfgc.head()"
      ],
      "metadata": {
        "colab": {
          "base_uri": "https://localhost:8080/",
          "height": 237
        },
        "id": "QISMQne6nfaV",
        "outputId": "7635fe45-2072-4e04-82c7-80ff09128481"
      },
      "execution_count": 83,
      "outputs": [
        {
          "output_type": "execute_result",
          "data": {
            "text/plain": [
              "             Grupo            Producto  Precio KG        Ciudad        Plaza\n",
              "Fecha                                                                       \n",
              "2019-01-01  frutas       Aguacate Hass     3972.0  Bogota, D.C.   Corabastos\n",
              "2019-01-01  frutas  Aguacate papelillo     4379.0  Bogota, D.C.   Corabastos\n",
              "2019-01-01  frutas      Banano criollo     1158.0  Bogota, D.C.   Corabastos\n",
              "2019-01-01  frutas        Banano Uraba     1079.0  Bogota, D.C.   Corabastos\n",
              "2019-01-01  frutas              Borojó     3107.0  Bogota, D.C.   Corabastos"
            ],
            "text/html": [
              "<div>\n",
              "<style scoped>\n",
              "    .dataframe tbody tr th:only-of-type {\n",
              "        vertical-align: middle;\n",
              "    }\n",
              "\n",
              "    .dataframe tbody tr th {\n",
              "        vertical-align: top;\n",
              "    }\n",
              "\n",
              "    .dataframe thead th {\n",
              "        text-align: right;\n",
              "    }\n",
              "</style>\n",
              "<table border=\"1\" class=\"dataframe\">\n",
              "  <thead>\n",
              "    <tr style=\"text-align: right;\">\n",
              "      <th></th>\n",
              "      <th>Grupo</th>\n",
              "      <th>Producto</th>\n",
              "      <th>Precio KG</th>\n",
              "      <th>Ciudad</th>\n",
              "      <th>Plaza</th>\n",
              "    </tr>\n",
              "    <tr>\n",
              "      <th>Fecha</th>\n",
              "      <th></th>\n",
              "      <th></th>\n",
              "      <th></th>\n",
              "      <th></th>\n",
              "      <th></th>\n",
              "    </tr>\n",
              "  </thead>\n",
              "  <tbody>\n",
              "    <tr>\n",
              "      <th>2019-01-01</th>\n",
              "      <td>frutas</td>\n",
              "      <td>Aguacate Hass</td>\n",
              "      <td>3972.0</td>\n",
              "      <td>Bogota, D.C.</td>\n",
              "      <td>Corabastos</td>\n",
              "    </tr>\n",
              "    <tr>\n",
              "      <th>2019-01-01</th>\n",
              "      <td>frutas</td>\n",
              "      <td>Aguacate papelillo</td>\n",
              "      <td>4379.0</td>\n",
              "      <td>Bogota, D.C.</td>\n",
              "      <td>Corabastos</td>\n",
              "    </tr>\n",
              "    <tr>\n",
              "      <th>2019-01-01</th>\n",
              "      <td>frutas</td>\n",
              "      <td>Banano criollo</td>\n",
              "      <td>1158.0</td>\n",
              "      <td>Bogota, D.C.</td>\n",
              "      <td>Corabastos</td>\n",
              "    </tr>\n",
              "    <tr>\n",
              "      <th>2019-01-01</th>\n",
              "      <td>frutas</td>\n",
              "      <td>Banano Uraba</td>\n",
              "      <td>1079.0</td>\n",
              "      <td>Bogota, D.C.</td>\n",
              "      <td>Corabastos</td>\n",
              "    </tr>\n",
              "    <tr>\n",
              "      <th>2019-01-01</th>\n",
              "      <td>frutas</td>\n",
              "      <td>Borojó</td>\n",
              "      <td>3107.0</td>\n",
              "      <td>Bogota, D.C.</td>\n",
              "      <td>Corabastos</td>\n",
              "    </tr>\n",
              "  </tbody>\n",
              "</table>\n",
              "</div>"
            ]
          },
          "metadata": {},
          "execution_count": 83
        }
      ]
    },
    {
      "cell_type": "code",
      "source": [
        "dfgc.index"
      ],
      "metadata": {
        "colab": {
          "base_uri": "https://localhost:8080/"
        },
        "id": "FRBz2hzAQrRx",
        "outputId": "d87c6b09-b705-4d09-b068-f16bfafb5204"
      },
      "execution_count": 84,
      "outputs": [
        {
          "output_type": "execute_result",
          "data": {
            "text/plain": [
              "DatetimeIndex(['2019-01-01', '2019-01-01', '2019-01-01', '2019-01-01',\n",
              "               '2019-01-01', '2019-01-01', '2019-01-01', '2019-01-01',\n",
              "               '2019-01-01', '2019-01-01',\n",
              "               ...\n",
              "               '2022-12-01', '2022-12-01', '2022-12-01', '2022-12-01',\n",
              "               '2022-12-01', '2022-12-01', '2022-12-01', '2022-12-01',\n",
              "               '2022-12-01', '2022-12-01'],\n",
              "              dtype='datetime64[ns]', name='Fecha', length=2424, freq=None)"
            ]
          },
          "metadata": {},
          "execution_count": 84
        }
      ]
    },
    {
      "cell_type": "code",
      "source": [
        "dfgc[\"Precio KG\"].nsmallest(15)"
      ],
      "metadata": {
        "colab": {
          "base_uri": "https://localhost:8080/"
        },
        "id": "HFc9qpqx3cJg",
        "outputId": "72346afd-4329-49ff-df17-ec76504d910c"
      },
      "execution_count": 85,
      "outputs": [
        {
          "output_type": "execute_result",
          "data": {
            "text/plain": [
              "Fecha\n",
              "2019-03-01    788.0\n",
              "2019-01-01    804.0\n",
              "2021-03-01    813.0\n",
              "2020-12-01    816.0\n",
              "2020-09-01    822.0\n",
              "2019-02-01    827.0\n",
              "2020-05-01    831.0\n",
              "2020-05-01    838.0\n",
              "2020-08-01    853.0\n",
              "2021-07-01    860.0\n",
              "2020-04-01    863.0\n",
              "2021-06-01    872.0\n",
              "2021-04-01    881.0\n",
              "2019-04-01    885.0\n",
              "2021-09-01    885.0\n",
              "Name: Precio KG, dtype: float64"
            ]
          },
          "metadata": {},
          "execution_count": 85
        }
      ]
    },
    {
      "cell_type": "code",
      "source": [
        "# here we find some of the min values across all the months\n",
        "equis = dfgc[\"Precio KG\"] == 885\n",
        "dfgc[equis]"
      ],
      "metadata": {
        "colab": {
          "base_uri": "https://localhost:8080/",
          "height": 143
        },
        "id": "zb3ZhtTj32vZ",
        "outputId": "56778c5c-4b87-4a5c-d60c-7df6b0aeab45"
      },
      "execution_count": 86,
      "outputs": [
        {
          "output_type": "execute_result",
          "data": {
            "text/plain": [
              "             Grupo       Producto  Precio KG        Ciudad        Plaza\n",
              "Fecha                                                                  \n",
              "2019-04-01  frutas        Patilla      885.0  Bogota, D.C.   Corabastos\n",
              "2021-09-01  frutas  Piña perolera      885.0  Bogota, D.C.   Corabastos"
            ],
            "text/html": [
              "<div>\n",
              "<style scoped>\n",
              "    .dataframe tbody tr th:only-of-type {\n",
              "        vertical-align: middle;\n",
              "    }\n",
              "\n",
              "    .dataframe tbody tr th {\n",
              "        vertical-align: top;\n",
              "    }\n",
              "\n",
              "    .dataframe thead th {\n",
              "        text-align: right;\n",
              "    }\n",
              "</style>\n",
              "<table border=\"1\" class=\"dataframe\">\n",
              "  <thead>\n",
              "    <tr style=\"text-align: right;\">\n",
              "      <th></th>\n",
              "      <th>Grupo</th>\n",
              "      <th>Producto</th>\n",
              "      <th>Precio KG</th>\n",
              "      <th>Ciudad</th>\n",
              "      <th>Plaza</th>\n",
              "    </tr>\n",
              "    <tr>\n",
              "      <th>Fecha</th>\n",
              "      <th></th>\n",
              "      <th></th>\n",
              "      <th></th>\n",
              "      <th></th>\n",
              "      <th></th>\n",
              "    </tr>\n",
              "  </thead>\n",
              "  <tbody>\n",
              "    <tr>\n",
              "      <th>2019-04-01</th>\n",
              "      <td>frutas</td>\n",
              "      <td>Patilla</td>\n",
              "      <td>885.0</td>\n",
              "      <td>Bogota, D.C.</td>\n",
              "      <td>Corabastos</td>\n",
              "    </tr>\n",
              "    <tr>\n",
              "      <th>2021-09-01</th>\n",
              "      <td>frutas</td>\n",
              "      <td>Piña perolera</td>\n",
              "      <td>885.0</td>\n",
              "      <td>Bogota, D.C.</td>\n",
              "      <td>Corabastos</td>\n",
              "    </tr>\n",
              "  </tbody>\n",
              "</table>\n",
              "</div>"
            ]
          },
          "metadata": {},
          "execution_count": 86
        }
      ]
    },
    {
      "cell_type": "code",
      "source": [
        "# that shows this result isn't correct\n",
        "#\n",
        "dfgc = df2[df2['Ciudad'].isin(C)]\n",
        "prueba_2 = dfgc.groupby([dfgc.index.month,\"Producto\"])['Precio KG'].mean()\n",
        "prueba_2 = prueba_2.to_frame() # to convert the series into a dataframe\n",
        "prueba_2.reset_index(inplace = True) #reseting the index\n",
        "prueba_2['Precio KG'].nsmallest() # this get you the min value out of Precio KG\n",
        "prueba_2.groupby(['Fecha'])[\"Precio KG\",\"Producto\"].min() # groupinh by month but getting the min \n",
        "\n"
      ],
      "metadata": {
        "id": "CQh37CNkzuaJ",
        "colab": {
          "base_uri": "https://localhost:8080/",
          "height": 513
        },
        "outputId": "4313ba4c-dde5-4a68-afad-23d2fc7dda8e"
      },
      "execution_count": 87,
      "outputs": [
        {
          "output_type": "stream",
          "name": "stderr",
          "text": [
            "C:\\Users\\Camilo De Los Rios\\AppData\\Local\\Temp\\ipykernel_5976\\1693163802.py:8: FutureWarning: Indexing with multiple keys (implicitly converted to a tuple of keys) will be deprecated, use a list instead.\n",
            "  prueba_2.groupby(['Fecha'])[\"Precio KG\",\"Producto\"].min() # groupinh by month but getting the min\n"
          ]
        },
        {
          "output_type": "execute_result",
          "data": {
            "text/plain": [
              "       Precio KG       Producto\n",
              "Fecha                          \n",
              "1        1138.00  Aguacate Hass\n",
              "2        1092.50  Aguacate Hass\n",
              "3        1025.50  Aguacate Hass\n",
              "4         980.00  Aguacate Hass\n",
              "5        1149.00  Aguacate Hass\n",
              "6        1090.25  Aguacate Hass\n",
              "7        1021.50  Aguacate Hass\n",
              "8        1018.50  Aguacate Hass\n",
              "9        1141.25  Aguacate Hass\n",
              "10       1209.50  Aguacate Hass\n",
              "11       1188.25  Aguacate Hass\n",
              "12       1156.50  Aguacate Hass"
            ],
            "text/html": [
              "<div>\n",
              "<style scoped>\n",
              "    .dataframe tbody tr th:only-of-type {\n",
              "        vertical-align: middle;\n",
              "    }\n",
              "\n",
              "    .dataframe tbody tr th {\n",
              "        vertical-align: top;\n",
              "    }\n",
              "\n",
              "    .dataframe thead th {\n",
              "        text-align: right;\n",
              "    }\n",
              "</style>\n",
              "<table border=\"1\" class=\"dataframe\">\n",
              "  <thead>\n",
              "    <tr style=\"text-align: right;\">\n",
              "      <th></th>\n",
              "      <th>Precio KG</th>\n",
              "      <th>Producto</th>\n",
              "    </tr>\n",
              "    <tr>\n",
              "      <th>Fecha</th>\n",
              "      <th></th>\n",
              "      <th></th>\n",
              "    </tr>\n",
              "  </thead>\n",
              "  <tbody>\n",
              "    <tr>\n",
              "      <th>1</th>\n",
              "      <td>1138.00</td>\n",
              "      <td>Aguacate Hass</td>\n",
              "    </tr>\n",
              "    <tr>\n",
              "      <th>2</th>\n",
              "      <td>1092.50</td>\n",
              "      <td>Aguacate Hass</td>\n",
              "    </tr>\n",
              "    <tr>\n",
              "      <th>3</th>\n",
              "      <td>1025.50</td>\n",
              "      <td>Aguacate Hass</td>\n",
              "    </tr>\n",
              "    <tr>\n",
              "      <th>4</th>\n",
              "      <td>980.00</td>\n",
              "      <td>Aguacate Hass</td>\n",
              "    </tr>\n",
              "    <tr>\n",
              "      <th>5</th>\n",
              "      <td>1149.00</td>\n",
              "      <td>Aguacate Hass</td>\n",
              "    </tr>\n",
              "    <tr>\n",
              "      <th>6</th>\n",
              "      <td>1090.25</td>\n",
              "      <td>Aguacate Hass</td>\n",
              "    </tr>\n",
              "    <tr>\n",
              "      <th>7</th>\n",
              "      <td>1021.50</td>\n",
              "      <td>Aguacate Hass</td>\n",
              "    </tr>\n",
              "    <tr>\n",
              "      <th>8</th>\n",
              "      <td>1018.50</td>\n",
              "      <td>Aguacate Hass</td>\n",
              "    </tr>\n",
              "    <tr>\n",
              "      <th>9</th>\n",
              "      <td>1141.25</td>\n",
              "      <td>Aguacate Hass</td>\n",
              "    </tr>\n",
              "    <tr>\n",
              "      <th>10</th>\n",
              "      <td>1209.50</td>\n",
              "      <td>Aguacate Hass</td>\n",
              "    </tr>\n",
              "    <tr>\n",
              "      <th>11</th>\n",
              "      <td>1188.25</td>\n",
              "      <td>Aguacate Hass</td>\n",
              "    </tr>\n",
              "    <tr>\n",
              "      <th>12</th>\n",
              "      <td>1156.50</td>\n",
              "      <td>Aguacate Hass</td>\n",
              "    </tr>\n",
              "  </tbody>\n",
              "</table>\n",
              "</div>"
            ]
          },
          "metadata": {},
          "execution_count": 87
        }
      ]
    },
    {
      "cell_type": "code",
      "source": [
        "#we grouped the prices by produt in month and get the mean of the product around all the same januaries for example\n",
        "prueba_2 = dfgc.groupby([dfgc.index.month,\"Producto\"])['Precio KG'].mean()# this gives us the mean of the price by product grouped in month\n",
        "prueba_2 = prueba_2.to_frame() # to convert the dataframe\n",
        "prueba_2.reset_index(inplace = True) # to change to multi index to a normal one\n",
        "prueba_2['Fecha'] # to then see if the fecha is a new column to use it as the month to group"
      ],
      "metadata": {
        "colab": {
          "base_uri": "https://localhost:8080/"
        },
        "id": "q9k6ai6vVFHk",
        "outputId": "c04d54fd-db5b-4ce9-9ecd-f5c31dcb266b"
      },
      "execution_count": 88,
      "outputs": [
        {
          "output_type": "execute_result",
          "data": {
            "text/plain": [
              "0       1\n",
              "1       1\n",
              "2       1\n",
              "3       1\n",
              "4       1\n",
              "       ..\n",
              "642    12\n",
              "643    12\n",
              "644    12\n",
              "645    12\n",
              "646    12\n",
              "Name: Fecha, Length: 647, dtype: int64"
            ]
          },
          "metadata": {},
          "execution_count": 88
        }
      ]
    },
    {
      "cell_type": "code",
      "source": [
        "# a test to find the min value for a month in the dataframe\n",
        "m =1\n",
        "month_price = prueba_2['Fecha'] == m # this boolean can check for a variable that is the number of the month\n",
        "lista = prueba_2[month_price] # here we translate the bool into a dataframe\n",
        "min_index = lista['Precio KG'].idxmin() # this will give you the index number of the minimun price value\n",
        "lista.loc[min_index] # we use the variable to then call the product\n"
      ],
      "metadata": {
        "colab": {
          "base_uri": "https://localhost:8080/"
        },
        "id": "jrSPHwhcWqzQ",
        "outputId": "701ad031-7573-4e17-d59d-8060dce4d01a"
      },
      "execution_count": 89,
      "outputs": [
        {
          "output_type": "execute_result",
          "data": {
            "text/plain": [
              "Fecha              1\n",
              "Producto     Patilla\n",
              "Precio KG     1138.0\n",
              "Name: 38, dtype: object"
            ]
          },
          "metadata": {},
          "execution_count": 89
        }
      ]
    },
    {
      "cell_type": "code",
      "source": [
        "# now we can pass this into the loop to do it for every month\n",
        "# a for loop to get the min value of every month\n",
        "for month in range(12):\n",
        "  month +=1\n",
        "  month_price = prueba_2['Fecha'] == month\n",
        "  lista = prueba_2[month_price]\n",
        "  min_index = lista['Precio KG'].idxmin()\n",
        "  min_price_month = lista.loc[min_index]\n",
        "  print(min_price_month)"
      ],
      "metadata": {
        "colab": {
          "base_uri": "https://localhost:8080/"
        },
        "id": "a5EqLt8VP7uW",
        "outputId": "8e93870a-450a-4152-e01c-165c8400223a"
      },
      "execution_count": 118,
      "outputs": [
        {
          "output_type": "stream",
          "name": "stdout",
          "text": [
            "Fecha              1\n",
            "Producto     Patilla\n",
            "Precio KG     1138.0\n",
            "Name: 38, dtype: object\n",
            "Fecha              2\n",
            "Producto     Patilla\n",
            "Precio KG     1092.5\n",
            "Name: 92, dtype: object\n",
            "Fecha              3\n",
            "Producto     Patilla\n",
            "Precio KG     1025.5\n",
            "Name: 146, dtype: object\n",
            "Fecha                    4\n",
            "Producto     Piña perolera\n",
            "Precio KG            980.0\n",
            "Name: 206, dtype: object\n",
            "Fecha                    5\n",
            "Producto     Piña perolera\n",
            "Precio KG           1149.0\n",
            "Name: 259, dtype: object\n",
            "Fecha                   6\n",
            "Producto     Limón Tahiti\n",
            "Precio KG         1090.25\n",
            "Name: 287, dtype: object\n",
            "Fecha                    7\n",
            "Producto     Piña perolera\n",
            "Precio KG           1021.5\n",
            "Name: 367, dtype: object\n",
            "Fecha                    8\n",
            "Producto     Piña perolera\n",
            "Precio KG           1018.5\n",
            "Name: 421, dtype: object\n",
            "Fecha                    9\n",
            "Producto     Piña perolera\n",
            "Precio KG          1141.25\n",
            "Name: 475, dtype: object\n",
            "Fecha                   10\n",
            "Producto     Piña perolera\n",
            "Precio KG           1209.5\n",
            "Name: 529, dtype: object\n",
            "Fecha                   11\n",
            "Producto     Piña perolera\n",
            "Precio KG          1188.25\n",
            "Name: 584, dtype: object\n",
            "Fecha             12\n",
            "Producto     Patilla\n",
            "Precio KG     1156.5\n",
            "Name: 633, dtype: object\n"
          ]
        }
      ]
    },
    {
      "cell_type": "code",
      "source": [
        "# how can we get the min 3 values of a month?\n",
        "# a test to find the min value for a month in the dataframe\n",
        "m =1\n",
        "month_price = prueba_2['Fecha'] == m # this boolean can check for a variable that is the number of the month\n",
        "lista = prueba_2[month_price] # here we translate the bool into a dataframe\n",
        "min_index = lista['Precio KG'].idxmin() # this will give you the index number of the minimun price value\n",
        "lista.loc[min_index] # we use the variable to then call the product"
      ],
      "metadata": {
        "id": "Modez56zk87L",
        "colab": {
          "base_uri": "https://localhost:8080/"
        },
        "outputId": "c959ce20-e366-4d6c-c1c2-c08dc4565b06"
      },
      "execution_count": 91,
      "outputs": [
        {
          "output_type": "execute_result",
          "data": {
            "text/plain": [
              "Fecha              1\n",
              "Producto     Patilla\n",
              "Precio KG     1138.0\n",
              "Name: 38, dtype: object"
            ]
          },
          "metadata": {},
          "execution_count": 91
        }
      ]
    },
    {
      "cell_type": "code",
      "source": [
        "# Now we would like to get more min values out of this loop"
      ],
      "metadata": {
        "id": "YDJonI_YNONJ"
      },
      "execution_count": 92,
      "outputs": []
    },
    {
      "cell_type": "code",
      "source": [
        "m = 1\n",
        "ene = 5 \n",
        "month_price = prueba_2['Fecha'] == m # this boolean can check for a variable that is the number of the month\n",
        "lista = prueba_2[month_price] # here we translate the bool into a dataframe\n",
        "min_index = lista.nsmallest(ene,['Precio KG']) # i learned that using nsmallest is easy to get all the values and not selecting prior the column \n",
        "print(min_index)"
      ],
      "metadata": {
        "colab": {
          "base_uri": "https://localhost:8080/"
        },
        "id": "h_8vtzjaXJM5",
        "outputId": "7c8fd4a8-15b6-481b-ae12-17a541752c8a"
      },
      "execution_count": 116,
      "outputs": [
        {
          "output_type": "stream",
          "name": "stdout",
          "text": [
            "    Fecha          Producto  Precio KG\n",
            "38      1           Patilla    1138.00\n",
            "44      1     Piña perolera    1183.25\n",
            "34      1     Naranja Sweet    1359.25\n",
            "35      1  Naranja Valencia    1359.50\n",
            "2       1      Banano Uraba    1360.25\n"
          ]
        }
      ]
    },
    {
      "cell_type": "code",
      "source": [
        "#New bolean including n min values\n",
        "display_n_prices = 5 # select how many min prices you will like to know for every month\n",
        "for month in range(12):\n",
        "  month +=1\n",
        "  month_price = prueba_2['Fecha'] == month\n",
        "  lista = prueba_2[month_price]\n",
        "  min_price_month = lista.nsmallest(display_n_prices,['Precio KG']) # i learned that using nsmallest you can display all\n",
        "  print(min_price_month)"
      ],
      "metadata": {
        "colab": {
          "base_uri": "https://localhost:8080/"
        },
        "id": "vFBc5inybWHv",
        "outputId": "87109426-b47c-45e5-c24d-913d2286deeb"
      },
      "execution_count": 125,
      "outputs": [
        {
          "output_type": "stream",
          "name": "stdout",
          "text": [
            "    Fecha          Producto  Precio KG\n",
            "38      1           Patilla    1138.00\n",
            "44      1     Piña perolera    1183.25\n",
            "34      1     Naranja Sweet    1359.25\n",
            "35      1  Naranja Valencia    1359.50\n",
            "2       1      Banano Uraba    1360.25\n",
            "    Fecha          Producto  Precio KG\n",
            "92      2           Patilla    1092.50\n",
            "98      2     Piña perolera    1141.75\n",
            "87      2     Naranja Sweet    1326.50\n",
            "88      2  Naranja Valencia    1326.50\n",
            "54      2      Banano Uraba    1411.75\n",
            "     Fecha          Producto  Precio KG\n",
            "146      3           Patilla    1025.50\n",
            "152      3     Piña perolera    1108.75\n",
            "108      3      Banano Uraba    1329.25\n",
            "142      3  Naranja Valencia    1369.75\n",
            "141      3     Naranja Sweet    1370.00\n",
            "     Fecha        Producto  Precio KG\n",
            "206      4   Piña perolera     980.00\n",
            "200      4         Patilla    1023.75\n",
            "203      4   Pera nacional    1255.75\n",
            "162      4    Banano Uraba    1273.75\n",
            "198      4  Papaya Paulina    1274.00\n",
            "     Fecha          Producto  Precio KG\n",
            "259      5     Piña perolera    1149.00\n",
            "253      5           Patilla    1164.25\n",
            "256      5     Pera nacional    1365.00\n",
            "216      5      Banano Uraba    1373.75\n",
            "249      5  Naranja Valencia    1440.50\n",
            "     Fecha       Producto  Precio KG\n",
            "287      6   Limón Tahiti    1090.25\n",
            "313      6  Piña perolera    1154.50\n",
            "288      6    Limón común    1225.25\n",
            "269      6   Banano Uraba    1331.25\n",
            "307      6        Patilla    1370.75\n",
            "     Fecha          Producto  Precio KG\n",
            "367      7     Piña perolera    1021.50\n",
            "341      7      Limón Tahiti    1123.50\n",
            "342      7       Limón común    1243.00\n",
            "356      7     Naranja Sweet    1401.25\n",
            "357      7  Naranja Valencia    1404.25\n",
            "     Fecha          Producto  Precio KG\n",
            "421      8     Piña perolera    1018.50\n",
            "410      8     Naranja Sweet    1331.75\n",
            "411      8  Naranja Valencia    1332.00\n",
            "391      8      Guayaba pera    1402.00\n",
            "415      8           Patilla    1411.25\n",
            "     Fecha          Producto  Precio KG\n",
            "475      9     Piña perolera    1141.25\n",
            "465      9  Naranja Valencia    1283.50\n",
            "464      9     Naranja Sweet    1284.00\n",
            "431      9      Banano Uraba    1390.25\n",
            "469      9           Patilla    1451.75\n",
            "     Fecha          Producto  Precio KG\n",
            "529     10     Piña perolera    1209.50\n",
            "519     10  Naranja Valencia    1250.25\n",
            "518     10     Naranja Sweet    1251.25\n",
            "485     10      Banano Uraba    1321.25\n",
            "523     10           Patilla    1367.00\n",
            "     Fecha          Producto  Precio KG\n",
            "584     11     Piña perolera    1188.25\n",
            "578     11           Patilla    1217.75\n",
            "574     11  Naranja Valencia    1260.50\n",
            "573     11     Naranja Sweet    1260.75\n",
            "575     11    Papaya Maradol    1441.50\n",
            "     Fecha          Producto  Precio KG\n",
            "633     12           Patilla    1156.50\n",
            "639     12     Piña perolera    1223.75\n",
            "629     12  Naranja Valencia    1337.75\n",
            "628     12     Naranja Sweet    1339.50\n",
            "630     12    Papaya Maradol    1431.50\n"
          ]
        }
      ]
    }
  ],
  "metadata": {
    "colab": {
      "provenance": [],
      "authorship_tag": "ABX9TyNl1XgQp+QNYsPx+kQ6FLx0",
      "include_colab_link": true
    },
    "kernelspec": {
      "display_name": "Python 3",
      "name": "python3"
    },
    "language_info": {
      "name": "python"
    }
  },
  "nbformat": 4,
  "nbformat_minor": 0
}