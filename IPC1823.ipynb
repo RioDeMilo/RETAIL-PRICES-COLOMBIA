{
  "cells": [
    {
      "cell_type": "markdown",
      "metadata": {
        "id": "view-in-github",
        "colab_type": "text"
      },
      "source": [
        "<a href=\"https://colab.research.google.com/github/RioDeMilo/RETAIL-PRICES-COLOMBIA/blob/main/IPC1823.ipynb\" target=\"_parent\"><img src=\"https://colab.research.google.com/assets/colab-badge.svg\" alt=\"Open In Colab\"/></a>"
      ]
    },
    {
      "cell_type": "code",
      "execution_count": 123,
      "metadata": {
        "id": "MDVyyn1qbkAk"
      },
      "outputs": [],
      "source": [
        "# Here it is all the libraries that i need in order to manage the data and to plot it `\n",
        "import scipy as sci\n",
        "import numpy as np\n",
        "import pandas as pd\n",
        "import matplotlib.pyplot as plt\n",
        "import seaborn as sns\n",
        "from scipy import stats\n",
        "from scipy.stats import linregress"
      ]
    },
    {
      "cell_type": "code",
      "execution_count": 3,
      "metadata": {
        "id": "yZZH-lABb_n6"
      },
      "outputs": [],
      "source": [
        "# for this project i previously modified all the data from each year of analysis to a sngle sheet page in excel. \n",
        "df = pd.read_excel('/content/Gropu19-22.xlsx')"
      ]
    },
    {
      "cell_type": "code",
      "execution_count": 5,
      "metadata": {
        "id": "_z_ML2YjgHVp"
      },
      "outputs": [],
      "source": [
        "# This will get you the specified sheet page for further use.\n",
        "# but for this case i used a excel file ith only one page so it is not necessary and you need to ad the datafrme and a dicttionary ith the name of the pages like\n",
        "# sheet_name=['Hoja1']\n",
        "#df = df.get('Hoja1')\n"
      ]
    },
    {
      "cell_type": "markdown",
      "source": [
        "# Data preparing\n",
        "### Now we want to specify wheter we want to plot a spicified type of product \n",
        "but we should be able to see what type of products are available for comparison\n",
        "\n",
        "```\n",
        "# Tiene formato de código\n",
        "```\n",
        "\n"
      ],
      "metadata": {
        "id": "uQAZ4lrc6J16"
      }
    },
    {
      "cell_type": "code",
      "execution_count": 6,
      "metadata": {
        "id": "gFuIqz_ogZBY",
        "colab": {
          "base_uri": "https://localhost:8080/",
          "height": 424
        },
        "outputId": "9c60bd1e-d3c9-4a31-d5fc-5366a1919d93"
      },
      "outputs": [
        {
          "output_type": "stream",
          "name": "stdout",
          "text": [
            "<class 'pandas.core.frame.DataFrame'>\n",
            "RangeIndex: 220517 entries, 0 to 220516\n",
            "Data columns (total 5 columns):\n",
            " #   Column                  Non-Null Count   Dtype         \n",
            "---  ------                  --------------   -----         \n",
            " 0   Fecha                   220517 non-null  datetime64[ns]\n",
            " 1   Grupo                   220517 non-null  object        \n",
            " 2   Producto                220517 non-null  object        \n",
            " 3   Fuente                  220517 non-null  object        \n",
            " 4   Precio  por kilogramo*  220517 non-null  float64       \n",
            "dtypes: datetime64[ns](1), float64(1), object(3)\n",
            "memory usage: 8.4+ MB\n"
          ]
        },
        {
          "output_type": "execute_result",
          "data": {
            "text/plain": [
              "       Fecha                  Grupo Producto                        Fuente  \\\n",
              "0 2019-01-01  VERDURAS Y HORTALIZAS   Acelga               Armenia, Mercar   \n",
              "1 2019-01-01  VERDURAS Y HORTALIZAS   Acelga  Barranquilla, Barranquillita   \n",
              "2 2019-01-01  VERDURAS Y HORTALIZAS   Acelga      Bogotá, D.C., Corabastos   \n",
              "3 2019-01-01  VERDURAS Y HORTALIZAS   Acelga    Bucaramanga, Centroabastos   \n",
              "4 2019-01-01  VERDURAS Y HORTALIZAS   Acelga         Chiquinquirá (Boyacá)   \n",
              "\n",
              "   Precio  por kilogramo*  \n",
              "0                  1065.0  \n",
              "1                  3000.0  \n",
              "2                   764.0  \n",
              "3                  1556.0  \n",
              "4                  1058.0  "
            ],
            "text/html": [
              "\n",
              "  <div id=\"df-ce560f39-b212-4ef7-b793-ffa7638220d1\">\n",
              "    <div class=\"colab-df-container\">\n",
              "      <div>\n",
              "<style scoped>\n",
              "    .dataframe tbody tr th:only-of-type {\n",
              "        vertical-align: middle;\n",
              "    }\n",
              "\n",
              "    .dataframe tbody tr th {\n",
              "        vertical-align: top;\n",
              "    }\n",
              "\n",
              "    .dataframe thead th {\n",
              "        text-align: right;\n",
              "    }\n",
              "</style>\n",
              "<table border=\"1\" class=\"dataframe\">\n",
              "  <thead>\n",
              "    <tr style=\"text-align: right;\">\n",
              "      <th></th>\n",
              "      <th>Fecha</th>\n",
              "      <th>Grupo</th>\n",
              "      <th>Producto</th>\n",
              "      <th>Fuente</th>\n",
              "      <th>Precio  por kilogramo*</th>\n",
              "    </tr>\n",
              "  </thead>\n",
              "  <tbody>\n",
              "    <tr>\n",
              "      <th>0</th>\n",
              "      <td>2019-01-01</td>\n",
              "      <td>VERDURAS Y HORTALIZAS</td>\n",
              "      <td>Acelga</td>\n",
              "      <td>Armenia, Mercar</td>\n",
              "      <td>1065.0</td>\n",
              "    </tr>\n",
              "    <tr>\n",
              "      <th>1</th>\n",
              "      <td>2019-01-01</td>\n",
              "      <td>VERDURAS Y HORTALIZAS</td>\n",
              "      <td>Acelga</td>\n",
              "      <td>Barranquilla, Barranquillita</td>\n",
              "      <td>3000.0</td>\n",
              "    </tr>\n",
              "    <tr>\n",
              "      <th>2</th>\n",
              "      <td>2019-01-01</td>\n",
              "      <td>VERDURAS Y HORTALIZAS</td>\n",
              "      <td>Acelga</td>\n",
              "      <td>Bogotá, D.C., Corabastos</td>\n",
              "      <td>764.0</td>\n",
              "    </tr>\n",
              "    <tr>\n",
              "      <th>3</th>\n",
              "      <td>2019-01-01</td>\n",
              "      <td>VERDURAS Y HORTALIZAS</td>\n",
              "      <td>Acelga</td>\n",
              "      <td>Bucaramanga, Centroabastos</td>\n",
              "      <td>1556.0</td>\n",
              "    </tr>\n",
              "    <tr>\n",
              "      <th>4</th>\n",
              "      <td>2019-01-01</td>\n",
              "      <td>VERDURAS Y HORTALIZAS</td>\n",
              "      <td>Acelga</td>\n",
              "      <td>Chiquinquirá (Boyacá)</td>\n",
              "      <td>1058.0</td>\n",
              "    </tr>\n",
              "  </tbody>\n",
              "</table>\n",
              "</div>\n",
              "      <button class=\"colab-df-convert\" onclick=\"convertToInteractive('df-ce560f39-b212-4ef7-b793-ffa7638220d1')\"\n",
              "              title=\"Convert this dataframe to an interactive table.\"\n",
              "              style=\"display:none;\">\n",
              "        \n",
              "  <svg xmlns=\"http://www.w3.org/2000/svg\" height=\"24px\"viewBox=\"0 0 24 24\"\n",
              "       width=\"24px\">\n",
              "    <path d=\"M0 0h24v24H0V0z\" fill=\"none\"/>\n",
              "    <path d=\"M18.56 5.44l.94 2.06.94-2.06 2.06-.94-2.06-.94-.94-2.06-.94 2.06-2.06.94zm-11 1L8.5 8.5l.94-2.06 2.06-.94-2.06-.94L8.5 2.5l-.94 2.06-2.06.94zm10 10l.94 2.06.94-2.06 2.06-.94-2.06-.94-.94-2.06-.94 2.06-2.06.94z\"/><path d=\"M17.41 7.96l-1.37-1.37c-.4-.4-.92-.59-1.43-.59-.52 0-1.04.2-1.43.59L10.3 9.45l-7.72 7.72c-.78.78-.78 2.05 0 2.83L4 21.41c.39.39.9.59 1.41.59.51 0 1.02-.2 1.41-.59l7.78-7.78 2.81-2.81c.8-.78.8-2.07 0-2.86zM5.41 20L4 18.59l7.72-7.72 1.47 1.35L5.41 20z\"/>\n",
              "  </svg>\n",
              "      </button>\n",
              "      \n",
              "  <style>\n",
              "    .colab-df-container {\n",
              "      display:flex;\n",
              "      flex-wrap:wrap;\n",
              "      gap: 12px;\n",
              "    }\n",
              "\n",
              "    .colab-df-convert {\n",
              "      background-color: #E8F0FE;\n",
              "      border: none;\n",
              "      border-radius: 50%;\n",
              "      cursor: pointer;\n",
              "      display: none;\n",
              "      fill: #1967D2;\n",
              "      height: 32px;\n",
              "      padding: 0 0 0 0;\n",
              "      width: 32px;\n",
              "    }\n",
              "\n",
              "    .colab-df-convert:hover {\n",
              "      background-color: #E2EBFA;\n",
              "      box-shadow: 0px 1px 2px rgba(60, 64, 67, 0.3), 0px 1px 3px 1px rgba(60, 64, 67, 0.15);\n",
              "      fill: #174EA6;\n",
              "    }\n",
              "\n",
              "    [theme=dark] .colab-df-convert {\n",
              "      background-color: #3B4455;\n",
              "      fill: #D2E3FC;\n",
              "    }\n",
              "\n",
              "    [theme=dark] .colab-df-convert:hover {\n",
              "      background-color: #434B5C;\n",
              "      box-shadow: 0px 1px 3px 1px rgba(0, 0, 0, 0.15);\n",
              "      filter: drop-shadow(0px 1px 2px rgba(0, 0, 0, 0.3));\n",
              "      fill: #FFFFFF;\n",
              "    }\n",
              "  </style>\n",
              "\n",
              "      <script>\n",
              "        const buttonEl =\n",
              "          document.querySelector('#df-ce560f39-b212-4ef7-b793-ffa7638220d1 button.colab-df-convert');\n",
              "        buttonEl.style.display =\n",
              "          google.colab.kernel.accessAllowed ? 'block' : 'none';\n",
              "\n",
              "        async function convertToInteractive(key) {\n",
              "          const element = document.querySelector('#df-ce560f39-b212-4ef7-b793-ffa7638220d1');\n",
              "          const dataTable =\n",
              "            await google.colab.kernel.invokeFunction('convertToInteractive',\n",
              "                                                     [key], {});\n",
              "          if (!dataTable) return;\n",
              "\n",
              "          const docLinkHtml = 'Like what you see? Visit the ' +\n",
              "            '<a target=\"_blank\" href=https://colab.research.google.com/notebooks/data_table.ipynb>data table notebook</a>'\n",
              "            + ' to learn more about interactive tables.';\n",
              "          element.innerHTML = '';\n",
              "          dataTable['output_type'] = 'display_data';\n",
              "          await google.colab.output.renderOutput(dataTable, element);\n",
              "          const docLink = document.createElement('div');\n",
              "          docLink.innerHTML = docLinkHtml;\n",
              "          element.appendChild(docLink);\n",
              "        }\n",
              "      </script>\n",
              "    </div>\n",
              "  </div>\n",
              "  "
            ]
          },
          "metadata": {},
          "execution_count": 6
        }
      ],
      "source": [
        "# typical use of .info() to get a general idea of what is the shape  of the data base look like\n",
        "# .head() will let you see a more friendly view in a excel way \n",
        "df.info()\n",
        "df.head()"
      ]
    },
    {
      "cell_type": "code",
      "source": [
        "df.rename(columns={\"Precio  por kilogramo*\": \"Precio KG\"}, inplace=True)"
      ],
      "metadata": {
        "id": "kpfXzoa6UTcf"
      },
      "execution_count": 7,
      "outputs": []
    },
    {
      "cell_type": "code",
      "execution_count": 8,
      "metadata": {
        "colab": {
          "base_uri": "https://localhost:8080/",
          "height": 237
        },
        "id": "OGepqBYps9Oa",
        "outputId": "3f60dd6d-1e55-485f-ef23-ad81bad35089"
      },
      "outputs": [
        {
          "output_type": "execute_result",
          "data": {
            "text/plain": [
              "                            Grupo Producto                        Fuente  \\\n",
              "Fecha                                                                      \n",
              "2019-01-01  VERDURAS Y HORTALIZAS   Acelga               Armenia, Mercar   \n",
              "2019-01-01  VERDURAS Y HORTALIZAS   Acelga  Barranquilla, Barranquillita   \n",
              "2019-01-01  VERDURAS Y HORTALIZAS   Acelga      Bogotá, D.C., Corabastos   \n",
              "2019-01-01  VERDURAS Y HORTALIZAS   Acelga    Bucaramanga, Centroabastos   \n",
              "2019-01-01  VERDURAS Y HORTALIZAS   Acelga         Chiquinquirá (Boyacá)   \n",
              "\n",
              "            Precio KG  \n",
              "Fecha                  \n",
              "2019-01-01     1065.0  \n",
              "2019-01-01     3000.0  \n",
              "2019-01-01      764.0  \n",
              "2019-01-01     1556.0  \n",
              "2019-01-01     1058.0  "
            ],
            "text/html": [
              "\n",
              "  <div id=\"df-c1c9f185-25c2-49b8-b5cf-a494671f539b\">\n",
              "    <div class=\"colab-df-container\">\n",
              "      <div>\n",
              "<style scoped>\n",
              "    .dataframe tbody tr th:only-of-type {\n",
              "        vertical-align: middle;\n",
              "    }\n",
              "\n",
              "    .dataframe tbody tr th {\n",
              "        vertical-align: top;\n",
              "    }\n",
              "\n",
              "    .dataframe thead th {\n",
              "        text-align: right;\n",
              "    }\n",
              "</style>\n",
              "<table border=\"1\" class=\"dataframe\">\n",
              "  <thead>\n",
              "    <tr style=\"text-align: right;\">\n",
              "      <th></th>\n",
              "      <th>Grupo</th>\n",
              "      <th>Producto</th>\n",
              "      <th>Fuente</th>\n",
              "      <th>Precio KG</th>\n",
              "    </tr>\n",
              "    <tr>\n",
              "      <th>Fecha</th>\n",
              "      <th></th>\n",
              "      <th></th>\n",
              "      <th></th>\n",
              "      <th></th>\n",
              "    </tr>\n",
              "  </thead>\n",
              "  <tbody>\n",
              "    <tr>\n",
              "      <th>2019-01-01</th>\n",
              "      <td>VERDURAS Y HORTALIZAS</td>\n",
              "      <td>Acelga</td>\n",
              "      <td>Armenia, Mercar</td>\n",
              "      <td>1065.0</td>\n",
              "    </tr>\n",
              "    <tr>\n",
              "      <th>2019-01-01</th>\n",
              "      <td>VERDURAS Y HORTALIZAS</td>\n",
              "      <td>Acelga</td>\n",
              "      <td>Barranquilla, Barranquillita</td>\n",
              "      <td>3000.0</td>\n",
              "    </tr>\n",
              "    <tr>\n",
              "      <th>2019-01-01</th>\n",
              "      <td>VERDURAS Y HORTALIZAS</td>\n",
              "      <td>Acelga</td>\n",
              "      <td>Bogotá, D.C., Corabastos</td>\n",
              "      <td>764.0</td>\n",
              "    </tr>\n",
              "    <tr>\n",
              "      <th>2019-01-01</th>\n",
              "      <td>VERDURAS Y HORTALIZAS</td>\n",
              "      <td>Acelga</td>\n",
              "      <td>Bucaramanga, Centroabastos</td>\n",
              "      <td>1556.0</td>\n",
              "    </tr>\n",
              "    <tr>\n",
              "      <th>2019-01-01</th>\n",
              "      <td>VERDURAS Y HORTALIZAS</td>\n",
              "      <td>Acelga</td>\n",
              "      <td>Chiquinquirá (Boyacá)</td>\n",
              "      <td>1058.0</td>\n",
              "    </tr>\n",
              "  </tbody>\n",
              "</table>\n",
              "</div>\n",
              "      <button class=\"colab-df-convert\" onclick=\"convertToInteractive('df-c1c9f185-25c2-49b8-b5cf-a494671f539b')\"\n",
              "              title=\"Convert this dataframe to an interactive table.\"\n",
              "              style=\"display:none;\">\n",
              "        \n",
              "  <svg xmlns=\"http://www.w3.org/2000/svg\" height=\"24px\"viewBox=\"0 0 24 24\"\n",
              "       width=\"24px\">\n",
              "    <path d=\"M0 0h24v24H0V0z\" fill=\"none\"/>\n",
              "    <path d=\"M18.56 5.44l.94 2.06.94-2.06 2.06-.94-2.06-.94-.94-2.06-.94 2.06-2.06.94zm-11 1L8.5 8.5l.94-2.06 2.06-.94-2.06-.94L8.5 2.5l-.94 2.06-2.06.94zm10 10l.94 2.06.94-2.06 2.06-.94-2.06-.94-.94-2.06-.94 2.06-2.06.94z\"/><path d=\"M17.41 7.96l-1.37-1.37c-.4-.4-.92-.59-1.43-.59-.52 0-1.04.2-1.43.59L10.3 9.45l-7.72 7.72c-.78.78-.78 2.05 0 2.83L4 21.41c.39.39.9.59 1.41.59.51 0 1.02-.2 1.41-.59l7.78-7.78 2.81-2.81c.8-.78.8-2.07 0-2.86zM5.41 20L4 18.59l7.72-7.72 1.47 1.35L5.41 20z\"/>\n",
              "  </svg>\n",
              "      </button>\n",
              "      \n",
              "  <style>\n",
              "    .colab-df-container {\n",
              "      display:flex;\n",
              "      flex-wrap:wrap;\n",
              "      gap: 12px;\n",
              "    }\n",
              "\n",
              "    .colab-df-convert {\n",
              "      background-color: #E8F0FE;\n",
              "      border: none;\n",
              "      border-radius: 50%;\n",
              "      cursor: pointer;\n",
              "      display: none;\n",
              "      fill: #1967D2;\n",
              "      height: 32px;\n",
              "      padding: 0 0 0 0;\n",
              "      width: 32px;\n",
              "    }\n",
              "\n",
              "    .colab-df-convert:hover {\n",
              "      background-color: #E2EBFA;\n",
              "      box-shadow: 0px 1px 2px rgba(60, 64, 67, 0.3), 0px 1px 3px 1px rgba(60, 64, 67, 0.15);\n",
              "      fill: #174EA6;\n",
              "    }\n",
              "\n",
              "    [theme=dark] .colab-df-convert {\n",
              "      background-color: #3B4455;\n",
              "      fill: #D2E3FC;\n",
              "    }\n",
              "\n",
              "    [theme=dark] .colab-df-convert:hover {\n",
              "      background-color: #434B5C;\n",
              "      box-shadow: 0px 1px 3px 1px rgba(0, 0, 0, 0.15);\n",
              "      filter: drop-shadow(0px 1px 2px rgba(0, 0, 0, 0.3));\n",
              "      fill: #FFFFFF;\n",
              "    }\n",
              "  </style>\n",
              "\n",
              "      <script>\n",
              "        const buttonEl =\n",
              "          document.querySelector('#df-c1c9f185-25c2-49b8-b5cf-a494671f539b button.colab-df-convert');\n",
              "        buttonEl.style.display =\n",
              "          google.colab.kernel.accessAllowed ? 'block' : 'none';\n",
              "\n",
              "        async function convertToInteractive(key) {\n",
              "          const element = document.querySelector('#df-c1c9f185-25c2-49b8-b5cf-a494671f539b');\n",
              "          const dataTable =\n",
              "            await google.colab.kernel.invokeFunction('convertToInteractive',\n",
              "                                                     [key], {});\n",
              "          if (!dataTable) return;\n",
              "\n",
              "          const docLinkHtml = 'Like what you see? Visit the ' +\n",
              "            '<a target=\"_blank\" href=https://colab.research.google.com/notebooks/data_table.ipynb>data table notebook</a>'\n",
              "            + ' to learn more about interactive tables.';\n",
              "          element.innerHTML = '';\n",
              "          dataTable['output_type'] = 'display_data';\n",
              "          await google.colab.output.renderOutput(dataTable, element);\n",
              "          const docLink = document.createElement('div');\n",
              "          docLink.innerHTML = docLinkHtml;\n",
              "          element.appendChild(docLink);\n",
              "        }\n",
              "      </script>\n",
              "    </div>\n",
              "  </div>\n",
              "  "
            ]
          },
          "metadata": {},
          "execution_count": 8
        }
      ],
      "source": [
        "# this is to set the 'Fecha' as the new index of the dataframe as it will mostly be a timeline analysis\n",
        "# the inplace=True will set this ne index as the definitive index changing it in the database\n",
        "df.set_index('Fecha', inplace=True)\n",
        "df.head()"
      ]
    },
    {
      "cell_type": "code",
      "execution_count": 9,
      "metadata": {
        "colab": {
          "base_uri": "https://localhost:8080/"
        },
        "id": "GjtLQzc59BAB",
        "outputId": "d47b68a2-d84f-4186-f32d-be28059f9460"
      },
      "outputs": [
        {
          "output_type": "execute_result",
          "data": {
            "text/plain": [
              "Grupo        0\n",
              "Producto     0\n",
              "Fuente       0\n",
              "Precio KG    0\n",
              "dtype: int64"
            ]
          },
          "metadata": {},
          "execution_count": 9
        }
      ],
      "source": [
        "# Here we can see that there are not null values in any of the columns\n",
        "# if there were any null values we should take them into consideration because it can affect later anaylsis an graphing\n",
        "pd.isnull(df).sum()"
      ]
    },
    {
      "cell_type": "code",
      "execution_count": 10,
      "metadata": {
        "colab": {
          "base_uri": "https://localhost:8080/"
        },
        "id": "_An0_OMngnF4",
        "outputId": "07ac7516-2b8f-45cc-f53a-019c528fd68d"
      },
      "outputs": [
        {
          "output_type": "execute_result",
          "data": {
            "text/plain": [
              "Medellín, Central Mayorista de Antioquia       10154\n",
              "Bogotá, D.C., Corabastos                        8070\n",
              "Cúcuta, Cenabastos                              6865\n",
              "Villavicencio, CAV                              6383\n",
              "Ibagué, Plaza La 21                             6214\n",
              "                                               ...  \n",
              "Malambo, Atlantico                                46\n",
              "Malambo (Atlántico), Carnes y Carnes              23\n",
              "Ipiales (Nariño), Centro de Acopio                18\n",
              "San Gil (Santander), Panela                        4\n",
              "San Sebastián de Mariquita (Tolima), panela        3\n",
              "Name: Fuente, Length: 91, dtype: int64"
            ]
          },
          "metadata": {},
          "execution_count": 10
        }
      ],
      "source": [
        "# Here i'm seeing that the city is contained in the same column as the retailer center \n",
        "# we need to solve this after starting to gragh and do an analysis\n",
        "df['Fuente'].value_counts()"
      ]
    },
    {
      "cell_type": "code",
      "execution_count": 11,
      "metadata": {
        "id": "mCi2MZgyqAg2"
      },
      "outputs": [],
      "source": [
        "# the process of split the values that have both the city and the retail market need to be in a independet column\n",
        "# but here you can see that there are values in the data base that have more than one comma that is dividing the values \n",
        "# bogota dc, corabastos should not have two commas only the comma that is differentiating it from a city and a market in the city\n",
        "# we want then to get only two columns and not three\n",
        "# i first used str.split but it split the string everytime that it find a comma\n",
        "# it's best to use str.rsplit as it will start from the end to find a delimeter\n",
        "df[['Ciudad','Plaza']] = df.Fuente.str.rsplit(',',n=1, expand = True)"
      ]
    },
    {
      "cell_type": "code",
      "execution_count": 12,
      "metadata": {
        "colab": {
          "base_uri": "https://localhost:8080/",
          "height": 237
        },
        "id": "lIID0qjlVrdq",
        "outputId": "182bd197-50e4-4594-9fe6-d7233674126a"
      },
      "outputs": [
        {
          "output_type": "execute_result",
          "data": {
            "text/plain": [
              "                            Grupo Producto                        Fuente  \\\n",
              "Fecha                                                                      \n",
              "2019-01-01  VERDURAS Y HORTALIZAS   Acelga               Armenia, Mercar   \n",
              "2019-01-01  VERDURAS Y HORTALIZAS   Acelga  Barranquilla, Barranquillita   \n",
              "2019-01-01  VERDURAS Y HORTALIZAS   Acelga      Bogotá, D.C., Corabastos   \n",
              "2019-01-01  VERDURAS Y HORTALIZAS   Acelga    Bucaramanga, Centroabastos   \n",
              "2019-01-01  VERDURAS Y HORTALIZAS   Acelga         Chiquinquirá (Boyacá)   \n",
              "\n",
              "            Precio KG                 Ciudad            Plaza  \n",
              "Fecha                                                          \n",
              "2019-01-01     1065.0                Armenia           Mercar  \n",
              "2019-01-01     3000.0           Barranquilla   Barranquillita  \n",
              "2019-01-01      764.0           Bogotá, D.C.       Corabastos  \n",
              "2019-01-01     1556.0            Bucaramanga    Centroabastos  \n",
              "2019-01-01     1058.0  Chiquinquirá (Boyacá)             None  "
            ],
            "text/html": [
              "\n",
              "  <div id=\"df-fb29326f-eb80-4b53-8836-dc0f049dec0d\">\n",
              "    <div class=\"colab-df-container\">\n",
              "      <div>\n",
              "<style scoped>\n",
              "    .dataframe tbody tr th:only-of-type {\n",
              "        vertical-align: middle;\n",
              "    }\n",
              "\n",
              "    .dataframe tbody tr th {\n",
              "        vertical-align: top;\n",
              "    }\n",
              "\n",
              "    .dataframe thead th {\n",
              "        text-align: right;\n",
              "    }\n",
              "</style>\n",
              "<table border=\"1\" class=\"dataframe\">\n",
              "  <thead>\n",
              "    <tr style=\"text-align: right;\">\n",
              "      <th></th>\n",
              "      <th>Grupo</th>\n",
              "      <th>Producto</th>\n",
              "      <th>Fuente</th>\n",
              "      <th>Precio KG</th>\n",
              "      <th>Ciudad</th>\n",
              "      <th>Plaza</th>\n",
              "    </tr>\n",
              "    <tr>\n",
              "      <th>Fecha</th>\n",
              "      <th></th>\n",
              "      <th></th>\n",
              "      <th></th>\n",
              "      <th></th>\n",
              "      <th></th>\n",
              "      <th></th>\n",
              "    </tr>\n",
              "  </thead>\n",
              "  <tbody>\n",
              "    <tr>\n",
              "      <th>2019-01-01</th>\n",
              "      <td>VERDURAS Y HORTALIZAS</td>\n",
              "      <td>Acelga</td>\n",
              "      <td>Armenia, Mercar</td>\n",
              "      <td>1065.0</td>\n",
              "      <td>Armenia</td>\n",
              "      <td>Mercar</td>\n",
              "    </tr>\n",
              "    <tr>\n",
              "      <th>2019-01-01</th>\n",
              "      <td>VERDURAS Y HORTALIZAS</td>\n",
              "      <td>Acelga</td>\n",
              "      <td>Barranquilla, Barranquillita</td>\n",
              "      <td>3000.0</td>\n",
              "      <td>Barranquilla</td>\n",
              "      <td>Barranquillita</td>\n",
              "    </tr>\n",
              "    <tr>\n",
              "      <th>2019-01-01</th>\n",
              "      <td>VERDURAS Y HORTALIZAS</td>\n",
              "      <td>Acelga</td>\n",
              "      <td>Bogotá, D.C., Corabastos</td>\n",
              "      <td>764.0</td>\n",
              "      <td>Bogotá, D.C.</td>\n",
              "      <td>Corabastos</td>\n",
              "    </tr>\n",
              "    <tr>\n",
              "      <th>2019-01-01</th>\n",
              "      <td>VERDURAS Y HORTALIZAS</td>\n",
              "      <td>Acelga</td>\n",
              "      <td>Bucaramanga, Centroabastos</td>\n",
              "      <td>1556.0</td>\n",
              "      <td>Bucaramanga</td>\n",
              "      <td>Centroabastos</td>\n",
              "    </tr>\n",
              "    <tr>\n",
              "      <th>2019-01-01</th>\n",
              "      <td>VERDURAS Y HORTALIZAS</td>\n",
              "      <td>Acelga</td>\n",
              "      <td>Chiquinquirá (Boyacá)</td>\n",
              "      <td>1058.0</td>\n",
              "      <td>Chiquinquirá (Boyacá)</td>\n",
              "      <td>None</td>\n",
              "    </tr>\n",
              "  </tbody>\n",
              "</table>\n",
              "</div>\n",
              "      <button class=\"colab-df-convert\" onclick=\"convertToInteractive('df-fb29326f-eb80-4b53-8836-dc0f049dec0d')\"\n",
              "              title=\"Convert this dataframe to an interactive table.\"\n",
              "              style=\"display:none;\">\n",
              "        \n",
              "  <svg xmlns=\"http://www.w3.org/2000/svg\" height=\"24px\"viewBox=\"0 0 24 24\"\n",
              "       width=\"24px\">\n",
              "    <path d=\"M0 0h24v24H0V0z\" fill=\"none\"/>\n",
              "    <path d=\"M18.56 5.44l.94 2.06.94-2.06 2.06-.94-2.06-.94-.94-2.06-.94 2.06-2.06.94zm-11 1L8.5 8.5l.94-2.06 2.06-.94-2.06-.94L8.5 2.5l-.94 2.06-2.06.94zm10 10l.94 2.06.94-2.06 2.06-.94-2.06-.94-.94-2.06-.94 2.06-2.06.94z\"/><path d=\"M17.41 7.96l-1.37-1.37c-.4-.4-.92-.59-1.43-.59-.52 0-1.04.2-1.43.59L10.3 9.45l-7.72 7.72c-.78.78-.78 2.05 0 2.83L4 21.41c.39.39.9.59 1.41.59.51 0 1.02-.2 1.41-.59l7.78-7.78 2.81-2.81c.8-.78.8-2.07 0-2.86zM5.41 20L4 18.59l7.72-7.72 1.47 1.35L5.41 20z\"/>\n",
              "  </svg>\n",
              "      </button>\n",
              "      \n",
              "  <style>\n",
              "    .colab-df-container {\n",
              "      display:flex;\n",
              "      flex-wrap:wrap;\n",
              "      gap: 12px;\n",
              "    }\n",
              "\n",
              "    .colab-df-convert {\n",
              "      background-color: #E8F0FE;\n",
              "      border: none;\n",
              "      border-radius: 50%;\n",
              "      cursor: pointer;\n",
              "      display: none;\n",
              "      fill: #1967D2;\n",
              "      height: 32px;\n",
              "      padding: 0 0 0 0;\n",
              "      width: 32px;\n",
              "    }\n",
              "\n",
              "    .colab-df-convert:hover {\n",
              "      background-color: #E2EBFA;\n",
              "      box-shadow: 0px 1px 2px rgba(60, 64, 67, 0.3), 0px 1px 3px 1px rgba(60, 64, 67, 0.15);\n",
              "      fill: #174EA6;\n",
              "    }\n",
              "\n",
              "    [theme=dark] .colab-df-convert {\n",
              "      background-color: #3B4455;\n",
              "      fill: #D2E3FC;\n",
              "    }\n",
              "\n",
              "    [theme=dark] .colab-df-convert:hover {\n",
              "      background-color: #434B5C;\n",
              "      box-shadow: 0px 1px 3px 1px rgba(0, 0, 0, 0.15);\n",
              "      filter: drop-shadow(0px 1px 2px rgba(0, 0, 0, 0.3));\n",
              "      fill: #FFFFFF;\n",
              "    }\n",
              "  </style>\n",
              "\n",
              "      <script>\n",
              "        const buttonEl =\n",
              "          document.querySelector('#df-fb29326f-eb80-4b53-8836-dc0f049dec0d button.colab-df-convert');\n",
              "        buttonEl.style.display =\n",
              "          google.colab.kernel.accessAllowed ? 'block' : 'none';\n",
              "\n",
              "        async function convertToInteractive(key) {\n",
              "          const element = document.querySelector('#df-fb29326f-eb80-4b53-8836-dc0f049dec0d');\n",
              "          const dataTable =\n",
              "            await google.colab.kernel.invokeFunction('convertToInteractive',\n",
              "                                                     [key], {});\n",
              "          if (!dataTable) return;\n",
              "\n",
              "          const docLinkHtml = 'Like what you see? Visit the ' +\n",
              "            '<a target=\"_blank\" href=https://colab.research.google.com/notebooks/data_table.ipynb>data table notebook</a>'\n",
              "            + ' to learn more about interactive tables.';\n",
              "          element.innerHTML = '';\n",
              "          dataTable['output_type'] = 'display_data';\n",
              "          await google.colab.output.renderOutput(dataTable, element);\n",
              "          const docLink = document.createElement('div');\n",
              "          docLink.innerHTML = docLinkHtml;\n",
              "          element.appendChild(docLink);\n",
              "        }\n",
              "      </script>\n",
              "    </div>\n",
              "  </div>\n",
              "  "
            ]
          },
          "metadata": {},
          "execution_count": 12
        }
      ],
      "source": [
        "# in the star of the dataframe we can see that there are valuess that include the city but not the marketplace \n",
        "# it is important to take this into consideration\n",
        "df.head()\n"
      ]
    },
    {
      "cell_type": "code",
      "execution_count": 13,
      "metadata": {
        "colab": {
          "base_uri": "https://localhost:8080/"
        },
        "id": "qbPjCeThWBLp",
        "outputId": "6fc80f15-a8fe-414f-b2f0-ab8d9f189066"
      },
      "outputs": [
        {
          "output_type": "execute_result",
          "data": {
            "text/plain": [
              "Bogotá, D.C.                        18734\n",
              "Medellín                            15561\n",
              "Cali                                14576\n",
              "Barranquilla                         9971\n",
              "Cúcuta                               9715\n",
              "Pereira                              8878\n",
              "Bucaramanga                          8756\n",
              "Villavicencio                        6383\n",
              "Ibagué                               6214\n",
              "Valledupar                           5986\n",
              "Montería                             5959\n",
              "Armenia                              5921\n",
              "Popayán                              5647\n",
              "Palmira (Valle del Cauca)            5523\n",
              "Manizales                            5514\n",
              "Neiva                                5476\n",
              "Tuluá (Valle del Cauca)              5420\n",
              "Cartagena                            5350\n",
              "Sincelejo                            5249\n",
              "Pasto                                4864\n",
              "Tunja                                4837\n",
              "Cartago (Valle del Cauca)            4716\n",
              "Buenaventura (Valle del Cauca)       4320\n",
              "Pamplona (Norte de Santander)        4150\n",
              "Santa Marta (Magdalena)              3473\n",
              "Florencia (Caquetá)                  3226\n",
              "San Gil (Santander)                  2841\n",
              "Chiquinquirá (Boyacá)                2792\n",
              "Duitama (Boyacá)                     2764\n",
              "Yopal (Casanare)                     2730\n",
              "Arauca (Arauca)                      2684\n",
              "Ipiales (Nariño)                     2568\n",
              "Rionegro (Antioquia)                 2142\n",
              "Socorro (Santander)                  1923\n",
              "Sogamoso (Boyacá)                    1805\n",
              "Tibasosa (Boyacá)                    1619\n",
              "La Unión (Nariño)                    1389\n",
              "La Ceja (Antioquia)                  1256\n",
              "Túquerres (Nariño)                   1251\n",
              "Sonsón (Antioquia)                   1157\n",
              "Malambo (Atlántico)                  1067\n",
              "Marinilla (Antioquia)                1049\n",
              "Ubaté (Cundinamarca)                  856\n",
              "Santa Bárbara (Antioquia)             714\n",
              "Peñol (Antioquia)                     649\n",
              "San Vicente (Antioquia)               584\n",
              "El Santuario (Antioquia)              480\n",
              "El Carmen de Viboral (Antioquia)      380\n",
              "La Unión (Antioquia)                  192\n",
              "Caparrapí (Cundinamarca)              144\n",
              "Name: Ciudad, dtype: int64"
            ]
          },
          "metadata": {},
          "execution_count": 13
        }
      ],
      "source": [
        "# here we count every vale from 0 to 50 to see whether there is a city misspelled\n",
        "\n",
        "df.Ciudad.value_counts()[0:50]"
      ]
    },
    {
      "cell_type": "code",
      "source": [
        "# i droped the Fuente value as it will not give me any value since \n",
        "# you will need the city and maybe a specific retail market called \"Plaza\"\n",
        "df = df.drop(['Fuente'],axis=1)\n",
        "# here you can confirm that the data base is still the same only without the \"Fuente\" Column\n",
        "df.head()"
      ],
      "metadata": {
        "colab": {
          "base_uri": "https://localhost:8080/",
          "height": 237
        },
        "id": "-WYc_HYI3SJT",
        "outputId": "fba309c2-9535-4e29-e146-fb4af54109bc"
      },
      "execution_count": 14,
      "outputs": [
        {
          "output_type": "execute_result",
          "data": {
            "text/plain": [
              "                            Grupo Producto  Precio KG                 Ciudad  \\\n",
              "Fecha                                                                          \n",
              "2019-01-01  VERDURAS Y HORTALIZAS   Acelga     1065.0                Armenia   \n",
              "2019-01-01  VERDURAS Y HORTALIZAS   Acelga     3000.0           Barranquilla   \n",
              "2019-01-01  VERDURAS Y HORTALIZAS   Acelga      764.0           Bogotá, D.C.   \n",
              "2019-01-01  VERDURAS Y HORTALIZAS   Acelga     1556.0            Bucaramanga   \n",
              "2019-01-01  VERDURAS Y HORTALIZAS   Acelga     1058.0  Chiquinquirá (Boyacá)   \n",
              "\n",
              "                      Plaza  \n",
              "Fecha                        \n",
              "2019-01-01           Mercar  \n",
              "2019-01-01   Barranquillita  \n",
              "2019-01-01       Corabastos  \n",
              "2019-01-01    Centroabastos  \n",
              "2019-01-01             None  "
            ],
            "text/html": [
              "\n",
              "  <div id=\"df-0dfa71da-1adc-4b25-823c-b61aaaa1a26d\">\n",
              "    <div class=\"colab-df-container\">\n",
              "      <div>\n",
              "<style scoped>\n",
              "    .dataframe tbody tr th:only-of-type {\n",
              "        vertical-align: middle;\n",
              "    }\n",
              "\n",
              "    .dataframe tbody tr th {\n",
              "        vertical-align: top;\n",
              "    }\n",
              "\n",
              "    .dataframe thead th {\n",
              "        text-align: right;\n",
              "    }\n",
              "</style>\n",
              "<table border=\"1\" class=\"dataframe\">\n",
              "  <thead>\n",
              "    <tr style=\"text-align: right;\">\n",
              "      <th></th>\n",
              "      <th>Grupo</th>\n",
              "      <th>Producto</th>\n",
              "      <th>Precio KG</th>\n",
              "      <th>Ciudad</th>\n",
              "      <th>Plaza</th>\n",
              "    </tr>\n",
              "    <tr>\n",
              "      <th>Fecha</th>\n",
              "      <th></th>\n",
              "      <th></th>\n",
              "      <th></th>\n",
              "      <th></th>\n",
              "      <th></th>\n",
              "    </tr>\n",
              "  </thead>\n",
              "  <tbody>\n",
              "    <tr>\n",
              "      <th>2019-01-01</th>\n",
              "      <td>VERDURAS Y HORTALIZAS</td>\n",
              "      <td>Acelga</td>\n",
              "      <td>1065.0</td>\n",
              "      <td>Armenia</td>\n",
              "      <td>Mercar</td>\n",
              "    </tr>\n",
              "    <tr>\n",
              "      <th>2019-01-01</th>\n",
              "      <td>VERDURAS Y HORTALIZAS</td>\n",
              "      <td>Acelga</td>\n",
              "      <td>3000.0</td>\n",
              "      <td>Barranquilla</td>\n",
              "      <td>Barranquillita</td>\n",
              "    </tr>\n",
              "    <tr>\n",
              "      <th>2019-01-01</th>\n",
              "      <td>VERDURAS Y HORTALIZAS</td>\n",
              "      <td>Acelga</td>\n",
              "      <td>764.0</td>\n",
              "      <td>Bogotá, D.C.</td>\n",
              "      <td>Corabastos</td>\n",
              "    </tr>\n",
              "    <tr>\n",
              "      <th>2019-01-01</th>\n",
              "      <td>VERDURAS Y HORTALIZAS</td>\n",
              "      <td>Acelga</td>\n",
              "      <td>1556.0</td>\n",
              "      <td>Bucaramanga</td>\n",
              "      <td>Centroabastos</td>\n",
              "    </tr>\n",
              "    <tr>\n",
              "      <th>2019-01-01</th>\n",
              "      <td>VERDURAS Y HORTALIZAS</td>\n",
              "      <td>Acelga</td>\n",
              "      <td>1058.0</td>\n",
              "      <td>Chiquinquirá (Boyacá)</td>\n",
              "      <td>None</td>\n",
              "    </tr>\n",
              "  </tbody>\n",
              "</table>\n",
              "</div>\n",
              "      <button class=\"colab-df-convert\" onclick=\"convertToInteractive('df-0dfa71da-1adc-4b25-823c-b61aaaa1a26d')\"\n",
              "              title=\"Convert this dataframe to an interactive table.\"\n",
              "              style=\"display:none;\">\n",
              "        \n",
              "  <svg xmlns=\"http://www.w3.org/2000/svg\" height=\"24px\"viewBox=\"0 0 24 24\"\n",
              "       width=\"24px\">\n",
              "    <path d=\"M0 0h24v24H0V0z\" fill=\"none\"/>\n",
              "    <path d=\"M18.56 5.44l.94 2.06.94-2.06 2.06-.94-2.06-.94-.94-2.06-.94 2.06-2.06.94zm-11 1L8.5 8.5l.94-2.06 2.06-.94-2.06-.94L8.5 2.5l-.94 2.06-2.06.94zm10 10l.94 2.06.94-2.06 2.06-.94-2.06-.94-.94-2.06-.94 2.06-2.06.94z\"/><path d=\"M17.41 7.96l-1.37-1.37c-.4-.4-.92-.59-1.43-.59-.52 0-1.04.2-1.43.59L10.3 9.45l-7.72 7.72c-.78.78-.78 2.05 0 2.83L4 21.41c.39.39.9.59 1.41.59.51 0 1.02-.2 1.41-.59l7.78-7.78 2.81-2.81c.8-.78.8-2.07 0-2.86zM5.41 20L4 18.59l7.72-7.72 1.47 1.35L5.41 20z\"/>\n",
              "  </svg>\n",
              "      </button>\n",
              "      \n",
              "  <style>\n",
              "    .colab-df-container {\n",
              "      display:flex;\n",
              "      flex-wrap:wrap;\n",
              "      gap: 12px;\n",
              "    }\n",
              "\n",
              "    .colab-df-convert {\n",
              "      background-color: #E8F0FE;\n",
              "      border: none;\n",
              "      border-radius: 50%;\n",
              "      cursor: pointer;\n",
              "      display: none;\n",
              "      fill: #1967D2;\n",
              "      height: 32px;\n",
              "      padding: 0 0 0 0;\n",
              "      width: 32px;\n",
              "    }\n",
              "\n",
              "    .colab-df-convert:hover {\n",
              "      background-color: #E2EBFA;\n",
              "      box-shadow: 0px 1px 2px rgba(60, 64, 67, 0.3), 0px 1px 3px 1px rgba(60, 64, 67, 0.15);\n",
              "      fill: #174EA6;\n",
              "    }\n",
              "\n",
              "    [theme=dark] .colab-df-convert {\n",
              "      background-color: #3B4455;\n",
              "      fill: #D2E3FC;\n",
              "    }\n",
              "\n",
              "    [theme=dark] .colab-df-convert:hover {\n",
              "      background-color: #434B5C;\n",
              "      box-shadow: 0px 1px 3px 1px rgba(0, 0, 0, 0.15);\n",
              "      filter: drop-shadow(0px 1px 2px rgba(0, 0, 0, 0.3));\n",
              "      fill: #FFFFFF;\n",
              "    }\n",
              "  </style>\n",
              "\n",
              "      <script>\n",
              "        const buttonEl =\n",
              "          document.querySelector('#df-0dfa71da-1adc-4b25-823c-b61aaaa1a26d button.colab-df-convert');\n",
              "        buttonEl.style.display =\n",
              "          google.colab.kernel.accessAllowed ? 'block' : 'none';\n",
              "\n",
              "        async function convertToInteractive(key) {\n",
              "          const element = document.querySelector('#df-0dfa71da-1adc-4b25-823c-b61aaaa1a26d');\n",
              "          const dataTable =\n",
              "            await google.colab.kernel.invokeFunction('convertToInteractive',\n",
              "                                                     [key], {});\n",
              "          if (!dataTable) return;\n",
              "\n",
              "          const docLinkHtml = 'Like what you see? Visit the ' +\n",
              "            '<a target=\"_blank\" href=https://colab.research.google.com/notebooks/data_table.ipynb>data table notebook</a>'\n",
              "            + ' to learn more about interactive tables.';\n",
              "          element.innerHTML = '';\n",
              "          dataTable['output_type'] = 'display_data';\n",
              "          await google.colab.output.renderOutput(dataTable, element);\n",
              "          const docLink = document.createElement('div');\n",
              "          docLink.innerHTML = docLinkHtml;\n",
              "          element.appendChild(docLink);\n",
              "        }\n",
              "      </script>\n",
              "    </div>\n",
              "  </div>\n",
              "  "
            ]
          },
          "metadata": {},
          "execution_count": 14
        }
      ]
    },
    {
      "cell_type": "code",
      "execution_count": 15,
      "metadata": {
        "colab": {
          "base_uri": "https://localhost:8080/"
        },
        "id": "PghdOeyRv-fN",
        "outputId": "5c37deea-1ff9-470a-b7ff-59d370181b4a"
      },
      "outputs": [
        {
          "output_type": "execute_result",
          "data": {
            "text/plain": [
              "FRUTAS                           53015\n",
              "VERDURAS Y HORTALIZAS            43664\n",
              "CARNES                           32565\n",
              "PROCESADOS                       32080\n",
              "TUBERCULOS, RAICES Y PLATANOS    16948\n",
              "GRANOS Y CEREALES                13366\n",
              "PESCADOS                         10352\n",
              "LACTEOS Y HUEVOS                  9418\n",
              "Frutas                            2261\n",
              "Verduras y Hortalizas             1893\n",
              "Carnes                            1429\n",
              "Procesados                        1387\n",
              "Tubérculos, Raíces y Plátanos      704\n",
              "Granos y Cereales                  578\n",
              "Pescados                           448\n",
              "Lácteos y Huevos                   409\n",
              "Name: Grupo, dtype: int64"
            ]
          },
          "metadata": {},
          "execution_count": 15
        }
      ],
      "source": [
        "# this is another part of the data cleaning and filtering \n",
        "#we see duplicates with differences in the upper letters\n",
        "df['Grupo'].value_counts()\n"
      ]
    },
    {
      "cell_type": "code",
      "source": [
        "# as you can see the str.lower will change all the \n",
        "# upper letters for lower case\n",
        "df['Grupo'] = df['Grupo'].str.lower()\n",
        "\n",
        "df['Grupo'].value_counts()"
      ],
      "metadata": {
        "id": "g8vrV1LG5DHW",
        "colab": {
          "base_uri": "https://localhost:8080/"
        },
        "outputId": "cd92e328-ee6d-4c58-a9be-c3400b9b1df5"
      },
      "execution_count": 16,
      "outputs": [
        {
          "output_type": "execute_result",
          "data": {
            "text/plain": [
              "frutas                           55276\n",
              "verduras y hortalizas            45557\n",
              "carnes                           33994\n",
              "procesados                       33467\n",
              "tuberculos, raices y platanos    16948\n",
              "granos y cereales                13944\n",
              "pescados                         10800\n",
              "lacteos y huevos                  9418\n",
              "tubérculos, raíces y plátanos      704\n",
              "lácteos y huevos                   409\n",
              "Name: Grupo, dtype: int64"
            ]
          },
          "metadata": {},
          "execution_count": 16
        }
      ]
    },
    {
      "cell_type": "code",
      "source": [
        "# you can se the dict of values that i'm going to replce with the .replace function\n",
        "dic = {'é': 'e', 'í': 'i','á':'a'}"
      ],
      "metadata": {
        "id": "ZlpN9kfkc2Nw"
      },
      "execution_count": 17,
      "outputs": []
    },
    {
      "cell_type": "code",
      "source": [
        "df.replace(dic, regex=True, inplace=True)"
      ],
      "metadata": {
        "id": "9NEYYOf6fVd6"
      },
      "execution_count": 18,
      "outputs": []
    },
    {
      "cell_type": "code",
      "source": [
        "df['Grupo'].value_counts()"
      ],
      "metadata": {
        "colab": {
          "base_uri": "https://localhost:8080/"
        },
        "id": "BOcV8jCoeSUr",
        "outputId": "165b4b06-34bd-443d-dd10-9de3aeb5fc4f"
      },
      "execution_count": 19,
      "outputs": [
        {
          "output_type": "execute_result",
          "data": {
            "text/plain": [
              "frutas                           55276\n",
              "verduras y hortalizas            45557\n",
              "carnes                           33994\n",
              "procesados                       33467\n",
              "tuberculos, raices y platanos    17652\n",
              "granos y cereales                13944\n",
              "pescados                         10800\n",
              "lacteos y huevos                  9827\n",
              "Name: Grupo, dtype: int64"
            ]
          },
          "metadata": {},
          "execution_count": 19
        }
      ]
    },
    {
      "cell_type": "code",
      "source": [
        "# now we need to see wheter there may be other values such as ó or ú \n",
        "# for this we need to analyse the other types of products from each category \n",
        "# but instead we will find this values and if it exists in the data base\n",
        "# if those values exists we will addd them to the dictionary to then replace them and get an homogeneus list\n"
      ],
      "metadata": {
        "id": "e9SfYgpIfhyB"
      },
      "execution_count": 20,
      "outputs": []
    },
    {
      "cell_type": "code",
      "source": [
        "# Thiss code reveal that there are no ó or ú in the data base that need to be replaced\n",
        "# Then the code above of .replace wwill work just fine\n",
        "### remember to add a list for ú and ó too\n",
        "df['Grupo'].str.count('ú').sum()\n"
      ],
      "metadata": {
        "colab": {
          "base_uri": "https://localhost:8080/"
        },
        "id": "IiS3-0AQ-E_Z",
        "outputId": "c73d37a8-3754-4c06-9582-46516cb0d42c"
      },
      "execution_count": 21,
      "outputs": [
        {
          "output_type": "execute_result",
          "data": {
            "text/plain": [
              "0"
            ]
          },
          "metadata": {},
          "execution_count": 21
        }
      ]
    },
    {
      "cell_type": "code",
      "source": [
        "# here i replace the tring with a value o it is more easy to get values and analyze them witouth touching the principal code\n",
        "# here noww e dont acll the list inide the iin function\n",
        "# instead i used a vaariable to store a list that caaan containt all the types of groups of goods\n",
        "G = ['frutas']\n",
        "df2 = df[df['Grupo'].isin(G)]\n",
        "df2['Producto'].value_counts()[0:30]"
      ],
      "metadata": {
        "colab": {
          "base_uri": "https://localhost:8080/"
        },
        "id": "nswbtL0SQddR",
        "outputId": "5831956f-a902-4454-85d3-ee2094a255e7"
      },
      "execution_count": 22,
      "outputs": [
        {
          "output_type": "execute_result",
          "data": {
            "text/plain": [
              "Tomate de arbol                 2262\n",
              "Manzana verde importada         1848\n",
              "Lulo                            1830\n",
              "Mora de Castilla                1806\n",
              "Manzana roja importada          1760\n",
              "Guayaba pera                    1721\n",
              "Banano criollo                  1709\n",
              "Pera importada                  1606\n",
              "Papaya Maradol                  1597\n",
              "Manzana royal gala importada    1565\n",
              "Maracuya                        1546\n",
              "Aguacate papelillo              1533\n",
              "Mango Tommy                     1521\n",
              "Limón Tahiti                    1444\n",
              "Limón común                     1404\n",
              "Granadilla                      1347\n",
              "Uva Isabela                     1328\n",
              "Piña gold                       1309\n",
              "Melón Cantalup                  1254\n",
              "Naranja Valencia                1231\n",
              "Patilla                         1188\n",
              "Guanabana                       1183\n",
              "Fresa                           1172\n",
              "Curuba                          1101\n",
              "Kiwi                            1067\n",
              "Uva red globe nacional           880\n",
              "Piña perolera                    832\n",
              "Mandarina Arrayana               798\n",
              "Mandarina común                  759\n",
              "Coco                             707\n",
              "Name: Producto, dtype: int64"
            ]
          },
          "metadata": {},
          "execution_count": 22
        }
      ]
    },
    {
      "cell_type": "code",
      "source": [
        "C = ['Ibague']\n",
        "P = ['Mango Tommy']\n",
        "dfp = df2[df2[\"Producto\"].isin(P)]\n",
        "dfpc = df2[(df2[\"Producto\"].isin(P)) & (df2['Ciudad'].isin(C))]"
      ],
      "metadata": {
        "id": "qMRMxCZYLTE8"
      },
      "execution_count": 56,
      "outputs": []
    },
    {
      "cell_type": "code",
      "source": [
        "dfpc"
      ],
      "metadata": {
        "colab": {
          "base_uri": "https://localhost:8080/",
          "height": 1000
        },
        "id": "VQvdbKwNXNue",
        "outputId": "71d98d00-0285-4af2-c060-89f25ae2316b"
      },
      "execution_count": 57,
      "outputs": [
        {
          "output_type": "execute_result",
          "data": {
            "text/plain": [
              "             Grupo     Producto  Precio KG  Ciudad         Plaza\n",
              "Fecha                                                           \n",
              "2019-01-01  frutas  Mango Tommy     1228.0  Ibague   Plaza La 21\n",
              "2019-02-01  frutas  Mango Tommy     1668.0  Ibague   Plaza La 21\n",
              "2019-03-01  frutas  Mango Tommy     2267.0  Ibague   Plaza La 21\n",
              "2019-04-01  frutas  Mango Tommy     1036.0  Ibague   Plaza La 21\n",
              "2019-05-01  frutas  Mango Tommy     1021.0  Ibague   Plaza La 21\n",
              "2019-06-01  frutas  Mango Tommy     1887.0  Ibague   Plaza La 21\n",
              "2019-10-01  frutas  Mango Tommy     1467.0  Ibague   Plaza La 21\n",
              "2019-11-01  frutas  Mango Tommy     1315.0  Ibague   Plaza La 21\n",
              "2019-12-01  frutas  Mango Tommy     1023.0  Ibague   Plaza La 21\n",
              "2020-01-01  frutas  Mango Tommy      938.0  Ibague   Plaza La 21\n",
              "2020-02-01  frutas  Mango Tommy     1200.0  Ibague   Plaza La 21\n",
              "2020-03-01  frutas  Mango Tommy     1600.0  Ibague   Plaza La 21\n",
              "2020-07-01  frutas  Mango Tommy     1333.0  Ibague   Plaza La 21\n",
              "2020-11-01  frutas  Mango Tommy     1500.0  Ibague   Plaza La 21\n",
              "2020-12-01  frutas  Mango Tommy     1249.0  Ibague   Plaza La 21\n",
              "2021-01-01  frutas  Mango Tommy     1095.0  Ibague   Plaza La 21\n",
              "2021-02-01  frutas  Mango Tommy     1304.0  Ibague   Plaza La 21\n",
              "2021-03-01  frutas  Mango Tommy     1738.0  Ibague   Plaza La 21\n",
              "2021-04-01  frutas  Mango Tommy     1880.0  Ibague   Plaza La 21\n",
              "2021-05-01  frutas  Mango Tommy      930.0  Ibague   Plaza La 21\n",
              "2021-06-01  frutas  Mango Tommy     1598.0  Ibague   Plaza La 21\n",
              "2021-07-01  frutas  Mango Tommy     2000.0  Ibague   Plaza La 21\n",
              "2021-12-01  frutas  Mango Tommy     1259.0  Ibague   Plaza La 21\n",
              "2022-01-01  frutas  Mango Tommy     1725.0  Ibague   Plaza La 21\n",
              "2022-02-01  frutas  Mango Tommy     2978.0  Ibague   Plaza La 21\n",
              "2022-04-01  frutas  Mango Tommy     2767.0  Ibague   Plaza La 21\n",
              "2022-05-01  frutas  Mango Tommy     1967.0  Ibague   Plaza La 21\n",
              "2022-07-01  frutas  Mango Tommy     3533.0  Ibague   Plaza La 21\n",
              "2022-10-01  frutas  Mango Tommy     3600.0  Ibague   Plaza La 21\n",
              "2022-11-01  frutas  Mango Tommy     1469.0  Ibague   Plaza La 21\n",
              "2022-12-01  frutas  Mango Tommy     1391.0  Ibague   Plaza La 21"
            ],
            "text/html": [
              "\n",
              "  <div id=\"df-2a13cdf3-0acf-4a4e-af87-76728f9519ae\">\n",
              "    <div class=\"colab-df-container\">\n",
              "      <div>\n",
              "<style scoped>\n",
              "    .dataframe tbody tr th:only-of-type {\n",
              "        vertical-align: middle;\n",
              "    }\n",
              "\n",
              "    .dataframe tbody tr th {\n",
              "        vertical-align: top;\n",
              "    }\n",
              "\n",
              "    .dataframe thead th {\n",
              "        text-align: right;\n",
              "    }\n",
              "</style>\n",
              "<table border=\"1\" class=\"dataframe\">\n",
              "  <thead>\n",
              "    <tr style=\"text-align: right;\">\n",
              "      <th></th>\n",
              "      <th>Grupo</th>\n",
              "      <th>Producto</th>\n",
              "      <th>Precio KG</th>\n",
              "      <th>Ciudad</th>\n",
              "      <th>Plaza</th>\n",
              "    </tr>\n",
              "    <tr>\n",
              "      <th>Fecha</th>\n",
              "      <th></th>\n",
              "      <th></th>\n",
              "      <th></th>\n",
              "      <th></th>\n",
              "      <th></th>\n",
              "    </tr>\n",
              "  </thead>\n",
              "  <tbody>\n",
              "    <tr>\n",
              "      <th>2019-01-01</th>\n",
              "      <td>frutas</td>\n",
              "      <td>Mango Tommy</td>\n",
              "      <td>1228.0</td>\n",
              "      <td>Ibague</td>\n",
              "      <td>Plaza La 21</td>\n",
              "    </tr>\n",
              "    <tr>\n",
              "      <th>2019-02-01</th>\n",
              "      <td>frutas</td>\n",
              "      <td>Mango Tommy</td>\n",
              "      <td>1668.0</td>\n",
              "      <td>Ibague</td>\n",
              "      <td>Plaza La 21</td>\n",
              "    </tr>\n",
              "    <tr>\n",
              "      <th>2019-03-01</th>\n",
              "      <td>frutas</td>\n",
              "      <td>Mango Tommy</td>\n",
              "      <td>2267.0</td>\n",
              "      <td>Ibague</td>\n",
              "      <td>Plaza La 21</td>\n",
              "    </tr>\n",
              "    <tr>\n",
              "      <th>2019-04-01</th>\n",
              "      <td>frutas</td>\n",
              "      <td>Mango Tommy</td>\n",
              "      <td>1036.0</td>\n",
              "      <td>Ibague</td>\n",
              "      <td>Plaza La 21</td>\n",
              "    </tr>\n",
              "    <tr>\n",
              "      <th>2019-05-01</th>\n",
              "      <td>frutas</td>\n",
              "      <td>Mango Tommy</td>\n",
              "      <td>1021.0</td>\n",
              "      <td>Ibague</td>\n",
              "      <td>Plaza La 21</td>\n",
              "    </tr>\n",
              "    <tr>\n",
              "      <th>2019-06-01</th>\n",
              "      <td>frutas</td>\n",
              "      <td>Mango Tommy</td>\n",
              "      <td>1887.0</td>\n",
              "      <td>Ibague</td>\n",
              "      <td>Plaza La 21</td>\n",
              "    </tr>\n",
              "    <tr>\n",
              "      <th>2019-10-01</th>\n",
              "      <td>frutas</td>\n",
              "      <td>Mango Tommy</td>\n",
              "      <td>1467.0</td>\n",
              "      <td>Ibague</td>\n",
              "      <td>Plaza La 21</td>\n",
              "    </tr>\n",
              "    <tr>\n",
              "      <th>2019-11-01</th>\n",
              "      <td>frutas</td>\n",
              "      <td>Mango Tommy</td>\n",
              "      <td>1315.0</td>\n",
              "      <td>Ibague</td>\n",
              "      <td>Plaza La 21</td>\n",
              "    </tr>\n",
              "    <tr>\n",
              "      <th>2019-12-01</th>\n",
              "      <td>frutas</td>\n",
              "      <td>Mango Tommy</td>\n",
              "      <td>1023.0</td>\n",
              "      <td>Ibague</td>\n",
              "      <td>Plaza La 21</td>\n",
              "    </tr>\n",
              "    <tr>\n",
              "      <th>2020-01-01</th>\n",
              "      <td>frutas</td>\n",
              "      <td>Mango Tommy</td>\n",
              "      <td>938.0</td>\n",
              "      <td>Ibague</td>\n",
              "      <td>Plaza La 21</td>\n",
              "    </tr>\n",
              "    <tr>\n",
              "      <th>2020-02-01</th>\n",
              "      <td>frutas</td>\n",
              "      <td>Mango Tommy</td>\n",
              "      <td>1200.0</td>\n",
              "      <td>Ibague</td>\n",
              "      <td>Plaza La 21</td>\n",
              "    </tr>\n",
              "    <tr>\n",
              "      <th>2020-03-01</th>\n",
              "      <td>frutas</td>\n",
              "      <td>Mango Tommy</td>\n",
              "      <td>1600.0</td>\n",
              "      <td>Ibague</td>\n",
              "      <td>Plaza La 21</td>\n",
              "    </tr>\n",
              "    <tr>\n",
              "      <th>2020-07-01</th>\n",
              "      <td>frutas</td>\n",
              "      <td>Mango Tommy</td>\n",
              "      <td>1333.0</td>\n",
              "      <td>Ibague</td>\n",
              "      <td>Plaza La 21</td>\n",
              "    </tr>\n",
              "    <tr>\n",
              "      <th>2020-11-01</th>\n",
              "      <td>frutas</td>\n",
              "      <td>Mango Tommy</td>\n",
              "      <td>1500.0</td>\n",
              "      <td>Ibague</td>\n",
              "      <td>Plaza La 21</td>\n",
              "    </tr>\n",
              "    <tr>\n",
              "      <th>2020-12-01</th>\n",
              "      <td>frutas</td>\n",
              "      <td>Mango Tommy</td>\n",
              "      <td>1249.0</td>\n",
              "      <td>Ibague</td>\n",
              "      <td>Plaza La 21</td>\n",
              "    </tr>\n",
              "    <tr>\n",
              "      <th>2021-01-01</th>\n",
              "      <td>frutas</td>\n",
              "      <td>Mango Tommy</td>\n",
              "      <td>1095.0</td>\n",
              "      <td>Ibague</td>\n",
              "      <td>Plaza La 21</td>\n",
              "    </tr>\n",
              "    <tr>\n",
              "      <th>2021-02-01</th>\n",
              "      <td>frutas</td>\n",
              "      <td>Mango Tommy</td>\n",
              "      <td>1304.0</td>\n",
              "      <td>Ibague</td>\n",
              "      <td>Plaza La 21</td>\n",
              "    </tr>\n",
              "    <tr>\n",
              "      <th>2021-03-01</th>\n",
              "      <td>frutas</td>\n",
              "      <td>Mango Tommy</td>\n",
              "      <td>1738.0</td>\n",
              "      <td>Ibague</td>\n",
              "      <td>Plaza La 21</td>\n",
              "    </tr>\n",
              "    <tr>\n",
              "      <th>2021-04-01</th>\n",
              "      <td>frutas</td>\n",
              "      <td>Mango Tommy</td>\n",
              "      <td>1880.0</td>\n",
              "      <td>Ibague</td>\n",
              "      <td>Plaza La 21</td>\n",
              "    </tr>\n",
              "    <tr>\n",
              "      <th>2021-05-01</th>\n",
              "      <td>frutas</td>\n",
              "      <td>Mango Tommy</td>\n",
              "      <td>930.0</td>\n",
              "      <td>Ibague</td>\n",
              "      <td>Plaza La 21</td>\n",
              "    </tr>\n",
              "    <tr>\n",
              "      <th>2021-06-01</th>\n",
              "      <td>frutas</td>\n",
              "      <td>Mango Tommy</td>\n",
              "      <td>1598.0</td>\n",
              "      <td>Ibague</td>\n",
              "      <td>Plaza La 21</td>\n",
              "    </tr>\n",
              "    <tr>\n",
              "      <th>2021-07-01</th>\n",
              "      <td>frutas</td>\n",
              "      <td>Mango Tommy</td>\n",
              "      <td>2000.0</td>\n",
              "      <td>Ibague</td>\n",
              "      <td>Plaza La 21</td>\n",
              "    </tr>\n",
              "    <tr>\n",
              "      <th>2021-12-01</th>\n",
              "      <td>frutas</td>\n",
              "      <td>Mango Tommy</td>\n",
              "      <td>1259.0</td>\n",
              "      <td>Ibague</td>\n",
              "      <td>Plaza La 21</td>\n",
              "    </tr>\n",
              "    <tr>\n",
              "      <th>2022-01-01</th>\n",
              "      <td>frutas</td>\n",
              "      <td>Mango Tommy</td>\n",
              "      <td>1725.0</td>\n",
              "      <td>Ibague</td>\n",
              "      <td>Plaza La 21</td>\n",
              "    </tr>\n",
              "    <tr>\n",
              "      <th>2022-02-01</th>\n",
              "      <td>frutas</td>\n",
              "      <td>Mango Tommy</td>\n",
              "      <td>2978.0</td>\n",
              "      <td>Ibague</td>\n",
              "      <td>Plaza La 21</td>\n",
              "    </tr>\n",
              "    <tr>\n",
              "      <th>2022-04-01</th>\n",
              "      <td>frutas</td>\n",
              "      <td>Mango Tommy</td>\n",
              "      <td>2767.0</td>\n",
              "      <td>Ibague</td>\n",
              "      <td>Plaza La 21</td>\n",
              "    </tr>\n",
              "    <tr>\n",
              "      <th>2022-05-01</th>\n",
              "      <td>frutas</td>\n",
              "      <td>Mango Tommy</td>\n",
              "      <td>1967.0</td>\n",
              "      <td>Ibague</td>\n",
              "      <td>Plaza La 21</td>\n",
              "    </tr>\n",
              "    <tr>\n",
              "      <th>2022-07-01</th>\n",
              "      <td>frutas</td>\n",
              "      <td>Mango Tommy</td>\n",
              "      <td>3533.0</td>\n",
              "      <td>Ibague</td>\n",
              "      <td>Plaza La 21</td>\n",
              "    </tr>\n",
              "    <tr>\n",
              "      <th>2022-10-01</th>\n",
              "      <td>frutas</td>\n",
              "      <td>Mango Tommy</td>\n",
              "      <td>3600.0</td>\n",
              "      <td>Ibague</td>\n",
              "      <td>Plaza La 21</td>\n",
              "    </tr>\n",
              "    <tr>\n",
              "      <th>2022-11-01</th>\n",
              "      <td>frutas</td>\n",
              "      <td>Mango Tommy</td>\n",
              "      <td>1469.0</td>\n",
              "      <td>Ibague</td>\n",
              "      <td>Plaza La 21</td>\n",
              "    </tr>\n",
              "    <tr>\n",
              "      <th>2022-12-01</th>\n",
              "      <td>frutas</td>\n",
              "      <td>Mango Tommy</td>\n",
              "      <td>1391.0</td>\n",
              "      <td>Ibague</td>\n",
              "      <td>Plaza La 21</td>\n",
              "    </tr>\n",
              "  </tbody>\n",
              "</table>\n",
              "</div>\n",
              "      <button class=\"colab-df-convert\" onclick=\"convertToInteractive('df-2a13cdf3-0acf-4a4e-af87-76728f9519ae')\"\n",
              "              title=\"Convert this dataframe to an interactive table.\"\n",
              "              style=\"display:none;\">\n",
              "        \n",
              "  <svg xmlns=\"http://www.w3.org/2000/svg\" height=\"24px\"viewBox=\"0 0 24 24\"\n",
              "       width=\"24px\">\n",
              "    <path d=\"M0 0h24v24H0V0z\" fill=\"none\"/>\n",
              "    <path d=\"M18.56 5.44l.94 2.06.94-2.06 2.06-.94-2.06-.94-.94-2.06-.94 2.06-2.06.94zm-11 1L8.5 8.5l.94-2.06 2.06-.94-2.06-.94L8.5 2.5l-.94 2.06-2.06.94zm10 10l.94 2.06.94-2.06 2.06-.94-2.06-.94-.94-2.06-.94 2.06-2.06.94z\"/><path d=\"M17.41 7.96l-1.37-1.37c-.4-.4-.92-.59-1.43-.59-.52 0-1.04.2-1.43.59L10.3 9.45l-7.72 7.72c-.78.78-.78 2.05 0 2.83L4 21.41c.39.39.9.59 1.41.59.51 0 1.02-.2 1.41-.59l7.78-7.78 2.81-2.81c.8-.78.8-2.07 0-2.86zM5.41 20L4 18.59l7.72-7.72 1.47 1.35L5.41 20z\"/>\n",
              "  </svg>\n",
              "      </button>\n",
              "      \n",
              "  <style>\n",
              "    .colab-df-container {\n",
              "      display:flex;\n",
              "      flex-wrap:wrap;\n",
              "      gap: 12px;\n",
              "    }\n",
              "\n",
              "    .colab-df-convert {\n",
              "      background-color: #E8F0FE;\n",
              "      border: none;\n",
              "      border-radius: 50%;\n",
              "      cursor: pointer;\n",
              "      display: none;\n",
              "      fill: #1967D2;\n",
              "      height: 32px;\n",
              "      padding: 0 0 0 0;\n",
              "      width: 32px;\n",
              "    }\n",
              "\n",
              "    .colab-df-convert:hover {\n",
              "      background-color: #E2EBFA;\n",
              "      box-shadow: 0px 1px 2px rgba(60, 64, 67, 0.3), 0px 1px 3px 1px rgba(60, 64, 67, 0.15);\n",
              "      fill: #174EA6;\n",
              "    }\n",
              "\n",
              "    [theme=dark] .colab-df-convert {\n",
              "      background-color: #3B4455;\n",
              "      fill: #D2E3FC;\n",
              "    }\n",
              "\n",
              "    [theme=dark] .colab-df-convert:hover {\n",
              "      background-color: #434B5C;\n",
              "      box-shadow: 0px 1px 3px 1px rgba(0, 0, 0, 0.15);\n",
              "      filter: drop-shadow(0px 1px 2px rgba(0, 0, 0, 0.3));\n",
              "      fill: #FFFFFF;\n",
              "    }\n",
              "  </style>\n",
              "\n",
              "      <script>\n",
              "        const buttonEl =\n",
              "          document.querySelector('#df-2a13cdf3-0acf-4a4e-af87-76728f9519ae button.colab-df-convert');\n",
              "        buttonEl.style.display =\n",
              "          google.colab.kernel.accessAllowed ? 'block' : 'none';\n",
              "\n",
              "        async function convertToInteractive(key) {\n",
              "          const element = document.querySelector('#df-2a13cdf3-0acf-4a4e-af87-76728f9519ae');\n",
              "          const dataTable =\n",
              "            await google.colab.kernel.invokeFunction('convertToInteractive',\n",
              "                                                     [key], {});\n",
              "          if (!dataTable) return;\n",
              "\n",
              "          const docLinkHtml = 'Like what you see? Visit the ' +\n",
              "            '<a target=\"_blank\" href=https://colab.research.google.com/notebooks/data_table.ipynb>data table notebook</a>'\n",
              "            + ' to learn more about interactive tables.';\n",
              "          element.innerHTML = '';\n",
              "          dataTable['output_type'] = 'display_data';\n",
              "          await google.colab.output.renderOutput(dataTable, element);\n",
              "          const docLink = document.createElement('div');\n",
              "          docLink.innerHTML = docLinkHtml;\n",
              "          element.appendChild(docLink);\n",
              "        }\n",
              "      </script>\n",
              "    </div>\n",
              "  </div>\n",
              "  "
            ]
          },
          "metadata": {},
          "execution_count": 57
        }
      ]
    },
    {
      "cell_type": "markdown",
      "source": [
        "##Idea\n",
        "### create a function where if you dont choose a city you get a dataframe with all the countries and only the products given if not then return a dataframe with the product and city given"
      ],
      "metadata": {
        "id": "wdzWCTbJZw_O"
      }
    },
    {
      "cell_type": "code",
      "source": [
        "# the join function map wil give us utomticlly the title of the entire grapichs that we are making\n",
        "t = 'Precio KG de '+(' '.join(map(str, P)))+' en '+(' '.join(map(str, C)))\n"
      ],
      "metadata": {
        "id": "ZXodDhOsqJB_"
      },
      "execution_count": 58,
      "outputs": []
    },
    {
      "cell_type": "code",
      "source": [
        "# why are we seeing a strange graph?\n",
        "# There are different value for the cities all raound the country we need to configure the data to bether understaand this\n",
        "fig, ax = plt.subplots(figsize=(16, 6)) # thiss saves the fig  in the ax \n",
        "ax = sns.lineplot(data=dfpc, x=\"Fecha\", y=\"Precio KG\")# the ax value i the plotting of the cart\n",
        "ax.set(\n",
        "xlabel=\"Fecha\",\n",
        "ylabel=\"Precio KG\",\n",
        ")\n",
        "ax.set_title(t)"
      ],
      "metadata": {
        "colab": {
          "base_uri": "https://localhost:8080/",
          "height": 582
        },
        "id": "N7rEBWpBNS_n",
        "outputId": "6f3a062f-22e7-4240-bb76-dde9511fb98c"
      },
      "execution_count": 59,
      "outputs": [
        {
          "output_type": "execute_result",
          "data": {
            "text/plain": [
              "Text(0.5, 1.0, 'Precio KG de Mango Tommy en Ibague')"
            ]
          },
          "metadata": {},
          "execution_count": 59
        },
        {
          "output_type": "display_data",
          "data": {
            "text/plain": [
              "<Figure size 1600x600 with 1 Axes>"
            ],
            "image/png": "[encoded data removed]"
          },
          "metadata": {}
        }
      ]
    },
    {
      "cell_type": "code",
      "source": [
        "dfpc.describe()"
      ],
      "metadata": {
        "colab": {
          "base_uri": "https://localhost:8080/",
          "height": 300
        },
        "id": "TmFVUvNau7HI",
        "outputId": "3790254a-cfe3-4efd-8f0a-55cbb2563a07"
      },
      "execution_count": 60,
      "outputs": [
        {
          "output_type": "execute_result",
          "data": {
            "text/plain": [
              "         Precio KG\n",
              "count    31.000000\n",
              "mean   1676.322581\n",
              "std     701.220098\n",
              "min     930.000000\n",
              "25%    1238.500000\n",
              "50%    1469.000000\n",
              "75%    1883.500000\n",
              "max    3600.000000"
            ],
            "text/html": [
              "\n",
              "  <div id=\"df-c4d74554-eaa8-4ace-84e5-e440281fc5d0\">\n",
              "    <div class=\"colab-df-container\">\n",
              "      <div>\n",
              "<style scoped>\n",
              "    .dataframe tbody tr th:only-of-type {\n",
              "        vertical-align: middle;\n",
              "    }\n",
              "\n",
              "    .dataframe tbody tr th {\n",
              "        vertical-align: top;\n",
              "    }\n",
              "\n",
              "    .dataframe thead th {\n",
              "        text-align: right;\n",
              "    }\n",
              "</style>\n",
              "<table border=\"1\" class=\"dataframe\">\n",
              "  <thead>\n",
              "    <tr style=\"text-align: right;\">\n",
              "      <th></th>\n",
              "      <th>Precio KG</th>\n",
              "    </tr>\n",
              "  </thead>\n",
              "  <tbody>\n",
              "    <tr>\n",
              "      <th>count</th>\n",
              "      <td>31.000000</td>\n",
              "    </tr>\n",
              "    <tr>\n",
              "      <th>mean</th>\n",
              "      <td>1676.322581</td>\n",
              "    </tr>\n",
              "    <tr>\n",
              "      <th>std</th>\n",
              "      <td>701.220098</td>\n",
              "    </tr>\n",
              "    <tr>\n",
              "      <th>min</th>\n",
              "      <td>930.000000</td>\n",
              "    </tr>\n",
              "    <tr>\n",
              "      <th>25%</th>\n",
              "      <td>1238.500000</td>\n",
              "    </tr>\n",
              "    <tr>\n",
              "      <th>50%</th>\n",
              "      <td>1469.000000</td>\n",
              "    </tr>\n",
              "    <tr>\n",
              "      <th>75%</th>\n",
              "      <td>1883.500000</td>\n",
              "    </tr>\n",
              "    <tr>\n",
              "      <th>max</th>\n",
              "      <td>3600.000000</td>\n",
              "    </tr>\n",
              "  </tbody>\n",
              "</table>\n",
              "</div>\n",
              "      <button class=\"colab-df-convert\" onclick=\"convertToInteractive('df-c4d74554-eaa8-4ace-84e5-e440281fc5d0')\"\n",
              "              title=\"Convert this dataframe to an interactive table.\"\n",
              "              style=\"display:none;\">\n",
              "        \n",
              "  <svg xmlns=\"http://www.w3.org/2000/svg\" height=\"24px\"viewBox=\"0 0 24 24\"\n",
              "       width=\"24px\">\n",
              "    <path d=\"M0 0h24v24H0V0z\" fill=\"none\"/>\n",
              "    <path d=\"M18.56 5.44l.94 2.06.94-2.06 2.06-.94-2.06-.94-.94-2.06-.94 2.06-2.06.94zm-11 1L8.5 8.5l.94-2.06 2.06-.94-2.06-.94L8.5 2.5l-.94 2.06-2.06.94zm10 10l.94 2.06.94-2.06 2.06-.94-2.06-.94-.94-2.06-.94 2.06-2.06.94z\"/><path d=\"M17.41 7.96l-1.37-1.37c-.4-.4-.92-.59-1.43-.59-.52 0-1.04.2-1.43.59L10.3 9.45l-7.72 7.72c-.78.78-.78 2.05 0 2.83L4 21.41c.39.39.9.59 1.41.59.51 0 1.02-.2 1.41-.59l7.78-7.78 2.81-2.81c.8-.78.8-2.07 0-2.86zM5.41 20L4 18.59l7.72-7.72 1.47 1.35L5.41 20z\"/>\n",
              "  </svg>\n",
              "      </button>\n",
              "      \n",
              "  <style>\n",
              "    .colab-df-container {\n",
              "      display:flex;\n",
              "      flex-wrap:wrap;\n",
              "      gap: 12px;\n",
              "    }\n",
              "\n",
              "    .colab-df-convert {\n",
              "      background-color: #E8F0FE;\n",
              "      border: none;\n",
              "      border-radius: 50%;\n",
              "      cursor: pointer;\n",
              "      display: none;\n",
              "      fill: #1967D2;\n",
              "      height: 32px;\n",
              "      padding: 0 0 0 0;\n",
              "      width: 32px;\n",
              "    }\n",
              "\n",
              "    .colab-df-convert:hover {\n",
              "      background-color: #E2EBFA;\n",
              "      box-shadow: 0px 1px 2px rgba(60, 64, 67, 0.3), 0px 1px 3px 1px rgba(60, 64, 67, 0.15);\n",
              "      fill: #174EA6;\n",
              "    }\n",
              "\n",
              "    [theme=dark] .colab-df-convert {\n",
              "      background-color: #3B4455;\n",
              "      fill: #D2E3FC;\n",
              "    }\n",
              "\n",
              "    [theme=dark] .colab-df-convert:hover {\n",
              "      background-color: #434B5C;\n",
              "      box-shadow: 0px 1px 3px 1px rgba(0, 0, 0, 0.15);\n",
              "      filter: drop-shadow(0px 1px 2px rgba(0, 0, 0, 0.3));\n",
              "      fill: #FFFFFF;\n",
              "    }\n",
              "  </style>\n",
              "\n",
              "      <script>\n",
              "        const buttonEl =\n",
              "          document.querySelector('#df-c4d74554-eaa8-4ace-84e5-e440281fc5d0 button.colab-df-convert');\n",
              "        buttonEl.style.display =\n",
              "          google.colab.kernel.accessAllowed ? 'block' : 'none';\n",
              "\n",
              "        async function convertToInteractive(key) {\n",
              "          const element = document.querySelector('#df-c4d74554-eaa8-4ace-84e5-e440281fc5d0');\n",
              "          const dataTable =\n",
              "            await google.colab.kernel.invokeFunction('convertToInteractive',\n",
              "                                                     [key], {});\n",
              "          if (!dataTable) return;\n",
              "\n",
              "          const docLinkHtml = 'Like what you see? Visit the ' +\n",
              "            '<a target=\"_blank\" href=https://colab.research.google.com/notebooks/data_table.ipynb>data table notebook</a>'\n",
              "            + ' to learn more about interactive tables.';\n",
              "          element.innerHTML = '';\n",
              "          dataTable['output_type'] = 'display_data';\n",
              "          await google.colab.output.renderOutput(dataTable, element);\n",
              "          const docLink = document.createElement('div');\n",
              "          docLink.innerHTML = docLinkHtml;\n",
              "          element.appendChild(docLink);\n",
              "        }\n",
              "      </script>\n",
              "    </div>\n",
              "  </div>\n",
              "  "
            ]
          },
          "metadata": {},
          "execution_count": 60
        }
      ]
    },
    {
      "cell_type": "code",
      "source": [
        "# instead of having a list we could also see it in the graph to get a better understanding of the min a max values\n",
        "# this is a new datafrme called point\n",
        "point = (dfpc['Precio KG'].min()) + (dfpc['Precio KG'].max())\n",
        "point"
      ],
      "metadata": {
        "id": "t9NnyBhEyD5g",
        "colab": {
          "base_uri": "https://localhost:8080/"
        },
        "outputId": "4129c2af-1a61-4f53-9b33-38eb8637dfd1"
      },
      "execution_count": 61,
      "outputs": [
        {
          "output_type": "execute_result",
          "data": {
            "text/plain": [
              "4530.0"
            ]
          },
          "metadata": {},
          "execution_count": 61
        }
      ]
    },
    {
      "cell_type": "code",
      "source": [
        "# this is the y axis list that will have the mean value over the entire len of the dataframe\n",
        "y=dfpc['Precio KG']\n",
        "x=dfpc.index\n",
        "y_avg = [np.mean(y)] * len(x)\n",
        "# now we need a new line but with the mean value of the year 2022 but that crosses the entire year\n",
        "y_22 = dfpc.loc[\"2022\":\"2023\",\"Precio KG\"]\n",
        "y_avg22=[np.mean(y_22)]* len(x)"
      ],
      "metadata": {
        "id": "XJ50lrnnUzye"
      },
      "execution_count": 62,
      "outputs": []
    },
    {
      "cell_type": "code",
      "source": [
        "# this proof that this linnne of code will change be a range of values that are all the same average and has a lenght of a specified array\n",
        "[np.mean(y_avg22)]* len(x)"
      ],
      "metadata": {
        "id": "43RrSEXw3SrG",
        "colab": {
          "base_uri": "https://localhost:8080/"
        },
        "outputId": "bcb5524a-408c-4401-ec4e-f3463d5d36c8"
      },
      "execution_count": 63,
      "outputs": [
        {
          "output_type": "execute_result",
          "data": {
            "text/plain": [
              "[2428.75,\n",
              " 2428.75,\n",
              " 2428.75,\n",
              " 2428.75,\n",
              " 2428.75,\n",
              " 2428.75,\n",
              " 2428.75,\n",
              " 2428.75,\n",
              " 2428.75,\n",
              " 2428.75,\n",
              " 2428.75,\n",
              " 2428.75,\n",
              " 2428.75,\n",
              " 2428.75,\n",
              " 2428.75,\n",
              " 2428.75,\n",
              " 2428.75,\n",
              " 2428.75,\n",
              " 2428.75,\n",
              " 2428.75,\n",
              " 2428.75,\n",
              " 2428.75,\n",
              " 2428.75,\n",
              " 2428.75,\n",
              " 2428.75,\n",
              " 2428.75,\n",
              " 2428.75,\n",
              " 2428.75,\n",
              " 2428.75,\n",
              " 2428.75,\n",
              " 2428.75]"
            ]
          },
          "metadata": {},
          "execution_count": 63
        }
      ]
    },
    {
      "cell_type": "code",
      "source": [
        "y_avg22 = dfpc.loc[\"2022\":\"2023\",\"Precio KG\"]"
      ],
      "metadata": {
        "id": "iKqH96Yr3Srm"
      },
      "execution_count": 64,
      "outputs": []
    },
    {
      "cell_type": "code",
      "source": [
        "# here i noted that is is first necessary to call the size of the figure general atrubites like the x annd y labels \n",
        "# and then set every plot that we wanted\n",
        "x = dfpc.index\n",
        "y = dfpc['Precio KG']\n",
        "y_avg = [np.mean(y)] * len(x)\n",
        "y_22 = dfpc.loc[\"2022\":\"2023\",\"Precio KG\"]\n",
        "y_avg22=[np.mean(y_22)]* len(x)\n",
        "plt.figure(figsize=(16,6))\n",
        "plt.title(t)\n",
        "plt.xlabel('Fecha')\n",
        "plt.ylabel('Precio KG')\n",
        "plt.plot(x, y)\n",
        "plt.plot(x, y_avg, color='red', ls='--')\n",
        "plt.plot(x,y_avg22, color=\"green\",ls=\"--\")\n",
        "plt.show()"
      ],
      "metadata": {
        "colab": {
          "base_uri": "https://localhost:8080/",
          "height": 564
        },
        "outputId": "5b2e5a1c-c678-4e32-90a6-fa830837a5da",
        "id": "MKBoOi3OafEQ"
      },
      "execution_count": 65,
      "outputs": [
        {
          "output_type": "display_data",
          "data": {
            "text/plain": [
              "<Figure size 1600x600 with 1 Axes>"
            ],
            "image/png": "[encoded data removed]"
          },
          "metadata": {}
        }
      ]
    },
    {
      "cell_type": "code",
      "source": [
        "# here i noted that is is first necessary to call the size of the figure general atrubites like the x annd y labels \n",
        "# and then set every plot that we wanted\n",
        "x = dfpc.index\n",
        "y = dfpc['Precio KG']\n",
        "y_avg = [np.mean(y)] * len(x)\n",
        "y_22 = dfpc.loc[\"2022\":\"2023\",\"Precio KG\"]\n",
        "y_avg22=[np.mean(y_22)]* len(x)\n",
        "plt.figure(figsize=(16,6))\n",
        "plt.title(t)\n",
        "plt.xlabel('Fecha')\n",
        "plt.ylabel('Precio KG')\n",
        "sns.lineplot(data =dfpc,x='Fecha',y='Precio KG',label ='PRICE')\n",
        "plt.plot(x, y_avg, color='red', ls='--',label ='avg 2019-2022')\n",
        "plt.plot(x,y_avg22, color=\"green\",ls=\"--\",label='avg 2022')\n",
        "plt.legend(loc=\"upper left\")\n",
        "plt.show()\n",
        "\n",
        "# now you can see that thiss line of seaborn .plotline is a better fit for our data \n",
        "# as the blue line representes the mean of all the valuess and \n",
        "# the gradient blue will represent data that represent each mean of the day calculated "
      ],
      "metadata": {
        "colab": {
          "base_uri": "https://localhost:8080/",
          "height": 564
        },
        "outputId": "94687428-438e-469f-f09d-cbf2a9a9f9bb",
        "id": "FzE7lWceEbS5"
      },
      "execution_count": 66,
      "outputs": [
        {
          "output_type": "display_data",
          "data": {
            "text/plain": [
              "<Figure size 1600x600 with 1 Axes>"
            ],
            "image/png": "[encoded data removed]"
          },
          "metadata": {}
        }
      ]
    },
    {
      "cell_type": "code",
      "source": [
        "# here we can see that for a single day of the month we get various values thanks to the different retailer markets\n",
        "# that is why we get a timelinen gragh that does'nt look normal \n",
        "# maybe we should use other type of grapgh to better represent the differrent prices that you can see in a normal day \n",
        "dfpc.head()\n",
        "'how to make a candle timeline in matplotlib'"
      ],
      "metadata": {
        "colab": {
          "base_uri": "https://localhost:8080/",
          "height": 36
        },
        "id": "OzOIEdhi9uVG",
        "outputId": "bb493c05-e846-4089-bf03-a637a256b8e5"
      },
      "execution_count": 67,
      "outputs": [
        {
          "output_type": "execute_result",
          "data": {
            "text/plain": [
              "'how to make a candle timeline in matplotlib'"
            ],
            "application/vnd.google.colaboratory.intrinsic+json": {
              "type": "string"
            }
          },
          "metadata": {},
          "execution_count": 67
        }
      ]
    },
    {
      "cell_type": "code",
      "source": [
        "sns.lineplot(data=dfpc, x=\"Fecha\", y=\"Precio KG\")"
      ],
      "metadata": {
        "colab": {
          "base_uri": "https://localhost:8080/",
          "height": 467
        },
        "id": "7p1bahy9D73V",
        "outputId": "c392cf7a-0f5d-4505-bd8d-564e268caee8"
      },
      "execution_count": 68,
      "outputs": [
        {
          "output_type": "execute_result",
          "data": {
            "text/plain": [
              "<Axes: xlabel='Fecha', ylabel='Precio KG'>"
            ]
          },
          "metadata": {},
          "execution_count": 68
        },
        {
          "output_type": "display_data",
          "data": {
            "text/plain": [
              "<Figure size 640x480 with 1 Axes>"
            ],
            "image/png": "[encoded data removed]"
          },
          "metadata": {}
        }
      ]
    },
    {
      "cell_type": "code",
      "source": [
        "# here you will find the prices with less and more variationa across the cities \n",
        "print(dfpc.describe().round(),\n",
        "      t,dfp.describe().round())"
      ],
      "metadata": {
        "id": "nZ0u2Cvwchac",
        "colab": {
          "base_uri": "https://localhost:8080/"
        },
        "outputId": "c538cd8c-431c-43ca-93ef-4f6d2c617dc1"
      },
      "execution_count": 69,
      "outputs": [
        {
          "output_type": "stream",
          "name": "stdout",
          "text": [
            "       Precio KG\n",
            "count       31.0\n",
            "mean      1676.0\n",
            "std        701.0\n",
            "min        930.0\n",
            "25%       1238.0\n",
            "50%       1469.0\n",
            "75%       1884.0\n",
            "max       3600.0 Precio KG de Mango Tommy en Ibague        Precio KG\n",
            "count     1521.0\n",
            "mean      2882.0\n",
            "std       1548.0\n",
            "min        767.0\n",
            "25%       1776.0\n",
            "50%       2413.0\n",
            "75%       3457.0\n",
            "max       9917.0\n"
          ]
        }
      ]
    },
    {
      "cell_type": "code",
      "source": [
        "# here we are seeing the product and its standart deviaation by citie \n",
        "# so we can see where are the products with less variation in its prices\n",
        "# it is correct the clarify that less variation in the prices \n",
        "# doesn't necessarly meaan lower prices\n",
        "std=dfp.groupby('Ciudad')['Precio KG'].std().round()\n",
        "std.nlargest(5)\n",
        "std.nsmallest(5)"
      ],
      "metadata": {
        "id": "z1M-O_HymbaH",
        "colab": {
          "base_uri": "https://localhost:8080/"
        },
        "outputId": "ba85aa05-aee1-44a7-a146-4462e06064c7"
      },
      "execution_count": 87,
      "outputs": [
        {
          "output_type": "execute_result",
          "data": {
            "text/plain": [
              "Ciudad\n",
              "Cartagena                         290.0\n",
              "Buenaventura (Valle del Cauca)    526.0\n",
              "Monteria                          596.0\n",
              "Armenia                           611.0\n",
              "Ibague                            701.0\n",
              "Name: Precio KG, dtype: float64"
            ]
          },
          "metadata": {},
          "execution_count": 87
        }
      ]
    },
    {
      "cell_type": "code",
      "source": [
        "# here you can see that we use the same function to call the max a min values of the dataframe \n",
        "# maaybe we can use a function to save lines of code\n",
        "M= dfp.groupby('Ciudad')['Precio KG'].mean()\n",
        "M.nlargest(5)\n",
        "M.nsmallest(5)"
      ],
      "metadata": {
        "id": "I6OYw9__uOaN",
        "colab": {
          "base_uri": "https://localhost:8080/"
        },
        "outputId": "da0f42ba-a59c-4c4f-c2f7-5db869edc0e9"
      },
      "execution_count": 102,
      "outputs": [
        {
          "output_type": "execute_result",
          "data": {
            "text/plain": [
              "Ciudad\n",
              "Armenia                1656.837838\n",
              "Ibague                 1676.322581\n",
              "Monteria               1737.812500\n",
              "Cartagena              1805.466667\n",
              "Socorro (Santander)    1960.361111\n",
              "Name: Precio KG, dtype: float64"
            ]
          },
          "metadata": {},
          "execution_count": 102
        }
      ]
    },
    {
      "cell_type": "code",
      "source": [
        "# there is a problem in the conversion between matplotlib and csipy you could usse \n",
        "#df.index.to_pydatetime() works for me.\n",
        "\n",
        "\n",
        "dfs = dfpc.loc['2022':'2023']\n",
        "xs = dfs.index\n",
        "ys = dfs['Precio KG']\n",
        "lin_ress = linregress(xs,ys)"
      ],
      "metadata": {
        "colab": {
          "base_uri": "https://localhost:8080/",
          "height": 358
        },
        "id": "ASvz3N6pjOb9",
        "outputId": "f2656c81-8dce-46c4-8cdc-91f376037ff0"
      },
      "execution_count": 130,
      "outputs": [
        {
          "output_type": "error",
          "ename": "UFuncTypeError",
          "evalue": "ignored",
          "traceback": [
            "\u001b[0;31m---------------------------------------------------------------------------\u001b[0m",
            "\u001b[0;31mUFuncTypeError\u001b[0m                            Traceback (most recent call last)",
            "\u001b[0;32m<ipython-input-130-a904abbec4f6>\u001b[0m in \u001b[0;36m<cell line: 8>\u001b[0;34m()\u001b[0m\n\u001b[1;32m      6\u001b[0m \u001b[0mxs\u001b[0m \u001b[0;34m=\u001b[0m \u001b[0mdfs\u001b[0m\u001b[0;34m.\u001b[0m\u001b[0mindex\u001b[0m\u001b[0;34m\u001b[0m\u001b[0;34m\u001b[0m\u001b[0m\n\u001b[1;32m      7\u001b[0m \u001b[0mys\u001b[0m \u001b[0;34m=\u001b[0m \u001b[0mdfs\u001b[0m\u001b[0;34m[\u001b[0m\u001b[0;34m'Precio KG'\u001b[0m\u001b[0;34m]\u001b[0m\u001b[0;34m\u001b[0m\u001b[0;34m\u001b[0m\u001b[0m\n\u001b[0;32m----> 8\u001b[0;31m \u001b[0mlin_ress\u001b[0m \u001b[0;34m=\u001b[0m \u001b[0mlinregress\u001b[0m\u001b[0;34m(\u001b[0m\u001b[0mxs\u001b[0m\u001b[0;34m,\u001b[0m\u001b[0mys\u001b[0m\u001b[0;34m)\u001b[0m\u001b[0;34m\u001b[0m\u001b[0;34m\u001b[0m\u001b[0m\n\u001b[0m",
            "\u001b[0;32m/usr/local/lib/python3.9/dist-packages/scipy/stats/_stats_mstats_common.py\u001b[0m in \u001b[0;36mlinregress\u001b[0;34m(x, y, alternative)\u001b[0m\n\u001b[1;32m    159\u001b[0m \u001b[0;34m\u001b[0m\u001b[0m\n\u001b[1;32m    160\u001b[0m     \u001b[0mn\u001b[0m \u001b[0;34m=\u001b[0m \u001b[0mlen\u001b[0m\u001b[0;34m(\u001b[0m\u001b[0mx\u001b[0m\u001b[0;34m)\u001b[0m\u001b[0;34m\u001b[0m\u001b[0;34m\u001b[0m\u001b[0m\n\u001b[0;32m--> 161\u001b[0;31m     \u001b[0mxmean\u001b[0m \u001b[0;34m=\u001b[0m \u001b[0mnp\u001b[0m\u001b[0;34m.\u001b[0m\u001b[0mmean\u001b[0m\u001b[0;34m(\u001b[0m\u001b[0mx\u001b[0m\u001b[0;34m,\u001b[0m \u001b[0;32mNone\u001b[0m\u001b[0;34m)\u001b[0m\u001b[0;34m\u001b[0m\u001b[0;34m\u001b[0m\u001b[0m\n\u001b[0m\u001b[1;32m    162\u001b[0m     \u001b[0mymean\u001b[0m \u001b[0;34m=\u001b[0m \u001b[0mnp\u001b[0m\u001b[0;34m.\u001b[0m\u001b[0mmean\u001b[0m\u001b[0;34m(\u001b[0m\u001b[0my\u001b[0m\u001b[0;34m,\u001b[0m \u001b[0;32mNone\u001b[0m\u001b[0;34m)\u001b[0m\u001b[0;34m\u001b[0m\u001b[0;34m\u001b[0m\u001b[0m\n\u001b[1;32m    163\u001b[0m \u001b[0;34m\u001b[0m\u001b[0m\n",
            "\u001b[0;32m/usr/local/lib/python3.9/dist-packages/numpy/core/overrides.py\u001b[0m in \u001b[0;36mmean\u001b[0;34m(*args, **kwargs)\u001b[0m\n",
            "\u001b[0;32m/usr/local/lib/python3.9/dist-packages/numpy/core/fromnumeric.py\u001b[0m in \u001b[0;36mmean\u001b[0;34m(a, axis, dtype, out, keepdims, where)\u001b[0m\n\u001b[1;32m   3472\u001b[0m             \u001b[0;32mreturn\u001b[0m \u001b[0mmean\u001b[0m\u001b[0;34m(\u001b[0m\u001b[0maxis\u001b[0m\u001b[0;34m=\u001b[0m\u001b[0maxis\u001b[0m\u001b[0;34m,\u001b[0m \u001b[0mdtype\u001b[0m\u001b[0;34m=\u001b[0m\u001b[0mdtype\u001b[0m\u001b[0;34m,\u001b[0m \u001b[0mout\u001b[0m\u001b[0;34m=\u001b[0m\u001b[0mout\u001b[0m\u001b[0;34m,\u001b[0m \u001b[0;34m**\u001b[0m\u001b[0mkwargs\u001b[0m\u001b[0;34m)\u001b[0m\u001b[0;34m\u001b[0m\u001b[0;34m\u001b[0m\u001b[0m\n\u001b[1;32m   3473\u001b[0m \u001b[0;34m\u001b[0m\u001b[0m\n\u001b[0;32m-> 3474\u001b[0;31m     return _methods._mean(a, axis=axis, dtype=dtype,\n\u001b[0m\u001b[1;32m   3475\u001b[0m                           out=out, **kwargs)\n\u001b[1;32m   3476\u001b[0m \u001b[0;34m\u001b[0m\u001b[0m\n",
            "\u001b[0;32m/usr/local/lib/python3.9/dist-packages/numpy/core/_methods.py\u001b[0m in \u001b[0;36m_mean\u001b[0;34m(a, axis, dtype, out, keepdims, where)\u001b[0m\n\u001b[1;32m    177\u001b[0m             \u001b[0mis_float16_result\u001b[0m \u001b[0;34m=\u001b[0m \u001b[0;32mTrue\u001b[0m\u001b[0;34m\u001b[0m\u001b[0;34m\u001b[0m\u001b[0m\n\u001b[1;32m    178\u001b[0m \u001b[0;34m\u001b[0m\u001b[0m\n\u001b[0;32m--> 179\u001b[0;31m     \u001b[0mret\u001b[0m \u001b[0;34m=\u001b[0m \u001b[0mumr_sum\u001b[0m\u001b[0;34m(\u001b[0m\u001b[0marr\u001b[0m\u001b[0;34m,\u001b[0m \u001b[0maxis\u001b[0m\u001b[0;34m,\u001b[0m \u001b[0mdtype\u001b[0m\u001b[0;34m,\u001b[0m \u001b[0mout\u001b[0m\u001b[0;34m,\u001b[0m \u001b[0mkeepdims\u001b[0m\u001b[0;34m,\u001b[0m \u001b[0mwhere\u001b[0m\u001b[0;34m=\u001b[0m\u001b[0mwhere\u001b[0m\u001b[0;34m)\u001b[0m\u001b[0;34m\u001b[0m\u001b[0;34m\u001b[0m\u001b[0m\n\u001b[0m\u001b[1;32m    180\u001b[0m     \u001b[0;32mif\u001b[0m \u001b[0misinstance\u001b[0m\u001b[0;34m(\u001b[0m\u001b[0mret\u001b[0m\u001b[0;34m,\u001b[0m \u001b[0mmu\u001b[0m\u001b[0;34m.\u001b[0m\u001b[0mndarray\u001b[0m\u001b[0;34m)\u001b[0m\u001b[0;34m:\u001b[0m\u001b[0;34m\u001b[0m\u001b[0;34m\u001b[0m\u001b[0m\n\u001b[1;32m    181\u001b[0m         ret = um.true_divide(\n",
            "\u001b[0;31mUFuncTypeError\u001b[0m: ufunc 'add' cannot use operands with types dtype('<M8[ns]') and dtype('<M8[ns]')"
          ]
        }
      ]
    },
    {
      "cell_type": "code",
      "source": [
        "sns.lmplot(x=, y=\"Precio KG\", data=dfs);\n"
      ],
      "metadata": {
        "colab": {
          "base_uri": "https://localhost:8080/",
          "height": 632
        },
        "id": "n-wt-uZ_mClm",
        "outputId": "4229b816-a20c-4eb5-ff77-9f14b118a3f4"
      },
      "execution_count": 128,
      "outputs": [
        {
          "output_type": "stream",
          "name": "stderr",
          "text": [
            "/usr/local/lib/python3.9/dist-packages/numpy/lib/arraysetops.py:270: VisibleDeprecationWarning: Creating an ndarray from ragged nested sequences (which is a list-or-tuple of lists-or-tuples-or ndarrays with different lengths or shapes) is deprecated. If you meant to do this, you must specify 'dtype=object' when creating the ndarray.\n",
            "  ar = np.asanyarray(ar)\n"
          ]
        },
        {
          "output_type": "error",
          "ename": "TypeError",
          "evalue": "ignored",
          "traceback": [
            "\u001b[0;31m---------------------------------------------------------------------------\u001b[0m",
            "\u001b[0;31mParserError\u001b[0m                               Traceback (most recent call last)",
            "\u001b[0;32m/usr/local/lib/python3.9/dist-packages/pandas/_libs/tslibs/conversion.pyx\u001b[0m in \u001b[0;36mpandas._libs.tslibs.conversion._convert_str_to_tsobject\u001b[0;34m()\u001b[0m\n",
            "\u001b[0;32m/usr/local/lib/python3.9/dist-packages/pandas/_libs/tslibs/parsing.pyx\u001b[0m in \u001b[0;36mpandas._libs.tslibs.parsing.parse_datetime_string\u001b[0;34m()\u001b[0m\n",
            "\u001b[0;32m/usr/local/lib/python3.9/dist-packages/dateutil/parser/_parser.py\u001b[0m in \u001b[0;36mparse\u001b[0;34m(timestr, parserinfo, **kwargs)\u001b[0m\n\u001b[1;32m   1367\u001b[0m     \u001b[0;32melse\u001b[0m\u001b[0;34m:\u001b[0m\u001b[0;34m\u001b[0m\u001b[0;34m\u001b[0m\u001b[0m\n\u001b[0;32m-> 1368\u001b[0;31m         \u001b[0;32mreturn\u001b[0m \u001b[0mDEFAULTPARSER\u001b[0m\u001b[0;34m.\u001b[0m\u001b[0mparse\u001b[0m\u001b[0;34m(\u001b[0m\u001b[0mtimestr\u001b[0m\u001b[0;34m,\u001b[0m \u001b[0;34m**\u001b[0m\u001b[0mkwargs\u001b[0m\u001b[0;34m)\u001b[0m\u001b[0;34m\u001b[0m\u001b[0;34m\u001b[0m\u001b[0m\n\u001b[0m\u001b[1;32m   1369\u001b[0m \u001b[0;34m\u001b[0m\u001b[0m\n",
            "\u001b[0;32m/usr/local/lib/python3.9/dist-packages/dateutil/parser/_parser.py\u001b[0m in \u001b[0;36mparse\u001b[0;34m(self, timestr, default, ignoretz, tzinfos, **kwargs)\u001b[0m\n\u001b[1;32m    642\u001b[0m         \u001b[0;32mif\u001b[0m \u001b[0mres\u001b[0m \u001b[0;32mis\u001b[0m \u001b[0;32mNone\u001b[0m\u001b[0;34m:\u001b[0m\u001b[0;34m\u001b[0m\u001b[0;34m\u001b[0m\u001b[0m\n\u001b[0;32m--> 643\u001b[0;31m             \u001b[0;32mraise\u001b[0m \u001b[0mParserError\u001b[0m\u001b[0;34m(\u001b[0m\u001b[0;34m\"Unknown string format: %s\"\u001b[0m\u001b[0;34m,\u001b[0m \u001b[0mtimestr\u001b[0m\u001b[0;34m)\u001b[0m\u001b[0;34m\u001b[0m\u001b[0;34m\u001b[0m\u001b[0m\n\u001b[0m\u001b[1;32m    644\u001b[0m \u001b[0;34m\u001b[0m\u001b[0m\n",
            "\u001b[0;31mParserError\u001b[0m: Unknown string format: Precio KG",
            "\nDuring handling of the above exception, another exception occurred:\n",
            "\u001b[0;31mValueError\u001b[0m                                Traceback (most recent call last)",
            "\u001b[0;32m/usr/local/lib/python3.9/dist-packages/pandas/core/arrays/datetimelike.py\u001b[0m in \u001b[0;36m_validate_comparison_value\u001b[0;34m(self, other)\u001b[0m\n\u001b[1;32m    527\u001b[0m                 \u001b[0;31m# GH#18435 strings get a pass from tzawareness compat\u001b[0m\u001b[0;34m\u001b[0m\u001b[0;34m\u001b[0m\u001b[0m\n\u001b[0;32m--> 528\u001b[0;31m                 \u001b[0mother\u001b[0m \u001b[0;34m=\u001b[0m \u001b[0mself\u001b[0m\u001b[0;34m.\u001b[0m\u001b[0m_scalar_from_string\u001b[0m\u001b[0;34m(\u001b[0m\u001b[0mother\u001b[0m\u001b[0;34m)\u001b[0m\u001b[0;34m\u001b[0m\u001b[0;34m\u001b[0m\u001b[0m\n\u001b[0m\u001b[1;32m    529\u001b[0m             \u001b[0;32mexcept\u001b[0m \u001b[0;34m(\u001b[0m\u001b[0mValueError\u001b[0m\u001b[0;34m,\u001b[0m \u001b[0mIncompatibleFrequency\u001b[0m\u001b[0;34m)\u001b[0m\u001b[0;34m:\u001b[0m\u001b[0;34m\u001b[0m\u001b[0;34m\u001b[0m\u001b[0m\n",
            "\u001b[0;32m/usr/local/lib/python3.9/dist-packages/pandas/core/arrays/datetimes.py\u001b[0m in \u001b[0;36m_scalar_from_string\u001b[0;34m(self, value)\u001b[0m\n\u001b[1;32m    502\u001b[0m     \u001b[0;32mdef\u001b[0m \u001b[0m_scalar_from_string\u001b[0m\u001b[0;34m(\u001b[0m\u001b[0mself\u001b[0m\u001b[0;34m,\u001b[0m \u001b[0mvalue\u001b[0m\u001b[0;34m)\u001b[0m \u001b[0;34m->\u001b[0m \u001b[0mTimestamp\u001b[0m \u001b[0;34m|\u001b[0m \u001b[0mNaTType\u001b[0m\u001b[0;34m:\u001b[0m\u001b[0;34m\u001b[0m\u001b[0;34m\u001b[0m\u001b[0m\n\u001b[0;32m--> 503\u001b[0;31m         \u001b[0;32mreturn\u001b[0m \u001b[0mTimestamp\u001b[0m\u001b[0;34m(\u001b[0m\u001b[0mvalue\u001b[0m\u001b[0;34m,\u001b[0m \u001b[0mtz\u001b[0m\u001b[0;34m=\u001b[0m\u001b[0mself\u001b[0m\u001b[0;34m.\u001b[0m\u001b[0mtz\u001b[0m\u001b[0;34m)\u001b[0m\u001b[0;34m\u001b[0m\u001b[0;34m\u001b[0m\u001b[0m\n\u001b[0m\u001b[1;32m    504\u001b[0m \u001b[0;34m\u001b[0m\u001b[0m\n",
            "\u001b[0;32m/usr/local/lib/python3.9/dist-packages/pandas/_libs/tslibs/timestamps.pyx\u001b[0m in \u001b[0;36mpandas._libs.tslibs.timestamps.Timestamp.__new__\u001b[0;34m()\u001b[0m\n",
            "\u001b[0;32m/usr/local/lib/python3.9/dist-packages/pandas/_libs/tslibs/conversion.pyx\u001b[0m in \u001b[0;36mpandas._libs.tslibs.conversion.convert_to_tsobject\u001b[0;34m()\u001b[0m\n",
            "\u001b[0;32m/usr/local/lib/python3.9/dist-packages/pandas/_libs/tslibs/conversion.pyx\u001b[0m in \u001b[0;36mpandas._libs.tslibs.conversion._convert_str_to_tsobject\u001b[0;34m()\u001b[0m\n",
            "\u001b[0;31mValueError\u001b[0m: could not convert string to Timestamp",
            "\nDuring handling of the above exception, another exception occurred:\n",
            "\u001b[0;31mInvalidComparison\u001b[0m                         Traceback (most recent call last)",
            "\u001b[0;32m/usr/local/lib/python3.9/dist-packages/pandas/core/arrays/datetimelike.py\u001b[0m in \u001b[0;36m_cmp_method\u001b[0;34m(self, other, op)\u001b[0m\n\u001b[1;32m   1007\u001b[0m         \u001b[0;32mtry\u001b[0m\u001b[0;34m:\u001b[0m\u001b[0;34m\u001b[0m\u001b[0;34m\u001b[0m\u001b[0m\n\u001b[0;32m-> 1008\u001b[0;31m             \u001b[0mother\u001b[0m \u001b[0;34m=\u001b[0m \u001b[0mself\u001b[0m\u001b[0;34m.\u001b[0m\u001b[0m_validate_comparison_value\u001b[0m\u001b[0;34m(\u001b[0m\u001b[0mother\u001b[0m\u001b[0;34m)\u001b[0m\u001b[0;34m\u001b[0m\u001b[0;34m\u001b[0m\u001b[0m\n\u001b[0m\u001b[1;32m   1009\u001b[0m         \u001b[0;32mexcept\u001b[0m \u001b[0mInvalidComparison\u001b[0m\u001b[0;34m:\u001b[0m\u001b[0;34m\u001b[0m\u001b[0;34m\u001b[0m\u001b[0m\n",
            "\u001b[0;32m/usr/local/lib/python3.9/dist-packages/pandas/core/arrays/datetimelike.py\u001b[0m in \u001b[0;36m_validate_comparison_value\u001b[0;34m(self, other)\u001b[0m\n\u001b[1;32m    530\u001b[0m                 \u001b[0;31m# failed to parse as Timestamp/Timedelta/Period\u001b[0m\u001b[0;34m\u001b[0m\u001b[0;34m\u001b[0m\u001b[0m\n\u001b[0;32m--> 531\u001b[0;31m                 \u001b[0;32mraise\u001b[0m \u001b[0mInvalidComparison\u001b[0m\u001b[0;34m(\u001b[0m\u001b[0mother\u001b[0m\u001b[0;34m)\u001b[0m\u001b[0;34m\u001b[0m\u001b[0;34m\u001b[0m\u001b[0m\n\u001b[0m\u001b[1;32m    532\u001b[0m \u001b[0;34m\u001b[0m\u001b[0m\n",
            "\u001b[0;31mInvalidComparison\u001b[0m: Precio KG",
            "\nDuring handling of the above exception, another exception occurred:\n",
            "\u001b[0;31mTypeError\u001b[0m                                 Traceback (most recent call last)",
            "\u001b[0;32m<ipython-input-128-68d6b60cce57>\u001b[0m in \u001b[0;36m<cell line: 1>\u001b[0;34m()\u001b[0m\n\u001b[0;32m----> 1\u001b[0;31m \u001b[0msns\u001b[0m\u001b[0;34m.\u001b[0m\u001b[0mlmplot\u001b[0m\u001b[0;34m(\u001b[0m\u001b[0mx\u001b[0m\u001b[0;34m=\u001b[0m\u001b[0mxs\u001b[0m\u001b[0;34m,\u001b[0m \u001b[0my\u001b[0m\u001b[0;34m=\u001b[0m\u001b[0;34m\"Precio KG\"\u001b[0m\u001b[0;34m,\u001b[0m \u001b[0mdata\u001b[0m\u001b[0;34m=\u001b[0m\u001b[0mdfs\u001b[0m\u001b[0;34m)\u001b[0m\u001b[0;34m;\u001b[0m\u001b[0;34m\u001b[0m\u001b[0;34m\u001b[0m\u001b[0m\n\u001b[0m",
            "\u001b[0;32m/usr/local/lib/python3.9/dist-packages/seaborn/regression.py\u001b[0m in \u001b[0;36mlmplot\u001b[0;34m(data, x, y, hue, col, row, palette, col_wrap, height, aspect, markers, sharex, sharey, hue_order, col_order, row_order, legend, legend_out, x_estimator, x_bins, x_ci, scatter, fit_reg, ci, n_boot, units, seed, order, logistic, lowess, robust, logx, x_partial, y_partial, truncate, x_jitter, y_jitter, scatter_kws, line_kws, facet_kws)\u001b[0m\n\u001b[1;32m    592\u001b[0m     \u001b[0;31m# Reduce the dataframe to only needed columns\u001b[0m\u001b[0;34m\u001b[0m\u001b[0;34m\u001b[0m\u001b[0m\n\u001b[1;32m    593\u001b[0m     \u001b[0mneed_cols\u001b[0m \u001b[0;34m=\u001b[0m \u001b[0;34m[\u001b[0m\u001b[0mx\u001b[0m\u001b[0;34m,\u001b[0m \u001b[0my\u001b[0m\u001b[0;34m,\u001b[0m \u001b[0mhue\u001b[0m\u001b[0;34m,\u001b[0m \u001b[0mcol\u001b[0m\u001b[0;34m,\u001b[0m \u001b[0mrow\u001b[0m\u001b[0;34m,\u001b[0m \u001b[0munits\u001b[0m\u001b[0;34m,\u001b[0m \u001b[0mx_partial\u001b[0m\u001b[0;34m,\u001b[0m \u001b[0my_partial\u001b[0m\u001b[0;34m]\u001b[0m\u001b[0;34m\u001b[0m\u001b[0;34m\u001b[0m\u001b[0m\n\u001b[0;32m--> 594\u001b[0;31m     \u001b[0mcols\u001b[0m \u001b[0;34m=\u001b[0m \u001b[0mnp\u001b[0m\u001b[0;34m.\u001b[0m\u001b[0munique\u001b[0m\u001b[0;34m(\u001b[0m\u001b[0;34m[\u001b[0m\u001b[0ma\u001b[0m \u001b[0;32mfor\u001b[0m \u001b[0ma\u001b[0m \u001b[0;32min\u001b[0m \u001b[0mneed_cols\u001b[0m \u001b[0;32mif\u001b[0m \u001b[0ma\u001b[0m \u001b[0;32mis\u001b[0m \u001b[0;32mnot\u001b[0m \u001b[0;32mNone\u001b[0m\u001b[0;34m]\u001b[0m\u001b[0;34m)\u001b[0m\u001b[0;34m.\u001b[0m\u001b[0mtolist\u001b[0m\u001b[0;34m(\u001b[0m\u001b[0;34m)\u001b[0m\u001b[0;34m\u001b[0m\u001b[0;34m\u001b[0m\u001b[0m\n\u001b[0m\u001b[1;32m    595\u001b[0m     \u001b[0mdata\u001b[0m \u001b[0;34m=\u001b[0m \u001b[0mdata\u001b[0m\u001b[0;34m[\u001b[0m\u001b[0mcols\u001b[0m\u001b[0;34m]\u001b[0m\u001b[0;34m\u001b[0m\u001b[0;34m\u001b[0m\u001b[0m\n\u001b[1;32m    596\u001b[0m \u001b[0;34m\u001b[0m\u001b[0m\n",
            "\u001b[0;32m/usr/local/lib/python3.9/dist-packages/numpy/core/overrides.py\u001b[0m in \u001b[0;36munique\u001b[0;34m(*args, **kwargs)\u001b[0m\n",
            "\u001b[0;32m/usr/local/lib/python3.9/dist-packages/numpy/lib/arraysetops.py\u001b[0m in \u001b[0;36munique\u001b[0;34m(ar, return_index, return_inverse, return_counts, axis)\u001b[0m\n\u001b[1;32m    270\u001b[0m     \u001b[0mar\u001b[0m \u001b[0;34m=\u001b[0m \u001b[0mnp\u001b[0m\u001b[0;34m.\u001b[0m\u001b[0masanyarray\u001b[0m\u001b[0;34m(\u001b[0m\u001b[0mar\u001b[0m\u001b[0;34m)\u001b[0m\u001b[0;34m\u001b[0m\u001b[0;34m\u001b[0m\u001b[0m\n\u001b[1;32m    271\u001b[0m     \u001b[0;32mif\u001b[0m \u001b[0maxis\u001b[0m \u001b[0;32mis\u001b[0m \u001b[0;32mNone\u001b[0m\u001b[0;34m:\u001b[0m\u001b[0;34m\u001b[0m\u001b[0;34m\u001b[0m\u001b[0m\n\u001b[0;32m--> 272\u001b[0;31m         \u001b[0mret\u001b[0m \u001b[0;34m=\u001b[0m \u001b[0m_unique1d\u001b[0m\u001b[0;34m(\u001b[0m\u001b[0mar\u001b[0m\u001b[0;34m,\u001b[0m \u001b[0mreturn_index\u001b[0m\u001b[0;34m,\u001b[0m \u001b[0mreturn_inverse\u001b[0m\u001b[0;34m,\u001b[0m \u001b[0mreturn_counts\u001b[0m\u001b[0;34m)\u001b[0m\u001b[0;34m\u001b[0m\u001b[0;34m\u001b[0m\u001b[0m\n\u001b[0m\u001b[1;32m    273\u001b[0m         \u001b[0;32mreturn\u001b[0m \u001b[0m_unpack_tuple\u001b[0m\u001b[0;34m(\u001b[0m\u001b[0mret\u001b[0m\u001b[0;34m)\u001b[0m\u001b[0;34m\u001b[0m\u001b[0;34m\u001b[0m\u001b[0m\n\u001b[1;32m    274\u001b[0m \u001b[0;34m\u001b[0m\u001b[0m\n",
            "\u001b[0;32m/usr/local/lib/python3.9/dist-packages/numpy/lib/arraysetops.py\u001b[0m in \u001b[0;36m_unique1d\u001b[0;34m(ar, return_index, return_inverse, return_counts)\u001b[0m\n\u001b[1;32m    331\u001b[0m         \u001b[0maux\u001b[0m \u001b[0;34m=\u001b[0m \u001b[0mar\u001b[0m\u001b[0;34m[\u001b[0m\u001b[0mperm\u001b[0m\u001b[0;34m]\u001b[0m\u001b[0;34m\u001b[0m\u001b[0;34m\u001b[0m\u001b[0m\n\u001b[1;32m    332\u001b[0m     \u001b[0;32melse\u001b[0m\u001b[0;34m:\u001b[0m\u001b[0;34m\u001b[0m\u001b[0;34m\u001b[0m\u001b[0m\n\u001b[0;32m--> 333\u001b[0;31m         \u001b[0mar\u001b[0m\u001b[0;34m.\u001b[0m\u001b[0msort\u001b[0m\u001b[0;34m(\u001b[0m\u001b[0;34m)\u001b[0m\u001b[0;34m\u001b[0m\u001b[0;34m\u001b[0m\u001b[0m\n\u001b[0m\u001b[1;32m    334\u001b[0m         \u001b[0maux\u001b[0m \u001b[0;34m=\u001b[0m \u001b[0mar\u001b[0m\u001b[0;34m\u001b[0m\u001b[0;34m\u001b[0m\u001b[0m\n\u001b[1;32m    335\u001b[0m     \u001b[0mmask\u001b[0m \u001b[0;34m=\u001b[0m \u001b[0mnp\u001b[0m\u001b[0;34m.\u001b[0m\u001b[0mempty\u001b[0m\u001b[0;34m(\u001b[0m\u001b[0maux\u001b[0m\u001b[0;34m.\u001b[0m\u001b[0mshape\u001b[0m\u001b[0;34m,\u001b[0m \u001b[0mdtype\u001b[0m\u001b[0;34m=\u001b[0m\u001b[0mnp\u001b[0m\u001b[0;34m.\u001b[0m\u001b[0mbool_\u001b[0m\u001b[0;34m)\u001b[0m\u001b[0;34m\u001b[0m\u001b[0;34m\u001b[0m\u001b[0m\n",
            "\u001b[0;32m/usr/local/lib/python3.9/dist-packages/pandas/core/ops/common.py\u001b[0m in \u001b[0;36mnew_method\u001b[0;34m(self, other)\u001b[0m\n\u001b[1;32m     68\u001b[0m         \u001b[0mother\u001b[0m \u001b[0;34m=\u001b[0m \u001b[0mitem_from_zerodim\u001b[0m\u001b[0;34m(\u001b[0m\u001b[0mother\u001b[0m\u001b[0;34m)\u001b[0m\u001b[0;34m\u001b[0m\u001b[0;34m\u001b[0m\u001b[0m\n\u001b[1;32m     69\u001b[0m \u001b[0;34m\u001b[0m\u001b[0m\n\u001b[0;32m---> 70\u001b[0;31m         \u001b[0;32mreturn\u001b[0m \u001b[0mmethod\u001b[0m\u001b[0;34m(\u001b[0m\u001b[0mself\u001b[0m\u001b[0;34m,\u001b[0m \u001b[0mother\u001b[0m\u001b[0;34m)\u001b[0m\u001b[0;34m\u001b[0m\u001b[0;34m\u001b[0m\u001b[0m\n\u001b[0m\u001b[1;32m     71\u001b[0m \u001b[0;34m\u001b[0m\u001b[0m\n\u001b[1;32m     72\u001b[0m     \u001b[0;32mreturn\u001b[0m \u001b[0mnew_method\u001b[0m\u001b[0;34m\u001b[0m\u001b[0;34m\u001b[0m\u001b[0m\n",
            "\u001b[0;32m/usr/local/lib/python3.9/dist-packages/pandas/core/arraylike.py\u001b[0m in \u001b[0;36m__gt__\u001b[0;34m(self, other)\u001b[0m\n\u001b[1;32m     54\u001b[0m     \u001b[0;34m@\u001b[0m\u001b[0munpack_zerodim_and_defer\u001b[0m\u001b[0;34m(\u001b[0m\u001b[0;34m\"__gt__\"\u001b[0m\u001b[0;34m)\u001b[0m\u001b[0;34m\u001b[0m\u001b[0;34m\u001b[0m\u001b[0m\n\u001b[1;32m     55\u001b[0m     \u001b[0;32mdef\u001b[0m \u001b[0m__gt__\u001b[0m\u001b[0;34m(\u001b[0m\u001b[0mself\u001b[0m\u001b[0;34m,\u001b[0m \u001b[0mother\u001b[0m\u001b[0;34m)\u001b[0m\u001b[0;34m:\u001b[0m\u001b[0;34m\u001b[0m\u001b[0;34m\u001b[0m\u001b[0m\n\u001b[0;32m---> 56\u001b[0;31m         \u001b[0;32mreturn\u001b[0m \u001b[0mself\u001b[0m\u001b[0;34m.\u001b[0m\u001b[0m_cmp_method\u001b[0m\u001b[0;34m(\u001b[0m\u001b[0mother\u001b[0m\u001b[0;34m,\u001b[0m \u001b[0moperator\u001b[0m\u001b[0;34m.\u001b[0m\u001b[0mgt\u001b[0m\u001b[0;34m)\u001b[0m\u001b[0;34m\u001b[0m\u001b[0;34m\u001b[0m\u001b[0m\n\u001b[0m\u001b[1;32m     57\u001b[0m \u001b[0;34m\u001b[0m\u001b[0m\n\u001b[1;32m     58\u001b[0m     \u001b[0;34m@\u001b[0m\u001b[0munpack_zerodim_and_defer\u001b[0m\u001b[0;34m(\u001b[0m\u001b[0;34m\"__ge__\"\u001b[0m\u001b[0;34m)\u001b[0m\u001b[0;34m\u001b[0m\u001b[0;34m\u001b[0m\u001b[0m\n",
            "\u001b[0;32m/usr/local/lib/python3.9/dist-packages/pandas/core/indexes/base.py\u001b[0m in \u001b[0;36m_cmp_method\u001b[0;34m(self, other, op)\u001b[0m\n\u001b[1;32m   6700\u001b[0m \u001b[0;34m\u001b[0m\u001b[0m\n\u001b[1;32m   6701\u001b[0m         \u001b[0;32melif\u001b[0m \u001b[0misinstance\u001b[0m\u001b[0;34m(\u001b[0m\u001b[0mself\u001b[0m\u001b[0;34m.\u001b[0m\u001b[0m_values\u001b[0m\u001b[0;34m,\u001b[0m \u001b[0mExtensionArray\u001b[0m\u001b[0;34m)\u001b[0m\u001b[0;34m:\u001b[0m\u001b[0;34m\u001b[0m\u001b[0;34m\u001b[0m\u001b[0m\n\u001b[0;32m-> 6702\u001b[0;31m             \u001b[0mresult\u001b[0m \u001b[0;34m=\u001b[0m \u001b[0mop\u001b[0m\u001b[0;34m(\u001b[0m\u001b[0mself\u001b[0m\u001b[0;34m.\u001b[0m\u001b[0m_values\u001b[0m\u001b[0;34m,\u001b[0m \u001b[0mother\u001b[0m\u001b[0;34m)\u001b[0m\u001b[0;34m\u001b[0m\u001b[0;34m\u001b[0m\u001b[0m\n\u001b[0m\u001b[1;32m   6703\u001b[0m \u001b[0;34m\u001b[0m\u001b[0m\n\u001b[1;32m   6704\u001b[0m         \u001b[0;32melif\u001b[0m \u001b[0mis_object_dtype\u001b[0m\u001b[0;34m(\u001b[0m\u001b[0mself\u001b[0m\u001b[0;34m.\u001b[0m\u001b[0mdtype\u001b[0m\u001b[0;34m)\u001b[0m \u001b[0;32mand\u001b[0m \u001b[0;32mnot\u001b[0m \u001b[0misinstance\u001b[0m\u001b[0;34m(\u001b[0m\u001b[0mself\u001b[0m\u001b[0;34m,\u001b[0m \u001b[0mABCMultiIndex\u001b[0m\u001b[0;34m)\u001b[0m\u001b[0;34m:\u001b[0m\u001b[0;34m\u001b[0m\u001b[0;34m\u001b[0m\u001b[0m\n",
            "\u001b[0;32m/usr/local/lib/python3.9/dist-packages/pandas/core/ops/common.py\u001b[0m in \u001b[0;36mnew_method\u001b[0;34m(self, other)\u001b[0m\n\u001b[1;32m     68\u001b[0m         \u001b[0mother\u001b[0m \u001b[0;34m=\u001b[0m \u001b[0mitem_from_zerodim\u001b[0m\u001b[0;34m(\u001b[0m\u001b[0mother\u001b[0m\u001b[0;34m)\u001b[0m\u001b[0;34m\u001b[0m\u001b[0;34m\u001b[0m\u001b[0m\n\u001b[1;32m     69\u001b[0m \u001b[0;34m\u001b[0m\u001b[0m\n\u001b[0;32m---> 70\u001b[0;31m         \u001b[0;32mreturn\u001b[0m \u001b[0mmethod\u001b[0m\u001b[0;34m(\u001b[0m\u001b[0mself\u001b[0m\u001b[0;34m,\u001b[0m \u001b[0mother\u001b[0m\u001b[0;34m)\u001b[0m\u001b[0;34m\u001b[0m\u001b[0;34m\u001b[0m\u001b[0m\n\u001b[0m\u001b[1;32m     71\u001b[0m \u001b[0;34m\u001b[0m\u001b[0m\n\u001b[1;32m     72\u001b[0m     \u001b[0;32mreturn\u001b[0m \u001b[0mnew_method\u001b[0m\u001b[0;34m\u001b[0m\u001b[0;34m\u001b[0m\u001b[0m\n",
            "\u001b[0;32m/usr/local/lib/python3.9/dist-packages/pandas/core/arraylike.py\u001b[0m in \u001b[0;36m__gt__\u001b[0;34m(self, other)\u001b[0m\n\u001b[1;32m     54\u001b[0m     \u001b[0;34m@\u001b[0m\u001b[0munpack_zerodim_and_defer\u001b[0m\u001b[0;34m(\u001b[0m\u001b[0;34m\"__gt__\"\u001b[0m\u001b[0;34m)\u001b[0m\u001b[0;34m\u001b[0m\u001b[0;34m\u001b[0m\u001b[0m\n\u001b[1;32m     55\u001b[0m     \u001b[0;32mdef\u001b[0m \u001b[0m__gt__\u001b[0m\u001b[0;34m(\u001b[0m\u001b[0mself\u001b[0m\u001b[0;34m,\u001b[0m \u001b[0mother\u001b[0m\u001b[0;34m)\u001b[0m\u001b[0;34m:\u001b[0m\u001b[0;34m\u001b[0m\u001b[0;34m\u001b[0m\u001b[0m\n\u001b[0;32m---> 56\u001b[0;31m         \u001b[0;32mreturn\u001b[0m \u001b[0mself\u001b[0m\u001b[0;34m.\u001b[0m\u001b[0m_cmp_method\u001b[0m\u001b[0;34m(\u001b[0m\u001b[0mother\u001b[0m\u001b[0;34m,\u001b[0m \u001b[0moperator\u001b[0m\u001b[0;34m.\u001b[0m\u001b[0mgt\u001b[0m\u001b[0;34m)\u001b[0m\u001b[0;34m\u001b[0m\u001b[0;34m\u001b[0m\u001b[0m\n\u001b[0m\u001b[1;32m     57\u001b[0m \u001b[0;34m\u001b[0m\u001b[0m\n\u001b[1;32m     58\u001b[0m     \u001b[0;34m@\u001b[0m\u001b[0munpack_zerodim_and_defer\u001b[0m\u001b[0;34m(\u001b[0m\u001b[0;34m\"__ge__\"\u001b[0m\u001b[0;34m)\u001b[0m\u001b[0;34m\u001b[0m\u001b[0;34m\u001b[0m\u001b[0m\n",
            "\u001b[0;32m/usr/local/lib/python3.9/dist-packages/pandas/core/arrays/datetimelike.py\u001b[0m in \u001b[0;36m_cmp_method\u001b[0;34m(self, other, op)\u001b[0m\n\u001b[1;32m   1008\u001b[0m             \u001b[0mother\u001b[0m \u001b[0;34m=\u001b[0m \u001b[0mself\u001b[0m\u001b[0;34m.\u001b[0m\u001b[0m_validate_comparison_value\u001b[0m\u001b[0;34m(\u001b[0m\u001b[0mother\u001b[0m\u001b[0;34m)\u001b[0m\u001b[0;34m\u001b[0m\u001b[0;34m\u001b[0m\u001b[0m\n\u001b[1;32m   1009\u001b[0m         \u001b[0;32mexcept\u001b[0m \u001b[0mInvalidComparison\u001b[0m\u001b[0;34m:\u001b[0m\u001b[0;34m\u001b[0m\u001b[0;34m\u001b[0m\u001b[0m\n\u001b[0;32m-> 1010\u001b[0;31m             \u001b[0;32mreturn\u001b[0m \u001b[0minvalid_comparison\u001b[0m\u001b[0;34m(\u001b[0m\u001b[0mself\u001b[0m\u001b[0;34m,\u001b[0m \u001b[0mother\u001b[0m\u001b[0;34m,\u001b[0m \u001b[0mop\u001b[0m\u001b[0;34m)\u001b[0m\u001b[0;34m\u001b[0m\u001b[0;34m\u001b[0m\u001b[0m\n\u001b[0m\u001b[1;32m   1011\u001b[0m \u001b[0;34m\u001b[0m\u001b[0m\n\u001b[1;32m   1012\u001b[0m         \u001b[0mdtype\u001b[0m \u001b[0;34m=\u001b[0m \u001b[0mgetattr\u001b[0m\u001b[0;34m(\u001b[0m\u001b[0mother\u001b[0m\u001b[0;34m,\u001b[0m \u001b[0;34m\"dtype\"\u001b[0m\u001b[0;34m,\u001b[0m \u001b[0;32mNone\u001b[0m\u001b[0;34m)\u001b[0m\u001b[0;34m\u001b[0m\u001b[0;34m\u001b[0m\u001b[0m\n",
            "\u001b[0;32m/usr/local/lib/python3.9/dist-packages/pandas/core/ops/invalid.py\u001b[0m in \u001b[0;36minvalid_comparison\u001b[0;34m(left, right, op)\u001b[0m\n\u001b[1;32m     32\u001b[0m     \u001b[0;32melse\u001b[0m\u001b[0;34m:\u001b[0m\u001b[0;34m\u001b[0m\u001b[0;34m\u001b[0m\u001b[0m\n\u001b[1;32m     33\u001b[0m         \u001b[0mtyp\u001b[0m \u001b[0;34m=\u001b[0m \u001b[0mtype\u001b[0m\u001b[0;34m(\u001b[0m\u001b[0mright\u001b[0m\u001b[0;34m)\u001b[0m\u001b[0;34m.\u001b[0m\u001b[0m__name__\u001b[0m\u001b[0;34m\u001b[0m\u001b[0;34m\u001b[0m\u001b[0m\n\u001b[0;32m---> 34\u001b[0;31m         \u001b[0;32mraise\u001b[0m \u001b[0mTypeError\u001b[0m\u001b[0;34m(\u001b[0m\u001b[0;34mf\"Invalid comparison between dtype={left.dtype} and {typ}\"\u001b[0m\u001b[0;34m)\u001b[0m\u001b[0;34m\u001b[0m\u001b[0;34m\u001b[0m\u001b[0m\n\u001b[0m\u001b[1;32m     35\u001b[0m     \u001b[0;32mreturn\u001b[0m \u001b[0mres_values\u001b[0m\u001b[0;34m\u001b[0m\u001b[0;34m\u001b[0m\u001b[0m\n\u001b[1;32m     36\u001b[0m \u001b[0;34m\u001b[0m\u001b[0m\n",
            "\u001b[0;31mTypeError\u001b[0m: Invalid comparison between dtype=datetime64[ns] and str"
          ]
        }
      ]
    },
    {
      "cell_type": "code",
      "source": [
        "dfs"
      ],
      "metadata": {
        "colab": {
          "base_uri": "https://localhost:8080/",
          "height": 331
        },
        "id": "qvEev-Gzku58",
        "outputId": "84388954-4918-4133-d856-64153f9b4230"
      },
      "execution_count": 122,
      "outputs": [
        {
          "output_type": "execute_result",
          "data": {
            "text/plain": [
              "             Grupo     Producto  Precio KG  Ciudad         Plaza\n",
              "Fecha                                                           \n",
              "2022-01-01  frutas  Mango Tommy     1725.0  Ibague   Plaza La 21\n",
              "2022-02-01  frutas  Mango Tommy     2978.0  Ibague   Plaza La 21\n",
              "2022-04-01  frutas  Mango Tommy     2767.0  Ibague   Plaza La 21\n",
              "2022-05-01  frutas  Mango Tommy     1967.0  Ibague   Plaza La 21\n",
              "2022-07-01  frutas  Mango Tommy     3533.0  Ibague   Plaza La 21\n",
              "2022-10-01  frutas  Mango Tommy     3600.0  Ibague   Plaza La 21\n",
              "2022-11-01  frutas  Mango Tommy     1469.0  Ibague   Plaza La 21\n",
              "2022-12-01  frutas  Mango Tommy     1391.0  Ibague   Plaza La 21"
            ],
            "text/html": [
              "\n",
              "  <div id=\"df-f43d7c0c-8bdf-459b-be66-b6323738c864\">\n",
              "    <div class=\"colab-df-container\">\n",
              "      <div>\n",
              "<style scoped>\n",
              "    .dataframe tbody tr th:only-of-type {\n",
              "        vertical-align: middle;\n",
              "    }\n",
              "\n",
              "    .dataframe tbody tr th {\n",
              "        vertical-align: top;\n",
              "    }\n",
              "\n",
              "    .dataframe thead th {\n",
              "        text-align: right;\n",
              "    }\n",
              "</style>\n",
              "<table border=\"1\" class=\"dataframe\">\n",
              "  <thead>\n",
              "    <tr style=\"text-align: right;\">\n",
              "      <th></th>\n",
              "      <th>Grupo</th>\n",
              "      <th>Producto</th>\n",
              "      <th>Precio KG</th>\n",
              "      <th>Ciudad</th>\n",
              "      <th>Plaza</th>\n",
              "    </tr>\n",
              "    <tr>\n",
              "      <th>Fecha</th>\n",
              "      <th></th>\n",
              "      <th></th>\n",
              "      <th></th>\n",
              "      <th></th>\n",
              "      <th></th>\n",
              "    </tr>\n",
              "  </thead>\n",
              "  <tbody>\n",
              "    <tr>\n",
              "      <th>2022-01-01</th>\n",
              "      <td>frutas</td>\n",
              "      <td>Mango Tommy</td>\n",
              "      <td>1725.0</td>\n",
              "      <td>Ibague</td>\n",
              "      <td>Plaza La 21</td>\n",
              "    </tr>\n",
              "    <tr>\n",
              "      <th>2022-02-01</th>\n",
              "      <td>frutas</td>\n",
              "      <td>Mango Tommy</td>\n",
              "      <td>2978.0</td>\n",
              "      <td>Ibague</td>\n",
              "      <td>Plaza La 21</td>\n",
              "    </tr>\n",
              "    <tr>\n",
              "      <th>2022-04-01</th>\n",
              "      <td>frutas</td>\n",
              "      <td>Mango Tommy</td>\n",
              "      <td>2767.0</td>\n",
              "      <td>Ibague</td>\n",
              "      <td>Plaza La 21</td>\n",
              "    </tr>\n",
              "    <tr>\n",
              "      <th>2022-05-01</th>\n",
              "      <td>frutas</td>\n",
              "      <td>Mango Tommy</td>\n",
              "      <td>1967.0</td>\n",
              "      <td>Ibague</td>\n",
              "      <td>Plaza La 21</td>\n",
              "    </tr>\n",
              "    <tr>\n",
              "      <th>2022-07-01</th>\n",
              "      <td>frutas</td>\n",
              "      <td>Mango Tommy</td>\n",
              "      <td>3533.0</td>\n",
              "      <td>Ibague</td>\n",
              "      <td>Plaza La 21</td>\n",
              "    </tr>\n",
              "    <tr>\n",
              "      <th>2022-10-01</th>\n",
              "      <td>frutas</td>\n",
              "      <td>Mango Tommy</td>\n",
              "      <td>3600.0</td>\n",
              "      <td>Ibague</td>\n",
              "      <td>Plaza La 21</td>\n",
              "    </tr>\n",
              "    <tr>\n",
              "      <th>2022-11-01</th>\n",
              "      <td>frutas</td>\n",
              "      <td>Mango Tommy</td>\n",
              "      <td>1469.0</td>\n",
              "      <td>Ibague</td>\n",
              "      <td>Plaza La 21</td>\n",
              "    </tr>\n",
              "    <tr>\n",
              "      <th>2022-12-01</th>\n",
              "      <td>frutas</td>\n",
              "      <td>Mango Tommy</td>\n",
              "      <td>1391.0</td>\n",
              "      <td>Ibague</td>\n",
              "      <td>Plaza La 21</td>\n",
              "    </tr>\n",
              "  </tbody>\n",
              "</table>\n",
              "</div>\n",
              "      <button class=\"colab-df-convert\" onclick=\"convertToInteractive('df-f43d7c0c-8bdf-459b-be66-b6323738c864')\"\n",
              "              title=\"Convert this dataframe to an interactive table.\"\n",
              "              style=\"display:none;\">\n",
              "        \n",
              "  <svg xmlns=\"http://www.w3.org/2000/svg\" height=\"24px\"viewBox=\"0 0 24 24\"\n",
              "       width=\"24px\">\n",
              "    <path d=\"M0 0h24v24H0V0z\" fill=\"none\"/>\n",
              "    <path d=\"M18.56 5.44l.94 2.06.94-2.06 2.06-.94-2.06-.94-.94-2.06-.94 2.06-2.06.94zm-11 1L8.5 8.5l.94-2.06 2.06-.94-2.06-.94L8.5 2.5l-.94 2.06-2.06.94zm10 10l.94 2.06.94-2.06 2.06-.94-2.06-.94-.94-2.06-.94 2.06-2.06.94z\"/><path d=\"M17.41 7.96l-1.37-1.37c-.4-.4-.92-.59-1.43-.59-.52 0-1.04.2-1.43.59L10.3 9.45l-7.72 7.72c-.78.78-.78 2.05 0 2.83L4 21.41c.39.39.9.59 1.41.59.51 0 1.02-.2 1.41-.59l7.78-7.78 2.81-2.81c.8-.78.8-2.07 0-2.86zM5.41 20L4 18.59l7.72-7.72 1.47 1.35L5.41 20z\"/>\n",
              "  </svg>\n",
              "      </button>\n",
              "      \n",
              "  <style>\n",
              "    .colab-df-container {\n",
              "      display:flex;\n",
              "      flex-wrap:wrap;\n",
              "      gap: 12px;\n",
              "    }\n",
              "\n",
              "    .colab-df-convert {\n",
              "      background-color: #E8F0FE;\n",
              "      border: none;\n",
              "      border-radius: 50%;\n",
              "      cursor: pointer;\n",
              "      display: none;\n",
              "      fill: #1967D2;\n",
              "      height: 32px;\n",
              "      padding: 0 0 0 0;\n",
              "      width: 32px;\n",
              "    }\n",
              "\n",
              "    .colab-df-convert:hover {\n",
              "      background-color: #E2EBFA;\n",
              "      box-shadow: 0px 1px 2px rgba(60, 64, 67, 0.3), 0px 1px 3px 1px rgba(60, 64, 67, 0.15);\n",
              "      fill: #174EA6;\n",
              "    }\n",
              "\n",
              "    [theme=dark] .colab-df-convert {\n",
              "      background-color: #3B4455;\n",
              "      fill: #D2E3FC;\n",
              "    }\n",
              "\n",
              "    [theme=dark] .colab-df-convert:hover {\n",
              "      background-color: #434B5C;\n",
              "      box-shadow: 0px 1px 3px 1px rgba(0, 0, 0, 0.15);\n",
              "      filter: drop-shadow(0px 1px 2px rgba(0, 0, 0, 0.3));\n",
              "      fill: #FFFFFF;\n",
              "    }\n",
              "  </style>\n",
              "\n",
              "      <script>\n",
              "        const buttonEl =\n",
              "          document.querySelector('#df-f43d7c0c-8bdf-459b-be66-b6323738c864 button.colab-df-convert');\n",
              "        buttonEl.style.display =\n",
              "          google.colab.kernel.accessAllowed ? 'block' : 'none';\n",
              "\n",
              "        async function convertToInteractive(key) {\n",
              "          const element = document.querySelector('#df-f43d7c0c-8bdf-459b-be66-b6323738c864');\n",
              "          const dataTable =\n",
              "            await google.colab.kernel.invokeFunction('convertToInteractive',\n",
              "                                                     [key], {});\n",
              "          if (!dataTable) return;\n",
              "\n",
              "          const docLinkHtml = 'Like what you see? Visit the ' +\n",
              "            '<a target=\"_blank\" href=https://colab.research.google.com/notebooks/data_table.ipynb>data table notebook</a>'\n",
              "            + ' to learn more about interactive tables.';\n",
              "          element.innerHTML = '';\n",
              "          dataTable['output_type'] = 'display_data';\n",
              "          await google.colab.output.renderOutput(dataTable, element);\n",
              "          const docLink = document.createElement('div');\n",
              "          docLink.innerHTML = docLinkHtml;\n",
              "          element.appendChild(docLink);\n",
              "        }\n",
              "      </script>\n",
              "    </div>\n",
              "  </div>\n",
              "  "
            ]
          },
          "metadata": {},
          "execution_count": 122
        }
      ]
    },
    {
      "cell_type": "code",
      "source": [
        "x=dfpc.index\n",
        "y=dfpc['Precio KG']\n",
        "plt.title(t)\n",
        "plt.xlabel('Fecha')\n",
        "plt.ylabel('Precio KG')\n",
        "plt.scatter(x,y)\n",
        "plt.show"
      ],
      "metadata": {
        "colab": {
          "base_uri": "https://localhost:8080/",
          "height": 490
        },
        "id": "eL74Pqe5gVmp",
        "outputId": "5236b647-bc60-4532-8eeb-7d48b63b8c4d"
      },
      "execution_count": 108,
      "outputs": [
        {
          "output_type": "execute_result",
          "data": {
            "text/plain": [
              "<function matplotlib.pyplot.show(close=None, block=None)>"
            ]
          },
          "metadata": {},
          "execution_count": 108
        },
        {
          "output_type": "display_data",
          "data": {
            "text/plain": [
              "<Figure size 640x480 with 1 Axes>"
            ],
            "image/png": "[encoded data removed]"
          },
          "metadata": {}
        }
      ]
    }
  ],
  "metadata": {
    "colab": {
      "provenance": [],
      "authorship_tag": "ABX9TyNBWGMAH2fgPNi0p6mlqB2X",
      "include_colab_link": true
    },
    "kernelspec": {
      "display_name": "Python 3",
      "name": "python3"
    },
    "language_info": {
      "name": "python"
    }
  },
  "nbformat": 4,
  "nbformat_minor": 0
}