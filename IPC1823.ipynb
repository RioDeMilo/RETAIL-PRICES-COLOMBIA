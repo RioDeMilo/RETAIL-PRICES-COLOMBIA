{
  "cells": [
    {
      "cell_type": "markdown",
      "metadata": {
        "id": "view-in-github",
        "colab_type": "text"
      },
      "source": [
        "<a href=\"https://colab.research.google.com/github/RioDeMilo/RETAIL-PRICES-COLOMBIA/blob/main/IPC1823.ipynb\" target=\"_parent\"><img src=\"https://colab.research.google.com/assets/colab-badge.svg\" alt=\"Open In Colab\"/></a>"
      ]
    },
    {
      "cell_type": "code",
      "execution_count": null,
      "metadata": {
        "id": "MDVyyn1qbkAk"
      },
      "outputs": [],
      "source": [
        "# Here it is all the libraries that i need in order to manage the data and to plot it `\n",
        "import scipy as sci\n",
        "import numpy as np\n",
        "import pandas as pd\n",
        "import matplotlib.pyplot as plt\n",
        "import seaborn as sns\n",
        "from scipy import stats\n",
        "from scipy.stats import linregress\n",
        "import matplotlib.dates as mdates"
      ]
    },
    {
      "cell_type": "code",
      "execution_count": null,
      "metadata": {
        "id": "yZZH-lABb_n6"
      },
      "outputs": [],
      "source": [
        "# for this project i previously modified all the data from each year of analysis to a sngle sheet page in excel. \n",
        "df = pd.read_excel('/content/Gropu19-22.xlsx')"
      ]
    },
    {
      "cell_type": "code",
      "execution_count": null,
      "metadata": {
        "id": "_z_ML2YjgHVp"
      },
      "outputs": [],
      "source": [
        "# This will get you the specified sheet page for further use.\n",
        "# but for this case i used a excel file ith only one page so it is not necessary and you need to ad the datafrme and a dicttionary ith the name of the pages like\n",
        "# sheet_name=['Hoja1']\n",
        "#df = df.get('Hoja1')\n"
      ]
    },
    {
      "cell_type": "markdown",
      "source": [
        "# Data preparing\n",
        "### Now we want to specify wheter we want to plot a spicified type of product \n",
        "but we should be able to see what type of products are available for comparison\n",
        "\n",
        "```\n",
        "# Tiene formato de código\n",
        "```\n",
        "\n"
      ],
      "metadata": {
        "id": "uQAZ4lrc6J16"
      }
    },
    {
      "cell_type": "code",
      "execution_count": null,
      "metadata": {
        "id": "gFuIqz_ogZBY",
        "colab": {
          "base_uri": "https://localhost:8080/",
          "height": 424
        },
        "outputId": "df6a2b37-8c99-4320-b642-9983f454766c"
      },
      "outputs": [
        {
          "output_type": "stream",
          "name": "stdout",
          "text": [
            "<class 'pandas.core.frame.DataFrame'>\n",
            "RangeIndex: 220517 entries, 0 to 220516\n",
            "Data columns (total 5 columns):\n",
            " #   Column                  Non-Null Count   Dtype         \n",
            "---  ------                  --------------   -----         \n",
            " 0   Fecha                   220517 non-null  datetime64[ns]\n",
            " 1   Grupo                   220517 non-null  object        \n",
            " 2   Producto                220517 non-null  object        \n",
            " 3   Fuente                  220517 non-null  object        \n",
            " 4   Precio  por kilogramo*  220517 non-null  float64       \n",
            "dtypes: datetime64[ns](1), float64(1), object(3)\n",
            "memory usage: 8.4+ MB\n"
          ]
        },
        {
          "output_type": "execute_result",
          "data": {
            "text/plain": [
              "       Fecha                  Grupo Producto                        Fuente  \\\n",
              "0 2019-01-01  VERDURAS Y HORTALIZAS   Acelga               Armenia, Mercar   \n",
              "1 2019-01-01  VERDURAS Y HORTALIZAS   Acelga  Barranquilla, Barranquillita   \n",
              "2 2019-01-01  VERDURAS Y HORTALIZAS   Acelga      Bogotá, D.C., Corabastos   \n",
              "3 2019-01-01  VERDURAS Y HORTALIZAS   Acelga    Bucaramanga, Centroabastos   \n",
              "4 2019-01-01  VERDURAS Y HORTALIZAS   Acelga         Chiquinquirá (Boyacá)   \n",
              "\n",
              "   Precio  por kilogramo*  \n",
              "0                  1065.0  \n",
              "1                  3000.0  \n",
              "2                   764.0  \n",
              "3                  1556.0  \n",
              "4                  1058.0  "
            ],
            "text/html": [
              "\n",
              "  <div id=\"df-28ea455b-df64-4599-9fc0-60cc10ed22c7\">\n",
              "    <div class=\"colab-df-container\">\n",
              "      <div>\n",
              "<style scoped>\n",
              "    .dataframe tbody tr th:only-of-type {\n",
              "        vertical-align: middle;\n",
              "    }\n",
              "\n",
              "    .dataframe tbody tr th {\n",
              "        vertical-align: top;\n",
              "    }\n",
              "\n",
              "    .dataframe thead th {\n",
              "        text-align: right;\n",
              "    }\n",
              "</style>\n",
              "<table border=\"1\" class=\"dataframe\">\n",
              "  <thead>\n",
              "    <tr style=\"text-align: right;\">\n",
              "      <th></th>\n",
              "      <th>Fecha</th>\n",
              "      <th>Grupo</th>\n",
              "      <th>Producto</th>\n",
              "      <th>Fuente</th>\n",
              "      <th>Precio  por kilogramo*</th>\n",
              "    </tr>\n",
              "  </thead>\n",
              "  <tbody>\n",
              "    <tr>\n",
              "      <th>0</th>\n",
              "      <td>2019-01-01</td>\n",
              "      <td>VERDURAS Y HORTALIZAS</td>\n",
              "      <td>Acelga</td>\n",
              "      <td>Armenia, Mercar</td>\n",
              "      <td>1065.0</td>\n",
              "    </tr>\n",
              "    <tr>\n",
              "      <th>1</th>\n",
              "      <td>2019-01-01</td>\n",
              "      <td>VERDURAS Y HORTALIZAS</td>\n",
              "      <td>Acelga</td>\n",
              "      <td>Barranquilla, Barranquillita</td>\n",
              "      <td>3000.0</td>\n",
              "    </tr>\n",
              "    <tr>\n",
              "      <th>2</th>\n",
              "      <td>2019-01-01</td>\n",
              "      <td>VERDURAS Y HORTALIZAS</td>\n",
              "      <td>Acelga</td>\n",
              "      <td>Bogotá, D.C., Corabastos</td>\n",
              "      <td>764.0</td>\n",
              "    </tr>\n",
              "    <tr>\n",
              "      <th>3</th>\n",
              "      <td>2019-01-01</td>\n",
              "      <td>VERDURAS Y HORTALIZAS</td>\n",
              "      <td>Acelga</td>\n",
              "      <td>Bucaramanga, Centroabastos</td>\n",
              "      <td>1556.0</td>\n",
              "    </tr>\n",
              "    <tr>\n",
              "      <th>4</th>\n",
              "      <td>2019-01-01</td>\n",
              "      <td>VERDURAS Y HORTALIZAS</td>\n",
              "      <td>Acelga</td>\n",
              "      <td>Chiquinquirá (Boyacá)</td>\n",
              "      <td>1058.0</td>\n",
              "    </tr>\n",
              "  </tbody>\n",
              "</table>\n",
              "</div>\n",
              "      <button class=\"colab-df-convert\" onclick=\"convertToInteractive('df-28ea455b-df64-4599-9fc0-60cc10ed22c7')\"\n",
              "              title=\"Convert this dataframe to an interactive table.\"\n",
              "              style=\"display:none;\">\n",
              "        \n",
              "  <svg xmlns=\"http://www.w3.org/2000/svg\" height=\"24px\"viewBox=\"0 0 24 24\"\n",
              "       width=\"24px\">\n",
              "    <path d=\"M0 0h24v24H0V0z\" fill=\"none\"/>\n",
              "    <path d=\"M18.56 5.44l.94 2.06.94-2.06 2.06-.94-2.06-.94-.94-2.06-.94 2.06-2.06.94zm-11 1L8.5 8.5l.94-2.06 2.06-.94-2.06-.94L8.5 2.5l-.94 2.06-2.06.94zm10 10l.94 2.06.94-2.06 2.06-.94-2.06-.94-.94-2.06-.94 2.06-2.06.94z\"/><path d=\"M17.41 7.96l-1.37-1.37c-.4-.4-.92-.59-1.43-.59-.52 0-1.04.2-1.43.59L10.3 9.45l-7.72 7.72c-.78.78-.78 2.05 0 2.83L4 21.41c.39.39.9.59 1.41.59.51 0 1.02-.2 1.41-.59l7.78-7.78 2.81-2.81c.8-.78.8-2.07 0-2.86zM5.41 20L4 18.59l7.72-7.72 1.47 1.35L5.41 20z\"/>\n",
              "  </svg>\n",
              "      </button>\n",
              "      \n",
              "  <style>\n",
              "    .colab-df-container {\n",
              "      display:flex;\n",
              "      flex-wrap:wrap;\n",
              "      gap: 12px;\n",
              "    }\n",
              "\n",
              "    .colab-df-convert {\n",
              "      background-color: #E8F0FE;\n",
              "      border: none;\n",
              "      border-radius: 50%;\n",
              "      cursor: pointer;\n",
              "      display: none;\n",
              "      fill: #1967D2;\n",
              "      height: 32px;\n",
              "      padding: 0 0 0 0;\n",
              "      width: 32px;\n",
              "    }\n",
              "\n",
              "    .colab-df-convert:hover {\n",
              "      background-color: #E2EBFA;\n",
              "      box-shadow: 0px 1px 2px rgba(60, 64, 67, 0.3), 0px 1px 3px 1px rgba(60, 64, 67, 0.15);\n",
              "      fill: #174EA6;\n",
              "    }\n",
              "\n",
              "    [theme=dark] .colab-df-convert {\n",
              "      background-color: #3B4455;\n",
              "      fill: #D2E3FC;\n",
              "    }\n",
              "\n",
              "    [theme=dark] .colab-df-convert:hover {\n",
              "      background-color: #434B5C;\n",
              "      box-shadow: 0px 1px 3px 1px rgba(0, 0, 0, 0.15);\n",
              "      filter: drop-shadow(0px 1px 2px rgba(0, 0, 0, 0.3));\n",
              "      fill: #FFFFFF;\n",
              "    }\n",
              "  </style>\n",
              "\n",
              "      <script>\n",
              "        const buttonEl =\n",
              "          document.querySelector('#df-28ea455b-df64-4599-9fc0-60cc10ed22c7 button.colab-df-convert');\n",
              "        buttonEl.style.display =\n",
              "          google.colab.kernel.accessAllowed ? 'block' : 'none';\n",
              "\n",
              "        async function convertToInteractive(key) {\n",
              "          const element = document.querySelector('#df-28ea455b-df64-4599-9fc0-60cc10ed22c7');\n",
              "          const dataTable =\n",
              "            await google.colab.kernel.invokeFunction('convertToInteractive',\n",
              "                                                     [key], {});\n",
              "          if (!dataTable) return;\n",
              "\n",
              "          const docLinkHtml = 'Like what you see? Visit the ' +\n",
              "            '<a target=\"_blank\" href=https://colab.research.google.com/notebooks/data_table.ipynb>data table notebook</a>'\n",
              "            + ' to learn more about interactive tables.';\n",
              "          element.innerHTML = '';\n",
              "          dataTable['output_type'] = 'display_data';\n",
              "          await google.colab.output.renderOutput(dataTable, element);\n",
              "          const docLink = document.createElement('div');\n",
              "          docLink.innerHTML = docLinkHtml;\n",
              "          element.appendChild(docLink);\n",
              "        }\n",
              "      </script>\n",
              "    </div>\n",
              "  </div>\n",
              "  "
            ]
          },
          "metadata": {},
          "execution_count": 6
        }
      ],
      "source": [
        "# typical use of .info() to get a general idea of what is the shape  of the data base look like\n",
        "# .head() will let you see a more friendly view in a excel way \n",
        "df.info()\n",
        "df.head()"
      ]
    },
    {
      "cell_type": "code",
      "source": [
        "df.rename(columns={\"Precio  por kilogramo*\": \"Precio KG\"}, inplace=True)"
      ],
      "metadata": {
        "id": "kpfXzoa6UTcf"
      },
      "execution_count": null,
      "outputs": []
    },
    {
      "cell_type": "code",
      "execution_count": null,
      "metadata": {
        "colab": {
          "base_uri": "https://localhost:8080/",
          "height": 237
        },
        "id": "OGepqBYps9Oa",
        "outputId": "1a38a889-0d86-4ab7-8575-45115bc9f784"
      },
      "outputs": [
        {
          "output_type": "execute_result",
          "data": {
            "text/plain": [
              "                            Grupo Producto                        Fuente  \\\n",
              "Fecha                                                                      \n",
              "2019-01-01  VERDURAS Y HORTALIZAS   Acelga               Armenia, Mercar   \n",
              "2019-01-01  VERDURAS Y HORTALIZAS   Acelga  Barranquilla, Barranquillita   \n",
              "2019-01-01  VERDURAS Y HORTALIZAS   Acelga      Bogotá, D.C., Corabastos   \n",
              "2019-01-01  VERDURAS Y HORTALIZAS   Acelga    Bucaramanga, Centroabastos   \n",
              "2019-01-01  VERDURAS Y HORTALIZAS   Acelga         Chiquinquirá (Boyacá)   \n",
              "\n",
              "            Precio KG  \n",
              "Fecha                  \n",
              "2019-01-01     1065.0  \n",
              "2019-01-01     3000.0  \n",
              "2019-01-01      764.0  \n",
              "2019-01-01     1556.0  \n",
              "2019-01-01     1058.0  "
            ],
            "text/html": [
              "\n",
              "  <div id=\"df-e497c14e-4e85-4ed7-ae2f-749edee6bd77\">\n",
              "    <div class=\"colab-df-container\">\n",
              "      <div>\n",
              "<style scoped>\n",
              "    .dataframe tbody tr th:only-of-type {\n",
              "        vertical-align: middle;\n",
              "    }\n",
              "\n",
              "    .dataframe tbody tr th {\n",
              "        vertical-align: top;\n",
              "    }\n",
              "\n",
              "    .dataframe thead th {\n",
              "        text-align: right;\n",
              "    }\n",
              "</style>\n",
              "<table border=\"1\" class=\"dataframe\">\n",
              "  <thead>\n",
              "    <tr style=\"text-align: right;\">\n",
              "      <th></th>\n",
              "      <th>Grupo</th>\n",
              "      <th>Producto</th>\n",
              "      <th>Fuente</th>\n",
              "      <th>Precio KG</th>\n",
              "    </tr>\n",
              "    <tr>\n",
              "      <th>Fecha</th>\n",
              "      <th></th>\n",
              "      <th></th>\n",
              "      <th></th>\n",
              "      <th></th>\n",
              "    </tr>\n",
              "  </thead>\n",
              "  <tbody>\n",
              "    <tr>\n",
              "      <th>2019-01-01</th>\n",
              "      <td>VERDURAS Y HORTALIZAS</td>\n",
              "      <td>Acelga</td>\n",
              "      <td>Armenia, Mercar</td>\n",
              "      <td>1065.0</td>\n",
              "    </tr>\n",
              "    <tr>\n",
              "      <th>2019-01-01</th>\n",
              "      <td>VERDURAS Y HORTALIZAS</td>\n",
              "      <td>Acelga</td>\n",
              "      <td>Barranquilla, Barranquillita</td>\n",
              "      <td>3000.0</td>\n",
              "    </tr>\n",
              "    <tr>\n",
              "      <th>2019-01-01</th>\n",
              "      <td>VERDURAS Y HORTALIZAS</td>\n",
              "      <td>Acelga</td>\n",
              "      <td>Bogotá, D.C., Corabastos</td>\n",
              "      <td>764.0</td>\n",
              "    </tr>\n",
              "    <tr>\n",
              "      <th>2019-01-01</th>\n",
              "      <td>VERDURAS Y HORTALIZAS</td>\n",
              "      <td>Acelga</td>\n",
              "      <td>Bucaramanga, Centroabastos</td>\n",
              "      <td>1556.0</td>\n",
              "    </tr>\n",
              "    <tr>\n",
              "      <th>2019-01-01</th>\n",
              "      <td>VERDURAS Y HORTALIZAS</td>\n",
              "      <td>Acelga</td>\n",
              "      <td>Chiquinquirá (Boyacá)</td>\n",
              "      <td>1058.0</td>\n",
              "    </tr>\n",
              "  </tbody>\n",
              "</table>\n",
              "</div>\n",
              "      <button class=\"colab-df-convert\" onclick=\"convertToInteractive('df-e497c14e-4e85-4ed7-ae2f-749edee6bd77')\"\n",
              "              title=\"Convert this dataframe to an interactive table.\"\n",
              "              style=\"display:none;\">\n",
              "        \n",
              "  <svg xmlns=\"http://www.w3.org/2000/svg\" height=\"24px\"viewBox=\"0 0 24 24\"\n",
              "       width=\"24px\">\n",
              "    <path d=\"M0 0h24v24H0V0z\" fill=\"none\"/>\n",
              "    <path d=\"M18.56 5.44l.94 2.06.94-2.06 2.06-.94-2.06-.94-.94-2.06-.94 2.06-2.06.94zm-11 1L8.5 8.5l.94-2.06 2.06-.94-2.06-.94L8.5 2.5l-.94 2.06-2.06.94zm10 10l.94 2.06.94-2.06 2.06-.94-2.06-.94-.94-2.06-.94 2.06-2.06.94z\"/><path d=\"M17.41 7.96l-1.37-1.37c-.4-.4-.92-.59-1.43-.59-.52 0-1.04.2-1.43.59L10.3 9.45l-7.72 7.72c-.78.78-.78 2.05 0 2.83L4 21.41c.39.39.9.59 1.41.59.51 0 1.02-.2 1.41-.59l7.78-7.78 2.81-2.81c.8-.78.8-2.07 0-2.86zM5.41 20L4 18.59l7.72-7.72 1.47 1.35L5.41 20z\"/>\n",
              "  </svg>\n",
              "      </button>\n",
              "      \n",
              "  <style>\n",
              "    .colab-df-container {\n",
              "      display:flex;\n",
              "      flex-wrap:wrap;\n",
              "      gap: 12px;\n",
              "    }\n",
              "\n",
              "    .colab-df-convert {\n",
              "      background-color: #E8F0FE;\n",
              "      border: none;\n",
              "      border-radius: 50%;\n",
              "      cursor: pointer;\n",
              "      display: none;\n",
              "      fill: #1967D2;\n",
              "      height: 32px;\n",
              "      padding: 0 0 0 0;\n",
              "      width: 32px;\n",
              "    }\n",
              "\n",
              "    .colab-df-convert:hover {\n",
              "      background-color: #E2EBFA;\n",
              "      box-shadow: 0px 1px 2px rgba(60, 64, 67, 0.3), 0px 1px 3px 1px rgba(60, 64, 67, 0.15);\n",
              "      fill: #174EA6;\n",
              "    }\n",
              "\n",
              "    [theme=dark] .colab-df-convert {\n",
              "      background-color: #3B4455;\n",
              "      fill: #D2E3FC;\n",
              "    }\n",
              "\n",
              "    [theme=dark] .colab-df-convert:hover {\n",
              "      background-color: #434B5C;\n",
              "      box-shadow: 0px 1px 3px 1px rgba(0, 0, 0, 0.15);\n",
              "      filter: drop-shadow(0px 1px 2px rgba(0, 0, 0, 0.3));\n",
              "      fill: #FFFFFF;\n",
              "    }\n",
              "  </style>\n",
              "\n",
              "      <script>\n",
              "        const buttonEl =\n",
              "          document.querySelector('#df-e497c14e-4e85-4ed7-ae2f-749edee6bd77 button.colab-df-convert');\n",
              "        buttonEl.style.display =\n",
              "          google.colab.kernel.accessAllowed ? 'block' : 'none';\n",
              "\n",
              "        async function convertToInteractive(key) {\n",
              "          const element = document.querySelector('#df-e497c14e-4e85-4ed7-ae2f-749edee6bd77');\n",
              "          const dataTable =\n",
              "            await google.colab.kernel.invokeFunction('convertToInteractive',\n",
              "                                                     [key], {});\n",
              "          if (!dataTable) return;\n",
              "\n",
              "          const docLinkHtml = 'Like what you see? Visit the ' +\n",
              "            '<a target=\"_blank\" href=https://colab.research.google.com/notebooks/data_table.ipynb>data table notebook</a>'\n",
              "            + ' to learn more about interactive tables.';\n",
              "          element.innerHTML = '';\n",
              "          dataTable['output_type'] = 'display_data';\n",
              "          await google.colab.output.renderOutput(dataTable, element);\n",
              "          const docLink = document.createElement('div');\n",
              "          docLink.innerHTML = docLinkHtml;\n",
              "          element.appendChild(docLink);\n",
              "        }\n",
              "      </script>\n",
              "    </div>\n",
              "  </div>\n",
              "  "
            ]
          },
          "metadata": {},
          "execution_count": 8
        }
      ],
      "source": [
        "# this is to set the 'Fecha' as the new index of the dataframe as it will mostly be a timeline analysis\n",
        "# the inplace=True will set this ne index as the definitive index changing it in the database\n",
        "df.set_index('Fecha', inplace=True)\n",
        "df.head()"
      ]
    },
    {
      "cell_type": "code",
      "execution_count": null,
      "metadata": {
        "colab": {
          "base_uri": "https://localhost:8080/"
        },
        "id": "GjtLQzc59BAB",
        "outputId": "c1c24480-e8af-406f-de59-e7d38dce6635"
      },
      "outputs": [
        {
          "output_type": "execute_result",
          "data": {
            "text/plain": [
              "Grupo        0\n",
              "Producto     0\n",
              "Fuente       0\n",
              "Precio KG    0\n",
              "dtype: int64"
            ]
          },
          "metadata": {},
          "execution_count": 9
        }
      ],
      "source": [
        "# Here we can see that there are not null values in any of the columns\n",
        "# if there were any null values we should take them into consideration because it can affect later anaylsis an graphing\n",
        "pd.isnull(df).sum()"
      ]
    },
    {
      "cell_type": "code",
      "execution_count": null,
      "metadata": {
        "colab": {
          "base_uri": "https://localhost:8080/"
        },
        "id": "_An0_OMngnF4",
        "outputId": "31287e82-8f3b-41d8-c96d-015d0fba3987"
      },
      "outputs": [
        {
          "output_type": "execute_result",
          "data": {
            "text/plain": [
              "Medellín, Central Mayorista de Antioquia       10154\n",
              "Bogotá, D.C., Corabastos                        8070\n",
              "Cúcuta, Cenabastos                              6865\n",
              "Villavicencio, CAV                              6383\n",
              "Ibagué, Plaza La 21                             6214\n",
              "                                               ...  \n",
              "Malambo, Atlantico                                46\n",
              "Malambo (Atlántico), Carnes y Carnes              23\n",
              "Ipiales (Nariño), Centro de Acopio                18\n",
              "San Gil (Santander), Panela                        4\n",
              "San Sebastián de Mariquita (Tolima), panela        3\n",
              "Name: Fuente, Length: 91, dtype: int64"
            ]
          },
          "metadata": {},
          "execution_count": 10
        }
      ],
      "source": [
        "# Here i'm seeing that the city is contained in the same column as the WHOLESALE center \n",
        "# we need to solve this after starting to gragh and do an analysis\n",
        "df['Fuente'].value_counts()"
      ]
    },
    {
      "cell_type": "code",
      "execution_count": null,
      "metadata": {
        "id": "mCi2MZgyqAg2"
      },
      "outputs": [],
      "source": [
        "# the process of split the values that have both the city and the WHOLESALE market need to be in a independet column\n",
        "# but here you can see that there are values in the data base that have more than one comma that is dividing the values \n",
        "# bogota dc, corabastos should not have two commas only the comma that is differentiating it from a city and a market in the city\n",
        "# we want then to get only two columns and not three\n",
        "# i first used str.split but it split the string everytime that it find a comma\n",
        "# it's best to use str.rsplit as it will start from the end to find a delimeter\n",
        "df[['Ciudad','Plaza']] = df.Fuente.str.rsplit(',',n=1, expand = True)"
      ]
    },
    {
      "cell_type": "code",
      "execution_count": null,
      "metadata": {
        "colab": {
          "base_uri": "https://localhost:8080/",
          "height": 237
        },
        "id": "lIID0qjlVrdq",
        "outputId": "d9554553-b336-4e30-9dda-59d14ede6fdc"
      },
      "outputs": [
        {
          "output_type": "execute_result",
          "data": {
            "text/plain": [
              "                            Grupo Producto                        Fuente  \\\n",
              "Fecha                                                                      \n",
              "2019-01-01  VERDURAS Y HORTALIZAS   Acelga               Armenia, Mercar   \n",
              "2019-01-01  VERDURAS Y HORTALIZAS   Acelga  Barranquilla, Barranquillita   \n",
              "2019-01-01  VERDURAS Y HORTALIZAS   Acelga      Bogotá, D.C., Corabastos   \n",
              "2019-01-01  VERDURAS Y HORTALIZAS   Acelga    Bucaramanga, Centroabastos   \n",
              "2019-01-01  VERDURAS Y HORTALIZAS   Acelga         Chiquinquirá (Boyacá)   \n",
              "\n",
              "            Precio KG                 Ciudad            Plaza  \n",
              "Fecha                                                          \n",
              "2019-01-01     1065.0                Armenia           Mercar  \n",
              "2019-01-01     3000.0           Barranquilla   Barranquillita  \n",
              "2019-01-01      764.0           Bogotá, D.C.       Corabastos  \n",
              "2019-01-01     1556.0            Bucaramanga    Centroabastos  \n",
              "2019-01-01     1058.0  Chiquinquirá (Boyacá)             None  "
            ],
            "text/html": [
              "\n",
              "  <div id=\"df-45a7017d-c009-4c35-b32e-3363855abaed\">\n",
              "    <div class=\"colab-df-container\">\n",
              "      <div>\n",
              "<style scoped>\n",
              "    .dataframe tbody tr th:only-of-type {\n",
              "        vertical-align: middle;\n",
              "    }\n",
              "\n",
              "    .dataframe tbody tr th {\n",
              "        vertical-align: top;\n",
              "    }\n",
              "\n",
              "    .dataframe thead th {\n",
              "        text-align: right;\n",
              "    }\n",
              "</style>\n",
              "<table border=\"1\" class=\"dataframe\">\n",
              "  <thead>\n",
              "    <tr style=\"text-align: right;\">\n",
              "      <th></th>\n",
              "      <th>Grupo</th>\n",
              "      <th>Producto</th>\n",
              "      <th>Fuente</th>\n",
              "      <th>Precio KG</th>\n",
              "      <th>Ciudad</th>\n",
              "      <th>Plaza</th>\n",
              "    </tr>\n",
              "    <tr>\n",
              "      <th>Fecha</th>\n",
              "      <th></th>\n",
              "      <th></th>\n",
              "      <th></th>\n",
              "      <th></th>\n",
              "      <th></th>\n",
              "      <th></th>\n",
              "    </tr>\n",
              "  </thead>\n",
              "  <tbody>\n",
              "    <tr>\n",
              "      <th>2019-01-01</th>\n",
              "      <td>VERDURAS Y HORTALIZAS</td>\n",
              "      <td>Acelga</td>\n",
              "      <td>Armenia, Mercar</td>\n",
              "      <td>1065.0</td>\n",
              "      <td>Armenia</td>\n",
              "      <td>Mercar</td>\n",
              "    </tr>\n",
              "    <tr>\n",
              "      <th>2019-01-01</th>\n",
              "      <td>VERDURAS Y HORTALIZAS</td>\n",
              "      <td>Acelga</td>\n",
              "      <td>Barranquilla, Barranquillita</td>\n",
              "      <td>3000.0</td>\n",
              "      <td>Barranquilla</td>\n",
              "      <td>Barranquillita</td>\n",
              "    </tr>\n",
              "    <tr>\n",
              "      <th>2019-01-01</th>\n",
              "      <td>VERDURAS Y HORTALIZAS</td>\n",
              "      <td>Acelga</td>\n",
              "      <td>Bogotá, D.C., Corabastos</td>\n",
              "      <td>764.0</td>\n",
              "      <td>Bogotá, D.C.</td>\n",
              "      <td>Corabastos</td>\n",
              "    </tr>\n",
              "    <tr>\n",
              "      <th>2019-01-01</th>\n",
              "      <td>VERDURAS Y HORTALIZAS</td>\n",
              "      <td>Acelga</td>\n",
              "      <td>Bucaramanga, Centroabastos</td>\n",
              "      <td>1556.0</td>\n",
              "      <td>Bucaramanga</td>\n",
              "      <td>Centroabastos</td>\n",
              "    </tr>\n",
              "    <tr>\n",
              "      <th>2019-01-01</th>\n",
              "      <td>VERDURAS Y HORTALIZAS</td>\n",
              "      <td>Acelga</td>\n",
              "      <td>Chiquinquirá (Boyacá)</td>\n",
              "      <td>1058.0</td>\n",
              "      <td>Chiquinquirá (Boyacá)</td>\n",
              "      <td>None</td>\n",
              "    </tr>\n",
              "  </tbody>\n",
              "</table>\n",
              "</div>\n",
              "      <button class=\"colab-df-convert\" onclick=\"convertToInteractive('df-45a7017d-c009-4c35-b32e-3363855abaed')\"\n",
              "              title=\"Convert this dataframe to an interactive table.\"\n",
              "              style=\"display:none;\">\n",
              "        \n",
              "  <svg xmlns=\"http://www.w3.org/2000/svg\" height=\"24px\"viewBox=\"0 0 24 24\"\n",
              "       width=\"24px\">\n",
              "    <path d=\"M0 0h24v24H0V0z\" fill=\"none\"/>\n",
              "    <path d=\"M18.56 5.44l.94 2.06.94-2.06 2.06-.94-2.06-.94-.94-2.06-.94 2.06-2.06.94zm-11 1L8.5 8.5l.94-2.06 2.06-.94-2.06-.94L8.5 2.5l-.94 2.06-2.06.94zm10 10l.94 2.06.94-2.06 2.06-.94-2.06-.94-.94-2.06-.94 2.06-2.06.94z\"/><path d=\"M17.41 7.96l-1.37-1.37c-.4-.4-.92-.59-1.43-.59-.52 0-1.04.2-1.43.59L10.3 9.45l-7.72 7.72c-.78.78-.78 2.05 0 2.83L4 21.41c.39.39.9.59 1.41.59.51 0 1.02-.2 1.41-.59l7.78-7.78 2.81-2.81c.8-.78.8-2.07 0-2.86zM5.41 20L4 18.59l7.72-7.72 1.47 1.35L5.41 20z\"/>\n",
              "  </svg>\n",
              "      </button>\n",
              "      \n",
              "  <style>\n",
              "    .colab-df-container {\n",
              "      display:flex;\n",
              "      flex-wrap:wrap;\n",
              "      gap: 12px;\n",
              "    }\n",
              "\n",
              "    .colab-df-convert {\n",
              "      background-color: #E8F0FE;\n",
              "      border: none;\n",
              "      border-radius: 50%;\n",
              "      cursor: pointer;\n",
              "      display: none;\n",
              "      fill: #1967D2;\n",
              "      height: 32px;\n",
              "      padding: 0 0 0 0;\n",
              "      width: 32px;\n",
              "    }\n",
              "\n",
              "    .colab-df-convert:hover {\n",
              "      background-color: #E2EBFA;\n",
              "      box-shadow: 0px 1px 2px rgba(60, 64, 67, 0.3), 0px 1px 3px 1px rgba(60, 64, 67, 0.15);\n",
              "      fill: #174EA6;\n",
              "    }\n",
              "\n",
              "    [theme=dark] .colab-df-convert {\n",
              "      background-color: #3B4455;\n",
              "      fill: #D2E3FC;\n",
              "    }\n",
              "\n",
              "    [theme=dark] .colab-df-convert:hover {\n",
              "      background-color: #434B5C;\n",
              "      box-shadow: 0px 1px 3px 1px rgba(0, 0, 0, 0.15);\n",
              "      filter: drop-shadow(0px 1px 2px rgba(0, 0, 0, 0.3));\n",
              "      fill: #FFFFFF;\n",
              "    }\n",
              "  </style>\n",
              "\n",
              "      <script>\n",
              "        const buttonEl =\n",
              "          document.querySelector('#df-45a7017d-c009-4c35-b32e-3363855abaed button.colab-df-convert');\n",
              "        buttonEl.style.display =\n",
              "          google.colab.kernel.accessAllowed ? 'block' : 'none';\n",
              "\n",
              "        async function convertToInteractive(key) {\n",
              "          const element = document.querySelector('#df-45a7017d-c009-4c35-b32e-3363855abaed');\n",
              "          const dataTable =\n",
              "            await google.colab.kernel.invokeFunction('convertToInteractive',\n",
              "                                                     [key], {});\n",
              "          if (!dataTable) return;\n",
              "\n",
              "          const docLinkHtml = 'Like what you see? Visit the ' +\n",
              "            '<a target=\"_blank\" href=https://colab.research.google.com/notebooks/data_table.ipynb>data table notebook</a>'\n",
              "            + ' to learn more about interactive tables.';\n",
              "          element.innerHTML = '';\n",
              "          dataTable['output_type'] = 'display_data';\n",
              "          await google.colab.output.renderOutput(dataTable, element);\n",
              "          const docLink = document.createElement('div');\n",
              "          docLink.innerHTML = docLinkHtml;\n",
              "          element.appendChild(docLink);\n",
              "        }\n",
              "      </script>\n",
              "    </div>\n",
              "  </div>\n",
              "  "
            ]
          },
          "metadata": {},
          "execution_count": 12
        }
      ],
      "source": [
        "# in the star of the dataframe we can see that there are valuess that include the city but not the marketplace \n",
        "# it is important to take this into consideration\n",
        "df.head()\n"
      ]
    },
    {
      "cell_type": "code",
      "execution_count": null,
      "metadata": {
        "colab": {
          "base_uri": "https://localhost:8080/"
        },
        "id": "qbPjCeThWBLp",
        "outputId": "5bbf29f0-fd3d-4b4d-a3ed-9dc0406ea444"
      },
      "outputs": [
        {
          "output_type": "execute_result",
          "data": {
            "text/plain": [
              "Bogotá, D.C.                        18734\n",
              "Medellín                            15561\n",
              "Cali                                14576\n",
              "Barranquilla                         9971\n",
              "Cúcuta                               9715\n",
              "Pereira                              8878\n",
              "Bucaramanga                          8756\n",
              "Villavicencio                        6383\n",
              "Ibagué                               6214\n",
              "Valledupar                           5986\n",
              "Montería                             5959\n",
              "Armenia                              5921\n",
              "Popayán                              5647\n",
              "Palmira (Valle del Cauca)            5523\n",
              "Manizales                            5514\n",
              "Neiva                                5476\n",
              "Tuluá (Valle del Cauca)              5420\n",
              "Cartagena                            5350\n",
              "Sincelejo                            5249\n",
              "Pasto                                4864\n",
              "Tunja                                4837\n",
              "Cartago (Valle del Cauca)            4716\n",
              "Buenaventura (Valle del Cauca)       4320\n",
              "Pamplona (Norte de Santander)        4150\n",
              "Santa Marta (Magdalena)              3473\n",
              "Florencia (Caquetá)                  3226\n",
              "San Gil (Santander)                  2841\n",
              "Chiquinquirá (Boyacá)                2792\n",
              "Duitama (Boyacá)                     2764\n",
              "Yopal (Casanare)                     2730\n",
              "Arauca (Arauca)                      2684\n",
              "Ipiales (Nariño)                     2568\n",
              "Rionegro (Antioquia)                 2142\n",
              "Socorro (Santander)                  1923\n",
              "Sogamoso (Boyacá)                    1805\n",
              "Tibasosa (Boyacá)                    1619\n",
              "La Unión (Nariño)                    1389\n",
              "La Ceja (Antioquia)                  1256\n",
              "Túquerres (Nariño)                   1251\n",
              "Sonsón (Antioquia)                   1157\n",
              "Malambo (Atlántico)                  1067\n",
              "Marinilla (Antioquia)                1049\n",
              "Ubaté (Cundinamarca)                  856\n",
              "Santa Bárbara (Antioquia)             714\n",
              "Peñol (Antioquia)                     649\n",
              "San Vicente (Antioquia)               584\n",
              "El Santuario (Antioquia)              480\n",
              "El Carmen de Viboral (Antioquia)      380\n",
              "La Unión (Antioquia)                  192\n",
              "Caparrapí (Cundinamarca)              144\n",
              "Name: Ciudad, dtype: int64"
            ]
          },
          "metadata": {},
          "execution_count": 13
        }
      ],
      "source": [
        "# here we count every vale from 0 to 50 to see whether there is a city misspelled\n",
        "\n",
        "df.Ciudad.value_counts()[0:50]"
      ]
    },
    {
      "cell_type": "code",
      "source": [
        "# i droped the Fuente value as it will not give me any value since \n",
        "# you will need the city and maybe a specific WHOLESALE market called \"Plaza\"\n",
        "df = df.drop(['Fuente'],axis=1)\n",
        "# here you can confirm that the data base is still the same only without the \"Fuente\" Column\n",
        "df.head()"
      ],
      "metadata": {
        "colab": {
          "base_uri": "https://localhost:8080/",
          "height": 237
        },
        "id": "-WYc_HYI3SJT",
        "outputId": "5f359188-b6b2-4352-d65e-ba6f6354d384"
      },
      "execution_count": null,
      "outputs": [
        {
          "output_type": "execute_result",
          "data": {
            "text/plain": [
              "                            Grupo Producto  Precio KG                 Ciudad  \\\n",
              "Fecha                                                                          \n",
              "2019-01-01  VERDURAS Y HORTALIZAS   Acelga     1065.0                Armenia   \n",
              "2019-01-01  VERDURAS Y HORTALIZAS   Acelga     3000.0           Barranquilla   \n",
              "2019-01-01  VERDURAS Y HORTALIZAS   Acelga      764.0           Bogotá, D.C.   \n",
              "2019-01-01  VERDURAS Y HORTALIZAS   Acelga     1556.0            Bucaramanga   \n",
              "2019-01-01  VERDURAS Y HORTALIZAS   Acelga     1058.0  Chiquinquirá (Boyacá)   \n",
              "\n",
              "                      Plaza  \n",
              "Fecha                        \n",
              "2019-01-01           Mercar  \n",
              "2019-01-01   Barranquillita  \n",
              "2019-01-01       Corabastos  \n",
              "2019-01-01    Centroabastos  \n",
              "2019-01-01             None  "
            ],
            "text/html": [
              "\n",
              "  <div id=\"df-009e39f4-74e1-45d9-b29f-308482c68f54\">\n",
              "    <div class=\"colab-df-container\">\n",
              "      <div>\n",
              "<style scoped>\n",
              "    .dataframe tbody tr th:only-of-type {\n",
              "        vertical-align: middle;\n",
              "    }\n",
              "\n",
              "    .dataframe tbody tr th {\n",
              "        vertical-align: top;\n",
              "    }\n",
              "\n",
              "    .dataframe thead th {\n",
              "        text-align: right;\n",
              "    }\n",
              "</style>\n",
              "<table border=\"1\" class=\"dataframe\">\n",
              "  <thead>\n",
              "    <tr style=\"text-align: right;\">\n",
              "      <th></th>\n",
              "      <th>Grupo</th>\n",
              "      <th>Producto</th>\n",
              "      <th>Precio KG</th>\n",
              "      <th>Ciudad</th>\n",
              "      <th>Plaza</th>\n",
              "    </tr>\n",
              "    <tr>\n",
              "      <th>Fecha</th>\n",
              "      <th></th>\n",
              "      <th></th>\n",
              "      <th></th>\n",
              "      <th></th>\n",
              "      <th></th>\n",
              "    </tr>\n",
              "  </thead>\n",
              "  <tbody>\n",
              "    <tr>\n",
              "      <th>2019-01-01</th>\n",
              "      <td>VERDURAS Y HORTALIZAS</td>\n",
              "      <td>Acelga</td>\n",
              "      <td>1065.0</td>\n",
              "      <td>Armenia</td>\n",
              "      <td>Mercar</td>\n",
              "    </tr>\n",
              "    <tr>\n",
              "      <th>2019-01-01</th>\n",
              "      <td>VERDURAS Y HORTALIZAS</td>\n",
              "      <td>Acelga</td>\n",
              "      <td>3000.0</td>\n",
              "      <td>Barranquilla</td>\n",
              "      <td>Barranquillita</td>\n",
              "    </tr>\n",
              "    <tr>\n",
              "      <th>2019-01-01</th>\n",
              "      <td>VERDURAS Y HORTALIZAS</td>\n",
              "      <td>Acelga</td>\n",
              "      <td>764.0</td>\n",
              "      <td>Bogotá, D.C.</td>\n",
              "      <td>Corabastos</td>\n",
              "    </tr>\n",
              "    <tr>\n",
              "      <th>2019-01-01</th>\n",
              "      <td>VERDURAS Y HORTALIZAS</td>\n",
              "      <td>Acelga</td>\n",
              "      <td>1556.0</td>\n",
              "      <td>Bucaramanga</td>\n",
              "      <td>Centroabastos</td>\n",
              "    </tr>\n",
              "    <tr>\n",
              "      <th>2019-01-01</th>\n",
              "      <td>VERDURAS Y HORTALIZAS</td>\n",
              "      <td>Acelga</td>\n",
              "      <td>1058.0</td>\n",
              "      <td>Chiquinquirá (Boyacá)</td>\n",
              "      <td>None</td>\n",
              "    </tr>\n",
              "  </tbody>\n",
              "</table>\n",
              "</div>\n",
              "      <button class=\"colab-df-convert\" onclick=\"convertToInteractive('df-009e39f4-74e1-45d9-b29f-308482c68f54')\"\n",
              "              title=\"Convert this dataframe to an interactive table.\"\n",
              "              style=\"display:none;\">\n",
              "        \n",
              "  <svg xmlns=\"http://www.w3.org/2000/svg\" height=\"24px\"viewBox=\"0 0 24 24\"\n",
              "       width=\"24px\">\n",
              "    <path d=\"M0 0h24v24H0V0z\" fill=\"none\"/>\n",
              "    <path d=\"M18.56 5.44l.94 2.06.94-2.06 2.06-.94-2.06-.94-.94-2.06-.94 2.06-2.06.94zm-11 1L8.5 8.5l.94-2.06 2.06-.94-2.06-.94L8.5 2.5l-.94 2.06-2.06.94zm10 10l.94 2.06.94-2.06 2.06-.94-2.06-.94-.94-2.06-.94 2.06-2.06.94z\"/><path d=\"M17.41 7.96l-1.37-1.37c-.4-.4-.92-.59-1.43-.59-.52 0-1.04.2-1.43.59L10.3 9.45l-7.72 7.72c-.78.78-.78 2.05 0 2.83L4 21.41c.39.39.9.59 1.41.59.51 0 1.02-.2 1.41-.59l7.78-7.78 2.81-2.81c.8-.78.8-2.07 0-2.86zM5.41 20L4 18.59l7.72-7.72 1.47 1.35L5.41 20z\"/>\n",
              "  </svg>\n",
              "      </button>\n",
              "      \n",
              "  <style>\n",
              "    .colab-df-container {\n",
              "      display:flex;\n",
              "      flex-wrap:wrap;\n",
              "      gap: 12px;\n",
              "    }\n",
              "\n",
              "    .colab-df-convert {\n",
              "      background-color: #E8F0FE;\n",
              "      border: none;\n",
              "      border-radius: 50%;\n",
              "      cursor: pointer;\n",
              "      display: none;\n",
              "      fill: #1967D2;\n",
              "      height: 32px;\n",
              "      padding: 0 0 0 0;\n",
              "      width: 32px;\n",
              "    }\n",
              "\n",
              "    .colab-df-convert:hover {\n",
              "      background-color: #E2EBFA;\n",
              "      box-shadow: 0px 1px 2px rgba(60, 64, 67, 0.3), 0px 1px 3px 1px rgba(60, 64, 67, 0.15);\n",
              "      fill: #174EA6;\n",
              "    }\n",
              "\n",
              "    [theme=dark] .colab-df-convert {\n",
              "      background-color: #3B4455;\n",
              "      fill: #D2E3FC;\n",
              "    }\n",
              "\n",
              "    [theme=dark] .colab-df-convert:hover {\n",
              "      background-color: #434B5C;\n",
              "      box-shadow: 0px 1px 3px 1px rgba(0, 0, 0, 0.15);\n",
              "      filter: drop-shadow(0px 1px 2px rgba(0, 0, 0, 0.3));\n",
              "      fill: #FFFFFF;\n",
              "    }\n",
              "  </style>\n",
              "\n",
              "      <script>\n",
              "        const buttonEl =\n",
              "          document.querySelector('#df-009e39f4-74e1-45d9-b29f-308482c68f54 button.colab-df-convert');\n",
              "        buttonEl.style.display =\n",
              "          google.colab.kernel.accessAllowed ? 'block' : 'none';\n",
              "\n",
              "        async function convertToInteractive(key) {\n",
              "          const element = document.querySelector('#df-009e39f4-74e1-45d9-b29f-308482c68f54');\n",
              "          const dataTable =\n",
              "            await google.colab.kernel.invokeFunction('convertToInteractive',\n",
              "                                                     [key], {});\n",
              "          if (!dataTable) return;\n",
              "\n",
              "          const docLinkHtml = 'Like what you see? Visit the ' +\n",
              "            '<a target=\"_blank\" href=https://colab.research.google.com/notebooks/data_table.ipynb>data table notebook</a>'\n",
              "            + ' to learn more about interactive tables.';\n",
              "          element.innerHTML = '';\n",
              "          dataTable['output_type'] = 'display_data';\n",
              "          await google.colab.output.renderOutput(dataTable, element);\n",
              "          const docLink = document.createElement('div');\n",
              "          docLink.innerHTML = docLinkHtml;\n",
              "          element.appendChild(docLink);\n",
              "        }\n",
              "      </script>\n",
              "    </div>\n",
              "  </div>\n",
              "  "
            ]
          },
          "metadata": {},
          "execution_count": 14
        }
      ]
    },
    {
      "cell_type": "code",
      "execution_count": null,
      "metadata": {
        "colab": {
          "base_uri": "https://localhost:8080/"
        },
        "id": "PghdOeyRv-fN",
        "outputId": "f45c9ee0-2be1-4a24-a6b1-18c7b1776ba0"
      },
      "outputs": [
        {
          "output_type": "execute_result",
          "data": {
            "text/plain": [
              "FRUTAS                           53015\n",
              "VERDURAS Y HORTALIZAS            43664\n",
              "CARNES                           32565\n",
              "PROCESADOS                       32080\n",
              "TUBERCULOS, RAICES Y PLATANOS    16948\n",
              "GRANOS Y CEREALES                13366\n",
              "PESCADOS                         10352\n",
              "LACTEOS Y HUEVOS                  9418\n",
              "Frutas                            2261\n",
              "Verduras y Hortalizas             1893\n",
              "Carnes                            1429\n",
              "Procesados                        1387\n",
              "Tubérculos, Raíces y Plátanos      704\n",
              "Granos y Cereales                  578\n",
              "Pescados                           448\n",
              "Lácteos y Huevos                   409\n",
              "Name: Grupo, dtype: int64"
            ]
          },
          "metadata": {},
          "execution_count": 15
        }
      ],
      "source": [
        "# this is another part of the data cleaning and filtering \n",
        "#we see duplicates with differences in the upper letters\n",
        "df['Grupo'].value_counts()\n"
      ]
    },
    {
      "cell_type": "code",
      "source": [
        "# as you can see the str.lower will change all the \n",
        "# upper letters for lower case\n",
        "df['Grupo'] = df['Grupo'].str.lower()\n",
        "\n",
        "df['Grupo'].value_counts()"
      ],
      "metadata": {
        "id": "g8vrV1LG5DHW",
        "colab": {
          "base_uri": "https://localhost:8080/"
        },
        "outputId": "c482a01a-f83b-40fb-d009-a726f973ac75"
      },
      "execution_count": null,
      "outputs": [
        {
          "output_type": "execute_result",
          "data": {
            "text/plain": [
              "frutas                           55276\n",
              "verduras y hortalizas            45557\n",
              "carnes                           33994\n",
              "procesados                       33467\n",
              "tuberculos, raices y platanos    16948\n",
              "granos y cereales                13944\n",
              "pescados                         10800\n",
              "lacteos y huevos                  9418\n",
              "tubérculos, raíces y plátanos      704\n",
              "lácteos y huevos                   409\n",
              "Name: Grupo, dtype: int64"
            ]
          },
          "metadata": {},
          "execution_count": 16
        }
      ]
    },
    {
      "cell_type": "code",
      "source": [
        "# you can se the dict of values that i'm going to replce with the .replace function\n",
        "dic = {'é': 'e', 'í': 'i','á':'a'}"
      ],
      "metadata": {
        "id": "ZlpN9kfkc2Nw"
      },
      "execution_count": null,
      "outputs": []
    },
    {
      "cell_type": "code",
      "source": [
        "df.replace(dic, regex=True, inplace=True)"
      ],
      "metadata": {
        "id": "9NEYYOf6fVd6"
      },
      "execution_count": null,
      "outputs": []
    },
    {
      "cell_type": "code",
      "source": [
        "df['Grupo'].value_counts()"
      ],
      "metadata": {
        "colab": {
          "base_uri": "https://localhost:8080/"
        },
        "id": "BOcV8jCoeSUr",
        "outputId": "48c6600a-ce9e-4cfd-9873-2d3d0f5081c7"
      },
      "execution_count": null,
      "outputs": [
        {
          "output_type": "execute_result",
          "data": {
            "text/plain": [
              "frutas                           55276\n",
              "verduras y hortalizas            45557\n",
              "carnes                           33994\n",
              "procesados                       33467\n",
              "tuberculos, raices y platanos    17652\n",
              "granos y cereales                13944\n",
              "pescados                         10800\n",
              "lacteos y huevos                  9827\n",
              "Name: Grupo, dtype: int64"
            ]
          },
          "metadata": {},
          "execution_count": 19
        }
      ]
    },
    {
      "cell_type": "code",
      "source": [
        "# now we need to see wheter there may be other values such as ó or ú \n",
        "# for this we need to analyse the other types of products from each category \n",
        "# but instead we will find this values and if it exists in the data base\n",
        "# if those values exists we will addd them to the dictionary to then replace them and get an homogeneus list\n"
      ],
      "metadata": {
        "id": "e9SfYgpIfhyB"
      },
      "execution_count": null,
      "outputs": []
    },
    {
      "cell_type": "code",
      "source": [
        "# Thiss code reveal that there are no ó or ú in the data base that need to be replaced\n",
        "# Then the code above of .replace wwill work just fine\n",
        "### remember to add a list for ú and ó too\n",
        "df['Grupo'].str.count('ú').sum()\n"
      ],
      "metadata": {
        "colab": {
          "base_uri": "https://localhost:8080/"
        },
        "id": "IiS3-0AQ-E_Z",
        "outputId": "21cfbc82-d34f-4962-86cb-58b1691f4368"
      },
      "execution_count": null,
      "outputs": [
        {
          "output_type": "execute_result",
          "data": {
            "text/plain": [
              "0"
            ]
          },
          "metadata": {},
          "execution_count": 21
        }
      ]
    },
    {
      "cell_type": "code",
      "source": [
        "df['Ciudad'].value_counts()[0:50]"
      ],
      "metadata": {
        "colab": {
          "base_uri": "https://localhost:8080/"
        },
        "id": "zB4d2UjvSsiT",
        "outputId": "0f8665e3-9c5b-411a-9139-868c1688a326"
      },
      "execution_count": null,
      "outputs": [
        {
          "output_type": "execute_result",
          "data": {
            "text/plain": [
              "Bogota, D.C.                        18734\n",
              "Medellin                            15561\n",
              "Cali                                14576\n",
              "Barranquilla                         9971\n",
              "Cúcuta                               9715\n",
              "Pereira                              8878\n",
              "Bucaramanga                          8756\n",
              "Villavicencio                        6383\n",
              "Ibague                               6214\n",
              "Valledupar                           5986\n",
              "Monteria                             5959\n",
              "Armenia                              5921\n",
              "Popayan                              5647\n",
              "Palmira (Valle del Cauca)            5523\n",
              "Manizales                            5514\n",
              "Neiva                                5476\n",
              "Tulua (Valle del Cauca)              5420\n",
              "Cartagena                            5350\n",
              "Sincelejo                            5249\n",
              "Pasto                                4864\n",
              "Tunja                                4837\n",
              "Cartago (Valle del Cauca)            4716\n",
              "Buenaventura (Valle del Cauca)       4320\n",
              "Pamplona (Norte de Santander)        4150\n",
              "Santa Marta (Magdalena)              3473\n",
              "Florencia (Caqueta)                  3226\n",
              "San Gil (Santander)                  2841\n",
              "Chiquinquira (Boyaca)                2792\n",
              "Duitama (Boyaca)                     2764\n",
              "Yopal (Casanare)                     2730\n",
              "Arauca (Arauca)                      2684\n",
              "Ipiales (Nariño)                     2568\n",
              "Rionegro (Antioquia)                 2142\n",
              "Socorro (Santander)                  1923\n",
              "Sogamoso (Boyaca)                    1805\n",
              "Tibasosa (Boyaca)                    1619\n",
              "La Unión (Nariño)                    1389\n",
              "La Ceja (Antioquia)                  1256\n",
              "Túquerres (Nariño)                   1251\n",
              "Sonsón (Antioquia)                   1157\n",
              "Malambo (Atlantico)                  1067\n",
              "Marinilla (Antioquia)                1049\n",
              "Ubate (Cundinamarca)                  856\n",
              "Santa Barbara (Antioquia)             714\n",
              "Peñol (Antioquia)                     649\n",
              "San Vicente (Antioquia)               584\n",
              "El Santuario (Antioquia)              480\n",
              "El Carmen de Viboral (Antioquia)      380\n",
              "La Unión (Antioquia)                  192\n",
              "Caparrapi (Cundinamarca)              144\n",
              "Name: Ciudad, dtype: int64"
            ]
          },
          "metadata": {},
          "execution_count": 22
        }
      ]
    },
    {
      "cell_type": "code",
      "source": [
        "# here you can write the dicttionary if you would like to select multiple cities \n",
        "C = ['Ibague']\n",
        "df2 = df[df['Grupo'].isin(C)]\n"
      ],
      "metadata": {
        "id": "e50gjgdYTwA2"
      },
      "execution_count": null,
      "outputs": []
    },
    {
      "cell_type": "code",
      "source": [
        "# here i replace the tring with a value o it is more easy to get values and analyze them witouth touching the principal code\n",
        "# here noww e dont acll the list inide the iin function\n",
        "# instead i used a vaariable to store a list that caaan containt all the types of groups of goods\n",
        "G = ['carnes']\n",
        "df2 = df[df['Grupo'].isin(G)]\n",
        "df2['Producto'].value_counts()[0:30]"
      ],
      "metadata": {
        "colab": {
          "base_uri": "https://localhost:8080/"
        },
        "id": "nswbtL0SQddR",
        "outputId": "a2cf75bc-7ad8-4ea2-cc7b-bc8e72c71fe8"
      },
      "execution_count": null,
      "outputs": [
        {
          "output_type": "execute_result",
          "data": {
            "text/plain": [
              "Pechuga de pollo                       1439\n",
              "Carne de res, sobrebarriga             1338\n",
              "Carne de res, bola de pierna           1309\n",
              "Carne de cerdo, lomo sin hueso         1247\n",
              "Carne de cerdo, costilla               1245\n",
              "Pierna pernil con rabadilla            1244\n",
              "Carne de res, punta de anca            1243\n",
              "Carne de res, muchacho                 1234\n",
              "Carne de res, cadera                   1197\n",
              "Carne de res, lomo fino                1163\n",
              "Carne de res, chatas                   1150\n",
              "Carne de cerdo, pernil sin hueso       1064\n",
              "Carne de res, costilla                 1057\n",
              "Carne de res, falda                    1008\n",
              "Carne de cerdo, brazo sin hueso         998\n",
              "Carne de res, bola de brazo             983\n",
              "Carne de res, centro de pierna          959\n",
              "Alas de pollo con costillar             935\n",
              "Carne de res, morrillo                  918\n",
              "Carne de res, pecho                     904\n",
              "Carne de res, bota                      856\n",
              "Piernas de pollo                        851\n",
              "Carne de cerdo, espinazo                685\n",
              "Carne de cerdo, pernil con hueso        666\n",
              "Pollo entero fresco sin visceras        633\n",
              "Carne de cerdo, tocino papada           624\n",
              "Carne de res, murillo                   616\n",
              "Carne de cerdo, tocino barriga          606\n",
              "Pollo entero congelado sin visceras     556\n",
              "Carne de res, paletero                  529\n",
              "Name: Producto, dtype: int64"
            ]
          },
          "metadata": {},
          "execution_count": 24
        }
      ]
    },
    {
      "cell_type": "code",
      "source": [
        "P = ['Pechuga de pollo']\n",
        "dfp = df2[df2[\"Producto\"].isin(P)]\n",
        "dfpc = df2[(df2[\"Producto\"].isin(P)) & (df2['Ciudad'].isin(C))]"
      ],
      "metadata": {
        "id": "qMRMxCZYLTE8"
      },
      "execution_count": null,
      "outputs": []
    },
    {
      "cell_type": "code",
      "source": [
        "dfpc"
      ],
      "metadata": {
        "colab": {
          "base_uri": "https://localhost:8080/",
          "height": 1000
        },
        "id": "VQvdbKwNXNue",
        "outputId": "9ac48c68-6073-41e3-871e-902926480bec"
      },
      "execution_count": null,
      "outputs": [
        {
          "output_type": "execute_result",
          "data": {
            "text/plain": [
              "             Grupo          Producto  Precio KG  Ciudad         Plaza\n",
              "Fecha                                                                \n",
              "2019-01-01  carnes  Pechuga de pollo     7927.0  Ibague   Plaza La 21\n",
              "2019-02-01  carnes  Pechuga de pollo     7817.0  Ibague   Plaza La 21\n",
              "2019-03-01  carnes  Pechuga de pollo     7821.0  Ibague   Plaza La 21\n",
              "2019-04-01  carnes  Pechuga de pollo     7827.0  Ibague   Plaza La 21\n",
              "2019-05-01  carnes  Pechuga de pollo     7767.0  Ibague   Plaza La 21\n",
              "2019-06-01  carnes  Pechuga de pollo     7733.0  Ibague   Plaza La 21\n",
              "2019-07-01  carnes  Pechuga de pollo     7693.0  Ibague   Plaza La 21\n",
              "2019-08-01  carnes  Pechuga de pollo     7800.0  Ibague   Plaza La 21\n",
              "2019-09-01  carnes  Pechuga de pollo     7967.0  Ibague   Plaza La 21\n",
              "2019-10-01  carnes  Pechuga de pollo     8053.0  Ibague   Plaza La 21\n",
              "2019-11-01  carnes  Pechuga de pollo     8094.0  Ibague   Plaza La 21\n",
              "2019-12-01  carnes  Pechuga de pollo     8350.0  Ibague   Plaza La 21\n",
              "2020-01-01  carnes  Pechuga de pollo     8167.0  Ibague   Plaza La 21\n",
              "2020-02-01  carnes  Pechuga de pollo     8267.0  Ibague   Plaza La 21\n",
              "2020-03-01  carnes  Pechuga de pollo     8220.0  Ibague   Plaza La 21\n",
              "2020-04-01  carnes  Pechuga de pollo     7792.0  Ibague   Plaza La 21\n",
              "2020-05-01  carnes  Pechuga de pollo     7488.0  Ibague   Plaza La 21\n",
              "2020-06-01  carnes  Pechuga de pollo     8404.0  Ibague   Plaza La 21\n",
              "2020-07-01  carnes  Pechuga de pollo     9027.0  Ibague   Plaza La 21\n",
              "2020-08-01  carnes  Pechuga de pollo     9117.0  Ibague   Plaza La 21\n",
              "2020-09-01  carnes  Pechuga de pollo     8113.0  Ibague   Plaza La 21\n",
              "2020-10-01  carnes  Pechuga de pollo     7823.0  Ibague   Plaza La 21\n",
              "2020-11-01  carnes  Pechuga de pollo     7800.0  Ibague   Plaza La 21\n",
              "2020-12-01  carnes  Pechuga de pollo     8720.0  Ibague   Plaza La 21\n",
              "2021-01-01  carnes  Pechuga de pollo     9346.0  Ibague   Plaza La 21\n",
              "2021-02-01  carnes  Pechuga de pollo     9263.0  Ibague   Plaza La 21\n",
              "2021-03-01  carnes  Pechuga de pollo     9433.0  Ibague   Plaza La 21\n",
              "2021-04-01  carnes  Pechuga de pollo     9725.0  Ibague   Plaza La 21\n",
              "2021-05-01  carnes  Pechuga de pollo    10733.0  Ibague   Plaza La 21\n",
              "2021-06-01  carnes  Pechuga de pollo    12142.0  Ibague   Plaza La 21\n",
              "2021-07-01  carnes  Pechuga de pollo    12000.0  Ibague   Plaza La 21\n",
              "2021-08-01  carnes  Pechuga de pollo    11600.0  Ibague   Plaza La 21\n",
              "2021-09-01  carnes  Pechuga de pollo    11617.0  Ibague   Plaza La 21\n",
              "2021-10-01  carnes  Pechuga de pollo    11379.0  Ibague   Plaza La 21\n",
              "2021-11-01  carnes  Pechuga de pollo    11440.0  Ibague   Plaza La 21\n",
              "2021-12-01  carnes  Pechuga de pollo    12083.0  Ibague   Plaza La 21\n",
              "2022-01-01  carnes  Pechuga de pollo    12933.0  Ibague   Plaza La 21\n",
              "2022-02-01  carnes  Pechuga de pollo    11100.0  Ibague   Plaza La 21\n",
              "2022-03-01  carnes  Pechuga de pollo    11727.0  Ibague   Plaza La 21\n",
              "2022-04-01  carnes  Pechuga de pollo    11933.0  Ibague   Plaza La 21\n",
              "2022-05-01  carnes  Pechuga de pollo    11967.0  Ibague   Plaza La 21\n",
              "2022-06-01  carnes  Pechuga de pollo    12750.0  Ibague   Plaza La 21\n",
              "2022-07-01  carnes  Pechuga de pollo    12287.0  Ibague   Plaza La 21\n",
              "2022-08-01  carnes  Pechuga de pollo    12067.0  Ibague   Plaza La 21\n",
              "2022-09-01  carnes  Pechuga de pollo    12140.0  Ibague   Plaza La 21\n",
              "2022-10-01  carnes  Pechuga de pollo    12300.0  Ibague   Plaza La 21\n",
              "2022-11-01  carnes  Pechuga de pollo    12407.0  Ibague   Plaza La 21\n",
              "2022-12-01  carnes  Pechuga de pollo    12413.0  Ibague   Plaza La 21"
            ],
            "text/html": [
              "\n",
              "  <div id=\"df-b3ffd71a-c65d-4233-91e4-79e7de9bd3f2\">\n",
              "    <div class=\"colab-df-container\">\n",
              "      <div>\n",
              "<style scoped>\n",
              "    .dataframe tbody tr th:only-of-type {\n",
              "        vertical-align: middle;\n",
              "    }\n",
              "\n",
              "    .dataframe tbody tr th {\n",
              "        vertical-align: top;\n",
              "    }\n",
              "\n",
              "    .dataframe thead th {\n",
              "        text-align: right;\n",
              "    }\n",
              "</style>\n",
              "<table border=\"1\" class=\"dataframe\">\n",
              "  <thead>\n",
              "    <tr style=\"text-align: right;\">\n",
              "      <th></th>\n",
              "      <th>Grupo</th>\n",
              "      <th>Producto</th>\n",
              "      <th>Precio KG</th>\n",
              "      <th>Ciudad</th>\n",
              "      <th>Plaza</th>\n",
              "    </tr>\n",
              "    <tr>\n",
              "      <th>Fecha</th>\n",
              "      <th></th>\n",
              "      <th></th>\n",
              "      <th></th>\n",
              "      <th></th>\n",
              "      <th></th>\n",
              "    </tr>\n",
              "  </thead>\n",
              "  <tbody>\n",
              "    <tr>\n",
              "      <th>2019-01-01</th>\n",
              "      <td>carnes</td>\n",
              "      <td>Pechuga de pollo</td>\n",
              "      <td>7927.0</td>\n",
              "      <td>Ibague</td>\n",
              "      <td>Plaza La 21</td>\n",
              "    </tr>\n",
              "    <tr>\n",
              "      <th>2019-02-01</th>\n",
              "      <td>carnes</td>\n",
              "      <td>Pechuga de pollo</td>\n",
              "      <td>7817.0</td>\n",
              "      <td>Ibague</td>\n",
              "      <td>Plaza La 21</td>\n",
              "    </tr>\n",
              "    <tr>\n",
              "      <th>2019-03-01</th>\n",
              "      <td>carnes</td>\n",
              "      <td>Pechuga de pollo</td>\n",
              "      <td>7821.0</td>\n",
              "      <td>Ibague</td>\n",
              "      <td>Plaza La 21</td>\n",
              "    </tr>\n",
              "    <tr>\n",
              "      <th>2019-04-01</th>\n",
              "      <td>carnes</td>\n",
              "      <td>Pechuga de pollo</td>\n",
              "      <td>7827.0</td>\n",
              "      <td>Ibague</td>\n",
              "      <td>Plaza La 21</td>\n",
              "    </tr>\n",
              "    <tr>\n",
              "      <th>2019-05-01</th>\n",
              "      <td>carnes</td>\n",
              "      <td>Pechuga de pollo</td>\n",
              "      <td>7767.0</td>\n",
              "      <td>Ibague</td>\n",
              "      <td>Plaza La 21</td>\n",
              "    </tr>\n",
              "    <tr>\n",
              "      <th>2019-06-01</th>\n",
              "      <td>carnes</td>\n",
              "      <td>Pechuga de pollo</td>\n",
              "      <td>7733.0</td>\n",
              "      <td>Ibague</td>\n",
              "      <td>Plaza La 21</td>\n",
              "    </tr>\n",
              "    <tr>\n",
              "      <th>2019-07-01</th>\n",
              "      <td>carnes</td>\n",
              "      <td>Pechuga de pollo</td>\n",
              "      <td>7693.0</td>\n",
              "      <td>Ibague</td>\n",
              "      <td>Plaza La 21</td>\n",
              "    </tr>\n",
              "    <tr>\n",
              "      <th>2019-08-01</th>\n",
              "      <td>carnes</td>\n",
              "      <td>Pechuga de pollo</td>\n",
              "      <td>7800.0</td>\n",
              "      <td>Ibague</td>\n",
              "      <td>Plaza La 21</td>\n",
              "    </tr>\n",
              "    <tr>\n",
              "      <th>2019-09-01</th>\n",
              "      <td>carnes</td>\n",
              "      <td>Pechuga de pollo</td>\n",
              "      <td>7967.0</td>\n",
              "      <td>Ibague</td>\n",
              "      <td>Plaza La 21</td>\n",
              "    </tr>\n",
              "    <tr>\n",
              "      <th>2019-10-01</th>\n",
              "      <td>carnes</td>\n",
              "      <td>Pechuga de pollo</td>\n",
              "      <td>8053.0</td>\n",
              "      <td>Ibague</td>\n",
              "      <td>Plaza La 21</td>\n",
              "    </tr>\n",
              "    <tr>\n",
              "      <th>2019-11-01</th>\n",
              "      <td>carnes</td>\n",
              "      <td>Pechuga de pollo</td>\n",
              "      <td>8094.0</td>\n",
              "      <td>Ibague</td>\n",
              "      <td>Plaza La 21</td>\n",
              "    </tr>\n",
              "    <tr>\n",
              "      <th>2019-12-01</th>\n",
              "      <td>carnes</td>\n",
              "      <td>Pechuga de pollo</td>\n",
              "      <td>8350.0</td>\n",
              "      <td>Ibague</td>\n",
              "      <td>Plaza La 21</td>\n",
              "    </tr>\n",
              "    <tr>\n",
              "      <th>2020-01-01</th>\n",
              "      <td>carnes</td>\n",
              "      <td>Pechuga de pollo</td>\n",
              "      <td>8167.0</td>\n",
              "      <td>Ibague</td>\n",
              "      <td>Plaza La 21</td>\n",
              "    </tr>\n",
              "    <tr>\n",
              "      <th>2020-02-01</th>\n",
              "      <td>carnes</td>\n",
              "      <td>Pechuga de pollo</td>\n",
              "      <td>8267.0</td>\n",
              "      <td>Ibague</td>\n",
              "      <td>Plaza La 21</td>\n",
              "    </tr>\n",
              "    <tr>\n",
              "      <th>2020-03-01</th>\n",
              "      <td>carnes</td>\n",
              "      <td>Pechuga de pollo</td>\n",
              "      <td>8220.0</td>\n",
              "      <td>Ibague</td>\n",
              "      <td>Plaza La 21</td>\n",
              "    </tr>\n",
              "    <tr>\n",
              "      <th>2020-04-01</th>\n",
              "      <td>carnes</td>\n",
              "      <td>Pechuga de pollo</td>\n",
              "      <td>7792.0</td>\n",
              "      <td>Ibague</td>\n",
              "      <td>Plaza La 21</td>\n",
              "    </tr>\n",
              "    <tr>\n",
              "      <th>2020-05-01</th>\n",
              "      <td>carnes</td>\n",
              "      <td>Pechuga de pollo</td>\n",
              "      <td>7488.0</td>\n",
              "      <td>Ibague</td>\n",
              "      <td>Plaza La 21</td>\n",
              "    </tr>\n",
              "    <tr>\n",
              "      <th>2020-06-01</th>\n",
              "      <td>carnes</td>\n",
              "      <td>Pechuga de pollo</td>\n",
              "      <td>8404.0</td>\n",
              "      <td>Ibague</td>\n",
              "      <td>Plaza La 21</td>\n",
              "    </tr>\n",
              "    <tr>\n",
              "      <th>2020-07-01</th>\n",
              "      <td>carnes</td>\n",
              "      <td>Pechuga de pollo</td>\n",
              "      <td>9027.0</td>\n",
              "      <td>Ibague</td>\n",
              "      <td>Plaza La 21</td>\n",
              "    </tr>\n",
              "    <tr>\n",
              "      <th>2020-08-01</th>\n",
              "      <td>carnes</td>\n",
              "      <td>Pechuga de pollo</td>\n",
              "      <td>9117.0</td>\n",
              "      <td>Ibague</td>\n",
              "      <td>Plaza La 21</td>\n",
              "    </tr>\n",
              "    <tr>\n",
              "      <th>2020-09-01</th>\n",
              "      <td>carnes</td>\n",
              "      <td>Pechuga de pollo</td>\n",
              "      <td>8113.0</td>\n",
              "      <td>Ibague</td>\n",
              "      <td>Plaza La 21</td>\n",
              "    </tr>\n",
              "    <tr>\n",
              "      <th>2020-10-01</th>\n",
              "      <td>carnes</td>\n",
              "      <td>Pechuga de pollo</td>\n",
              "      <td>7823.0</td>\n",
              "      <td>Ibague</td>\n",
              "      <td>Plaza La 21</td>\n",
              "    </tr>\n",
              "    <tr>\n",
              "      <th>2020-11-01</th>\n",
              "      <td>carnes</td>\n",
              "      <td>Pechuga de pollo</td>\n",
              "      <td>7800.0</td>\n",
              "      <td>Ibague</td>\n",
              "      <td>Plaza La 21</td>\n",
              "    </tr>\n",
              "    <tr>\n",
              "      <th>2020-12-01</th>\n",
              "      <td>carnes</td>\n",
              "      <td>Pechuga de pollo</td>\n",
              "      <td>8720.0</td>\n",
              "      <td>Ibague</td>\n",
              "      <td>Plaza La 21</td>\n",
              "    </tr>\n",
              "    <tr>\n",
              "      <th>2021-01-01</th>\n",
              "      <td>carnes</td>\n",
              "      <td>Pechuga de pollo</td>\n",
              "      <td>9346.0</td>\n",
              "      <td>Ibague</td>\n",
              "      <td>Plaza La 21</td>\n",
              "    </tr>\n",
              "    <tr>\n",
              "      <th>2021-02-01</th>\n",
              "      <td>carnes</td>\n",
              "      <td>Pechuga de pollo</td>\n",
              "      <td>9263.0</td>\n",
              "      <td>Ibague</td>\n",
              "      <td>Plaza La 21</td>\n",
              "    </tr>\n",
              "    <tr>\n",
              "      <th>2021-03-01</th>\n",
              "      <td>carnes</td>\n",
              "      <td>Pechuga de pollo</td>\n",
              "      <td>9433.0</td>\n",
              "      <td>Ibague</td>\n",
              "      <td>Plaza La 21</td>\n",
              "    </tr>\n",
              "    <tr>\n",
              "      <th>2021-04-01</th>\n",
              "      <td>carnes</td>\n",
              "      <td>Pechuga de pollo</td>\n",
              "      <td>9725.0</td>\n",
              "      <td>Ibague</td>\n",
              "      <td>Plaza La 21</td>\n",
              "    </tr>\n",
              "    <tr>\n",
              "      <th>2021-05-01</th>\n",
              "      <td>carnes</td>\n",
              "      <td>Pechuga de pollo</td>\n",
              "      <td>10733.0</td>\n",
              "      <td>Ibague</td>\n",
              "      <td>Plaza La 21</td>\n",
              "    </tr>\n",
              "    <tr>\n",
              "      <th>2021-06-01</th>\n",
              "      <td>carnes</td>\n",
              "      <td>Pechuga de pollo</td>\n",
              "      <td>12142.0</td>\n",
              "      <td>Ibague</td>\n",
              "      <td>Plaza La 21</td>\n",
              "    </tr>\n",
              "    <tr>\n",
              "      <th>2021-07-01</th>\n",
              "      <td>carnes</td>\n",
              "      <td>Pechuga de pollo</td>\n",
              "      <td>12000.0</td>\n",
              "      <td>Ibague</td>\n",
              "      <td>Plaza La 21</td>\n",
              "    </tr>\n",
              "    <tr>\n",
              "      <th>2021-08-01</th>\n",
              "      <td>carnes</td>\n",
              "      <td>Pechuga de pollo</td>\n",
              "      <td>11600.0</td>\n",
              "      <td>Ibague</td>\n",
              "      <td>Plaza La 21</td>\n",
              "    </tr>\n",
              "    <tr>\n",
              "      <th>2021-09-01</th>\n",
              "      <td>carnes</td>\n",
              "      <td>Pechuga de pollo</td>\n",
              "      <td>11617.0</td>\n",
              "      <td>Ibague</td>\n",
              "      <td>Plaza La 21</td>\n",
              "    </tr>\n",
              "    <tr>\n",
              "      <th>2021-10-01</th>\n",
              "      <td>carnes</td>\n",
              "      <td>Pechuga de pollo</td>\n",
              "      <td>11379.0</td>\n",
              "      <td>Ibague</td>\n",
              "      <td>Plaza La 21</td>\n",
              "    </tr>\n",
              "    <tr>\n",
              "      <th>2021-11-01</th>\n",
              "      <td>carnes</td>\n",
              "      <td>Pechuga de pollo</td>\n",
              "      <td>11440.0</td>\n",
              "      <td>Ibague</td>\n",
              "      <td>Plaza La 21</td>\n",
              "    </tr>\n",
              "    <tr>\n",
              "      <th>2021-12-01</th>\n",
              "      <td>carnes</td>\n",
              "      <td>Pechuga de pollo</td>\n",
              "      <td>12083.0</td>\n",
              "      <td>Ibague</td>\n",
              "      <td>Plaza La 21</td>\n",
              "    </tr>\n",
              "    <tr>\n",
              "      <th>2022-01-01</th>\n",
              "      <td>carnes</td>\n",
              "      <td>Pechuga de pollo</td>\n",
              "      <td>12933.0</td>\n",
              "      <td>Ibague</td>\n",
              "      <td>Plaza La 21</td>\n",
              "    </tr>\n",
              "    <tr>\n",
              "      <th>2022-02-01</th>\n",
              "      <td>carnes</td>\n",
              "      <td>Pechuga de pollo</td>\n",
              "      <td>11100.0</td>\n",
              "      <td>Ibague</td>\n",
              "      <td>Plaza La 21</td>\n",
              "    </tr>\n",
              "    <tr>\n",
              "      <th>2022-03-01</th>\n",
              "      <td>carnes</td>\n",
              "      <td>Pechuga de pollo</td>\n",
              "      <td>11727.0</td>\n",
              "      <td>Ibague</td>\n",
              "      <td>Plaza La 21</td>\n",
              "    </tr>\n",
              "    <tr>\n",
              "      <th>2022-04-01</th>\n",
              "      <td>carnes</td>\n",
              "      <td>Pechuga de pollo</td>\n",
              "      <td>11933.0</td>\n",
              "      <td>Ibague</td>\n",
              "      <td>Plaza La 21</td>\n",
              "    </tr>\n",
              "    <tr>\n",
              "      <th>2022-05-01</th>\n",
              "      <td>carnes</td>\n",
              "      <td>Pechuga de pollo</td>\n",
              "      <td>11967.0</td>\n",
              "      <td>Ibague</td>\n",
              "      <td>Plaza La 21</td>\n",
              "    </tr>\n",
              "    <tr>\n",
              "      <th>2022-06-01</th>\n",
              "      <td>carnes</td>\n",
              "      <td>Pechuga de pollo</td>\n",
              "      <td>12750.0</td>\n",
              "      <td>Ibague</td>\n",
              "      <td>Plaza La 21</td>\n",
              "    </tr>\n",
              "    <tr>\n",
              "      <th>2022-07-01</th>\n",
              "      <td>carnes</td>\n",
              "      <td>Pechuga de pollo</td>\n",
              "      <td>12287.0</td>\n",
              "      <td>Ibague</td>\n",
              "      <td>Plaza La 21</td>\n",
              "    </tr>\n",
              "    <tr>\n",
              "      <th>2022-08-01</th>\n",
              "      <td>carnes</td>\n",
              "      <td>Pechuga de pollo</td>\n",
              "      <td>12067.0</td>\n",
              "      <td>Ibague</td>\n",
              "      <td>Plaza La 21</td>\n",
              "    </tr>\n",
              "    <tr>\n",
              "      <th>2022-09-01</th>\n",
              "      <td>carnes</td>\n",
              "      <td>Pechuga de pollo</td>\n",
              "      <td>12140.0</td>\n",
              "      <td>Ibague</td>\n",
              "      <td>Plaza La 21</td>\n",
              "    </tr>\n",
              "    <tr>\n",
              "      <th>2022-10-01</th>\n",
              "      <td>carnes</td>\n",
              "      <td>Pechuga de pollo</td>\n",
              "      <td>12300.0</td>\n",
              "      <td>Ibague</td>\n",
              "      <td>Plaza La 21</td>\n",
              "    </tr>\n",
              "    <tr>\n",
              "      <th>2022-11-01</th>\n",
              "      <td>carnes</td>\n",
              "      <td>Pechuga de pollo</td>\n",
              "      <td>12407.0</td>\n",
              "      <td>Ibague</td>\n",
              "      <td>Plaza La 21</td>\n",
              "    </tr>\n",
              "    <tr>\n",
              "      <th>2022-12-01</th>\n",
              "      <td>carnes</td>\n",
              "      <td>Pechuga de pollo</td>\n",
              "      <td>12413.0</td>\n",
              "      <td>Ibague</td>\n",
              "      <td>Plaza La 21</td>\n",
              "    </tr>\n",
              "  </tbody>\n",
              "</table>\n",
              "</div>\n",
              "      <button class=\"colab-df-convert\" onclick=\"convertToInteractive('df-b3ffd71a-c65d-4233-91e4-79e7de9bd3f2')\"\n",
              "              title=\"Convert this dataframe to an interactive table.\"\n",
              "              style=\"display:none;\">\n",
              "        \n",
              "  <svg xmlns=\"http://www.w3.org/2000/svg\" height=\"24px\"viewBox=\"0 0 24 24\"\n",
              "       width=\"24px\">\n",
              "    <path d=\"M0 0h24v24H0V0z\" fill=\"none\"/>\n",
              "    <path d=\"M18.56 5.44l.94 2.06.94-2.06 2.06-.94-2.06-.94-.94-2.06-.94 2.06-2.06.94zm-11 1L8.5 8.5l.94-2.06 2.06-.94-2.06-.94L8.5 2.5l-.94 2.06-2.06.94zm10 10l.94 2.06.94-2.06 2.06-.94-2.06-.94-.94-2.06-.94 2.06-2.06.94z\"/><path d=\"M17.41 7.96l-1.37-1.37c-.4-.4-.92-.59-1.43-.59-.52 0-1.04.2-1.43.59L10.3 9.45l-7.72 7.72c-.78.78-.78 2.05 0 2.83L4 21.41c.39.39.9.59 1.41.59.51 0 1.02-.2 1.41-.59l7.78-7.78 2.81-2.81c.8-.78.8-2.07 0-2.86zM5.41 20L4 18.59l7.72-7.72 1.47 1.35L5.41 20z\"/>\n",
              "  </svg>\n",
              "      </button>\n",
              "      \n",
              "  <style>\n",
              "    .colab-df-container {\n",
              "      display:flex;\n",
              "      flex-wrap:wrap;\n",
              "      gap: 12px;\n",
              "    }\n",
              "\n",
              "    .colab-df-convert {\n",
              "      background-color: #E8F0FE;\n",
              "      border: none;\n",
              "      border-radius: 50%;\n",
              "      cursor: pointer;\n",
              "      display: none;\n",
              "      fill: #1967D2;\n",
              "      height: 32px;\n",
              "      padding: 0 0 0 0;\n",
              "      width: 32px;\n",
              "    }\n",
              "\n",
              "    .colab-df-convert:hover {\n",
              "      background-color: #E2EBFA;\n",
              "      box-shadow: 0px 1px 2px rgba(60, 64, 67, 0.3), 0px 1px 3px 1px rgba(60, 64, 67, 0.15);\n",
              "      fill: #174EA6;\n",
              "    }\n",
              "\n",
              "    [theme=dark] .colab-df-convert {\n",
              "      background-color: #3B4455;\n",
              "      fill: #D2E3FC;\n",
              "    }\n",
              "\n",
              "    [theme=dark] .colab-df-convert:hover {\n",
              "      background-color: #434B5C;\n",
              "      box-shadow: 0px 1px 3px 1px rgba(0, 0, 0, 0.15);\n",
              "      filter: drop-shadow(0px 1px 2px rgba(0, 0, 0, 0.3));\n",
              "      fill: #FFFFFF;\n",
              "    }\n",
              "  </style>\n",
              "\n",
              "      <script>\n",
              "        const buttonEl =\n",
              "          document.querySelector('#df-b3ffd71a-c65d-4233-91e4-79e7de9bd3f2 button.colab-df-convert');\n",
              "        buttonEl.style.display =\n",
              "          google.colab.kernel.accessAllowed ? 'block' : 'none';\n",
              "\n",
              "        async function convertToInteractive(key) {\n",
              "          const element = document.querySelector('#df-b3ffd71a-c65d-4233-91e4-79e7de9bd3f2');\n",
              "          const dataTable =\n",
              "            await google.colab.kernel.invokeFunction('convertToInteractive',\n",
              "                                                     [key], {});\n",
              "          if (!dataTable) return;\n",
              "\n",
              "          const docLinkHtml = 'Like what you see? Visit the ' +\n",
              "            '<a target=\"_blank\" href=https://colab.research.google.com/notebooks/data_table.ipynb>data table notebook</a>'\n",
              "            + ' to learn more about interactive tables.';\n",
              "          element.innerHTML = '';\n",
              "          dataTable['output_type'] = 'display_data';\n",
              "          await google.colab.output.renderOutput(dataTable, element);\n",
              "          const docLink = document.createElement('div');\n",
              "          docLink.innerHTML = docLinkHtml;\n",
              "          element.appendChild(docLink);\n",
              "        }\n",
              "      </script>\n",
              "    </div>\n",
              "  </div>\n",
              "  "
            ]
          },
          "metadata": {},
          "execution_count": 26
        }
      ]
    },
    {
      "cell_type": "markdown",
      "source": [
        "##Idea\n",
        "### create a function where if you dont choose a city you get a dataframe with all the countries and only the products given if not then return a dataframe with the product and city given"
      ],
      "metadata": {
        "id": "wdzWCTbJZw_O"
      }
    },
    {
      "cell_type": "code",
      "source": [
        "# the join function map wil give us utomticlly the title of the entire grapichs that we are making\n",
        "t = 'Precio KG de '+(' '.join(map(str, P)))+' en '+(' '.join(map(str, C)))\n"
      ],
      "metadata": {
        "id": "ZXodDhOsqJB_"
      },
      "execution_count": null,
      "outputs": []
    },
    {
      "cell_type": "code",
      "source": [
        "# why are we seeing a strange graph?\n",
        "# There are different value for the cities all raound the country we need to configure the data to bether understaand this\n",
        "fig, ax = plt.subplots(figsize=(16, 6)) # thiss saves the fig  in the ax \n",
        "ax = sns.lineplot(data=dfpc, x=\"Fecha\", y=\"Precio KG\")# the ax value i the plotting of the cart\n",
        "ax.set(\n",
        "xlabel=\"Fecha\",\n",
        "ylabel=\"Precio KG\",\n",
        ")\n",
        "ax.set_title(t)"
      ],
      "metadata": {
        "colab": {
          "base_uri": "https://localhost:8080/",
          "height": 582
        },
        "id": "N7rEBWpBNS_n",
        "outputId": "f2747ded-300a-4aca-b804-7cf169b8ef59"
      },
      "execution_count": null,
      "outputs": [
        {
          "output_type": "execute_result",
          "data": {
            "text/plain": [
              "Text(0.5, 1.0, 'Precio KG de Pechuga de pollo en Ibague')"
            ]
          },
          "metadata": {},
          "execution_count": 28
        },
        {
          "output_type": "display_data",
          "data": {
            "text/plain": [
              "<Figure size 1600x600 with 1 Axes>"
            ],
            "image/png": "[encoded data removed]"
          },
          "metadata": {}
        }
      ]
    },
    {
      "cell_type": "code",
      "source": [
        "dfpc.describe()"
      ],
      "metadata": {
        "colab": {
          "base_uri": "https://localhost:8080/",
          "height": 300
        },
        "id": "TmFVUvNau7HI",
        "outputId": "b56ace08-def7-4730-e2b9-a01bcc1de4ac"
      },
      "execution_count": null,
      "outputs": [
        {
          "output_type": "execute_result",
          "data": {
            "text/plain": [
              "          Precio KG\n",
              "count     48.000000\n",
              "mean    9803.583333\n",
              "std     1923.821516\n",
              "min     7488.000000\n",
              "25%     7957.000000\n",
              "50%     9190.000000\n",
              "75%    11941.500000\n",
              "max    12933.000000"
            ],
            "text/html": [
              "\n",
              "  <div id=\"df-27ec853f-22ce-4f7c-9886-8f559ded8882\">\n",
              "    <div class=\"colab-df-container\">\n",
              "      <div>\n",
              "<style scoped>\n",
              "    .dataframe tbody tr th:only-of-type {\n",
              "        vertical-align: middle;\n",
              "    }\n",
              "\n",
              "    .dataframe tbody tr th {\n",
              "        vertical-align: top;\n",
              "    }\n",
              "\n",
              "    .dataframe thead th {\n",
              "        text-align: right;\n",
              "    }\n",
              "</style>\n",
              "<table border=\"1\" class=\"dataframe\">\n",
              "  <thead>\n",
              "    <tr style=\"text-align: right;\">\n",
              "      <th></th>\n",
              "      <th>Precio KG</th>\n",
              "    </tr>\n",
              "  </thead>\n",
              "  <tbody>\n",
              "    <tr>\n",
              "      <th>count</th>\n",
              "      <td>48.000000</td>\n",
              "    </tr>\n",
              "    <tr>\n",
              "      <th>mean</th>\n",
              "      <td>9803.583333</td>\n",
              "    </tr>\n",
              "    <tr>\n",
              "      <th>std</th>\n",
              "      <td>1923.821516</td>\n",
              "    </tr>\n",
              "    <tr>\n",
              "      <th>min</th>\n",
              "      <td>7488.000000</td>\n",
              "    </tr>\n",
              "    <tr>\n",
              "      <th>25%</th>\n",
              "      <td>7957.000000</td>\n",
              "    </tr>\n",
              "    <tr>\n",
              "      <th>50%</th>\n",
              "      <td>9190.000000</td>\n",
              "    </tr>\n",
              "    <tr>\n",
              "      <th>75%</th>\n",
              "      <td>11941.500000</td>\n",
              "    </tr>\n",
              "    <tr>\n",
              "      <th>max</th>\n",
              "      <td>12933.000000</td>\n",
              "    </tr>\n",
              "  </tbody>\n",
              "</table>\n",
              "</div>\n",
              "      <button class=\"colab-df-convert\" onclick=\"convertToInteractive('df-27ec853f-22ce-4f7c-9886-8f559ded8882')\"\n",
              "              title=\"Convert this dataframe to an interactive table.\"\n",
              "              style=\"display:none;\">\n",
              "        \n",
              "  <svg xmlns=\"http://www.w3.org/2000/svg\" height=\"24px\"viewBox=\"0 0 24 24\"\n",
              "       width=\"24px\">\n",
              "    <path d=\"M0 0h24v24H0V0z\" fill=\"none\"/>\n",
              "    <path d=\"M18.56 5.44l.94 2.06.94-2.06 2.06-.94-2.06-.94-.94-2.06-.94 2.06-2.06.94zm-11 1L8.5 8.5l.94-2.06 2.06-.94-2.06-.94L8.5 2.5l-.94 2.06-2.06.94zm10 10l.94 2.06.94-2.06 2.06-.94-2.06-.94-.94-2.06-.94 2.06-2.06.94z\"/><path d=\"M17.41 7.96l-1.37-1.37c-.4-.4-.92-.59-1.43-.59-.52 0-1.04.2-1.43.59L10.3 9.45l-7.72 7.72c-.78.78-.78 2.05 0 2.83L4 21.41c.39.39.9.59 1.41.59.51 0 1.02-.2 1.41-.59l7.78-7.78 2.81-2.81c.8-.78.8-2.07 0-2.86zM5.41 20L4 18.59l7.72-7.72 1.47 1.35L5.41 20z\"/>\n",
              "  </svg>\n",
              "      </button>\n",
              "      \n",
              "  <style>\n",
              "    .colab-df-container {\n",
              "      display:flex;\n",
              "      flex-wrap:wrap;\n",
              "      gap: 12px;\n",
              "    }\n",
              "\n",
              "    .colab-df-convert {\n",
              "      background-color: #E8F0FE;\n",
              "      border: none;\n",
              "      border-radius: 50%;\n",
              "      cursor: pointer;\n",
              "      display: none;\n",
              "      fill: #1967D2;\n",
              "      height: 32px;\n",
              "      padding: 0 0 0 0;\n",
              "      width: 32px;\n",
              "    }\n",
              "\n",
              "    .colab-df-convert:hover {\n",
              "      background-color: #E2EBFA;\n",
              "      box-shadow: 0px 1px 2px rgba(60, 64, 67, 0.3), 0px 1px 3px 1px rgba(60, 64, 67, 0.15);\n",
              "      fill: #174EA6;\n",
              "    }\n",
              "\n",
              "    [theme=dark] .colab-df-convert {\n",
              "      background-color: #3B4455;\n",
              "      fill: #D2E3FC;\n",
              "    }\n",
              "\n",
              "    [theme=dark] .colab-df-convert:hover {\n",
              "      background-color: #434B5C;\n",
              "      box-shadow: 0px 1px 3px 1px rgba(0, 0, 0, 0.15);\n",
              "      filter: drop-shadow(0px 1px 2px rgba(0, 0, 0, 0.3));\n",
              "      fill: #FFFFFF;\n",
              "    }\n",
              "  </style>\n",
              "\n",
              "      <script>\n",
              "        const buttonEl =\n",
              "          document.querySelector('#df-27ec853f-22ce-4f7c-9886-8f559ded8882 button.colab-df-convert');\n",
              "        buttonEl.style.display =\n",
              "          google.colab.kernel.accessAllowed ? 'block' : 'none';\n",
              "\n",
              "        async function convertToInteractive(key) {\n",
              "          const element = document.querySelector('#df-27ec853f-22ce-4f7c-9886-8f559ded8882');\n",
              "          const dataTable =\n",
              "            await google.colab.kernel.invokeFunction('convertToInteractive',\n",
              "                                                     [key], {});\n",
              "          if (!dataTable) return;\n",
              "\n",
              "          const docLinkHtml = 'Like what you see? Visit the ' +\n",
              "            '<a target=\"_blank\" href=https://colab.research.google.com/notebooks/data_table.ipynb>data table notebook</a>'\n",
              "            + ' to learn more about interactive tables.';\n",
              "          element.innerHTML = '';\n",
              "          dataTable['output_type'] = 'display_data';\n",
              "          await google.colab.output.renderOutput(dataTable, element);\n",
              "          const docLink = document.createElement('div');\n",
              "          docLink.innerHTML = docLinkHtml;\n",
              "          element.appendChild(docLink);\n",
              "        }\n",
              "      </script>\n",
              "    </div>\n",
              "  </div>\n",
              "  "
            ]
          },
          "metadata": {},
          "execution_count": 29
        }
      ]
    },
    {
      "cell_type": "code",
      "source": [
        "# instead of having a list we could also see it in the graph to get a better understanding of the min a max values\n",
        "# this is a new datafrme called point\n",
        "point = (dfpc['Precio KG'].min()) + (dfpc['Precio KG'].max())\n",
        "point"
      ],
      "metadata": {
        "id": "t9NnyBhEyD5g",
        "colab": {
          "base_uri": "https://localhost:8080/"
        },
        "outputId": "cdf6cbf1-db1a-433c-f43b-2ea9acc7692b"
      },
      "execution_count": null,
      "outputs": [
        {
          "output_type": "execute_result",
          "data": {
            "text/plain": [
              "20421.0"
            ]
          },
          "metadata": {},
          "execution_count": 30
        }
      ]
    },
    {
      "cell_type": "code",
      "source": [
        "# this is the y axis list that will have the mean value over the entire len of the dataframe\n",
        "y=dfpc['Precio KG']\n",
        "x=dfpc.index\n",
        "y_avg = [np.mean(y)] * len(x)\n",
        "# now we need a new line but with the mean value of the year 2022 but that crosses the entire year\n",
        "y_22 = dfpc.loc[\"2022\":\"2023\",\"Precio KG\"]\n",
        "y_avg22=[np.mean(y_22)]* len(x)"
      ],
      "metadata": {
        "id": "XJ50lrnnUzye"
      },
      "execution_count": null,
      "outputs": []
    },
    {
      "cell_type": "code",
      "source": [
        "# this proof that this linnne of code will change be a range of values that are all the same average and has a lenght of a specified array\n",
        "[np.mean(y_avg22)]* len(x)"
      ],
      "metadata": {
        "id": "43RrSEXw3SrG",
        "colab": {
          "base_uri": "https://localhost:8080/"
        },
        "outputId": "8a4706bc-a597-437f-f5c6-52be80d6f1a5"
      },
      "execution_count": null,
      "outputs": [
        {
          "output_type": "execute_result",
          "data": {
            "text/plain": [
              "[12168.666666666666,\n",
              " 12168.666666666666,\n",
              " 12168.666666666666,\n",
              " 12168.666666666666,\n",
              " 12168.666666666666,\n",
              " 12168.666666666666,\n",
              " 12168.666666666666,\n",
              " 12168.666666666666,\n",
              " 12168.666666666666,\n",
              " 12168.666666666666,\n",
              " 12168.666666666666,\n",
              " 12168.666666666666,\n",
              " 12168.666666666666,\n",
              " 12168.666666666666,\n",
              " 12168.666666666666,\n",
              " 12168.666666666666,\n",
              " 12168.666666666666,\n",
              " 12168.666666666666,\n",
              " 12168.666666666666,\n",
              " 12168.666666666666,\n",
              " 12168.666666666666,\n",
              " 12168.666666666666,\n",
              " 12168.666666666666,\n",
              " 12168.666666666666,\n",
              " 12168.666666666666,\n",
              " 12168.666666666666,\n",
              " 12168.666666666666,\n",
              " 12168.666666666666,\n",
              " 12168.666666666666,\n",
              " 12168.666666666666,\n",
              " 12168.666666666666,\n",
              " 12168.666666666666,\n",
              " 12168.666666666666,\n",
              " 12168.666666666666,\n",
              " 12168.666666666666,\n",
              " 12168.666666666666,\n",
              " 12168.666666666666,\n",
              " 12168.666666666666,\n",
              " 12168.666666666666,\n",
              " 12168.666666666666,\n",
              " 12168.666666666666,\n",
              " 12168.666666666666,\n",
              " 12168.666666666666,\n",
              " 12168.666666666666,\n",
              " 12168.666666666666,\n",
              " 12168.666666666666,\n",
              " 12168.666666666666,\n",
              " 12168.666666666666]"
            ]
          },
          "metadata": {},
          "execution_count": 32
        }
      ]
    },
    {
      "cell_type": "code",
      "source": [
        "y_avg22 = dfpc.loc[\"2022\":\"2023\",\"Precio KG\"]"
      ],
      "metadata": {
        "id": "iKqH96Yr3Srm"
      },
      "execution_count": null,
      "outputs": []
    },
    {
      "cell_type": "code",
      "source": [
        "# here i noted that is is first necessary to call the size of the figure general atrubites like the x annd y labels \n",
        "# and then set every plot that we wanted\n",
        "x = dfpc.index\n",
        "y = dfpc['Precio KG']\n",
        "y_avg = [np.mean(y)] * len(x)\n",
        "y_22 = dfpc.loc[\"2022\":\"2023\",\"Precio KG\"]\n",
        "y_avg22=[np.mean(y_22)]* len(x)\n",
        "plt.figure(figsize=(8,4))\n",
        "plt.title(t)\n",
        "plt.xlabel('Fecha')\n",
        "plt.ylabel('Precio KG')\n",
        "plt.plot(x, y)\n",
        "plt.plot(x, y_avg, color='red', ls='--')\n",
        "plt.plot(x,y_avg22, color=\"green\",ls=\"--\")\n",
        "plt.show()"
      ],
      "metadata": {
        "colab": {
          "base_uri": "https://localhost:8080/",
          "height": 410
        },
        "outputId": "9e0070cb-2534-4cc4-98ba-f74dcb7f38bb",
        "id": "MKBoOi3OafEQ"
      },
      "execution_count": null,
      "outputs": [
        {
          "output_type": "display_data",
          "data": {
            "text/plain": [
              "<Figure size 800x400 with 1 Axes>"
            ],
            "image/png": "[encoded data removed]"
          },
          "metadata": {}
        }
      ]
    },
    {
      "cell_type": "code",
      "source": [
        "# here i noted that is is first necessary to call the size of the figure general atrubites like the x annd y labels \n",
        "# and then set every plot that we wanted\n",
        "x = dfpc.index\n",
        "y = dfpc['Precio KG']\n",
        "y_avg = [np.mean(y)] * len(x)\n",
        "y_22 = dfpc.loc[\"2022\":\"2023\",\"Precio KG\"]\n",
        "y_avg22=[np.mean(y_22)]* len(x)\n",
        "plt.figure(figsize=(16,6))\n",
        "plt.title(t)\n",
        "plt.xlabel('Fecha')\n",
        "plt.ylabel('Precio KG')\n",
        "sns.lineplot(data =dfpc,x='Fecha',y='Precio KG',label ='PRICE')\n",
        "plt.plot(x, y_avg, color='red', ls='--',label ='avg 2019-2022')\n",
        "plt.plot(x,y_avg22, color=\"green\",ls=\"--\",label='avg 2022')\n",
        "plt.legend(loc=\"upper left\")\n",
        "plt.show()\n",
        "\n",
        "# now you can see that thiss line of seaborn .plotline is a better fit for our data \n",
        "# as the blue line representes the mean of all the valuess and \n",
        "# the gradient blue will represent data that represent each mean of the day calculated "
      ],
      "metadata": {
        "colab": {
          "base_uri": "https://localhost:8080/",
          "height": 564
        },
        "outputId": "9b2ca0c7-a568-4524-f513-76de6811c72b",
        "id": "FzE7lWceEbS5"
      },
      "execution_count": null,
      "outputs": [
        {
          "output_type": "display_data",
          "data": {
            "text/plain": [
              "<Figure size 1600x600 with 1 Axes>"
            ],
            "image/png": "[encoded data removed]"
          },
          "metadata": {}
        }
      ]
    },
    {
      "cell_type": "code",
      "source": [
        "# here we can see that for a single day of the month we get various values thanks to the different WHOLESALE markets\n",
        "# that is why we get a timelinen gragh that does'nt look normal \n",
        "# maybe we should use other type of grapgh to better represent the differrent prices that you can see in a normal day \n",
        "dfpc.head()\n",
        "'how to make a candle timeline in matplotlib'"
      ],
      "metadata": {
        "colab": {
          "base_uri": "https://localhost:8080/",
          "height": 36
        },
        "id": "OzOIEdhi9uVG",
        "outputId": "7422b632-49f1-4036-c11b-427327a16a02"
      },
      "execution_count": null,
      "outputs": [
        {
          "output_type": "execute_result",
          "data": {
            "text/plain": [
              "'how to make a candle timeline in matplotlib'"
            ],
            "application/vnd.google.colaboratory.intrinsic+json": {
              "type": "string"
            }
          },
          "metadata": {},
          "execution_count": 36
        }
      ]
    },
    {
      "cell_type": "code",
      "source": [
        "sns.lineplot(data=dfpc, x=\"Fecha\", y=\"Precio KG\")"
      ],
      "metadata": {
        "colab": {
          "base_uri": "https://localhost:8080/",
          "height": 467
        },
        "id": "7p1bahy9D73V",
        "outputId": "3b3c456b-55b1-4392-fbff-c16287afc70e"
      },
      "execution_count": null,
      "outputs": [
        {
          "output_type": "execute_result",
          "data": {
            "text/plain": [
              "<Axes: xlabel='Fecha', ylabel='Precio KG'>"
            ]
          },
          "metadata": {},
          "execution_count": 37
        },
        {
          "output_type": "display_data",
          "data": {
            "text/plain": [
              "<Figure size 640x480 with 1 Axes>"
            ],
            "image/png": "[encoded data removed]"
          },
          "metadata": {}
        }
      ]
    },
    {
      "cell_type": "code",
      "source": [
        "# here you will find the prices with less and more variationa across the cities \n",
        "print(dfpc.describe().round())\n",
        "print(t)\n",
        "print(dfp.describe().round())"
      ],
      "metadata": {
        "id": "nZ0u2Cvwchac",
        "colab": {
          "base_uri": "https://localhost:8080/"
        },
        "outputId": "0bee866b-c56c-4617-91fc-f57ac55b58ff"
      },
      "execution_count": null,
      "outputs": [
        {
          "output_type": "stream",
          "name": "stdout",
          "text": [
            "       Precio KG\n",
            "count       48.0\n",
            "mean      9804.0\n",
            "std       1924.0\n",
            "min       7488.0\n",
            "25%       7957.0\n",
            "50%       9190.0\n",
            "75%      11942.0\n",
            "max      12933.0\n",
            "Precio KG de Pechuga de pollo en Ibague\n",
            "       Precio KG\n",
            "count     1439.0\n",
            "mean      9987.0\n",
            "std       2519.0\n",
            "min       5156.0\n",
            "25%       7819.0\n",
            "50%       9227.0\n",
            "75%      12125.0\n",
            "max      18100.0\n"
          ]
        }
      ]
    },
    {
      "cell_type": "code",
      "source": [
        "# here we are seeing the product and its standart deviaation by citie \n",
        "# so we can see where are the products with less variation in its prices\n",
        "# it is correct the clarify that less variation in the prices \n",
        "# doesn't necessarly meaan lower prices\n",
        "std=dfp.groupby('Ciudad')['Precio KG'].std().round()\n",
        "mis = std.nlargest(5)\n",
        "mas = std.nsmallest(5)\n",
        "print(mis)\n",
        "print(mas)"
      ],
      "metadata": {
        "id": "z1M-O_HymbaH",
        "colab": {
          "base_uri": "https://localhost:8080/"
        },
        "outputId": "955e5700-a0ab-4a9b-9170-1fc42233299c"
      },
      "execution_count": null,
      "outputs": [
        {
          "output_type": "stream",
          "name": "stdout",
          "text": [
            "Ciudad\n",
            "Pasto                  3311.0\n",
            "Florencia (Caqueta)    2599.0\n",
            "Manizales              2474.0\n",
            "Popayan                2464.0\n",
            "Cartagena              2435.0\n",
            "Name: Precio KG, dtype: float64\n",
            "Ciudad\n",
            "Ibague                     1924.0\n",
            "Santa Marta (Magdalena)    2007.0\n",
            "Villavicencio              2067.0\n",
            "Neiva                      2117.0\n",
            "Arauca (Arauca)            2137.0\n",
            "Name: Precio KG, dtype: float64\n"
          ]
        }
      ]
    },
    {
      "cell_type": "code",
      "source": [
        "# here you can see that we use the same function to call the max a min values of the dataframe \n",
        "# maaybe we can use a function to save lines of code\n",
        "M= dfp.groupby('Ciudad')['Precio KG'].mean()\n",
        "mi = M.nlargest(5)\n",
        "ma = M.nsmallest(5)\n",
        "print(mi)\n",
        "print(ma)"
      ],
      "metadata": {
        "id": "I6OYw9__uOaN",
        "colab": {
          "base_uri": "https://localhost:8080/"
        },
        "outputId": "7244f6c5-b2be-4e46-f8d8-e4861f564c43"
      },
      "execution_count": null,
      "outputs": [
        {
          "output_type": "stream",
          "name": "stdout",
          "text": [
            "Ciudad\n",
            "Pasto                        13043.145833\n",
            "Tulua (Valle del Cauca)      11370.937500\n",
            "Bucaramanga                  11311.645833\n",
            "Palmira (Valle del Cauca)    10687.437500\n",
            "Popayan                      10391.937500\n",
            "Name: Precio KG, dtype: float64\n",
            "Ciudad\n",
            "Arauca (Arauca)            8280.729167\n",
            "Valledupar                 8465.291667\n",
            "Barranquilla               8959.364583\n",
            "Cúcuta                     9224.187500\n",
            "Santa Marta (Magdalena)    9316.625000\n",
            "Name: Precio KG, dtype: float64\n"
          ]
        }
      ]
    },
    {
      "cell_type": "code",
      "source": [
        "dfpc.loc['2019':'2019-12']"
      ],
      "metadata": {
        "colab": {
          "base_uri": "https://localhost:8080/",
          "height": 457
        },
        "id": "loFZIU2mWFTh",
        "outputId": "371444b7-a4a4-4d8a-d813-cac90fcc51a5"
      },
      "execution_count": null,
      "outputs": [
        {
          "output_type": "execute_result",
          "data": {
            "text/plain": [
              "             Grupo          Producto  Precio KG  Ciudad         Plaza\n",
              "Fecha                                                                \n",
              "2019-01-01  carnes  Pechuga de pollo     7927.0  Ibague   Plaza La 21\n",
              "2019-02-01  carnes  Pechuga de pollo     7817.0  Ibague   Plaza La 21\n",
              "2019-03-01  carnes  Pechuga de pollo     7821.0  Ibague   Plaza La 21\n",
              "2019-04-01  carnes  Pechuga de pollo     7827.0  Ibague   Plaza La 21\n",
              "2019-05-01  carnes  Pechuga de pollo     7767.0  Ibague   Plaza La 21\n",
              "2019-06-01  carnes  Pechuga de pollo     7733.0  Ibague   Plaza La 21\n",
              "2019-07-01  carnes  Pechuga de pollo     7693.0  Ibague   Plaza La 21\n",
              "2019-08-01  carnes  Pechuga de pollo     7800.0  Ibague   Plaza La 21\n",
              "2019-09-01  carnes  Pechuga de pollo     7967.0  Ibague   Plaza La 21\n",
              "2019-10-01  carnes  Pechuga de pollo     8053.0  Ibague   Plaza La 21\n",
              "2019-11-01  carnes  Pechuga de pollo     8094.0  Ibague   Plaza La 21\n",
              "2019-12-01  carnes  Pechuga de pollo     8350.0  Ibague   Plaza La 21"
            ],
            "text/html": [
              "\n",
              "  <div id=\"df-2746071c-1492-494e-a6cf-baa45002307e\">\n",
              "    <div class=\"colab-df-container\">\n",
              "      <div>\n",
              "<style scoped>\n",
              "    .dataframe tbody tr th:only-of-type {\n",
              "        vertical-align: middle;\n",
              "    }\n",
              "\n",
              "    .dataframe tbody tr th {\n",
              "        vertical-align: top;\n",
              "    }\n",
              "\n",
              "    .dataframe thead th {\n",
              "        text-align: right;\n",
              "    }\n",
              "</style>\n",
              "<table border=\"1\" class=\"dataframe\">\n",
              "  <thead>\n",
              "    <tr style=\"text-align: right;\">\n",
              "      <th></th>\n",
              "      <th>Grupo</th>\n",
              "      <th>Producto</th>\n",
              "      <th>Precio KG</th>\n",
              "      <th>Ciudad</th>\n",
              "      <th>Plaza</th>\n",
              "    </tr>\n",
              "    <tr>\n",
              "      <th>Fecha</th>\n",
              "      <th></th>\n",
              "      <th></th>\n",
              "      <th></th>\n",
              "      <th></th>\n",
              "      <th></th>\n",
              "    </tr>\n",
              "  </thead>\n",
              "  <tbody>\n",
              "    <tr>\n",
              "      <th>2019-01-01</th>\n",
              "      <td>carnes</td>\n",
              "      <td>Pechuga de pollo</td>\n",
              "      <td>7927.0</td>\n",
              "      <td>Ibague</td>\n",
              "      <td>Plaza La 21</td>\n",
              "    </tr>\n",
              "    <tr>\n",
              "      <th>2019-02-01</th>\n",
              "      <td>carnes</td>\n",
              "      <td>Pechuga de pollo</td>\n",
              "      <td>7817.0</td>\n",
              "      <td>Ibague</td>\n",
              "      <td>Plaza La 21</td>\n",
              "    </tr>\n",
              "    <tr>\n",
              "      <th>2019-03-01</th>\n",
              "      <td>carnes</td>\n",
              "      <td>Pechuga de pollo</td>\n",
              "      <td>7821.0</td>\n",
              "      <td>Ibague</td>\n",
              "      <td>Plaza La 21</td>\n",
              "    </tr>\n",
              "    <tr>\n",
              "      <th>2019-04-01</th>\n",
              "      <td>carnes</td>\n",
              "      <td>Pechuga de pollo</td>\n",
              "      <td>7827.0</td>\n",
              "      <td>Ibague</td>\n",
              "      <td>Plaza La 21</td>\n",
              "    </tr>\n",
              "    <tr>\n",
              "      <th>2019-05-01</th>\n",
              "      <td>carnes</td>\n",
              "      <td>Pechuga de pollo</td>\n",
              "      <td>7767.0</td>\n",
              "      <td>Ibague</td>\n",
              "      <td>Plaza La 21</td>\n",
              "    </tr>\n",
              "    <tr>\n",
              "      <th>2019-06-01</th>\n",
              "      <td>carnes</td>\n",
              "      <td>Pechuga de pollo</td>\n",
              "      <td>7733.0</td>\n",
              "      <td>Ibague</td>\n",
              "      <td>Plaza La 21</td>\n",
              "    </tr>\n",
              "    <tr>\n",
              "      <th>2019-07-01</th>\n",
              "      <td>carnes</td>\n",
              "      <td>Pechuga de pollo</td>\n",
              "      <td>7693.0</td>\n",
              "      <td>Ibague</td>\n",
              "      <td>Plaza La 21</td>\n",
              "    </tr>\n",
              "    <tr>\n",
              "      <th>2019-08-01</th>\n",
              "      <td>carnes</td>\n",
              "      <td>Pechuga de pollo</td>\n",
              "      <td>7800.0</td>\n",
              "      <td>Ibague</td>\n",
              "      <td>Plaza La 21</td>\n",
              "    </tr>\n",
              "    <tr>\n",
              "      <th>2019-09-01</th>\n",
              "      <td>carnes</td>\n",
              "      <td>Pechuga de pollo</td>\n",
              "      <td>7967.0</td>\n",
              "      <td>Ibague</td>\n",
              "      <td>Plaza La 21</td>\n",
              "    </tr>\n",
              "    <tr>\n",
              "      <th>2019-10-01</th>\n",
              "      <td>carnes</td>\n",
              "      <td>Pechuga de pollo</td>\n",
              "      <td>8053.0</td>\n",
              "      <td>Ibague</td>\n",
              "      <td>Plaza La 21</td>\n",
              "    </tr>\n",
              "    <tr>\n",
              "      <th>2019-11-01</th>\n",
              "      <td>carnes</td>\n",
              "      <td>Pechuga de pollo</td>\n",
              "      <td>8094.0</td>\n",
              "      <td>Ibague</td>\n",
              "      <td>Plaza La 21</td>\n",
              "    </tr>\n",
              "    <tr>\n",
              "      <th>2019-12-01</th>\n",
              "      <td>carnes</td>\n",
              "      <td>Pechuga de pollo</td>\n",
              "      <td>8350.0</td>\n",
              "      <td>Ibague</td>\n",
              "      <td>Plaza La 21</td>\n",
              "    </tr>\n",
              "  </tbody>\n",
              "</table>\n",
              "</div>\n",
              "      <button class=\"colab-df-convert\" onclick=\"convertToInteractive('df-2746071c-1492-494e-a6cf-baa45002307e')\"\n",
              "              title=\"Convert this dataframe to an interactive table.\"\n",
              "              style=\"display:none;\">\n",
              "        \n",
              "  <svg xmlns=\"http://www.w3.org/2000/svg\" height=\"24px\"viewBox=\"0 0 24 24\"\n",
              "       width=\"24px\">\n",
              "    <path d=\"M0 0h24v24H0V0z\" fill=\"none\"/>\n",
              "    <path d=\"M18.56 5.44l.94 2.06.94-2.06 2.06-.94-2.06-.94-.94-2.06-.94 2.06-2.06.94zm-11 1L8.5 8.5l.94-2.06 2.06-.94-2.06-.94L8.5 2.5l-.94 2.06-2.06.94zm10 10l.94 2.06.94-2.06 2.06-.94-2.06-.94-.94-2.06-.94 2.06-2.06.94z\"/><path d=\"M17.41 7.96l-1.37-1.37c-.4-.4-.92-.59-1.43-.59-.52 0-1.04.2-1.43.59L10.3 9.45l-7.72 7.72c-.78.78-.78 2.05 0 2.83L4 21.41c.39.39.9.59 1.41.59.51 0 1.02-.2 1.41-.59l7.78-7.78 2.81-2.81c.8-.78.8-2.07 0-2.86zM5.41 20L4 18.59l7.72-7.72 1.47 1.35L5.41 20z\"/>\n",
              "  </svg>\n",
              "      </button>\n",
              "      \n",
              "  <style>\n",
              "    .colab-df-container {\n",
              "      display:flex;\n",
              "      flex-wrap:wrap;\n",
              "      gap: 12px;\n",
              "    }\n",
              "\n",
              "    .colab-df-convert {\n",
              "      background-color: #E8F0FE;\n",
              "      border: none;\n",
              "      border-radius: 50%;\n",
              "      cursor: pointer;\n",
              "      display: none;\n",
              "      fill: #1967D2;\n",
              "      height: 32px;\n",
              "      padding: 0 0 0 0;\n",
              "      width: 32px;\n",
              "    }\n",
              "\n",
              "    .colab-df-convert:hover {\n",
              "      background-color: #E2EBFA;\n",
              "      box-shadow: 0px 1px 2px rgba(60, 64, 67, 0.3), 0px 1px 3px 1px rgba(60, 64, 67, 0.15);\n",
              "      fill: #174EA6;\n",
              "    }\n",
              "\n",
              "    [theme=dark] .colab-df-convert {\n",
              "      background-color: #3B4455;\n",
              "      fill: #D2E3FC;\n",
              "    }\n",
              "\n",
              "    [theme=dark] .colab-df-convert:hover {\n",
              "      background-color: #434B5C;\n",
              "      box-shadow: 0px 1px 3px 1px rgba(0, 0, 0, 0.15);\n",
              "      filter: drop-shadow(0px 1px 2px rgba(0, 0, 0, 0.3));\n",
              "      fill: #FFFFFF;\n",
              "    }\n",
              "  </style>\n",
              "\n",
              "      <script>\n",
              "        const buttonEl =\n",
              "          document.querySelector('#df-2746071c-1492-494e-a6cf-baa45002307e button.colab-df-convert');\n",
              "        buttonEl.style.display =\n",
              "          google.colab.kernel.accessAllowed ? 'block' : 'none';\n",
              "\n",
              "        async function convertToInteractive(key) {\n",
              "          const element = document.querySelector('#df-2746071c-1492-494e-a6cf-baa45002307e');\n",
              "          const dataTable =\n",
              "            await google.colab.kernel.invokeFunction('convertToInteractive',\n",
              "                                                     [key], {});\n",
              "          if (!dataTable) return;\n",
              "\n",
              "          const docLinkHtml = 'Like what you see? Visit the ' +\n",
              "            '<a target=\"_blank\" href=https://colab.research.google.com/notebooks/data_table.ipynb>data table notebook</a>'\n",
              "            + ' to learn more about interactive tables.';\n",
              "          element.innerHTML = '';\n",
              "          dataTable['output_type'] = 'display_data';\n",
              "          await google.colab.output.renderOutput(dataTable, element);\n",
              "          const docLink = document.createElement('div');\n",
              "          docLink.innerHTML = docLinkHtml;\n",
              "          element.appendChild(docLink);\n",
              "        }\n",
              "      </script>\n",
              "    </div>\n",
              "  </div>\n",
              "  "
            ]
          },
          "metadata": {},
          "execution_count": 41
        }
      ]
    },
    {
      "cell_type": "code",
      "source": [
        "# i reset the index from date to the a normal index to then plot it is it results in a lot of problem using a \n",
        "# timestamp and trying to plot a scatterplot there is a incompatibility problem between matplotlib and seaborn and pandas timestamp\n"
      ],
      "metadata": {
        "id": "BQMoYrKVY3Oy"
      },
      "execution_count": null,
      "outputs": []
    },
    {
      "cell_type": "code",
      "source": [
        "# dflin as dataframe linear analysis\n",
        "dflin = dfpc.reset_index()"
      ],
      "metadata": {
        "id": "FQhwhlUPV_uT"
      },
      "execution_count": null,
      "outputs": []
    },
    {
      "cell_type": "code",
      "source": [
        "# HERE YOU CAN FIND THE mean of every year for posterrior analysis and graphics\n",
        "# then i convert the series into a pandas dataframe to plot it more easily\n",
        "\n",
        "n = dflin.groupby(dflin.Fecha.dt.year)['Precio KG'].mean()\n",
        "# here we use a grioupby function to get the mean of every year selecting the grouping as .year and then plotting the price and the mean of it\n",
        "# with this to_frame we convert this series into a pandas dataframe\n",
        "Year_mean = n.to_frame(name=\"Precio Promedio\")\n",
        "# here i change the column name to better practices\n",
        "Year_mean.columns =['Precio KG']"
      ],
      "metadata": {
        "id": "Ix8BKNybqkgg"
      },
      "execution_count": null,
      "outputs": []
    },
    {
      "cell_type": "code",
      "source": [
        "# here i should create a new column in the data frame with the length of the line that i want to plot "
      ],
      "metadata": {
        "id": "loT1GdxXjJ0E"
      },
      "execution_count": null,
      "outputs": []
    },
    {
      "cell_type": "code",
      "source": [
        "# here we confirm that all done its right\n",
        "n.index"
      ],
      "metadata": {
        "colab": {
          "base_uri": "https://localhost:8080/"
        },
        "id": "_MeHgna4t_Ax",
        "outputId": "228d8a29-09a6-48ae-bce2-2e13efc07365"
      },
      "execution_count": null,
      "outputs": [
        {
          "output_type": "execute_result",
          "data": {
            "text/plain": [
              "Int64Index([2019, 2020, 2021, 2022], dtype='int64', name='Fecha')"
            ]
          },
          "metadata": {},
          "execution_count": 93
        }
      ]
    },
    {
      "cell_type": "code",
      "source": [
        "Year_mean_x = Year_mean.index\n",
        "Year_mean_y = Year_mean['Precio KG']\n",
        "plt.plot(Year_mean_x,Year_mean_y,label='avg 2022',marker=\"o\")"
      ],
      "metadata": {
        "colab": {
          "base_uri": "https://localhost:8080/",
          "height": 448
        },
        "id": "0PQTyjHtcviG",
        "outputId": "00b54860-4a18-4bec-8999-81072c6d5785"
      },
      "execution_count": null,
      "outputs": [
        {
          "output_type": "execute_result",
          "data": {
            "text/plain": [
              "[<matplotlib.lines.Line2D at 0x7f1d081c6610>]"
            ]
          },
          "metadata": {},
          "execution_count": 90
        },
        {
          "output_type": "display_data",
          "data": {
            "text/plain": [
              "<Figure size 640x480 with 1 Axes>"
            ],
            "image/png": "[encoded data removed]"
          },
          "metadata": {}
        }
      ]
    },
    {
      "cell_type": "code",
      "source": [
        "x = dfpc.index\n",
        "y = dfpc['Precio KG']\n",
        "y_avg = [np.mean(y)] * len(x)\n",
        "y_22 = dfpc.loc[\"2022\":\"2023\",\"Precio KG\"]\n",
        "y_avg22=[np.mean(y_22)]* len(x)\n",
        "Year_mean_x = Year_mean.index\n",
        "Year_mean_y = Year_mean['Precio KG']\n",
        "plt.figure(figsize=(16,6))\n",
        "plt.title(t)\n",
        "plt.xlabel('Fecha')\n",
        "plt.ylabel('Precio KG')\n",
        "plt.plot(Year_mean_x,Year_mean_y,label='avg 2022',marker=\"o\")\n",
        "sns.lineplot(data =dfpc,x='Fecha',y='Precio KG',label ='Datos')\n",
        "plt.plot(x, y_avg, color='red', ls='--',label ='avg 2019-2022')\n",
        "plt.plot(x,y_avg22, color=\"green\",ls=\"--\",label='avg 2022')\n",
        "\n",
        "\n",
        "plt.legend(loc=\"upper left\")\n",
        "plt.show()\n"
      ],
      "metadata": {
        "colab": {
          "base_uri": "https://localhost:8080/",
          "height": 564
        },
        "id": "0nQWI78zSl_f",
        "outputId": "2d76bd7a-d489-418e-88a3-0a81d819f2e1"
      },
      "execution_count": null,
      "outputs": [
        {
          "output_type": "display_data",
          "data": {
            "text/plain": [
              "<Figure size 1600x600 with 1 Axes>"
            ],
            "image/png": "[encoded data removed]"
          },
          "metadata": {}
        }
      ]
    },
    {
      "cell_type": "code",
      "source": [],
      "metadata": {
        "id": "xvRFQP7LZqMV"
      },
      "execution_count": null,
      "outputs": []
    },
    {
      "cell_type": "code",
      "source": [
        "# here now i need to use a dict to plot the year insstead oif the number of every index \n",
        "sns.regplot(x=dflin.index, y=dflin['Precio KG'])\n"
      ],
      "metadata": {
        "colab": {
          "base_uri": "https://localhost:8080/",
          "height": 448
        },
        "id": "hC-aulHEeOmO",
        "outputId": "128cd362-05aa-49f4-ae48-b5ce9b436c6f"
      },
      "execution_count": null,
      "outputs": [
        {
          "output_type": "execute_result",
          "data": {
            "text/plain": [
              "<Axes: ylabel='Precio KG'>"
            ]
          },
          "metadata": {},
          "execution_count": 48
        },
        {
          "output_type": "display_data",
          "data": {
            "text/plain": [
              "<Figure size 640x480 with 1 Axes>"
            ],
            "image/png": "[encoded data removed]"
          },
          "metadata": {}
        }
      ]
    },
    {
      "cell_type": "code",
      "source": [
        "dfpc.head()"
      ],
      "metadata": {
        "colab": {
          "base_uri": "https://localhost:8080/",
          "height": 237
        },
        "id": "p0xNFjrPRnkE",
        "outputId": "1210edf4-dbc4-48f8-dd82-a56380fc6c62"
      },
      "execution_count": null,
      "outputs": [
        {
          "output_type": "execute_result",
          "data": {
            "text/plain": [
              "             Grupo          Producto  Precio KG  Ciudad         Plaza\n",
              "Fecha                                                                \n",
              "2019-01-01  carnes  Pechuga de pollo     7927.0  Ibague   Plaza La 21\n",
              "2019-02-01  carnes  Pechuga de pollo     7817.0  Ibague   Plaza La 21\n",
              "2019-03-01  carnes  Pechuga de pollo     7821.0  Ibague   Plaza La 21\n",
              "2019-04-01  carnes  Pechuga de pollo     7827.0  Ibague   Plaza La 21\n",
              "2019-05-01  carnes  Pechuga de pollo     7767.0  Ibague   Plaza La 21"
            ],
            "text/html": [
              "\n",
              "  <div id=\"df-f48eaa30-973a-4146-a113-e33e8a976d2d\">\n",
              "    <div class=\"colab-df-container\">\n",
              "      <div>\n",
              "<style scoped>\n",
              "    .dataframe tbody tr th:only-of-type {\n",
              "        vertical-align: middle;\n",
              "    }\n",
              "\n",
              "    .dataframe tbody tr th {\n",
              "        vertical-align: top;\n",
              "    }\n",
              "\n",
              "    .dataframe thead th {\n",
              "        text-align: right;\n",
              "    }\n",
              "</style>\n",
              "<table border=\"1\" class=\"dataframe\">\n",
              "  <thead>\n",
              "    <tr style=\"text-align: right;\">\n",
              "      <th></th>\n",
              "      <th>Grupo</th>\n",
              "      <th>Producto</th>\n",
              "      <th>Precio KG</th>\n",
              "      <th>Ciudad</th>\n",
              "      <th>Plaza</th>\n",
              "    </tr>\n",
              "    <tr>\n",
              "      <th>Fecha</th>\n",
              "      <th></th>\n",
              "      <th></th>\n",
              "      <th></th>\n",
              "      <th></th>\n",
              "      <th></th>\n",
              "    </tr>\n",
              "  </thead>\n",
              "  <tbody>\n",
              "    <tr>\n",
              "      <th>2019-01-01</th>\n",
              "      <td>carnes</td>\n",
              "      <td>Pechuga de pollo</td>\n",
              "      <td>7927.0</td>\n",
              "      <td>Ibague</td>\n",
              "      <td>Plaza La 21</td>\n",
              "    </tr>\n",
              "    <tr>\n",
              "      <th>2019-02-01</th>\n",
              "      <td>carnes</td>\n",
              "      <td>Pechuga de pollo</td>\n",
              "      <td>7817.0</td>\n",
              "      <td>Ibague</td>\n",
              "      <td>Plaza La 21</td>\n",
              "    </tr>\n",
              "    <tr>\n",
              "      <th>2019-03-01</th>\n",
              "      <td>carnes</td>\n",
              "      <td>Pechuga de pollo</td>\n",
              "      <td>7821.0</td>\n",
              "      <td>Ibague</td>\n",
              "      <td>Plaza La 21</td>\n",
              "    </tr>\n",
              "    <tr>\n",
              "      <th>2019-04-01</th>\n",
              "      <td>carnes</td>\n",
              "      <td>Pechuga de pollo</td>\n",
              "      <td>7827.0</td>\n",
              "      <td>Ibague</td>\n",
              "      <td>Plaza La 21</td>\n",
              "    </tr>\n",
              "    <tr>\n",
              "      <th>2019-05-01</th>\n",
              "      <td>carnes</td>\n",
              "      <td>Pechuga de pollo</td>\n",
              "      <td>7767.0</td>\n",
              "      <td>Ibague</td>\n",
              "      <td>Plaza La 21</td>\n",
              "    </tr>\n",
              "  </tbody>\n",
              "</table>\n",
              "</div>\n",
              "      <button class=\"colab-df-convert\" onclick=\"convertToInteractive('df-f48eaa30-973a-4146-a113-e33e8a976d2d')\"\n",
              "              title=\"Convert this dataframe to an interactive table.\"\n",
              "              style=\"display:none;\">\n",
              "        \n",
              "  <svg xmlns=\"http://www.w3.org/2000/svg\" height=\"24px\"viewBox=\"0 0 24 24\"\n",
              "       width=\"24px\">\n",
              "    <path d=\"M0 0h24v24H0V0z\" fill=\"none\"/>\n",
              "    <path d=\"M18.56 5.44l.94 2.06.94-2.06 2.06-.94-2.06-.94-.94-2.06-.94 2.06-2.06.94zm-11 1L8.5 8.5l.94-2.06 2.06-.94-2.06-.94L8.5 2.5l-.94 2.06-2.06.94zm10 10l.94 2.06.94-2.06 2.06-.94-2.06-.94-.94-2.06-.94 2.06-2.06.94z\"/><path d=\"M17.41 7.96l-1.37-1.37c-.4-.4-.92-.59-1.43-.59-.52 0-1.04.2-1.43.59L10.3 9.45l-7.72 7.72c-.78.78-.78 2.05 0 2.83L4 21.41c.39.39.9.59 1.41.59.51 0 1.02-.2 1.41-.59l7.78-7.78 2.81-2.81c.8-.78.8-2.07 0-2.86zM5.41 20L4 18.59l7.72-7.72 1.47 1.35L5.41 20z\"/>\n",
              "  </svg>\n",
              "      </button>\n",
              "      \n",
              "  <style>\n",
              "    .colab-df-container {\n",
              "      display:flex;\n",
              "      flex-wrap:wrap;\n",
              "      gap: 12px;\n",
              "    }\n",
              "\n",
              "    .colab-df-convert {\n",
              "      background-color: #E8F0FE;\n",
              "      border: none;\n",
              "      border-radius: 50%;\n",
              "      cursor: pointer;\n",
              "      display: none;\n",
              "      fill: #1967D2;\n",
              "      height: 32px;\n",
              "      padding: 0 0 0 0;\n",
              "      width: 32px;\n",
              "    }\n",
              "\n",
              "    .colab-df-convert:hover {\n",
              "      background-color: #E2EBFA;\n",
              "      box-shadow: 0px 1px 2px rgba(60, 64, 67, 0.3), 0px 1px 3px 1px rgba(60, 64, 67, 0.15);\n",
              "      fill: #174EA6;\n",
              "    }\n",
              "\n",
              "    [theme=dark] .colab-df-convert {\n",
              "      background-color: #3B4455;\n",
              "      fill: #D2E3FC;\n",
              "    }\n",
              "\n",
              "    [theme=dark] .colab-df-convert:hover {\n",
              "      background-color: #434B5C;\n",
              "      box-shadow: 0px 1px 3px 1px rgba(0, 0, 0, 0.15);\n",
              "      filter: drop-shadow(0px 1px 2px rgba(0, 0, 0, 0.3));\n",
              "      fill: #FFFFFF;\n",
              "    }\n",
              "  </style>\n",
              "\n",
              "      <script>\n",
              "        const buttonEl =\n",
              "          document.querySelector('#df-f48eaa30-973a-4146-a113-e33e8a976d2d button.colab-df-convert');\n",
              "        buttonEl.style.display =\n",
              "          google.colab.kernel.accessAllowed ? 'block' : 'none';\n",
              "\n",
              "        async function convertToInteractive(key) {\n",
              "          const element = document.querySelector('#df-f48eaa30-973a-4146-a113-e33e8a976d2d');\n",
              "          const dataTable =\n",
              "            await google.colab.kernel.invokeFunction('convertToInteractive',\n",
              "                                                     [key], {});\n",
              "          if (!dataTable) return;\n",
              "\n",
              "          const docLinkHtml = 'Like what you see? Visit the ' +\n",
              "            '<a target=\"_blank\" href=https://colab.research.google.com/notebooks/data_table.ipynb>data table notebook</a>'\n",
              "            + ' to learn more about interactive tables.';\n",
              "          element.innerHTML = '';\n",
              "          dataTable['output_type'] = 'display_data';\n",
              "          await google.colab.output.renderOutput(dataTable, element);\n",
              "          const docLink = document.createElement('div');\n",
              "          docLink.innerHTML = docLinkHtml;\n",
              "          element.appendChild(docLink);\n",
              "        }\n",
              "      </script>\n",
              "    </div>\n",
              "  </div>\n",
              "  "
            ]
          },
          "metadata": {},
          "execution_count": 53
        }
      ]
    },
    {
      "cell_type": "code",
      "source": [
        "# there is a problem in the conversion between matplotlib and csipy you could usse \n",
        "# then i change the index to a normal array instead of using the Date Time\n",
        "dfs = dfpc.loc['cobra':, 'Fecha']\n",
        "xs = dfpc.index\n",
        "ys = dfpc['Precio KG']\n",
        "lin_ress = linregress(xs,ys)"
      ],
      "metadata": {
        "id": "ASvz3N6pjOb9",
        "colab": {
          "base_uri": "https://localhost:8080/",
          "height": 521
        },
        "outputId": "2961ae0c-6268-4e9b-90b9-501dd7ae9691"
      },
      "execution_count": null,
      "outputs": [
        {
          "output_type": "error",
          "ename": "KeyError",
          "evalue": "ignored",
          "traceback": [
            "\u001b[0;31m---------------------------------------------------------------------------\u001b[0m",
            "\u001b[0;31mKeyError\u001b[0m                                  Traceback (most recent call last)",
            "\u001b[0;32m/usr/local/lib/python3.9/dist-packages/pandas/core/indexes/base.py\u001b[0m in \u001b[0;36mget_loc\u001b[0;34m(self, key, method, tolerance)\u001b[0m\n\u001b[1;32m   3801\u001b[0m             \u001b[0;32mtry\u001b[0m\u001b[0;34m:\u001b[0m\u001b[0;34m\u001b[0m\u001b[0;34m\u001b[0m\u001b[0m\n\u001b[0;32m-> 3802\u001b[0;31m                 \u001b[0;32mreturn\u001b[0m \u001b[0mself\u001b[0m\u001b[0;34m.\u001b[0m\u001b[0m_engine\u001b[0m\u001b[0;34m.\u001b[0m\u001b[0mget_loc\u001b[0m\u001b[0;34m(\u001b[0m\u001b[0mcasted_key\u001b[0m\u001b[0;34m)\u001b[0m\u001b[0;34m\u001b[0m\u001b[0;34m\u001b[0m\u001b[0m\n\u001b[0m\u001b[1;32m   3803\u001b[0m             \u001b[0;32mexcept\u001b[0m \u001b[0mKeyError\u001b[0m \u001b[0;32mas\u001b[0m \u001b[0merr\u001b[0m\u001b[0;34m:\u001b[0m\u001b[0;34m\u001b[0m\u001b[0;34m\u001b[0m\u001b[0m\n",
            "\u001b[0;32m/usr/local/lib/python3.9/dist-packages/pandas/_libs/index.pyx\u001b[0m in \u001b[0;36mpandas._libs.index.IndexEngine.get_loc\u001b[0;34m()\u001b[0m\n",
            "\u001b[0;32m/usr/local/lib/python3.9/dist-packages/pandas/_libs/index.pyx\u001b[0m in \u001b[0;36mpandas._libs.index.IndexEngine.get_loc\u001b[0;34m()\u001b[0m\n",
            "\u001b[0;32mpandas/_libs/hashtable_class_helper.pxi\u001b[0m in \u001b[0;36mpandas._libs.hashtable.PyObjectHashTable.get_item\u001b[0;34m()\u001b[0m\n",
            "\u001b[0;32mpandas/_libs/hashtable_class_helper.pxi\u001b[0m in \u001b[0;36mpandas._libs.hashtable.PyObjectHashTable.get_item\u001b[0;34m()\u001b[0m\n",
            "\u001b[0;31mKeyError\u001b[0m: 'Fecha'",
            "\nThe above exception was the direct cause of the following exception:\n",
            "\u001b[0;31mKeyError\u001b[0m                                  Traceback (most recent call last)",
            "\u001b[0;32m<ipython-input-166-00fbb14b113e>\u001b[0m in \u001b[0;36m<cell line: 3>\u001b[0;34m()\u001b[0m\n\u001b[1;32m      1\u001b[0m \u001b[0;31m# there is a problem in the conversion between matplotlib and csipy you could usse\u001b[0m\u001b[0;34m\u001b[0m\u001b[0;34m\u001b[0m\u001b[0m\n\u001b[1;32m      2\u001b[0m \u001b[0;31m# then i change the index to a normal array instead of using the Date Time\u001b[0m\u001b[0;34m\u001b[0m\u001b[0;34m\u001b[0m\u001b[0m\n\u001b[0;32m----> 3\u001b[0;31m \u001b[0mdfs\u001b[0m \u001b[0;34m=\u001b[0m \u001b[0mdfpc\u001b[0m\u001b[0;34m.\u001b[0m\u001b[0mloc\u001b[0m\u001b[0;34m[\u001b[0m\u001b[0;34m'cobra'\u001b[0m\u001b[0;34m:\u001b[0m\u001b[0;34m,\u001b[0m \u001b[0;34m'Fecha'\u001b[0m\u001b[0;34m]\u001b[0m\u001b[0;34m\u001b[0m\u001b[0;34m\u001b[0m\u001b[0m\n\u001b[0m\u001b[1;32m      4\u001b[0m \u001b[0mxs\u001b[0m \u001b[0;34m=\u001b[0m \u001b[0mdfpc\u001b[0m\u001b[0;34m.\u001b[0m\u001b[0mindex\u001b[0m\u001b[0;34m\u001b[0m\u001b[0;34m\u001b[0m\u001b[0m\n\u001b[1;32m      5\u001b[0m \u001b[0mys\u001b[0m \u001b[0;34m=\u001b[0m \u001b[0mdfpc\u001b[0m\u001b[0;34m[\u001b[0m\u001b[0;34m'Precio KG'\u001b[0m\u001b[0;34m]\u001b[0m\u001b[0;34m\u001b[0m\u001b[0;34m\u001b[0m\u001b[0m\n",
            "\u001b[0;32m/usr/local/lib/python3.9/dist-packages/pandas/core/indexing.py\u001b[0m in \u001b[0;36m__getitem__\u001b[0;34m(self, key)\u001b[0m\n\u001b[1;32m   1065\u001b[0m             \u001b[0;32mif\u001b[0m \u001b[0mself\u001b[0m\u001b[0;34m.\u001b[0m\u001b[0m_is_scalar_access\u001b[0m\u001b[0;34m(\u001b[0m\u001b[0mkey\u001b[0m\u001b[0;34m)\u001b[0m\u001b[0;34m:\u001b[0m\u001b[0;34m\u001b[0m\u001b[0;34m\u001b[0m\u001b[0m\n\u001b[1;32m   1066\u001b[0m                 \u001b[0;32mreturn\u001b[0m \u001b[0mself\u001b[0m\u001b[0;34m.\u001b[0m\u001b[0mobj\u001b[0m\u001b[0;34m.\u001b[0m\u001b[0m_get_value\u001b[0m\u001b[0;34m(\u001b[0m\u001b[0;34m*\u001b[0m\u001b[0mkey\u001b[0m\u001b[0;34m,\u001b[0m \u001b[0mtakeable\u001b[0m\u001b[0;34m=\u001b[0m\u001b[0mself\u001b[0m\u001b[0;34m.\u001b[0m\u001b[0m_takeable\u001b[0m\u001b[0;34m)\u001b[0m\u001b[0;34m\u001b[0m\u001b[0;34m\u001b[0m\u001b[0m\n\u001b[0;32m-> 1067\u001b[0;31m             \u001b[0;32mreturn\u001b[0m \u001b[0mself\u001b[0m\u001b[0;34m.\u001b[0m\u001b[0m_getitem_tuple\u001b[0m\u001b[0;34m(\u001b[0m\u001b[0mkey\u001b[0m\u001b[0;34m)\u001b[0m\u001b[0;34m\u001b[0m\u001b[0;34m\u001b[0m\u001b[0m\n\u001b[0m\u001b[1;32m   1068\u001b[0m         \u001b[0;32melse\u001b[0m\u001b[0;34m:\u001b[0m\u001b[0;34m\u001b[0m\u001b[0;34m\u001b[0m\u001b[0m\n\u001b[1;32m   1069\u001b[0m             \u001b[0;31m# we by definition only have the 0th axis\u001b[0m\u001b[0;34m\u001b[0m\u001b[0;34m\u001b[0m\u001b[0m\n",
            "\u001b[0;32m/usr/local/lib/python3.9/dist-packages/pandas/core/indexing.py\u001b[0m in \u001b[0;36m_getitem_tuple\u001b[0;34m(self, tup)\u001b[0m\n\u001b[1;32m   1245\u001b[0m         \u001b[0;32mwith\u001b[0m \u001b[0msuppress\u001b[0m\u001b[0;34m(\u001b[0m\u001b[0mIndexingError\u001b[0m\u001b[0;34m)\u001b[0m\u001b[0;34m:\u001b[0m\u001b[0;34m\u001b[0m\u001b[0;34m\u001b[0m\u001b[0m\n\u001b[1;32m   1246\u001b[0m             \u001b[0mtup\u001b[0m \u001b[0;34m=\u001b[0m \u001b[0mself\u001b[0m\u001b[0;34m.\u001b[0m\u001b[0m_expand_ellipsis\u001b[0m\u001b[0;34m(\u001b[0m\u001b[0mtup\u001b[0m\u001b[0;34m)\u001b[0m\u001b[0;34m\u001b[0m\u001b[0;34m\u001b[0m\u001b[0m\n\u001b[0;32m-> 1247\u001b[0;31m             \u001b[0;32mreturn\u001b[0m \u001b[0mself\u001b[0m\u001b[0;34m.\u001b[0m\u001b[0m_getitem_lowerdim\u001b[0m\u001b[0;34m(\u001b[0m\u001b[0mtup\u001b[0m\u001b[0;34m)\u001b[0m\u001b[0;34m\u001b[0m\u001b[0;34m\u001b[0m\u001b[0m\n\u001b[0m\u001b[1;32m   1248\u001b[0m \u001b[0;34m\u001b[0m\u001b[0m\n\u001b[1;32m   1249\u001b[0m         \u001b[0;31m# no multi-index, so validate all of the indexers\u001b[0m\u001b[0;34m\u001b[0m\u001b[0;34m\u001b[0m\u001b[0m\n",
            "\u001b[0;32m/usr/local/lib/python3.9/dist-packages/pandas/core/indexing.py\u001b[0m in \u001b[0;36m_getitem_lowerdim\u001b[0;34m(self, tup)\u001b[0m\n\u001b[1;32m    965\u001b[0m                 \u001b[0;31m# We don't need to check for tuples here because those are\u001b[0m\u001b[0;34m\u001b[0m\u001b[0;34m\u001b[0m\u001b[0m\n\u001b[1;32m    966\u001b[0m                 \u001b[0;31m#  caught by the _is_nested_tuple_indexer check above.\u001b[0m\u001b[0;34m\u001b[0m\u001b[0;34m\u001b[0m\u001b[0m\n\u001b[0;32m--> 967\u001b[0;31m                 \u001b[0msection\u001b[0m \u001b[0;34m=\u001b[0m \u001b[0mself\u001b[0m\u001b[0;34m.\u001b[0m\u001b[0m_getitem_axis\u001b[0m\u001b[0;34m(\u001b[0m\u001b[0mkey\u001b[0m\u001b[0;34m,\u001b[0m \u001b[0maxis\u001b[0m\u001b[0;34m=\u001b[0m\u001b[0mi\u001b[0m\u001b[0;34m)\u001b[0m\u001b[0;34m\u001b[0m\u001b[0;34m\u001b[0m\u001b[0m\n\u001b[0m\u001b[1;32m    968\u001b[0m \u001b[0;34m\u001b[0m\u001b[0m\n\u001b[1;32m    969\u001b[0m                 \u001b[0;31m# We should never have a scalar section here, because\u001b[0m\u001b[0;34m\u001b[0m\u001b[0;34m\u001b[0m\u001b[0m\n",
            "\u001b[0;32m/usr/local/lib/python3.9/dist-packages/pandas/core/indexing.py\u001b[0m in \u001b[0;36m_getitem_axis\u001b[0;34m(self, key, axis)\u001b[0m\n\u001b[1;32m   1310\u001b[0m         \u001b[0;31m# fall thru to straight lookup\u001b[0m\u001b[0;34m\u001b[0m\u001b[0;34m\u001b[0m\u001b[0m\n\u001b[1;32m   1311\u001b[0m         \u001b[0mself\u001b[0m\u001b[0;34m.\u001b[0m\u001b[0m_validate_key\u001b[0m\u001b[0;34m(\u001b[0m\u001b[0mkey\u001b[0m\u001b[0;34m,\u001b[0m \u001b[0maxis\u001b[0m\u001b[0;34m)\u001b[0m\u001b[0;34m\u001b[0m\u001b[0;34m\u001b[0m\u001b[0m\n\u001b[0;32m-> 1312\u001b[0;31m         \u001b[0;32mreturn\u001b[0m \u001b[0mself\u001b[0m\u001b[0;34m.\u001b[0m\u001b[0m_get_label\u001b[0m\u001b[0;34m(\u001b[0m\u001b[0mkey\u001b[0m\u001b[0;34m,\u001b[0m \u001b[0maxis\u001b[0m\u001b[0;34m=\u001b[0m\u001b[0maxis\u001b[0m\u001b[0;34m)\u001b[0m\u001b[0;34m\u001b[0m\u001b[0;34m\u001b[0m\u001b[0m\n\u001b[0m\u001b[1;32m   1313\u001b[0m \u001b[0;34m\u001b[0m\u001b[0m\n\u001b[1;32m   1314\u001b[0m     \u001b[0;32mdef\u001b[0m \u001b[0m_get_slice_axis\u001b[0m\u001b[0;34m(\u001b[0m\u001b[0mself\u001b[0m\u001b[0;34m,\u001b[0m \u001b[0mslice_obj\u001b[0m\u001b[0;34m:\u001b[0m \u001b[0mslice\u001b[0m\u001b[0;34m,\u001b[0m \u001b[0maxis\u001b[0m\u001b[0;34m:\u001b[0m \u001b[0mint\u001b[0m\u001b[0;34m)\u001b[0m\u001b[0;34m:\u001b[0m\u001b[0;34m\u001b[0m\u001b[0;34m\u001b[0m\u001b[0m\n",
            "\u001b[0;32m/usr/local/lib/python3.9/dist-packages/pandas/core/indexing.py\u001b[0m in \u001b[0;36m_get_label\u001b[0;34m(self, label, axis)\u001b[0m\n\u001b[1;32m   1258\u001b[0m     \u001b[0;32mdef\u001b[0m \u001b[0m_get_label\u001b[0m\u001b[0;34m(\u001b[0m\u001b[0mself\u001b[0m\u001b[0;34m,\u001b[0m \u001b[0mlabel\u001b[0m\u001b[0;34m,\u001b[0m \u001b[0maxis\u001b[0m\u001b[0;34m:\u001b[0m \u001b[0mint\u001b[0m\u001b[0;34m)\u001b[0m\u001b[0;34m:\u001b[0m\u001b[0;34m\u001b[0m\u001b[0;34m\u001b[0m\u001b[0m\n\u001b[1;32m   1259\u001b[0m         \u001b[0;31m# GH#5567 this will fail if the label is not present in the axis.\u001b[0m\u001b[0;34m\u001b[0m\u001b[0;34m\u001b[0m\u001b[0m\n\u001b[0;32m-> 1260\u001b[0;31m         \u001b[0;32mreturn\u001b[0m \u001b[0mself\u001b[0m\u001b[0;34m.\u001b[0m\u001b[0mobj\u001b[0m\u001b[0;34m.\u001b[0m\u001b[0mxs\u001b[0m\u001b[0;34m(\u001b[0m\u001b[0mlabel\u001b[0m\u001b[0;34m,\u001b[0m \u001b[0maxis\u001b[0m\u001b[0;34m=\u001b[0m\u001b[0maxis\u001b[0m\u001b[0;34m)\u001b[0m\u001b[0;34m\u001b[0m\u001b[0;34m\u001b[0m\u001b[0m\n\u001b[0m\u001b[1;32m   1261\u001b[0m \u001b[0;34m\u001b[0m\u001b[0m\n\u001b[1;32m   1262\u001b[0m     \u001b[0;32mdef\u001b[0m \u001b[0m_handle_lowerdim_multi_index_axis0\u001b[0m\u001b[0;34m(\u001b[0m\u001b[0mself\u001b[0m\u001b[0;34m,\u001b[0m \u001b[0mtup\u001b[0m\u001b[0;34m:\u001b[0m \u001b[0mtuple\u001b[0m\u001b[0;34m)\u001b[0m\u001b[0;34m:\u001b[0m\u001b[0;34m\u001b[0m\u001b[0;34m\u001b[0m\u001b[0m\n",
            "\u001b[0;32m/usr/local/lib/python3.9/dist-packages/pandas/core/generic.py\u001b[0m in \u001b[0;36mxs\u001b[0;34m(self, key, axis, level, drop_level)\u001b[0m\n\u001b[1;32m   4039\u001b[0m         \u001b[0;32mif\u001b[0m \u001b[0maxis\u001b[0m \u001b[0;34m==\u001b[0m \u001b[0;36m1\u001b[0m\u001b[0;34m:\u001b[0m\u001b[0;34m\u001b[0m\u001b[0;34m\u001b[0m\u001b[0m\n\u001b[1;32m   4040\u001b[0m             \u001b[0;32mif\u001b[0m \u001b[0mdrop_level\u001b[0m\u001b[0;34m:\u001b[0m\u001b[0;34m\u001b[0m\u001b[0;34m\u001b[0m\u001b[0m\n\u001b[0;32m-> 4041\u001b[0;31m                 \u001b[0;32mreturn\u001b[0m \u001b[0mself\u001b[0m\u001b[0;34m[\u001b[0m\u001b[0mkey\u001b[0m\u001b[0;34m]\u001b[0m\u001b[0;34m\u001b[0m\u001b[0;34m\u001b[0m\u001b[0m\n\u001b[0m\u001b[1;32m   4042\u001b[0m             \u001b[0mindex\u001b[0m \u001b[0;34m=\u001b[0m \u001b[0mself\u001b[0m\u001b[0;34m.\u001b[0m\u001b[0mcolumns\u001b[0m\u001b[0;34m\u001b[0m\u001b[0;34m\u001b[0m\u001b[0m\n\u001b[1;32m   4043\u001b[0m         \u001b[0;32melse\u001b[0m\u001b[0;34m:\u001b[0m\u001b[0;34m\u001b[0m\u001b[0;34m\u001b[0m\u001b[0m\n",
            "\u001b[0;32m/usr/local/lib/python3.9/dist-packages/pandas/core/frame.py\u001b[0m in \u001b[0;36m__getitem__\u001b[0;34m(self, key)\u001b[0m\n\u001b[1;32m   3805\u001b[0m             \u001b[0;32mif\u001b[0m \u001b[0mself\u001b[0m\u001b[0;34m.\u001b[0m\u001b[0mcolumns\u001b[0m\u001b[0;34m.\u001b[0m\u001b[0mnlevels\u001b[0m \u001b[0;34m>\u001b[0m \u001b[0;36m1\u001b[0m\u001b[0;34m:\u001b[0m\u001b[0;34m\u001b[0m\u001b[0;34m\u001b[0m\u001b[0m\n\u001b[1;32m   3806\u001b[0m                 \u001b[0;32mreturn\u001b[0m \u001b[0mself\u001b[0m\u001b[0;34m.\u001b[0m\u001b[0m_getitem_multilevel\u001b[0m\u001b[0;34m(\u001b[0m\u001b[0mkey\u001b[0m\u001b[0;34m)\u001b[0m\u001b[0;34m\u001b[0m\u001b[0;34m\u001b[0m\u001b[0m\n\u001b[0;32m-> 3807\u001b[0;31m             \u001b[0mindexer\u001b[0m \u001b[0;34m=\u001b[0m \u001b[0mself\u001b[0m\u001b[0;34m.\u001b[0m\u001b[0mcolumns\u001b[0m\u001b[0;34m.\u001b[0m\u001b[0mget_loc\u001b[0m\u001b[0;34m(\u001b[0m\u001b[0mkey\u001b[0m\u001b[0;34m)\u001b[0m\u001b[0;34m\u001b[0m\u001b[0;34m\u001b[0m\u001b[0m\n\u001b[0m\u001b[1;32m   3808\u001b[0m             \u001b[0;32mif\u001b[0m \u001b[0mis_integer\u001b[0m\u001b[0;34m(\u001b[0m\u001b[0mindexer\u001b[0m\u001b[0;34m)\u001b[0m\u001b[0;34m:\u001b[0m\u001b[0;34m\u001b[0m\u001b[0;34m\u001b[0m\u001b[0m\n\u001b[1;32m   3809\u001b[0m                 \u001b[0mindexer\u001b[0m \u001b[0;34m=\u001b[0m \u001b[0;34m[\u001b[0m\u001b[0mindexer\u001b[0m\u001b[0;34m]\u001b[0m\u001b[0;34m\u001b[0m\u001b[0;34m\u001b[0m\u001b[0m\n",
            "\u001b[0;32m/usr/local/lib/python3.9/dist-packages/pandas/core/indexes/base.py\u001b[0m in \u001b[0;36mget_loc\u001b[0;34m(self, key, method, tolerance)\u001b[0m\n\u001b[1;32m   3802\u001b[0m                 \u001b[0;32mreturn\u001b[0m \u001b[0mself\u001b[0m\u001b[0;34m.\u001b[0m\u001b[0m_engine\u001b[0m\u001b[0;34m.\u001b[0m\u001b[0mget_loc\u001b[0m\u001b[0;34m(\u001b[0m\u001b[0mcasted_key\u001b[0m\u001b[0;34m)\u001b[0m\u001b[0;34m\u001b[0m\u001b[0;34m\u001b[0m\u001b[0m\n\u001b[1;32m   3803\u001b[0m             \u001b[0;32mexcept\u001b[0m \u001b[0mKeyError\u001b[0m \u001b[0;32mas\u001b[0m \u001b[0merr\u001b[0m\u001b[0;34m:\u001b[0m\u001b[0;34m\u001b[0m\u001b[0;34m\u001b[0m\u001b[0m\n\u001b[0;32m-> 3804\u001b[0;31m                 \u001b[0;32mraise\u001b[0m \u001b[0mKeyError\u001b[0m\u001b[0;34m(\u001b[0m\u001b[0mkey\u001b[0m\u001b[0;34m)\u001b[0m \u001b[0;32mfrom\u001b[0m \u001b[0merr\u001b[0m\u001b[0;34m\u001b[0m\u001b[0;34m\u001b[0m\u001b[0m\n\u001b[0m\u001b[1;32m   3805\u001b[0m             \u001b[0;32mexcept\u001b[0m \u001b[0mTypeError\u001b[0m\u001b[0;34m:\u001b[0m\u001b[0;34m\u001b[0m\u001b[0;34m\u001b[0m\u001b[0m\n\u001b[1;32m   3806\u001b[0m                 \u001b[0;31m# If we have a listlike key, _check_indexing_error will raise\u001b[0m\u001b[0;34m\u001b[0m\u001b[0;34m\u001b[0m\u001b[0m\n",
            "\u001b[0;31mKeyError\u001b[0m: 'Fecha'"
          ]
        }
      ]
    },
    {
      "cell_type": "code",
      "source": [
        "dfs"
      ],
      "metadata": {
        "id": "HVM-VmFwaNdm"
      },
      "execution_count": null,
      "outputs": []
    },
    {
      "cell_type": "code",
      "source": [
        "sns.regplot(x=xs ,y = ys ,data=dfs)"
      ],
      "metadata": {
        "id": "n-wt-uZ_mClm"
      },
      "execution_count": null,
      "outputs": []
    },
    {
      "cell_type": "code",
      "source": [
        "dfs"
      ],
      "metadata": {
        "id": "qvEev-Gzku58"
      },
      "execution_count": null,
      "outputs": []
    },
    {
      "cell_type": "code",
      "source": [
        "x=dfpc.index\n",
        "y=dfpc['Precio KG']\n",
        "plt.title(t)\n",
        "plt.xlabel('Fecha')\n",
        "plt.ylabel('Precio KG')\n",
        "plt.scatter(x,y)\n",
        "plt.show"
      ],
      "metadata": {
        "id": "eL74Pqe5gVmp"
      },
      "execution_count": null,
      "outputs": []
    },
    {
      "cell_type": "code",
      "source": [],
      "metadata": {
        "id": "uVA2FwyFUQWI"
      },
      "execution_count": null,
      "outputs": []
    }
  ],
  "metadata": {
    "colab": {
      "provenance": [],
      "authorship_tag": "ABX9TyNj1fmewKIXIhhSXNK8C+UR",
      "include_colab_link": true
    },
    "kernelspec": {
      "display_name": "Python 3",
      "name": "python3"
    },
    "language_info": {
      "name": "python"
    }
  },
  "nbformat": 4,
  "nbformat_minor": 0
}