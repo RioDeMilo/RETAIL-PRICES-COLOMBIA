{
  "nbformat": 4,
  "nbformat_minor": 0,
  "metadata": {
    "colab": {
      "provenance": [],
      "authorship_tag": "ABX9TyOsuBOsmO481/XkZQAwpRkw",
      "include_colab_link": true
    },
    "kernelspec": {
      "name": "python3",
      "display_name": "Python 3"
    },
    "language_info": {
      "name": "python"
    }
  },
  "cells": [
    {
      "cell_type": "markdown",
      "metadata": {
        "id": "view-in-github",
        "colab_type": "text"
      },
      "source": [
        "<a href=\"https://colab.research.google.com/github/RioDeMilo/RETAIL-PRICES-COLOMBIA/blob/main/IPC1823.ipynb\" target=\"_parent\"><img src=\"https://colab.research.google.com/assets/colab-badge.svg\" alt=\"Open In Colab\"/></a>"
      ]
    },
    {
      "cell_type": "code",
      "execution_count": null,
      "metadata": {
        "id": "MDVyyn1qbkAk"
      },
      "outputs": [],
      "source": [
        "import numpy as np\n",
        "import pandas as pd\n",
        "import matplotlib as plt\n",
        "import seaborn as sns"
      ]
    },
    {
      "cell_type": "code",
      "source": [
        "df = pd.read_excel('/content/series-historicas-precios-mayoristas-2021.xlsx',sheet_name=['Hoja1'])"
      ],
      "metadata": {
        "id": "yZZH-lABb_n6"
      },
      "execution_count": null,
      "outputs": []
    },
    {
      "cell_type": "code",
      "source": [
        "df = df.get('Hoja1')\n"
      ],
      "metadata": {
        "id": "_z_ML2YjgHVp"
      },
      "execution_count": null,
      "outputs": []
    },
    {
      "cell_type": "code",
      "source": [
        "df.info()"
      ],
      "metadata": {
        "colab": {
          "base_uri": "https://localhost:8080/"
        },
        "id": "gFuIqz_ogZBY",
        "outputId": "b1dd782b-2632-4ac0-e153-96f4c2795e78"
      },
      "execution_count": null,
      "outputs": [
        {
          "output_type": "stream",
          "name": "stdout",
          "text": [
            "<class 'pandas.core.frame.DataFrame'>\n",
            "RangeIndex: 54528 entries, 0 to 54527\n",
            "Data columns (total 5 columns):\n",
            " #   Column                          Non-Null Count  Dtype         \n",
            "---  ------                          --------------  -----         \n",
            " 0   Fecha                           54528 non-null  datetime64[ns]\n",
            " 1   Grupo                           54528 non-null  object        \n",
            " 2   Producto                        54528 non-null  object        \n",
            " 3   Mercado                         54528 non-null  object        \n",
            " 4   Precio promedio por kilogramo*  54528 non-null  float64       \n",
            "dtypes: datetime64[ns](1), float64(1), object(3)\n",
            "memory usage: 2.1+ MB\n"
          ]
        }
      ]
    },
    {
      "cell_type": "code",
      "source": [
        "df['Mercado'].value_counts()"
      ],
      "metadata": {
        "id": "_An0_OMngnF4",
        "colab": {
          "base_uri": "https://localhost:8080/"
        },
        "outputId": "91cbdfc1-decf-4a64-fbf2-e905eb696662"
      },
      "execution_count": null,
      "outputs": [
        {
          "output_type": "execute_result",
          "data": {
            "text/plain": [
              "Medellín, Central Mayorista de Antioquia       2560\n",
              "Bogotá, D.C., Corabastos                       2026\n",
              "Cúcuta, Cenabastos                             1725\n",
              "Cali, Santa Elena                              1623\n",
              "Villavicencio, CAV                             1602\n",
              "                                               ... \n",
              "Sandoná (Nariño)                                 17\n",
              "Consacá (Nariño)                                 17\n",
              "Yolombó (Antioquia)                              12\n",
              "San Gil (Santander), Panela                       4\n",
              "San Sebastián de Mariquita (Tolima), panela       3\n",
              "Name: Mercado, Length: 89, dtype: int64"
            ]
          },
          "metadata": {},
          "execution_count": 20
        }
      ]
    },
    {
      "cell_type": "code",
      "source": [],
      "metadata": {
        "id": "GjtLQzc59BAB"
      },
      "execution_count": null,
      "outputs": []
    }
  ]
}