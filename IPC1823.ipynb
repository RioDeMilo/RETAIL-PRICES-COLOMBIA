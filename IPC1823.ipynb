{
  "cells": [
    {
      "cell_type": "markdown",
      "metadata": {
        "id": "view-in-github",
        "colab_type": "text"
      },
      "source": [
        "<a href=\"https://colab.research.google.com/github/RioDeMilo/RETAIL-PRICES-COLOMBIA/blob/main/IPC1823.ipynb\" target=\"_parent\"><img src=\"https://colab.research.google.com/assets/colab-badge.svg\" alt=\"Open In Colab\"/></a>"
      ]
    },
    {
      "cell_type": "code",
      "execution_count": null,
      "metadata": {
        "id": "MDVyyn1qbkAk"
      },
      "outputs": [],
      "source": [
        "# Here it is all the libraries that i need in order to manage the data and to plot it `\n",
        "import numpy as np\n",
        "import pandas as pd\n",
        "import matplotlib.pyplot as plt\n",
        "import seaborn as sns"
      ]
    },
    {
      "cell_type": "code",
      "execution_count": null,
      "metadata": {
        "id": "yZZH-lABb_n6"
      },
      "outputs": [],
      "source": [
        "# for this project i previously modified all the data from each year of analysis to a sngle sheet page in excel. \n",
        "df = pd.read_excel('/content/Gropu19-22.xlsx')"
      ]
    },
    {
      "cell_type": "code",
      "execution_count": null,
      "metadata": {
        "id": "_z_ML2YjgHVp"
      },
      "outputs": [],
      "source": [
        "# This will get you the specified sheet page for further use.\n",
        "# but for this case i used a excel file ith only one page so it is not necessary and you need to ad the datafrme and a dicttionary ith the name of the pages like\n",
        "# sheet_name=['Hoja1']\n",
        "#df = df.get('Hoja1')\n"
      ]
    },
    {
      "cell_type": "markdown",
      "source": [
        "# Data preparing\n",
        "### Now we want to specify wheter we want to plot a spicified type of product \n",
        "but we should be able to see what type of products are available for comparison\n",
        "\n",
        "```\n",
        "# Tiene formato de código\n",
        "```\n",
        "\n"
      ],
      "metadata": {
        "id": "uQAZ4lrc6J16"
      }
    },
    {
      "cell_type": "code",
      "execution_count": null,
      "metadata": {
        "id": "gFuIqz_ogZBY",
        "colab": {
          "base_uri": "https://localhost:8080/",
          "height": 424
        },
        "outputId": "9cf5bc3a-6b81-4554-faf4-5ac0434ae790"
      },
      "outputs": [
        {
          "output_type": "stream",
          "name": "stdout",
          "text": [
            "<class 'pandas.core.frame.DataFrame'>\n",
            "RangeIndex: 220517 entries, 0 to 220516\n",
            "Data columns (total 5 columns):\n",
            " #   Column                  Non-Null Count   Dtype         \n",
            "---  ------                  --------------   -----         \n",
            " 0   Fecha                   220517 non-null  datetime64[ns]\n",
            " 1   Grupo                   220517 non-null  object        \n",
            " 2   Producto                220517 non-null  object        \n",
            " 3   Fuente                  220517 non-null  object        \n",
            " 4   Precio  por kilogramo*  220517 non-null  float64       \n",
            "dtypes: datetime64[ns](1), float64(1), object(3)\n",
            "memory usage: 8.4+ MB\n"
          ]
        },
        {
          "output_type": "execute_result",
          "data": {
            "text/plain": [
              "       Fecha                  Grupo Producto                        Fuente  \\\n",
              "0 2019-01-01  VERDURAS Y HORTALIZAS   Acelga               Armenia, Mercar   \n",
              "1 2019-01-01  VERDURAS Y HORTALIZAS   Acelga  Barranquilla, Barranquillita   \n",
              "2 2019-01-01  VERDURAS Y HORTALIZAS   Acelga      Bogotá, D.C., Corabastos   \n",
              "3 2019-01-01  VERDURAS Y HORTALIZAS   Acelga    Bucaramanga, Centroabastos   \n",
              "4 2019-01-01  VERDURAS Y HORTALIZAS   Acelga         Chiquinquirá (Boyacá)   \n",
              "\n",
              "   Precio  por kilogramo*  \n",
              "0                  1065.0  \n",
              "1                  3000.0  \n",
              "2                   764.0  \n",
              "3                  1556.0  \n",
              "4                  1058.0  "
            ],
            "text/html": [
              "\n",
              "  <div id=\"df-ae841977-d4db-485d-b02f-3846df95f80e\">\n",
              "    <div class=\"colab-df-container\">\n",
              "      <div>\n",
              "<style scoped>\n",
              "    .dataframe tbody tr th:only-of-type {\n",
              "        vertical-align: middle;\n",
              "    }\n",
              "\n",
              "    .dataframe tbody tr th {\n",
              "        vertical-align: top;\n",
              "    }\n",
              "\n",
              "    .dataframe thead th {\n",
              "        text-align: right;\n",
              "    }\n",
              "</style>\n",
              "<table border=\"1\" class=\"dataframe\">\n",
              "  <thead>\n",
              "    <tr style=\"text-align: right;\">\n",
              "      <th></th>\n",
              "      <th>Fecha</th>\n",
              "      <th>Grupo</th>\n",
              "      <th>Producto</th>\n",
              "      <th>Fuente</th>\n",
              "      <th>Precio  por kilogramo*</th>\n",
              "    </tr>\n",
              "  </thead>\n",
              "  <tbody>\n",
              "    <tr>\n",
              "      <th>0</th>\n",
              "      <td>2019-01-01</td>\n",
              "      <td>VERDURAS Y HORTALIZAS</td>\n",
              "      <td>Acelga</td>\n",
              "      <td>Armenia, Mercar</td>\n",
              "      <td>1065.0</td>\n",
              "    </tr>\n",
              "    <tr>\n",
              "      <th>1</th>\n",
              "      <td>2019-01-01</td>\n",
              "      <td>VERDURAS Y HORTALIZAS</td>\n",
              "      <td>Acelga</td>\n",
              "      <td>Barranquilla, Barranquillita</td>\n",
              "      <td>3000.0</td>\n",
              "    </tr>\n",
              "    <tr>\n",
              "      <th>2</th>\n",
              "      <td>2019-01-01</td>\n",
              "      <td>VERDURAS Y HORTALIZAS</td>\n",
              "      <td>Acelga</td>\n",
              "      <td>Bogotá, D.C., Corabastos</td>\n",
              "      <td>764.0</td>\n",
              "    </tr>\n",
              "    <tr>\n",
              "      <th>3</th>\n",
              "      <td>2019-01-01</td>\n",
              "      <td>VERDURAS Y HORTALIZAS</td>\n",
              "      <td>Acelga</td>\n",
              "      <td>Bucaramanga, Centroabastos</td>\n",
              "      <td>1556.0</td>\n",
              "    </tr>\n",
              "    <tr>\n",
              "      <th>4</th>\n",
              "      <td>2019-01-01</td>\n",
              "      <td>VERDURAS Y HORTALIZAS</td>\n",
              "      <td>Acelga</td>\n",
              "      <td>Chiquinquirá (Boyacá)</td>\n",
              "      <td>1058.0</td>\n",
              "    </tr>\n",
              "  </tbody>\n",
              "</table>\n",
              "</div>\n",
              "      <button class=\"colab-df-convert\" onclick=\"convertToInteractive('df-ae841977-d4db-485d-b02f-3846df95f80e')\"\n",
              "              title=\"Convert this dataframe to an interactive table.\"\n",
              "              style=\"display:none;\">\n",
              "        \n",
              "  <svg xmlns=\"http://www.w3.org/2000/svg\" height=\"24px\"viewBox=\"0 0 24 24\"\n",
              "       width=\"24px\">\n",
              "    <path d=\"M0 0h24v24H0V0z\" fill=\"none\"/>\n",
              "    <path d=\"M18.56 5.44l.94 2.06.94-2.06 2.06-.94-2.06-.94-.94-2.06-.94 2.06-2.06.94zm-11 1L8.5 8.5l.94-2.06 2.06-.94-2.06-.94L8.5 2.5l-.94 2.06-2.06.94zm10 10l.94 2.06.94-2.06 2.06-.94-2.06-.94-.94-2.06-.94 2.06-2.06.94z\"/><path d=\"M17.41 7.96l-1.37-1.37c-.4-.4-.92-.59-1.43-.59-.52 0-1.04.2-1.43.59L10.3 9.45l-7.72 7.72c-.78.78-.78 2.05 0 2.83L4 21.41c.39.39.9.59 1.41.59.51 0 1.02-.2 1.41-.59l7.78-7.78 2.81-2.81c.8-.78.8-2.07 0-2.86zM5.41 20L4 18.59l7.72-7.72 1.47 1.35L5.41 20z\"/>\n",
              "  </svg>\n",
              "      </button>\n",
              "      \n",
              "  <style>\n",
              "    .colab-df-container {\n",
              "      display:flex;\n",
              "      flex-wrap:wrap;\n",
              "      gap: 12px;\n",
              "    }\n",
              "\n",
              "    .colab-df-convert {\n",
              "      background-color: #E8F0FE;\n",
              "      border: none;\n",
              "      border-radius: 50%;\n",
              "      cursor: pointer;\n",
              "      display: none;\n",
              "      fill: #1967D2;\n",
              "      height: 32px;\n",
              "      padding: 0 0 0 0;\n",
              "      width: 32px;\n",
              "    }\n",
              "\n",
              "    .colab-df-convert:hover {\n",
              "      background-color: #E2EBFA;\n",
              "      box-shadow: 0px 1px 2px rgba(60, 64, 67, 0.3), 0px 1px 3px 1px rgba(60, 64, 67, 0.15);\n",
              "      fill: #174EA6;\n",
              "    }\n",
              "\n",
              "    [theme=dark] .colab-df-convert {\n",
              "      background-color: #3B4455;\n",
              "      fill: #D2E3FC;\n",
              "    }\n",
              "\n",
              "    [theme=dark] .colab-df-convert:hover {\n",
              "      background-color: #434B5C;\n",
              "      box-shadow: 0px 1px 3px 1px rgba(0, 0, 0, 0.15);\n",
              "      filter: drop-shadow(0px 1px 2px rgba(0, 0, 0, 0.3));\n",
              "      fill: #FFFFFF;\n",
              "    }\n",
              "  </style>\n",
              "\n",
              "      <script>\n",
              "        const buttonEl =\n",
              "          document.querySelector('#df-ae841977-d4db-485d-b02f-3846df95f80e button.colab-df-convert');\n",
              "        buttonEl.style.display =\n",
              "          google.colab.kernel.accessAllowed ? 'block' : 'none';\n",
              "\n",
              "        async function convertToInteractive(key) {\n",
              "          const element = document.querySelector('#df-ae841977-d4db-485d-b02f-3846df95f80e');\n",
              "          const dataTable =\n",
              "            await google.colab.kernel.invokeFunction('convertToInteractive',\n",
              "                                                     [key], {});\n",
              "          if (!dataTable) return;\n",
              "\n",
              "          const docLinkHtml = 'Like what you see? Visit the ' +\n",
              "            '<a target=\"_blank\" href=https://colab.research.google.com/notebooks/data_table.ipynb>data table notebook</a>'\n",
              "            + ' to learn more about interactive tables.';\n",
              "          element.innerHTML = '';\n",
              "          dataTable['output_type'] = 'display_data';\n",
              "          await google.colab.output.renderOutput(dataTable, element);\n",
              "          const docLink = document.createElement('div');\n",
              "          docLink.innerHTML = docLinkHtml;\n",
              "          element.appendChild(docLink);\n",
              "        }\n",
              "      </script>\n",
              "    </div>\n",
              "  </div>\n",
              "  "
            ]
          },
          "metadata": {},
          "execution_count": 8
        }
      ],
      "source": [
        "# typical use of .info() to get a general idea of what is the shape  of the data base look like\n",
        "# .head() will let you see a more friendly view in a excel way \n",
        "df.info()\n",
        "df.head()"
      ]
    },
    {
      "cell_type": "code",
      "source": [
        "df.rename(columns={\"Precio  por kilogramo*\": \"Precio KG\"}, inplace=True)"
      ],
      "metadata": {
        "id": "kpfXzoa6UTcf"
      },
      "execution_count": null,
      "outputs": []
    },
    {
      "cell_type": "code",
      "execution_count": null,
      "metadata": {
        "colab": {
          "base_uri": "https://localhost:8080/",
          "height": 237
        },
        "id": "OGepqBYps9Oa",
        "outputId": "ddb4a36c-e337-453c-b065-fe6dc9a87a0b"
      },
      "outputs": [
        {
          "output_type": "execute_result",
          "data": {
            "text/plain": [
              "                            Grupo Producto                        Fuente  \\\n",
              "Fecha                                                                      \n",
              "2019-01-01  VERDURAS Y HORTALIZAS   Acelga               Armenia, Mercar   \n",
              "2019-01-01  VERDURAS Y HORTALIZAS   Acelga  Barranquilla, Barranquillita   \n",
              "2019-01-01  VERDURAS Y HORTALIZAS   Acelga      Bogotá, D.C., Corabastos   \n",
              "2019-01-01  VERDURAS Y HORTALIZAS   Acelga    Bucaramanga, Centroabastos   \n",
              "2019-01-01  VERDURAS Y HORTALIZAS   Acelga         Chiquinquirá (Boyacá)   \n",
              "\n",
              "            Precio KG  \n",
              "Fecha                  \n",
              "2019-01-01     1065.0  \n",
              "2019-01-01     3000.0  \n",
              "2019-01-01      764.0  \n",
              "2019-01-01     1556.0  \n",
              "2019-01-01     1058.0  "
            ],
            "text/html": [
              "\n",
              "  <div id=\"df-d1d22121-b3bc-450d-841d-6d591383358e\">\n",
              "    <div class=\"colab-df-container\">\n",
              "      <div>\n",
              "<style scoped>\n",
              "    .dataframe tbody tr th:only-of-type {\n",
              "        vertical-align: middle;\n",
              "    }\n",
              "\n",
              "    .dataframe tbody tr th {\n",
              "        vertical-align: top;\n",
              "    }\n",
              "\n",
              "    .dataframe thead th {\n",
              "        text-align: right;\n",
              "    }\n",
              "</style>\n",
              "<table border=\"1\" class=\"dataframe\">\n",
              "  <thead>\n",
              "    <tr style=\"text-align: right;\">\n",
              "      <th></th>\n",
              "      <th>Grupo</th>\n",
              "      <th>Producto</th>\n",
              "      <th>Fuente</th>\n",
              "      <th>Precio KG</th>\n",
              "    </tr>\n",
              "    <tr>\n",
              "      <th>Fecha</th>\n",
              "      <th></th>\n",
              "      <th></th>\n",
              "      <th></th>\n",
              "      <th></th>\n",
              "    </tr>\n",
              "  </thead>\n",
              "  <tbody>\n",
              "    <tr>\n",
              "      <th>2019-01-01</th>\n",
              "      <td>VERDURAS Y HORTALIZAS</td>\n",
              "      <td>Acelga</td>\n",
              "      <td>Armenia, Mercar</td>\n",
              "      <td>1065.0</td>\n",
              "    </tr>\n",
              "    <tr>\n",
              "      <th>2019-01-01</th>\n",
              "      <td>VERDURAS Y HORTALIZAS</td>\n",
              "      <td>Acelga</td>\n",
              "      <td>Barranquilla, Barranquillita</td>\n",
              "      <td>3000.0</td>\n",
              "    </tr>\n",
              "    <tr>\n",
              "      <th>2019-01-01</th>\n",
              "      <td>VERDURAS Y HORTALIZAS</td>\n",
              "      <td>Acelga</td>\n",
              "      <td>Bogotá, D.C., Corabastos</td>\n",
              "      <td>764.0</td>\n",
              "    </tr>\n",
              "    <tr>\n",
              "      <th>2019-01-01</th>\n",
              "      <td>VERDURAS Y HORTALIZAS</td>\n",
              "      <td>Acelga</td>\n",
              "      <td>Bucaramanga, Centroabastos</td>\n",
              "      <td>1556.0</td>\n",
              "    </tr>\n",
              "    <tr>\n",
              "      <th>2019-01-01</th>\n",
              "      <td>VERDURAS Y HORTALIZAS</td>\n",
              "      <td>Acelga</td>\n",
              "      <td>Chiquinquirá (Boyacá)</td>\n",
              "      <td>1058.0</td>\n",
              "    </tr>\n",
              "  </tbody>\n",
              "</table>\n",
              "</div>\n",
              "      <button class=\"colab-df-convert\" onclick=\"convertToInteractive('df-d1d22121-b3bc-450d-841d-6d591383358e')\"\n",
              "              title=\"Convert this dataframe to an interactive table.\"\n",
              "              style=\"display:none;\">\n",
              "        \n",
              "  <svg xmlns=\"http://www.w3.org/2000/svg\" height=\"24px\"viewBox=\"0 0 24 24\"\n",
              "       width=\"24px\">\n",
              "    <path d=\"M0 0h24v24H0V0z\" fill=\"none\"/>\n",
              "    <path d=\"M18.56 5.44l.94 2.06.94-2.06 2.06-.94-2.06-.94-.94-2.06-.94 2.06-2.06.94zm-11 1L8.5 8.5l.94-2.06 2.06-.94-2.06-.94L8.5 2.5l-.94 2.06-2.06.94zm10 10l.94 2.06.94-2.06 2.06-.94-2.06-.94-.94-2.06-.94 2.06-2.06.94z\"/><path d=\"M17.41 7.96l-1.37-1.37c-.4-.4-.92-.59-1.43-.59-.52 0-1.04.2-1.43.59L10.3 9.45l-7.72 7.72c-.78.78-.78 2.05 0 2.83L4 21.41c.39.39.9.59 1.41.59.51 0 1.02-.2 1.41-.59l7.78-7.78 2.81-2.81c.8-.78.8-2.07 0-2.86zM5.41 20L4 18.59l7.72-7.72 1.47 1.35L5.41 20z\"/>\n",
              "  </svg>\n",
              "      </button>\n",
              "      \n",
              "  <style>\n",
              "    .colab-df-container {\n",
              "      display:flex;\n",
              "      flex-wrap:wrap;\n",
              "      gap: 12px;\n",
              "    }\n",
              "\n",
              "    .colab-df-convert {\n",
              "      background-color: #E8F0FE;\n",
              "      border: none;\n",
              "      border-radius: 50%;\n",
              "      cursor: pointer;\n",
              "      display: none;\n",
              "      fill: #1967D2;\n",
              "      height: 32px;\n",
              "      padding: 0 0 0 0;\n",
              "      width: 32px;\n",
              "    }\n",
              "\n",
              "    .colab-df-convert:hover {\n",
              "      background-color: #E2EBFA;\n",
              "      box-shadow: 0px 1px 2px rgba(60, 64, 67, 0.3), 0px 1px 3px 1px rgba(60, 64, 67, 0.15);\n",
              "      fill: #174EA6;\n",
              "    }\n",
              "\n",
              "    [theme=dark] .colab-df-convert {\n",
              "      background-color: #3B4455;\n",
              "      fill: #D2E3FC;\n",
              "    }\n",
              "\n",
              "    [theme=dark] .colab-df-convert:hover {\n",
              "      background-color: #434B5C;\n",
              "      box-shadow: 0px 1px 3px 1px rgba(0, 0, 0, 0.15);\n",
              "      filter: drop-shadow(0px 1px 2px rgba(0, 0, 0, 0.3));\n",
              "      fill: #FFFFFF;\n",
              "    }\n",
              "  </style>\n",
              "\n",
              "      <script>\n",
              "        const buttonEl =\n",
              "          document.querySelector('#df-d1d22121-b3bc-450d-841d-6d591383358e button.colab-df-convert');\n",
              "        buttonEl.style.display =\n",
              "          google.colab.kernel.accessAllowed ? 'block' : 'none';\n",
              "\n",
              "        async function convertToInteractive(key) {\n",
              "          const element = document.querySelector('#df-d1d22121-b3bc-450d-841d-6d591383358e');\n",
              "          const dataTable =\n",
              "            await google.colab.kernel.invokeFunction('convertToInteractive',\n",
              "                                                     [key], {});\n",
              "          if (!dataTable) return;\n",
              "\n",
              "          const docLinkHtml = 'Like what you see? Visit the ' +\n",
              "            '<a target=\"_blank\" href=https://colab.research.google.com/notebooks/data_table.ipynb>data table notebook</a>'\n",
              "            + ' to learn more about interactive tables.';\n",
              "          element.innerHTML = '';\n",
              "          dataTable['output_type'] = 'display_data';\n",
              "          await google.colab.output.renderOutput(dataTable, element);\n",
              "          const docLink = document.createElement('div');\n",
              "          docLink.innerHTML = docLinkHtml;\n",
              "          element.appendChild(docLink);\n",
              "        }\n",
              "      </script>\n",
              "    </div>\n",
              "  </div>\n",
              "  "
            ]
          },
          "metadata": {},
          "execution_count": 10
        }
      ],
      "source": [
        "# this is to set the 'Fecha' as the new index of the dataframe as it will mostly be a timeline analysis\n",
        "# the inplace=True will set this ne index as the definitive index changing it in the database\n",
        "df.set_index('Fecha', inplace=True)\n",
        "df.head()"
      ]
    },
    {
      "cell_type": "code",
      "execution_count": null,
      "metadata": {
        "colab": {
          "base_uri": "https://localhost:8080/"
        },
        "id": "GjtLQzc59BAB",
        "outputId": "fe1471be-72c2-40d0-f6ae-5d02c26f7ed3"
      },
      "outputs": [
        {
          "output_type": "execute_result",
          "data": {
            "text/plain": [
              "Grupo        0\n",
              "Producto     0\n",
              "Fuente       0\n",
              "Precio KG    0\n",
              "dtype: int64"
            ]
          },
          "metadata": {},
          "execution_count": 11
        }
      ],
      "source": [
        "# Here we can see that there are not null values in any of the columns\n",
        "# if there were any null values we should take them into consideration because it can affect later anaylsis an graphing\n",
        "pd.isnull(df).sum()"
      ]
    },
    {
      "cell_type": "code",
      "execution_count": null,
      "metadata": {
        "colab": {
          "base_uri": "https://localhost:8080/"
        },
        "id": "_An0_OMngnF4",
        "outputId": "a88ec7e5-0435-4237-f90f-963ed1681fab"
      },
      "outputs": [
        {
          "output_type": "execute_result",
          "data": {
            "text/plain": [
              "Medellín, Central Mayorista de Antioquia       10154\n",
              "Bogotá, D.C., Corabastos                        8070\n",
              "Cúcuta, Cenabastos                              6865\n",
              "Villavicencio, CAV                              6383\n",
              "Ibagué, Plaza La 21                             6214\n",
              "                                               ...  \n",
              "Malambo, Atlantico                                46\n",
              "Malambo (Atlántico), Carnes y Carnes              23\n",
              "Ipiales (Nariño), Centro de Acopio                18\n",
              "San Gil (Santander), Panela                        4\n",
              "San Sebastián de Mariquita (Tolima), panela        3\n",
              "Name: Fuente, Length: 91, dtype: int64"
            ]
          },
          "metadata": {},
          "execution_count": 12
        }
      ],
      "source": [
        "# Here i'm seeing that the city is contained in the same column as the retailer center \n",
        "# we need to solve this after starting to gragh and do an analysis\n",
        "df['Fuente'].value_counts()"
      ]
    },
    {
      "cell_type": "code",
      "execution_count": null,
      "metadata": {
        "id": "mCi2MZgyqAg2"
      },
      "outputs": [],
      "source": [
        "# the process of split the values that have both the city and the retail market need to be in a independet column\n",
        "# but here you can see that there are values in the data base that have more than one comma that is dividing the values \n",
        "# bogota dc, corabastos should not have two commas only the comma that is differentiating it from a city and a market in the city\n",
        "# we want then to get only two columns and not three\n",
        "# i first used str.split but it split the string everytime that it find a comma\n",
        "# it's best to use str.rsplit as it will start from the end to find a delimeter\n",
        "df[['Ciudad','Plaza']] = df.Fuente.str.rsplit(',',n=1, expand = True)"
      ]
    },
    {
      "cell_type": "code",
      "execution_count": null,
      "metadata": {
        "colab": {
          "base_uri": "https://localhost:8080/",
          "height": 237
        },
        "id": "lIID0qjlVrdq",
        "outputId": "cc8edc34-99a6-4996-c3d0-bba64a4c3317"
      },
      "outputs": [
        {
          "output_type": "execute_result",
          "data": {
            "text/plain": [
              "                            Grupo Producto                        Fuente  \\\n",
              "Fecha                                                                      \n",
              "2019-01-01  VERDURAS Y HORTALIZAS   Acelga               Armenia, Mercar   \n",
              "2019-01-01  VERDURAS Y HORTALIZAS   Acelga  Barranquilla, Barranquillita   \n",
              "2019-01-01  VERDURAS Y HORTALIZAS   Acelga      Bogotá, D.C., Corabastos   \n",
              "2019-01-01  VERDURAS Y HORTALIZAS   Acelga    Bucaramanga, Centroabastos   \n",
              "2019-01-01  VERDURAS Y HORTALIZAS   Acelga         Chiquinquirá (Boyacá)   \n",
              "\n",
              "            Precio KG                 Ciudad            Plaza  \n",
              "Fecha                                                          \n",
              "2019-01-01     1065.0                Armenia           Mercar  \n",
              "2019-01-01     3000.0           Barranquilla   Barranquillita  \n",
              "2019-01-01      764.0           Bogotá, D.C.       Corabastos  \n",
              "2019-01-01     1556.0            Bucaramanga    Centroabastos  \n",
              "2019-01-01     1058.0  Chiquinquirá (Boyacá)             None  "
            ],
            "text/html": [
              "\n",
              "  <div id=\"df-12a33032-f34b-426c-804e-e8a1a68ca603\">\n",
              "    <div class=\"colab-df-container\">\n",
              "      <div>\n",
              "<style scoped>\n",
              "    .dataframe tbody tr th:only-of-type {\n",
              "        vertical-align: middle;\n",
              "    }\n",
              "\n",
              "    .dataframe tbody tr th {\n",
              "        vertical-align: top;\n",
              "    }\n",
              "\n",
              "    .dataframe thead th {\n",
              "        text-align: right;\n",
              "    }\n",
              "</style>\n",
              "<table border=\"1\" class=\"dataframe\">\n",
              "  <thead>\n",
              "    <tr style=\"text-align: right;\">\n",
              "      <th></th>\n",
              "      <th>Grupo</th>\n",
              "      <th>Producto</th>\n",
              "      <th>Fuente</th>\n",
              "      <th>Precio KG</th>\n",
              "      <th>Ciudad</th>\n",
              "      <th>Plaza</th>\n",
              "    </tr>\n",
              "    <tr>\n",
              "      <th>Fecha</th>\n",
              "      <th></th>\n",
              "      <th></th>\n",
              "      <th></th>\n",
              "      <th></th>\n",
              "      <th></th>\n",
              "      <th></th>\n",
              "    </tr>\n",
              "  </thead>\n",
              "  <tbody>\n",
              "    <tr>\n",
              "      <th>2019-01-01</th>\n",
              "      <td>VERDURAS Y HORTALIZAS</td>\n",
              "      <td>Acelga</td>\n",
              "      <td>Armenia, Mercar</td>\n",
              "      <td>1065.0</td>\n",
              "      <td>Armenia</td>\n",
              "      <td>Mercar</td>\n",
              "    </tr>\n",
              "    <tr>\n",
              "      <th>2019-01-01</th>\n",
              "      <td>VERDURAS Y HORTALIZAS</td>\n",
              "      <td>Acelga</td>\n",
              "      <td>Barranquilla, Barranquillita</td>\n",
              "      <td>3000.0</td>\n",
              "      <td>Barranquilla</td>\n",
              "      <td>Barranquillita</td>\n",
              "    </tr>\n",
              "    <tr>\n",
              "      <th>2019-01-01</th>\n",
              "      <td>VERDURAS Y HORTALIZAS</td>\n",
              "      <td>Acelga</td>\n",
              "      <td>Bogotá, D.C., Corabastos</td>\n",
              "      <td>764.0</td>\n",
              "      <td>Bogotá, D.C.</td>\n",
              "      <td>Corabastos</td>\n",
              "    </tr>\n",
              "    <tr>\n",
              "      <th>2019-01-01</th>\n",
              "      <td>VERDURAS Y HORTALIZAS</td>\n",
              "      <td>Acelga</td>\n",
              "      <td>Bucaramanga, Centroabastos</td>\n",
              "      <td>1556.0</td>\n",
              "      <td>Bucaramanga</td>\n",
              "      <td>Centroabastos</td>\n",
              "    </tr>\n",
              "    <tr>\n",
              "      <th>2019-01-01</th>\n",
              "      <td>VERDURAS Y HORTALIZAS</td>\n",
              "      <td>Acelga</td>\n",
              "      <td>Chiquinquirá (Boyacá)</td>\n",
              "      <td>1058.0</td>\n",
              "      <td>Chiquinquirá (Boyacá)</td>\n",
              "      <td>None</td>\n",
              "    </tr>\n",
              "  </tbody>\n",
              "</table>\n",
              "</div>\n",
              "      <button class=\"colab-df-convert\" onclick=\"convertToInteractive('df-12a33032-f34b-426c-804e-e8a1a68ca603')\"\n",
              "              title=\"Convert this dataframe to an interactive table.\"\n",
              "              style=\"display:none;\">\n",
              "        \n",
              "  <svg xmlns=\"http://www.w3.org/2000/svg\" height=\"24px\"viewBox=\"0 0 24 24\"\n",
              "       width=\"24px\">\n",
              "    <path d=\"M0 0h24v24H0V0z\" fill=\"none\"/>\n",
              "    <path d=\"M18.56 5.44l.94 2.06.94-2.06 2.06-.94-2.06-.94-.94-2.06-.94 2.06-2.06.94zm-11 1L8.5 8.5l.94-2.06 2.06-.94-2.06-.94L8.5 2.5l-.94 2.06-2.06.94zm10 10l.94 2.06.94-2.06 2.06-.94-2.06-.94-.94-2.06-.94 2.06-2.06.94z\"/><path d=\"M17.41 7.96l-1.37-1.37c-.4-.4-.92-.59-1.43-.59-.52 0-1.04.2-1.43.59L10.3 9.45l-7.72 7.72c-.78.78-.78 2.05 0 2.83L4 21.41c.39.39.9.59 1.41.59.51 0 1.02-.2 1.41-.59l7.78-7.78 2.81-2.81c.8-.78.8-2.07 0-2.86zM5.41 20L4 18.59l7.72-7.72 1.47 1.35L5.41 20z\"/>\n",
              "  </svg>\n",
              "      </button>\n",
              "      \n",
              "  <style>\n",
              "    .colab-df-container {\n",
              "      display:flex;\n",
              "      flex-wrap:wrap;\n",
              "      gap: 12px;\n",
              "    }\n",
              "\n",
              "    .colab-df-convert {\n",
              "      background-color: #E8F0FE;\n",
              "      border: none;\n",
              "      border-radius: 50%;\n",
              "      cursor: pointer;\n",
              "      display: none;\n",
              "      fill: #1967D2;\n",
              "      height: 32px;\n",
              "      padding: 0 0 0 0;\n",
              "      width: 32px;\n",
              "    }\n",
              "\n",
              "    .colab-df-convert:hover {\n",
              "      background-color: #E2EBFA;\n",
              "      box-shadow: 0px 1px 2px rgba(60, 64, 67, 0.3), 0px 1px 3px 1px rgba(60, 64, 67, 0.15);\n",
              "      fill: #174EA6;\n",
              "    }\n",
              "\n",
              "    [theme=dark] .colab-df-convert {\n",
              "      background-color: #3B4455;\n",
              "      fill: #D2E3FC;\n",
              "    }\n",
              "\n",
              "    [theme=dark] .colab-df-convert:hover {\n",
              "      background-color: #434B5C;\n",
              "      box-shadow: 0px 1px 3px 1px rgba(0, 0, 0, 0.15);\n",
              "      filter: drop-shadow(0px 1px 2px rgba(0, 0, 0, 0.3));\n",
              "      fill: #FFFFFF;\n",
              "    }\n",
              "  </style>\n",
              "\n",
              "      <script>\n",
              "        const buttonEl =\n",
              "          document.querySelector('#df-12a33032-f34b-426c-804e-e8a1a68ca603 button.colab-df-convert');\n",
              "        buttonEl.style.display =\n",
              "          google.colab.kernel.accessAllowed ? 'block' : 'none';\n",
              "\n",
              "        async function convertToInteractive(key) {\n",
              "          const element = document.querySelector('#df-12a33032-f34b-426c-804e-e8a1a68ca603');\n",
              "          const dataTable =\n",
              "            await google.colab.kernel.invokeFunction('convertToInteractive',\n",
              "                                                     [key], {});\n",
              "          if (!dataTable) return;\n",
              "\n",
              "          const docLinkHtml = 'Like what you see? Visit the ' +\n",
              "            '<a target=\"_blank\" href=https://colab.research.google.com/notebooks/data_table.ipynb>data table notebook</a>'\n",
              "            + ' to learn more about interactive tables.';\n",
              "          element.innerHTML = '';\n",
              "          dataTable['output_type'] = 'display_data';\n",
              "          await google.colab.output.renderOutput(dataTable, element);\n",
              "          const docLink = document.createElement('div');\n",
              "          docLink.innerHTML = docLinkHtml;\n",
              "          element.appendChild(docLink);\n",
              "        }\n",
              "      </script>\n",
              "    </div>\n",
              "  </div>\n",
              "  "
            ]
          },
          "metadata": {},
          "execution_count": 14
        }
      ],
      "source": [
        "# in the star of the dataframe we can see that there are valuess that include the city but not the marketplace \n",
        "# it is important to take this into consideration\n",
        "df.head()\n"
      ]
    },
    {
      "cell_type": "code",
      "execution_count": null,
      "metadata": {
        "colab": {
          "base_uri": "https://localhost:8080/"
        },
        "id": "qbPjCeThWBLp",
        "outputId": "2ee3ecad-9f49-47bd-a1fd-30f31be196f9"
      },
      "outputs": [
        {
          "output_type": "execute_result",
          "data": {
            "text/plain": [
              "Bogotá, D.C.                        18734\n",
              "Medellín                            15561\n",
              "Cali                                14576\n",
              "Barranquilla                         9971\n",
              "Cúcuta                               9715\n",
              "Pereira                              8878\n",
              "Bucaramanga                          8756\n",
              "Villavicencio                        6383\n",
              "Ibagué                               6214\n",
              "Valledupar                           5986\n",
              "Montería                             5959\n",
              "Armenia                              5921\n",
              "Popayán                              5647\n",
              "Palmira (Valle del Cauca)            5523\n",
              "Manizales                            5514\n",
              "Neiva                                5476\n",
              "Tuluá (Valle del Cauca)              5420\n",
              "Cartagena                            5350\n",
              "Sincelejo                            5249\n",
              "Pasto                                4864\n",
              "Tunja                                4837\n",
              "Cartago (Valle del Cauca)            4716\n",
              "Buenaventura (Valle del Cauca)       4320\n",
              "Pamplona (Norte de Santander)        4150\n",
              "Santa Marta (Magdalena)              3473\n",
              "Florencia (Caquetá)                  3226\n",
              "San Gil (Santander)                  2841\n",
              "Chiquinquirá (Boyacá)                2792\n",
              "Duitama (Boyacá)                     2764\n",
              "Yopal (Casanare)                     2730\n",
              "Arauca (Arauca)                      2684\n",
              "Ipiales (Nariño)                     2568\n",
              "Rionegro (Antioquia)                 2142\n",
              "Socorro (Santander)                  1923\n",
              "Sogamoso (Boyacá)                    1805\n",
              "Tibasosa (Boyacá)                    1619\n",
              "La Unión (Nariño)                    1389\n",
              "La Ceja (Antioquia)                  1256\n",
              "Túquerres (Nariño)                   1251\n",
              "Sonsón (Antioquia)                   1157\n",
              "Malambo (Atlántico)                  1067\n",
              "Marinilla (Antioquia)                1049\n",
              "Ubaté (Cundinamarca)                  856\n",
              "Santa Bárbara (Antioquia)             714\n",
              "Peñol (Antioquia)                     649\n",
              "San Vicente (Antioquia)               584\n",
              "El Santuario (Antioquia)              480\n",
              "El Carmen de Viboral (Antioquia)      380\n",
              "La Unión (Antioquia)                  192\n",
              "Caparrapí (Cundinamarca)              144\n",
              "Name: Ciudad, dtype: int64"
            ]
          },
          "metadata": {},
          "execution_count": 15
        }
      ],
      "source": [
        "# here we count every vale from 0 to 50 to see whether there is a city misspelled\n",
        "\n",
        "df.Ciudad.value_counts()[0:50]"
      ]
    },
    {
      "cell_type": "code",
      "source": [
        "# i droped the Fuente value as it will not give me any value since \n",
        "# you will need the city and maybe a specific retail market called \"Plaza\"\n",
        "df = df.drop(['Fuente'],axis=1)\n",
        "# here you can confirm that the data base is still the same only without the \"Fuente\" Column\n",
        "df.head()"
      ],
      "metadata": {
        "colab": {
          "base_uri": "https://localhost:8080/",
          "height": 237
        },
        "id": "-WYc_HYI3SJT",
        "outputId": "44e32904-2b24-4c3f-92c7-506a76c52fb8"
      },
      "execution_count": null,
      "outputs": [
        {
          "output_type": "execute_result",
          "data": {
            "text/plain": [
              "                            Grupo Producto  Precio KG                 Ciudad  \\\n",
              "Fecha                                                                          \n",
              "2019-01-01  VERDURAS Y HORTALIZAS   Acelga     1065.0                Armenia   \n",
              "2019-01-01  VERDURAS Y HORTALIZAS   Acelga     3000.0           Barranquilla   \n",
              "2019-01-01  VERDURAS Y HORTALIZAS   Acelga      764.0           Bogotá, D.C.   \n",
              "2019-01-01  VERDURAS Y HORTALIZAS   Acelga     1556.0            Bucaramanga   \n",
              "2019-01-01  VERDURAS Y HORTALIZAS   Acelga     1058.0  Chiquinquirá (Boyacá)   \n",
              "\n",
              "                      Plaza  \n",
              "Fecha                        \n",
              "2019-01-01           Mercar  \n",
              "2019-01-01   Barranquillita  \n",
              "2019-01-01       Corabastos  \n",
              "2019-01-01    Centroabastos  \n",
              "2019-01-01             None  "
            ],
            "text/html": [
              "\n",
              "  <div id=\"df-fa2a5529-bd90-449a-bca1-ae45eaa451a2\">\n",
              "    <div class=\"colab-df-container\">\n",
              "      <div>\n",
              "<style scoped>\n",
              "    .dataframe tbody tr th:only-of-type {\n",
              "        vertical-align: middle;\n",
              "    }\n",
              "\n",
              "    .dataframe tbody tr th {\n",
              "        vertical-align: top;\n",
              "    }\n",
              "\n",
              "    .dataframe thead th {\n",
              "        text-align: right;\n",
              "    }\n",
              "</style>\n",
              "<table border=\"1\" class=\"dataframe\">\n",
              "  <thead>\n",
              "    <tr style=\"text-align: right;\">\n",
              "      <th></th>\n",
              "      <th>Grupo</th>\n",
              "      <th>Producto</th>\n",
              "      <th>Precio KG</th>\n",
              "      <th>Ciudad</th>\n",
              "      <th>Plaza</th>\n",
              "    </tr>\n",
              "    <tr>\n",
              "      <th>Fecha</th>\n",
              "      <th></th>\n",
              "      <th></th>\n",
              "      <th></th>\n",
              "      <th></th>\n",
              "      <th></th>\n",
              "    </tr>\n",
              "  </thead>\n",
              "  <tbody>\n",
              "    <tr>\n",
              "      <th>2019-01-01</th>\n",
              "      <td>VERDURAS Y HORTALIZAS</td>\n",
              "      <td>Acelga</td>\n",
              "      <td>1065.0</td>\n",
              "      <td>Armenia</td>\n",
              "      <td>Mercar</td>\n",
              "    </tr>\n",
              "    <tr>\n",
              "      <th>2019-01-01</th>\n",
              "      <td>VERDURAS Y HORTALIZAS</td>\n",
              "      <td>Acelga</td>\n",
              "      <td>3000.0</td>\n",
              "      <td>Barranquilla</td>\n",
              "      <td>Barranquillita</td>\n",
              "    </tr>\n",
              "    <tr>\n",
              "      <th>2019-01-01</th>\n",
              "      <td>VERDURAS Y HORTALIZAS</td>\n",
              "      <td>Acelga</td>\n",
              "      <td>764.0</td>\n",
              "      <td>Bogotá, D.C.</td>\n",
              "      <td>Corabastos</td>\n",
              "    </tr>\n",
              "    <tr>\n",
              "      <th>2019-01-01</th>\n",
              "      <td>VERDURAS Y HORTALIZAS</td>\n",
              "      <td>Acelga</td>\n",
              "      <td>1556.0</td>\n",
              "      <td>Bucaramanga</td>\n",
              "      <td>Centroabastos</td>\n",
              "    </tr>\n",
              "    <tr>\n",
              "      <th>2019-01-01</th>\n",
              "      <td>VERDURAS Y HORTALIZAS</td>\n",
              "      <td>Acelga</td>\n",
              "      <td>1058.0</td>\n",
              "      <td>Chiquinquirá (Boyacá)</td>\n",
              "      <td>None</td>\n",
              "    </tr>\n",
              "  </tbody>\n",
              "</table>\n",
              "</div>\n",
              "      <button class=\"colab-df-convert\" onclick=\"convertToInteractive('df-fa2a5529-bd90-449a-bca1-ae45eaa451a2')\"\n",
              "              title=\"Convert this dataframe to an interactive table.\"\n",
              "              style=\"display:none;\">\n",
              "        \n",
              "  <svg xmlns=\"http://www.w3.org/2000/svg\" height=\"24px\"viewBox=\"0 0 24 24\"\n",
              "       width=\"24px\">\n",
              "    <path d=\"M0 0h24v24H0V0z\" fill=\"none\"/>\n",
              "    <path d=\"M18.56 5.44l.94 2.06.94-2.06 2.06-.94-2.06-.94-.94-2.06-.94 2.06-2.06.94zm-11 1L8.5 8.5l.94-2.06 2.06-.94-2.06-.94L8.5 2.5l-.94 2.06-2.06.94zm10 10l.94 2.06.94-2.06 2.06-.94-2.06-.94-.94-2.06-.94 2.06-2.06.94z\"/><path d=\"M17.41 7.96l-1.37-1.37c-.4-.4-.92-.59-1.43-.59-.52 0-1.04.2-1.43.59L10.3 9.45l-7.72 7.72c-.78.78-.78 2.05 0 2.83L4 21.41c.39.39.9.59 1.41.59.51 0 1.02-.2 1.41-.59l7.78-7.78 2.81-2.81c.8-.78.8-2.07 0-2.86zM5.41 20L4 18.59l7.72-7.72 1.47 1.35L5.41 20z\"/>\n",
              "  </svg>\n",
              "      </button>\n",
              "      \n",
              "  <style>\n",
              "    .colab-df-container {\n",
              "      display:flex;\n",
              "      flex-wrap:wrap;\n",
              "      gap: 12px;\n",
              "    }\n",
              "\n",
              "    .colab-df-convert {\n",
              "      background-color: #E8F0FE;\n",
              "      border: none;\n",
              "      border-radius: 50%;\n",
              "      cursor: pointer;\n",
              "      display: none;\n",
              "      fill: #1967D2;\n",
              "      height: 32px;\n",
              "      padding: 0 0 0 0;\n",
              "      width: 32px;\n",
              "    }\n",
              "\n",
              "    .colab-df-convert:hover {\n",
              "      background-color: #E2EBFA;\n",
              "      box-shadow: 0px 1px 2px rgba(60, 64, 67, 0.3), 0px 1px 3px 1px rgba(60, 64, 67, 0.15);\n",
              "      fill: #174EA6;\n",
              "    }\n",
              "\n",
              "    [theme=dark] .colab-df-convert {\n",
              "      background-color: #3B4455;\n",
              "      fill: #D2E3FC;\n",
              "    }\n",
              "\n",
              "    [theme=dark] .colab-df-convert:hover {\n",
              "      background-color: #434B5C;\n",
              "      box-shadow: 0px 1px 3px 1px rgba(0, 0, 0, 0.15);\n",
              "      filter: drop-shadow(0px 1px 2px rgba(0, 0, 0, 0.3));\n",
              "      fill: #FFFFFF;\n",
              "    }\n",
              "  </style>\n",
              "\n",
              "      <script>\n",
              "        const buttonEl =\n",
              "          document.querySelector('#df-fa2a5529-bd90-449a-bca1-ae45eaa451a2 button.colab-df-convert');\n",
              "        buttonEl.style.display =\n",
              "          google.colab.kernel.accessAllowed ? 'block' : 'none';\n",
              "\n",
              "        async function convertToInteractive(key) {\n",
              "          const element = document.querySelector('#df-fa2a5529-bd90-449a-bca1-ae45eaa451a2');\n",
              "          const dataTable =\n",
              "            await google.colab.kernel.invokeFunction('convertToInteractive',\n",
              "                                                     [key], {});\n",
              "          if (!dataTable) return;\n",
              "\n",
              "          const docLinkHtml = 'Like what you see? Visit the ' +\n",
              "            '<a target=\"_blank\" href=https://colab.research.google.com/notebooks/data_table.ipynb>data table notebook</a>'\n",
              "            + ' to learn more about interactive tables.';\n",
              "          element.innerHTML = '';\n",
              "          dataTable['output_type'] = 'display_data';\n",
              "          await google.colab.output.renderOutput(dataTable, element);\n",
              "          const docLink = document.createElement('div');\n",
              "          docLink.innerHTML = docLinkHtml;\n",
              "          element.appendChild(docLink);\n",
              "        }\n",
              "      </script>\n",
              "    </div>\n",
              "  </div>\n",
              "  "
            ]
          },
          "metadata": {},
          "execution_count": 16
        }
      ]
    },
    {
      "cell_type": "code",
      "execution_count": null,
      "metadata": {
        "colab": {
          "base_uri": "https://localhost:8080/"
        },
        "id": "PghdOeyRv-fN",
        "outputId": "a242e04c-0f1c-4d3c-f0e4-3105fe8002a7"
      },
      "outputs": [
        {
          "output_type": "execute_result",
          "data": {
            "text/plain": [
              "FRUTAS                           53015\n",
              "VERDURAS Y HORTALIZAS            43664\n",
              "CARNES                           32565\n",
              "PROCESADOS                       32080\n",
              "TUBERCULOS, RAICES Y PLATANOS    16948\n",
              "GRANOS Y CEREALES                13366\n",
              "PESCADOS                         10352\n",
              "LACTEOS Y HUEVOS                  9418\n",
              "Frutas                            2261\n",
              "Verduras y Hortalizas             1893\n",
              "Carnes                            1429\n",
              "Procesados                        1387\n",
              "Tubérculos, Raíces y Plátanos      704\n",
              "Granos y Cereales                  578\n",
              "Pescados                           448\n",
              "Lácteos y Huevos                   409\n",
              "Name: Grupo, dtype: int64"
            ]
          },
          "metadata": {},
          "execution_count": 17
        }
      ],
      "source": [
        "# this is another part of the data cleaning and filtering \n",
        "#we see duplicates with differences in the upper letters\n",
        "df['Grupo'].value_counts()\n"
      ]
    },
    {
      "cell_type": "code",
      "source": [
        "# as you can see the str.lower will change all the \n",
        "# upper letters for lower case\n",
        "df['Grupo'] = df['Grupo'].str.lower()\n",
        "\n",
        "df['Grupo'].value_counts()"
      ],
      "metadata": {
        "id": "g8vrV1LG5DHW",
        "colab": {
          "base_uri": "https://localhost:8080/"
        },
        "outputId": "50d756f6-ef86-4905-a6b8-cc01585db5f5"
      },
      "execution_count": null,
      "outputs": [
        {
          "output_type": "execute_result",
          "data": {
            "text/plain": [
              "frutas                           55276\n",
              "verduras y hortalizas            45557\n",
              "carnes                           33994\n",
              "procesados                       33467\n",
              "tuberculos, raices y platanos    16948\n",
              "granos y cereales                13944\n",
              "pescados                         10800\n",
              "lacteos y huevos                  9418\n",
              "tubérculos, raíces y plátanos      704\n",
              "lácteos y huevos                   409\n",
              "Name: Grupo, dtype: int64"
            ]
          },
          "metadata": {},
          "execution_count": 18
        }
      ]
    },
    {
      "cell_type": "code",
      "source": [
        "# you can se the dict of values that i'm going to replce with the .replace function\n",
        "dic = {'é': 'e', 'í': 'i','á':'a'}"
      ],
      "metadata": {
        "id": "ZlpN9kfkc2Nw"
      },
      "execution_count": null,
      "outputs": []
    },
    {
      "cell_type": "code",
      "source": [
        "df.replace(dic, regex=True, inplace=True)"
      ],
      "metadata": {
        "id": "9NEYYOf6fVd6"
      },
      "execution_count": null,
      "outputs": []
    },
    {
      "cell_type": "code",
      "source": [
        "df['Grupo'].value_counts()"
      ],
      "metadata": {
        "colab": {
          "base_uri": "https://localhost:8080/"
        },
        "id": "BOcV8jCoeSUr",
        "outputId": "ab2ff605-9b55-46ab-e4fc-7ce4cd90a275"
      },
      "execution_count": null,
      "outputs": [
        {
          "output_type": "execute_result",
          "data": {
            "text/plain": [
              "frutas                           55276\n",
              "verduras y hortalizas            45557\n",
              "carnes                           33994\n",
              "procesados                       33467\n",
              "tuberculos, raices y platanos    17652\n",
              "granos y cereales                13944\n",
              "pescados                         10800\n",
              "lacteos y huevos                  9827\n",
              "Name: Grupo, dtype: int64"
            ]
          },
          "metadata": {},
          "execution_count": 21
        }
      ]
    },
    {
      "cell_type": "code",
      "source": [
        "# now we need to see wheter there may be other values such as ó or ú \n",
        "# for this we need to analyse the other types of products from each category \n",
        "# but instead we will find this values and if it exists in the data base\n",
        "# if those values exists we will addd them to the dictionary to then replace them and get an homogeneus list\n"
      ],
      "metadata": {
        "id": "e9SfYgpIfhyB"
      },
      "execution_count": null,
      "outputs": []
    },
    {
      "cell_type": "code",
      "source": [
        "# Thiss code reveal that there are no ó or ú in the data base that need to be replaced\n",
        "# Then the code above of .replace wwill work just fine\n",
        "### remember to add a list for ú and ó too\n",
        "df['Grupo'].str.count('ú').sum()\n"
      ],
      "metadata": {
        "colab": {
          "base_uri": "https://localhost:8080/"
        },
        "id": "IiS3-0AQ-E_Z",
        "outputId": "c9ed306c-abd6-4361-8e4a-9ad5666dc98c"
      },
      "execution_count": null,
      "outputs": [
        {
          "output_type": "execute_result",
          "data": {
            "text/plain": [
              "0"
            ]
          },
          "metadata": {},
          "execution_count": 23
        }
      ]
    },
    {
      "cell_type": "code",
      "source": [
        "# here i replace the tring with a value o it is more easy to get values and analyze them witouth touching the principal code\n",
        "# here noww e dont acll the list inide the iin function\n",
        "# instead i used a vaariable to store a list that caaan containt all the types of groups of goods\n",
        "G = ['frutas']\n",
        "df2 = df[df['Grupo'].isin(G)]\n",
        "df2['Producto'].value_counts()[0:30]"
      ],
      "metadata": {
        "colab": {
          "base_uri": "https://localhost:8080/"
        },
        "id": "nswbtL0SQddR",
        "outputId": "c4da7dc1-81a6-476f-a0fa-9ae6878552cd"
      },
      "execution_count": null,
      "outputs": [
        {
          "output_type": "execute_result",
          "data": {
            "text/plain": [
              "Tomate de arbol                 2262\n",
              "Manzana verde importada         1848\n",
              "Lulo                            1830\n",
              "Mora de Castilla                1806\n",
              "Manzana roja importada          1760\n",
              "Guayaba pera                    1721\n",
              "Banano criollo                  1709\n",
              "Pera importada                  1606\n",
              "Papaya Maradol                  1597\n",
              "Manzana royal gala importada    1565\n",
              "Maracuya                        1546\n",
              "Aguacate papelillo              1533\n",
              "Mango Tommy                     1521\n",
              "Limón Tahiti                    1444\n",
              "Limón común                     1404\n",
              "Granadilla                      1347\n",
              "Uva Isabela                     1328\n",
              "Piña gold                       1309\n",
              "Melón Cantalup                  1254\n",
              "Naranja Valencia                1231\n",
              "Patilla                         1188\n",
              "Guanabana                       1183\n",
              "Fresa                           1172\n",
              "Curuba                          1101\n",
              "Kiwi                            1067\n",
              "Uva red globe nacional           880\n",
              "Piña perolera                    832\n",
              "Mandarina Arrayana               798\n",
              "Mandarina común                  759\n",
              "Coco                             707\n",
              "Name: Producto, dtype: int64"
            ]
          },
          "metadata": {},
          "execution_count": 24
        }
      ]
    },
    {
      "cell_type": "code",
      "source": [
        "C = ['Bogota, D.C.']\n",
        "P = ['Mango Tommy']\n",
        "dfp = df2[df2[\"Producto\"].isin(P)]\n",
        "dfpc = df2[(df2[\"Producto\"].isin(P)) & (df2['Ciudad'].isin(C))]"
      ],
      "metadata": {
        "id": "qMRMxCZYLTE8"
      },
      "execution_count": 114,
      "outputs": []
    },
    {
      "cell_type": "code",
      "source": [
        "dfpc"
      ],
      "metadata": {
        "colab": {
          "base_uri": "https://localhost:8080/",
          "height": 1000
        },
        "id": "VQvdbKwNXNue",
        "outputId": "93098626-7cbf-453a-e7e0-b729dcbe6b71"
      },
      "execution_count": 115,
      "outputs": [
        {
          "output_type": "execute_result",
          "data": {
            "text/plain": [
              "             Grupo     Producto  Precio KG        Ciudad        Plaza\n",
              "Fecha                                                                \n",
              "2019-01-01  frutas  Mango Tommy     2531.0  Bogota, D.C.   Corabastos\n",
              "2019-02-01  frutas  Mango Tommy     2901.0  Bogota, D.C.   Corabastos\n",
              "2019-03-01  frutas  Mango Tommy     4069.0  Bogota, D.C.   Corabastos\n",
              "2019-04-01  frutas  Mango Tommy     3062.0  Bogota, D.C.   Corabastos\n",
              "2019-05-01  frutas  Mango Tommy     1870.0  Bogota, D.C.   Corabastos\n",
              "2019-06-01  frutas  Mango Tommy     3082.0  Bogota, D.C.   Corabastos\n",
              "2019-07-01  frutas  Mango Tommy     5297.0  Bogota, D.C.   Corabastos\n",
              "2019-08-01  frutas  Mango Tommy     6243.0  Bogota, D.C.   Corabastos\n",
              "2019-09-01  frutas  Mango Tommy     7090.0  Bogota, D.C.   Corabastos\n",
              "2019-10-01  frutas  Mango Tommy     4933.0  Bogota, D.C.   Corabastos\n",
              "2019-11-01  frutas  Mango Tommy     2908.0  Bogota, D.C.   Corabastos\n",
              "2019-12-01  frutas  Mango Tommy     1576.0  Bogota, D.C.   Corabastos\n",
              "2020-01-01  frutas  Mango Tommy     1673.0  Bogota, D.C.   Corabastos\n",
              "2020-02-01  frutas  Mango Tommy     2540.0  Bogota, D.C.   Corabastos\n",
              "2020-03-01  frutas  Mango Tommy     3428.0  Bogota, D.C.   Corabastos\n",
              "2020-04-01  frutas  Mango Tommy     3304.0  Bogota, D.C.   Corabastos\n",
              "2020-05-01  frutas  Mango Tommy     2806.0  Bogota, D.C.   Corabastos\n",
              "2020-06-01  frutas  Mango Tommy     2258.0  Bogota, D.C.   Corabastos\n",
              "2020-07-01  frutas  Mango Tommy     3169.0  Bogota, D.C.   Corabastos\n",
              "2020-08-01  frutas  Mango Tommy     5561.0  Bogota, D.C.   Corabastos\n",
              "2020-09-01  frutas  Mango Tommy     6515.0  Bogota, D.C.   Corabastos\n",
              "2020-10-01  frutas  Mango Tommy     6522.0  Bogota, D.C.   Corabastos\n",
              "2020-11-01  frutas  Mango Tommy     3950.0  Bogota, D.C.   Corabastos\n",
              "2020-12-01  frutas  Mango Tommy     2182.0  Bogota, D.C.   Corabastos\n",
              "2021-01-01  frutas  Mango Tommy     1783.0  Bogota, D.C.   Corabastos\n",
              "2021-02-01  frutas  Mango Tommy     1922.0  Bogota, D.C.   Corabastos\n",
              "2021-03-01  frutas  Mango Tommy     3288.0  Bogota, D.C.   Corabastos\n",
              "2021-04-01  frutas  Mango Tommy     3286.0  Bogota, D.C.   Corabastos\n",
              "2021-05-01  frutas  Mango Tommy     2331.0  Bogota, D.C.   Corabastos\n",
              "2021-06-01  frutas  Mango Tommy     2695.0  Bogota, D.C.   Corabastos\n",
              "2021-07-01  frutas  Mango Tommy     4740.0  Bogota, D.C.   Corabastos\n",
              "2021-08-01  frutas  Mango Tommy     6897.0  Bogota, D.C.   Corabastos\n",
              "2021-09-01  frutas  Mango Tommy     7254.0  Bogota, D.C.   Corabastos\n",
              "2021-10-01  frutas  Mango Tommy     4183.0  Bogota, D.C.   Corabastos\n",
              "2021-11-01  frutas  Mango Tommy     2325.0  Bogota, D.C.   Corabastos\n",
              "2021-12-01  frutas  Mango Tommy     2210.0  Bogota, D.C.   Corabastos\n",
              "2022-01-01  frutas  Mango Tommy     3642.0  Bogota, D.C.   Corabastos\n",
              "2022-02-01  frutas  Mango Tommy     5269.0  Bogota, D.C.   Corabastos\n",
              "2022-05-01  frutas  Mango Tommy     3434.0  Bogota, D.C.   Corabastos\n",
              "2022-06-01  frutas  Mango Tommy     5091.0  Bogota, D.C.   Corabastos\n",
              "2022-07-01  frutas  Mango Tommy     6297.0  Bogota, D.C.   Corabastos\n",
              "2022-08-01  frutas  Mango Tommy     8248.0  Bogota, D.C.   Corabastos\n",
              "2022-09-01  frutas  Mango Tommy     9533.0  Bogota, D.C.   Corabastos\n",
              "2022-10-01  frutas  Mango Tommy     5537.0  Bogota, D.C.   Corabastos\n",
              "2022-11-01  frutas  Mango Tommy     2529.0  Bogota, D.C.   Corabastos\n",
              "2022-12-01  frutas  Mango Tommy     2082.0  Bogota, D.C.   Corabastos"
            ],
            "text/html": [
              "\n",
              "  <div id=\"df-c997a52b-0a2d-4515-ba9f-28c6b7e513da\">\n",
              "    <div class=\"colab-df-container\">\n",
              "      <div>\n",
              "<style scoped>\n",
              "    .dataframe tbody tr th:only-of-type {\n",
              "        vertical-align: middle;\n",
              "    }\n",
              "\n",
              "    .dataframe tbody tr th {\n",
              "        vertical-align: top;\n",
              "    }\n",
              "\n",
              "    .dataframe thead th {\n",
              "        text-align: right;\n",
              "    }\n",
              "</style>\n",
              "<table border=\"1\" class=\"dataframe\">\n",
              "  <thead>\n",
              "    <tr style=\"text-align: right;\">\n",
              "      <th></th>\n",
              "      <th>Grupo</th>\n",
              "      <th>Producto</th>\n",
              "      <th>Precio KG</th>\n",
              "      <th>Ciudad</th>\n",
              "      <th>Plaza</th>\n",
              "    </tr>\n",
              "    <tr>\n",
              "      <th>Fecha</th>\n",
              "      <th></th>\n",
              "      <th></th>\n",
              "      <th></th>\n",
              "      <th></th>\n",
              "      <th></th>\n",
              "    </tr>\n",
              "  </thead>\n",
              "  <tbody>\n",
              "    <tr>\n",
              "      <th>2019-01-01</th>\n",
              "      <td>frutas</td>\n",
              "      <td>Mango Tommy</td>\n",
              "      <td>2531.0</td>\n",
              "      <td>Bogota, D.C.</td>\n",
              "      <td>Corabastos</td>\n",
              "    </tr>\n",
              "    <tr>\n",
              "      <th>2019-02-01</th>\n",
              "      <td>frutas</td>\n",
              "      <td>Mango Tommy</td>\n",
              "      <td>2901.0</td>\n",
              "      <td>Bogota, D.C.</td>\n",
              "      <td>Corabastos</td>\n",
              "    </tr>\n",
              "    <tr>\n",
              "      <th>2019-03-01</th>\n",
              "      <td>frutas</td>\n",
              "      <td>Mango Tommy</td>\n",
              "      <td>4069.0</td>\n",
              "      <td>Bogota, D.C.</td>\n",
              "      <td>Corabastos</td>\n",
              "    </tr>\n",
              "    <tr>\n",
              "      <th>2019-04-01</th>\n",
              "      <td>frutas</td>\n",
              "      <td>Mango Tommy</td>\n",
              "      <td>3062.0</td>\n",
              "      <td>Bogota, D.C.</td>\n",
              "      <td>Corabastos</td>\n",
              "    </tr>\n",
              "    <tr>\n",
              "      <th>2019-05-01</th>\n",
              "      <td>frutas</td>\n",
              "      <td>Mango Tommy</td>\n",
              "      <td>1870.0</td>\n",
              "      <td>Bogota, D.C.</td>\n",
              "      <td>Corabastos</td>\n",
              "    </tr>\n",
              "    <tr>\n",
              "      <th>2019-06-01</th>\n",
              "      <td>frutas</td>\n",
              "      <td>Mango Tommy</td>\n",
              "      <td>3082.0</td>\n",
              "      <td>Bogota, D.C.</td>\n",
              "      <td>Corabastos</td>\n",
              "    </tr>\n",
              "    <tr>\n",
              "      <th>2019-07-01</th>\n",
              "      <td>frutas</td>\n",
              "      <td>Mango Tommy</td>\n",
              "      <td>5297.0</td>\n",
              "      <td>Bogota, D.C.</td>\n",
              "      <td>Corabastos</td>\n",
              "    </tr>\n",
              "    <tr>\n",
              "      <th>2019-08-01</th>\n",
              "      <td>frutas</td>\n",
              "      <td>Mango Tommy</td>\n",
              "      <td>6243.0</td>\n",
              "      <td>Bogota, D.C.</td>\n",
              "      <td>Corabastos</td>\n",
              "    </tr>\n",
              "    <tr>\n",
              "      <th>2019-09-01</th>\n",
              "      <td>frutas</td>\n",
              "      <td>Mango Tommy</td>\n",
              "      <td>7090.0</td>\n",
              "      <td>Bogota, D.C.</td>\n",
              "      <td>Corabastos</td>\n",
              "    </tr>\n",
              "    <tr>\n",
              "      <th>2019-10-01</th>\n",
              "      <td>frutas</td>\n",
              "      <td>Mango Tommy</td>\n",
              "      <td>4933.0</td>\n",
              "      <td>Bogota, D.C.</td>\n",
              "      <td>Corabastos</td>\n",
              "    </tr>\n",
              "    <tr>\n",
              "      <th>2019-11-01</th>\n",
              "      <td>frutas</td>\n",
              "      <td>Mango Tommy</td>\n",
              "      <td>2908.0</td>\n",
              "      <td>Bogota, D.C.</td>\n",
              "      <td>Corabastos</td>\n",
              "    </tr>\n",
              "    <tr>\n",
              "      <th>2019-12-01</th>\n",
              "      <td>frutas</td>\n",
              "      <td>Mango Tommy</td>\n",
              "      <td>1576.0</td>\n",
              "      <td>Bogota, D.C.</td>\n",
              "      <td>Corabastos</td>\n",
              "    </tr>\n",
              "    <tr>\n",
              "      <th>2020-01-01</th>\n",
              "      <td>frutas</td>\n",
              "      <td>Mango Tommy</td>\n",
              "      <td>1673.0</td>\n",
              "      <td>Bogota, D.C.</td>\n",
              "      <td>Corabastos</td>\n",
              "    </tr>\n",
              "    <tr>\n",
              "      <th>2020-02-01</th>\n",
              "      <td>frutas</td>\n",
              "      <td>Mango Tommy</td>\n",
              "      <td>2540.0</td>\n",
              "      <td>Bogota, D.C.</td>\n",
              "      <td>Corabastos</td>\n",
              "    </tr>\n",
              "    <tr>\n",
              "      <th>2020-03-01</th>\n",
              "      <td>frutas</td>\n",
              "      <td>Mango Tommy</td>\n",
              "      <td>3428.0</td>\n",
              "      <td>Bogota, D.C.</td>\n",
              "      <td>Corabastos</td>\n",
              "    </tr>\n",
              "    <tr>\n",
              "      <th>2020-04-01</th>\n",
              "      <td>frutas</td>\n",
              "      <td>Mango Tommy</td>\n",
              "      <td>3304.0</td>\n",
              "      <td>Bogota, D.C.</td>\n",
              "      <td>Corabastos</td>\n",
              "    </tr>\n",
              "    <tr>\n",
              "      <th>2020-05-01</th>\n",
              "      <td>frutas</td>\n",
              "      <td>Mango Tommy</td>\n",
              "      <td>2806.0</td>\n",
              "      <td>Bogota, D.C.</td>\n",
              "      <td>Corabastos</td>\n",
              "    </tr>\n",
              "    <tr>\n",
              "      <th>2020-06-01</th>\n",
              "      <td>frutas</td>\n",
              "      <td>Mango Tommy</td>\n",
              "      <td>2258.0</td>\n",
              "      <td>Bogota, D.C.</td>\n",
              "      <td>Corabastos</td>\n",
              "    </tr>\n",
              "    <tr>\n",
              "      <th>2020-07-01</th>\n",
              "      <td>frutas</td>\n",
              "      <td>Mango Tommy</td>\n",
              "      <td>3169.0</td>\n",
              "      <td>Bogota, D.C.</td>\n",
              "      <td>Corabastos</td>\n",
              "    </tr>\n",
              "    <tr>\n",
              "      <th>2020-08-01</th>\n",
              "      <td>frutas</td>\n",
              "      <td>Mango Tommy</td>\n",
              "      <td>5561.0</td>\n",
              "      <td>Bogota, D.C.</td>\n",
              "      <td>Corabastos</td>\n",
              "    </tr>\n",
              "    <tr>\n",
              "      <th>2020-09-01</th>\n",
              "      <td>frutas</td>\n",
              "      <td>Mango Tommy</td>\n",
              "      <td>6515.0</td>\n",
              "      <td>Bogota, D.C.</td>\n",
              "      <td>Corabastos</td>\n",
              "    </tr>\n",
              "    <tr>\n",
              "      <th>2020-10-01</th>\n",
              "      <td>frutas</td>\n",
              "      <td>Mango Tommy</td>\n",
              "      <td>6522.0</td>\n",
              "      <td>Bogota, D.C.</td>\n",
              "      <td>Corabastos</td>\n",
              "    </tr>\n",
              "    <tr>\n",
              "      <th>2020-11-01</th>\n",
              "      <td>frutas</td>\n",
              "      <td>Mango Tommy</td>\n",
              "      <td>3950.0</td>\n",
              "      <td>Bogota, D.C.</td>\n",
              "      <td>Corabastos</td>\n",
              "    </tr>\n",
              "    <tr>\n",
              "      <th>2020-12-01</th>\n",
              "      <td>frutas</td>\n",
              "      <td>Mango Tommy</td>\n",
              "      <td>2182.0</td>\n",
              "      <td>Bogota, D.C.</td>\n",
              "      <td>Corabastos</td>\n",
              "    </tr>\n",
              "    <tr>\n",
              "      <th>2021-01-01</th>\n",
              "      <td>frutas</td>\n",
              "      <td>Mango Tommy</td>\n",
              "      <td>1783.0</td>\n",
              "      <td>Bogota, D.C.</td>\n",
              "      <td>Corabastos</td>\n",
              "    </tr>\n",
              "    <tr>\n",
              "      <th>2021-02-01</th>\n",
              "      <td>frutas</td>\n",
              "      <td>Mango Tommy</td>\n",
              "      <td>1922.0</td>\n",
              "      <td>Bogota, D.C.</td>\n",
              "      <td>Corabastos</td>\n",
              "    </tr>\n",
              "    <tr>\n",
              "      <th>2021-03-01</th>\n",
              "      <td>frutas</td>\n",
              "      <td>Mango Tommy</td>\n",
              "      <td>3288.0</td>\n",
              "      <td>Bogota, D.C.</td>\n",
              "      <td>Corabastos</td>\n",
              "    </tr>\n",
              "    <tr>\n",
              "      <th>2021-04-01</th>\n",
              "      <td>frutas</td>\n",
              "      <td>Mango Tommy</td>\n",
              "      <td>3286.0</td>\n",
              "      <td>Bogota, D.C.</td>\n",
              "      <td>Corabastos</td>\n",
              "    </tr>\n",
              "    <tr>\n",
              "      <th>2021-05-01</th>\n",
              "      <td>frutas</td>\n",
              "      <td>Mango Tommy</td>\n",
              "      <td>2331.0</td>\n",
              "      <td>Bogota, D.C.</td>\n",
              "      <td>Corabastos</td>\n",
              "    </tr>\n",
              "    <tr>\n",
              "      <th>2021-06-01</th>\n",
              "      <td>frutas</td>\n",
              "      <td>Mango Tommy</td>\n",
              "      <td>2695.0</td>\n",
              "      <td>Bogota, D.C.</td>\n",
              "      <td>Corabastos</td>\n",
              "    </tr>\n",
              "    <tr>\n",
              "      <th>2021-07-01</th>\n",
              "      <td>frutas</td>\n",
              "      <td>Mango Tommy</td>\n",
              "      <td>4740.0</td>\n",
              "      <td>Bogota, D.C.</td>\n",
              "      <td>Corabastos</td>\n",
              "    </tr>\n",
              "    <tr>\n",
              "      <th>2021-08-01</th>\n",
              "      <td>frutas</td>\n",
              "      <td>Mango Tommy</td>\n",
              "      <td>6897.0</td>\n",
              "      <td>Bogota, D.C.</td>\n",
              "      <td>Corabastos</td>\n",
              "    </tr>\n",
              "    <tr>\n",
              "      <th>2021-09-01</th>\n",
              "      <td>frutas</td>\n",
              "      <td>Mango Tommy</td>\n",
              "      <td>7254.0</td>\n",
              "      <td>Bogota, D.C.</td>\n",
              "      <td>Corabastos</td>\n",
              "    </tr>\n",
              "    <tr>\n",
              "      <th>2021-10-01</th>\n",
              "      <td>frutas</td>\n",
              "      <td>Mango Tommy</td>\n",
              "      <td>4183.0</td>\n",
              "      <td>Bogota, D.C.</td>\n",
              "      <td>Corabastos</td>\n",
              "    </tr>\n",
              "    <tr>\n",
              "      <th>2021-11-01</th>\n",
              "      <td>frutas</td>\n",
              "      <td>Mango Tommy</td>\n",
              "      <td>2325.0</td>\n",
              "      <td>Bogota, D.C.</td>\n",
              "      <td>Corabastos</td>\n",
              "    </tr>\n",
              "    <tr>\n",
              "      <th>2021-12-01</th>\n",
              "      <td>frutas</td>\n",
              "      <td>Mango Tommy</td>\n",
              "      <td>2210.0</td>\n",
              "      <td>Bogota, D.C.</td>\n",
              "      <td>Corabastos</td>\n",
              "    </tr>\n",
              "    <tr>\n",
              "      <th>2022-01-01</th>\n",
              "      <td>frutas</td>\n",
              "      <td>Mango Tommy</td>\n",
              "      <td>3642.0</td>\n",
              "      <td>Bogota, D.C.</td>\n",
              "      <td>Corabastos</td>\n",
              "    </tr>\n",
              "    <tr>\n",
              "      <th>2022-02-01</th>\n",
              "      <td>frutas</td>\n",
              "      <td>Mango Tommy</td>\n",
              "      <td>5269.0</td>\n",
              "      <td>Bogota, D.C.</td>\n",
              "      <td>Corabastos</td>\n",
              "    </tr>\n",
              "    <tr>\n",
              "      <th>2022-05-01</th>\n",
              "      <td>frutas</td>\n",
              "      <td>Mango Tommy</td>\n",
              "      <td>3434.0</td>\n",
              "      <td>Bogota, D.C.</td>\n",
              "      <td>Corabastos</td>\n",
              "    </tr>\n",
              "    <tr>\n",
              "      <th>2022-06-01</th>\n",
              "      <td>frutas</td>\n",
              "      <td>Mango Tommy</td>\n",
              "      <td>5091.0</td>\n",
              "      <td>Bogota, D.C.</td>\n",
              "      <td>Corabastos</td>\n",
              "    </tr>\n",
              "    <tr>\n",
              "      <th>2022-07-01</th>\n",
              "      <td>frutas</td>\n",
              "      <td>Mango Tommy</td>\n",
              "      <td>6297.0</td>\n",
              "      <td>Bogota, D.C.</td>\n",
              "      <td>Corabastos</td>\n",
              "    </tr>\n",
              "    <tr>\n",
              "      <th>2022-08-01</th>\n",
              "      <td>frutas</td>\n",
              "      <td>Mango Tommy</td>\n",
              "      <td>8248.0</td>\n",
              "      <td>Bogota, D.C.</td>\n",
              "      <td>Corabastos</td>\n",
              "    </tr>\n",
              "    <tr>\n",
              "      <th>2022-09-01</th>\n",
              "      <td>frutas</td>\n",
              "      <td>Mango Tommy</td>\n",
              "      <td>9533.0</td>\n",
              "      <td>Bogota, D.C.</td>\n",
              "      <td>Corabastos</td>\n",
              "    </tr>\n",
              "    <tr>\n",
              "      <th>2022-10-01</th>\n",
              "      <td>frutas</td>\n",
              "      <td>Mango Tommy</td>\n",
              "      <td>5537.0</td>\n",
              "      <td>Bogota, D.C.</td>\n",
              "      <td>Corabastos</td>\n",
              "    </tr>\n",
              "    <tr>\n",
              "      <th>2022-11-01</th>\n",
              "      <td>frutas</td>\n",
              "      <td>Mango Tommy</td>\n",
              "      <td>2529.0</td>\n",
              "      <td>Bogota, D.C.</td>\n",
              "      <td>Corabastos</td>\n",
              "    </tr>\n",
              "    <tr>\n",
              "      <th>2022-12-01</th>\n",
              "      <td>frutas</td>\n",
              "      <td>Mango Tommy</td>\n",
              "      <td>2082.0</td>\n",
              "      <td>Bogota, D.C.</td>\n",
              "      <td>Corabastos</td>\n",
              "    </tr>\n",
              "  </tbody>\n",
              "</table>\n",
              "</div>\n",
              "      <button class=\"colab-df-convert\" onclick=\"convertToInteractive('df-c997a52b-0a2d-4515-ba9f-28c6b7e513da')\"\n",
              "              title=\"Convert this dataframe to an interactive table.\"\n",
              "              style=\"display:none;\">\n",
              "        \n",
              "  <svg xmlns=\"http://www.w3.org/2000/svg\" height=\"24px\"viewBox=\"0 0 24 24\"\n",
              "       width=\"24px\">\n",
              "    <path d=\"M0 0h24v24H0V0z\" fill=\"none\"/>\n",
              "    <path d=\"M18.56 5.44l.94 2.06.94-2.06 2.06-.94-2.06-.94-.94-2.06-.94 2.06-2.06.94zm-11 1L8.5 8.5l.94-2.06 2.06-.94-2.06-.94L8.5 2.5l-.94 2.06-2.06.94zm10 10l.94 2.06.94-2.06 2.06-.94-2.06-.94-.94-2.06-.94 2.06-2.06.94z\"/><path d=\"M17.41 7.96l-1.37-1.37c-.4-.4-.92-.59-1.43-.59-.52 0-1.04.2-1.43.59L10.3 9.45l-7.72 7.72c-.78.78-.78 2.05 0 2.83L4 21.41c.39.39.9.59 1.41.59.51 0 1.02-.2 1.41-.59l7.78-7.78 2.81-2.81c.8-.78.8-2.07 0-2.86zM5.41 20L4 18.59l7.72-7.72 1.47 1.35L5.41 20z\"/>\n",
              "  </svg>\n",
              "      </button>\n",
              "      \n",
              "  <style>\n",
              "    .colab-df-container {\n",
              "      display:flex;\n",
              "      flex-wrap:wrap;\n",
              "      gap: 12px;\n",
              "    }\n",
              "\n",
              "    .colab-df-convert {\n",
              "      background-color: #E8F0FE;\n",
              "      border: none;\n",
              "      border-radius: 50%;\n",
              "      cursor: pointer;\n",
              "      display: none;\n",
              "      fill: #1967D2;\n",
              "      height: 32px;\n",
              "      padding: 0 0 0 0;\n",
              "      width: 32px;\n",
              "    }\n",
              "\n",
              "    .colab-df-convert:hover {\n",
              "      background-color: #E2EBFA;\n",
              "      box-shadow: 0px 1px 2px rgba(60, 64, 67, 0.3), 0px 1px 3px 1px rgba(60, 64, 67, 0.15);\n",
              "      fill: #174EA6;\n",
              "    }\n",
              "\n",
              "    [theme=dark] .colab-df-convert {\n",
              "      background-color: #3B4455;\n",
              "      fill: #D2E3FC;\n",
              "    }\n",
              "\n",
              "    [theme=dark] .colab-df-convert:hover {\n",
              "      background-color: #434B5C;\n",
              "      box-shadow: 0px 1px 3px 1px rgba(0, 0, 0, 0.15);\n",
              "      filter: drop-shadow(0px 1px 2px rgba(0, 0, 0, 0.3));\n",
              "      fill: #FFFFFF;\n",
              "    }\n",
              "  </style>\n",
              "\n",
              "      <script>\n",
              "        const buttonEl =\n",
              "          document.querySelector('#df-c997a52b-0a2d-4515-ba9f-28c6b7e513da button.colab-df-convert');\n",
              "        buttonEl.style.display =\n",
              "          google.colab.kernel.accessAllowed ? 'block' : 'none';\n",
              "\n",
              "        async function convertToInteractive(key) {\n",
              "          const element = document.querySelector('#df-c997a52b-0a2d-4515-ba9f-28c6b7e513da');\n",
              "          const dataTable =\n",
              "            await google.colab.kernel.invokeFunction('convertToInteractive',\n",
              "                                                     [key], {});\n",
              "          if (!dataTable) return;\n",
              "\n",
              "          const docLinkHtml = 'Like what you see? Visit the ' +\n",
              "            '<a target=\"_blank\" href=https://colab.research.google.com/notebooks/data_table.ipynb>data table notebook</a>'\n",
              "            + ' to learn more about interactive tables.';\n",
              "          element.innerHTML = '';\n",
              "          dataTable['output_type'] = 'display_data';\n",
              "          await google.colab.output.renderOutput(dataTable, element);\n",
              "          const docLink = document.createElement('div');\n",
              "          docLink.innerHTML = docLinkHtml;\n",
              "          element.appendChild(docLink);\n",
              "        }\n",
              "      </script>\n",
              "    </div>\n",
              "  </div>\n",
              "  "
            ]
          },
          "metadata": {},
          "execution_count": 115
        }
      ]
    },
    {
      "cell_type": "markdown",
      "source": [
        "##Idea\n",
        "### create a function where if you dont choose a city you get a dataframe with all the countries and only the products given if not then return a dataframe with the product and city given"
      ],
      "metadata": {
        "id": "wdzWCTbJZw_O"
      }
    },
    {
      "cell_type": "code",
      "source": [
        "# the join function map wil give us utomticlly the title of the entire grapichs that we are making\n",
        "t = 'Precio KG de '+(' '.join(map(str, P)))+' en '+(' '.join(map(str, C)))\n"
      ],
      "metadata": {
        "id": "ZXodDhOsqJB_"
      },
      "execution_count": 109,
      "outputs": []
    },
    {
      "cell_type": "code",
      "source": [
        "# why are we seeing a strange graph?\n",
        "# There are different value for the cities all raound the country we need to configure the data to bether understaand this\n",
        "fig, ax = plt.subplots(figsize=(16, 6)) # thiss saves the fig  in the ax \n",
        "ax = sns.lineplot(data=dfpc, x=\"Fecha\", y=\"Precio KG\")# the ax value i the plotting of the cart\n",
        "ax.set(\n",
        "xlabel=\"Fecha\",\n",
        "ylabel=\"Precio KG\",\n",
        ")\n",
        "ax.set_title(t)"
      ],
      "metadata": {
        "colab": {
          "base_uri": "https://localhost:8080/",
          "height": 422
        },
        "id": "N7rEBWpBNS_n",
        "outputId": "ec30a666-d520-46a7-8cb9-30e5eb36570c"
      },
      "execution_count": 118,
      "outputs": [
        {
          "output_type": "execute_result",
          "data": {
            "text/plain": [
              "Text(0.5, 1.0, 'Precio KG de Mango Tommy en Bogota, D.C.')"
            ]
          },
          "metadata": {},
          "execution_count": 118
        },
        {
          "output_type": "display_data",
          "data": {
            "text/plain": [
              "<Figure size 1152x432 with 1 Axes>"
            ],
            "image/png": "[encoded data removed]"
          },
          "metadata": {
            "needs_background": "light"
          }
        }
      ]
    },
    {
      "cell_type": "code",
      "source": [
        "dfpc.describe()"
      ],
      "metadata": {
        "colab": {
          "base_uri": "https://localhost:8080/",
          "height": 300
        },
        "id": "TmFVUvNau7HI",
        "outputId": "35bc2f3d-33ea-4061-9be5-7a5f02e484ae"
      },
      "execution_count": 119,
      "outputs": [
        {
          "output_type": "execute_result",
          "data": {
            "text/plain": [
              "         Precio KG\n",
              "count    46.000000\n",
              "mean   4001.000000\n",
              "std    1952.032058\n",
              "min    1576.000000\n",
              "25%    2529.500000\n",
              "50%    3296.000000\n",
              "75%    5290.000000\n",
              "max    9533.000000"
            ],
            "text/html": [
              "\n",
              "  <div id=\"df-30c291bc-8ff8-4fa9-a2bc-4f94b361d84d\">\n",
              "    <div class=\"colab-df-container\">\n",
              "      <div>\n",
              "<style scoped>\n",
              "    .dataframe tbody tr th:only-of-type {\n",
              "        vertical-align: middle;\n",
              "    }\n",
              "\n",
              "    .dataframe tbody tr th {\n",
              "        vertical-align: top;\n",
              "    }\n",
              "\n",
              "    .dataframe thead th {\n",
              "        text-align: right;\n",
              "    }\n",
              "</style>\n",
              "<table border=\"1\" class=\"dataframe\">\n",
              "  <thead>\n",
              "    <tr style=\"text-align: right;\">\n",
              "      <th></th>\n",
              "      <th>Precio KG</th>\n",
              "    </tr>\n",
              "  </thead>\n",
              "  <tbody>\n",
              "    <tr>\n",
              "      <th>count</th>\n",
              "      <td>46.000000</td>\n",
              "    </tr>\n",
              "    <tr>\n",
              "      <th>mean</th>\n",
              "      <td>4001.000000</td>\n",
              "    </tr>\n",
              "    <tr>\n",
              "      <th>std</th>\n",
              "      <td>1952.032058</td>\n",
              "    </tr>\n",
              "    <tr>\n",
              "      <th>min</th>\n",
              "      <td>1576.000000</td>\n",
              "    </tr>\n",
              "    <tr>\n",
              "      <th>25%</th>\n",
              "      <td>2529.500000</td>\n",
              "    </tr>\n",
              "    <tr>\n",
              "      <th>50%</th>\n",
              "      <td>3296.000000</td>\n",
              "    </tr>\n",
              "    <tr>\n",
              "      <th>75%</th>\n",
              "      <td>5290.000000</td>\n",
              "    </tr>\n",
              "    <tr>\n",
              "      <th>max</th>\n",
              "      <td>9533.000000</td>\n",
              "    </tr>\n",
              "  </tbody>\n",
              "</table>\n",
              "</div>\n",
              "      <button class=\"colab-df-convert\" onclick=\"convertToInteractive('df-30c291bc-8ff8-4fa9-a2bc-4f94b361d84d')\"\n",
              "              title=\"Convert this dataframe to an interactive table.\"\n",
              "              style=\"display:none;\">\n",
              "        \n",
              "  <svg xmlns=\"http://www.w3.org/2000/svg\" height=\"24px\"viewBox=\"0 0 24 24\"\n",
              "       width=\"24px\">\n",
              "    <path d=\"M0 0h24v24H0V0z\" fill=\"none\"/>\n",
              "    <path d=\"M18.56 5.44l.94 2.06.94-2.06 2.06-.94-2.06-.94-.94-2.06-.94 2.06-2.06.94zm-11 1L8.5 8.5l.94-2.06 2.06-.94-2.06-.94L8.5 2.5l-.94 2.06-2.06.94zm10 10l.94 2.06.94-2.06 2.06-.94-2.06-.94-.94-2.06-.94 2.06-2.06.94z\"/><path d=\"M17.41 7.96l-1.37-1.37c-.4-.4-.92-.59-1.43-.59-.52 0-1.04.2-1.43.59L10.3 9.45l-7.72 7.72c-.78.78-.78 2.05 0 2.83L4 21.41c.39.39.9.59 1.41.59.51 0 1.02-.2 1.41-.59l7.78-7.78 2.81-2.81c.8-.78.8-2.07 0-2.86zM5.41 20L4 18.59l7.72-7.72 1.47 1.35L5.41 20z\"/>\n",
              "  </svg>\n",
              "      </button>\n",
              "      \n",
              "  <style>\n",
              "    .colab-df-container {\n",
              "      display:flex;\n",
              "      flex-wrap:wrap;\n",
              "      gap: 12px;\n",
              "    }\n",
              "\n",
              "    .colab-df-convert {\n",
              "      background-color: #E8F0FE;\n",
              "      border: none;\n",
              "      border-radius: 50%;\n",
              "      cursor: pointer;\n",
              "      display: none;\n",
              "      fill: #1967D2;\n",
              "      height: 32px;\n",
              "      padding: 0 0 0 0;\n",
              "      width: 32px;\n",
              "    }\n",
              "\n",
              "    .colab-df-convert:hover {\n",
              "      background-color: #E2EBFA;\n",
              "      box-shadow: 0px 1px 2px rgba(60, 64, 67, 0.3), 0px 1px 3px 1px rgba(60, 64, 67, 0.15);\n",
              "      fill: #174EA6;\n",
              "    }\n",
              "\n",
              "    [theme=dark] .colab-df-convert {\n",
              "      background-color: #3B4455;\n",
              "      fill: #D2E3FC;\n",
              "    }\n",
              "\n",
              "    [theme=dark] .colab-df-convert:hover {\n",
              "      background-color: #434B5C;\n",
              "      box-shadow: 0px 1px 3px 1px rgba(0, 0, 0, 0.15);\n",
              "      filter: drop-shadow(0px 1px 2px rgba(0, 0, 0, 0.3));\n",
              "      fill: #FFFFFF;\n",
              "    }\n",
              "  </style>\n",
              "\n",
              "      <script>\n",
              "        const buttonEl =\n",
              "          document.querySelector('#df-30c291bc-8ff8-4fa9-a2bc-4f94b361d84d button.colab-df-convert');\n",
              "        buttonEl.style.display =\n",
              "          google.colab.kernel.accessAllowed ? 'block' : 'none';\n",
              "\n",
              "        async function convertToInteractive(key) {\n",
              "          const element = document.querySelector('#df-30c291bc-8ff8-4fa9-a2bc-4f94b361d84d');\n",
              "          const dataTable =\n",
              "            await google.colab.kernel.invokeFunction('convertToInteractive',\n",
              "                                                     [key], {});\n",
              "          if (!dataTable) return;\n",
              "\n",
              "          const docLinkHtml = 'Like what you see? Visit the ' +\n",
              "            '<a target=\"_blank\" href=https://colab.research.google.com/notebooks/data_table.ipynb>data table notebook</a>'\n",
              "            + ' to learn more about interactive tables.';\n",
              "          element.innerHTML = '';\n",
              "          dataTable['output_type'] = 'display_data';\n",
              "          await google.colab.output.renderOutput(dataTable, element);\n",
              "          const docLink = document.createElement('div');\n",
              "          docLink.innerHTML = docLinkHtml;\n",
              "          element.appendChild(docLink);\n",
              "        }\n",
              "      </script>\n",
              "    </div>\n",
              "  </div>\n",
              "  "
            ]
          },
          "metadata": {},
          "execution_count": 119
        }
      ]
    },
    {
      "cell_type": "code",
      "source": [
        "# instead of having a list we could also see it in the graph to get a better understanding of the min a max values\n",
        "# this is a new datafrme called point\n",
        "point = dfpc[(dfpc['Precio KG'] == p_min) + (dfpc['Precio KG'] == p_max)]\n"
      ],
      "metadata": {
        "id": "t9NnyBhEyD5g"
      },
      "execution_count": 120,
      "outputs": []
    },
    {
      "cell_type": "code",
      "source": [
        "# this is the y axis list that will have the mean value over the entire len of the dataframe\n",
        "y=dfpc['Precio KG']\n",
        "x=dfpc.index\n",
        "y_avg = [np.mean(y)] * len(x)\n",
        "# now we need a new line but with the mean value of the year 2022 but that crosses the entire year\n",
        "y_22 = dfpc.loc[\"2022\":\"2023\",\"Precio KG\"]\n",
        "y_avg22=[np.mean(y_22)]* len(x)"
      ],
      "metadata": {
        "id": "XJ50lrnnUzye"
      },
      "execution_count": 121,
      "outputs": []
    },
    {
      "cell_type": "code",
      "source": [
        "# this proof that this linnne of code will change be a range of values that are all the same average and has a lenght of a specified array\n",
        "[np.mean(y_avg22)]* len(x)"
      ],
      "metadata": {
        "id": "43RrSEXw3SrG",
        "colab": {
          "base_uri": "https://localhost:8080/"
        },
        "outputId": "664d77e8-e894-459c-bd60-91538140bf6c"
      },
      "execution_count": 122,
      "outputs": [
        {
          "output_type": "execute_result",
          "data": {
            "text/plain": [
              "[5166.200000000002,\n",
              " 5166.200000000002,\n",
              " 5166.200000000002,\n",
              " 5166.200000000002,\n",
              " 5166.200000000002,\n",
              " 5166.200000000002,\n",
              " 5166.200000000002,\n",
              " 5166.200000000002,\n",
              " 5166.200000000002,\n",
              " 5166.200000000002,\n",
              " 5166.200000000002,\n",
              " 5166.200000000002,\n",
              " 5166.200000000002,\n",
              " 5166.200000000002,\n",
              " 5166.200000000002,\n",
              " 5166.200000000002,\n",
              " 5166.200000000002,\n",
              " 5166.200000000002,\n",
              " 5166.200000000002,\n",
              " 5166.200000000002,\n",
              " 5166.200000000002,\n",
              " 5166.200000000002,\n",
              " 5166.200000000002,\n",
              " 5166.200000000002,\n",
              " 5166.200000000002,\n",
              " 5166.200000000002,\n",
              " 5166.200000000002,\n",
              " 5166.200000000002,\n",
              " 5166.200000000002,\n",
              " 5166.200000000002,\n",
              " 5166.200000000002,\n",
              " 5166.200000000002,\n",
              " 5166.200000000002,\n",
              " 5166.200000000002,\n",
              " 5166.200000000002,\n",
              " 5166.200000000002,\n",
              " 5166.200000000002,\n",
              " 5166.200000000002,\n",
              " 5166.200000000002,\n",
              " 5166.200000000002,\n",
              " 5166.200000000002,\n",
              " 5166.200000000002,\n",
              " 5166.200000000002,\n",
              " 5166.200000000002,\n",
              " 5166.200000000002,\n",
              " 5166.200000000002]"
            ]
          },
          "metadata": {},
          "execution_count": 122
        }
      ]
    },
    {
      "cell_type": "code",
      "source": [
        "y_avg22 = dfpc.loc[\"2022\":\"2023\",\"Precio KG\"]"
      ],
      "metadata": {
        "id": "iKqH96Yr3Srm"
      },
      "execution_count": 123,
      "outputs": []
    },
    {
      "cell_type": "code",
      "source": [
        "# here i noted that is is first necessary to call the size of the figure general atrubites like the x annd y labels \n",
        "# and then set every plot that we wanted\n",
        "x = dfpc.index\n",
        "y = dfpc['Precio KG']\n",
        "xs = point.index\n",
        "ys = point['Precio KG']\n",
        "point = dfpc[(dfpc['Precio KG'] == p_min) + (dfpc['Precio KG'] == p_max)]\n",
        "y_avg = [np.mean(y)] * len(x)\n",
        "y_22 = dfpc.loc[\"2022\":\"2023\",\"Precio KG\"]\n",
        "y_avg22=[np.mean(y_22)]* len(x)\n",
        "plt.figure(figsize=(16,6))\n",
        "plt.title(t)\n",
        "plt.xlabel('Fecha')\n",
        "plt.ylabel('Precio KG')\n",
        "plt.plot(x, y)\n",
        "plt.scatter(xs,ys)\n",
        "plt.plot(x, y_avg, color='red', ls='--')\n",
        "plt.plot(x,y_avg22, color=\"green\",ls=\"--\")\n",
        "plt.show()"
      ],
      "metadata": {
        "colab": {
          "base_uri": "https://localhost:8080/",
          "height": 404
        },
        "outputId": "45fa102a-e97c-404e-9c42-65a0d2d8b058",
        "id": "MKBoOi3OafEQ"
      },
      "execution_count": 124,
      "outputs": [
        {
          "output_type": "display_data",
          "data": {
            "text/plain": [
              "<Figure size 1152x432 with 1 Axes>"
            ],
            "image/png": "[encoded data removed]"
          },
          "metadata": {
            "needs_background": "light"
          }
        }
      ]
    },
    {
      "cell_type": "code",
      "source": [
        "# here i noted that is is first necessary to call the size of the figure general atrubites like the x annd y labels \n",
        "# and then set every plot that we wanted\n",
        "x = dfpc.index\n",
        "y = dfpc['Precio KG']\n",
        "xs = point.index\n",
        "ys = point['Precio KG']\n",
        "point = dfpc[(dfpc['Precio KG'] == p_min) + (dfpc['Precio KG'] == p_max)]\n",
        "y_avg = [np.mean(y)] * len(x)\n",
        "y_22 = dfpc.loc[\"2022\":\"2023\",\"Precio KG\"]\n",
        "y_avg22=[np.mean(y_22)]* len(x)\n",
        "plt.figure(figsize=(16,6))\n",
        "plt.title(t)\n",
        "plt.xlabel('Fecha')\n",
        "plt.ylabel('Precio KG')\n",
        "sns.lineplot(data =dfpc,x='Fecha',y='Precio KG',label ='PRICE')\n",
        "plt.scatter(xs,ys,label ='max and min')\n",
        "plt.plot(x, y_avg, color='red', ls='--',label ='avg 2019-2022')\n",
        "plt.plot(x,y_avg22, color=\"green\",ls=\"--\",label='avg 2022')\n",
        "plt.legend(loc=\"upper left\")\n",
        "plt.show()\n",
        "\n",
        "# now you can see that thiss line of seaborn .plotline is a better fit for our data \n",
        "# as the blue line representes the mean of all the valuess and \n",
        "# the gradient blue will represent data that represent each mean of the day calculated "
      ],
      "metadata": {
        "colab": {
          "base_uri": "https://localhost:8080/",
          "height": 404
        },
        "outputId": "5a2bb06d-f33c-4109-a3a0-995ae451256f",
        "id": "FzE7lWceEbS5"
      },
      "execution_count": 125,
      "outputs": [
        {
          "output_type": "display_data",
          "data": {
            "text/plain": [
              "<Figure size 1152x432 with 1 Axes>"
            ],
            "image/png": "[encoded data removed]"
          },
          "metadata": {
            "needs_background": "light"
          }
        }
      ]
    },
    {
      "cell_type": "code",
      "source": [
        "# here we can see that for a single day of the month we get various values thanks to the different retailer markets\n",
        "# that is why we get a timelinen gragh that does'nt look normal \n",
        "# maybe we should use other type of grapgh to better represent the differrent prices that you can see in a normal day \n",
        "dfpc.head()\n",
        "'how to make a candle timeline in matplotlib'"
      ],
      "metadata": {
        "colab": {
          "base_uri": "https://localhost:8080/",
          "height": 36
        },
        "id": "OzOIEdhi9uVG",
        "outputId": "b8d3febf-20aa-4b80-f032-fe978622d4a0"
      },
      "execution_count": 126,
      "outputs": [
        {
          "output_type": "execute_result",
          "data": {
            "text/plain": [
              "'how to make a candle timeline in matplotlib'"
            ],
            "application/vnd.google.colaboratory.intrinsic+json": {
              "type": "string"
            }
          },
          "metadata": {},
          "execution_count": 126
        }
      ]
    },
    {
      "cell_type": "code",
      "source": [
        "sns.lineplot(data=dfpc, x=\"Fecha\", y=\"Precio KG\")"
      ],
      "metadata": {
        "colab": {
          "base_uri": "https://localhost:8080/",
          "height": 297
        },
        "id": "7p1bahy9D73V",
        "outputId": "ee08b3a3-2a20-4eab-949f-4ce7e0c0169e"
      },
      "execution_count": 127,
      "outputs": [
        {
          "output_type": "execute_result",
          "data": {
            "text/plain": [
              "<Axes: xlabel='Fecha', ylabel='Precio KG'>"
            ]
          },
          "metadata": {},
          "execution_count": 127
        },
        {
          "output_type": "display_data",
          "data": {
            "text/plain": [
              "<Figure size 432x288 with 1 Axes>"
            ],
            "image/png": "[encoded data removed]"
          },
          "metadata": {
            "needs_background": "light"
          }
        }
      ]
    },
    {
      "cell_type": "code",
      "source": [
        "# here you will find the prices with less and more variationa across the cities \n",
        "print(dfpc.describe().round(),\n",
        "      t,dfp.describe().round())"
      ],
      "metadata": {
        "id": "nZ0u2Cvwchac",
        "colab": {
          "base_uri": "https://localhost:8080/",
          "height": 207
        },
        "outputId": "650f6e15-0aca-46ef-df86-e1a4355d9255"
      },
      "execution_count": 138,
      "outputs": [
        {
          "output_type": "error",
          "ename": "TypeError",
          "evalue": "ignored",
          "traceback": [
            "\u001b[0;31m---------------------------------------------------------------------------\u001b[0m",
            "\u001b[0;31mTypeError\u001b[0m                                 Traceback (most recent call last)",
            "\u001b[0;32m<ipython-input-138-e528f51e7d8f>\u001b[0m in \u001b[0;36m<module>\u001b[0;34m\u001b[0m\n\u001b[1;32m      1\u001b[0m \u001b[0;31m# here you will find the prices with less and more variationa across the cities\u001b[0m\u001b[0;34m\u001b[0m\u001b[0;34m\u001b[0m\u001b[0m\n\u001b[0;32m----> 2\u001b[0;31m print(dfpc.describe().round(),\n\u001b[0m\u001b[1;32m      3\u001b[0m       t,dfp.describe().round())\n",
            "\u001b[0;31mTypeError\u001b[0m: 'Series' object is not callable"
          ]
        }
      ]
    },
    {
      "cell_type": "code",
      "source": [
        "std=dfp.groupby('Ciudad')['Precio KG'].std().round()"
      ],
      "metadata": {
        "id": "z1M-O_HymbaH"
      },
      "execution_count": 136,
      "outputs": []
    },
    {
      "cell_type": "code",
      "source": [
        "std.nlargest(5)"
      ],
      "metadata": {
        "colab": {
          "base_uri": "https://localhost:8080/"
        },
        "id": "tj2dQIkSvncD",
        "outputId": "5d11d92a-bcf5-4760-cee6-e6abd32731b4"
      },
      "execution_count": 134,
      "outputs": [
        {
          "output_type": "execute_result",
          "data": {
            "text/plain": [
              "Ciudad\n",
              "Ubate (Cundinamarca)         2343.0\n",
              "Bogota, D.C.                 1952.0\n",
              "La Ceja (Antioquia)          1856.0\n",
              "Rionegro (Antioquia)         1825.0\n",
              "Cartago (Valle del Cauca)    1814.0\n",
              "Name: Precio KG, dtype: float64"
            ]
          },
          "metadata": {},
          "execution_count": 134
        }
      ]
    },
    {
      "cell_type": "code",
      "source": [
        "std.nsmallest(5)"
      ],
      "metadata": {
        "colab": {
          "base_uri": "https://localhost:8080/"
        },
        "id": "Ua_kGVtOowk-",
        "outputId": "643c919b-f12e-420c-edfb-b476e1bac582"
      },
      "execution_count": 135,
      "outputs": [
        {
          "output_type": "execute_result",
          "data": {
            "text/plain": [
              "Ciudad\n",
              "Cartagena                         290.0\n",
              "Buenaventura (Valle del Cauca)    526.0\n",
              "Monteria                          596.0\n",
              "Armenia                           611.0\n",
              "Ibague                            701.0\n",
              "Name: Precio KG, dtype: float64"
            ]
          },
          "metadata": {},
          "execution_count": 135
        }
      ]
    },
    {
      "cell_type": "code",
      "source": [],
      "metadata": {
        "id": "I6OYw9__uOaN"
      },
      "execution_count": null,
      "outputs": []
    }
  ],
  "metadata": {
    "colab": {
      "provenance": [],
      "authorship_tag": "ABX9TyODB441+9jVFD9QQ5rVgYG/",
      "include_colab_link": true
    },
    "kernelspec": {
      "display_name": "Python 3",
      "name": "python3"
    },
    "language_info": {
      "name": "python"
    }
  },
  "nbformat": 4,
  "nbformat_minor": 0
}